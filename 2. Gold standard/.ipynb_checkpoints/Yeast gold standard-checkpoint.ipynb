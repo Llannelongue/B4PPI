{
 "cells": [
  {
   "cell_type": "code",
   "execution_count": 1,
   "metadata": {
    "ExecuteTime": {
     "end_time": "2020-12-19T17:33:11.777311Z",
     "start_time": "2020-12-19T17:32:53.391807Z"
    },
    "execution": {
     "iopub.execute_input": "2022-02-02T10:30:31.667624Z",
     "iopub.status.busy": "2022-02-02T10:30:31.666647Z",
     "iopub.status.idle": "2022-02-02T10:30:36.756512Z",
     "shell.execute_reply": "2022-02-02T10:30:36.755753Z",
     "shell.execute_reply.started": "2022-02-02T10:30:31.667326Z"
    }
   },
   "outputs": [],
   "source": [
    "import pandas as pd\n",
    "import numpy as np\n",
    "import os\n",
    "import re\n",
    "import matplotlib.pyplot as plt\n",
    "import seaborn as sns\n",
    "import requests\n",
    "import urllib\n",
    "import re\n",
    "from io import StringIO\n",
    "import gzip\n",
    "from ftplib import FTP\n",
    "import random\n",
    "import math\n",
    "import copy\n",
    "import pickle as pkl\n",
    "\n",
    "from toolbox import *\n",
    "\n",
    "%matplotlib inline\n",
    "sns.set()"
   ]
  },
  {
   "cell_type": "code",
   "execution_count": 2,
   "metadata": {
    "ExecuteTime": {
     "end_time": "2020-12-19T17:33:11.795484Z",
     "start_time": "2020-12-19T17:33:11.790515Z"
    },
    "execution": {
     "iopub.execute_input": "2022-02-02T10:30:36.757839Z",
     "iopub.status.busy": "2022-02-02T10:30:36.757668Z",
     "iopub.status.idle": "2022-02-02T10:30:36.761436Z",
     "shell.execute_reply": "2022-02-02T10:30:36.760957Z",
     "shell.execute_reply.started": "2022-02-02T10:30:36.757813Z"
    }
   },
   "outputs": [],
   "source": [
    "sns.set(rc={'figure.figsize':(14,6)})"
   ]
  },
  {
   "cell_type": "code",
   "execution_count": 3,
   "metadata": {
    "ExecuteTime": {
     "end_time": "2020-12-19T17:33:11.850488Z",
     "start_time": "2020-12-19T17:33:11.804531Z"
    },
    "execution": {
     "iopub.execute_input": "2022-02-02T10:30:36.762875Z",
     "iopub.status.busy": "2022-02-02T10:30:36.762731Z",
     "iopub.status.idle": "2022-02-02T10:30:36.801356Z",
     "shell.execute_reply": "2022-02-02T10:30:36.800821Z",
     "shell.execute_reply.started": "2022-02-02T10:30:36.762851Z"
    }
   },
   "outputs": [],
   "source": [
    "cfg = load_cfg()\n",
    "\n",
    "logVersions = load_LogVersions()"
   ]
  },
  {
   "cell_type": "markdown",
   "metadata": {},
   "source": [
    "# Load data"
   ]
  },
  {
   "cell_type": "markdown",
   "metadata": {},
   "source": [
    "## IntAct"
   ]
  },
  {
   "cell_type": "markdown",
   "metadata": {},
   "source": [
    "**Using only interactions with scores above a certain threshold (filtered)**"
   ]
  },
  {
   "cell_type": "code",
   "execution_count": 5,
   "metadata": {
    "ExecuteTime": {
     "end_time": "2020-12-19T17:33:16.386603Z",
     "start_time": "2020-12-19T17:33:16.096674Z"
    },
    "execution": {
     "iopub.execute_input": "2022-02-02T10:30:36.817053Z",
     "iopub.status.busy": "2022-02-02T10:30:36.816910Z",
     "iopub.status.idle": "2022-02-02T10:30:37.195452Z",
     "shell.execute_reply": "2022-02-02T10:30:37.194823Z",
     "shell.execute_reply.started": "2022-02-02T10:30:36.817028Z"
    }
   },
   "outputs": [
    {
     "name": "stdout",
     "output_type": "stream",
     "text": [
      "DataFrame: 43,068 rows \t 3 columns\n"
     ]
    },
    {
     "data": {
      "text/html": [
       "<div>\n",
       "<style scoped>\n",
       "    .dataframe tbody tr th:only-of-type {\n",
       "        vertical-align: middle;\n",
       "    }\n",
       "\n",
       "    .dataframe tbody tr th {\n",
       "        vertical-align: top;\n",
       "    }\n",
       "\n",
       "    .dataframe thead th {\n",
       "        text-align: right;\n",
       "    }\n",
       "</style>\n",
       "<table border=\"1\" class=\"dataframe\">\n",
       "  <thead>\n",
       "    <tr style=\"text-align: right;\">\n",
       "      <th></th>\n",
       "      <th>uniprotID_A</th>\n",
       "      <th>uniprotID_B</th>\n",
       "      <th>intact-miscore</th>\n",
       "    </tr>\n",
       "  </thead>\n",
       "  <tbody>\n",
       "    <tr>\n",
       "      <th>0</th>\n",
       "      <td>P04050</td>\n",
       "      <td>P38827</td>\n",
       "      <td>0.22</td>\n",
       "    </tr>\n",
       "    <tr>\n",
       "      <th>1</th>\n",
       "      <td>P15019</td>\n",
       "      <td>P53228</td>\n",
       "      <td>0.22</td>\n",
       "    </tr>\n",
       "    <tr>\n",
       "      <th>2</th>\n",
       "      <td>P46970</td>\n",
       "      <td>Q03214</td>\n",
       "      <td>0.27</td>\n",
       "    </tr>\n",
       "    <tr>\n",
       "      <th>3</th>\n",
       "      <td>P17558</td>\n",
       "      <td>P38972</td>\n",
       "      <td>0.27</td>\n",
       "    </tr>\n",
       "    <tr>\n",
       "      <th>4</th>\n",
       "      <td>P53173</td>\n",
       "      <td>Q12234</td>\n",
       "      <td>0.27</td>\n",
       "    </tr>\n",
       "  </tbody>\n",
       "</table>\n",
       "</div>"
      ],
      "text/plain": [
       "  uniprotID_A uniprotID_B  intact-miscore\n",
       "0      P04050      P38827            0.22\n",
       "1      P15019      P53228            0.22\n",
       "2      P46970      Q03214            0.27\n",
       "3      P17558      P38972            0.27\n",
       "4      P53173      Q12234            0.27"
      ]
     },
     "metadata": {},
     "output_type": "display_data"
    }
   ],
   "source": [
    "intact = pd.read_pickle(\n",
    "    os.path.join(cfg['outputPreprocessingIntAct'], \n",
    "                 \"intact_yeast_allScores_v{}.pkl\".format(logVersions['IntAct']['preprocessed']['yeast'])\n",
    "                )\n",
    ")\n",
    "glance(intact)"
   ]
  },
  {
   "cell_type": "code",
   "execution_count": 6,
   "metadata": {
    "execution": {
     "iopub.execute_input": "2022-02-02T10:30:37.196519Z",
     "iopub.status.busy": "2022-02-02T10:30:37.196336Z",
     "iopub.status.idle": "2022-02-02T10:30:37.200492Z",
     "shell.execute_reply": "2022-02-02T10:30:37.199970Z",
     "shell.execute_reply.started": "2022-02-02T10:30:37.196491Z"
    }
   },
   "outputs": [],
   "source": [
    "allIDs_intact = pd.concat([intact.uniprotID_A,intact.uniprotID_B])"
   ]
  },
  {
   "cell_type": "markdown",
   "metadata": {},
   "source": [
    "## UniProt"
   ]
  },
  {
   "cell_type": "code",
   "execution_count": 7,
   "metadata": {
    "ExecuteTime": {
     "end_time": "2020-12-19T17:33:21.349834Z",
     "start_time": "2020-12-19T17:33:21.270917Z"
    },
    "execution": {
     "iopub.execute_input": "2022-02-02T10:30:37.201427Z",
     "iopub.status.busy": "2022-02-02T10:30:37.201274Z",
     "iopub.status.idle": "2022-02-02T10:30:37.275413Z",
     "shell.execute_reply": "2022-02-02T10:30:37.274908Z",
     "shell.execute_reply.started": "2022-02-02T10:30:37.201402Z"
    }
   },
   "outputs": [
    {
     "name": "stdout",
     "output_type": "stream",
     "text": [
      "DataFrame: 6,721 rows \t 1 columns\n"
     ]
    },
    {
     "data": {
      "text/html": [
       "<div>\n",
       "<style scoped>\n",
       "    .dataframe tbody tr th:only-of-type {\n",
       "        vertical-align: middle;\n",
       "    }\n",
       "\n",
       "    .dataframe tbody tr th {\n",
       "        vertical-align: top;\n",
       "    }\n",
       "\n",
       "    .dataframe thead th {\n",
       "        text-align: right;\n",
       "    }\n",
       "</style>\n",
       "<table border=\"1\" class=\"dataframe\">\n",
       "  <thead>\n",
       "    <tr style=\"text-align: right;\">\n",
       "      <th></th>\n",
       "      <th>uniprotID</th>\n",
       "    </tr>\n",
       "  </thead>\n",
       "  <tbody>\n",
       "    <tr>\n",
       "      <th>0</th>\n",
       "      <td>A0A023PXA5</td>\n",
       "    </tr>\n",
       "    <tr>\n",
       "      <th>1</th>\n",
       "      <td>A0A023PXB0</td>\n",
       "    </tr>\n",
       "    <tr>\n",
       "      <th>2</th>\n",
       "      <td>A0A023PXB5</td>\n",
       "    </tr>\n",
       "    <tr>\n",
       "      <th>3</th>\n",
       "      <td>A0A023PXB9</td>\n",
       "    </tr>\n",
       "    <tr>\n",
       "      <th>4</th>\n",
       "      <td>A0A023PXC2</td>\n",
       "    </tr>\n",
       "  </tbody>\n",
       "</table>\n",
       "</div>"
      ],
      "text/plain": [
       "    uniprotID\n",
       "0  A0A023PXA5\n",
       "1  A0A023PXB0\n",
       "2  A0A023PXB5\n",
       "3  A0A023PXB9\n",
       "4  A0A023PXC2"
      ]
     },
     "metadata": {},
     "output_type": "display_data"
    }
   ],
   "source": [
    "uniprotIDs = pd.read_csv(\n",
    "        os.path.join(cfg['rawDataUniProt'], \n",
    "                     \"uniprot_allProteins_yeast_v{}.pkl\".format(logVersions['UniProt']['yeast']['rawData'])),\n",
    "        header=None,\n",
    "        names=['uniprotID']\n",
    "    )\n",
    "glance(uniprotIDs)"
   ]
  },
  {
   "cell_type": "markdown",
   "metadata": {},
   "source": [
    "## Hubs"
   ]
  },
  {
   "cell_type": "code",
   "execution_count": 8,
   "metadata": {
    "execution": {
     "iopub.execute_input": "2022-02-02T10:30:37.276496Z",
     "iopub.status.busy": "2022-02-02T10:30:37.276265Z",
     "iopub.status.idle": "2022-02-02T10:30:37.302723Z",
     "shell.execute_reply": "2022-02-02T10:30:37.302096Z",
     "shell.execute_reply.started": "2022-02-02T10:30:37.276415Z"
    }
   },
   "outputs": [
    {
     "name": "stdout",
     "output_type": "stream",
     "text": [
      "list: len 1195\n",
      "['P11484', 'P10591', 'P32589', 'P10592', 'P40150']\n"
     ]
    }
   ],
   "source": [
    "path0 = os.path.join(\n",
    "    cfg['outputPreprocessingIntAct'], \n",
    "    \"listHubs_yeast_20p_v{}.pkl\".format(logVersions['IntAct']['preprocessed']['yeast'])\n",
    ")\n",
    "\n",
    "with open(path0, 'rb') as f:\n",
    "    list_hubs20 = pkl.load(f)\n",
    "\n",
    "glance(list_hubs20)"
   ]
  },
  {
   "cell_type": "markdown",
   "metadata": {},
   "source": [
    "# EDA"
   ]
  },
  {
   "cell_type": "code",
   "execution_count": 9,
   "metadata": {
    "ExecuteTime": {
     "end_time": "2020-12-19T17:33:22.646578Z",
     "start_time": "2020-12-19T17:33:22.573031Z"
    },
    "execution": {
     "iopub.execute_input": "2022-02-02T10:30:37.305818Z",
     "iopub.status.busy": "2022-02-02T10:30:37.305550Z",
     "iopub.status.idle": "2022-02-02T10:30:37.460089Z",
     "shell.execute_reply": "2022-02-02T10:30:37.459438Z",
     "shell.execute_reply.started": "2022-02-02T10:30:37.305775Z"
    }
   },
   "outputs": [
    {
     "name": "stdout",
     "output_type": "stream",
     "text": [
      "Number of interactions: 43,068\n",
      "Number of unique proteins: 5,679 / 6,721 (84.50%)\n"
     ]
    }
   ],
   "source": [
    "foo = set(allIDs_intact)\n",
    "\n",
    "baar = len(uniprotIDs)\n",
    "\n",
    "print(f\"Number of interactions: {len(intact):,}\")\n",
    "print(\"Number of unique proteins: {:,} / {:,} ({:.2%})\".format(len(foo), baar, len(foo)/baar))"
   ]
  },
  {
   "cell_type": "code",
   "execution_count": 10,
   "metadata": {
    "ExecuteTime": {
     "end_time": "2020-12-19T17:33:25.843575Z",
     "start_time": "2020-12-19T17:33:25.051947Z"
    },
    "execution": {
     "iopub.execute_input": "2022-02-02T10:30:37.461710Z",
     "iopub.status.busy": "2022-02-02T10:30:37.461506Z",
     "iopub.status.idle": "2022-02-02T10:30:37.796851Z",
     "shell.execute_reply": "2022-02-02T10:30:37.796244Z",
     "shell.execute_reply.started": "2022-02-02T10:30:37.461677Z"
    }
   },
   "outputs": [
    {
     "data": {
      "image/png": "[encoded data removed]",
      "text/plain": [
       "<Figure size 1008x432 with 1 Axes>"
      ]
     },
     "metadata": {},
     "output_type": "display_data"
    }
   ],
   "source": [
    "valCounts = allIDs_intact.value_counts()\n",
    "\n",
    "plt.plot(range(len(valCounts)), valCounts.values)\n",
    "plt.xlabel('')\n",
    "plt.ylabel('Number of interactions')\n",
    "plt.title('Number of interactions per protein in IntAct (cleaned)');"
   ]
  },
  {
   "cell_type": "code",
   "execution_count": 11,
   "metadata": {
    "execution": {
     "iopub.execute_input": "2022-02-02T10:30:37.798041Z",
     "iopub.status.busy": "2022-02-02T10:30:37.797850Z",
     "iopub.status.idle": "2022-02-02T10:30:37.881629Z",
     "shell.execute_reply": "2022-02-02T10:30:37.880575Z",
     "shell.execute_reply.started": "2022-02-02T10:30:37.798010Z"
    }
   },
   "outputs": [],
   "source": [
    "def EDA_interactionsPerProtein(df, list_hubs, onlyHub=False):\n",
    "    \n",
    "    listID = pd.concat([intact.uniprotID_A,intact.uniprotID_B])\n",
    "    \n",
    "    if not onlyHub:\n",
    "        print(\"-- Percentiles of number of interactions per protein:\")\n",
    "        foo = list(np.linspace(0.1,0.9,9))+list(np.linspace(0.91,0.99,9))\n",
    "        print(listID.value_counts().describe(percentiles = foo))\n",
    "        print()\n",
    "\n",
    "        print(\"-- Bigger hubs:\")\n",
    "        print(listID.value_counts()[:10])\n",
    "        print()\n",
    "\n",
    "        print(f'-- Official list of hubs: {len(list_hubs):,} proteins')\n",
    "        print()\n",
    "\n",
    "    bar = df.loc[df.uniprotID_A.isin(list_hubs)|df.uniprotID_B.isin(list_hubs)]\n",
    "    print(f\"Contribution of the hubs (at least one protein): {len(bar):,} interactions out of {len(df):,} ({len(bar)/len(df):.2%})\")\n",
    "    baar = df.loc[df.uniprotID_A.isin(list_hubs)&df.uniprotID_B.isin(list_hubs)]\n",
    "    print(f\"... both proteins: {len(baar):,} interactions out of {len(df):,} ({len(baar)/len(df):.2%})\")\n",
    "    print(f\"... and {len(df)-len(bar):,} interactions with no hubs at all\")\n",
    "    print()\n",
    "    "
   ]
  },
  {
   "cell_type": "code",
   "execution_count": 12,
   "metadata": {
    "execution": {
     "iopub.execute_input": "2022-02-02T10:30:37.884452Z",
     "iopub.status.busy": "2022-02-02T10:30:37.883823Z",
     "iopub.status.idle": "2022-02-02T10:30:37.963092Z",
     "shell.execute_reply": "2022-02-02T10:30:37.962509Z",
     "shell.execute_reply.started": "2022-02-02T10:30:37.884237Z"
    }
   },
   "outputs": [
    {
     "name": "stdout",
     "output_type": "stream",
     "text": [
      "-- Percentiles of number of interactions per protein:\n",
      "count    5679.000000\n",
      "mean       15.167459\n",
      "std        75.410818\n",
      "min         1.000000\n",
      "10%         1.000000\n",
      "20%         3.000000\n",
      "30%         4.000000\n",
      "40%         6.000000\n",
      "50%         7.000000\n",
      "60%        10.000000\n",
      "70%        13.000000\n",
      "80%        17.000000\n",
      "90%        26.000000\n",
      "91%        28.000000\n",
      "92%        29.000000\n",
      "93%        31.000000\n",
      "94%        33.000000\n",
      "95%        37.000000\n",
      "96%        42.000000\n",
      "97%        49.000000\n",
      "98%        60.000000\n",
      "99%        95.220000\n",
      "max      3285.000000\n",
      "dtype: float64\n",
      "\n",
      "-- Bigger hubs:\n",
      "P11484    3285\n",
      "P10591    2524\n",
      "P32589    1959\n",
      "P10592    1957\n",
      "P40150    1243\n",
      "P02829    1120\n",
      "P25491     804\n",
      "P33416     803\n",
      "P38788     676\n",
      "Q02159     604\n",
      "dtype: int64\n",
      "\n",
      "-- Official list of hubs: 1,195 proteins\n",
      "\n",
      "Contribution of the hubs (at least one protein): 40,177 interactions out of 43,068 (93.29%)\n",
      "... both proteins: 17,452 interactions out of 43,068 (40.52%)\n",
      "... and 2,891 interactions with no hubs at all\n",
      "\n"
     ]
    }
   ],
   "source": [
    "EDA_interactionsPerProtein(df=intact, list_hubs=list_hubs20)"
   ]
  },
  {
   "cell_type": "markdown",
   "metadata": {},
   "source": [
    "# Create positive set"
   ]
  },
  {
   "cell_type": "code",
   "execution_count": 13,
   "metadata": {
    "execution": {
     "iopub.execute_input": "2022-02-02T10:30:37.964055Z",
     "iopub.status.busy": "2022-02-02T10:30:37.963897Z",
     "iopub.status.idle": "2022-02-02T10:30:37.966571Z",
     "shell.execute_reply": "2022-02-02T10:30:37.966066Z",
     "shell.execute_reply.started": "2022-02-02T10:30:37.964028Z"
    }
   },
   "outputs": [],
   "source": [
    "seed_GS = 908"
   ]
  },
  {
   "cell_type": "markdown",
   "metadata": {},
   "source": [
    "**List of proteins in the positive set**"
   ]
  },
  {
   "cell_type": "code",
   "execution_count": 14,
   "metadata": {
    "execution": {
     "iopub.execute_input": "2022-02-02T10:30:37.967385Z",
     "iopub.status.busy": "2022-02-02T10:30:37.967242Z",
     "iopub.status.idle": "2022-02-02T10:30:38.007652Z",
     "shell.execute_reply": "2022-02-02T10:30:38.006185Z",
     "shell.execute_reply.started": "2022-02-02T10:30:37.967361Z"
    }
   },
   "outputs": [
    {
     "name": "stdout",
     "output_type": "stream",
     "text": [
      "list: len 5679\n",
      "['A0A023PXA5', 'A0A023PXH6', 'A0A023PXI0', 'A0A023PXP4', 'A0A023PYF7']\n"
     ]
    }
   ],
   "source": [
    "proteinList = sorted(list(set(allIDs_intact)))\n",
    "glance(proteinList)"
   ]
  },
  {
   "cell_type": "code",
   "execution_count": 15,
   "metadata": {
    "execution": {
     "iopub.execute_input": "2022-02-02T10:30:38.009851Z",
     "iopub.status.busy": "2022-02-02T10:30:38.009412Z",
     "iopub.status.idle": "2022-02-02T10:30:38.044893Z",
     "shell.execute_reply": "2022-02-02T10:30:38.044076Z",
     "shell.execute_reply.started": "2022-02-02T10:30:38.009701Z"
    }
   },
   "outputs": [
    {
     "name": "stdout",
     "output_type": "stream",
     "text": [
      "DataFrame: 43,068 rows \t 3 columns\n"
     ]
    },
    {
     "data": {
      "text/html": [
       "<div>\n",
       "<style scoped>\n",
       "    .dataframe tbody tr th:only-of-type {\n",
       "        vertical-align: middle;\n",
       "    }\n",
       "\n",
       "    .dataframe tbody tr th {\n",
       "        vertical-align: top;\n",
       "    }\n",
       "\n",
       "    .dataframe thead th {\n",
       "        text-align: right;\n",
       "    }\n",
       "</style>\n",
       "<table border=\"1\" class=\"dataframe\">\n",
       "  <thead>\n",
       "    <tr style=\"text-align: right;\">\n",
       "      <th></th>\n",
       "      <th>uniprotID_A</th>\n",
       "      <th>uniprotID_B</th>\n",
       "      <th>isInteraction</th>\n",
       "    </tr>\n",
       "  </thead>\n",
       "  <tbody>\n",
       "    <tr>\n",
       "      <th>0</th>\n",
       "      <td>P04050</td>\n",
       "      <td>P38827</td>\n",
       "      <td>1</td>\n",
       "    </tr>\n",
       "    <tr>\n",
       "      <th>1</th>\n",
       "      <td>P15019</td>\n",
       "      <td>P53228</td>\n",
       "      <td>1</td>\n",
       "    </tr>\n",
       "    <tr>\n",
       "      <th>2</th>\n",
       "      <td>P46970</td>\n",
       "      <td>Q03214</td>\n",
       "      <td>1</td>\n",
       "    </tr>\n",
       "    <tr>\n",
       "      <th>3</th>\n",
       "      <td>P17558</td>\n",
       "      <td>P38972</td>\n",
       "      <td>1</td>\n",
       "    </tr>\n",
       "    <tr>\n",
       "      <th>4</th>\n",
       "      <td>P53173</td>\n",
       "      <td>Q12234</td>\n",
       "      <td>1</td>\n",
       "    </tr>\n",
       "  </tbody>\n",
       "</table>\n",
       "</div>"
      ],
      "text/plain": [
       "  uniprotID_A uniprotID_B  isInteraction\n",
       "0      P04050      P38827              1\n",
       "1      P15019      P53228              1\n",
       "2      P46970      Q03214              1\n",
       "3      P17558      P38972              1\n",
       "4      P53173      Q12234              1"
      ]
     },
     "metadata": {},
     "output_type": "display_data"
    }
   ],
   "source": [
    "PPI = intact[['uniprotID_A','uniprotID_B']].copy()\n",
    "\n",
    "PPI['isInteraction'] = 1\n",
    "\n",
    "glance(PPI)"
   ]
  },
  {
   "cell_type": "markdown",
   "metadata": {},
   "source": [
    "---\n",
    "**EDA**"
   ]
  },
  {
   "cell_type": "code",
   "execution_count": 16,
   "metadata": {
    "execution": {
     "iopub.execute_input": "2022-02-02T10:30:38.046206Z",
     "iopub.status.busy": "2022-02-02T10:30:38.045878Z",
     "iopub.status.idle": "2022-02-02T10:30:38.911828Z",
     "shell.execute_reply": "2022-02-02T10:30:38.910439Z",
     "shell.execute_reply.started": "2022-02-02T10:30:38.046089Z"
    }
   },
   "outputs": [
    {
     "name": "stdout",
     "output_type": "stream",
     "text": [
      "43,068 interactions (100.00% positive)\n",
      "\n",
      "Hub status:\n",
      "- 17,452 hub-hub interactions (40.52% - 100.00% positive)\n",
      "- 22,725 hub-lone interactions (52.77% - 100.00% positive)\n",
      "- 2,891 lone-lone interactions (6.71% - 100.00% positive)\n",
      "\n"
     ]
    }
   ],
   "source": [
    "EDA_predSet(\n",
    "    PPI,\n",
    "    list_hubs=list_hubs20,\n",
    "    PosNeg=False,\n",
    "    trainSet=None,\n",
    "    Overlap=False\n",
    ")"
   ]
  },
  {
   "cell_type": "markdown",
   "metadata": {},
   "source": [
    "## Split positive train/test"
   ]
  },
  {
   "cell_type": "code",
   "execution_count": 17,
   "metadata": {
    "execution": {
     "iopub.execute_input": "2022-02-02T10:30:38.914275Z",
     "iopub.status.busy": "2022-02-02T10:30:38.913710Z",
     "iopub.status.idle": "2022-02-02T10:30:38.920124Z",
     "shell.execute_reply": "2022-02-02T10:30:38.919075Z",
     "shell.execute_reply.started": "2022-02-02T10:30:38.914072Z"
    }
   },
   "outputs": [],
   "source": [
    "PPI2 = PPI.copy()"
   ]
  },
  {
   "cell_type": "markdown",
   "metadata": {},
   "source": [
    "----\n",
    "**Sample proteins to save for test**"
   ]
  },
  {
   "cell_type": "code",
   "execution_count": 18,
   "metadata": {
    "execution": {
     "iopub.execute_input": "2022-02-02T10:30:38.923107Z",
     "iopub.status.busy": "2022-02-02T10:30:38.922390Z",
     "iopub.status.idle": "2022-02-02T10:30:38.963893Z",
     "shell.execute_reply": "2022-02-02T10:30:38.962418Z",
     "shell.execute_reply.started": "2022-02-02T10:30:38.922858Z"
    }
   },
   "outputs": [
    {
     "name": "stdout",
     "output_type": "stream",
     "text": [
      "In this PPI set, we have 1,195 hubs and 4,484 non-hubs (5,679 total)\n"
     ]
    }
   ],
   "source": [
    "hubsHere = sorted(list(set(list_hubs20) & set(proteinList)))\n",
    "nonHubsHere = sorted(list(set(proteinList) - set(list_hubs20)))\n",
    "\n",
    "print(f\"In this PPI set, we have {len(hubsHere):,} hubs and {len(nonHubsHere):,} non-hubs ({len(proteinList):,} total)\")\n",
    "assert len(proteinList) == len(hubsHere)+len(nonHubsHere)"
   ]
  },
  {
   "cell_type": "code",
   "execution_count": 19,
   "metadata": {
    "execution": {
     "iopub.execute_input": "2022-02-02T10:30:38.965429Z",
     "iopub.status.busy": "2022-02-02T10:30:38.965171Z",
     "iopub.status.idle": "2022-02-02T10:30:39.004504Z",
     "shell.execute_reply": "2022-02-02T10:30:39.003163Z",
     "shell.execute_reply.started": "2022-02-02T10:30:38.965389Z"
    }
   },
   "outputs": [
    {
     "name": "stdout",
     "output_type": "stream",
     "text": [
      "list: len 737\n",
      "['P10081', 'P53236', 'P33759', 'P12753', 'P40512']\n"
     ]
    }
   ],
   "source": [
    "random.seed(seed_GS)\n",
    "\n",
    "testProteins_rate = 0.13\n",
    "\n",
    "test_hubs = random.sample(hubsHere, int(testProteins_rate*len(hubsHere)))\n",
    "test_nonHubs = random.sample(nonHubsHere, int(testProteins_rate*len(nonHubsHere)))\n",
    "test_proteins = test_hubs + test_nonHubs\n",
    "glance(test_proteins)"
   ]
  },
  {
   "cell_type": "code",
   "execution_count": 20,
   "metadata": {
    "execution": {
     "iopub.execute_input": "2022-02-02T10:30:39.006596Z",
     "iopub.status.busy": "2022-02-02T10:30:39.006192Z",
     "iopub.status.idle": "2022-02-02T10:30:39.032368Z",
     "shell.execute_reply": "2022-02-02T10:30:39.031181Z",
     "shell.execute_reply.started": "2022-02-02T10:30:39.006532Z"
    }
   },
   "outputs": [
    {
     "name": "stdout",
     "output_type": "stream",
     "text": [
      "Total set of proteins: 5,679\n",
      "... 737 for no/partial overlap (12.98%)\n"
     ]
    }
   ],
   "source": [
    "print(f\"Total set of proteins: {len(proteinList):,}\")\n",
    "print(f\"... {len(test_proteins):,} for no/partial overlap ({len(test_proteins)/len(proteinList):.2%})\")"
   ]
  },
  {
   "cell_type": "markdown",
   "metadata": {},
   "source": [
    "---\n",
    "**Set aside `test` PPIs**"
   ]
  },
  {
   "cell_type": "code",
   "execution_count": 21,
   "metadata": {
    "execution": {
     "iopub.execute_input": "2022-02-02T10:30:39.034758Z",
     "iopub.status.busy": "2022-02-02T10:30:39.034122Z",
     "iopub.status.idle": "2022-02-02T10:30:39.072922Z",
     "shell.execute_reply": "2022-02-02T10:30:39.071982Z",
     "shell.execute_reply.started": "2022-02-02T10:30:39.034639Z"
    }
   },
   "outputs": [
    {
     "name": "stdout",
     "output_type": "stream",
     "text": [
      "DataFrame: 43,068 rows \t 4 columns\n"
     ]
    },
    {
     "data": {
      "text/html": [
       "<div>\n",
       "<style scoped>\n",
       "    .dataframe tbody tr th:only-of-type {\n",
       "        vertical-align: middle;\n",
       "    }\n",
       "\n",
       "    .dataframe tbody tr th {\n",
       "        vertical-align: top;\n",
       "    }\n",
       "\n",
       "    .dataframe thead th {\n",
       "        text-align: right;\n",
       "    }\n",
       "</style>\n",
       "<table border=\"1\" class=\"dataframe\">\n",
       "  <thead>\n",
       "    <tr style=\"text-align: right;\">\n",
       "      <th></th>\n",
       "      <th>uniprotID_A</th>\n",
       "      <th>uniprotID_B</th>\n",
       "      <th>isInteraction</th>\n",
       "      <th>trainTest</th>\n",
       "    </tr>\n",
       "  </thead>\n",
       "  <tbody>\n",
       "    <tr>\n",
       "      <th>0</th>\n",
       "      <td>P04050</td>\n",
       "      <td>P38827</td>\n",
       "      <td>1</td>\n",
       "      <td></td>\n",
       "    </tr>\n",
       "    <tr>\n",
       "      <th>1</th>\n",
       "      <td>P15019</td>\n",
       "      <td>P53228</td>\n",
       "      <td>1</td>\n",
       "      <td></td>\n",
       "    </tr>\n",
       "    <tr>\n",
       "      <th>2</th>\n",
       "      <td>P46970</td>\n",
       "      <td>Q03214</td>\n",
       "      <td>1</td>\n",
       "      <td></td>\n",
       "    </tr>\n",
       "    <tr>\n",
       "      <th>3</th>\n",
       "      <td>P17558</td>\n",
       "      <td>P38972</td>\n",
       "      <td>1</td>\n",
       "      <td></td>\n",
       "    </tr>\n",
       "    <tr>\n",
       "      <th>4</th>\n",
       "      <td>P53173</td>\n",
       "      <td>Q12234</td>\n",
       "      <td>1</td>\n",
       "      <td></td>\n",
       "    </tr>\n",
       "  </tbody>\n",
       "</table>\n",
       "</div>"
      ],
      "text/plain": [
       "  uniprotID_A uniprotID_B  isInteraction trainTest\n",
       "0      P04050      P38827              1          \n",
       "1      P15019      P53228              1          \n",
       "2      P46970      Q03214              1          \n",
       "3      P17558      P38972              1          \n",
       "4      P53173      Q12234              1          "
      ]
     },
     "metadata": {},
     "output_type": "display_data"
    }
   ],
   "source": [
    "PPI2['trainTest'] = ''\n",
    "\n",
    "glance(PPI2)"
   ]
  },
  {
   "cell_type": "code",
   "execution_count": 22,
   "metadata": {
    "execution": {
     "iopub.execute_input": "2022-02-02T10:30:39.074346Z",
     "iopub.status.busy": "2022-02-02T10:30:39.074076Z",
     "iopub.status.idle": "2022-02-02T10:30:39.101439Z",
     "shell.execute_reply": "2022-02-02T10:30:39.100667Z",
     "shell.execute_reply.started": "2022-02-02T10:30:39.074303Z"
    }
   },
   "outputs": [
    {
     "name": "stdout",
     "output_type": "stream",
     "text": [
      "0    33743\n",
      "1     8763\n",
      "2      562\n",
      "dtype: int64\n"
     ]
    }
   ],
   "source": [
    "AisTestProt = PPI2.uniprotID_A.isin(test_proteins).astype(int)\n",
    "BisTestProt = PPI2.uniprotID_B.isin(test_proteins).astype(int)\n",
    "testProtType = AisTestProt + BisTestProt\n",
    "\n",
    "print(testProtType.value_counts())"
   ]
  },
  {
   "cell_type": "code",
   "execution_count": 23,
   "metadata": {
    "execution": {
     "iopub.execute_input": "2022-02-02T10:30:39.102453Z",
     "iopub.status.busy": "2022-02-02T10:30:39.102297Z",
     "iopub.status.idle": "2022-02-02T10:30:39.129226Z",
     "shell.execute_reply": "2022-02-02T10:30:39.128624Z",
     "shell.execute_reply.started": "2022-02-02T10:30:39.102428Z"
    }
   },
   "outputs": [
    {
     "name": "stdout",
     "output_type": "stream",
     "text": [
      "        33743\n",
      "test     9325\n",
      "Name: trainTest, dtype: int64\n"
     ]
    }
   ],
   "source": [
    "PPI2.loc[testProtType >= 1, 'trainTest'] = 'test'\n",
    "\n",
    "print(PPI2.trainTest.value_counts())"
   ]
  },
  {
   "cell_type": "markdown",
   "metadata": {},
   "source": [
    "---\n",
    "**Set aside interactions for complete overlap**"
   ]
  },
  {
   "cell_type": "code",
   "execution_count": 24,
   "metadata": {
    "execution": {
     "iopub.execute_input": "2022-02-02T10:30:39.129980Z",
     "iopub.status.busy": "2022-02-02T10:30:39.129835Z",
     "iopub.status.idle": "2022-02-02T10:30:39.164873Z",
     "shell.execute_reply": "2022-02-02T10:30:39.164196Z",
     "shell.execute_reply.started": "2022-02-02T10:30:39.129956Z"
    }
   },
   "outputs": [
    {
     "name": "stdout",
     "output_type": "stream",
     "text": [
      "list: len 3374\n",
      "[38015, 7251, 12147, 30523, 1227]\n"
     ]
    }
   ],
   "source": [
    "random.seed(seed_GS + 10)\n",
    "CO_rate = 0.1\n",
    "\n",
    "foo = PPI2.loc[PPI2.trainTest == '']\n",
    "\n",
    "testCO = random.sample(list(foo.index), int(CO_rate*len(foo)))\n",
    "\n",
    "glance(testCO)"
   ]
  },
  {
   "cell_type": "code",
   "execution_count": 25,
   "metadata": {
    "execution": {
     "iopub.execute_input": "2022-02-02T10:30:39.165678Z",
     "iopub.status.busy": "2022-02-02T10:30:39.165528Z",
     "iopub.status.idle": "2022-02-02T10:30:39.196013Z",
     "shell.execute_reply": "2022-02-02T10:30:39.195342Z",
     "shell.execute_reply.started": "2022-02-02T10:30:39.165653Z"
    }
   },
   "outputs": [
    {
     "name": "stdout",
     "output_type": "stream",
     "text": [
      "        30369\n",
      "test    12699\n",
      "Name: trainTest, dtype: int64\n"
     ]
    }
   ],
   "source": [
    "PPI2.loc[testCO,'trainTest'] = 'test'\n",
    "\n",
    "print(PPI2.trainTest.value_counts())"
   ]
  },
  {
   "cell_type": "markdown",
   "metadata": {},
   "source": [
    "---\n",
    "**EDA**"
   ]
  },
  {
   "cell_type": "code",
   "execution_count": 26,
   "metadata": {
    "execution": {
     "iopub.execute_input": "2022-02-02T10:30:39.196895Z",
     "iopub.status.busy": "2022-02-02T10:30:39.196742Z",
     "iopub.status.idle": "2022-02-02T10:30:39.225640Z",
     "shell.execute_reply": "2022-02-02T10:30:39.224704Z",
     "shell.execute_reply.started": "2022-02-02T10:30:39.196870Z"
    }
   },
   "outputs": [
    {
     "name": "stdout",
     "output_type": "stream",
     "text": [
      "train: 30,369 PPIs (70.51%)\n",
      "test: 12,699 PPIs (29.49%)\n"
     ]
    }
   ],
   "source": [
    "foo = PPI2.trainTest.value_counts()\n",
    "for x in ['','test']:\n",
    "    if x == '':\n",
    "        x2 = 'train'\n",
    "    else:\n",
    "        x2=x\n",
    "    print(f\"{x2}: {foo[x]:,} PPIs ({foo[x]/len(PPI2):.2%})\")"
   ]
  },
  {
   "cell_type": "code",
   "execution_count": 27,
   "metadata": {
    "execution": {
     "iopub.execute_input": "2022-02-02T10:30:39.228870Z",
     "iopub.status.busy": "2022-02-02T10:30:39.228709Z",
     "iopub.status.idle": "2022-02-02T10:30:39.282669Z",
     "shell.execute_reply": "2022-02-02T10:30:39.282025Z",
     "shell.execute_reply.started": "2022-02-02T10:30:39.228844Z"
    }
   },
   "outputs": [
    {
     "name": "stdout",
     "output_type": "stream",
     "text": [
      "## Train set\n",
      "30,369 interactions (100.00% positive)\n",
      "\n",
      "Hub status:\n",
      "- 12,106 hub-hub interactions (39.86% - 100.00% positive)\n",
      "- 16,292 hub-lone interactions (53.65% - 100.00% positive)\n",
      "- 1,971 lone-lone interactions (6.49% - 100.00% positive)\n",
      "\n"
     ]
    }
   ],
   "source": [
    "print('## Train set')\n",
    "EDA_predSet(\n",
    "    PPI2.loc[PPI2.trainTest == ''],\n",
    "    list_hubs=list_hubs20,\n",
    "    trainSet = PPI2.loc[PPI2.trainTest == ''],\n",
    "    PosNeg=False,\n",
    "    Overlap=False\n",
    ")\n"
   ]
  },
  {
   "cell_type": "code",
   "execution_count": 28,
   "metadata": {
    "execution": {
     "iopub.execute_input": "2022-02-02T10:30:39.283984Z",
     "iopub.status.busy": "2022-02-02T10:30:39.283825Z",
     "iopub.status.idle": "2022-02-02T10:30:39.336641Z",
     "shell.execute_reply": "2022-02-02T10:30:39.335903Z",
     "shell.execute_reply.started": "2022-02-02T10:30:39.283959Z"
    },
    "scrolled": true
   },
   "outputs": [
    {
     "name": "stdout",
     "output_type": "stream",
     "text": [
      "## Test set\n",
      "12,699 interactions (100.00% positive)\n",
      "\n",
      "Hub status:\n",
      "- 5,346 hub-hub interactions (42.10% - 100.00% positive)\n",
      "- 6,433 hub-lone interactions (50.66% - 100.00% positive)\n",
      "- 920 lone-lone interactions (7.24% - 100.00% positive)\n",
      "\n",
      "Overlap with train:\n",
      "- 3,306 total overlap with train, both proteins already seen (26.03% - 100.00% positive)\n",
      "- 8,774 partial overal, only one protein seen (69.09% - 100.00% positive)\n",
      "- 619 no overlap (4.87% - 100.00% positive)\n",
      "\n",
      "### Hub-Hub only ###\n",
      "\n",
      "Overlap with train:\n",
      "- 1,347 total overlap with train, both proteins already seen (25.20% - 100.00% positive)\n",
      "- 3,743 partial overal, only one protein seen (70.01% - 100.00% positive)\n",
      "- 256 no overlap (4.79% - 100.00% positive)\n",
      "\n",
      "### Hub-Lone only ###\n",
      "\n",
      "Overlap with train:\n",
      "- 1,763 total overlap with train, both proteins already seen (27.41% - 100.00% positive)\n",
      "- 4,378 partial overal, only one protein seen (68.06% - 100.00% positive)\n",
      "- 292 no overlap (4.54% - 100.00% positive)\n",
      "\n",
      "### Lone-Lone only ###\n",
      "\n",
      "Overlap with train:\n",
      "- 196 total overlap with train, both proteins already seen (21.30% - 100.00% positive)\n",
      "- 653 partial overal, only one protein seen (70.98% - 100.00% positive)\n",
      "- 71 no overlap (7.72% - 100.00% positive)\n",
      "\n",
      "### Complete overlap only ###\n",
      "\n",
      "Hub status:\n",
      "- 1,347 hub-hub interactions (40.74% - 100.00% positive)\n",
      "- 1,763 hub-lone interactions (53.33% - 100.00% positive)\n",
      "- 196 lone-lone interactions (5.93% - 100.00% positive)\n",
      "\n",
      "### Partial overlap only ###\n",
      "\n",
      "Hub status:\n",
      "- 3,743 hub-hub interactions (42.66% - 100.00% positive)\n",
      "- 4,378 hub-lone interactions (49.90% - 100.00% positive)\n",
      "- 653 lone-lone interactions (7.44% - 100.00% positive)\n",
      "\n",
      "### No overlap only ###\n",
      "\n",
      "Hub status:\n",
      "- 256 hub-hub interactions (41.36% - 100.00% positive)\n",
      "- 292 hub-lone interactions (47.17% - 100.00% positive)\n",
      "- 71 lone-lone interactions (11.47% - 100.00% positive)\n",
      "\n"
     ]
    }
   ],
   "source": [
    "print('## Test set')\n",
    "EDA_predSet(\n",
    "    PPI2.loc[PPI2.trainTest == 'test'],\n",
    "    list_hubs=list_hubs20,\n",
    "    trainSet = PPI2.loc[PPI2.trainTest == ''],\n",
    "    PosNeg=False,\n",
    "#     Overlap=False\n",
    ")\n"
   ]
  },
  {
   "cell_type": "code",
   "execution_count": 29,
   "metadata": {
    "execution": {
     "iopub.execute_input": "2022-02-02T10:30:39.337609Z",
     "iopub.status.busy": "2022-02-02T10:30:39.337440Z",
     "iopub.status.idle": "2022-02-02T10:30:39.340965Z",
     "shell.execute_reply": "2022-02-02T10:30:39.340363Z",
     "shell.execute_reply.started": "2022-02-02T10:30:39.337584Z"
    }
   },
   "outputs": [],
   "source": [
    "PPI3 = PPI2.copy()"
   ]
  },
  {
   "cell_type": "markdown",
   "metadata": {},
   "source": [
    "---\n",
    "**Allocate `train`**"
   ]
  },
  {
   "cell_type": "code",
   "execution_count": 34,
   "metadata": {
    "execution": {
     "iopub.execute_input": "2022-02-02T10:30:39.442077Z",
     "iopub.status.busy": "2022-02-02T10:30:39.441487Z",
     "iopub.status.idle": "2022-02-02T10:30:39.462339Z",
     "shell.execute_reply": "2022-02-02T10:30:39.461377Z",
     "shell.execute_reply.started": "2022-02-02T10:30:39.441872Z"
    }
   },
   "outputs": [],
   "source": [
    "PPI3.loc[PPI3.trainTest == '','trainTest'] = 'train'"
   ]
  },
  {
   "cell_type": "code",
   "execution_count": 35,
   "metadata": {
    "execution": {
     "iopub.execute_input": "2022-02-02T10:30:39.463640Z",
     "iopub.status.busy": "2022-02-02T10:30:39.463409Z",
     "iopub.status.idle": "2022-02-02T10:30:39.485517Z",
     "shell.execute_reply": "2022-02-02T10:30:39.484659Z",
     "shell.execute_reply.started": "2022-02-02T10:30:39.463601Z"
    }
   },
   "outputs": [
    {
     "name": "stdout",
     "output_type": "stream",
     "text": [
      "train: 30,369 PPIs (70.51%)\n",
      "test: 12,699 PPIs (29.49%)\n"
     ]
    }
   ],
   "source": [
    "foo = PPI3.trainTest.value_counts()\n",
    "for x in ['train','test']:\n",
    "    print(f\"{x}: {foo[x]:,} PPIs ({foo[x]/len(PPI3):.2%})\")"
   ]
  },
  {
   "cell_type": "code",
   "execution_count": 36,
   "metadata": {
    "execution": {
     "iopub.execute_input": "2022-02-02T10:30:39.486718Z",
     "iopub.status.busy": "2022-02-02T10:30:39.486495Z",
     "iopub.status.idle": "2022-02-02T10:30:39.506356Z",
     "shell.execute_reply": "2022-02-02T10:30:39.505546Z",
     "shell.execute_reply.started": "2022-02-02T10:30:39.486682Z"
    }
   },
   "outputs": [
    {
     "data": {
      "text/plain": [
       "30369"
      ]
     },
     "execution_count": 36,
     "metadata": {},
     "output_type": "execute_result"
    }
   ],
   "source": [
    "PPI3.trainTest.value_counts()['train']"
   ]
  },
  {
   "cell_type": "markdown",
   "metadata": {},
   "source": [
    "# Sample NIPs"
   ]
  },
  {
   "cell_type": "code",
   "execution_count": 37,
   "metadata": {
    "execution": {
     "iopub.execute_input": "2022-02-02T10:30:39.507223Z",
     "iopub.status.busy": "2022-02-02T10:30:39.507043Z",
     "iopub.status.idle": "2022-02-02T10:30:39.529562Z",
     "shell.execute_reply": "2022-02-02T10:30:39.528779Z",
     "shell.execute_reply.started": "2022-02-02T10:30:39.507194Z"
    }
   },
   "outputs": [
    {
     "name": "stdout",
     "output_type": "stream",
     "text": [
      "DataFrame: 43,068 rows \t 4 columns\n"
     ]
    },
    {
     "data": {
      "text/html": [
       "<div>\n",
       "<style scoped>\n",
       "    .dataframe tbody tr th:only-of-type {\n",
       "        vertical-align: middle;\n",
       "    }\n",
       "\n",
       "    .dataframe tbody tr th {\n",
       "        vertical-align: top;\n",
       "    }\n",
       "\n",
       "    .dataframe thead th {\n",
       "        text-align: right;\n",
       "    }\n",
       "</style>\n",
       "<table border=\"1\" class=\"dataframe\">\n",
       "  <thead>\n",
       "    <tr style=\"text-align: right;\">\n",
       "      <th></th>\n",
       "      <th>uniprotID_A</th>\n",
       "      <th>uniprotID_B</th>\n",
       "      <th>isInteraction</th>\n",
       "      <th>trainTest</th>\n",
       "    </tr>\n",
       "  </thead>\n",
       "  <tbody>\n",
       "    <tr>\n",
       "      <th>0</th>\n",
       "      <td>P04050</td>\n",
       "      <td>P38827</td>\n",
       "      <td>1</td>\n",
       "      <td>test</td>\n",
       "    </tr>\n",
       "    <tr>\n",
       "      <th>1</th>\n",
       "      <td>P15019</td>\n",
       "      <td>P53228</td>\n",
       "      <td>1</td>\n",
       "      <td>train</td>\n",
       "    </tr>\n",
       "    <tr>\n",
       "      <th>2</th>\n",
       "      <td>P46970</td>\n",
       "      <td>Q03214</td>\n",
       "      <td>1</td>\n",
       "      <td>train</td>\n",
       "    </tr>\n",
       "    <tr>\n",
       "      <th>3</th>\n",
       "      <td>P17558</td>\n",
       "      <td>P38972</td>\n",
       "      <td>1</td>\n",
       "      <td>train</td>\n",
       "    </tr>\n",
       "    <tr>\n",
       "      <th>4</th>\n",
       "      <td>P53173</td>\n",
       "      <td>Q12234</td>\n",
       "      <td>1</td>\n",
       "      <td>train</td>\n",
       "    </tr>\n",
       "  </tbody>\n",
       "</table>\n",
       "</div>"
      ],
      "text/plain": [
       "  uniprotID_A uniprotID_B  isInteraction trainTest\n",
       "0      P04050      P38827              1      test\n",
       "1      P15019      P53228              1     train\n",
       "2      P46970      Q03214              1     train\n",
       "3      P17558      P38972              1     train\n",
       "4      P53173      Q12234              1     train"
      ]
     },
     "metadata": {},
     "output_type": "display_data"
    }
   ],
   "source": [
    "PPI_final = PPI3.copy()\n",
    "glance(PPI_final)"
   ]
  },
  {
   "cell_type": "markdown",
   "metadata": {},
   "source": [
    "## `train`\n",
    "\n",
    "- Weighted sampling \n",
    "- 50% positive"
   ]
  },
  {
   "cell_type": "code",
   "execution_count": 38,
   "metadata": {
    "execution": {
     "iopub.execute_input": "2022-02-02T10:30:39.530460Z",
     "iopub.status.busy": "2022-02-02T10:30:39.530315Z",
     "iopub.status.idle": "2022-02-02T10:30:39.731508Z",
     "shell.execute_reply": "2022-02-02T10:30:39.730589Z",
     "shell.execute_reply.started": "2022-02-02T10:30:39.530437Z"
    }
   },
   "outputs": [
    {
     "name": "stdout",
     "output_type": "stream",
     "text": [
      "Removed 248 self-interactions\n",
      "Removed 6,272 duplicates\n",
      "Removed 5,039 known false negatives\n",
      "Final number of interactions: 30,369\n"
     ]
    }
   ],
   "source": [
    "PPI_train = PPI_final.loc[PPI_final.trainTest == 'train']\n",
    "allIDs_PPI_train = pd.concat([PPI_train.uniprotID_A,PPI_train.uniprotID_B])\n",
    "\n",
    "NIPs_train = sampleNIPs(\n",
    "    IDs2sample=allIDs_PPI_train.to_list(), \n",
    "    seed=seed_GS+30, \n",
    "    targetSampleSize=len(PPI_train), \n",
    "    referenceIntAct=intact\n",
    ")\n",
    "\n",
    "NIPs_train['isInteraction'] = 0\n",
    "NIPs_train['trainTest'] = 'train'"
   ]
  },
  {
   "cell_type": "code",
   "execution_count": 39,
   "metadata": {
    "execution": {
     "iopub.execute_input": "2022-02-02T10:30:39.732506Z",
     "iopub.status.busy": "2022-02-02T10:30:39.732345Z",
     "iopub.status.idle": "2022-02-02T10:30:39.741137Z",
     "shell.execute_reply": "2022-02-02T10:30:39.740578Z",
     "shell.execute_reply.started": "2022-02-02T10:30:39.732481Z"
    }
   },
   "outputs": [
    {
     "name": "stdout",
     "output_type": "stream",
     "text": [
      "DataFrame: 30,369 rows \t 4 columns\n"
     ]
    },
    {
     "data": {
      "text/html": [
       "<div>\n",
       "<style scoped>\n",
       "    .dataframe tbody tr th:only-of-type {\n",
       "        vertical-align: middle;\n",
       "    }\n",
       "\n",
       "    .dataframe tbody tr th {\n",
       "        vertical-align: top;\n",
       "    }\n",
       "\n",
       "    .dataframe thead th {\n",
       "        text-align: right;\n",
       "    }\n",
       "</style>\n",
       "<table border=\"1\" class=\"dataframe\">\n",
       "  <thead>\n",
       "    <tr style=\"text-align: right;\">\n",
       "      <th></th>\n",
       "      <th>uniprotID_A</th>\n",
       "      <th>uniprotID_B</th>\n",
       "      <th>isInteraction</th>\n",
       "      <th>trainTest</th>\n",
       "    </tr>\n",
       "  </thead>\n",
       "  <tbody>\n",
       "    <tr>\n",
       "      <th>0</th>\n",
       "      <td>P38882</td>\n",
       "      <td>P53874</td>\n",
       "      <td>0</td>\n",
       "      <td>train</td>\n",
       "    </tr>\n",
       "    <tr>\n",
       "      <th>2</th>\n",
       "      <td>P50089</td>\n",
       "      <td>Q05791</td>\n",
       "      <td>0</td>\n",
       "      <td>train</td>\n",
       "    </tr>\n",
       "    <tr>\n",
       "      <th>3</th>\n",
       "      <td>P25491</td>\n",
       "      <td>Q06708</td>\n",
       "      <td>0</td>\n",
       "      <td>train</td>\n",
       "    </tr>\n",
       "    <tr>\n",
       "      <th>4</th>\n",
       "      <td>P33322</td>\n",
       "      <td>P33413</td>\n",
       "      <td>0</td>\n",
       "      <td>train</td>\n",
       "    </tr>\n",
       "    <tr>\n",
       "      <th>5</th>\n",
       "      <td>P11709</td>\n",
       "      <td>Q04659</td>\n",
       "      <td>0</td>\n",
       "      <td>train</td>\n",
       "    </tr>\n",
       "  </tbody>\n",
       "</table>\n",
       "</div>"
      ],
      "text/plain": [
       "  uniprotID_A uniprotID_B  isInteraction trainTest\n",
       "0      P38882      P53874              0     train\n",
       "2      P50089      Q05791              0     train\n",
       "3      P25491      Q06708              0     train\n",
       "4      P33322      P33413              0     train\n",
       "5      P11709      Q04659              0     train"
      ]
     },
     "metadata": {},
     "output_type": "display_data"
    }
   ],
   "source": [
    "glance(NIPs_train)"
   ]
  },
  {
   "cell_type": "code",
   "execution_count": 40,
   "metadata": {
    "execution": {
     "iopub.execute_input": "2022-02-02T10:30:39.742153Z",
     "iopub.status.busy": "2022-02-02T10:30:39.742000Z",
     "iopub.status.idle": "2022-02-02T10:30:39.772494Z",
     "shell.execute_reply": "2022-02-02T10:30:39.771960Z",
     "shell.execute_reply.started": "2022-02-02T10:30:39.742127Z"
    }
   },
   "outputs": [
    {
     "name": "stdout",
     "output_type": "stream",
     "text": [
      "30,369 interactions (0.00% positive)\n",
      "\n",
      "Hub status:\n",
      "- 10,562 hub-hub interactions (34.78% - 0.00% positive)\n",
      "- 15,356 hub-lone interactions (50.56% - 0.00% positive)\n",
      "- 4,451 lone-lone interactions (14.66% - 0.00% positive)\n",
      "\n"
     ]
    }
   ],
   "source": [
    "EDA_predSet(\n",
    "    NIPs_train,\n",
    "    list_hubs=list_hubs20,\n",
    "    PosNeg=False,\n",
    "    trainSet=None,\n",
    "    Overlap=False\n",
    ")"
   ]
  },
  {
   "cell_type": "markdown",
   "metadata": {},
   "source": [
    "## `test`\n",
    "\n",
    "- uniform sampling \n",
    "- 50% positive (which is harder than it seems to keep 50% positive in each category!)"
   ]
  },
  {
   "cell_type": "code",
   "execution_count": 41,
   "metadata": {
    "execution": {
     "iopub.execute_input": "2022-02-02T10:30:39.773381Z",
     "iopub.status.busy": "2022-02-02T10:30:39.773227Z",
     "iopub.status.idle": "2022-02-02T10:30:39.784490Z",
     "shell.execute_reply": "2022-02-02T10:30:39.784027Z",
     "shell.execute_reply.started": "2022-02-02T10:30:39.773357Z"
    }
   },
   "outputs": [
    {
     "name": "stdout",
     "output_type": "stream",
     "text": [
      "DataFrame: 12,699 rows \t 4 columns\n"
     ]
    },
    {
     "data": {
      "text/html": [
       "<div>\n",
       "<style scoped>\n",
       "    .dataframe tbody tr th:only-of-type {\n",
       "        vertical-align: middle;\n",
       "    }\n",
       "\n",
       "    .dataframe tbody tr th {\n",
       "        vertical-align: top;\n",
       "    }\n",
       "\n",
       "    .dataframe thead th {\n",
       "        text-align: right;\n",
       "    }\n",
       "</style>\n",
       "<table border=\"1\" class=\"dataframe\">\n",
       "  <thead>\n",
       "    <tr style=\"text-align: right;\">\n",
       "      <th></th>\n",
       "      <th>uniprotID_A</th>\n",
       "      <th>uniprotID_B</th>\n",
       "      <th>isInteraction</th>\n",
       "      <th>trainTest</th>\n",
       "    </tr>\n",
       "  </thead>\n",
       "  <tbody>\n",
       "    <tr>\n",
       "      <th>0</th>\n",
       "      <td>P04050</td>\n",
       "      <td>P38827</td>\n",
       "      <td>1</td>\n",
       "      <td>test</td>\n",
       "    </tr>\n",
       "    <tr>\n",
       "      <th>7</th>\n",
       "      <td>P04911</td>\n",
       "      <td>Q06266</td>\n",
       "      <td>1</td>\n",
       "      <td>test</td>\n",
       "    </tr>\n",
       "    <tr>\n",
       "      <th>9</th>\n",
       "      <td>P47054</td>\n",
       "      <td>Q06625</td>\n",
       "      <td>1</td>\n",
       "      <td>test</td>\n",
       "    </tr>\n",
       "    <tr>\n",
       "      <th>10</th>\n",
       "      <td>P32528</td>\n",
       "      <td>P32571</td>\n",
       "      <td>1</td>\n",
       "      <td>test</td>\n",
       "    </tr>\n",
       "    <tr>\n",
       "      <th>12</th>\n",
       "      <td>P39015</td>\n",
       "      <td>P40522</td>\n",
       "      <td>1</td>\n",
       "      <td>test</td>\n",
       "    </tr>\n",
       "  </tbody>\n",
       "</table>\n",
       "</div>"
      ],
      "text/plain": [
       "   uniprotID_A uniprotID_B  isInteraction trainTest\n",
       "0       P04050      P38827              1      test\n",
       "7       P04911      Q06266              1      test\n",
       "9       P47054      Q06625              1      test\n",
       "10      P32528      P32571              1      test\n",
       "12      P39015      P40522              1      test"
      ]
     },
     "metadata": {},
     "output_type": "display_data"
    },
    {
     "name": "stdout",
     "output_type": "stream",
     "text": [
      "list: len 737\n",
      "['P10081', 'P53236', 'P33759', 'P12753', 'P40512']\n"
     ]
    }
   ],
   "source": [
    "PPI_test = PPI_final.loc[PPI_final.trainTest == 'test']\n",
    "\n",
    "glance(PPI_test)\n",
    "glance(test_proteins)"
   ]
  },
  {
   "cell_type": "code",
   "execution_count": 42,
   "metadata": {
    "execution": {
     "iopub.execute_input": "2022-02-02T10:30:39.785333Z",
     "iopub.status.busy": "2022-02-02T10:30:39.785182Z",
     "iopub.status.idle": "2022-02-02T10:30:39.805381Z",
     "shell.execute_reply": "2022-02-02T10:30:39.804904Z",
     "shell.execute_reply.started": "2022-02-02T10:30:39.785309Z"
    }
   },
   "outputs": [
    {
     "data": {
      "text/plain": [
       "1    8774\n",
       "2    3306\n",
       "0     619\n",
       "dtype: int64"
      ]
     },
     "execution_count": 42,
     "metadata": {},
     "output_type": "execute_result"
    }
   ],
   "source": [
    "_, _, isInTrain = find_overlapStatus(\n",
    "    df = PPI_test, \n",
    "    trainSet = PPI_train\n",
    ")\n",
    "\n",
    "isInTrain.value_counts()"
   ]
  },
  {
   "cell_type": "code",
   "execution_count": 43,
   "metadata": {
    "execution": {
     "iopub.execute_input": "2022-02-02T10:30:39.806355Z",
     "iopub.status.busy": "2022-02-02T10:30:39.806208Z",
     "iopub.status.idle": "2022-02-02T10:30:40.020215Z",
     "shell.execute_reply": "2022-02-02T10:30:40.019663Z",
     "shell.execute_reply.started": "2022-02-02T10:30:39.806331Z"
    }
   },
   "outputs": [
    {
     "name": "stdout",
     "output_type": "stream",
     "text": [
      "Removed 0 self-interactions\n",
      "Removed 1 duplicates\n",
      "Removed 0 known false negatives\n",
      "Removed 0 based on other ref dataset\n",
      "Final number of interactions: 619\n",
      "\n",
      "Removed 0 self-interactions\n",
      "Removed 1 duplicates\n",
      "Removed 10 known false negatives\n",
      "Removed 6 based on other ref dataset\n",
      "Final number of interactions: 3,306\n",
      "\n",
      "Removed 0 self-interactions\n",
      "Removed 25 duplicates\n",
      "Removed 34 known false negatives\n",
      "Removed 0 based on other ref dataset\n",
      "Final number of interactions: 8,774\n"
     ]
    }
   ],
   "source": [
    "NIPs_temp = NIPs_train.copy()\n",
    "\n",
    "# No overlap\n",
    "NIPs_test_no = sampleNIPs(\n",
    "    IDs2sample=test_proteins, \n",
    "    seed=seed_GS+50, \n",
    "    targetSampleSize=isInTrain.value_counts()[0], \n",
    "    referenceIntAct=intact,\n",
    "    otherRefDf=NIPs_temp[['uniprotID_A','uniprotID_B']]\n",
    ")\n",
    "NIPs_test_no['isInteraction'] = 0\n",
    "NIPs_test_no['trainTest'] = 'test'\n",
    "NIPs_temp = NIPs_temp.append(NIPs_test_no)\n",
    "NIPs_test = NIPs_test_no\n",
    "print()\n",
    "\n",
    "# Complete overlap\n",
    "NIPs_test_co = sampleNIPs(\n",
    "    IDs2sample=sorted(list(set(allIDs_PPI_train))), \n",
    "    seed=seed_GS+60, \n",
    "    targetSampleSize=isInTrain.value_counts()[2], \n",
    "    referenceIntAct=intact,\n",
    "    otherRefDf=NIPs_temp[['uniprotID_A','uniprotID_B']]\n",
    ")\n",
    "NIPs_test_co['isInteraction'] = 0\n",
    "NIPs_test_co['trainTest'] = 'test'\n",
    "NIPs_temp = NIPs_temp.append(NIPs_test_co)\n",
    "NIPs_test = NIPs_test.append(NIPs_test_co)\n",
    "print()\n",
    "\n",
    "# Partial overlap\n",
    "NIPs_test_po = sampleNIPs(\n",
    "    IDs2sample=(\n",
    "        test_proteins,\n",
    "        sorted(list(set(allIDs_PPI_train)))\n",
    "    ), \n",
    "    seed=seed_GS+70, \n",
    "    targetSampleSize=isInTrain.value_counts()[1], \n",
    "    referenceIntAct=intact,\n",
    "    otherRefDf=NIPs_temp[['uniprotID_A','uniprotID_B']]\n",
    ")\n",
    "NIPs_test_po['isInteraction'] = 0\n",
    "NIPs_test_po['trainTest'] = 'test'\n",
    "NIPs_temp = NIPs_temp.append(NIPs_test_po)\n",
    "NIPs_test = NIPs_test.append(NIPs_test_po)"
   ]
  },
  {
   "cell_type": "code",
   "execution_count": 44,
   "metadata": {
    "execution": {
     "iopub.execute_input": "2022-02-02T10:30:40.021100Z",
     "iopub.status.busy": "2022-02-02T10:30:40.020957Z",
     "iopub.status.idle": "2022-02-02T10:30:40.028292Z",
     "shell.execute_reply": "2022-02-02T10:30:40.027847Z",
     "shell.execute_reply.started": "2022-02-02T10:30:40.021076Z"
    }
   },
   "outputs": [
    {
     "name": "stdout",
     "output_type": "stream",
     "text": [
      "DataFrame: 12,699 rows \t 4 columns\n"
     ]
    },
    {
     "data": {
      "text/html": [
       "<div>\n",
       "<style scoped>\n",
       "    .dataframe tbody tr th:only-of-type {\n",
       "        vertical-align: middle;\n",
       "    }\n",
       "\n",
       "    .dataframe tbody tr th {\n",
       "        vertical-align: top;\n",
       "    }\n",
       "\n",
       "    .dataframe thead th {\n",
       "        text-align: right;\n",
       "    }\n",
       "</style>\n",
       "<table border=\"1\" class=\"dataframe\">\n",
       "  <thead>\n",
       "    <tr style=\"text-align: right;\">\n",
       "      <th></th>\n",
       "      <th>uniprotID_A</th>\n",
       "      <th>uniprotID_B</th>\n",
       "      <th>isInteraction</th>\n",
       "      <th>trainTest</th>\n",
       "    </tr>\n",
       "  </thead>\n",
       "  <tbody>\n",
       "    <tr>\n",
       "      <th>0</th>\n",
       "      <td>P34243</td>\n",
       "      <td>Q12103</td>\n",
       "      <td>0</td>\n",
       "      <td>test</td>\n",
       "    </tr>\n",
       "    <tr>\n",
       "      <th>1</th>\n",
       "      <td>P38215</td>\n",
       "      <td>Q05788</td>\n",
       "      <td>0</td>\n",
       "      <td>test</td>\n",
       "    </tr>\n",
       "    <tr>\n",
       "      <th>2</th>\n",
       "      <td>P47166</td>\n",
       "      <td>Q12288</td>\n",
       "      <td>0</td>\n",
       "      <td>test</td>\n",
       "    </tr>\n",
       "    <tr>\n",
       "      <th>3</th>\n",
       "      <td>P33759</td>\n",
       "      <td>P39958</td>\n",
       "      <td>0</td>\n",
       "      <td>test</td>\n",
       "    </tr>\n",
       "    <tr>\n",
       "      <th>4</th>\n",
       "      <td>P16550</td>\n",
       "      <td>Q02831</td>\n",
       "      <td>0</td>\n",
       "      <td>test</td>\n",
       "    </tr>\n",
       "  </tbody>\n",
       "</table>\n",
       "</div>"
      ],
      "text/plain": [
       "  uniprotID_A uniprotID_B  isInteraction trainTest\n",
       "0      P34243      Q12103              0      test\n",
       "1      P38215      Q05788              0      test\n",
       "2      P47166      Q12288              0      test\n",
       "3      P33759      P39958              0      test\n",
       "4      P16550      Q02831              0      test"
      ]
     },
     "metadata": {},
     "output_type": "display_data"
    }
   ],
   "source": [
    "glance(NIPs_test)"
   ]
  },
  {
   "cell_type": "code",
   "execution_count": 45,
   "metadata": {
    "execution": {
     "iopub.execute_input": "2022-02-02T10:30:40.029142Z",
     "iopub.status.busy": "2022-02-02T10:30:40.029008Z",
     "iopub.status.idle": "2022-02-02T10:30:40.047396Z",
     "shell.execute_reply": "2022-02-02T10:30:40.046826Z",
     "shell.execute_reply.started": "2022-02-02T10:30:40.029119Z"
    }
   },
   "outputs": [],
   "source": [
    "## Sanity checks\n",
    "\n",
    "assert len(NIPs_test.loc[NIPs_test.duplicated(subset=['uniprotID_A','uniprotID_B'], keep=False)]) == 0"
   ]
  },
  {
   "cell_type": "markdown",
   "metadata": {},
   "source": [
    "# Aggregate GS"
   ]
  },
  {
   "cell_type": "code",
   "execution_count": 46,
   "metadata": {
    "execution": {
     "iopub.execute_input": "2022-02-02T10:30:40.048329Z",
     "iopub.status.busy": "2022-02-02T10:30:40.048148Z",
     "iopub.status.idle": "2022-02-02T10:30:40.072087Z",
     "shell.execute_reply": "2022-02-02T10:30:40.071614Z",
     "shell.execute_reply.started": "2022-02-02T10:30:40.048300Z"
    }
   },
   "outputs": [
    {
     "name": "stdout",
     "output_type": "stream",
     "text": [
      "DataFrame: 86,136 rows \t 4 columns\n"
     ]
    },
    {
     "data": {
      "text/html": [
       "<div>\n",
       "<style scoped>\n",
       "    .dataframe tbody tr th:only-of-type {\n",
       "        vertical-align: middle;\n",
       "    }\n",
       "\n",
       "    .dataframe tbody tr th {\n",
       "        vertical-align: top;\n",
       "    }\n",
       "\n",
       "    .dataframe thead th {\n",
       "        text-align: right;\n",
       "    }\n",
       "</style>\n",
       "<table border=\"1\" class=\"dataframe\">\n",
       "  <thead>\n",
       "    <tr style=\"text-align: right;\">\n",
       "      <th></th>\n",
       "      <th>uniprotID_A</th>\n",
       "      <th>uniprotID_B</th>\n",
       "      <th>isInteraction</th>\n",
       "      <th>trainTest</th>\n",
       "    </tr>\n",
       "  </thead>\n",
       "  <tbody>\n",
       "    <tr>\n",
       "      <th>0</th>\n",
       "      <td>P04050</td>\n",
       "      <td>P38827</td>\n",
       "      <td>1</td>\n",
       "      <td>test</td>\n",
       "    </tr>\n",
       "    <tr>\n",
       "      <th>1</th>\n",
       "      <td>P15019</td>\n",
       "      <td>P53228</td>\n",
       "      <td>1</td>\n",
       "      <td>train</td>\n",
       "    </tr>\n",
       "    <tr>\n",
       "      <th>2</th>\n",
       "      <td>P46970</td>\n",
       "      <td>Q03214</td>\n",
       "      <td>1</td>\n",
       "      <td>train</td>\n",
       "    </tr>\n",
       "    <tr>\n",
       "      <th>3</th>\n",
       "      <td>P17558</td>\n",
       "      <td>P38972</td>\n",
       "      <td>1</td>\n",
       "      <td>train</td>\n",
       "    </tr>\n",
       "    <tr>\n",
       "      <th>4</th>\n",
       "      <td>P53173</td>\n",
       "      <td>Q12234</td>\n",
       "      <td>1</td>\n",
       "      <td>train</td>\n",
       "    </tr>\n",
       "  </tbody>\n",
       "</table>\n",
       "</div>"
      ],
      "text/plain": [
       "  uniprotID_A uniprotID_B  isInteraction trainTest\n",
       "0      P04050      P38827              1      test\n",
       "1      P15019      P53228              1     train\n",
       "2      P46970      Q03214              1     train\n",
       "3      P17558      P38972              1     train\n",
       "4      P53173      Q12234              1     train"
      ]
     },
     "metadata": {},
     "output_type": "display_data"
    }
   ],
   "source": [
    "# GS = PPI_final.append(NIPs_train).append(NIPs_test1)\n",
    "GS = PPI_final.append(NIPs_train).append(NIPs_test)\n",
    "\n",
    "glance(GS)"
   ]
  },
  {
   "cell_type": "code",
   "execution_count": 47,
   "metadata": {
    "execution": {
     "iopub.execute_input": "2022-02-02T10:30:40.072895Z",
     "iopub.status.busy": "2022-02-02T10:30:40.072751Z",
     "iopub.status.idle": "2022-02-02T10:30:40.079339Z",
     "shell.execute_reply": "2022-02-02T10:30:40.078880Z",
     "shell.execute_reply.started": "2022-02-02T10:30:40.072868Z"
    }
   },
   "outputs": [
    {
     "data": {
      "text/html": [
       "<div>\n",
       "<style scoped>\n",
       "    .dataframe tbody tr th:only-of-type {\n",
       "        vertical-align: middle;\n",
       "    }\n",
       "\n",
       "    .dataframe tbody tr th {\n",
       "        vertical-align: top;\n",
       "    }\n",
       "\n",
       "    .dataframe thead th {\n",
       "        text-align: right;\n",
       "    }\n",
       "</style>\n",
       "<table border=\"1\" class=\"dataframe\">\n",
       "  <thead>\n",
       "    <tr style=\"text-align: right;\">\n",
       "      <th></th>\n",
       "      <th>uniprotID_A</th>\n",
       "      <th>uniprotID_B</th>\n",
       "      <th>isInteraction</th>\n",
       "      <th>trainTest</th>\n",
       "    </tr>\n",
       "  </thead>\n",
       "  <tbody>\n",
       "    <tr>\n",
       "      <th>8769</th>\n",
       "      <td>P12687</td>\n",
       "      <td>P34233</td>\n",
       "      <td>0</td>\n",
       "      <td>test</td>\n",
       "    </tr>\n",
       "    <tr>\n",
       "      <th>8770</th>\n",
       "      <td>P39526</td>\n",
       "      <td>P47042</td>\n",
       "      <td>0</td>\n",
       "      <td>test</td>\n",
       "    </tr>\n",
       "    <tr>\n",
       "      <th>8771</th>\n",
       "      <td>P25659</td>\n",
       "      <td>P48231</td>\n",
       "      <td>0</td>\n",
       "      <td>test</td>\n",
       "    </tr>\n",
       "    <tr>\n",
       "      <th>8772</th>\n",
       "      <td>P40043</td>\n",
       "      <td>Q07790</td>\n",
       "      <td>0</td>\n",
       "      <td>test</td>\n",
       "    </tr>\n",
       "    <tr>\n",
       "      <th>8773</th>\n",
       "      <td>P40433</td>\n",
       "      <td>P53887</td>\n",
       "      <td>0</td>\n",
       "      <td>test</td>\n",
       "    </tr>\n",
       "  </tbody>\n",
       "</table>\n",
       "</div>"
      ],
      "text/plain": [
       "     uniprotID_A uniprotID_B  isInteraction trainTest\n",
       "8769      P12687      P34233              0      test\n",
       "8770      P39526      P47042              0      test\n",
       "8771      P25659      P48231              0      test\n",
       "8772      P40043      Q07790              0      test\n",
       "8773      P40433      P53887              0      test"
      ]
     },
     "execution_count": 47,
     "metadata": {},
     "output_type": "execute_result"
    }
   ],
   "source": [
    "GS.tail()"
   ]
  },
  {
   "cell_type": "code",
   "execution_count": 48,
   "metadata": {
    "execution": {
     "iopub.execute_input": "2022-02-02T10:30:40.080091Z",
     "iopub.status.busy": "2022-02-02T10:30:40.079958Z",
     "iopub.status.idle": "2022-02-02T10:30:40.110825Z",
     "shell.execute_reply": "2022-02-02T10:30:40.110303Z",
     "shell.execute_reply.started": "2022-02-02T10:30:40.080069Z"
    }
   },
   "outputs": [],
   "source": [
    "## Sanity checks\n",
    "\n",
    "assert len(GS.loc[GS.duplicated(subset=['uniprotID_A','uniprotID_B'], keep=False)]) == 0"
   ]
  },
  {
   "cell_type": "markdown",
   "metadata": {},
   "source": [
    "---\n",
    "**EDA**"
   ]
  },
  {
   "cell_type": "code",
   "execution_count": 49,
   "metadata": {
    "execution": {
     "iopub.execute_input": "2022-02-02T10:30:40.111614Z",
     "iopub.status.busy": "2022-02-02T10:30:40.111475Z",
     "iopub.status.idle": "2022-02-02T10:30:40.180358Z",
     "shell.execute_reply": "2022-02-02T10:30:40.179812Z",
     "shell.execute_reply.started": "2022-02-02T10:30:40.111591Z"
    }
   },
   "outputs": [
    {
     "name": "stdout",
     "output_type": "stream",
     "text": [
      "## Train\n",
      "\n",
      "60,738 interactions (50.00% positive)\n",
      "\n",
      "Hub status:\n",
      "- 22,668 hub-hub interactions (37.32% - 53.41% positive)\n",
      "- 31,648 hub-lone interactions (52.11% - 51.48% positive)\n",
      "- 6,422 lone-lone interactions (10.57% - 30.69% positive)\n",
      "\n",
      "### Positive only ###\n",
      "\n",
      "Hub status:\n",
      "- 12,106 hub-hub interactions (39.86% - 100.00% positive)\n",
      "- 16,292 hub-lone interactions (53.65% - 100.00% positive)\n",
      "- 1,971 lone-lone interactions (6.49% - 100.00% positive)\n",
      "\n",
      "### Negative only ###\n",
      "\n",
      "Hub status:\n",
      "- 10,562 hub-hub interactions (34.78% - 0.00% positive)\n",
      "- 15,356 hub-lone interactions (50.56% - 0.00% positive)\n",
      "- 4,451 lone-lone interactions (14.66% - 0.00% positive)\n",
      "\n"
     ]
    }
   ],
   "source": [
    "print('## Train\\n')\n",
    "EDA_predSet(\n",
    "    GS.loc[GS.trainTest == 'train'],\n",
    "    list_hubs=list_hubs20,\n",
    "    trainSet = GS.loc[GS.trainTest == 'train'],\n",
    "    Overlap=False\n",
    ")"
   ]
  },
  {
   "cell_type": "code",
   "execution_count": 50,
   "metadata": {
    "execution": {
     "iopub.execute_input": "2022-02-02T10:30:40.181193Z",
     "iopub.status.busy": "2022-02-02T10:30:40.181048Z",
     "iopub.status.idle": "2022-02-02T10:30:40.256168Z",
     "shell.execute_reply": "2022-02-02T10:30:40.255705Z",
     "shell.execute_reply.started": "2022-02-02T10:30:40.181168Z"
    },
    "scrolled": true
   },
   "outputs": [
    {
     "name": "stdout",
     "output_type": "stream",
     "text": [
      "## Test\n",
      "\n",
      "25,398 interactions (50.00% positive)\n",
      "\n",
      "Hub status:\n",
      "- 5,937 hub-hub interactions (23.38% - 90.05% positive)\n",
      "- 10,716 hub-lone interactions (42.19% - 60.03% positive)\n",
      "- 8,745 lone-lone interactions (34.43% - 10.52% positive)\n",
      "\n",
      "Overlap with train:\n",
      "- 6,612 total overlap with train, both proteins already seen (26.03% - 50.00% positive)\n",
      "- 17,548 partial overal, only one protein seen (69.09% - 50.00% positive)\n",
      "- 1,238 no overlap (4.87% - 50.00% positive)\n",
      "\n",
      "### Positive only ###\n",
      "\n",
      "Hub status:\n",
      "- 5,346 hub-hub interactions (42.10% - 100.00% positive)\n",
      "- 6,433 hub-lone interactions (50.66% - 100.00% positive)\n",
      "- 920 lone-lone interactions (7.24% - 100.00% positive)\n",
      "\n",
      "Overlap with train:\n",
      "- 3,306 total overlap with train, both proteins already seen (26.03% - 100.00% positive)\n",
      "- 8,774 partial overal, only one protein seen (69.09% - 100.00% positive)\n",
      "- 619 no overlap (4.87% - 100.00% positive)\n",
      "\n",
      "### Negative only ###\n",
      "\n",
      "Hub status:\n",
      "- 591 hub-hub interactions (4.65% - 0.00% positive)\n",
      "- 4,283 hub-lone interactions (33.73% - 0.00% positive)\n",
      "- 7,825 lone-lone interactions (61.62% - 0.00% positive)\n",
      "\n",
      "Overlap with train:\n",
      "- 3,306 total overlap with train, both proteins already seen (26.03% - 0.00% positive)\n",
      "- 8,774 partial overal, only one protein seen (69.09% - 0.00% positive)\n",
      "- 619 no overlap (4.87% - 0.00% positive)\n",
      "\n",
      "### Hub-Hub only ###\n",
      "\n",
      "Overlap with train:\n",
      "- 1,507 total overlap with train, both proteins already seen (25.38% - 89.38% positive)\n",
      "- 4,146 partial overal, only one protein seen (69.83% - 90.28% positive)\n",
      "- 284 no overlap (4.78% - 90.14% positive)\n",
      "\n",
      "### Hub-Lone only ###\n",
      "\n",
      "Overlap with train:\n",
      "- 2,881 total overlap with train, both proteins already seen (26.89% - 61.19% positive)\n",
      "- 7,310 partial overal, only one protein seen (68.22% - 59.89% positive)\n",
      "- 525 no overlap (4.90% - 55.62% positive)\n",
      "\n",
      "### Lone-Lone only ###\n",
      "\n",
      "Overlap with train:\n",
      "- 2,224 total overlap with train, both proteins already seen (25.43% - 8.81% positive)\n",
      "- 6,092 partial overal, only one protein seen (69.66% - 10.72% positive)\n",
      "- 429 no overlap (4.91% - 16.55% positive)\n",
      "\n",
      "### Complete overlap only ###\n",
      "\n",
      "Hub status:\n",
      "- 1,507 hub-hub interactions (22.79% - 89.38% positive)\n",
      "- 2,881 hub-lone interactions (43.57% - 61.19% positive)\n",
      "- 2,224 lone-lone interactions (33.64% - 8.81% positive)\n",
      "\n",
      "### Partial overlap only ###\n",
      "\n",
      "Hub status:\n",
      "- 4,146 hub-hub interactions (23.63% - 90.28% positive)\n",
      "- 7,310 hub-lone interactions (41.66% - 59.89% positive)\n",
      "- 6,092 lone-lone interactions (34.72% - 10.72% positive)\n",
      "\n",
      "### No overlap only ###\n",
      "\n",
      "Hub status:\n",
      "- 284 hub-hub interactions (22.94% - 90.14% positive)\n",
      "- 525 hub-lone interactions (42.41% - 55.62% positive)\n",
      "- 429 lone-lone interactions (34.65% - 16.55% positive)\n",
      "\n"
     ]
    }
   ],
   "source": [
    "print('## Test\\n')\n",
    "\n",
    "EDA_predSet(\n",
    "    GS.loc[GS.trainTest == 'test'],\n",
    "    list_hubs=list_hubs20,\n",
    "    trainSet = GS.loc[GS.trainTest == 'train'],\n",
    ")"
   ]
  },
  {
   "cell_type": "code",
   "execution_count": 51,
   "metadata": {
    "execution": {
     "iopub.execute_input": "2022-02-02T10:30:40.257015Z",
     "iopub.status.busy": "2022-02-02T10:30:40.256873Z",
     "iopub.status.idle": "2022-02-02T10:30:41.314859Z",
     "shell.execute_reply": "2022-02-02T10:30:41.314097Z",
     "shell.execute_reply.started": "2022-02-02T10:30:40.256990Z"
    }
   },
   "outputs": [
    {
     "data": {
      "image/png": "[encoded data removed]",
      "text/plain": [
       "<Figure size 1008x432 with 1 Axes>"
      ]
     },
     "metadata": {},
     "output_type": "display_data"
    },
    {
     "data": {
      "image/png": "[encoded data removed]",
      "text/plain": [
       "<Figure size 1008x432 with 1 Axes>"
      ]
     },
     "metadata": {},
     "output_type": "display_data"
    }
   ],
   "source": [
    "for x in ['train','test']:\n",
    "    for y in [0,1]:\n",
    "        foo = GS.loc[(GS.isInteraction == y)&(GS.trainTest == x)]\n",
    "        allIDs = pd.concat([foo.uniprotID_A, foo.uniprotID_B])\n",
    "        valCounts = allIDs.value_counts()\n",
    "        plt.plot(\n",
    "            range(len(valCounts)), valCounts.values, \n",
    "            label=f\"Label: {y}\"\n",
    "        )\n",
    "    plt.xlabel('')\n",
    "    plt.ylabel('Number of interactions')\n",
    "    plt.title(f'Number of interactions per protein - {x}')\n",
    "    plt.yscale('log')\n",
    "    plt.legend()\n",
    "    plt.show();"
   ]
  },
  {
   "cell_type": "code",
   "execution_count": 52,
   "metadata": {
    "execution": {
     "iopub.execute_input": "2022-02-02T10:30:41.316135Z",
     "iopub.status.busy": "2022-02-02T10:30:41.315975Z",
     "iopub.status.idle": "2022-02-02T10:30:41.326315Z",
     "shell.execute_reply": "2022-02-02T10:30:41.325727Z",
     "shell.execute_reply.started": "2022-02-02T10:30:41.316108Z"
    }
   },
   "outputs": [
    {
     "data": {
      "text/plain": [
       "train    60738\n",
       "test     25398\n",
       "Name: trainTest, dtype: int64"
      ]
     },
     "execution_count": 52,
     "metadata": {},
     "output_type": "execute_result"
    }
   ],
   "source": [
    "GS.trainTest.value_counts()"
   ]
  },
  {
   "cell_type": "markdown",
   "metadata": {},
   "source": [
    "## Add Similarity Measures"
   ]
  },
  {
   "cell_type": "code",
   "execution_count": 53,
   "metadata": {
    "execution": {
     "iopub.execute_input": "2022-02-02T10:30:41.327108Z",
     "iopub.status.busy": "2022-02-02T10:30:41.326971Z",
     "iopub.status.idle": "2022-02-02T10:30:41.360290Z",
     "shell.execute_reply": "2022-02-02T10:30:41.359375Z",
     "shell.execute_reply.started": "2022-02-02T10:30:41.327085Z"
    }
   },
   "outputs": [],
   "source": [
    "def AddSimilarityMeasures(df, cfg, logVersions, df_path=None):\n",
    "    \n",
    "    if df_path is None:\n",
    "        path2use = f\"similarityMeasures_v{logVersions['featuresEngineering']['similarityMeasure']}.pkl\"\n",
    "    else:\n",
    "        path2use = df_path\n",
    "    \n",
    "    df_features = pd.read_pickle(\n",
    "        os.path.join(\n",
    "            cfg['outputFeaturesEngineering'],\n",
    "            path2use\n",
    "        )\n",
    "    )\n",
    "    df_features['isThere'] = 1\n",
    "    assert ~df_features.duplicated(subset=[\"uniprotID_A\",\"uniprotID_B\"]).any()\n",
    "    \n",
    "    foo = df.merge(\n",
    "        df_features,\n",
    "        how = 'left',\n",
    "        on = [\"uniprotID_A\",\"uniprotID_B\"]\n",
    "    )\n",
    "    \n",
    "    assert len(foo) == len(df)  \n",
    "    assert foo.isThere.isna().sum() == 0\n",
    "    assert ~foo.duplicated(subset=[\"uniprotID_A\",\"uniprotID_B\"]).any()\n",
    "    \n",
    "    foo.drop(['isThere'], axis=1, inplace=True)\n",
    "    \n",
    "    return foo"
   ]
  },
  {
   "cell_type": "code",
   "execution_count": 54,
   "metadata": {
    "execution": {
     "iopub.execute_input": "2022-02-02T10:30:41.361415Z",
     "iopub.status.busy": "2022-02-02T10:30:41.361167Z",
     "iopub.status.idle": "2022-02-02T10:30:41.383141Z",
     "shell.execute_reply": "2022-02-02T10:30:41.382143Z",
     "shell.execute_reply.started": "2022-02-02T10:30:41.361375Z"
    }
   },
   "outputs": [],
   "source": [
    "to_enrich = GS"
   ]
  },
  {
   "cell_type": "code",
   "execution_count": 55,
   "metadata": {
    "execution": {
     "iopub.execute_input": "2022-02-02T10:30:41.385189Z",
     "iopub.status.busy": "2022-02-02T10:30:41.384648Z",
     "iopub.status.idle": "2022-02-02T10:30:59.116898Z",
     "shell.execute_reply": "2022-02-02T10:30:59.116109Z",
     "shell.execute_reply.started": "2022-02-02T10:30:41.384984Z"
    }
   },
   "outputs": [
    {
     "name": "stdout",
     "output_type": "stream",
     "text": [
      "DataFrame: 86,136 rows \t 9 columns\n"
     ]
    },
    {
     "data": {
      "text/html": [
       "<div>\n",
       "<style scoped>\n",
       "    .dataframe tbody tr th:only-of-type {\n",
       "        vertical-align: middle;\n",
       "    }\n",
       "\n",
       "    .dataframe tbody tr th {\n",
       "        vertical-align: top;\n",
       "    }\n",
       "\n",
       "    .dataframe thead th {\n",
       "        text-align: right;\n",
       "    }\n",
       "</style>\n",
       "<table border=\"1\" class=\"dataframe\">\n",
       "  <thead>\n",
       "    <tr style=\"text-align: right;\">\n",
       "      <th></th>\n",
       "      <th>uniprotID_A</th>\n",
       "      <th>uniprotID_B</th>\n",
       "      <th>isInteraction</th>\n",
       "      <th>trainTest</th>\n",
       "      <th>bioProcessUniprot</th>\n",
       "      <th>cellCompUniprot</th>\n",
       "      <th>molFuncUniprot</th>\n",
       "      <th>domainUniprot</th>\n",
       "      <th>motifUniprot</th>\n",
       "    </tr>\n",
       "  </thead>\n",
       "  <tbody>\n",
       "    <tr>\n",
       "      <th>0</th>\n",
       "      <td>P04050</td>\n",
       "      <td>P38827</td>\n",
       "      <td>1</td>\n",
       "      <td>test</td>\n",
       "      <td>0.000000</td>\n",
       "      <td>0.000000</td>\n",
       "      <td>0.0</td>\n",
       "      <td>0.0</td>\n",
       "      <td>0.0</td>\n",
       "    </tr>\n",
       "    <tr>\n",
       "      <th>1</th>\n",
       "      <td>P15019</td>\n",
       "      <td>P53228</td>\n",
       "      <td>1</td>\n",
       "      <td>train</td>\n",
       "      <td>0.666667</td>\n",
       "      <td>1.000000</td>\n",
       "      <td>1.0</td>\n",
       "      <td>0.0</td>\n",
       "      <td>0.0</td>\n",
       "    </tr>\n",
       "    <tr>\n",
       "      <th>2</th>\n",
       "      <td>P46970</td>\n",
       "      <td>Q03214</td>\n",
       "      <td>1</td>\n",
       "      <td>train</td>\n",
       "      <td>0.000000</td>\n",
       "      <td>0.516398</td>\n",
       "      <td>0.0</td>\n",
       "      <td>0.0</td>\n",
       "      <td>0.0</td>\n",
       "    </tr>\n",
       "    <tr>\n",
       "      <th>3</th>\n",
       "      <td>P17558</td>\n",
       "      <td>P38972</td>\n",
       "      <td>1</td>\n",
       "      <td>train</td>\n",
       "      <td>0.000000</td>\n",
       "      <td>0.000000</td>\n",
       "      <td>0.0</td>\n",
       "      <td>0.0</td>\n",
       "      <td>0.0</td>\n",
       "    </tr>\n",
       "    <tr>\n",
       "      <th>4</th>\n",
       "      <td>P53173</td>\n",
       "      <td>Q12234</td>\n",
       "      <td>1</td>\n",
       "      <td>train</td>\n",
       "      <td>0.316228</td>\n",
       "      <td>0.235702</td>\n",
       "      <td>0.0</td>\n",
       "      <td>0.0</td>\n",
       "      <td>0.0</td>\n",
       "    </tr>\n",
       "  </tbody>\n",
       "</table>\n",
       "</div>"
      ],
      "text/plain": [
       "  uniprotID_A uniprotID_B  isInteraction trainTest  bioProcessUniprot  \\\n",
       "0      P04050      P38827              1      test           0.000000   \n",
       "1      P15019      P53228              1     train           0.666667   \n",
       "2      P46970      Q03214              1     train           0.000000   \n",
       "3      P17558      P38972              1     train           0.000000   \n",
       "4      P53173      Q12234              1     train           0.316228   \n",
       "\n",
       "   cellCompUniprot  molFuncUniprot  domainUniprot  motifUniprot  \n",
       "0         0.000000             0.0            0.0           0.0  \n",
       "1         1.000000             1.0            0.0           0.0  \n",
       "2         0.516398             0.0            0.0           0.0  \n",
       "3         0.000000             0.0            0.0           0.0  \n",
       "4         0.235702             0.0            0.0           0.0  "
      ]
     },
     "metadata": {},
     "output_type": "display_data"
    },
    {
     "name": "stdout",
     "output_type": "stream",
     "text": [
      "success\n"
     ]
    }
   ],
   "source": [
    "GS_SM = AddSimilarityMeasures(\n",
    "    to_enrich, cfg=cfg, logVersions=logVersions,\n",
    "    df_path = f\"similarityMeasures_yeast_v{logVersions['featuresEngineering']['yeast']['similarityMeasure']}.pkl\"\n",
    ")\n",
    "glance(GS_SM)\n",
    "\n",
    "print(\"success\")"
   ]
  },
  {
   "cell_type": "code",
   "execution_count": 56,
   "metadata": {
    "execution": {
     "iopub.execute_input": "2022-02-02T10:30:59.118090Z",
     "iopub.status.busy": "2022-02-02T10:30:59.117929Z",
     "iopub.status.idle": "2022-02-02T10:30:59.159703Z",
     "shell.execute_reply": "2022-02-02T10:30:59.158885Z",
     "shell.execute_reply.started": "2022-02-02T10:30:59.118064Z"
    }
   },
   "outputs": [
    {
     "name": "stdout",
     "output_type": "stream",
     "text": [
      "<class 'pandas.core.frame.DataFrame'>\n",
      "Int64Index: 86136 entries, 0 to 86135\n",
      "Data columns (total 9 columns):\n",
      " #   Column             Non-Null Count  Dtype  \n",
      "---  ------             --------------  -----  \n",
      " 0   uniprotID_A        86136 non-null  object \n",
      " 1   uniprotID_B        86136 non-null  object \n",
      " 2   isInteraction      86136 non-null  int64  \n",
      " 3   trainTest          86136 non-null  object \n",
      " 4   bioProcessUniprot  86136 non-null  float64\n",
      " 5   cellCompUniprot    86136 non-null  float64\n",
      " 6   molFuncUniprot     86136 non-null  float64\n",
      " 7   domainUniprot      86136 non-null  float64\n",
      " 8   motifUniprot       86136 non-null  float64\n",
      "dtypes: float64(5), int64(1), object(3)\n",
      "memory usage: 6.6+ MB\n"
     ]
    }
   ],
   "source": [
    "GS_SM.info()"
   ]
  },
  {
   "cell_type": "markdown",
   "metadata": {},
   "source": [
    "## Add sequence"
   ]
  },
  {
   "cell_type": "code",
   "execution_count": 57,
   "metadata": {
    "execution": {
     "iopub.execute_input": "2022-02-02T10:31:37.833104Z",
     "iopub.status.busy": "2022-02-02T10:31:37.832234Z",
     "iopub.status.idle": "2022-02-02T10:31:37.851981Z",
     "shell.execute_reply": "2022-02-02T10:31:37.851427Z",
     "shell.execute_reply.started": "2022-02-02T10:31:37.832667Z"
    }
   },
   "outputs": [
    {
     "name": "stdout",
     "output_type": "stream",
     "text": [
      "DataFrame: 86,136 rows \t 9 columns\n"
     ]
    },
    {
     "data": {
      "text/html": [
       "<div>\n",
       "<style scoped>\n",
       "    .dataframe tbody tr th:only-of-type {\n",
       "        vertical-align: middle;\n",
       "    }\n",
       "\n",
       "    .dataframe tbody tr th {\n",
       "        vertical-align: top;\n",
       "    }\n",
       "\n",
       "    .dataframe thead th {\n",
       "        text-align: right;\n",
       "    }\n",
       "</style>\n",
       "<table border=\"1\" class=\"dataframe\">\n",
       "  <thead>\n",
       "    <tr style=\"text-align: right;\">\n",
       "      <th></th>\n",
       "      <th>uniprotID_A</th>\n",
       "      <th>uniprotID_B</th>\n",
       "      <th>isInteraction</th>\n",
       "      <th>trainTest</th>\n",
       "      <th>bioProcessUniprot</th>\n",
       "      <th>cellCompUniprot</th>\n",
       "      <th>molFuncUniprot</th>\n",
       "      <th>domainUniprot</th>\n",
       "      <th>motifUniprot</th>\n",
       "    </tr>\n",
       "  </thead>\n",
       "  <tbody>\n",
       "    <tr>\n",
       "      <th>0</th>\n",
       "      <td>P04050</td>\n",
       "      <td>P38827</td>\n",
       "      <td>1</td>\n",
       "      <td>test</td>\n",
       "      <td>0.000000</td>\n",
       "      <td>0.000000</td>\n",
       "      <td>0.0</td>\n",
       "      <td>0.0</td>\n",
       "      <td>0.0</td>\n",
       "    </tr>\n",
       "    <tr>\n",
       "      <th>1</th>\n",
       "      <td>P15019</td>\n",
       "      <td>P53228</td>\n",
       "      <td>1</td>\n",
       "      <td>train</td>\n",
       "      <td>0.666667</td>\n",
       "      <td>1.000000</td>\n",
       "      <td>1.0</td>\n",
       "      <td>0.0</td>\n",
       "      <td>0.0</td>\n",
       "    </tr>\n",
       "    <tr>\n",
       "      <th>2</th>\n",
       "      <td>P46970</td>\n",
       "      <td>Q03214</td>\n",
       "      <td>1</td>\n",
       "      <td>train</td>\n",
       "      <td>0.000000</td>\n",
       "      <td>0.516398</td>\n",
       "      <td>0.0</td>\n",
       "      <td>0.0</td>\n",
       "      <td>0.0</td>\n",
       "    </tr>\n",
       "    <tr>\n",
       "      <th>3</th>\n",
       "      <td>P17558</td>\n",
       "      <td>P38972</td>\n",
       "      <td>1</td>\n",
       "      <td>train</td>\n",
       "      <td>0.000000</td>\n",
       "      <td>0.000000</td>\n",
       "      <td>0.0</td>\n",
       "      <td>0.0</td>\n",
       "      <td>0.0</td>\n",
       "    </tr>\n",
       "    <tr>\n",
       "      <th>4</th>\n",
       "      <td>P53173</td>\n",
       "      <td>Q12234</td>\n",
       "      <td>1</td>\n",
       "      <td>train</td>\n",
       "      <td>0.316228</td>\n",
       "      <td>0.235702</td>\n",
       "      <td>0.0</td>\n",
       "      <td>0.0</td>\n",
       "      <td>0.0</td>\n",
       "    </tr>\n",
       "  </tbody>\n",
       "</table>\n",
       "</div>"
      ],
      "text/plain": [
       "  uniprotID_A uniprotID_B  isInteraction trainTest  bioProcessUniprot  \\\n",
       "0      P04050      P38827              1      test           0.000000   \n",
       "1      P15019      P53228              1     train           0.666667   \n",
       "2      P46970      Q03214              1     train           0.000000   \n",
       "3      P17558      P38972              1     train           0.000000   \n",
       "4      P53173      Q12234              1     train           0.316228   \n",
       "\n",
       "   cellCompUniprot  molFuncUniprot  domainUniprot  motifUniprot  \n",
       "0         0.000000             0.0            0.0           0.0  \n",
       "1         1.000000             1.0            0.0           0.0  \n",
       "2         0.516398             0.0            0.0           0.0  \n",
       "3         0.000000             0.0            0.0           0.0  \n",
       "4         0.235702             0.0            0.0           0.0  "
      ]
     },
     "metadata": {},
     "output_type": "display_data"
    }
   ],
   "source": [
    "glance(GS_SM)"
   ]
  },
  {
   "cell_type": "code",
   "execution_count": 58,
   "metadata": {
    "execution": {
     "iopub.execute_input": "2022-02-02T10:31:45.043488Z",
     "iopub.status.busy": "2022-02-02T10:31:45.042788Z",
     "iopub.status.idle": "2022-02-02T10:31:45.138861Z",
     "shell.execute_reply": "2022-02-02T10:31:45.138314Z",
     "shell.execute_reply.started": "2022-02-02T10:31:45.043212Z"
    }
   },
   "outputs": [
    {
     "name": "stdout",
     "output_type": "stream",
     "text": [
      "DataFrame: 6,721 rows \t 2 columns\n"
     ]
    },
    {
     "data": {
      "text/html": [
       "<div>\n",
       "<style scoped>\n",
       "    .dataframe tbody tr th:only-of-type {\n",
       "        vertical-align: middle;\n",
       "    }\n",
       "\n",
       "    .dataframe tbody tr th {\n",
       "        vertical-align: top;\n",
       "    }\n",
       "\n",
       "    .dataframe thead th {\n",
       "        text-align: right;\n",
       "    }\n",
       "</style>\n",
       "<table border=\"1\" class=\"dataframe\">\n",
       "  <thead>\n",
       "    <tr style=\"text-align: right;\">\n",
       "      <th></th>\n",
       "      <th>uniprotID</th>\n",
       "      <th>sequence</th>\n",
       "    </tr>\n",
       "  </thead>\n",
       "  <tbody>\n",
       "    <tr>\n",
       "      <th>0</th>\n",
       "      <td>A0A023PXA5</td>\n",
       "      <td>MLLSELVATASSLPYTAISIHNNCRVPAARHIHHGCRYFHGPPVMH...</td>\n",
       "    </tr>\n",
       "    <tr>\n",
       "      <th>1</th>\n",
       "      <td>A0A023PXB0</td>\n",
       "      <td>MFINGFVNYPVRTPPNDLLQVVLHGFLRCPLDGSQVDSIGIGHTVH...</td>\n",
       "    </tr>\n",
       "    <tr>\n",
       "      <th>2</th>\n",
       "      <td>A0A023PXB5</td>\n",
       "      <td>MFALIISSKGKTSGFFFNSSFSSSALVGIAPLTAYSALVTPVFKSF...</td>\n",
       "    </tr>\n",
       "    <tr>\n",
       "      <th>3</th>\n",
       "      <td>A0A023PXB9</td>\n",
       "      <td>MEYVLIYNIWFFSFLQDKPCFCFVDYACSIFLLSSYCGNCLTAVAT...</td>\n",
       "    </tr>\n",
       "    <tr>\n",
       "      <th>4</th>\n",
       "      <td>A0A023PXC2</td>\n",
       "      <td>MLPLCLTFLSFFLSLGGSFKAVMTKEEADGTTEAAACLFWIFNWTV...</td>\n",
       "    </tr>\n",
       "  </tbody>\n",
       "</table>\n",
       "</div>"
      ],
      "text/plain": [
       "    uniprotID                                           sequence\n",
       "0  A0A023PXA5  MLLSELVATASSLPYTAISIHNNCRVPAARHIHHGCRYFHGPPVMH...\n",
       "1  A0A023PXB0  MFINGFVNYPVRTPPNDLLQVVLHGFLRCPLDGSQVDSIGIGHTVH...\n",
       "2  A0A023PXB5  MFALIISSKGKTSGFFFNSSFSSSALVGIAPLTAYSALVTPVFKSF...\n",
       "3  A0A023PXB9  MEYVLIYNIWFFSFLQDKPCFCFVDYACSIFLLSSYCGNCLTAVAT...\n",
       "4  A0A023PXC2  MLPLCLTFLSFFLSLGGSFKAVMTKEEADGTTEAAACLFWIFNWTV..."
      ]
     },
     "metadata": {},
     "output_type": "display_data"
    }
   ],
   "source": [
    "sequenceData = pd.read_pickle(\n",
    "    os.path.join(\n",
    "        cfg['outputPreprocessingUniprot'], \n",
    "        \"sequenceData_yeast_v{}--{}.pkl\".format(logVersions['UniProt']['yeast']['rawData'], logVersions['UniProt']['yeast']['preprocessed'])\n",
    "    )\n",
    ")\n",
    "\n",
    "glance(sequenceData)"
   ]
  },
  {
   "cell_type": "code",
   "execution_count": 59,
   "metadata": {
    "execution": {
     "iopub.execute_input": "2022-02-02T10:31:54.292360Z",
     "iopub.status.busy": "2022-02-02T10:31:54.291850Z",
     "iopub.status.idle": "2022-02-02T10:31:54.380017Z",
     "shell.execute_reply": "2022-02-02T10:31:54.379188Z",
     "shell.execute_reply.started": "2022-02-02T10:31:54.292281Z"
    }
   },
   "outputs": [
    {
     "name": "stdout",
     "output_type": "stream",
     "text": [
      "DataFrame: 86,136 rows \t 11 columns\n"
     ]
    },
    {
     "data": {
      "text/html": [
       "<div>\n",
       "<style scoped>\n",
       "    .dataframe tbody tr th:only-of-type {\n",
       "        vertical-align: middle;\n",
       "    }\n",
       "\n",
       "    .dataframe tbody tr th {\n",
       "        vertical-align: top;\n",
       "    }\n",
       "\n",
       "    .dataframe thead th {\n",
       "        text-align: right;\n",
       "    }\n",
       "</style>\n",
       "<table border=\"1\" class=\"dataframe\">\n",
       "  <thead>\n",
       "    <tr style=\"text-align: right;\">\n",
       "      <th></th>\n",
       "      <th>uniprotID_A</th>\n",
       "      <th>uniprotID_B</th>\n",
       "      <th>isInteraction</th>\n",
       "      <th>trainTest</th>\n",
       "      <th>bioProcessUniprot</th>\n",
       "      <th>cellCompUniprot</th>\n",
       "      <th>molFuncUniprot</th>\n",
       "      <th>domainUniprot</th>\n",
       "      <th>motifUniprot</th>\n",
       "      <th>sequence_A</th>\n",
       "      <th>sequence_B</th>\n",
       "    </tr>\n",
       "  </thead>\n",
       "  <tbody>\n",
       "    <tr>\n",
       "      <th>0</th>\n",
       "      <td>P04050</td>\n",
       "      <td>P38827</td>\n",
       "      <td>1</td>\n",
       "      <td>test</td>\n",
       "      <td>0.000000</td>\n",
       "      <td>0.000000</td>\n",
       "      <td>0.0</td>\n",
       "      <td>0.0</td>\n",
       "      <td>0.0</td>\n",
       "      <td>MVGQQYSSAPLRTVKEVQFGLFSPEEVRAISVAKIRFPETMDETQT...</td>\n",
       "      <td>MSNYYRRAHASSGSYRQPQEQPQYSRSGHYQYSNGHSHQQYSSQYN...</td>\n",
       "    </tr>\n",
       "    <tr>\n",
       "      <th>1</th>\n",
       "      <td>P15019</td>\n",
       "      <td>P53228</td>\n",
       "      <td>1</td>\n",
       "      <td>train</td>\n",
       "      <td>0.666667</td>\n",
       "      <td>1.000000</td>\n",
       "      <td>1.0</td>\n",
       "      <td>0.0</td>\n",
       "      <td>0.0</td>\n",
       "      <td>MSEPAQKKQKVANNSLEQLKASGTVVVADTGDFGSIAKFQPQDSTT...</td>\n",
       "      <td>MSEPSEKKQKVATSSLEQLKKAGTHVVADSGDFEAISKYEPQDSTT...</td>\n",
       "    </tr>\n",
       "    <tr>\n",
       "      <th>2</th>\n",
       "      <td>P46970</td>\n",
       "      <td>Q03214</td>\n",
       "      <td>1</td>\n",
       "      <td>train</td>\n",
       "      <td>0.000000</td>\n",
       "      <td>0.516398</td>\n",
       "      <td>0.0</td>\n",
       "      <td>0.0</td>\n",
       "      <td>0.0</td>\n",
       "      <td>MDITELLQCFACTLDHNAAVRTNAETHLKNASKVPGFLGACLDIIA...</td>\n",
       "      <td>MSGHDSVTKISHILNEPVNEKVMVQNGFHESSKIADIELEIQERPS...</td>\n",
       "    </tr>\n",
       "    <tr>\n",
       "      <th>3</th>\n",
       "      <td>P17558</td>\n",
       "      <td>P38972</td>\n",
       "      <td>1</td>\n",
       "      <td>train</td>\n",
       "      <td>0.000000</td>\n",
       "      <td>0.000000</td>\n",
       "      <td>0.0</td>\n",
       "      <td>0.0</td>\n",
       "      <td>0.0</td>\n",
       "      <td>MGKGAAKYGFKSGVFPTTRSILKSPTTKQTDIINKVKSPKPKGVLG...</td>\n",
       "      <td>MTDYILPGPKALSQFRVDNLIKDINSYTNSTSVINELRSCYIHYVN...</td>\n",
       "    </tr>\n",
       "    <tr>\n",
       "      <th>4</th>\n",
       "      <td>P53173</td>\n",
       "      <td>Q12234</td>\n",
       "      <td>1</td>\n",
       "      <td>train</td>\n",
       "      <td>0.316228</td>\n",
       "      <td>0.235702</td>\n",
       "      <td>0.0</td>\n",
       "      <td>0.0</td>\n",
       "      <td>0.0</td>\n",
       "      <td>MGAWLFILAVVVNCINLFGQVHFTILYADLEADYINPIELCSKVNK...</td>\n",
       "      <td>MGKNKKKTGKKAKSHPHVEDVDETVNKPEEIINSVNVTVPPKMSTD...</td>\n",
       "    </tr>\n",
       "  </tbody>\n",
       "</table>\n",
       "</div>"
      ],
      "text/plain": [
       "  uniprotID_A uniprotID_B  isInteraction trainTest  bioProcessUniprot  \\\n",
       "0      P04050      P38827              1      test           0.000000   \n",
       "1      P15019      P53228              1     train           0.666667   \n",
       "2      P46970      Q03214              1     train           0.000000   \n",
       "3      P17558      P38972              1     train           0.000000   \n",
       "4      P53173      Q12234              1     train           0.316228   \n",
       "\n",
       "   cellCompUniprot  molFuncUniprot  domainUniprot  motifUniprot  \\\n",
       "0         0.000000             0.0            0.0           0.0   \n",
       "1         1.000000             1.0            0.0           0.0   \n",
       "2         0.516398             0.0            0.0           0.0   \n",
       "3         0.000000             0.0            0.0           0.0   \n",
       "4         0.235702             0.0            0.0           0.0   \n",
       "\n",
       "                                          sequence_A  \\\n",
       "0  MVGQQYSSAPLRTVKEVQFGLFSPEEVRAISVAKIRFPETMDETQT...   \n",
       "1  MSEPAQKKQKVANNSLEQLKASGTVVVADTGDFGSIAKFQPQDSTT...   \n",
       "2  MDITELLQCFACTLDHNAAVRTNAETHLKNASKVPGFLGACLDIIA...   \n",
       "3  MGKGAAKYGFKSGVFPTTRSILKSPTTKQTDIINKVKSPKPKGVLG...   \n",
       "4  MGAWLFILAVVVNCINLFGQVHFTILYADLEADYINPIELCSKVNK...   \n",
       "\n",
       "                                          sequence_B  \n",
       "0  MSNYYRRAHASSGSYRQPQEQPQYSRSGHYQYSNGHSHQQYSSQYN...  \n",
       "1  MSEPSEKKQKVATSSLEQLKKAGTHVVADSGDFEAISKYEPQDSTT...  \n",
       "2  MSGHDSVTKISHILNEPVNEKVMVQNGFHESSKIADIELEIQERPS...  \n",
       "3  MTDYILPGPKALSQFRVDNLIKDINSYTNSTSVINELRSCYIHYVN...  \n",
       "4  MGKNKKKTGKKAKSHPHVEDVDETVNKPEEIINSVNVTVPPKMSTD...  "
      ]
     },
     "metadata": {},
     "output_type": "display_data"
    }
   ],
   "source": [
    "sequenceData.columns = ['uniprotID_A', 'sequence_A']\n",
    "GS_SM_seq = GS_SM.merge(\n",
    "    sequenceData,\n",
    "    how = 'left',\n",
    "    on = \"uniprotID_A\"\n",
    ")\n",
    "\n",
    "sequenceData.columns = ['uniprotID_B', 'sequence_B']\n",
    "GS_SM_seq = GS_SM_seq.merge(\n",
    "    sequenceData,\n",
    "    how = 'left',\n",
    "    on = \"uniprotID_B\"\n",
    ")\n",
    "\n",
    "glance(GS_SM_seq)\n",
    "\n",
    "assert GS_SM_seq.isna().sum()['sequence_A'] + GS_SM_seq.isna().sum()['sequence_B'] == 0"
   ]
  },
  {
   "cell_type": "markdown",
   "metadata": {},
   "source": [
    "# Export \n",
    "\n",
    "v1 is the first version (06/12/2021)\n",
    "- v1.0 uses 908 as `seed_GS`"
   ]
  },
  {
   "cell_type": "code",
   "execution_count": 60,
   "metadata": {
    "execution": {
     "iopub.execute_input": "2022-02-02T10:32:14.911539Z",
     "iopub.status.busy": "2022-02-02T10:32:14.911014Z",
     "iopub.status.idle": "2022-02-02T10:32:14.916720Z",
     "shell.execute_reply": "2022-02-02T10:32:14.915667Z",
     "shell.execute_reply.started": "2022-02-02T10:32:14.911460Z"
    }
   },
   "outputs": [],
   "source": [
    "versionGS = '1-0'"
   ]
  },
  {
   "cell_type": "code",
   "execution_count": 61,
   "metadata": {
    "execution": {
     "iopub.execute_input": "2022-02-02T10:32:15.406349Z",
     "iopub.status.busy": "2022-02-02T10:32:15.406021Z",
     "iopub.status.idle": "2022-02-02T10:32:15.421211Z",
     "shell.execute_reply": "2022-02-02T10:32:15.420373Z",
     "shell.execute_reply.started": "2022-02-02T10:32:15.406303Z"
    }
   },
   "outputs": [],
   "source": [
    "logVersions['otherGoldStandard']['benchmarkingGS_yeast'] = versionGS\n",
    "\n",
    "dump_LogVersions(logVersions)"
   ]
  },
  {
   "cell_type": "markdown",
   "metadata": {},
   "source": [
    "---\n",
    "**To pickle**"
   ]
  },
  {
   "cell_type": "code",
   "execution_count": 62,
   "metadata": {
    "execution": {
     "iopub.execute_input": "2022-02-02T10:32:56.583848Z",
     "iopub.status.busy": "2022-02-02T10:32:56.583086Z",
     "iopub.status.idle": "2022-02-02T10:32:56.611882Z",
     "shell.execute_reply": "2022-02-02T10:32:56.610915Z",
     "shell.execute_reply.started": "2022-02-02T10:32:56.583525Z"
    }
   },
   "outputs": [
    {
     "name": "stdout",
     "output_type": "stream",
     "text": [
      "/rds/user/ll582/hpc-work/PPIdata/output/3_goldStandard/benchmarkingGS_yeast_v1-0.pkl\n"
     ]
    }
   ],
   "source": [
    "to_export = GS\n",
    "\n",
    "export_path = os.path.join(\n",
    "    cfg['outputGoldStandard'], \n",
    "    f\"benchmarkingGS_yeast_v{logVersions['otherGoldStandard']['benchmarkingGS_yeast']}.pkl\"\n",
    ")\n",
    "print(export_path)\n",
    "\n",
    "with open(export_path, 'wb') as f:\n",
    "    pkl.dump(to_export, f, protocol=pkl.HIGHEST_PROTOCOL)"
   ]
  },
  {
   "cell_type": "code",
   "execution_count": 63,
   "metadata": {
    "execution": {
     "iopub.execute_input": "2022-02-02T10:32:58.816075Z",
     "iopub.status.busy": "2022-02-02T10:32:58.815563Z",
     "iopub.status.idle": "2022-02-02T10:32:58.904473Z",
     "shell.execute_reply": "2022-02-02T10:32:58.903701Z",
     "shell.execute_reply.started": "2022-02-02T10:32:58.815997Z"
    }
   },
   "outputs": [
    {
     "name": "stdout",
     "output_type": "stream",
     "text": [
      "/rds/user/ll582/hpc-work/PPIdata/output/3_goldStandard/benchmarkingGS_yeast_v1-0_similarityMeasure_v1-0.pkl\n"
     ]
    }
   ],
   "source": [
    "to_export = GS_SM\n",
    "\n",
    "export_path = os.path.join(\n",
    "    cfg['outputGoldStandard'], \n",
    "    f\"benchmarkingGS_yeast_v{logVersions['otherGoldStandard']['benchmarkingGS_yeast']}_similarityMeasure_v{logVersions['featuresEngineering']['yeast']['similarityMeasure']}.pkl\"\n",
    ")\n",
    "print(export_path)\n",
    "\n",
    "with open(export_path, 'wb') as f:\n",
    "    pkl.dump(to_export, f, protocol=pkl.HIGHEST_PROTOCOL)"
   ]
  },
  {
   "cell_type": "code",
   "execution_count": 64,
   "metadata": {
    "execution": {
     "iopub.execute_input": "2022-02-02T10:33:07.336947Z",
     "iopub.status.busy": "2022-02-02T10:33:07.336434Z",
     "iopub.status.idle": "2022-02-02T10:33:07.438030Z",
     "shell.execute_reply": "2022-02-02T10:33:07.436859Z",
     "shell.execute_reply.started": "2022-02-02T10:33:07.336871Z"
    }
   },
   "outputs": [
    {
     "name": "stdout",
     "output_type": "stream",
     "text": [
      "/rds/user/ll582/hpc-work/PPIdata/output/3_goldStandard/benchmarkingGS_yeast_v1-0_similarityMeasure_sequence_v1-0.pkl\n"
     ]
    }
   ],
   "source": [
    "to_export = GS_SM_seq\n",
    "\n",
    "export_path = os.path.join(\n",
    "    cfg['outputGoldStandard'], \n",
    "    f\"benchmarkingGS_yeast_v{logVersions['otherGoldStandard']['benchmarkingGS_yeast']}_similarityMeasure_sequence_v{logVersions['featuresEngineering']['yeast']['similarityMeasure']}.pkl\"\n",
    ")\n",
    "print(export_path)\n",
    "\n",
    "with open(export_path, 'wb') as f:\n",
    "    pkl.dump(to_export, f, protocol=pkl.HIGHEST_PROTOCOL)"
   ]
  },
  {
   "cell_type": "markdown",
   "metadata": {},
   "source": [
    "---\n",
    "**Export as csv**"
   ]
  },
  {
   "cell_type": "code",
   "execution_count": 65,
   "metadata": {
    "execution": {
     "iopub.execute_input": "2022-02-02T10:34:05.416727Z",
     "iopub.status.busy": "2022-02-02T10:34:05.415859Z",
     "iopub.status.idle": "2022-02-02T10:34:05.538793Z",
     "shell.execute_reply": "2022-02-02T10:34:05.538114Z",
     "shell.execute_reply.started": "2022-02-02T10:34:05.416290Z"
    }
   },
   "outputs": [
    {
     "name": "stdout",
     "output_type": "stream",
     "text": [
      "/rds/user/ll582/hpc-work/PPIdata/output/3_goldStandard/benchmarkingGS_yeast_v1-0.csv\n"
     ]
    }
   ],
   "source": [
    "to_export = GS\n",
    "\n",
    "export_path = os.path.join(\n",
    "    cfg['outputGoldStandard'], \n",
    "    f\"benchmarkingGS_yeast_v{logVersions['otherGoldStandard']['benchmarkingGS_yeast']}.csv\"\n",
    ")\n",
    "print(export_path)\n",
    "\n",
    "to_export.to_csv(export_path, sep='|', index=False)"
   ]
  },
  {
   "cell_type": "code",
   "execution_count": 66,
   "metadata": {
    "execution": {
     "iopub.execute_input": "2022-02-02T10:34:06.401834Z",
     "iopub.status.busy": "2022-02-02T10:34:06.401056Z",
     "iopub.status.idle": "2022-02-02T10:34:06.878830Z",
     "shell.execute_reply": "2022-02-02T10:34:06.878130Z",
     "shell.execute_reply.started": "2022-02-02T10:34:06.401498Z"
    }
   },
   "outputs": [
    {
     "name": "stdout",
     "output_type": "stream",
     "text": [
      "/rds/user/ll582/hpc-work/PPIdata/output/3_goldStandard/benchmarkingGS_yeast_v1-0_similarityMeasure_v1-0.csv\n"
     ]
    }
   ],
   "source": [
    "to_export = GS_SM\n",
    "\n",
    "export_path = os.path.join(\n",
    "    cfg['outputGoldStandard'], \n",
    "    f\"benchmarkingGS_yeast_v{logVersions['otherGoldStandard']['benchmarkingGS_yeast']}_similarityMeasure_v{logVersions['featuresEngineering']['yeast']['similarityMeasure']}.csv\"\n",
    ")\n",
    "print(export_path)\n",
    "\n",
    "to_export.to_csv(export_path, sep='|', index=False)"
   ]
  },
  {
   "cell_type": "code",
   "execution_count": 67,
   "metadata": {
    "execution": {
     "iopub.execute_input": "2022-02-02T10:34:07.429384Z",
     "iopub.status.busy": "2022-02-02T10:34:07.428598Z",
     "iopub.status.idle": "2022-02-02T10:34:09.349334Z",
     "shell.execute_reply": "2022-02-02T10:34:09.348564Z",
     "shell.execute_reply.started": "2022-02-02T10:34:07.429038Z"
    }
   },
   "outputs": [
    {
     "name": "stdout",
     "output_type": "stream",
     "text": [
      "/rds/user/ll582/hpc-work/PPIdata/output/3_goldStandard/benchmarkingGS_yeast_v1-0_similarityMeasure_sequence_v1-0.csv\n"
     ]
    }
   ],
   "source": [
    "to_export = GS_SM_seq\n",
    "\n",
    "export_path = os.path.join(\n",
    "    cfg['outputGoldStandard'], \n",
    "    f\"benchmarkingGS_yeast_v{logVersions['otherGoldStandard']['benchmarkingGS_yeast']}_similarityMeasure_sequence_v{logVersions['featuresEngineering']['yeast']['similarityMeasure']}.csv\"\n",
    ")\n",
    "print(export_path)\n",
    "\n",
    "to_export.to_csv(export_path, sep='|', index=False)"
   ]
  },
  {
   "cell_type": "markdown",
   "metadata": {},
   "source": [
    "# Alternate test set with weighting sampling for Hubs investigation"
   ]
  },
  {
   "cell_type": "markdown",
   "metadata": {},
   "source": [
    "- PPI_final already done, just need to do `test`\n",
    "- NIPs_train already done\n",
    "- NIPs_test to be done"
   ]
  },
  {
   "cell_type": "markdown",
   "metadata": {},
   "source": [
    "## Select alternative test set"
   ]
  },
  {
   "cell_type": "markdown",
   "metadata": {},
   "source": [
    "---\n",
    "**Sample NIPs for test**"
   ]
  },
  {
   "cell_type": "code",
   "execution_count": 68,
   "metadata": {
    "execution": {
     "iopub.execute_input": "2022-02-02T10:34:32.290416Z",
     "iopub.status.busy": "2022-02-02T10:34:32.289608Z",
     "iopub.status.idle": "2022-02-02T10:34:32.309394Z",
     "shell.execute_reply": "2022-02-02T10:34:32.308909Z",
     "shell.execute_reply.started": "2022-02-02T10:34:32.290055Z"
    }
   },
   "outputs": [
    {
     "name": "stdout",
     "output_type": "stream",
     "text": [
      "DataFrame: 43,068 rows \t 4 columns\n"
     ]
    },
    {
     "data": {
      "text/html": [
       "<div>\n",
       "<style scoped>\n",
       "    .dataframe tbody tr th:only-of-type {\n",
       "        vertical-align: middle;\n",
       "    }\n",
       "\n",
       "    .dataframe tbody tr th {\n",
       "        vertical-align: top;\n",
       "    }\n",
       "\n",
       "    .dataframe thead th {\n",
       "        text-align: right;\n",
       "    }\n",
       "</style>\n",
       "<table border=\"1\" class=\"dataframe\">\n",
       "  <thead>\n",
       "    <tr style=\"text-align: right;\">\n",
       "      <th></th>\n",
       "      <th>uniprotID_A</th>\n",
       "      <th>uniprotID_B</th>\n",
       "      <th>isInteraction</th>\n",
       "      <th>trainTest</th>\n",
       "    </tr>\n",
       "  </thead>\n",
       "  <tbody>\n",
       "    <tr>\n",
       "      <th>0</th>\n",
       "      <td>P04050</td>\n",
       "      <td>P38827</td>\n",
       "      <td>1</td>\n",
       "      <td>test</td>\n",
       "    </tr>\n",
       "    <tr>\n",
       "      <th>1</th>\n",
       "      <td>P15019</td>\n",
       "      <td>P53228</td>\n",
       "      <td>1</td>\n",
       "      <td>train</td>\n",
       "    </tr>\n",
       "    <tr>\n",
       "      <th>2</th>\n",
       "      <td>P46970</td>\n",
       "      <td>Q03214</td>\n",
       "      <td>1</td>\n",
       "      <td>train</td>\n",
       "    </tr>\n",
       "    <tr>\n",
       "      <th>3</th>\n",
       "      <td>P17558</td>\n",
       "      <td>P38972</td>\n",
       "      <td>1</td>\n",
       "      <td>train</td>\n",
       "    </tr>\n",
       "    <tr>\n",
       "      <th>4</th>\n",
       "      <td>P53173</td>\n",
       "      <td>Q12234</td>\n",
       "      <td>1</td>\n",
       "      <td>train</td>\n",
       "    </tr>\n",
       "  </tbody>\n",
       "</table>\n",
       "</div>"
      ],
      "text/plain": [
       "  uniprotID_A uniprotID_B  isInteraction trainTest\n",
       "0      P04050      P38827              1      test\n",
       "1      P15019      P53228              1     train\n",
       "2      P46970      Q03214              1     train\n",
       "3      P17558      P38972              1     train\n",
       "4      P53173      Q12234              1     train"
      ]
     },
     "metadata": {},
     "output_type": "display_data"
    }
   ],
   "source": [
    "PPI_alt = PPI_final.copy()\n",
    "glance(PPI_alt)"
   ]
  },
  {
   "cell_type": "code",
   "execution_count": 69,
   "metadata": {
    "execution": {
     "iopub.execute_input": "2022-02-02T10:34:33.232910Z",
     "iopub.status.busy": "2022-02-02T10:34:33.232177Z",
     "iopub.status.idle": "2022-02-02T10:34:33.365507Z",
     "shell.execute_reply": "2022-02-02T10:34:33.364978Z",
     "shell.execute_reply.started": "2022-02-02T10:34:33.232614Z"
    }
   },
   "outputs": [
    {
     "name": "stdout",
     "output_type": "stream",
     "text": [
      "Removed 65 self-interactions\n",
      "Removed 1,556 duplicates\n",
      "Removed 2,112 known false negatives\n",
      "Removed 458 based on other ref dataset\n",
      "Final number of interactions: 12,699\n",
      "\n",
      "DataFrame: 12,699 rows \t 4 columns\n"
     ]
    },
    {
     "data": {
      "text/html": [
       "<div>\n",
       "<style scoped>\n",
       "    .dataframe tbody tr th:only-of-type {\n",
       "        vertical-align: middle;\n",
       "    }\n",
       "\n",
       "    .dataframe tbody tr th {\n",
       "        vertical-align: top;\n",
       "    }\n",
       "\n",
       "    .dataframe thead th {\n",
       "        text-align: right;\n",
       "    }\n",
       "</style>\n",
       "<table border=\"1\" class=\"dataframe\">\n",
       "  <thead>\n",
       "    <tr style=\"text-align: right;\">\n",
       "      <th></th>\n",
       "      <th>uniprotID_A</th>\n",
       "      <th>uniprotID_B</th>\n",
       "      <th>isInteraction</th>\n",
       "      <th>trainTest</th>\n",
       "    </tr>\n",
       "  </thead>\n",
       "  <tbody>\n",
       "    <tr>\n",
       "      <th>0</th>\n",
       "      <td>P33416</td>\n",
       "      <td>P40049</td>\n",
       "      <td>0</td>\n",
       "      <td>test</td>\n",
       "    </tr>\n",
       "    <tr>\n",
       "      <th>1</th>\n",
       "      <td>P35191</td>\n",
       "      <td>Q03557</td>\n",
       "      <td>0</td>\n",
       "      <td>test</td>\n",
       "    </tr>\n",
       "    <tr>\n",
       "      <th>2</th>\n",
       "      <td>Q04636</td>\n",
       "      <td>Q08231</td>\n",
       "      <td>0</td>\n",
       "      <td>test</td>\n",
       "    </tr>\n",
       "    <tr>\n",
       "      <th>3</th>\n",
       "      <td>P40422</td>\n",
       "      <td>P41909</td>\n",
       "      <td>0</td>\n",
       "      <td>test</td>\n",
       "    </tr>\n",
       "    <tr>\n",
       "      <th>4</th>\n",
       "      <td>P33759</td>\n",
       "      <td>P47041</td>\n",
       "      <td>0</td>\n",
       "      <td>test</td>\n",
       "    </tr>\n",
       "  </tbody>\n",
       "</table>\n",
       "</div>"
      ],
      "text/plain": [
       "  uniprotID_A uniprotID_B  isInteraction trainTest\n",
       "0      P33416      P40049              0      test\n",
       "1      P35191      Q03557              0      test\n",
       "2      Q04636      Q08231              0      test\n",
       "3      P40422      P41909              0      test\n",
       "4      P33759      P47041              0      test"
      ]
     },
     "metadata": {},
     "output_type": "display_data"
    }
   ],
   "source": [
    "PPI_test_alt = PPI_alt.loc[PPI_alt.trainTest == 'test']\n",
    "allIDs_PPI_test_alt = pd.concat([PPI_test_alt.uniprotID_A,PPI_test_alt.uniprotID_B])\n",
    "\n",
    "NIPs_test_alt = sampleNIPs(\n",
    "    IDs2sample=allIDs_PPI_test_alt.to_list(), \n",
    "    seed=seed_GS+100, \n",
    "    targetSampleSize=len(PPI_test_alt), \n",
    "    referenceIntAct=intact,\n",
    "    otherRefDf=NIPs_train[['uniprotID_A','uniprotID_B']]\n",
    ")\n",
    "\n",
    "NIPs_test_alt['isInteraction'] = 0\n",
    "NIPs_test_alt['trainTest'] = 'test'\n",
    "\n",
    "print()\n",
    "glance(NIPs_test_alt)"
   ]
  },
  {
   "cell_type": "code",
   "execution_count": 70,
   "metadata": {
    "execution": {
     "iopub.execute_input": "2022-02-02T10:34:34.248589Z",
     "iopub.status.busy": "2022-02-02T10:34:34.247830Z",
     "iopub.status.idle": "2022-02-02T10:34:34.271628Z",
     "shell.execute_reply": "2022-02-02T10:34:34.271095Z",
     "shell.execute_reply.started": "2022-02-02T10:34:34.248293Z"
    }
   },
   "outputs": [
    {
     "name": "stdout",
     "output_type": "stream",
     "text": [
      "12,699 interactions (100.00% positive)\n",
      "\n",
      "Hub status:\n",
      "- 5,346 hub-hub interactions (42.10% - 100.00% positive)\n",
      "- 6,433 hub-lone interactions (50.66% - 100.00% positive)\n",
      "- 920 lone-lone interactions (7.24% - 100.00% positive)\n",
      "\n"
     ]
    }
   ],
   "source": [
    "EDA_predSet(\n",
    "    PPI_test_alt,\n",
    "    list_hubs=list_hubs20,\n",
    "    PosNeg=False,\n",
    "    trainSet=None,\n",
    "    Overlap=False\n",
    ")"
   ]
  },
  {
   "cell_type": "code",
   "execution_count": 71,
   "metadata": {
    "execution": {
     "iopub.execute_input": "2022-02-02T10:34:34.968661Z",
     "iopub.status.busy": "2022-02-02T10:34:34.968042Z",
     "iopub.status.idle": "2022-02-02T10:34:34.991661Z",
     "shell.execute_reply": "2022-02-02T10:34:34.991145Z",
     "shell.execute_reply.started": "2022-02-02T10:34:34.968396Z"
    }
   },
   "outputs": [
    {
     "name": "stdout",
     "output_type": "stream",
     "text": [
      "12,699 interactions (0.00% positive)\n",
      "\n",
      "Hub status:\n",
      "- 4,682 hub-hub interactions (36.87% - 0.00% positive)\n",
      "- 6,274 hub-lone interactions (49.41% - 0.00% positive)\n",
      "- 1,743 lone-lone interactions (13.73% - 0.00% positive)\n",
      "\n"
     ]
    }
   ],
   "source": [
    "EDA_predSet(\n",
    "    NIPs_test_alt,\n",
    "    list_hubs=list_hubs20,\n",
    "    PosNeg=False,\n",
    "    trainSet=None,\n",
    "    Overlap=False\n",
    ")"
   ]
  },
  {
   "cell_type": "markdown",
   "metadata": {},
   "source": [
    "---\n",
    "**(!) Too many lone-lone in the test NIPs**"
   ]
  },
  {
   "cell_type": "code",
   "execution_count": 72,
   "metadata": {
    "execution": {
     "iopub.execute_input": "2022-02-02T10:34:36.319751Z",
     "iopub.status.busy": "2022-02-02T10:34:36.319024Z",
     "iopub.status.idle": "2022-02-02T10:34:36.336748Z",
     "shell.execute_reply": "2022-02-02T10:34:36.335918Z",
     "shell.execute_reply.started": "2022-02-02T10:34:36.319461Z"
    }
   },
   "outputs": [],
   "source": [
    "def rebalance_NIPs01(\n",
    "    df,\n",
    "    list_hubs,\n",
    "    df2match_lonelone,\n",
    "    other_NIPs\n",
    "):\n",
    "    AisHub = df.uniprotID_A.isin(list_hubs).astype(int)\n",
    "    BisHub = df.uniprotID_B.isin(list_hubs).astype(int)\n",
    "    hubType = AisHub + BisHub\n",
    "    print(f\"{len(hubType.loc[hubType == 0]):,} lone-lone in df\")\n",
    "    \n",
    "    AisHubT = df2match_lonelone.uniprotID_A.isin(list_hubs).astype(int)\n",
    "    BisHubT = df2match_lonelone.uniprotID_B.isin(list_hubs).astype(int)\n",
    "    hubTypeT = AisHubT + BisHubT\n",
    "    targetLL = len(hubTypeT.loc[hubTypeT==0])\n",
    "    print(f\"{targetLL:,} lone-lone in target\")\n",
    "    \n",
    "    print()\n",
    "    \n",
    "#     lone_prot = set(IDs2sample) - set(list_hubs)\n",
    "#     print(f\"{len(lone_prot):,} lone proteins\")\n",
    "    \n",
    "    # Sample only targetLL lone-lone interactions from the ones in df\n",
    "    foo = list(df.loc[hubType==0].index)\n",
    "    new_lonelone_idxDf = random.sample(foo, targetLL)\n",
    "    print(f\"Now, {len(new_lonelone_idxDf)} lone-lone\")\n",
    "    \n",
    "    print()\n",
    "    \n",
    "    # Draw that many more hub-hub to keep 50/50 ratio\n",
    "    foo = df.loc[hubType==2]\n",
    "    new_hubhub = sampleNIPs(\n",
    "        IDs2sample=pd.concat([foo.uniprotID_A,foo.uniprotID_B]).to_list(), \n",
    "        seed=seed_GS+31, \n",
    "        targetSampleSize=targetLL, \n",
    "        referenceIntAct=intact,\n",
    "        otherRefDf=df[['uniprotID_A','uniprotID_B']].append(other_NIPs)\n",
    "    )\n",
    "    print(f\"Now, {len(new_hubhub)} hub-hub\")\n",
    "    \n",
    "    final = df.loc[hubType>0].append(df.loc[new_lonelone_idxDf]).append(new_hubhub)\n",
    "    return final"
   ]
  },
  {
   "cell_type": "code",
   "execution_count": 73,
   "metadata": {
    "execution": {
     "iopub.execute_input": "2022-02-02T10:34:37.235847Z",
     "iopub.status.busy": "2022-02-02T10:34:37.235103Z",
     "iopub.status.idle": "2022-02-02T10:34:37.312246Z",
     "shell.execute_reply": "2022-02-02T10:34:37.311748Z",
     "shell.execute_reply.started": "2022-02-02T10:34:37.235553Z"
    }
   },
   "outputs": [
    {
     "name": "stdout",
     "output_type": "stream",
     "text": [
      "1,743 lone-lone in df\n",
      "920 lone-lone in target\n",
      "\n",
      "Now, 920 lone-lone\n",
      "\n",
      "Removed 4 self-interactions\n",
      "Removed 15 duplicates\n",
      "Removed 117 known false negatives\n",
      "Removed 113 based on other ref dataset\n",
      "Final number of interactions: 920\n",
      "Now, 920 hub-hub\n",
      "\n",
      "DataFrame: 12,796 rows \t 4 columns\n"
     ]
    },
    {
     "data": {
      "text/html": [
       "<div>\n",
       "<style scoped>\n",
       "    .dataframe tbody tr th:only-of-type {\n",
       "        vertical-align: middle;\n",
       "    }\n",
       "\n",
       "    .dataframe tbody tr th {\n",
       "        vertical-align: top;\n",
       "    }\n",
       "\n",
       "    .dataframe thead th {\n",
       "        text-align: right;\n",
       "    }\n",
       "</style>\n",
       "<table border=\"1\" class=\"dataframe\">\n",
       "  <thead>\n",
       "    <tr style=\"text-align: right;\">\n",
       "      <th></th>\n",
       "      <th>uniprotID_A</th>\n",
       "      <th>uniprotID_B</th>\n",
       "      <th>isInteraction</th>\n",
       "      <th>trainTest</th>\n",
       "    </tr>\n",
       "  </thead>\n",
       "  <tbody>\n",
       "    <tr>\n",
       "      <th>0</th>\n",
       "      <td>P33416</td>\n",
       "      <td>P40049</td>\n",
       "      <td>0</td>\n",
       "      <td>test</td>\n",
       "    </tr>\n",
       "    <tr>\n",
       "      <th>1</th>\n",
       "      <td>P35191</td>\n",
       "      <td>Q03557</td>\n",
       "      <td>0</td>\n",
       "      <td>test</td>\n",
       "    </tr>\n",
       "    <tr>\n",
       "      <th>2</th>\n",
       "      <td>Q04636</td>\n",
       "      <td>Q08231</td>\n",
       "      <td>0</td>\n",
       "      <td>test</td>\n",
       "    </tr>\n",
       "    <tr>\n",
       "      <th>3</th>\n",
       "      <td>P40422</td>\n",
       "      <td>P41909</td>\n",
       "      <td>0</td>\n",
       "      <td>test</td>\n",
       "    </tr>\n",
       "    <tr>\n",
       "      <th>4</th>\n",
       "      <td>P33759</td>\n",
       "      <td>P47041</td>\n",
       "      <td>0</td>\n",
       "      <td>test</td>\n",
       "    </tr>\n",
       "  </tbody>\n",
       "</table>\n",
       "</div>"
      ],
      "text/plain": [
       "  uniprotID_A uniprotID_B  isInteraction trainTest\n",
       "0      P33416      P40049              0      test\n",
       "1      P35191      Q03557              0      test\n",
       "2      Q04636      Q08231              0      test\n",
       "3      P40422      P41909              0      test\n",
       "4      P33759      P47041              0      test"
      ]
     },
     "metadata": {},
     "output_type": "display_data"
    }
   ],
   "source": [
    "NIPs_test_alt2 = rebalance_NIPs01(\n",
    "    df=NIPs_test_alt,\n",
    "    list_hubs=list_hubs20,\n",
    "    df2match_lonelone=PPI_test_alt,\n",
    "    other_NIPs=NIPs_train[['uniprotID_A','uniprotID_B']]\n",
    ")\n",
    "NIPs_test_alt2['isInteraction'] = 0\n",
    "NIPs_test_alt2['trainTest'] = 'test'\n",
    "print()\n",
    "glance(NIPs_test_alt2)"
   ]
  },
  {
   "cell_type": "markdown",
   "metadata": {},
   "source": [
    "---\n",
    "**Aggregate `GS_alt`**"
   ]
  },
  {
   "cell_type": "code",
   "execution_count": 74,
   "metadata": {
    "execution": {
     "iopub.execute_input": "2022-02-02T10:34:38.886840Z",
     "iopub.status.busy": "2022-02-02T10:34:38.886100Z",
     "iopub.status.idle": "2022-02-02T10:34:38.912227Z",
     "shell.execute_reply": "2022-02-02T10:34:38.911721Z",
     "shell.execute_reply.started": "2022-02-02T10:34:38.886547Z"
    }
   },
   "outputs": [
    {
     "name": "stdout",
     "output_type": "stream",
     "text": [
      "DataFrame: 86,233 rows \t 4 columns\n"
     ]
    },
    {
     "data": {
      "text/html": [
       "<div>\n",
       "<style scoped>\n",
       "    .dataframe tbody tr th:only-of-type {\n",
       "        vertical-align: middle;\n",
       "    }\n",
       "\n",
       "    .dataframe tbody tr th {\n",
       "        vertical-align: top;\n",
       "    }\n",
       "\n",
       "    .dataframe thead th {\n",
       "        text-align: right;\n",
       "    }\n",
       "</style>\n",
       "<table border=\"1\" class=\"dataframe\">\n",
       "  <thead>\n",
       "    <tr style=\"text-align: right;\">\n",
       "      <th></th>\n",
       "      <th>uniprotID_A</th>\n",
       "      <th>uniprotID_B</th>\n",
       "      <th>isInteraction</th>\n",
       "      <th>trainTest</th>\n",
       "    </tr>\n",
       "  </thead>\n",
       "  <tbody>\n",
       "    <tr>\n",
       "      <th>0</th>\n",
       "      <td>P04050</td>\n",
       "      <td>P38827</td>\n",
       "      <td>1</td>\n",
       "      <td>test</td>\n",
       "    </tr>\n",
       "    <tr>\n",
       "      <th>1</th>\n",
       "      <td>P15019</td>\n",
       "      <td>P53228</td>\n",
       "      <td>1</td>\n",
       "      <td>train</td>\n",
       "    </tr>\n",
       "    <tr>\n",
       "      <th>2</th>\n",
       "      <td>P46970</td>\n",
       "      <td>Q03214</td>\n",
       "      <td>1</td>\n",
       "      <td>train</td>\n",
       "    </tr>\n",
       "    <tr>\n",
       "      <th>3</th>\n",
       "      <td>P17558</td>\n",
       "      <td>P38972</td>\n",
       "      <td>1</td>\n",
       "      <td>train</td>\n",
       "    </tr>\n",
       "    <tr>\n",
       "      <th>4</th>\n",
       "      <td>P53173</td>\n",
       "      <td>Q12234</td>\n",
       "      <td>1</td>\n",
       "      <td>train</td>\n",
       "    </tr>\n",
       "  </tbody>\n",
       "</table>\n",
       "</div>"
      ],
      "text/plain": [
       "  uniprotID_A uniprotID_B  isInteraction trainTest\n",
       "0      P04050      P38827              1      test\n",
       "1      P15019      P53228              1     train\n",
       "2      P46970      Q03214              1     train\n",
       "3      P17558      P38972              1     train\n",
       "4      P53173      Q12234              1     train"
      ]
     },
     "metadata": {},
     "output_type": "display_data"
    }
   ],
   "source": [
    "GS_alt = PPI_alt.append(NIPs_train).append(NIPs_test_alt2)\n",
    "glance(GS_alt)"
   ]
  },
  {
   "cell_type": "code",
   "execution_count": 75,
   "metadata": {
    "execution": {
     "iopub.execute_input": "2022-02-02T10:34:39.314519Z",
     "iopub.status.busy": "2022-02-02T10:34:39.313793Z",
     "iopub.status.idle": "2022-02-02T10:34:39.342077Z",
     "shell.execute_reply": "2022-02-02T10:34:39.341567Z",
     "shell.execute_reply.started": "2022-02-02T10:34:39.314214Z"
    }
   },
   "outputs": [],
   "source": [
    "## Sanity checks\n",
    "\n",
    "assert len(GS_alt.loc[GS_alt.duplicated(subset=['uniprotID_A','uniprotID_B'], keep=False)]) == 0"
   ]
  },
  {
   "cell_type": "markdown",
   "metadata": {},
   "source": [
    "---\n",
    "**EDA**"
   ]
  },
  {
   "cell_type": "code",
   "execution_count": 76,
   "metadata": {
    "execution": {
     "iopub.execute_input": "2022-02-02T10:34:40.081102Z",
     "iopub.status.busy": "2022-02-02T10:34:40.080393Z",
     "iopub.status.idle": "2022-02-02T10:34:40.169377Z",
     "shell.execute_reply": "2022-02-02T10:34:40.168845Z",
     "shell.execute_reply.started": "2022-02-02T10:34:40.080817Z"
    },
    "scrolled": true
   },
   "outputs": [
    {
     "name": "stdout",
     "output_type": "stream",
     "text": [
      "## Test\n",
      "\n",
      "25,495 interactions (49.81% positive)\n",
      "\n",
      "Hub status:\n",
      "- 10,948 hub-hub interactions (42.94% - 48.83% positive)\n",
      "- 12,707 hub-lone interactions (49.84% - 50.63% positive)\n",
      "- 1,840 lone-lone interactions (7.22% - 50.00% positive)\n",
      "\n",
      "Overlap with train:\n",
      "- 7,355 total overlap with train, both proteins already seen (28.85% - 44.95% positive)\n",
      "- 15,255 partial overal, only one protein seen (59.84% - 57.52% positive)\n",
      "- 2,885 no overlap (11.32% - 21.46% positive)\n",
      "\n",
      "### Positive only ###\n",
      "\n",
      "Hub status:\n",
      "- 5,346 hub-hub interactions (42.10% - 100.00% positive)\n",
      "- 6,433 hub-lone interactions (50.66% - 100.00% positive)\n",
      "- 920 lone-lone interactions (7.24% - 100.00% positive)\n",
      "\n",
      "Overlap with train:\n",
      "- 3,306 total overlap with train, both proteins already seen (26.03% - 100.00% positive)\n",
      "- 8,774 partial overal, only one protein seen (69.09% - 100.00% positive)\n",
      "- 619 no overlap (4.87% - 100.00% positive)\n",
      "\n",
      "### Negative only ###\n",
      "\n",
      "Hub status:\n",
      "- 5,602 hub-hub interactions (43.78% - 0.00% positive)\n",
      "- 6,274 hub-lone interactions (49.03% - 0.00% positive)\n",
      "- 920 lone-lone interactions (7.19% - 0.00% positive)\n",
      "\n",
      "Overlap with train:\n",
      "- 4,049 total overlap with train, both proteins already seen (31.64% - 0.00% positive)\n",
      "- 6,481 partial overal, only one protein seen (50.65% - 0.00% positive)\n",
      "- 2,266 no overlap (17.71% - 0.00% positive)\n",
      "\n",
      "### Hub-Hub only ###\n",
      "\n",
      "Overlap with train:\n",
      "- 3,171 total overlap with train, both proteins already seen (28.96% - 42.48% positive)\n",
      "- 6,609 partial overal, only one protein seen (60.37% - 56.63% positive)\n",
      "- 1,168 no overlap (10.67% - 21.92% positive)\n",
      "\n",
      "### Hub-Lone only ###\n",
      "\n",
      "Overlap with train:\n",
      "- 3,715 total overlap with train, both proteins already seen (29.24% - 47.46% positive)\n",
      "- 7,542 partial overal, only one protein seen (59.35% - 58.05% positive)\n",
      "- 1,450 no overlap (11.41% - 20.14% positive)\n",
      "\n",
      "### Lone-Lone only ###\n",
      "\n",
      "Overlap with train:\n",
      "- 469 total overlap with train, both proteins already seen (25.49% - 41.79% positive)\n",
      "- 1,104 partial overal, only one protein seen (60.00% - 59.15% positive)\n",
      "- 267 no overlap (14.51% - 26.59% positive)\n",
      "\n",
      "### Complete overlap only ###\n",
      "\n",
      "Hub status:\n",
      "- 3,171 hub-hub interactions (43.11% - 42.48% positive)\n",
      "- 3,715 hub-lone interactions (50.51% - 47.46% positive)\n",
      "- 469 lone-lone interactions (6.38% - 41.79% positive)\n",
      "\n",
      "### Partial overlap only ###\n",
      "\n",
      "Hub status:\n",
      "- 6,609 hub-hub interactions (43.32% - 56.63% positive)\n",
      "- 7,542 hub-lone interactions (49.44% - 58.05% positive)\n",
      "- 1,104 lone-lone interactions (7.24% - 59.15% positive)\n",
      "\n",
      "### No overlap only ###\n",
      "\n",
      "Hub status:\n",
      "- 1,168 hub-hub interactions (40.49% - 21.92% positive)\n",
      "- 1,450 hub-lone interactions (50.26% - 20.14% positive)\n",
      "- 267 lone-lone interactions (9.25% - 26.59% positive)\n",
      "\n"
     ]
    }
   ],
   "source": [
    "print('## Test\\n')\n",
    "\n",
    "EDA_predSet(\n",
    "    GS_alt.loc[GS_alt.trainTest == 'test'],\n",
    "    list_hubs=list_hubs20,\n",
    "    trainSet = GS_alt.loc[GS_alt.trainTest == 'train'],\n",
    ")"
   ]
  },
  {
   "cell_type": "markdown",
   "metadata": {},
   "source": [
    "**Without rebalancing**"
   ]
  },
  {
   "cell_type": "code",
   "execution_count": 77,
   "metadata": {
    "execution": {
     "iopub.execute_input": "2022-02-02T10:34:40.955831Z",
     "iopub.status.busy": "2022-02-02T10:34:40.955150Z",
     "iopub.status.idle": "2022-02-02T10:34:41.051929Z",
     "shell.execute_reply": "2022-02-02T10:34:41.051383Z",
     "shell.execute_reply.started": "2022-02-02T10:34:40.955585Z"
    },
    "scrolled": true
   },
   "outputs": [
    {
     "name": "stdout",
     "output_type": "stream",
     "text": [
      "25,398 interactions (50.00% positive)\n",
      "\n",
      "Hub status:\n",
      "- 10,028 hub-hub interactions (39.48% - 53.31% positive)\n",
      "- 12,707 hub-lone interactions (50.03% - 50.63% positive)\n",
      "- 2,663 lone-lone interactions (10.49% - 34.55% positive)\n",
      "\n",
      "Overlap with train:\n",
      "- 7,293 total overlap with train, both proteins already seen (28.71% - 45.33% positive)\n",
      "- 15,235 partial overal, only one protein seen (59.99% - 57.59% positive)\n",
      "- 2,870 no overlap (11.30% - 21.57% positive)\n",
      "\n",
      "### Positive only ###\n",
      "\n",
      "Hub status:\n",
      "- 5,346 hub-hub interactions (42.10% - 100.00% positive)\n",
      "- 6,433 hub-lone interactions (50.66% - 100.00% positive)\n",
      "- 920 lone-lone interactions (7.24% - 100.00% positive)\n",
      "\n",
      "Overlap with train:\n",
      "- 3,306 total overlap with train, both proteins already seen (26.03% - 100.00% positive)\n",
      "- 8,774 partial overal, only one protein seen (69.09% - 100.00% positive)\n",
      "- 619 no overlap (4.87% - 100.00% positive)\n",
      "\n",
      "### Negative only ###\n",
      "\n",
      "Hub status:\n",
      "- 4,682 hub-hub interactions (36.87% - 0.00% positive)\n",
      "- 6,274 hub-lone interactions (49.41% - 0.00% positive)\n",
      "- 1,743 lone-lone interactions (13.73% - 0.00% positive)\n",
      "\n",
      "Overlap with train:\n",
      "- 3,987 total overlap with train, both proteins already seen (31.40% - 0.00% positive)\n",
      "- 6,461 partial overal, only one protein seen (50.88% - 0.00% positive)\n",
      "- 2,251 no overlap (17.73% - 0.00% positive)\n",
      "\n",
      "### Hub-Hub only ###\n",
      "\n",
      "Overlap with train:\n",
      "- 2,857 total overlap with train, both proteins already seen (28.49% - 47.15% positive)\n",
      "- 6,176 partial overal, only one protein seen (61.59% - 60.61% positive)\n",
      "- 995 no overlap (9.92% - 25.73% positive)\n",
      "\n",
      "### Hub-Lone only ###\n",
      "\n",
      "Overlap with train:\n",
      "- 3,715 total overlap with train, both proteins already seen (29.24% - 47.46% positive)\n",
      "- 7,542 partial overal, only one protein seen (59.35% - 58.05% positive)\n",
      "- 1,450 no overlap (11.41% - 20.14% positive)\n",
      "\n",
      "### Lone-Lone only ###\n",
      "\n",
      "Overlap with train:\n",
      "- 721 total overlap with train, both proteins already seen (27.07% - 27.18% positive)\n",
      "- 1,517 partial overal, only one protein seen (56.97% - 43.05% positive)\n",
      "- 425 no overlap (15.96% - 16.71% positive)\n",
      "\n",
      "### Complete overlap only ###\n",
      "\n",
      "Hub status:\n",
      "- 2,857 hub-hub interactions (39.17% - 47.15% positive)\n",
      "- 3,715 hub-lone interactions (50.94% - 47.46% positive)\n",
      "- 721 lone-lone interactions (9.89% - 27.18% positive)\n",
      "\n",
      "### Partial overlap only ###\n",
      "\n",
      "Hub status:\n",
      "- 6,176 hub-hub interactions (40.54% - 60.61% positive)\n",
      "- 7,542 hub-lone interactions (49.50% - 58.05% positive)\n",
      "- 1,517 lone-lone interactions (9.96% - 43.05% positive)\n",
      "\n",
      "### No overlap only ###\n",
      "\n",
      "Hub status:\n",
      "- 995 hub-hub interactions (34.67% - 25.73% positive)\n",
      "- 1,450 hub-lone interactions (50.52% - 20.14% positive)\n",
      "- 425 lone-lone interactions (14.81% - 16.71% positive)\n",
      "\n"
     ]
    }
   ],
   "source": [
    "foo = PPI_alt.append(NIPs_train).append(NIPs_test_alt)\n",
    "\n",
    "EDA_predSet(\n",
    "    foo.loc[foo.trainTest == 'test'],\n",
    "    list_hubs=list_hubs20,\n",
    "    trainSet = foo.loc[foo.trainTest == 'train'],\n",
    ")"
   ]
  },
  {
   "cell_type": "markdown",
   "metadata": {},
   "source": [
    "## Add Similarity Measures"
   ]
  },
  {
   "cell_type": "code",
   "execution_count": 78,
   "metadata": {
    "execution": {
     "iopub.execute_input": "2022-02-02T10:34:43.207002Z",
     "iopub.status.busy": "2022-02-02T10:34:43.206274Z",
     "iopub.status.idle": "2022-02-02T10:35:00.414132Z",
     "shell.execute_reply": "2022-02-02T10:35:00.413585Z",
     "shell.execute_reply.started": "2022-02-02T10:34:43.206705Z"
    }
   },
   "outputs": [
    {
     "name": "stdout",
     "output_type": "stream",
     "text": [
      "DataFrame: 86,233 rows \t 9 columns\n"
     ]
    },
    {
     "data": {
      "text/html": [
       "<div>\n",
       "<style scoped>\n",
       "    .dataframe tbody tr th:only-of-type {\n",
       "        vertical-align: middle;\n",
       "    }\n",
       "\n",
       "    .dataframe tbody tr th {\n",
       "        vertical-align: top;\n",
       "    }\n",
       "\n",
       "    .dataframe thead th {\n",
       "        text-align: right;\n",
       "    }\n",
       "</style>\n",
       "<table border=\"1\" class=\"dataframe\">\n",
       "  <thead>\n",
       "    <tr style=\"text-align: right;\">\n",
       "      <th></th>\n",
       "      <th>uniprotID_A</th>\n",
       "      <th>uniprotID_B</th>\n",
       "      <th>isInteraction</th>\n",
       "      <th>trainTest</th>\n",
       "      <th>bioProcessUniprot</th>\n",
       "      <th>cellCompUniprot</th>\n",
       "      <th>molFuncUniprot</th>\n",
       "      <th>domainUniprot</th>\n",
       "      <th>motifUniprot</th>\n",
       "    </tr>\n",
       "  </thead>\n",
       "  <tbody>\n",
       "    <tr>\n",
       "      <th>0</th>\n",
       "      <td>P04050</td>\n",
       "      <td>P38827</td>\n",
       "      <td>1</td>\n",
       "      <td>test</td>\n",
       "      <td>0.000000</td>\n",
       "      <td>0.000000</td>\n",
       "      <td>0.0</td>\n",
       "      <td>0.0</td>\n",
       "      <td>0.0</td>\n",
       "    </tr>\n",
       "    <tr>\n",
       "      <th>1</th>\n",
       "      <td>P15019</td>\n",
       "      <td>P53228</td>\n",
       "      <td>1</td>\n",
       "      <td>train</td>\n",
       "      <td>0.666667</td>\n",
       "      <td>1.000000</td>\n",
       "      <td>1.0</td>\n",
       "      <td>0.0</td>\n",
       "      <td>0.0</td>\n",
       "    </tr>\n",
       "    <tr>\n",
       "      <th>2</th>\n",
       "      <td>P46970</td>\n",
       "      <td>Q03214</td>\n",
       "      <td>1</td>\n",
       "      <td>train</td>\n",
       "      <td>0.000000</td>\n",
       "      <td>0.516398</td>\n",
       "      <td>0.0</td>\n",
       "      <td>0.0</td>\n",
       "      <td>0.0</td>\n",
       "    </tr>\n",
       "    <tr>\n",
       "      <th>3</th>\n",
       "      <td>P17558</td>\n",
       "      <td>P38972</td>\n",
       "      <td>1</td>\n",
       "      <td>train</td>\n",
       "      <td>0.000000</td>\n",
       "      <td>0.000000</td>\n",
       "      <td>0.0</td>\n",
       "      <td>0.0</td>\n",
       "      <td>0.0</td>\n",
       "    </tr>\n",
       "    <tr>\n",
       "      <th>4</th>\n",
       "      <td>P53173</td>\n",
       "      <td>Q12234</td>\n",
       "      <td>1</td>\n",
       "      <td>train</td>\n",
       "      <td>0.316228</td>\n",
       "      <td>0.235702</td>\n",
       "      <td>0.0</td>\n",
       "      <td>0.0</td>\n",
       "      <td>0.0</td>\n",
       "    </tr>\n",
       "  </tbody>\n",
       "</table>\n",
       "</div>"
      ],
      "text/plain": [
       "  uniprotID_A uniprotID_B  isInteraction trainTest  bioProcessUniprot  \\\n",
       "0      P04050      P38827              1      test           0.000000   \n",
       "1      P15019      P53228              1     train           0.666667   \n",
       "2      P46970      Q03214              1     train           0.000000   \n",
       "3      P17558      P38972              1     train           0.000000   \n",
       "4      P53173      Q12234              1     train           0.316228   \n",
       "\n",
       "   cellCompUniprot  molFuncUniprot  domainUniprot  motifUniprot  \n",
       "0         0.000000             0.0            0.0           0.0  \n",
       "1         1.000000             1.0            0.0           0.0  \n",
       "2         0.516398             0.0            0.0           0.0  \n",
       "3         0.000000             0.0            0.0           0.0  \n",
       "4         0.235702             0.0            0.0           0.0  "
      ]
     },
     "metadata": {},
     "output_type": "display_data"
    },
    {
     "name": "stdout",
     "output_type": "stream",
     "text": [
      "success\n"
     ]
    }
   ],
   "source": [
    "to_enrich = GS_alt\n",
    "\n",
    "GS_SM_alt = AddSimilarityMeasures(to_enrich, cfg=cfg, logVersions=logVersions,\n",
    "                                  df_path = f\"similarityMeasures_yeast_v{logVersions['featuresEngineering']['yeast']['similarityMeasure']}.pkl\"\n",
    "                                 )\n",
    "glance(GS_SM_alt)\n",
    "\n",
    "print(\"success\")"
   ]
  },
  {
   "cell_type": "markdown",
   "metadata": {},
   "source": [
    "## Add sequence"
   ]
  },
  {
   "cell_type": "code",
   "execution_count": 79,
   "metadata": {
    "execution": {
     "iopub.execute_input": "2022-02-02T10:35:45.933497Z",
     "iopub.status.busy": "2022-02-02T10:35:45.932877Z",
     "iopub.status.idle": "2022-02-02T10:35:45.961666Z",
     "shell.execute_reply": "2022-02-02T10:35:45.961213Z",
     "shell.execute_reply.started": "2022-02-02T10:35:45.933276Z"
    }
   },
   "outputs": [
    {
     "name": "stdout",
     "output_type": "stream",
     "text": [
      "DataFrame: 6,721 rows \t 2 columns\n"
     ]
    },
    {
     "data": {
      "text/html": [
       "<div>\n",
       "<style scoped>\n",
       "    .dataframe tbody tr th:only-of-type {\n",
       "        vertical-align: middle;\n",
       "    }\n",
       "\n",
       "    .dataframe tbody tr th {\n",
       "        vertical-align: top;\n",
       "    }\n",
       "\n",
       "    .dataframe thead th {\n",
       "        text-align: right;\n",
       "    }\n",
       "</style>\n",
       "<table border=\"1\" class=\"dataframe\">\n",
       "  <thead>\n",
       "    <tr style=\"text-align: right;\">\n",
       "      <th></th>\n",
       "      <th>uniprotID</th>\n",
       "      <th>sequence</th>\n",
       "    </tr>\n",
       "  </thead>\n",
       "  <tbody>\n",
       "    <tr>\n",
       "      <th>0</th>\n",
       "      <td>A0A023PXA5</td>\n",
       "      <td>MLLSELVATASSLPYTAISIHNNCRVPAARHIHHGCRYFHGPPVMH...</td>\n",
       "    </tr>\n",
       "    <tr>\n",
       "      <th>1</th>\n",
       "      <td>A0A023PXB0</td>\n",
       "      <td>MFINGFVNYPVRTPPNDLLQVVLHGFLRCPLDGSQVDSIGIGHTVH...</td>\n",
       "    </tr>\n",
       "    <tr>\n",
       "      <th>2</th>\n",
       "      <td>A0A023PXB5</td>\n",
       "      <td>MFALIISSKGKTSGFFFNSSFSSSALVGIAPLTAYSALVTPVFKSF...</td>\n",
       "    </tr>\n",
       "    <tr>\n",
       "      <th>3</th>\n",
       "      <td>A0A023PXB9</td>\n",
       "      <td>MEYVLIYNIWFFSFLQDKPCFCFVDYACSIFLLSSYCGNCLTAVAT...</td>\n",
       "    </tr>\n",
       "    <tr>\n",
       "      <th>4</th>\n",
       "      <td>A0A023PXC2</td>\n",
       "      <td>MLPLCLTFLSFFLSLGGSFKAVMTKEEADGTTEAAACLFWIFNWTV...</td>\n",
       "    </tr>\n",
       "  </tbody>\n",
       "</table>\n",
       "</div>"
      ],
      "text/plain": [
       "    uniprotID                                           sequence\n",
       "0  A0A023PXA5  MLLSELVATASSLPYTAISIHNNCRVPAARHIHHGCRYFHGPPVMH...\n",
       "1  A0A023PXB0  MFINGFVNYPVRTPPNDLLQVVLHGFLRCPLDGSQVDSIGIGHTVH...\n",
       "2  A0A023PXB5  MFALIISSKGKTSGFFFNSSFSSSALVGIAPLTAYSALVTPVFKSF...\n",
       "3  A0A023PXB9  MEYVLIYNIWFFSFLQDKPCFCFVDYACSIFLLSSYCGNCLTAVAT...\n",
       "4  A0A023PXC2  MLPLCLTFLSFFLSLGGSFKAVMTKEEADGTTEAAACLFWIFNWTV..."
      ]
     },
     "metadata": {},
     "output_type": "display_data"
    }
   ],
   "source": [
    "sequenceData = pd.read_pickle(\n",
    "    os.path.join(\n",
    "        cfg['outputPreprocessingUniprot'], \n",
    "        \"sequenceData_yeast_v{}--{}.pkl\".format(logVersions['UniProt']['yeast']['rawData'], logVersions['UniProt']['yeast']['preprocessed'])\n",
    "    )\n",
    ")\n",
    "\n",
    "glance(sequenceData)"
   ]
  },
  {
   "cell_type": "code",
   "execution_count": 87,
   "metadata": {
    "execution": {
     "iopub.execute_input": "2022-02-02T10:50:42.991642Z",
     "iopub.status.busy": "2022-02-02T10:50:42.991062Z",
     "iopub.status.idle": "2022-02-02T10:50:43.000264Z",
     "shell.execute_reply": "2022-02-02T10:50:42.998971Z",
     "shell.execute_reply.started": "2022-02-02T10:50:42.991545Z"
    }
   },
   "outputs": [
    {
     "name": "stdout",
     "output_type": "stream",
     "text": [
      "/rds/user/ll582/hpc-work/PPIdata/output/1_preprocessing/UniProt/sequenceData_yeast_v1-0--1-0.pkl\n"
     ]
    }
   ],
   "source": [
    "print(os.path.join(\n",
    "        cfg['outputPreprocessingUniprot'], \n",
    "        \"sequenceData_yeast_v{}--{}.pkl\".format(logVersions['UniProt']['yeast']['rawData'], logVersions['UniProt']['yeast']['preprocessed'])\n",
    "    ))"
   ]
  },
  {
   "cell_type": "code",
   "execution_count": 80,
   "metadata": {
    "execution": {
     "iopub.execute_input": "2022-02-02T10:36:19.720091Z",
     "iopub.status.busy": "2022-02-02T10:36:19.719370Z",
     "iopub.status.idle": "2022-02-02T10:36:19.802155Z",
     "shell.execute_reply": "2022-02-02T10:36:19.801729Z",
     "shell.execute_reply.started": "2022-02-02T10:36:19.719825Z"
    }
   },
   "outputs": [
    {
     "name": "stdout",
     "output_type": "stream",
     "text": [
      "DataFrame: 86,233 rows \t 11 columns\n"
     ]
    },
    {
     "data": {
      "text/html": [
       "<div>\n",
       "<style scoped>\n",
       "    .dataframe tbody tr th:only-of-type {\n",
       "        vertical-align: middle;\n",
       "    }\n",
       "\n",
       "    .dataframe tbody tr th {\n",
       "        vertical-align: top;\n",
       "    }\n",
       "\n",
       "    .dataframe thead th {\n",
       "        text-align: right;\n",
       "    }\n",
       "</style>\n",
       "<table border=\"1\" class=\"dataframe\">\n",
       "  <thead>\n",
       "    <tr style=\"text-align: right;\">\n",
       "      <th></th>\n",
       "      <th>uniprotID_A</th>\n",
       "      <th>uniprotID_B</th>\n",
       "      <th>isInteraction</th>\n",
       "      <th>trainTest</th>\n",
       "      <th>bioProcessUniprot</th>\n",
       "      <th>cellCompUniprot</th>\n",
       "      <th>molFuncUniprot</th>\n",
       "      <th>domainUniprot</th>\n",
       "      <th>motifUniprot</th>\n",
       "      <th>sequence_A</th>\n",
       "      <th>sequence_B</th>\n",
       "    </tr>\n",
       "  </thead>\n",
       "  <tbody>\n",
       "    <tr>\n",
       "      <th>0</th>\n",
       "      <td>P04050</td>\n",
       "      <td>P38827</td>\n",
       "      <td>1</td>\n",
       "      <td>test</td>\n",
       "      <td>0.000000</td>\n",
       "      <td>0.000000</td>\n",
       "      <td>0.0</td>\n",
       "      <td>0.0</td>\n",
       "      <td>0.0</td>\n",
       "      <td>MVGQQYSSAPLRTVKEVQFGLFSPEEVRAISVAKIRFPETMDETQT...</td>\n",
       "      <td>MSNYYRRAHASSGSYRQPQEQPQYSRSGHYQYSNGHSHQQYSSQYN...</td>\n",
       "    </tr>\n",
       "    <tr>\n",
       "      <th>1</th>\n",
       "      <td>P15019</td>\n",
       "      <td>P53228</td>\n",
       "      <td>1</td>\n",
       "      <td>train</td>\n",
       "      <td>0.666667</td>\n",
       "      <td>1.000000</td>\n",
       "      <td>1.0</td>\n",
       "      <td>0.0</td>\n",
       "      <td>0.0</td>\n",
       "      <td>MSEPAQKKQKVANNSLEQLKASGTVVVADTGDFGSIAKFQPQDSTT...</td>\n",
       "      <td>MSEPSEKKQKVATSSLEQLKKAGTHVVADSGDFEAISKYEPQDSTT...</td>\n",
       "    </tr>\n",
       "    <tr>\n",
       "      <th>2</th>\n",
       "      <td>P46970</td>\n",
       "      <td>Q03214</td>\n",
       "      <td>1</td>\n",
       "      <td>train</td>\n",
       "      <td>0.000000</td>\n",
       "      <td>0.516398</td>\n",
       "      <td>0.0</td>\n",
       "      <td>0.0</td>\n",
       "      <td>0.0</td>\n",
       "      <td>MDITELLQCFACTLDHNAAVRTNAETHLKNASKVPGFLGACLDIIA...</td>\n",
       "      <td>MSGHDSVTKISHILNEPVNEKVMVQNGFHESSKIADIELEIQERPS...</td>\n",
       "    </tr>\n",
       "    <tr>\n",
       "      <th>3</th>\n",
       "      <td>P17558</td>\n",
       "      <td>P38972</td>\n",
       "      <td>1</td>\n",
       "      <td>train</td>\n",
       "      <td>0.000000</td>\n",
       "      <td>0.000000</td>\n",
       "      <td>0.0</td>\n",
       "      <td>0.0</td>\n",
       "      <td>0.0</td>\n",
       "      <td>MGKGAAKYGFKSGVFPTTRSILKSPTTKQTDIINKVKSPKPKGVLG...</td>\n",
       "      <td>MTDYILPGPKALSQFRVDNLIKDINSYTNSTSVINELRSCYIHYVN...</td>\n",
       "    </tr>\n",
       "    <tr>\n",
       "      <th>4</th>\n",
       "      <td>P53173</td>\n",
       "      <td>Q12234</td>\n",
       "      <td>1</td>\n",
       "      <td>train</td>\n",
       "      <td>0.316228</td>\n",
       "      <td>0.235702</td>\n",
       "      <td>0.0</td>\n",
       "      <td>0.0</td>\n",
       "      <td>0.0</td>\n",
       "      <td>MGAWLFILAVVVNCINLFGQVHFTILYADLEADYINPIELCSKVNK...</td>\n",
       "      <td>MGKNKKKTGKKAKSHPHVEDVDETVNKPEEIINSVNVTVPPKMSTD...</td>\n",
       "    </tr>\n",
       "  </tbody>\n",
       "</table>\n",
       "</div>"
      ],
      "text/plain": [
       "  uniprotID_A uniprotID_B  isInteraction trainTest  bioProcessUniprot  \\\n",
       "0      P04050      P38827              1      test           0.000000   \n",
       "1      P15019      P53228              1     train           0.666667   \n",
       "2      P46970      Q03214              1     train           0.000000   \n",
       "3      P17558      P38972              1     train           0.000000   \n",
       "4      P53173      Q12234              1     train           0.316228   \n",
       "\n",
       "   cellCompUniprot  molFuncUniprot  domainUniprot  motifUniprot  \\\n",
       "0         0.000000             0.0            0.0           0.0   \n",
       "1         1.000000             1.0            0.0           0.0   \n",
       "2         0.516398             0.0            0.0           0.0   \n",
       "3         0.000000             0.0            0.0           0.0   \n",
       "4         0.235702             0.0            0.0           0.0   \n",
       "\n",
       "                                          sequence_A  \\\n",
       "0  MVGQQYSSAPLRTVKEVQFGLFSPEEVRAISVAKIRFPETMDETQT...   \n",
       "1  MSEPAQKKQKVANNSLEQLKASGTVVVADTGDFGSIAKFQPQDSTT...   \n",
       "2  MDITELLQCFACTLDHNAAVRTNAETHLKNASKVPGFLGACLDIIA...   \n",
       "3  MGKGAAKYGFKSGVFPTTRSILKSPTTKQTDIINKVKSPKPKGVLG...   \n",
       "4  MGAWLFILAVVVNCINLFGQVHFTILYADLEADYINPIELCSKVNK...   \n",
       "\n",
       "                                          sequence_B  \n",
       "0  MSNYYRRAHASSGSYRQPQEQPQYSRSGHYQYSNGHSHQQYSSQYN...  \n",
       "1  MSEPSEKKQKVATSSLEQLKKAGTHVVADSGDFEAISKYEPQDSTT...  \n",
       "2  MSGHDSVTKISHILNEPVNEKVMVQNGFHESSKIADIELEIQERPS...  \n",
       "3  MTDYILPGPKALSQFRVDNLIKDINSYTNSTSVINELRSCYIHYVN...  \n",
       "4  MGKNKKKTGKKAKSHPHVEDVDETVNKPEEIINSVNVTVPPKMSTD...  "
      ]
     },
     "metadata": {},
     "output_type": "display_data"
    }
   ],
   "source": [
    "sequenceData.columns = ['uniprotID_A', 'sequence_A']\n",
    "GS_SM_alt_seq = GS_SM_alt.merge(\n",
    "    sequenceData,\n",
    "    how = 'left',\n",
    "    on = \"uniprotID_A\"\n",
    ")\n",
    "\n",
    "sequenceData.columns = ['uniprotID_B', 'sequence_B']\n",
    "GS_SM_alt_seq = GS_SM_alt_seq.merge(\n",
    "    sequenceData,\n",
    "    how = 'left',\n",
    "    on = \"uniprotID_B\"\n",
    ")\n",
    "\n",
    "glance(GS_SM_alt_seq)\n",
    "\n",
    "assert GS_SM_alt_seq.isna().sum()['sequence_A'] + GS_SM_alt_seq.isna().sum()['sequence_B'] == 0"
   ]
  },
  {
   "cell_type": "markdown",
   "metadata": {},
   "source": [
    "## Export"
   ]
  },
  {
   "cell_type": "markdown",
   "metadata": {},
   "source": [
    "**To pickle**"
   ]
  },
  {
   "cell_type": "code",
   "execution_count": 81,
   "metadata": {
    "execution": {
     "iopub.execute_input": "2022-02-02T10:36:39.206977Z",
     "iopub.status.busy": "2022-02-02T10:36:39.206235Z",
     "iopub.status.idle": "2022-02-02T10:36:39.234483Z",
     "shell.execute_reply": "2022-02-02T10:36:39.234031Z",
     "shell.execute_reply.started": "2022-02-02T10:36:39.206707Z"
    }
   },
   "outputs": [
    {
     "name": "stdout",
     "output_type": "stream",
     "text": [
      "/rds/user/ll582/hpc-work/PPIdata/output/3_goldStandard/benchmarkingGS_yeast_4hubs_v1-0.pkl\n"
     ]
    }
   ],
   "source": [
    "to_export = GS_alt\n",
    "\n",
    "export_path = os.path.join(\n",
    "    cfg['outputGoldStandard'], \n",
    "    f\"benchmarkingGS_yeast_4hubs_v{logVersions['otherGoldStandard']['benchmarkingGS_yeast']}.pkl\"\n",
    ")\n",
    "print(export_path)\n",
    "\n",
    "with open(export_path, 'wb') as f:\n",
    "    pkl.dump(to_export, f, protocol=pkl.HIGHEST_PROTOCOL)"
   ]
  },
  {
   "cell_type": "code",
   "execution_count": 82,
   "metadata": {
    "execution": {
     "iopub.execute_input": "2022-02-02T10:36:42.497071Z",
     "iopub.status.busy": "2022-02-02T10:36:42.496359Z",
     "iopub.status.idle": "2022-02-02T10:36:42.528657Z",
     "shell.execute_reply": "2022-02-02T10:36:42.528221Z",
     "shell.execute_reply.started": "2022-02-02T10:36:42.496808Z"
    }
   },
   "outputs": [
    {
     "name": "stdout",
     "output_type": "stream",
     "text": [
      "/rds/user/ll582/hpc-work/PPIdata/output/3_goldStandard/benchmarkingGS_yeast_4hubs_v1-0_similarityMeasure_v1-0.pkl\n"
     ]
    }
   ],
   "source": [
    "to_export = GS_SM_alt\n",
    "\n",
    "export_path = os.path.join(\n",
    "    cfg['outputGoldStandard'], \n",
    "    f\"benchmarkingGS_yeast_4hubs_v{logVersions['otherGoldStandard']['benchmarkingGS_yeast']}_similarityMeasure_v{logVersions['featuresEngineering']['yeast']['similarityMeasure']}.pkl\"\n",
    ")\n",
    "print(export_path)\n",
    "\n",
    "with open(export_path, 'wb') as f:\n",
    "    pkl.dump(to_export, f, protocol=pkl.HIGHEST_PROTOCOL)"
   ]
  },
  {
   "cell_type": "code",
   "execution_count": 83,
   "metadata": {
    "execution": {
     "iopub.execute_input": "2022-02-02T10:37:04.704894Z",
     "iopub.status.busy": "2022-02-02T10:37:04.704125Z",
     "iopub.status.idle": "2022-02-02T10:37:04.795110Z",
     "shell.execute_reply": "2022-02-02T10:37:04.793783Z",
     "shell.execute_reply.started": "2022-02-02T10:37:04.704612Z"
    }
   },
   "outputs": [
    {
     "name": "stdout",
     "output_type": "stream",
     "text": [
      "/rds/user/ll582/hpc-work/PPIdata/output/3_goldStandard/benchmarkingGS_yeast_4hubs_v1-0_similarityMeasure_sequence_v1-0.pkl\n"
     ]
    }
   ],
   "source": [
    "to_export = GS_SM_alt_seq\n",
    "\n",
    "export_path = os.path.join(\n",
    "    cfg['outputGoldStandard'], \n",
    "    f\"benchmarkingGS_yeast_4hubs_v{logVersions['otherGoldStandard']['benchmarkingGS_yeast']}_similarityMeasure_sequence_v{logVersions['featuresEngineering']['yeast']['similarityMeasure']}.pkl\"\n",
    ")\n",
    "print(export_path)\n",
    "\n",
    "with open(export_path, 'wb') as f:\n",
    "    pkl.dump(to_export, f, protocol=pkl.HIGHEST_PROTOCOL)"
   ]
  },
  {
   "cell_type": "markdown",
   "metadata": {},
   "source": [
    "---\n",
    "**To csv**"
   ]
  },
  {
   "cell_type": "code",
   "execution_count": 84,
   "metadata": {
    "execution": {
     "iopub.execute_input": "2022-02-02T10:37:52.267561Z",
     "iopub.status.busy": "2022-02-02T10:37:52.266826Z",
     "iopub.status.idle": "2022-02-02T10:37:52.387537Z",
     "shell.execute_reply": "2022-02-02T10:37:52.387069Z",
     "shell.execute_reply.started": "2022-02-02T10:37:52.267289Z"
    }
   },
   "outputs": [
    {
     "name": "stdout",
     "output_type": "stream",
     "text": [
      "/rds/user/ll582/hpc-work/PPIdata/output/3_goldStandard/benchmarkingGS_yeast_4hubs_v1-0.csv\n"
     ]
    }
   ],
   "source": [
    "to_export = GS_alt\n",
    "\n",
    "export_path = os.path.join(\n",
    "    cfg['outputGoldStandard'], \n",
    "    f\"benchmarkingGS_yeast_4hubs_v{logVersions['otherGoldStandard']['benchmarkingGS_yeast']}.csv\"\n",
    ")\n",
    "print(export_path)\n",
    "\n",
    "to_export.to_csv(export_path, sep='|', index=False)"
   ]
  },
  {
   "cell_type": "code",
   "execution_count": 85,
   "metadata": {
    "execution": {
     "iopub.execute_input": "2022-02-02T10:37:54.141676Z",
     "iopub.status.busy": "2022-02-02T10:37:54.140943Z",
     "iopub.status.idle": "2022-02-02T10:37:54.570512Z",
     "shell.execute_reply": "2022-02-02T10:37:54.569739Z",
     "shell.execute_reply.started": "2022-02-02T10:37:54.141405Z"
    }
   },
   "outputs": [
    {
     "name": "stdout",
     "output_type": "stream",
     "text": [
      "/rds/user/ll582/hpc-work/PPIdata/output/3_goldStandard/benchmarkingGS_yeast_4hubs_v1-0_similarityMeasure_v1-0.csv\n"
     ]
    }
   ],
   "source": [
    "to_export = GS_SM_alt\n",
    "\n",
    "export_path = os.path.join(\n",
    "    cfg['outputGoldStandard'], \n",
    "    f\"benchmarkingGS_yeast_4hubs_v{logVersions['otherGoldStandard']['benchmarkingGS_yeast']}_similarityMeasure_v{logVersions['featuresEngineering']['yeast']['similarityMeasure']}.csv\"\n",
    ")\n",
    "print(export_path)\n",
    "\n",
    "to_export.to_csv(export_path, sep='|', index=False)"
   ]
  },
  {
   "cell_type": "code",
   "execution_count": 86,
   "metadata": {
    "execution": {
     "iopub.execute_input": "2022-02-02T10:38:01.005431Z",
     "iopub.status.busy": "2022-02-02T10:38:01.004687Z",
     "iopub.status.idle": "2022-02-02T10:38:02.889765Z",
     "shell.execute_reply": "2022-02-02T10:38:02.889169Z",
     "shell.execute_reply.started": "2022-02-02T10:38:01.005140Z"
    }
   },
   "outputs": [
    {
     "name": "stdout",
     "output_type": "stream",
     "text": [
      "/rds/user/ll582/hpc-work/PPIdata/output/3_goldStandard/benchmarkingGS_yeast_4hubs_v1-0_similarityMeasure_sequence_v1-0.csv\n"
     ]
    }
   ],
   "source": [
    "to_export = GS_SM_alt_seq\n",
    "\n",
    "export_path = os.path.join(\n",
    "    cfg['outputGoldStandard'], \n",
    "    f\"benchmarkingGS_yeast_4hubs_v{logVersions['otherGoldStandard']['benchmarkingGS_yeast']}_similarityMeasure_sequence_v{logVersions['featuresEngineering']['yeast']['similarityMeasure']}.csv\"\n",
    ")\n",
    "print(export_path)\n",
    "\n",
    "to_export.to_csv(export_path, sep='|', index=False)"
   ]
  }
 ],
 "metadata": {
  "kernelspec": {
   "display_name": "Python (PPI-env)",
   "language": "python",
   "name": "ppi-env"
  },
  "language_info": {
   "codemirror_mode": {
    "name": "ipython",
    "version": 3
   },
   "file_extension": ".py",
   "mimetype": "text/x-python",
   "name": "python",
   "nbconvert_exporter": "python",
   "pygments_lexer": "ipython3",
   "version": "3.7.3"
  },
  "toc-autonumbering": true
 },
 "nbformat": 4,
 "nbformat_minor": 4
}
