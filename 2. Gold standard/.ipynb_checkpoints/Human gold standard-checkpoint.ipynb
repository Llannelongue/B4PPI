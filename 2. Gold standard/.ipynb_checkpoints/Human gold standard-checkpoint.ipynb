{
 "cells": [
  {
   "cell_type": "markdown",
   "metadata": {},
   "source": [
    "*System requirements: 2Go (60 for Similarity Measures)*"
   ]
  },
  {
   "cell_type": "code",
   "execution_count": 1,
   "metadata": {
    "ExecuteTime": {
     "end_time": "2020-12-19T17:33:11.777311Z",
     "start_time": "2020-12-19T17:32:53.391807Z"
    },
    "execution": {
     "iopub.execute_input": "2022-02-02T09:46:54.065467Z",
     "iopub.status.busy": "2022-02-02T09:46:54.064476Z",
     "iopub.status.idle": "2022-02-02T09:47:13.430818Z",
     "shell.execute_reply": "2022-02-02T09:47:13.429702Z",
     "shell.execute_reply.started": "2022-02-02T09:46:54.064889Z"
    }
   },
   "outputs": [],
   "source": [
    "import pandas as pd\n",
    "import numpy as np\n",
    "import os\n",
    "import re\n",
    "import matplotlib as mpl\n",
    "import matplotlib.pyplot as plt\n",
    "import seaborn as sns\n",
    "import requests\n",
    "import urllib\n",
    "import re\n",
    "from io import StringIO\n",
    "import gzip\n",
    "from ftplib import FTP\n",
    "import random\n",
    "import math\n",
    "import copy\n",
    "import pickle as pkl\n",
    "\n",
    "from toolbox import *\n",
    "\n",
    "%matplotlib inline"
   ]
  },
  {
   "cell_type": "code",
   "execution_count": 2,
   "metadata": {
    "ExecuteTime": {
     "end_time": "2020-12-19T17:33:11.850488Z",
     "start_time": "2020-12-19T17:33:11.804531Z"
    },
    "execution": {
     "iopub.execute_input": "2022-02-02T09:47:13.432874Z",
     "iopub.status.busy": "2022-02-02T09:47:13.432506Z",
     "iopub.status.idle": "2022-02-02T09:47:13.461881Z",
     "shell.execute_reply": "2022-02-02T09:47:13.461295Z",
     "shell.execute_reply.started": "2022-02-02T09:47:13.432749Z"
    }
   },
   "outputs": [],
   "source": [
    "cfg = load_cfg()\n",
    "\n",
    "logVersions = load_LogVersions()"
   ]
  },
  {
   "cell_type": "code",
   "execution_count": 3,
   "metadata": {
    "execution": {
     "iopub.execute_input": "2022-02-02T09:47:13.463600Z",
     "iopub.status.busy": "2022-02-02T09:47:13.463392Z",
     "iopub.status.idle": "2022-02-02T09:47:13.483341Z",
     "shell.execute_reply": "2022-02-02T09:47:13.482713Z",
     "shell.execute_reply.started": "2022-02-02T09:47:13.463567Z"
    }
   },
   "outputs": [
    {
     "data": {
      "text/plain": [
       "{'Bgee': {'preprocessed': '2-1', 'rawData': '14-2'},\n",
       " 'HPA': {'preprocessed': {'consensusRNAseq': '2-1',\n",
       "   'subcellularLocation': '2-1',\n",
       "   'tissueIHC_tissueCell': '2-1',\n",
       "   'tissueIHC_tissueOnly': '2-1'},\n",
       "  'rawData': {'Ensembl': '92-38', 'HPA': '20-1'}},\n",
       " 'IntAct': {'preprocessed': {'all': '2-1', 'filtered': '2-1', 'yeast': '1-0'},\n",
       "  'rawData': '20211015'},\n",
       " 'Negatome': {'preprocessed': '1-0', 'rawData': '2-0'},\n",
       " 'UniProt': {'preprocessed': '2-0',\n",
       "  'rawData': '3-4',\n",
       "  'yeast': {'preprocessed': '1-0', 'rawData': '1-0'}},\n",
       " 'featuresEngineering': {'longVectors': {'imputeAll': '6-1',\n",
       "   'keepBinary': '6-1',\n",
       "   'overall': '6-0'},\n",
       "  'similarityMeasure': '3-1',\n",
       "  'yeast': {'longVectors': {'imputeAll': '6-1',\n",
       "    'keepBinary': '6-1',\n",
       "    'overall': '6-0'},\n",
       "   'similarityMeasure': '1-0'}},\n",
       " 'goldStandard': '7-0-1',\n",
       " 'newTestSets': {'Test12_weighted': '1-0'},\n",
       " 'otherGoldStandard': {'benchmarkingGS': '1-0',\n",
       "  'benchmarkingGS_yeast': '1-0',\n",
       "  'controlledOverlap': '1-0'}}"
      ]
     },
     "execution_count": 3,
     "metadata": {},
     "output_type": "execute_result"
    }
   ],
   "source": [
    "logVersions"
   ]
  },
  {
   "cell_type": "markdown",
   "metadata": {},
   "source": [
    "---\n",
    "**For figures**"
   ]
  },
  {
   "cell_type": "code",
   "execution_count": 4,
   "metadata": {
    "execution": {
     "iopub.execute_input": "2022-02-02T09:47:13.484663Z",
     "iopub.status.busy": "2022-02-02T09:47:13.484454Z",
     "iopub.status.idle": "2022-02-02T09:47:13.514755Z",
     "shell.execute_reply": "2022-02-02T09:47:13.513929Z",
     "shell.execute_reply.started": "2022-02-02T09:47:13.484629Z"
    }
   },
   "outputs": [],
   "source": [
    "from figures_toolbox import *"
   ]
  },
  {
   "cell_type": "code",
   "execution_count": 5,
   "metadata": {
    "execution": {
     "iopub.execute_input": "2022-02-02T09:47:13.516438Z",
     "iopub.status.busy": "2022-02-02T09:47:13.516056Z",
     "iopub.status.idle": "2022-02-02T09:47:13.525309Z",
     "shell.execute_reply": "2022-02-02T09:47:13.524686Z",
     "shell.execute_reply.started": "2022-02-02T09:47:13.516302Z"
    }
   },
   "outputs": [],
   "source": [
    "mpl.rcParams.update(mpl.rcParamsDefault)\n",
    "\n",
    "sns.set(\n",
    "    context='paper',\n",
    "    style='ticks',\n",
    ")\n",
    "\n",
    "%matplotlib inline"
   ]
  },
  {
   "cell_type": "code",
   "execution_count": 6,
   "metadata": {
    "execution": {
     "iopub.execute_input": "2022-02-02T09:47:13.526432Z",
     "iopub.status.busy": "2022-02-02T09:47:13.526211Z",
     "iopub.status.idle": "2022-02-02T09:47:13.539467Z",
     "shell.execute_reply": "2022-02-02T09:47:13.538953Z",
     "shell.execute_reply.started": "2022-02-02T09:47:13.526397Z"
    }
   },
   "outputs": [],
   "source": [
    "mpl.rcParams.update(performancePlot_style)"
   ]
  },
  {
   "cell_type": "code",
   "execution_count": 7,
   "metadata": {
    "execution": {
     "iopub.execute_input": "2022-02-02T09:47:13.540377Z",
     "iopub.status.busy": "2022-02-02T09:47:13.540196Z",
     "iopub.status.idle": "2022-02-02T09:47:13.845816Z",
     "shell.execute_reply": "2022-02-02T09:47:13.845285Z",
     "shell.execute_reply.started": "2022-02-02T09:47:13.540349Z"
    }
   },
   "outputs": [
    {
     "data": {
      "text/plain": [
       "[<matplotlib.lines.Line2D at 0x2b69f56877b8>]"
      ]
     },
     "execution_count": 7,
     "metadata": {},
     "output_type": "execute_result"
    },
    {
     "data": {
      "image/png": "[encoded data removed]",
      "text/plain": [
       "<Figure size 576x288 with 1 Axes>"
      ]
     },
     "metadata": {
      "needs_background": "light"
     },
     "output_type": "display_data"
    }
   ],
   "source": [
    "plt.plot([1,2,3],[4,5,6])"
   ]
  },
  {
   "cell_type": "markdown",
   "metadata": {},
   "source": [
    "# Load data"
   ]
  },
  {
   "cell_type": "markdown",
   "metadata": {},
   "source": [
    "## IntAct"
   ]
  },
  {
   "cell_type": "markdown",
   "metadata": {},
   "source": [
    "**Using only interactions with scores above a certain threshold (filtered)**"
   ]
  },
  {
   "cell_type": "code",
   "execution_count": 8,
   "metadata": {
    "ExecuteTime": {
     "end_time": "2020-12-19T17:33:16.386603Z",
     "start_time": "2020-12-19T17:33:16.096674Z"
    },
    "execution": {
     "iopub.execute_input": "2022-02-02T09:47:13.847720Z",
     "iopub.status.busy": "2022-02-02T09:47:13.847558Z",
     "iopub.status.idle": "2022-02-02T09:47:14.129643Z",
     "shell.execute_reply": "2022-02-02T09:47:14.129073Z",
     "shell.execute_reply.started": "2022-02-02T09:47:13.847695Z"
    }
   },
   "outputs": [
    {
     "name": "stdout",
     "output_type": "stream",
     "text": [
      "DataFrame: 78,229 rows \t 3 columns\n"
     ]
    },
    {
     "data": {
      "text/html": [
       "<div>\n",
       "<style scoped>\n",
       "    .dataframe tbody tr th:only-of-type {\n",
       "        vertical-align: middle;\n",
       "    }\n",
       "\n",
       "    .dataframe tbody tr th {\n",
       "        vertical-align: top;\n",
       "    }\n",
       "\n",
       "    .dataframe thead th {\n",
       "        text-align: right;\n",
       "    }\n",
       "</style>\n",
       "<table border=\"1\" class=\"dataframe\">\n",
       "  <thead>\n",
       "    <tr style=\"text-align: right;\">\n",
       "      <th></th>\n",
       "      <th>uniprotID_A</th>\n",
       "      <th>uniprotID_B</th>\n",
       "      <th>intact-miscore</th>\n",
       "    </tr>\n",
       "  </thead>\n",
       "  <tbody>\n",
       "    <tr>\n",
       "      <th>0</th>\n",
       "      <td>P28223</td>\n",
       "      <td>P41595</td>\n",
       "      <td>0.47</td>\n",
       "    </tr>\n",
       "    <tr>\n",
       "      <th>1</th>\n",
       "      <td>O00161</td>\n",
       "      <td>P56962</td>\n",
       "      <td>0.47</td>\n",
       "    </tr>\n",
       "    <tr>\n",
       "      <th>2</th>\n",
       "      <td>P82979</td>\n",
       "      <td>Q01081</td>\n",
       "      <td>0.47</td>\n",
       "    </tr>\n",
       "    <tr>\n",
       "      <th>3</th>\n",
       "      <td>O60678</td>\n",
       "      <td>Q14524</td>\n",
       "      <td>0.47</td>\n",
       "    </tr>\n",
       "    <tr>\n",
       "      <th>4</th>\n",
       "      <td>P10275</td>\n",
       "      <td>Q15648</td>\n",
       "      <td>0.47</td>\n",
       "    </tr>\n",
       "  </tbody>\n",
       "</table>\n",
       "</div>"
      ],
      "text/plain": [
       "  uniprotID_A uniprotID_B  intact-miscore\n",
       "0      P28223      P41595            0.47\n",
       "1      O00161      P56962            0.47\n",
       "2      P82979      Q01081            0.47\n",
       "3      O60678      Q14524            0.47\n",
       "4      P10275      Q15648            0.47"
      ]
     },
     "metadata": {},
     "output_type": "display_data"
    }
   ],
   "source": [
    "intact = pd.read_pickle(\n",
    "    os.path.join(cfg['outputPreprocessingIntAct'], \n",
    "                 \"intact_filteredScore_v{}.pkl\".format(logVersions['IntAct']['preprocessed']['filtered'])\n",
    "                )\n",
    ")\n",
    "glance(intact)"
   ]
  },
  {
   "cell_type": "code",
   "execution_count": 9,
   "metadata": {
    "execution": {
     "iopub.execute_input": "2022-02-02T09:47:14.131120Z",
     "iopub.status.busy": "2022-02-02T09:47:14.130846Z",
     "iopub.status.idle": "2022-02-02T09:47:14.136507Z",
     "shell.execute_reply": "2022-02-02T09:47:14.136018Z",
     "shell.execute_reply.started": "2022-02-02T09:47:14.131008Z"
    }
   },
   "outputs": [],
   "source": [
    "allIDs_intact = pd.concat([intact.uniprotID_A,intact.uniprotID_B])"
   ]
  },
  {
   "cell_type": "markdown",
   "metadata": {},
   "source": [
    "**Also loading unfiltered set for sanity checks**"
   ]
  },
  {
   "cell_type": "code",
   "execution_count": 10,
   "metadata": {
    "ExecuteTime": {
     "end_time": "2020-12-19T17:33:17.392542Z",
     "start_time": "2020-12-19T17:33:17.280616Z"
    },
    "execution": {
     "iopub.execute_input": "2022-02-02T09:47:14.137330Z",
     "iopub.status.busy": "2022-02-02T09:47:14.137176Z",
     "iopub.status.idle": "2022-02-02T09:47:14.207545Z",
     "shell.execute_reply": "2022-02-02T09:47:14.207043Z",
     "shell.execute_reply.started": "2022-02-02T09:47:14.137306Z"
    }
   },
   "outputs": [
    {
     "name": "stdout",
     "output_type": "stream",
     "text": [
      "DataFrame: 128,790 rows \t 3 columns\n"
     ]
    },
    {
     "data": {
      "text/html": [
       "<div>\n",
       "<style scoped>\n",
       "    .dataframe tbody tr th:only-of-type {\n",
       "        vertical-align: middle;\n",
       "    }\n",
       "\n",
       "    .dataframe tbody tr th {\n",
       "        vertical-align: top;\n",
       "    }\n",
       "\n",
       "    .dataframe thead th {\n",
       "        text-align: right;\n",
       "    }\n",
       "</style>\n",
       "<table border=\"1\" class=\"dataframe\">\n",
       "  <thead>\n",
       "    <tr style=\"text-align: right;\">\n",
       "      <th></th>\n",
       "      <th>uniprotID_A</th>\n",
       "      <th>uniprotID_B</th>\n",
       "      <th>intact-miscore</th>\n",
       "    </tr>\n",
       "  </thead>\n",
       "  <tbody>\n",
       "    <tr>\n",
       "      <th>0</th>\n",
       "      <td>P14625</td>\n",
       "      <td>P68400</td>\n",
       "      <td>0.22</td>\n",
       "    </tr>\n",
       "    <tr>\n",
       "      <th>1</th>\n",
       "      <td>O14936</td>\n",
       "      <td>Q9Y624</td>\n",
       "      <td>0.22</td>\n",
       "    </tr>\n",
       "    <tr>\n",
       "      <th>2</th>\n",
       "      <td>P05556</td>\n",
       "      <td>Q9Y6C2</td>\n",
       "      <td>0.22</td>\n",
       "    </tr>\n",
       "    <tr>\n",
       "      <th>3</th>\n",
       "      <td>P04049</td>\n",
       "      <td>P05787</td>\n",
       "      <td>0.22</td>\n",
       "    </tr>\n",
       "    <tr>\n",
       "      <th>4</th>\n",
       "      <td>Q12929</td>\n",
       "      <td>Q92738</td>\n",
       "      <td>0.22</td>\n",
       "    </tr>\n",
       "  </tbody>\n",
       "</table>\n",
       "</div>"
      ],
      "text/plain": [
       "  uniprotID_A uniprotID_B  intact-miscore\n",
       "0      P14625      P68400            0.22\n",
       "1      O14936      Q9Y624            0.22\n",
       "2      P05556      Q9Y6C2            0.22\n",
       "3      P04049      P05787            0.22\n",
       "4      Q12929      Q92738            0.22"
      ]
     },
     "metadata": {},
     "output_type": "display_data"
    }
   ],
   "source": [
    "intact_all = pd.read_pickle(\n",
    "    os.path.join(cfg['outputPreprocessingIntAct'], \n",
    "                 \"intact_allScores_v{}.pkl\".format(logVersions['IntAct']['preprocessed']['all'])\n",
    "                )\n",
    ")\n",
    "glance(intact_all)"
   ]
  },
  {
   "cell_type": "markdown",
   "metadata": {},
   "source": [
    "## UniProt"
   ]
  },
  {
   "cell_type": "code",
   "execution_count": 11,
   "metadata": {
    "ExecuteTime": {
     "end_time": "2020-12-19T17:33:21.349834Z",
     "start_time": "2020-12-19T17:33:21.270917Z"
    },
    "execution": {
     "iopub.execute_input": "2022-02-02T09:47:14.208438Z",
     "iopub.status.busy": "2022-02-02T09:47:14.208283Z",
     "iopub.status.idle": "2022-02-02T09:47:14.270759Z",
     "shell.execute_reply": "2022-02-02T09:47:14.270296Z",
     "shell.execute_reply.started": "2022-02-02T09:47:14.208414Z"
    }
   },
   "outputs": [
    {
     "name": "stdout",
     "output_type": "stream",
     "text": [
      "DataFrame: 20,386 rows \t 1 columns\n"
     ]
    },
    {
     "data": {
      "text/html": [
       "<div>\n",
       "<style scoped>\n",
       "    .dataframe tbody tr th:only-of-type {\n",
       "        vertical-align: middle;\n",
       "    }\n",
       "\n",
       "    .dataframe tbody tr th {\n",
       "        vertical-align: top;\n",
       "    }\n",
       "\n",
       "    .dataframe thead th {\n",
       "        text-align: right;\n",
       "    }\n",
       "</style>\n",
       "<table border=\"1\" class=\"dataframe\">\n",
       "  <thead>\n",
       "    <tr style=\"text-align: right;\">\n",
       "      <th></th>\n",
       "      <th>uniprotID</th>\n",
       "    </tr>\n",
       "  </thead>\n",
       "  <tbody>\n",
       "    <tr>\n",
       "      <th>0</th>\n",
       "      <td>A0A024RBG1</td>\n",
       "    </tr>\n",
       "    <tr>\n",
       "      <th>1</th>\n",
       "      <td>A0A075B6H7</td>\n",
       "    </tr>\n",
       "    <tr>\n",
       "      <th>2</th>\n",
       "      <td>A0A075B6H8</td>\n",
       "    </tr>\n",
       "    <tr>\n",
       "      <th>3</th>\n",
       "      <td>A0A075B6H9</td>\n",
       "    </tr>\n",
       "    <tr>\n",
       "      <th>4</th>\n",
       "      <td>A0A075B6I0</td>\n",
       "    </tr>\n",
       "  </tbody>\n",
       "</table>\n",
       "</div>"
      ],
      "text/plain": [
       "    uniprotID\n",
       "0  A0A024RBG1\n",
       "1  A0A075B6H7\n",
       "2  A0A075B6H8\n",
       "3  A0A075B6H9\n",
       "4  A0A075B6I0"
      ]
     },
     "metadata": {},
     "output_type": "display_data"
    }
   ],
   "source": [
    "uniprotIDs = pd.read_csv(\n",
    "        os.path.join(cfg['rawDataUniProt'], \n",
    "                     \"uniprot_allProteins_Human_v{}.pkl\".format(logVersions['UniProt']['rawData'])),\n",
    "        header=None,\n",
    "        names=['uniprotID']\n",
    "    )\n",
    "glance(uniprotIDs)"
   ]
  },
  {
   "cell_type": "markdown",
   "metadata": {},
   "source": [
    "## Hubs"
   ]
  },
  {
   "cell_type": "code",
   "execution_count": 12,
   "metadata": {
    "execution": {
     "iopub.execute_input": "2022-02-02T09:47:14.271577Z",
     "iopub.status.busy": "2022-02-02T09:47:14.271433Z",
     "iopub.status.idle": "2022-02-02T09:47:14.303042Z",
     "shell.execute_reply": "2022-02-02T09:47:14.302395Z",
     "shell.execute_reply.started": "2022-02-02T09:47:14.271553Z"
    }
   },
   "outputs": [
    {
     "name": "stdout",
     "output_type": "stream",
     "text": [
      "list: len 3240\n",
      "['P42858', 'Q9NRI5', 'A8MQ03', 'P05067', 'P62993']\n"
     ]
    }
   ],
   "source": [
    "path0 = os.path.join(\n",
    "    cfg['outputPreprocessingIntAct'], \n",
    "    \"listHubs_20p_v{}.pkl\".format(logVersions['IntAct']['preprocessed']['all'])\n",
    ")\n",
    "\n",
    "with open(path0, 'rb') as f:\n",
    "    list_hubs20 = pkl.load(f)\n",
    "\n",
    "glance(list_hubs20)"
   ]
  },
  {
   "cell_type": "markdown",
   "metadata": {},
   "source": [
    "# EDA"
   ]
  },
  {
   "cell_type": "code",
   "execution_count": 13,
   "metadata": {
    "ExecuteTime": {
     "end_time": "2020-12-19T17:33:22.646578Z",
     "start_time": "2020-12-19T17:33:22.573031Z"
    },
    "execution": {
     "iopub.execute_input": "2022-02-02T09:47:14.304473Z",
     "iopub.status.busy": "2022-02-02T09:47:14.304075Z",
     "iopub.status.idle": "2022-02-02T09:47:14.324475Z",
     "shell.execute_reply": "2022-02-02T09:47:14.324011Z",
     "shell.execute_reply.started": "2022-02-02T09:47:14.304303Z"
    }
   },
   "outputs": [
    {
     "name": "stdout",
     "output_type": "stream",
     "text": [
      "Number of interactions: 78,229\n",
      "Number of unique proteins: 12,026 / 20,386 (58.99%)\n"
     ]
    }
   ],
   "source": [
    "foo = set(allIDs_intact)\n",
    "\n",
    "baar = len(uniprotIDs)\n",
    "\n",
    "print(f\"Number of interactions: {len(intact):,}\")\n",
    "print(\"Number of unique proteins: {:,} / {:,} ({:.2%})\".format(len(foo), baar, len(foo)/baar))"
   ]
  },
  {
   "cell_type": "code",
   "execution_count": 14,
   "metadata": {
    "ExecuteTime": {
     "end_time": "2020-12-19T17:33:25.843575Z",
     "start_time": "2020-12-19T17:33:25.051947Z"
    },
    "execution": {
     "iopub.execute_input": "2022-02-02T09:47:14.325298Z",
     "iopub.status.busy": "2022-02-02T09:47:14.325092Z",
     "iopub.status.idle": "2022-02-02T09:47:14.927052Z",
     "shell.execute_reply": "2022-02-02T09:47:14.926543Z",
     "shell.execute_reply.started": "2022-02-02T09:47:14.325205Z"
    }
   },
   "outputs": [
    {
     "name": "stdout",
     "output_type": "stream",
     "text": [
      "\n",
      "Number of interactions per protein in IntAct (cleaned)\n",
      "\n"
     ]
    },
    {
     "data": {
      "image/png": "[encoded data removed]",
      "text/plain": [
       "<Figure size 720x432 with 1 Axes>"
      ]
     },
     "metadata": {
      "needs_background": "light"
     },
     "output_type": "display_data"
    }
   ],
   "source": [
    "exportIt = True\n",
    "\n",
    "valCounts = allIDs_intact.value_counts()\n",
    "print('\\nNumber of interactions per protein in IntAct (cleaned)\\n')\n",
    "\n",
    "fig, ax = plt.subplots(figsize=(10,6))\n",
    "\n",
    "ax.plot(\n",
    "    range(len(valCounts)), valCounts.values,\n",
    "    color=palette_redon[0],\n",
    "    lw=1.5,\n",
    ")\n",
    "ax.set_xlabel('')\n",
    "ax.set_ylabel('Number of interactions')\n",
    "\n",
    "ax.set_xlim(left=-200)\n",
    "ax.set_ylim(bottom=-20)\n",
    "\n",
    "ax.spines['left'].set_position((\"outward\", 10))\n",
    "ax.spines['bottom'].set_position((\"outward\", 10))\n",
    "ax.spines['left'].set_bounds(0, 800)\n",
    "ax.spines['bottom'].set_bounds(0, 12000)\n",
    "ax.grid(which='major', linewidth=.7, linestyle=':')\n",
    "# print(ax.get_yticks())\n",
    "\n",
    "plt.tight_layout()\n",
    "\n",
    "if exportIt:\n",
    "    export_figure(fig, f\"nInteractions_per_protein_IntAct_2\")\n",
    "            "
   ]
  },
  {
   "cell_type": "code",
   "execution_count": 15,
   "metadata": {
    "execution": {
     "iopub.execute_input": "2022-02-02T09:47:14.927901Z",
     "iopub.status.busy": "2022-02-02T09:47:14.927753Z",
     "iopub.status.idle": "2022-02-02T09:47:14.933881Z",
     "shell.execute_reply": "2022-02-02T09:47:14.933424Z",
     "shell.execute_reply.started": "2022-02-02T09:47:14.927877Z"
    }
   },
   "outputs": [],
   "source": [
    "def EDA_interactionsPerProtein(df, list_hubs, onlyHub=False):\n",
    "    \n",
    "    listID = pd.concat([intact.uniprotID_A,intact.uniprotID_B])\n",
    "    \n",
    "    if not onlyHub:\n",
    "        print(\"-- Percentiles of number of interactions per protein:\")\n",
    "        foo = list(np.linspace(0.1,0.9,9))+list(np.linspace(0.91,0.99,9))\n",
    "        print(listID.value_counts().describe(percentiles = foo))\n",
    "        print()\n",
    "\n",
    "        print(\"-- Bigger hubs:\")\n",
    "        print(listID.value_counts()[:10])\n",
    "        print()\n",
    "\n",
    "        print(f'-- Official list of hubs: {len(list_hubs):,} proteins')\n",
    "        print()\n",
    "\n",
    "    bar = df.loc[df.uniprotID_A.isin(list_hubs)|df.uniprotID_B.isin(list_hubs)]\n",
    "    print(f\"Contribution of the hubs (at least one protein): {len(bar):,} interactions out of {len(df):,} ({len(bar)/len(df):.2%})\")\n",
    "    baar = df.loc[df.uniprotID_A.isin(list_hubs)&df.uniprotID_B.isin(list_hubs)]\n",
    "    print(f\"... both proteins: {len(baar):,} interactions out of {len(df):,} ({len(baar)/len(df):.2%})\")\n",
    "    print(f\"... and {len(df)-len(bar):,} interactions with no hubs at all\")\n",
    "    print()\n",
    "    "
   ]
  },
  {
   "cell_type": "code",
   "execution_count": 16,
   "metadata": {
    "execution": {
     "iopub.execute_input": "2022-02-02T09:47:14.934658Z",
     "iopub.status.busy": "2022-02-02T09:47:14.934515Z",
     "iopub.status.idle": "2022-02-02T09:47:15.037213Z",
     "shell.execute_reply": "2022-02-02T09:47:15.036695Z",
     "shell.execute_reply.started": "2022-02-02T09:47:14.934634Z"
    }
   },
   "outputs": [
    {
     "name": "stdout",
     "output_type": "stream",
     "text": [
      "-- Percentiles of number of interactions per protein:\n",
      "count    12026.000000\n",
      "mean        13.009978\n",
      "std         27.920992\n",
      "min          1.000000\n",
      "10%          1.000000\n",
      "20%          1.000000\n",
      "30%          2.000000\n",
      "40%          3.000000\n",
      "50%          4.000000\n",
      "60%          6.000000\n",
      "70%         10.000000\n",
      "80%         16.000000\n",
      "90%         31.500000\n",
      "91%         35.000000\n",
      "92%         38.000000\n",
      "93%         42.000000\n",
      "94%         47.500000\n",
      "95%         54.000000\n",
      "96%         62.000000\n",
      "97%         71.000000\n",
      "98%         90.000000\n",
      "99%        132.500000\n",
      "max        779.000000\n",
      "dtype: float64\n",
      "\n",
      "-- Bigger hubs:\n",
      "P42858    779\n",
      "A8MQ03    486\n",
      "O76024    427\n",
      "Q7Z699    424\n",
      "Q08379    399\n",
      "Q8TBB1    376\n",
      "P05067    366\n",
      "P60410    365\n",
      "Q96HA8    351\n",
      "P54253    342\n",
      "dtype: int64\n",
      "\n",
      "-- Official list of hubs: 3,240 proteins\n",
      "\n",
      "Contribution of the hubs (at least one protein): 73,822 interactions out of 78,229 (94.37%)\n",
      "... both proteins: 44,334 interactions out of 78,229 (56.67%)\n",
      "... and 4,407 interactions with no hubs at all\n",
      "\n"
     ]
    }
   ],
   "source": [
    "EDA_interactionsPerProtein(df=intact, list_hubs=list_hubs20)"
   ]
  },
  {
   "cell_type": "markdown",
   "metadata": {},
   "source": [
    "---\n",
    "Quick experience with uniform sampling"
   ]
  },
  {
   "cell_type": "code",
   "execution_count": 17,
   "metadata": {
    "execution": {
     "iopub.execute_input": "2022-02-02T09:47:15.038232Z",
     "iopub.status.busy": "2022-02-02T09:47:15.038086Z",
     "iopub.status.idle": "2022-02-02T09:47:15.660927Z",
     "shell.execute_reply": "2022-02-02T09:47:15.660426Z",
     "shell.execute_reply.started": "2022-02-02T09:47:15.038208Z"
    }
   },
   "outputs": [
    {
     "name": "stdout",
     "output_type": "stream",
     "text": [
      "Removed 0 self-interactions\n",
      "Removed 42 duplicates\n",
      "Removed 138 known false negatives\n",
      "Final number of interactions: 78,229\n",
      "DataFrame: 78,229 rows \t 2 columns\n"
     ]
    },
    {
     "data": {
      "text/html": [
       "<div>\n",
       "<style scoped>\n",
       "    .dataframe tbody tr th:only-of-type {\n",
       "        vertical-align: middle;\n",
       "    }\n",
       "\n",
       "    .dataframe tbody tr th {\n",
       "        vertical-align: top;\n",
       "    }\n",
       "\n",
       "    .dataframe thead th {\n",
       "        text-align: right;\n",
       "    }\n",
       "</style>\n",
       "<table border=\"1\" class=\"dataframe\">\n",
       "  <thead>\n",
       "    <tr style=\"text-align: right;\">\n",
       "      <th></th>\n",
       "      <th>uniprotID_A</th>\n",
       "      <th>uniprotID_B</th>\n",
       "    </tr>\n",
       "  </thead>\n",
       "  <tbody>\n",
       "    <tr>\n",
       "      <th>0</th>\n",
       "      <td>P37235</td>\n",
       "      <td>P62273</td>\n",
       "    </tr>\n",
       "    <tr>\n",
       "      <th>1</th>\n",
       "      <td>O95257</td>\n",
       "      <td>Q99417</td>\n",
       "    </tr>\n",
       "    <tr>\n",
       "      <th>2</th>\n",
       "      <td>Q15788</td>\n",
       "      <td>Q6P9A3</td>\n",
       "    </tr>\n",
       "    <tr>\n",
       "      <th>3</th>\n",
       "      <td>O75909</td>\n",
       "      <td>P0DI81</td>\n",
       "    </tr>\n",
       "    <tr>\n",
       "      <th>4</th>\n",
       "      <td>O00192</td>\n",
       "      <td>O60353</td>\n",
       "    </tr>\n",
       "  </tbody>\n",
       "</table>\n",
       "</div>"
      ],
      "text/plain": [
       "  uniprotID_A uniprotID_B\n",
       "0      P37235      P62273\n",
       "1      O95257      Q99417\n",
       "2      Q15788      Q6P9A3\n",
       "3      O75909      P0DI81\n",
       "4      O00192      O60353"
      ]
     },
     "metadata": {},
     "output_type": "display_data"
    }
   ],
   "source": [
    "foo = sorted(list(set(pd.concat([intact_all.uniprotID_A,intact_all.uniprotID_B]))))\n",
    "\n",
    "bar = sampleNIPs(\n",
    "    IDs2sample=foo, \n",
    "    seed=4, \n",
    "    targetSampleSize=len(intact), \n",
    "    referenceIntAct=intact_all,\n",
    ")\n",
    "\n",
    "glance(bar)"
   ]
  },
  {
   "cell_type": "code",
   "execution_count": 18,
   "metadata": {
    "execution": {
     "iopub.execute_input": "2022-02-02T09:47:15.663274Z",
     "iopub.status.busy": "2022-02-02T09:47:15.662425Z",
     "iopub.status.idle": "2022-02-02T09:47:15.697449Z",
     "shell.execute_reply": "2022-02-02T09:47:15.696712Z",
     "shell.execute_reply.started": "2022-02-02T09:47:15.663137Z"
    }
   },
   "outputs": [
    {
     "name": "stdout",
     "output_type": "stream",
     "text": [
      "Contribution of the hubs (at least one protein): 29,025 interactions out of 78,229 (37.10%)\n",
      "... both proteins: 3,381 interactions out of 78,229 (4.32%)\n",
      "... and 49,204 interactions with no hubs at all\n",
      "\n"
     ]
    }
   ],
   "source": [
    "EDA_interactionsPerProtein(df=bar, list_hubs=list_hubs20, onlyHub=True)"
   ]
  },
  {
   "cell_type": "code",
   "execution_count": 19,
   "metadata": {
    "execution": {
     "iopub.execute_input": "2022-02-02T09:47:15.698548Z",
     "iopub.status.busy": "2022-02-02T09:47:15.698386Z",
     "iopub.status.idle": "2022-02-02T09:47:15.733711Z",
     "shell.execute_reply": "2022-02-02T09:47:15.733023Z",
     "shell.execute_reply.started": "2022-02-02T09:47:15.698523Z"
    }
   },
   "outputs": [
    {
     "name": "stdout",
     "output_type": "stream",
     "text": [
      "3240 15508\n",
      "0.20892442610265669\n"
     ]
    }
   ],
   "source": [
    "a = len(list_hubs20)\n",
    "b = len(set(allIDs_intact))\n",
    "b = len(set(pd.concat([intact_all.uniprotID_A,intact_all.uniprotID_B])))\n",
    "print(a, b)\n",
    "print(a/b)"
   ]
  },
  {
   "cell_type": "markdown",
   "metadata": {},
   "source": [
    "# Create positive set"
   ]
  },
  {
   "cell_type": "code",
   "execution_count": 20,
   "metadata": {
    "execution": {
     "iopub.execute_input": "2022-02-02T09:47:15.734631Z",
     "iopub.status.busy": "2022-02-02T09:47:15.734479Z",
     "iopub.status.idle": "2022-02-02T09:47:15.751078Z",
     "shell.execute_reply": "2022-02-02T09:47:15.750322Z",
     "shell.execute_reply.started": "2022-02-02T09:47:15.734609Z"
    }
   },
   "outputs": [],
   "source": [
    "seed_GS = 864"
   ]
  },
  {
   "cell_type": "markdown",
   "metadata": {},
   "source": [
    "**List of proteins in the positive set**"
   ]
  },
  {
   "cell_type": "code",
   "execution_count": 21,
   "metadata": {
    "execution": {
     "iopub.execute_input": "2022-02-02T09:47:15.752163Z",
     "iopub.status.busy": "2022-02-02T09:47:15.751979Z",
     "iopub.status.idle": "2022-02-02T09:47:15.786124Z",
     "shell.execute_reply": "2022-02-02T09:47:15.785538Z",
     "shell.execute_reply.started": "2022-02-02T09:47:15.752133Z"
    }
   },
   "outputs": [
    {
     "name": "stdout",
     "output_type": "stream",
     "text": [
      "list: len 12026\n",
      "['A0A0B4J2D5', 'A0A0B4J2F0', 'A0A0B4J2F2', 'A0A0U1RQF7', 'A0A0U1RRE5']\n"
     ]
    }
   ],
   "source": [
    "proteinList = sorted(list(set(allIDs_intact)))\n",
    "glance(proteinList)"
   ]
  },
  {
   "cell_type": "code",
   "execution_count": 22,
   "metadata": {
    "execution": {
     "iopub.execute_input": "2022-02-02T09:47:15.787040Z",
     "iopub.status.busy": "2022-02-02T09:47:15.786890Z",
     "iopub.status.idle": "2022-02-02T09:47:15.812166Z",
     "shell.execute_reply": "2022-02-02T09:47:15.811612Z",
     "shell.execute_reply.started": "2022-02-02T09:47:15.787017Z"
    }
   },
   "outputs": [
    {
     "name": "stdout",
     "output_type": "stream",
     "text": [
      "DataFrame: 78,229 rows \t 3 columns\n"
     ]
    },
    {
     "data": {
      "text/html": [
       "<div>\n",
       "<style scoped>\n",
       "    .dataframe tbody tr th:only-of-type {\n",
       "        vertical-align: middle;\n",
       "    }\n",
       "\n",
       "    .dataframe tbody tr th {\n",
       "        vertical-align: top;\n",
       "    }\n",
       "\n",
       "    .dataframe thead th {\n",
       "        text-align: right;\n",
       "    }\n",
       "</style>\n",
       "<table border=\"1\" class=\"dataframe\">\n",
       "  <thead>\n",
       "    <tr style=\"text-align: right;\">\n",
       "      <th></th>\n",
       "      <th>uniprotID_A</th>\n",
       "      <th>uniprotID_B</th>\n",
       "      <th>isInteraction</th>\n",
       "    </tr>\n",
       "  </thead>\n",
       "  <tbody>\n",
       "    <tr>\n",
       "      <th>0</th>\n",
       "      <td>P28223</td>\n",
       "      <td>P41595</td>\n",
       "      <td>1</td>\n",
       "    </tr>\n",
       "    <tr>\n",
       "      <th>1</th>\n",
       "      <td>O00161</td>\n",
       "      <td>P56962</td>\n",
       "      <td>1</td>\n",
       "    </tr>\n",
       "    <tr>\n",
       "      <th>2</th>\n",
       "      <td>P82979</td>\n",
       "      <td>Q01081</td>\n",
       "      <td>1</td>\n",
       "    </tr>\n",
       "    <tr>\n",
       "      <th>3</th>\n",
       "      <td>O60678</td>\n",
       "      <td>Q14524</td>\n",
       "      <td>1</td>\n",
       "    </tr>\n",
       "    <tr>\n",
       "      <th>4</th>\n",
       "      <td>P10275</td>\n",
       "      <td>Q15648</td>\n",
       "      <td>1</td>\n",
       "    </tr>\n",
       "  </tbody>\n",
       "</table>\n",
       "</div>"
      ],
      "text/plain": [
       "  uniprotID_A uniprotID_B  isInteraction\n",
       "0      P28223      P41595              1\n",
       "1      O00161      P56962              1\n",
       "2      P82979      Q01081              1\n",
       "3      O60678      Q14524              1\n",
       "4      P10275      Q15648              1"
      ]
     },
     "metadata": {},
     "output_type": "display_data"
    }
   ],
   "source": [
    "PPI = intact[['uniprotID_A','uniprotID_B']].copy()\n",
    "\n",
    "PPI['isInteraction'] = 1\n",
    "\n",
    "glance(PPI)"
   ]
  },
  {
   "cell_type": "markdown",
   "metadata": {},
   "source": [
    "---\n",
    "**EDA**"
   ]
  },
  {
   "cell_type": "code",
   "execution_count": 23,
   "metadata": {
    "execution": {
     "iopub.execute_input": "2022-02-02T09:47:15.815608Z",
     "iopub.status.busy": "2022-02-02T09:47:15.815453Z",
     "iopub.status.idle": "2022-02-02T09:47:17.774708Z",
     "shell.execute_reply": "2022-02-02T09:47:17.774008Z",
     "shell.execute_reply.started": "2022-02-02T09:47:15.815584Z"
    }
   },
   "outputs": [
    {
     "name": "stdout",
     "output_type": "stream",
     "text": [
      "78,229 interactions (100.00% positive)\n",
      "\n",
      "Hub status:\n",
      "- 44,334 hub-hub interactions (56.67% - 100.00% positive)\n",
      "- 29,488 hub-lone interactions (37.69% - 100.00% positive)\n",
      "- 4,407 lone-lone interactions (5.63% - 100.00% positive)\n",
      "\n"
     ]
    }
   ],
   "source": [
    "EDA_predSet(\n",
    "    PPI,\n",
    "    list_hubs=list_hubs20,\n",
    "    PosNeg=False,\n",
    "    trainSet=None,\n",
    "    Overlap=False\n",
    ")"
   ]
  },
  {
   "cell_type": "markdown",
   "metadata": {},
   "source": [
    "## Split positive train/test1/test2"
   ]
  },
  {
   "cell_type": "code",
   "execution_count": 24,
   "metadata": {
    "execution": {
     "iopub.execute_input": "2022-02-02T09:47:17.776542Z",
     "iopub.status.busy": "2022-02-02T09:47:17.776378Z",
     "iopub.status.idle": "2022-02-02T09:47:17.780058Z",
     "shell.execute_reply": "2022-02-02T09:47:17.779429Z",
     "shell.execute_reply.started": "2022-02-02T09:47:17.776517Z"
    }
   },
   "outputs": [],
   "source": [
    "PPI2 = PPI.copy()"
   ]
  },
  {
   "cell_type": "markdown",
   "metadata": {},
   "source": [
    "----\n",
    "**Sample proteins to save for test**"
   ]
  },
  {
   "cell_type": "code",
   "execution_count": 25,
   "metadata": {
    "execution": {
     "iopub.execute_input": "2022-02-02T09:47:17.780955Z",
     "iopub.status.busy": "2022-02-02T09:47:17.780806Z",
     "iopub.status.idle": "2022-02-02T09:47:17.804852Z",
     "shell.execute_reply": "2022-02-02T09:47:17.804209Z",
     "shell.execute_reply.started": "2022-02-02T09:47:17.780930Z"
    }
   },
   "outputs": [
    {
     "name": "stdout",
     "output_type": "stream",
     "text": [
      "In this PPI set, we have 3,184 hubs and 8,842 non-hubs (12,026 total)\n"
     ]
    }
   ],
   "source": [
    "hubsHere = sorted(list(set(list_hubs20) & set(proteinList)))\n",
    "nonHubsHere = sorted(list(set(proteinList) - set(list_hubs20)))\n",
    "\n",
    "print(f\"In this PPI set, we have {len(hubsHere):,} hubs and {len(nonHubsHere):,} non-hubs ({len(proteinList):,} total)\")\n",
    "assert len(proteinList) == len(hubsHere)+len(nonHubsHere)"
   ]
  },
  {
   "cell_type": "code",
   "execution_count": 26,
   "metadata": {
    "execution": {
     "iopub.execute_input": "2022-02-02T09:47:17.805680Z",
     "iopub.status.busy": "2022-02-02T09:47:17.805532Z",
     "iopub.status.idle": "2022-02-02T09:47:17.821615Z",
     "shell.execute_reply": "2022-02-02T09:47:17.820825Z",
     "shell.execute_reply.started": "2022-02-02T09:47:17.805656Z"
    }
   },
   "outputs": [
    {
     "name": "stdout",
     "output_type": "stream",
     "text": [
      "list: len 1562\n",
      "['P78371', 'Q7Z7F0', 'O15156', 'Q13287', 'Q9HD42']\n"
     ]
    }
   ],
   "source": [
    "random.seed(seed_GS)\n",
    "\n",
    "testProteins_rate = 0.13\n",
    "\n",
    "test_hubs = random.sample(hubsHere, int(testProteins_rate*len(hubsHere)))\n",
    "test_nonHubs = random.sample(nonHubsHere, int(testProteins_rate*len(nonHubsHere)))\n",
    "test_proteins = test_hubs + test_nonHubs\n",
    "glance(test_proteins)"
   ]
  },
  {
   "cell_type": "code",
   "execution_count": 27,
   "metadata": {
    "execution": {
     "iopub.execute_input": "2022-02-02T09:47:17.822625Z",
     "iopub.status.busy": "2022-02-02T09:47:17.822439Z",
     "iopub.status.idle": "2022-02-02T09:47:17.838297Z",
     "shell.execute_reply": "2022-02-02T09:47:17.837534Z",
     "shell.execute_reply.started": "2022-02-02T09:47:17.822593Z"
    }
   },
   "outputs": [
    {
     "name": "stdout",
     "output_type": "stream",
     "text": [
      "Total set of proteins: 12,026\n",
      "... 1,562 for no/partial overlap (12.99%)\n"
     ]
    }
   ],
   "source": [
    "print(f\"Total set of proteins: {len(proteinList):,}\")\n",
    "print(f\"... {len(test_proteins):,} for no/partial overlap ({len(test_proteins)/len(proteinList):.2%})\")"
   ]
  },
  {
   "cell_type": "markdown",
   "metadata": {},
   "source": [
    "---\n",
    "**Set aside `test` PPIs**"
   ]
  },
  {
   "cell_type": "code",
   "execution_count": 28,
   "metadata": {
    "execution": {
     "iopub.execute_input": "2022-02-02T09:47:17.839418Z",
     "iopub.status.busy": "2022-02-02T09:47:17.839196Z",
     "iopub.status.idle": "2022-02-02T09:47:17.867183Z",
     "shell.execute_reply": "2022-02-02T09:47:17.866457Z",
     "shell.execute_reply.started": "2022-02-02T09:47:17.839383Z"
    }
   },
   "outputs": [
    {
     "name": "stdout",
     "output_type": "stream",
     "text": [
      "DataFrame: 78,229 rows \t 4 columns\n"
     ]
    },
    {
     "data": {
      "text/html": [
       "<div>\n",
       "<style scoped>\n",
       "    .dataframe tbody tr th:only-of-type {\n",
       "        vertical-align: middle;\n",
       "    }\n",
       "\n",
       "    .dataframe tbody tr th {\n",
       "        vertical-align: top;\n",
       "    }\n",
       "\n",
       "    .dataframe thead th {\n",
       "        text-align: right;\n",
       "    }\n",
       "</style>\n",
       "<table border=\"1\" class=\"dataframe\">\n",
       "  <thead>\n",
       "    <tr style=\"text-align: right;\">\n",
       "      <th></th>\n",
       "      <th>uniprotID_A</th>\n",
       "      <th>uniprotID_B</th>\n",
       "      <th>isInteraction</th>\n",
       "      <th>trainTest</th>\n",
       "    </tr>\n",
       "  </thead>\n",
       "  <tbody>\n",
       "    <tr>\n",
       "      <th>0</th>\n",
       "      <td>P28223</td>\n",
       "      <td>P41595</td>\n",
       "      <td>1</td>\n",
       "      <td></td>\n",
       "    </tr>\n",
       "    <tr>\n",
       "      <th>1</th>\n",
       "      <td>O00161</td>\n",
       "      <td>P56962</td>\n",
       "      <td>1</td>\n",
       "      <td></td>\n",
       "    </tr>\n",
       "    <tr>\n",
       "      <th>2</th>\n",
       "      <td>P82979</td>\n",
       "      <td>Q01081</td>\n",
       "      <td>1</td>\n",
       "      <td></td>\n",
       "    </tr>\n",
       "    <tr>\n",
       "      <th>3</th>\n",
       "      <td>O60678</td>\n",
       "      <td>Q14524</td>\n",
       "      <td>1</td>\n",
       "      <td></td>\n",
       "    </tr>\n",
       "    <tr>\n",
       "      <th>4</th>\n",
       "      <td>P10275</td>\n",
       "      <td>Q15648</td>\n",
       "      <td>1</td>\n",
       "      <td></td>\n",
       "    </tr>\n",
       "  </tbody>\n",
       "</table>\n",
       "</div>"
      ],
      "text/plain": [
       "  uniprotID_A uniprotID_B  isInteraction trainTest\n",
       "0      P28223      P41595              1          \n",
       "1      O00161      P56962              1          \n",
       "2      P82979      Q01081              1          \n",
       "3      O60678      Q14524              1          \n",
       "4      P10275      Q15648              1          "
      ]
     },
     "metadata": {},
     "output_type": "display_data"
    }
   ],
   "source": [
    "PPI2['trainTest'] = ''\n",
    "\n",
    "glance(PPI2)"
   ]
  },
  {
   "cell_type": "code",
   "execution_count": 29,
   "metadata": {
    "execution": {
     "iopub.execute_input": "2022-02-02T09:47:17.868238Z",
     "iopub.status.busy": "2022-02-02T09:47:17.868055Z",
     "iopub.status.idle": "2022-02-02T09:47:17.899014Z",
     "shell.execute_reply": "2022-02-02T09:47:17.898366Z",
     "shell.execute_reply.started": "2022-02-02T09:47:17.868209Z"
    }
   },
   "outputs": [
    {
     "name": "stdout",
     "output_type": "stream",
     "text": [
      "0    59256\n",
      "1    17599\n",
      "2     1374\n",
      "dtype: int64\n"
     ]
    }
   ],
   "source": [
    "AisTestProt = PPI2.uniprotID_A.isin(test_proteins).astype(int)\n",
    "BisTestProt = PPI2.uniprotID_B.isin(test_proteins).astype(int)\n",
    "testProtType = AisTestProt + BisTestProt\n",
    "\n",
    "print(testProtType.value_counts())"
   ]
  },
  {
   "cell_type": "code",
   "execution_count": 30,
   "metadata": {
    "execution": {
     "iopub.execute_input": "2022-02-02T09:47:17.899860Z",
     "iopub.status.busy": "2022-02-02T09:47:17.899718Z",
     "iopub.status.idle": "2022-02-02T09:47:17.921225Z",
     "shell.execute_reply": "2022-02-02T09:47:17.920610Z",
     "shell.execute_reply.started": "2022-02-02T09:47:17.899837Z"
    }
   },
   "outputs": [
    {
     "name": "stdout",
     "output_type": "stream",
     "text": [
      "        59256\n",
      "test    18973\n",
      "Name: trainTest, dtype: int64\n"
     ]
    }
   ],
   "source": [
    "PPI2.loc[testProtType >= 1, 'trainTest'] = 'test'\n",
    "\n",
    "print(PPI2.trainTest.value_counts())"
   ]
  },
  {
   "cell_type": "markdown",
   "metadata": {},
   "source": [
    "---\n",
    "**Set aside interactions for complete overlap**"
   ]
  },
  {
   "cell_type": "code",
   "execution_count": 31,
   "metadata": {
    "execution": {
     "iopub.execute_input": "2022-02-02T09:47:17.922054Z",
     "iopub.status.busy": "2022-02-02T09:47:17.921907Z",
     "iopub.status.idle": "2022-02-02T09:47:17.944942Z",
     "shell.execute_reply": "2022-02-02T09:47:17.944342Z",
     "shell.execute_reply.started": "2022-02-02T09:47:17.922030Z"
    }
   },
   "outputs": [
    {
     "name": "stdout",
     "output_type": "stream",
     "text": [
      "list: len 5925\n",
      "[44539, 14674, 30295, 31212, 1982]\n"
     ]
    }
   ],
   "source": [
    "random.seed(seed_GS + 10)\n",
    "CO_rate = 0.1\n",
    "\n",
    "foo = PPI2.loc[PPI2.trainTest == '']\n",
    "\n",
    "testCO = random.sample(list(foo.index), int(CO_rate*len(foo)))\n",
    "\n",
    "glance(testCO)"
   ]
  },
  {
   "cell_type": "code",
   "execution_count": 32,
   "metadata": {
    "execution": {
     "iopub.execute_input": "2022-02-02T09:47:17.945846Z",
     "iopub.status.busy": "2022-02-02T09:47:17.945696Z",
     "iopub.status.idle": "2022-02-02T09:47:17.968662Z",
     "shell.execute_reply": "2022-02-02T09:47:17.968067Z",
     "shell.execute_reply.started": "2022-02-02T09:47:17.945821Z"
    }
   },
   "outputs": [
    {
     "name": "stdout",
     "output_type": "stream",
     "text": [
      "        53331\n",
      "test    24898\n",
      "Name: trainTest, dtype: int64\n"
     ]
    }
   ],
   "source": [
    "PPI2.loc[testCO,'trainTest'] = 'test'\n",
    "\n",
    "print(PPI2.trainTest.value_counts())"
   ]
  },
  {
   "cell_type": "markdown",
   "metadata": {},
   "source": [
    "---\n",
    "**EDA**"
   ]
  },
  {
   "cell_type": "code",
   "execution_count": 33,
   "metadata": {
    "execution": {
     "iopub.execute_input": "2022-02-02T09:47:17.969560Z",
     "iopub.status.busy": "2022-02-02T09:47:17.969415Z",
     "iopub.status.idle": "2022-02-02T09:47:17.995128Z",
     "shell.execute_reply": "2022-02-02T09:47:17.994334Z",
     "shell.execute_reply.started": "2022-02-02T09:47:17.969536Z"
    }
   },
   "outputs": [
    {
     "name": "stdout",
     "output_type": "stream",
     "text": [
      "train: 53,331 PPIs (68.17%)\n",
      "test: 24,898 PPIs (31.83%)\n"
     ]
    }
   ],
   "source": [
    "foo = PPI2.trainTest.value_counts()\n",
    "for x in ['','test']:\n",
    "    if x == '':\n",
    "        x2 = 'train'\n",
    "    else:\n",
    "        x2=x\n",
    "    print(f\"{x2}: {foo[x]:,} PPIs ({foo[x]/len(PPI2):.2%})\")"
   ]
  },
  {
   "cell_type": "code",
   "execution_count": 34,
   "metadata": {
    "execution": {
     "iopub.execute_input": "2022-02-02T09:47:17.996381Z",
     "iopub.status.busy": "2022-02-02T09:47:17.996151Z",
     "iopub.status.idle": "2022-02-02T09:47:18.073312Z",
     "shell.execute_reply": "2022-02-02T09:47:18.072362Z",
     "shell.execute_reply.started": "2022-02-02T09:47:17.996344Z"
    }
   },
   "outputs": [
    {
     "name": "stdout",
     "output_type": "stream",
     "text": [
      "## Train set\n",
      "53,331 interactions (100.00% positive)\n",
      "\n",
      "Hub status:\n",
      "- 30,355 hub-hub interactions (56.92% - 100.00% positive)\n",
      "- 19,944 hub-lone interactions (37.40% - 100.00% positive)\n",
      "- 3,032 lone-lone interactions (5.69% - 100.00% positive)\n",
      "\n"
     ]
    }
   ],
   "source": [
    "print('## Train set')\n",
    "EDA_predSet(\n",
    "    PPI2.loc[PPI2.trainTest == ''],\n",
    "    list_hubs=list_hubs20,\n",
    "    trainSet = PPI2.loc[PPI2.trainTest == ''],\n",
    "    PosNeg=False,\n",
    "    Overlap=False\n",
    ")\n"
   ]
  },
  {
   "cell_type": "code",
   "execution_count": 35,
   "metadata": {
    "execution": {
     "iopub.execute_input": "2022-02-02T09:47:18.074750Z",
     "iopub.status.busy": "2022-02-02T09:47:18.074496Z",
     "iopub.status.idle": "2022-02-02T09:47:18.147696Z",
     "shell.execute_reply": "2022-02-02T09:47:18.147135Z",
     "shell.execute_reply.started": "2022-02-02T09:47:18.074710Z"
    },
    "scrolled": true
   },
   "outputs": [
    {
     "name": "stdout",
     "output_type": "stream",
     "text": [
      "## Test set\n",
      "24,898 interactions (100.00% positive)\n",
      "\n",
      "Hub status:\n",
      "- 13,979 hub-hub interactions (56.15% - 100.00% positive)\n",
      "- 9,544 hub-lone interactions (38.33% - 100.00% positive)\n",
      "- 1,375 lone-lone interactions (5.52% - 100.00% positive)\n",
      "\n",
      "Overlap with train:\n",
      "- 5,673 total overlap with train, both proteins already seen (22.78% - 100.00% positive)\n",
      "- 17,480 partial overal, only one protein seen (70.21% - 100.00% positive)\n",
      "- 1,745 no overlap (7.01% - 100.00% positive)\n",
      "\n",
      "### Hub-Hub only ###\n",
      "\n",
      "Overlap with train:\n",
      "- 3,303 total overlap with train, both proteins already seen (23.63% - 100.00% positive)\n",
      "- 9,915 partial overal, only one protein seen (70.93% - 100.00% positive)\n",
      "- 761 no overlap (5.44% - 100.00% positive)\n",
      "\n",
      "### Hub-Lone only ###\n",
      "\n",
      "Overlap with train:\n",
      "- 2,120 total overlap with train, both proteins already seen (22.21% - 100.00% positive)\n",
      "- 6,628 partial overal, only one protein seen (69.45% - 100.00% positive)\n",
      "- 796 no overlap (8.34% - 100.00% positive)\n",
      "\n",
      "### Lone-Lone only ###\n",
      "\n",
      "Overlap with train:\n",
      "- 250 total overlap with train, both proteins already seen (18.18% - 100.00% positive)\n",
      "- 937 partial overal, only one protein seen (68.15% - 100.00% positive)\n",
      "- 188 no overlap (13.67% - 100.00% positive)\n",
      "\n",
      "### Complete overlap only ###\n",
      "\n",
      "Hub status:\n",
      "- 3,303 hub-hub interactions (58.22% - 100.00% positive)\n",
      "- 2,120 hub-lone interactions (37.37% - 100.00% positive)\n",
      "- 250 lone-lone interactions (4.41% - 100.00% positive)\n",
      "\n",
      "### Partial overlap only ###\n",
      "\n",
      "Hub status:\n",
      "- 9,915 hub-hub interactions (56.72% - 100.00% positive)\n",
      "- 6,628 hub-lone interactions (37.92% - 100.00% positive)\n",
      "- 937 lone-lone interactions (5.36% - 100.00% positive)\n",
      "\n",
      "### No overlap only ###\n",
      "\n",
      "Hub status:\n",
      "- 761 hub-hub interactions (43.61% - 100.00% positive)\n",
      "- 796 hub-lone interactions (45.62% - 100.00% positive)\n",
      "- 188 lone-lone interactions (10.77% - 100.00% positive)\n",
      "\n"
     ]
    }
   ],
   "source": [
    "print('## Test set')\n",
    "outEDA0 = EDA_predSet(\n",
    "    PPI2.loc[PPI2.trainTest == 'test'],\n",
    "    list_hubs=list_hubs20,\n",
    "    trainSet = PPI2.loc[PPI2.trainTest == ''],\n",
    "    PosNeg=False,\n",
    "    out=True,\n",
    "#     Overlap=False\n",
    ")\n"
   ]
  },
  {
   "cell_type": "markdown",
   "metadata": {},
   "source": [
    "---\n",
    "**Split between test1 and test2**"
   ]
  },
  {
   "cell_type": "code",
   "execution_count": 36,
   "metadata": {
    "execution": {
     "iopub.execute_input": "2022-02-02T09:47:18.148594Z",
     "iopub.status.busy": "2022-02-02T09:47:18.148438Z",
     "iopub.status.idle": "2022-02-02T09:47:18.152115Z",
     "shell.execute_reply": "2022-02-02T09:47:18.151630Z",
     "shell.execute_reply.started": "2022-02-02T09:47:18.148569Z"
    }
   },
   "outputs": [],
   "source": [
    "PPI3 = PPI2.copy()"
   ]
  },
  {
   "cell_type": "code",
   "execution_count": 37,
   "metadata": {
    "execution": {
     "iopub.execute_input": "2022-02-02T09:47:18.153130Z",
     "iopub.status.busy": "2022-02-02T09:47:18.152983Z",
     "iopub.status.idle": "2022-02-02T09:47:18.192494Z",
     "shell.execute_reply": "2022-02-02T09:47:18.191941Z",
     "shell.execute_reply.started": "2022-02-02T09:47:18.153106Z"
    }
   },
   "outputs": [
    {
     "name": "stdout",
     "output_type": "stream",
     "text": [
      "list: len 12449\n",
      "[69751, 9055, 76224, 50380, 17291]\n",
      "list: len 12449\n",
      "[0, 32771, 32774, 65545, 65547]\n"
     ]
    }
   ],
   "source": [
    "random.seed(seed_GS + 20)\n",
    "\n",
    "foo = PPI3.loc[PPI3.trainTest == 'test']\n",
    "\n",
    "test1_idx = random.sample(list(foo.index), int(0.5*len(foo)))\n",
    "test2_idx = list(set(foo.index) - set(test1_idx))\n",
    "\n",
    "glance(test1_idx)\n",
    "glance(test2_idx)\n",
    "assert len(set(test1_idx) & set(test2_idx)) == 0"
   ]
  },
  {
   "cell_type": "code",
   "execution_count": 38,
   "metadata": {
    "execution": {
     "iopub.execute_input": "2022-02-02T09:47:18.193456Z",
     "iopub.status.busy": "2022-02-02T09:47:18.193301Z",
     "iopub.status.idle": "2022-02-02T09:47:18.216582Z",
     "shell.execute_reply": "2022-02-02T09:47:18.216029Z",
     "shell.execute_reply.started": "2022-02-02T09:47:18.193431Z"
    }
   },
   "outputs": [
    {
     "name": "stdout",
     "output_type": "stream",
     "text": [
      "         53331\n",
      "test2    12449\n",
      "test1    12449\n",
      "Name: trainTest, dtype: int64\n"
     ]
    }
   ],
   "source": [
    "PPI3.loc[test1_idx,'trainTest'] = 'test1'\n",
    "PPI3.loc[test2_idx,'trainTest'] = 'test2'\n",
    "\n",
    "print(PPI3.trainTest.value_counts())"
   ]
  },
  {
   "cell_type": "markdown",
   "metadata": {},
   "source": [
    "---\n",
    "**EDA**"
   ]
  },
  {
   "cell_type": "code",
   "execution_count": 39,
   "metadata": {
    "execution": {
     "iopub.execute_input": "2022-02-02T09:47:18.217536Z",
     "iopub.status.busy": "2022-02-02T09:47:18.217384Z",
     "iopub.status.idle": "2022-02-02T09:47:18.284393Z",
     "shell.execute_reply": "2022-02-02T09:47:18.283853Z",
     "shell.execute_reply.started": "2022-02-02T09:47:18.217511Z"
    },
    "scrolled": true
   },
   "outputs": [
    {
     "name": "stdout",
     "output_type": "stream",
     "text": [
      "## Test1\n",
      "12,449 interactions (100.00% positive)\n",
      "\n",
      "Hub status:\n",
      "- 6,955 hub-hub interactions (55.87% - 100.00% positive)\n",
      "- 4,818 hub-lone interactions (38.70% - 100.00% positive)\n",
      "- 676 lone-lone interactions (5.43% - 100.00% positive)\n",
      "\n",
      "Overlap with train:\n",
      "- 2,847 total overlap with train, both proteins already seen (22.87% - 100.00% positive)\n",
      "- 8,745 partial overal, only one protein seen (70.25% - 100.00% positive)\n",
      "- 857 no overlap (6.88% - 100.00% positive)\n",
      "\n",
      "### Hub-Hub only ###\n",
      "\n",
      "Overlap with train:\n",
      "- 1,668 total overlap with train, both proteins already seen (23.98% - 100.00% positive)\n",
      "- 4,903 partial overal, only one protein seen (70.50% - 100.00% positive)\n",
      "- 384 no overlap (5.52% - 100.00% positive)\n",
      "\n",
      "### Hub-Lone only ###\n",
      "\n",
      "Overlap with train:\n",
      "- 1,050 total overlap with train, both proteins already seen (21.79% - 100.00% positive)\n",
      "- 3,388 partial overal, only one protein seen (70.32% - 100.00% positive)\n",
      "- 380 no overlap (7.89% - 100.00% positive)\n",
      "\n",
      "### Lone-Lone only ###\n",
      "\n",
      "Overlap with train:\n",
      "- 129 total overlap with train, both proteins already seen (19.08% - 100.00% positive)\n",
      "- 454 partial overal, only one protein seen (67.16% - 100.00% positive)\n",
      "- 93 no overlap (13.76% - 100.00% positive)\n",
      "\n",
      "### Complete overlap only ###\n",
      "\n",
      "Hub status:\n",
      "- 1,668 hub-hub interactions (58.59% - 100.00% positive)\n",
      "- 1,050 hub-lone interactions (36.88% - 100.00% positive)\n",
      "- 129 lone-lone interactions (4.53% - 100.00% positive)\n",
      "\n",
      "### Partial overlap only ###\n",
      "\n",
      "Hub status:\n",
      "- 4,903 hub-hub interactions (56.07% - 100.00% positive)\n",
      "- 3,388 hub-lone interactions (38.74% - 100.00% positive)\n",
      "- 454 lone-lone interactions (5.19% - 100.00% positive)\n",
      "\n",
      "### No overlap only ###\n",
      "\n",
      "Hub status:\n",
      "- 384 hub-hub interactions (44.81% - 100.00% positive)\n",
      "- 380 hub-lone interactions (44.34% - 100.00% positive)\n",
      "- 93 lone-lone interactions (10.85% - 100.00% positive)\n",
      "\n"
     ]
    }
   ],
   "source": [
    "print('## Test1')\n",
    "EDA_predSet(\n",
    "    PPI3.loc[PPI3.trainTest == 'test1'],\n",
    "    list_hubs=list_hubs20,\n",
    "    trainSet = PPI3.loc[PPI3.trainTest == ''],\n",
    "    PosNeg=False,\n",
    "#     Overlap=False\n",
    ")\n"
   ]
  },
  {
   "cell_type": "code",
   "execution_count": 40,
   "metadata": {
    "execution": {
     "iopub.execute_input": "2022-02-02T09:47:18.285319Z",
     "iopub.status.busy": "2022-02-02T09:47:18.285156Z",
     "iopub.status.idle": "2022-02-02T09:47:18.343696Z",
     "shell.execute_reply": "2022-02-02T09:47:18.343179Z",
     "shell.execute_reply.started": "2022-02-02T09:47:18.285293Z"
    },
    "scrolled": true
   },
   "outputs": [
    {
     "name": "stdout",
     "output_type": "stream",
     "text": [
      "## Test2\n",
      "12,449 interactions (100.00% positive)\n",
      "\n",
      "Hub status:\n",
      "- 7,024 hub-hub interactions (56.42% - 100.00% positive)\n",
      "- 4,726 hub-lone interactions (37.96% - 100.00% positive)\n",
      "- 699 lone-lone interactions (5.61% - 100.00% positive)\n",
      "\n",
      "Overlap with train:\n",
      "- 2,826 total overlap with train, both proteins already seen (22.70% - 100.00% positive)\n",
      "- 8,735 partial overal, only one protein seen (70.17% - 100.00% positive)\n",
      "- 888 no overlap (7.13% - 100.00% positive)\n",
      "\n",
      "### Hub-Hub only ###\n",
      "\n",
      "Overlap with train:\n",
      "- 1,635 total overlap with train, both proteins already seen (23.28% - 100.00% positive)\n",
      "- 5,012 partial overal, only one protein seen (71.36% - 100.00% positive)\n",
      "- 377 no overlap (5.37% - 100.00% positive)\n",
      "\n",
      "### Hub-Lone only ###\n",
      "\n",
      "Overlap with train:\n",
      "- 1,070 total overlap with train, both proteins already seen (22.64% - 100.00% positive)\n",
      "- 3,240 partial overal, only one protein seen (68.56% - 100.00% positive)\n",
      "- 416 no overlap (8.80% - 100.00% positive)\n",
      "\n",
      "### Lone-Lone only ###\n",
      "\n",
      "Overlap with train:\n",
      "- 121 total overlap with train, both proteins already seen (17.31% - 100.00% positive)\n",
      "- 483 partial overal, only one protein seen (69.10% - 100.00% positive)\n",
      "- 95 no overlap (13.59% - 100.00% positive)\n",
      "\n",
      "### Complete overlap only ###\n",
      "\n",
      "Hub status:\n",
      "- 1,635 hub-hub interactions (57.86% - 100.00% positive)\n",
      "- 1,070 hub-lone interactions (37.86% - 100.00% positive)\n",
      "- 121 lone-lone interactions (4.28% - 100.00% positive)\n",
      "\n",
      "### Partial overlap only ###\n",
      "\n",
      "Hub status:\n",
      "- 5,012 hub-hub interactions (57.38% - 100.00% positive)\n",
      "- 3,240 hub-lone interactions (37.09% - 100.00% positive)\n",
      "- 483 lone-lone interactions (5.53% - 100.00% positive)\n",
      "\n",
      "### No overlap only ###\n",
      "\n",
      "Hub status:\n",
      "- 377 hub-hub interactions (42.45% - 100.00% positive)\n",
      "- 416 hub-lone interactions (46.85% - 100.00% positive)\n",
      "- 95 lone-lone interactions (10.70% - 100.00% positive)\n",
      "\n"
     ]
    }
   ],
   "source": [
    "print('## Test2')\n",
    "EDA_predSet(\n",
    "    PPI3.loc[PPI3.trainTest == 'test2'],\n",
    "    list_hubs=list_hubs20,\n",
    "    trainSet = PPI3.loc[PPI3.trainTest == ''],\n",
    "    PosNeg=False,\n",
    "#     Overlap=False\n",
    ")\n"
   ]
  },
  {
   "cell_type": "markdown",
   "metadata": {},
   "source": [
    "---\n",
    "**Allocate `train`**"
   ]
  },
  {
   "cell_type": "code",
   "execution_count": 41,
   "metadata": {
    "execution": {
     "iopub.execute_input": "2022-02-02T09:47:18.344669Z",
     "iopub.status.busy": "2022-02-02T09:47:18.344515Z",
     "iopub.status.idle": "2022-02-02T09:47:18.352810Z",
     "shell.execute_reply": "2022-02-02T09:47:18.352322Z",
     "shell.execute_reply.started": "2022-02-02T09:47:18.344644Z"
    }
   },
   "outputs": [],
   "source": [
    "PPI3.loc[PPI3.trainTest == '','trainTest'] = 'train'"
   ]
  },
  {
   "cell_type": "code",
   "execution_count": 42,
   "metadata": {
    "execution": {
     "iopub.execute_input": "2022-02-02T09:47:18.353843Z",
     "iopub.status.busy": "2022-02-02T09:47:18.353698Z",
     "iopub.status.idle": "2022-02-02T09:47:18.374264Z",
     "shell.execute_reply": "2022-02-02T09:47:18.373744Z",
     "shell.execute_reply.started": "2022-02-02T09:47:18.353820Z"
    }
   },
   "outputs": [
    {
     "name": "stdout",
     "output_type": "stream",
     "text": [
      "train: 53,331 PPIs (68.17%)\n",
      "test1: 12,449 PPIs (15.91%)\n",
      "test2: 12,449 PPIs (15.91%)\n"
     ]
    }
   ],
   "source": [
    "foo = PPI3.trainTest.value_counts()\n",
    "for x in ['train','test1','test2']:\n",
    "    print(f\"{x}: {foo[x]:,} PPIs ({foo[x]/len(PPI3):.2%})\")"
   ]
  },
  {
   "cell_type": "code",
   "execution_count": 43,
   "metadata": {
    "execution": {
     "iopub.execute_input": "2022-02-02T09:47:18.375467Z",
     "iopub.status.busy": "2022-02-02T09:47:18.375306Z",
     "iopub.status.idle": "2022-02-02T09:47:18.400651Z",
     "shell.execute_reply": "2022-02-02T09:47:18.400176Z",
     "shell.execute_reply.started": "2022-02-02T09:47:18.375439Z"
    }
   },
   "outputs": [
    {
     "data": {
      "text/plain": [
       "53331"
      ]
     },
     "execution_count": 43,
     "metadata": {},
     "output_type": "execute_result"
    }
   ],
   "source": [
    "PPI3.trainTest.value_counts()['train']"
   ]
  },
  {
   "cell_type": "markdown",
   "metadata": {},
   "source": [
    "## Small experiment: showing overlap when splitting train/test randomly"
   ]
  },
  {
   "cell_type": "code",
   "execution_count": 44,
   "metadata": {
    "execution": {
     "iopub.execute_input": "2022-02-02T09:47:18.401507Z",
     "iopub.status.busy": "2022-02-02T09:47:18.401365Z",
     "iopub.status.idle": "2022-02-02T09:47:18.420453Z",
     "shell.execute_reply": "2022-02-02T09:47:18.419956Z",
     "shell.execute_reply.started": "2022-02-02T09:47:18.401482Z"
    }
   },
   "outputs": [
    {
     "name": "stdout",
     "output_type": "stream",
     "text": [
      "DataFrame: 78,229 rows \t 4 columns\n"
     ]
    },
    {
     "data": {
      "text/html": [
       "<div>\n",
       "<style scoped>\n",
       "    .dataframe tbody tr th:only-of-type {\n",
       "        vertical-align: middle;\n",
       "    }\n",
       "\n",
       "    .dataframe tbody tr th {\n",
       "        vertical-align: top;\n",
       "    }\n",
       "\n",
       "    .dataframe thead th {\n",
       "        text-align: right;\n",
       "    }\n",
       "</style>\n",
       "<table border=\"1\" class=\"dataframe\">\n",
       "  <thead>\n",
       "    <tr style=\"text-align: right;\">\n",
       "      <th></th>\n",
       "      <th>uniprotID_A</th>\n",
       "      <th>uniprotID_B</th>\n",
       "      <th>isInteraction</th>\n",
       "      <th>trainTest</th>\n",
       "    </tr>\n",
       "  </thead>\n",
       "  <tbody>\n",
       "    <tr>\n",
       "      <th>0</th>\n",
       "      <td>P28223</td>\n",
       "      <td>P41595</td>\n",
       "      <td>1</td>\n",
       "      <td>test2</td>\n",
       "    </tr>\n",
       "    <tr>\n",
       "      <th>1</th>\n",
       "      <td>O00161</td>\n",
       "      <td>P56962</td>\n",
       "      <td>1</td>\n",
       "      <td>train</td>\n",
       "    </tr>\n",
       "    <tr>\n",
       "      <th>2</th>\n",
       "      <td>P82979</td>\n",
       "      <td>Q01081</td>\n",
       "      <td>1</td>\n",
       "      <td>train</td>\n",
       "    </tr>\n",
       "    <tr>\n",
       "      <th>3</th>\n",
       "      <td>O60678</td>\n",
       "      <td>Q14524</td>\n",
       "      <td>1</td>\n",
       "      <td>train</td>\n",
       "    </tr>\n",
       "    <tr>\n",
       "      <th>4</th>\n",
       "      <td>P10275</td>\n",
       "      <td>Q15648</td>\n",
       "      <td>1</td>\n",
       "      <td>train</td>\n",
       "    </tr>\n",
       "  </tbody>\n",
       "</table>\n",
       "</div>"
      ],
      "text/plain": [
       "  uniprotID_A uniprotID_B  isInteraction trainTest\n",
       "0      P28223      P41595              1     test2\n",
       "1      O00161      P56962              1     train\n",
       "2      P82979      Q01081              1     train\n",
       "3      O60678      Q14524              1     train\n",
       "4      P10275      Q15648              1     train"
      ]
     },
     "metadata": {},
     "output_type": "display_data"
    }
   ],
   "source": [
    "glance(PPI3)"
   ]
  },
  {
   "cell_type": "code",
   "execution_count": 45,
   "metadata": {
    "execution": {
     "iopub.execute_input": "2022-02-02T09:47:18.421311Z",
     "iopub.status.busy": "2022-02-02T09:47:18.421164Z",
     "iopub.status.idle": "2022-02-02T09:47:18.549058Z",
     "shell.execute_reply": "2022-02-02T09:47:18.548523Z",
     "shell.execute_reply.started": "2022-02-02T09:47:18.421288Z"
    },
    "scrolled": true
   },
   "outputs": [
    {
     "name": "stdout",
     "output_type": "stream",
     "text": [
      "23,468 interactions (100.00% positive)\n",
      "\n",
      "Hub status:\n",
      "- 13,393 hub-hub interactions (57.07% - 100.00% positive)\n",
      "- 8,810 hub-lone interactions (37.54% - 100.00% positive)\n",
      "- 1,265 lone-lone interactions (5.39% - 100.00% positive)\n",
      "\n",
      "Overlap with train:\n",
      "- 22,388 total overlap with train, both proteins already seen (95.40% - 100.00% positive)\n",
      "- 1,046 partial overal, only one protein seen (4.46% - 100.00% positive)\n",
      "- 34 no overlap (0.14% - 100.00% positive)\n",
      "\n",
      "### Hub-Hub only ###\n",
      "\n",
      "Overlap with train:\n",
      "- 13,366 total overlap with train, both proteins already seen (99.80% - 100.00% positive)\n",
      "- 26 partial overal, only one protein seen (0.19% - 100.00% positive)\n",
      "- 1 no overlap (0.01% - 100.00% positive)\n",
      "\n",
      "### Hub-Lone only ###\n",
      "\n",
      "Overlap with train:\n",
      "- 8,047 total overlap with train, both proteins already seen (91.34% - 100.00% positive)\n",
      "- 763 partial overal, only one protein seen (8.66% - 100.00% positive)\n",
      "- 0 no overlap (0.00% - nan% positive)\n",
      "\n",
      "### Lone-Lone only ###\n",
      "\n",
      "Overlap with train:\n",
      "- 975 total overlap with train, both proteins already seen (77.08% - 100.00% positive)\n",
      "- 257 partial overal, only one protein seen (20.32% - 100.00% positive)\n",
      "- 33 no overlap (2.61% - 100.00% positive)\n",
      "\n",
      "### Complete overlap only ###\n",
      "\n",
      "Hub status:\n",
      "- 13,366 hub-hub interactions (59.70% - 100.00% positive)\n",
      "- 8,047 hub-lone interactions (35.94% - 100.00% positive)\n",
      "- 975 lone-lone interactions (4.36% - 100.00% positive)\n",
      "\n",
      "### Partial overlap only ###\n",
      "\n",
      "Hub status:\n",
      "- 26 hub-hub interactions (2.49% - 100.00% positive)\n",
      "- 763 hub-lone interactions (72.94% - 100.00% positive)\n",
      "- 257 lone-lone interactions (24.57% - 100.00% positive)\n",
      "\n",
      "### No overlap only ###\n",
      "\n",
      "Hub status:\n",
      "- 1 hub-hub interactions (2.94% - 100.00% positive)\n",
      "- 0 hub-lone interactions (0.00% - nan% positive)\n",
      "- 33 lone-lone interactions (97.06% - 100.00% positive)\n",
      "\n"
     ]
    },
    {
     "name": "stderr",
     "output_type": "stream",
     "text": [
      "/home/ll582/PPI_predictions/3_gold_standard/toolbox.py:227: RuntimeWarning: invalid value encountered in long_scalars\n",
      "  print(f\"- {a:,} no overlap ({b:.2%} - {foo.isInteraction.sum()/a:.2%} positive)\")\n",
      "/home/ll582/PPI_predictions/3_gold_standard/toolbox.py:195: RuntimeWarning: invalid value encountered in long_scalars\n",
      "  print(f\"- {a:,} hub-lone interactions ({b:.2%} - {foo.isInteraction.sum()/a:.2%} positive)\")\n"
     ]
    }
   ],
   "source": [
    "random.seed(24)\n",
    "\n",
    "test_idx = np.random.choice(\n",
    "    list(PPI3.index), \n",
    "    size=int(0.3*len(PPI3)),\n",
    "    replace=False,\n",
    ")\n",
    "train_idx = list(set(PPI3.index) - set(test_idx))\n",
    "\n",
    "assert len(set(train_idx) & set(test_idx)) == 0\n",
    "\n",
    "outEDA = EDA_predSet(\n",
    "    PPI3.loc[test_idx],\n",
    "    list_hubs=list_hubs20,\n",
    "    trainSet = PPI3.loc[train_idx],\n",
    "    PosNeg=False,\n",
    "    out=True\n",
    ")\n",
    "\n",
    "# foo_train = PPI3.loc[]\n",
    "\n",
    "# glance(test_idx)\n",
    "# glance(train_idx)"
   ]
  },
  {
   "cell_type": "markdown",
   "metadata": {},
   "source": [
    "---\n",
    "**Figure manuscript**"
   ]
  },
  {
   "cell_type": "code",
   "execution_count": 46,
   "metadata": {
    "execution": {
     "iopub.execute_input": "2022-02-02T09:47:18.550087Z",
     "iopub.status.busy": "2022-02-02T09:47:18.549927Z",
     "iopub.status.idle": "2022-02-02T09:47:18.704218Z",
     "shell.execute_reply": "2022-02-02T09:47:18.703569Z",
     "shell.execute_reply.started": "2022-02-02T09:47:18.550061Z"
    }
   },
   "outputs": [
    {
     "data": {
      "image/png": "[encoded data removed]",
      "text/plain": [
       "<Figure size 864x504 with 2 Axes>"
      ]
     },
     "metadata": {},
     "output_type": "display_data"
    }
   ],
   "source": [
    "fig, (ax1, ax2) = plt.subplots(1, 2, figsize = (12,7))\n",
    "\n",
    "\n",
    "labels = ['no overlap','partial overlap','total overlap']\n",
    "palette = [palette_hiroshige[i] for i in [5,7,9]]\n",
    "\n",
    "sizes = []\n",
    "for label in labels:\n",
    "    sizes.append(outEDA[label][1])    \n",
    "\n",
    "my_pie, texts, pct_txts = ax1.pie(\n",
    "    sizes, labels=labels,\n",
    "#     explode=[0.1]*len(sizes),\n",
    "    autopct='%1.1f%%',\n",
    "#     shadow=True, \n",
    "    startangle=90,\n",
    "    colors = palette,\n",
    "    labeldistance=None,\n",
    "    counterclock=False,\n",
    ")\n",
    "\n",
    "# Moves the 0.1 out of the chart\n",
    "# https://stackoverflow.com/questions/60228476/conditionally-moving-the-position-of-a-single-data-label-in-a-pie-chart?noredirect=1&lq=1\n",
    "for patch, txt in zip(my_pie, pct_txts):\n",
    "    if (patch.theta2 - patch.theta1) <= 5:\n",
    "        # the angle at which the text is normally located\n",
    "        angle = (patch.theta2 + patch.theta1) / 2.\n",
    "        # new distance to the pie center\n",
    "        x = patch.r * 1.1 * np.cos(angle * np.pi / 180)\n",
    "        y = patch.r * 1.1 * np.sin(angle * np.pi / 180)\n",
    "        # move text to new position\n",
    "        txt.set_position((x, y))\n",
    "        txt.set_color('black')\n",
    "    elif (patch.theta2 - patch.theta1) <=20:\n",
    "        # the angle at which the text is normally located\n",
    "        angle = (patch.theta2 + patch.theta1) / 2.\n",
    "        # new distance to the pie center\n",
    "        x = patch.r * .8 * np.cos(angle * np.pi / 180)\n",
    "        y = patch.r * .8 * np.sin(angle * np.pi / 180)\n",
    "        # move text to new position\n",
    "        txt.set_position((x, y))\n",
    "        txt.set_color('black')\n",
    "    elif (patch.theta2 - patch.theta1) >=180:\n",
    "        # the angle at which the text is normally located\n",
    "        angle = (patch.theta2 + patch.theta1) / 2.\n",
    "        # new distance to the pie center\n",
    "        x = patch.r * .4 * np.cos(angle * np.pi / 180)\n",
    "        y = patch.r * .4 * np.sin(angle * np.pi / 180)\n",
    "        # move text to new position\n",
    "        txt.set_position((x, y))\n",
    "pct_txts[-1].set_color('white')\n",
    "pct_txts[-2].set_color('white')\n",
    "\n",
    "ax1.set(title=\"Naïve train/test split\")\n",
    "\n",
    "sizes = []\n",
    "for label in labels:\n",
    "    sizes.append(outEDA0[label][1])  \n",
    "\n",
    "my_pie, texts, pct_txts = ax2.pie(\n",
    "    sizes, labels=labels,\n",
    "#     explode=[0.05]*len(sizes),\n",
    "    autopct='%1.1f%%',\n",
    "#     shadow=True, \n",
    "    startangle=90,\n",
    "    colors = palette,\n",
    "    counterclock=False,\n",
    "    labeldistance=None,\n",
    ")\n",
    "ax2.set(title=\"Careful split done here\")\n",
    "for patch, txt in zip(my_pie, pct_txts):\n",
    "    if (patch.theta2 - patch.theta1) <= 5:\n",
    "        # the angle at which the text is normally located\n",
    "        angle = (patch.theta2 + patch.theta1) / 2.\n",
    "        # new distance to the pie center\n",
    "        x = patch.r * 1.1 * np.cos(angle * np.pi / 180)\n",
    "        y = patch.r * 1.1 * np.sin(angle * np.pi / 180)\n",
    "        # move text to new position\n",
    "        txt.set_position((x, y))\n",
    "        txt.set_color('black')\n",
    "    elif (patch.theta2 - patch.theta1) <=20:\n",
    "        # the angle at which the text is normally located\n",
    "        angle = (patch.theta2 + patch.theta1) / 2.\n",
    "        # new distance to the pie center\n",
    "        x = patch.r * .8 * np.cos(angle * np.pi / 180)\n",
    "        y = patch.r * .8 * np.sin(angle * np.pi / 180)\n",
    "        # move text to new position\n",
    "        txt.set_position((x, y))\n",
    "        txt.set_color('black')\n",
    "    elif (patch.theta2 - patch.theta1) >=180:\n",
    "        # the angle at which the text is normally located\n",
    "        angle = (patch.theta2 + patch.theta1) / 2.\n",
    "        # new distance to the pie center\n",
    "        x = patch.r * .4 * np.cos(angle * np.pi / 180)\n",
    "        y = patch.r * .4 * np.sin(angle * np.pi / 180)\n",
    "        # move text to new position\n",
    "        txt.set_position((x, y))\n",
    "pct_txts[-1].set_color('white')\n",
    "pct_txts[-2].set_color('white')\n",
    "\n",
    "fig.legend(labels=labels, loc='center', frameon=False);\n",
    "# plt.tight_layout()"
   ]
  },
  {
   "cell_type": "code",
   "execution_count": 47,
   "metadata": {
    "execution": {
     "iopub.execute_input": "2022-02-02T09:47:18.705774Z",
     "iopub.status.busy": "2022-02-02T09:47:18.705600Z",
     "iopub.status.idle": "2022-02-02T09:47:18.829389Z",
     "shell.execute_reply": "2022-02-02T09:47:18.828844Z",
     "shell.execute_reply.started": "2022-02-02T09:47:18.705746Z"
    }
   },
   "outputs": [
    {
     "data": {
      "image/png": "[encoded data removed]",
      "text/plain": [
       "<Figure size 252x252 with 1 Axes>"
      ]
     },
     "metadata": {},
     "output_type": "display_data"
    }
   ],
   "source": [
    "exportIt = True\n",
    "\n",
    "fig, ax = plt.subplots(figsize=(3.5,3.5))\n",
    "\n",
    "size=.25\n",
    "\n",
    "labels = ['no overlap','partial overlap','total overlap']\n",
    "palette = [palette_hiroshige[i] for i in [5,7,9]]\n",
    "\n",
    "\n",
    "sizes = []\n",
    "for label in labels:\n",
    "    sizes.append(outEDA[label][1])  \n",
    "\n",
    "my_pie, texts, pct_txts = ax.pie(\n",
    "    sizes, radius=1,\n",
    "    labels=labels,\n",
    "    autopct='%1.1f%%',\n",
    "    colors = palette,\n",
    "    labeldistance=None,\n",
    "    pctdistance=.88,\n",
    "    textprops={'fontsize': 8},\n",
    "    startangle=90,\n",
    "    frame=True,\n",
    "    counterclock=False,\n",
    "    wedgeprops=dict(width=size, edgecolor='w')\n",
    ")\n",
    "\n",
    "# Moves the 0.1 out of the chart\n",
    "# https://stackoverflow.com/questions/60228476/conditionally-moving-the-position-of-a-single-data-label-in-a-pie-chart?noredirect=1&lq=1\n",
    "for patch, txt in zip(my_pie, pct_txts):\n",
    "    if (patch.theta2 - patch.theta1) <= 5:\n",
    "        # the angle at which the text is normally located\n",
    "        angle = (patch.theta2 + patch.theta1) / 2.\n",
    "        # new distance to the pie center\n",
    "        x = patch.r * 1.1 * np.cos(angle * np.pi / 180)\n",
    "        y = patch.r * 1.1 * np.sin(angle * np.pi / 180)\n",
    "        # move text to new position\n",
    "        txt.set_position((x, y))\n",
    "        txt.set_color('black')\n",
    "        \n",
    "pct_txts[-1].set_color('white')\n",
    "pct_txts[-2].set_color('white')\n",
    "\n",
    "sizes = []\n",
    "for label in labels:\n",
    "    sizes.append(outEDA0[label][1])       \n",
    "\n",
    "my_pie, texts, pct_txts = ax.pie(\n",
    "    sizes, radius=1-size,\n",
    "    labels=labels,\n",
    "    autopct='%1.1f%%',\n",
    "    textprops={'fontsize': 8},\n",
    "    colors = palette,\n",
    "    labeldistance=None,\n",
    "    pctdistance=.82,\n",
    "    startangle=90,\n",
    "    counterclock=False,\n",
    "    wedgeprops=dict(width=size, edgecolor='w')\n",
    ")\n",
    "pct_txts[-1].set_color('white')\n",
    "pct_txts[-2].set_color('white')\n",
    "\n",
    "fig.subplots_adjust(top=1, bottom=0, right=1, left=0, hspace=0, wspace=0)\n",
    "ax.margins(0,0)\n",
    "\n",
    "ax.set(aspect=\"equal\")\n",
    "plt.legend(labels, loc='center', frameon=False, \n",
    "           fontsize=8.5\n",
    "          )\n",
    "plt.tight_layout()\n",
    "plt.show()\n",
    "\n",
    "if exportIt:\n",
    "    export_figure(fig, 'pie_overlap_by_strategy_2')"
   ]
  },
  {
   "cell_type": "markdown",
   "metadata": {},
   "source": [
    "# Sample NIPs"
   ]
  },
  {
   "cell_type": "code",
   "execution_count": 48,
   "metadata": {
    "execution": {
     "iopub.execute_input": "2022-02-02T09:47:18.830284Z",
     "iopub.status.busy": "2022-02-02T09:47:18.830120Z",
     "iopub.status.idle": "2022-02-02T09:47:18.843581Z",
     "shell.execute_reply": "2022-02-02T09:47:18.843115Z",
     "shell.execute_reply.started": "2022-02-02T09:47:18.830251Z"
    }
   },
   "outputs": [
    {
     "name": "stdout",
     "output_type": "stream",
     "text": [
      "DataFrame: 78,229 rows \t 4 columns\n"
     ]
    },
    {
     "data": {
      "text/html": [
       "<div>\n",
       "<style scoped>\n",
       "    .dataframe tbody tr th:only-of-type {\n",
       "        vertical-align: middle;\n",
       "    }\n",
       "\n",
       "    .dataframe tbody tr th {\n",
       "        vertical-align: top;\n",
       "    }\n",
       "\n",
       "    .dataframe thead th {\n",
       "        text-align: right;\n",
       "    }\n",
       "</style>\n",
       "<table border=\"1\" class=\"dataframe\">\n",
       "  <thead>\n",
       "    <tr style=\"text-align: right;\">\n",
       "      <th></th>\n",
       "      <th>uniprotID_A</th>\n",
       "      <th>uniprotID_B</th>\n",
       "      <th>isInteraction</th>\n",
       "      <th>trainTest</th>\n",
       "    </tr>\n",
       "  </thead>\n",
       "  <tbody>\n",
       "    <tr>\n",
       "      <th>0</th>\n",
       "      <td>P28223</td>\n",
       "      <td>P41595</td>\n",
       "      <td>1</td>\n",
       "      <td>test2</td>\n",
       "    </tr>\n",
       "    <tr>\n",
       "      <th>1</th>\n",
       "      <td>O00161</td>\n",
       "      <td>P56962</td>\n",
       "      <td>1</td>\n",
       "      <td>train</td>\n",
       "    </tr>\n",
       "    <tr>\n",
       "      <th>2</th>\n",
       "      <td>P82979</td>\n",
       "      <td>Q01081</td>\n",
       "      <td>1</td>\n",
       "      <td>train</td>\n",
       "    </tr>\n",
       "    <tr>\n",
       "      <th>3</th>\n",
       "      <td>O60678</td>\n",
       "      <td>Q14524</td>\n",
       "      <td>1</td>\n",
       "      <td>train</td>\n",
       "    </tr>\n",
       "    <tr>\n",
       "      <th>4</th>\n",
       "      <td>P10275</td>\n",
       "      <td>Q15648</td>\n",
       "      <td>1</td>\n",
       "      <td>train</td>\n",
       "    </tr>\n",
       "  </tbody>\n",
       "</table>\n",
       "</div>"
      ],
      "text/plain": [
       "  uniprotID_A uniprotID_B  isInteraction trainTest\n",
       "0      P28223      P41595              1     test2\n",
       "1      O00161      P56962              1     train\n",
       "2      P82979      Q01081              1     train\n",
       "3      O60678      Q14524              1     train\n",
       "4      P10275      Q15648              1     train"
      ]
     },
     "metadata": {},
     "output_type": "display_data"
    }
   ],
   "source": [
    "PPI_final = PPI3.copy()\n",
    "glance(PPI_final)"
   ]
  },
  {
   "cell_type": "markdown",
   "metadata": {},
   "source": [
    "## `train`\n",
    "\n",
    "- Weighted sampling \n",
    "- 50% positive"
   ]
  },
  {
   "cell_type": "code",
   "execution_count": 49,
   "metadata": {
    "execution": {
     "iopub.execute_input": "2022-02-02T09:47:18.844476Z",
     "iopub.status.busy": "2022-02-02T09:47:18.844312Z",
     "iopub.status.idle": "2022-02-02T09:47:19.349848Z",
     "shell.execute_reply": "2022-02-02T09:47:19.349272Z",
     "shell.execute_reply.started": "2022-02-02T09:47:18.844450Z"
    }
   },
   "outputs": [
    {
     "name": "stdout",
     "output_type": "stream",
     "text": [
      "Removed 42 self-interactions\n",
      "Removed 1,552 duplicates\n",
      "Removed 2,112 known false negatives\n",
      "Final number of interactions: 53,331\n"
     ]
    }
   ],
   "source": [
    "PPI_train = PPI_final.loc[PPI_final.trainTest == 'train']\n",
    "allIDs_PPI_train = pd.concat([PPI_train.uniprotID_A,PPI_train.uniprotID_B])\n",
    "\n",
    "NIPs_train = sampleNIPs(\n",
    "    IDs2sample=allIDs_PPI_train.to_list(), \n",
    "    seed=seed_GS+30, \n",
    "    targetSampleSize=len(PPI_train), \n",
    "    referenceIntAct=intact_all\n",
    ")\n",
    "\n",
    "NIPs_train['isInteraction'] = 0\n",
    "NIPs_train['trainTest'] = 'train'"
   ]
  },
  {
   "cell_type": "code",
   "execution_count": 50,
   "metadata": {
    "execution": {
     "iopub.execute_input": "2022-02-02T09:47:19.350697Z",
     "iopub.status.busy": "2022-02-02T09:47:19.350547Z",
     "iopub.status.idle": "2022-02-02T09:47:19.357876Z",
     "shell.execute_reply": "2022-02-02T09:47:19.357444Z",
     "shell.execute_reply.started": "2022-02-02T09:47:19.350674Z"
    }
   },
   "outputs": [
    {
     "name": "stdout",
     "output_type": "stream",
     "text": [
      "DataFrame: 53,331 rows \t 4 columns\n"
     ]
    },
    {
     "data": {
      "text/html": [
       "<div>\n",
       "<style scoped>\n",
       "    .dataframe tbody tr th:only-of-type {\n",
       "        vertical-align: middle;\n",
       "    }\n",
       "\n",
       "    .dataframe tbody tr th {\n",
       "        vertical-align: top;\n",
       "    }\n",
       "\n",
       "    .dataframe thead th {\n",
       "        text-align: right;\n",
       "    }\n",
       "</style>\n",
       "<table border=\"1\" class=\"dataframe\">\n",
       "  <thead>\n",
       "    <tr style=\"text-align: right;\">\n",
       "      <th></th>\n",
       "      <th>uniprotID_A</th>\n",
       "      <th>uniprotID_B</th>\n",
       "      <th>isInteraction</th>\n",
       "      <th>trainTest</th>\n",
       "    </tr>\n",
       "  </thead>\n",
       "  <tbody>\n",
       "    <tr>\n",
       "      <th>0</th>\n",
       "      <td>Q9BYR3</td>\n",
       "      <td>Q9NZD4</td>\n",
       "      <td>0</td>\n",
       "      <td>train</td>\n",
       "    </tr>\n",
       "    <tr>\n",
       "      <th>1</th>\n",
       "      <td>Q6RW13</td>\n",
       "      <td>Q96I25</td>\n",
       "      <td>0</td>\n",
       "      <td>train</td>\n",
       "    </tr>\n",
       "    <tr>\n",
       "      <th>2</th>\n",
       "      <td>Q05D32</td>\n",
       "      <td>Q9H7B2</td>\n",
       "      <td>0</td>\n",
       "      <td>train</td>\n",
       "    </tr>\n",
       "    <tr>\n",
       "      <th>3</th>\n",
       "      <td>P49761</td>\n",
       "      <td>Q96NE9</td>\n",
       "      <td>0</td>\n",
       "      <td>train</td>\n",
       "    </tr>\n",
       "    <tr>\n",
       "      <th>4</th>\n",
       "      <td>P78344</td>\n",
       "      <td>Q9HBQ8</td>\n",
       "      <td>0</td>\n",
       "      <td>train</td>\n",
       "    </tr>\n",
       "  </tbody>\n",
       "</table>\n",
       "</div>"
      ],
      "text/plain": [
       "  uniprotID_A uniprotID_B  isInteraction trainTest\n",
       "0      Q9BYR3      Q9NZD4              0     train\n",
       "1      Q6RW13      Q96I25              0     train\n",
       "2      Q05D32      Q9H7B2              0     train\n",
       "3      P49761      Q96NE9              0     train\n",
       "4      P78344      Q9HBQ8              0     train"
      ]
     },
     "metadata": {},
     "output_type": "display_data"
    }
   ],
   "source": [
    "glance(NIPs_train)"
   ]
  },
  {
   "cell_type": "markdown",
   "metadata": {},
   "source": [
    "## `test1`\n",
    "\n",
    "- uniform sampling \n",
    "- 50% positive (which is harder than it seems to keep 50% positive in each category!)"
   ]
  },
  {
   "cell_type": "code",
   "execution_count": 51,
   "metadata": {
    "execution": {
     "iopub.execute_input": "2022-02-02T09:47:19.358654Z",
     "iopub.status.busy": "2022-02-02T09:47:19.358516Z",
     "iopub.status.idle": "2022-02-02T09:47:19.396326Z",
     "shell.execute_reply": "2022-02-02T09:47:19.395832Z",
     "shell.execute_reply.started": "2022-02-02T09:47:19.358631Z"
    }
   },
   "outputs": [
    {
     "name": "stdout",
     "output_type": "stream",
     "text": [
      "DataFrame: 12,449 rows \t 4 columns\n"
     ]
    },
    {
     "data": {
      "text/html": [
       "<div>\n",
       "<style scoped>\n",
       "    .dataframe tbody tr th:only-of-type {\n",
       "        vertical-align: middle;\n",
       "    }\n",
       "\n",
       "    .dataframe tbody tr th {\n",
       "        vertical-align: top;\n",
       "    }\n",
       "\n",
       "    .dataframe thead th {\n",
       "        text-align: right;\n",
       "    }\n",
       "</style>\n",
       "<table border=\"1\" class=\"dataframe\">\n",
       "  <thead>\n",
       "    <tr style=\"text-align: right;\">\n",
       "      <th></th>\n",
       "      <th>uniprotID_A</th>\n",
       "      <th>uniprotID_B</th>\n",
       "      <th>isInteraction</th>\n",
       "      <th>trainTest</th>\n",
       "    </tr>\n",
       "  </thead>\n",
       "  <tbody>\n",
       "    <tr>\n",
       "      <th>7</th>\n",
       "      <td>O95573</td>\n",
       "      <td>P56962</td>\n",
       "      <td>1</td>\n",
       "      <td>test1</td>\n",
       "    </tr>\n",
       "    <tr>\n",
       "      <th>8</th>\n",
       "      <td>P08588</td>\n",
       "      <td>P21917</td>\n",
       "      <td>1</td>\n",
       "      <td>test1</td>\n",
       "    </tr>\n",
       "    <tr>\n",
       "      <th>10</th>\n",
       "      <td>P21917</td>\n",
       "      <td>P35368</td>\n",
       "      <td>1</td>\n",
       "      <td>test1</td>\n",
       "    </tr>\n",
       "    <tr>\n",
       "      <th>16</th>\n",
       "      <td>P29474</td>\n",
       "      <td>P35222</td>\n",
       "      <td>1</td>\n",
       "      <td>test1</td>\n",
       "    </tr>\n",
       "    <tr>\n",
       "      <th>28</th>\n",
       "      <td>P07602</td>\n",
       "      <td>P31944</td>\n",
       "      <td>1</td>\n",
       "      <td>test1</td>\n",
       "    </tr>\n",
       "  </tbody>\n",
       "</table>\n",
       "</div>"
      ],
      "text/plain": [
       "   uniprotID_A uniprotID_B  isInteraction trainTest\n",
       "7       O95573      P56962              1     test1\n",
       "8       P08588      P21917              1     test1\n",
       "10      P21917      P35368              1     test1\n",
       "16      P29474      P35222              1     test1\n",
       "28      P07602      P31944              1     test1"
      ]
     },
     "metadata": {},
     "output_type": "display_data"
    },
    {
     "name": "stdout",
     "output_type": "stream",
     "text": [
      "list: len 1562\n",
      "['P78371', 'Q7Z7F0', 'O15156', 'Q13287', 'Q9HD42']\n"
     ]
    }
   ],
   "source": [
    "PPI_test1 = PPI_final.loc[PPI_final.trainTest == 'test1']\n",
    "\n",
    "glance(PPI_test1)\n",
    "glance(test_proteins)"
   ]
  },
  {
   "cell_type": "code",
   "execution_count": 52,
   "metadata": {
    "execution": {
     "iopub.execute_input": "2022-02-02T09:47:19.397176Z",
     "iopub.status.busy": "2022-02-02T09:47:19.397036Z",
     "iopub.status.idle": "2022-02-02T09:47:19.428086Z",
     "shell.execute_reply": "2022-02-02T09:47:19.427598Z",
     "shell.execute_reply.started": "2022-02-02T09:47:19.397154Z"
    }
   },
   "outputs": [
    {
     "data": {
      "text/plain": [
       "1    8745\n",
       "2    2847\n",
       "0     857\n",
       "dtype: int64"
      ]
     },
     "execution_count": 52,
     "metadata": {},
     "output_type": "execute_result"
    }
   ],
   "source": [
    "_, _, isInTrain = find_overlapStatus(\n",
    "    df = PPI_test1, \n",
    "    trainSet = PPI_train\n",
    ")\n",
    "\n",
    "isInTrain.value_counts()"
   ]
  },
  {
   "cell_type": "code",
   "execution_count": 53,
   "metadata": {
    "execution": {
     "iopub.execute_input": "2022-02-02T09:47:19.429026Z",
     "iopub.status.busy": "2022-02-02T09:47:19.428887Z",
     "iopub.status.idle": "2022-02-02T09:47:19.805168Z",
     "shell.execute_reply": "2022-02-02T09:47:19.804612Z",
     "shell.execute_reply.started": "2022-02-02T09:47:19.429003Z"
    }
   },
   "outputs": [
    {
     "name": "stdout",
     "output_type": "stream",
     "text": [
      "Removed 0 self-interactions\n",
      "Removed 0 duplicates\n",
      "Removed 3 known false negatives\n",
      "Removed 0 based on other ref dataset\n",
      "Final number of interactions: 857\n",
      "\n",
      "Removed 0 self-interactions\n",
      "Removed 0 duplicates\n",
      "Removed 8 known false negatives\n",
      "Removed 7 based on other ref dataset\n",
      "Final number of interactions: 2,847\n",
      "\n",
      "Removed 0 self-interactions\n",
      "Removed 6 duplicates\n",
      "Removed 16 known false negatives\n",
      "Removed 0 based on other ref dataset\n",
      "Final number of interactions: 8,745\n"
     ]
    }
   ],
   "source": [
    "NIPs_temp = NIPs_train.copy()\n",
    "\n",
    "# No overlap\n",
    "NIPs_test1_no = sampleNIPs(\n",
    "    IDs2sample=test_proteins, \n",
    "    seed=seed_GS+50, \n",
    "    targetSampleSize=isInTrain.value_counts()[0], \n",
    "    referenceIntAct=intact_all,\n",
    "    otherRefDf=NIPs_temp[['uniprotID_A','uniprotID_B']]\n",
    ")\n",
    "NIPs_test1_no['isInteraction'] = 0\n",
    "NIPs_test1_no['trainTest'] = 'test1'\n",
    "NIPs_temp = NIPs_temp.append(NIPs_test1_no)\n",
    "NIPs_test1 = NIPs_test1_no\n",
    "print()\n",
    "\n",
    "# Complete overlap\n",
    "NIPs_test1_co = sampleNIPs(\n",
    "    IDs2sample=sorted(list(set(allIDs_PPI_train))), \n",
    "    seed=seed_GS+60, \n",
    "    targetSampleSize=isInTrain.value_counts()[2], \n",
    "    referenceIntAct=intact_all,\n",
    "    otherRefDf=NIPs_temp[['uniprotID_A','uniprotID_B']]\n",
    ")\n",
    "NIPs_test1_co['isInteraction'] = 0\n",
    "NIPs_test1_co['trainTest'] = 'test1'\n",
    "NIPs_temp = NIPs_temp.append(NIPs_test1_co)\n",
    "NIPs_test1 = NIPs_test1.append(NIPs_test1_co)\n",
    "print()\n",
    "\n",
    "# Partial overlap\n",
    "NIPs_test1_po = sampleNIPs(\n",
    "    IDs2sample=(\n",
    "        test_proteins,\n",
    "        sorted(list(set(allIDs_PPI_train)))\n",
    "    ), \n",
    "    seed=seed_GS+70, \n",
    "    targetSampleSize=isInTrain.value_counts()[1], \n",
    "    referenceIntAct=intact_all,\n",
    "    otherRefDf=NIPs_temp[['uniprotID_A','uniprotID_B']]\n",
    ")\n",
    "NIPs_test1_po['isInteraction'] = 0\n",
    "NIPs_test1_po['trainTest'] = 'test1'\n",
    "NIPs_temp = NIPs_temp.append(NIPs_test1_po)\n",
    "NIPs_test1 = NIPs_test1.append(NIPs_test1_po)"
   ]
  },
  {
   "cell_type": "code",
   "execution_count": 54,
   "metadata": {
    "execution": {
     "iopub.execute_input": "2022-02-02T09:47:19.806049Z",
     "iopub.status.busy": "2022-02-02T09:47:19.805904Z",
     "iopub.status.idle": "2022-02-02T09:47:19.813142Z",
     "shell.execute_reply": "2022-02-02T09:47:19.812711Z",
     "shell.execute_reply.started": "2022-02-02T09:47:19.806026Z"
    }
   },
   "outputs": [
    {
     "name": "stdout",
     "output_type": "stream",
     "text": [
      "DataFrame: 12,449 rows \t 4 columns\n"
     ]
    },
    {
     "data": {
      "text/html": [
       "<div>\n",
       "<style scoped>\n",
       "    .dataframe tbody tr th:only-of-type {\n",
       "        vertical-align: middle;\n",
       "    }\n",
       "\n",
       "    .dataframe tbody tr th {\n",
       "        vertical-align: top;\n",
       "    }\n",
       "\n",
       "    .dataframe thead th {\n",
       "        text-align: right;\n",
       "    }\n",
       "</style>\n",
       "<table border=\"1\" class=\"dataframe\">\n",
       "  <thead>\n",
       "    <tr style=\"text-align: right;\">\n",
       "      <th></th>\n",
       "      <th>uniprotID_A</th>\n",
       "      <th>uniprotID_B</th>\n",
       "      <th>isInteraction</th>\n",
       "      <th>trainTest</th>\n",
       "    </tr>\n",
       "  </thead>\n",
       "  <tbody>\n",
       "    <tr>\n",
       "      <th>0</th>\n",
       "      <td>O43166</td>\n",
       "      <td>P52926</td>\n",
       "      <td>0</td>\n",
       "      <td>test1</td>\n",
       "    </tr>\n",
       "    <tr>\n",
       "      <th>1</th>\n",
       "      <td>P62873</td>\n",
       "      <td>Q0VF96</td>\n",
       "      <td>0</td>\n",
       "      <td>test1</td>\n",
       "    </tr>\n",
       "    <tr>\n",
       "      <th>2</th>\n",
       "      <td>Q3LI76</td>\n",
       "      <td>Q8N393</td>\n",
       "      <td>0</td>\n",
       "      <td>test1</td>\n",
       "    </tr>\n",
       "    <tr>\n",
       "      <th>3</th>\n",
       "      <td>Q6NW29</td>\n",
       "      <td>Q9H871</td>\n",
       "      <td>0</td>\n",
       "      <td>test1</td>\n",
       "    </tr>\n",
       "    <tr>\n",
       "      <th>4</th>\n",
       "      <td>P22607</td>\n",
       "      <td>P43681</td>\n",
       "      <td>0</td>\n",
       "      <td>test1</td>\n",
       "    </tr>\n",
       "  </tbody>\n",
       "</table>\n",
       "</div>"
      ],
      "text/plain": [
       "  uniprotID_A uniprotID_B  isInteraction trainTest\n",
       "0      O43166      P52926              0     test1\n",
       "1      P62873      Q0VF96              0     test1\n",
       "2      Q3LI76      Q8N393              0     test1\n",
       "3      Q6NW29      Q9H871              0     test1\n",
       "4      P22607      P43681              0     test1"
      ]
     },
     "metadata": {},
     "output_type": "display_data"
    }
   ],
   "source": [
    "glance(NIPs_test1)"
   ]
  },
  {
   "cell_type": "code",
   "execution_count": 55,
   "metadata": {
    "execution": {
     "iopub.execute_input": "2022-02-02T09:47:19.813884Z",
     "iopub.status.busy": "2022-02-02T09:47:19.813748Z",
     "iopub.status.idle": "2022-02-02T09:47:19.856217Z",
     "shell.execute_reply": "2022-02-02T09:47:19.855597Z",
     "shell.execute_reply.started": "2022-02-02T09:47:19.813861Z"
    }
   },
   "outputs": [],
   "source": [
    "## Sanity checks\n",
    "\n",
    "assert len(NIPs_test1.loc[NIPs_test1.duplicated(subset=['uniprotID_A','uniprotID_B'], keep=False)]) == 0"
   ]
  },
  {
   "cell_type": "markdown",
   "metadata": {},
   "source": [
    "## `test2`\n",
    "- uniform sampling\n",
    "- 10 times more negative examples"
   ]
  },
  {
   "cell_type": "code",
   "execution_count": 56,
   "metadata": {
    "execution": {
     "iopub.execute_input": "2022-02-02T09:47:19.857319Z",
     "iopub.status.busy": "2022-02-02T09:47:19.857111Z",
     "iopub.status.idle": "2022-02-02T09:47:19.892543Z",
     "shell.execute_reply": "2022-02-02T09:47:19.892046Z",
     "shell.execute_reply.started": "2022-02-02T09:47:19.857286Z"
    }
   },
   "outputs": [
    {
     "name": "stdout",
     "output_type": "stream",
     "text": [
      "DataFrame: 12,449 rows \t 4 columns\n"
     ]
    },
    {
     "data": {
      "text/html": [
       "<div>\n",
       "<style scoped>\n",
       "    .dataframe tbody tr th:only-of-type {\n",
       "        vertical-align: middle;\n",
       "    }\n",
       "\n",
       "    .dataframe tbody tr th {\n",
       "        vertical-align: top;\n",
       "    }\n",
       "\n",
       "    .dataframe thead th {\n",
       "        text-align: right;\n",
       "    }\n",
       "</style>\n",
       "<table border=\"1\" class=\"dataframe\">\n",
       "  <thead>\n",
       "    <tr style=\"text-align: right;\">\n",
       "      <th></th>\n",
       "      <th>uniprotID_A</th>\n",
       "      <th>uniprotID_B</th>\n",
       "      <th>isInteraction</th>\n",
       "      <th>trainTest</th>\n",
       "    </tr>\n",
       "  </thead>\n",
       "  <tbody>\n",
       "    <tr>\n",
       "      <th>0</th>\n",
       "      <td>P28223</td>\n",
       "      <td>P41595</td>\n",
       "      <td>1</td>\n",
       "      <td>test2</td>\n",
       "    </tr>\n",
       "    <tr>\n",
       "      <th>19</th>\n",
       "      <td>Q99608</td>\n",
       "      <td>Q9BPZ3</td>\n",
       "      <td>1</td>\n",
       "      <td>test2</td>\n",
       "    </tr>\n",
       "    <tr>\n",
       "      <th>22</th>\n",
       "      <td>O75914</td>\n",
       "      <td>P63000</td>\n",
       "      <td>1</td>\n",
       "      <td>test2</td>\n",
       "    </tr>\n",
       "    <tr>\n",
       "      <th>33</th>\n",
       "      <td>Q8TDN4</td>\n",
       "      <td>Q9H3D4</td>\n",
       "      <td>1</td>\n",
       "      <td>test2</td>\n",
       "    </tr>\n",
       "    <tr>\n",
       "      <th>37</th>\n",
       "      <td>P60484</td>\n",
       "      <td>Q16643</td>\n",
       "      <td>1</td>\n",
       "      <td>test2</td>\n",
       "    </tr>\n",
       "  </tbody>\n",
       "</table>\n",
       "</div>"
      ],
      "text/plain": [
       "   uniprotID_A uniprotID_B  isInteraction trainTest\n",
       "0       P28223      P41595              1     test2\n",
       "19      Q99608      Q9BPZ3              1     test2\n",
       "22      O75914      P63000              1     test2\n",
       "33      Q8TDN4      Q9H3D4              1     test2\n",
       "37      P60484      Q16643              1     test2"
      ]
     },
     "metadata": {},
     "output_type": "display_data"
    }
   ],
   "source": [
    "PPI_test2 = PPI_final.loc[PPI_final.trainTest == 'test2']\n",
    "glance(PPI_test2)"
   ]
  },
  {
   "cell_type": "code",
   "execution_count": 57,
   "metadata": {
    "execution": {
     "iopub.execute_input": "2022-02-02T09:47:19.893466Z",
     "iopub.status.busy": "2022-02-02T09:47:19.893301Z",
     "iopub.status.idle": "2022-02-02T09:47:20.975282Z",
     "shell.execute_reply": "2022-02-02T09:47:20.974712Z",
     "shell.execute_reply.started": "2022-02-02T09:47:19.893438Z"
    }
   },
   "outputs": [
    {
     "name": "stdout",
     "output_type": "stream",
     "text": [
      "Removed 0 self-interactions\n",
      "Removed 251 duplicates\n",
      "Removed 304 known false negatives\n",
      "Removed 166 based on other ref dataset\n",
      "Final number of interactions: 124,490\n"
     ]
    }
   ],
   "source": [
    "NIPs_temp = NIPs_train.append(NIPs_test1).copy()\n",
    "\n",
    "NIPs_test2 = sampleNIPs(\n",
    "    IDs2sample=proteinList, \n",
    "    seed=seed_GS+80, \n",
    "    targetSampleSize=len(PPI_test2)*10, \n",
    "    referenceIntAct=intact_all,\n",
    "    otherRefDf=NIPs_temp[['uniprotID_A','uniprotID_B']]\n",
    ")\n",
    "\n",
    "NIPs_test2['isInteraction'] = 0\n",
    "NIPs_test2['trainTest'] = 'test2'"
   ]
  },
  {
   "cell_type": "code",
   "execution_count": 58,
   "metadata": {
    "execution": {
     "iopub.execute_input": "2022-02-02T09:47:20.976106Z",
     "iopub.status.busy": "2022-02-02T09:47:20.975963Z",
     "iopub.status.idle": "2022-02-02T09:47:21.005012Z",
     "shell.execute_reply": "2022-02-02T09:47:21.004449Z",
     "shell.execute_reply.started": "2022-02-02T09:47:20.976083Z"
    }
   },
   "outputs": [],
   "source": [
    "## Sanity checks\n",
    "\n",
    "assert len(NIPs_test2.loc[NIPs_test2.duplicated(subset=['uniprotID_A','uniprotID_B'], keep=False)]) == 0"
   ]
  },
  {
   "cell_type": "markdown",
   "metadata": {},
   "source": [
    "# Aggregate GS"
   ]
  },
  {
   "cell_type": "code",
   "execution_count": 59,
   "metadata": {
    "execution": {
     "iopub.execute_input": "2022-02-02T09:47:21.005906Z",
     "iopub.status.busy": "2022-02-02T09:47:21.005757Z",
     "iopub.status.idle": "2022-02-02T09:47:21.040707Z",
     "shell.execute_reply": "2022-02-02T09:47:21.040135Z",
     "shell.execute_reply.started": "2022-02-02T09:47:21.005883Z"
    }
   },
   "outputs": [
    {
     "name": "stdout",
     "output_type": "stream",
     "text": [
      "DataFrame: 268,499 rows \t 4 columns\n"
     ]
    },
    {
     "data": {
      "text/html": [
       "<div>\n",
       "<style scoped>\n",
       "    .dataframe tbody tr th:only-of-type {\n",
       "        vertical-align: middle;\n",
       "    }\n",
       "\n",
       "    .dataframe tbody tr th {\n",
       "        vertical-align: top;\n",
       "    }\n",
       "\n",
       "    .dataframe thead th {\n",
       "        text-align: right;\n",
       "    }\n",
       "</style>\n",
       "<table border=\"1\" class=\"dataframe\">\n",
       "  <thead>\n",
       "    <tr style=\"text-align: right;\">\n",
       "      <th></th>\n",
       "      <th>uniprotID_A</th>\n",
       "      <th>uniprotID_B</th>\n",
       "      <th>isInteraction</th>\n",
       "      <th>trainTest</th>\n",
       "    </tr>\n",
       "  </thead>\n",
       "  <tbody>\n",
       "    <tr>\n",
       "      <th>0</th>\n",
       "      <td>P28223</td>\n",
       "      <td>P41595</td>\n",
       "      <td>1</td>\n",
       "      <td>test2</td>\n",
       "    </tr>\n",
       "    <tr>\n",
       "      <th>1</th>\n",
       "      <td>O00161</td>\n",
       "      <td>P56962</td>\n",
       "      <td>1</td>\n",
       "      <td>train</td>\n",
       "    </tr>\n",
       "    <tr>\n",
       "      <th>2</th>\n",
       "      <td>P82979</td>\n",
       "      <td>Q01081</td>\n",
       "      <td>1</td>\n",
       "      <td>train</td>\n",
       "    </tr>\n",
       "    <tr>\n",
       "      <th>3</th>\n",
       "      <td>O60678</td>\n",
       "      <td>Q14524</td>\n",
       "      <td>1</td>\n",
       "      <td>train</td>\n",
       "    </tr>\n",
       "    <tr>\n",
       "      <th>4</th>\n",
       "      <td>P10275</td>\n",
       "      <td>Q15648</td>\n",
       "      <td>1</td>\n",
       "      <td>train</td>\n",
       "    </tr>\n",
       "  </tbody>\n",
       "</table>\n",
       "</div>"
      ],
      "text/plain": [
       "  uniprotID_A uniprotID_B  isInteraction trainTest\n",
       "0      P28223      P41595              1     test2\n",
       "1      O00161      P56962              1     train\n",
       "2      P82979      Q01081              1     train\n",
       "3      O60678      Q14524              1     train\n",
       "4      P10275      Q15648              1     train"
      ]
     },
     "metadata": {},
     "output_type": "display_data"
    }
   ],
   "source": [
    "# GS = PPI_final.append(NIPs_train).append(NIPs_test1)\n",
    "GS = PPI_final.append(NIPs_train).append(NIPs_test1).append(NIPs_test2)\n",
    "\n",
    "glance(GS)"
   ]
  },
  {
   "cell_type": "code",
   "execution_count": 60,
   "metadata": {
    "execution": {
     "iopub.execute_input": "2022-02-02T09:47:21.041686Z",
     "iopub.status.busy": "2022-02-02T09:47:21.041537Z",
     "iopub.status.idle": "2022-02-02T09:47:21.047894Z",
     "shell.execute_reply": "2022-02-02T09:47:21.047455Z",
     "shell.execute_reply.started": "2022-02-02T09:47:21.041663Z"
    }
   },
   "outputs": [
    {
     "data": {
      "text/html": [
       "<div>\n",
       "<style scoped>\n",
       "    .dataframe tbody tr th:only-of-type {\n",
       "        vertical-align: middle;\n",
       "    }\n",
       "\n",
       "    .dataframe tbody tr th {\n",
       "        vertical-align: top;\n",
       "    }\n",
       "\n",
       "    .dataframe thead th {\n",
       "        text-align: right;\n",
       "    }\n",
       "</style>\n",
       "<table border=\"1\" class=\"dataframe\">\n",
       "  <thead>\n",
       "    <tr style=\"text-align: right;\">\n",
       "      <th></th>\n",
       "      <th>uniprotID_A</th>\n",
       "      <th>uniprotID_B</th>\n",
       "      <th>isInteraction</th>\n",
       "      <th>trainTest</th>\n",
       "    </tr>\n",
       "  </thead>\n",
       "  <tbody>\n",
       "    <tr>\n",
       "      <th>124587</th>\n",
       "      <td>O95678</td>\n",
       "      <td>Q8IYX3</td>\n",
       "      <td>0</td>\n",
       "      <td>test2</td>\n",
       "    </tr>\n",
       "    <tr>\n",
       "      <th>124588</th>\n",
       "      <td>O95835</td>\n",
       "      <td>Q8WUJ0</td>\n",
       "      <td>0</td>\n",
       "      <td>test2</td>\n",
       "    </tr>\n",
       "    <tr>\n",
       "      <th>124589</th>\n",
       "      <td>P60409</td>\n",
       "      <td>Q9NUB4</td>\n",
       "      <td>0</td>\n",
       "      <td>test2</td>\n",
       "    </tr>\n",
       "    <tr>\n",
       "      <th>124590</th>\n",
       "      <td>O43294</td>\n",
       "      <td>Q6ZRT6</td>\n",
       "      <td>0</td>\n",
       "      <td>test2</td>\n",
       "    </tr>\n",
       "    <tr>\n",
       "      <th>124591</th>\n",
       "      <td>P36405</td>\n",
       "      <td>P36639</td>\n",
       "      <td>0</td>\n",
       "      <td>test2</td>\n",
       "    </tr>\n",
       "  </tbody>\n",
       "</table>\n",
       "</div>"
      ],
      "text/plain": [
       "       uniprotID_A uniprotID_B  isInteraction trainTest\n",
       "124587      O95678      Q8IYX3              0     test2\n",
       "124588      O95835      Q8WUJ0              0     test2\n",
       "124589      P60409      Q9NUB4              0     test2\n",
       "124590      O43294      Q6ZRT6              0     test2\n",
       "124591      P36405      P36639              0     test2"
      ]
     },
     "execution_count": 60,
     "metadata": {},
     "output_type": "execute_result"
    }
   ],
   "source": [
    "GS.tail()"
   ]
  },
  {
   "cell_type": "code",
   "execution_count": 61,
   "metadata": {
    "execution": {
     "iopub.execute_input": "2022-02-02T09:47:21.048696Z",
     "iopub.status.busy": "2022-02-02T09:47:21.048557Z",
     "iopub.status.idle": "2022-02-02T09:47:21.118664Z",
     "shell.execute_reply": "2022-02-02T09:47:21.118044Z",
     "shell.execute_reply.started": "2022-02-02T09:47:21.048673Z"
    }
   },
   "outputs": [],
   "source": [
    "## Sanity checks\n",
    "\n",
    "assert len(GS.loc[GS.duplicated(subset=['uniprotID_A','uniprotID_B'], keep=False)]) == 0"
   ]
  },
  {
   "cell_type": "markdown",
   "metadata": {},
   "source": [
    "---\n",
    "**EDA**"
   ]
  },
  {
   "cell_type": "code",
   "execution_count": 62,
   "metadata": {
    "execution": {
     "iopub.execute_input": "2022-02-02T09:47:21.119809Z",
     "iopub.status.busy": "2022-02-02T09:47:21.119657Z",
     "iopub.status.idle": "2022-02-02T09:47:21.242445Z",
     "shell.execute_reply": "2022-02-02T09:47:21.241900Z",
     "shell.execute_reply.started": "2022-02-02T09:47:21.119786Z"
    }
   },
   "outputs": [
    {
     "name": "stdout",
     "output_type": "stream",
     "text": [
      "## Train\n",
      "\n",
      "106,662 interactions (50.00% positive)\n",
      "\n",
      "Hub status:\n",
      "- 59,947 hub-hub interactions (56.20% - 50.64% positive)\n",
      "- 40,280 hub-lone interactions (37.76% - 49.51% positive)\n",
      "- 6,435 lone-lone interactions (6.03% - 47.12% positive)\n",
      "\n",
      "### Positive only ###\n",
      "\n",
      "Hub status:\n",
      "- 30,355 hub-hub interactions (56.92% - 100.00% positive)\n",
      "- 19,944 hub-lone interactions (37.40% - 100.00% positive)\n",
      "- 3,032 lone-lone interactions (5.69% - 100.00% positive)\n",
      "\n",
      "### Negative only ###\n",
      "\n",
      "Hub status:\n",
      "- 29,592 hub-hub interactions (55.49% - 0.00% positive)\n",
      "- 20,336 hub-lone interactions (38.13% - 0.00% positive)\n",
      "- 3,403 lone-lone interactions (6.38% - 0.00% positive)\n",
      "\n"
     ]
    }
   ],
   "source": [
    "print('## Train\\n')\n",
    "EDA_predSet(\n",
    "    GS.loc[GS.trainTest == 'train'],\n",
    "    list_hubs=list_hubs20,\n",
    "    trainSet = GS.loc[GS.trainTest == 'train'],\n",
    "    Overlap=False\n",
    ")"
   ]
  },
  {
   "cell_type": "code",
   "execution_count": 63,
   "metadata": {
    "execution": {
     "iopub.execute_input": "2022-02-02T09:47:21.243407Z",
     "iopub.status.busy": "2022-02-02T09:47:21.243249Z",
     "iopub.status.idle": "2022-02-02T09:47:21.352114Z",
     "shell.execute_reply": "2022-02-02T09:47:21.351601Z",
     "shell.execute_reply.started": "2022-02-02T09:47:21.243382Z"
    },
    "scrolled": true
   },
   "outputs": [
    {
     "name": "stdout",
     "output_type": "stream",
     "text": [
      "## Test1\n",
      "\n",
      "24,898 interactions (50.00% positive)\n",
      "\n",
      "Hub status:\n",
      "- 7,920 hub-hub interactions (31.81% - 87.82% positive)\n",
      "- 9,687 hub-lone interactions (38.91% - 49.74% positive)\n",
      "- 7,291 lone-lone interactions (29.28% - 9.27% positive)\n",
      "\n",
      "Overlap with train:\n",
      "- 5,694 total overlap with train, both proteins already seen (22.87% - 50.00% positive)\n",
      "- 17,490 partial overal, only one protein seen (70.25% - 50.00% positive)\n",
      "- 1,714 no overlap (6.88% - 50.00% positive)\n",
      "\n",
      "### Positive only ###\n",
      "\n",
      "Hub status:\n",
      "- 6,955 hub-hub interactions (55.87% - 100.00% positive)\n",
      "- 4,818 hub-lone interactions (38.70% - 100.00% positive)\n",
      "- 676 lone-lone interactions (5.43% - 100.00% positive)\n",
      "\n",
      "Overlap with train:\n",
      "- 2,847 total overlap with train, both proteins already seen (22.87% - 100.00% positive)\n",
      "- 8,745 partial overal, only one protein seen (70.25% - 100.00% positive)\n",
      "- 857 no overlap (6.88% - 100.00% positive)\n",
      "\n",
      "### Negative only ###\n",
      "\n",
      "Hub status:\n",
      "- 965 hub-hub interactions (7.75% - 0.00% positive)\n",
      "- 4,869 hub-lone interactions (39.11% - 0.00% positive)\n",
      "- 6,615 lone-lone interactions (53.14% - 0.00% positive)\n",
      "\n",
      "Overlap with train:\n",
      "- 2,847 total overlap with train, both proteins already seen (22.87% - 0.00% positive)\n",
      "- 8,745 partial overal, only one protein seen (70.25% - 0.00% positive)\n",
      "- 857 no overlap (6.88% - 0.00% positive)\n",
      "\n",
      "### Hub-Hub only ###\n",
      "\n",
      "Overlap with train:\n",
      "- 1,890 total overlap with train, both proteins already seen (23.86% - 88.25% positive)\n",
      "- 5,577 partial overal, only one protein seen (70.42% - 87.91% positive)\n",
      "- 453 no overlap (5.72% - 84.77% positive)\n",
      "\n",
      "### Hub-Lone only ###\n",
      "\n",
      "Overlap with train:\n",
      "- 2,199 total overlap with train, both proteins already seen (22.70% - 47.75% positive)\n",
      "- 6,776 partial overal, only one protein seen (69.95% - 50.00% positive)\n",
      "- 712 no overlap (7.35% - 53.37% positive)\n",
      "\n",
      "### Lone-Lone only ###\n",
      "\n",
      "Overlap with train:\n",
      "- 1,605 total overlap with train, both proteins already seen (22.01% - 8.04% positive)\n",
      "- 5,137 partial overal, only one protein seen (70.46% - 8.84% positive)\n",
      "- 549 no overlap (7.53% - 16.94% positive)\n",
      "\n",
      "### Complete overlap only ###\n",
      "\n",
      "Hub status:\n",
      "- 1,890 hub-hub interactions (33.19% - 88.25% positive)\n",
      "- 2,199 hub-lone interactions (38.62% - 47.75% positive)\n",
      "- 1,605 lone-lone interactions (28.19% - 8.04% positive)\n",
      "\n",
      "### Partial overlap only ###\n",
      "\n",
      "Hub status:\n",
      "- 5,577 hub-hub interactions (31.89% - 87.91% positive)\n",
      "- 6,776 hub-lone interactions (38.74% - 50.00% positive)\n",
      "- 5,137 lone-lone interactions (29.37% - 8.84% positive)\n",
      "\n",
      "### No overlap only ###\n",
      "\n",
      "Hub status:\n",
      "- 453 hub-hub interactions (26.43% - 84.77% positive)\n",
      "- 712 hub-lone interactions (41.54% - 53.37% positive)\n",
      "- 549 lone-lone interactions (32.03% - 16.94% positive)\n",
      "\n"
     ]
    }
   ],
   "source": [
    "print('## Test1\\n')\n",
    "\n",
    "EDA_predSet(\n",
    "    GS.loc[GS.trainTest == 'test1'],\n",
    "    list_hubs=list_hubs20,\n",
    "    trainSet = GS.loc[GS.trainTest == 'train'],\n",
    ")"
   ]
  },
  {
   "cell_type": "code",
   "execution_count": 64,
   "metadata": {
    "execution": {
     "iopub.execute_input": "2022-02-02T09:47:21.352992Z",
     "iopub.status.busy": "2022-02-02T09:47:21.352850Z",
     "iopub.status.idle": "2022-02-02T09:47:21.546691Z",
     "shell.execute_reply": "2022-02-02T09:47:21.546158Z",
     "shell.execute_reply.started": "2022-02-02T09:47:21.352969Z"
    },
    "scrolled": true
   },
   "outputs": [
    {
     "name": "stdout",
     "output_type": "stream",
     "text": [
      "## Test2\n",
      "\n",
      "136,939 interactions (9.09% positive)\n",
      "\n",
      "Hub status:\n",
      "- 15,595 hub-hub interactions (11.39% - 45.04% positive)\n",
      "- 53,258 hub-lone interactions (38.89% - 8.87% positive)\n",
      "- 68,086 lone-lone interactions (49.72% - 1.03% positive)\n",
      "\n",
      "Overlap with train:\n",
      "- 87,477 total overlap with train, both proteins already seen (63.88% - 3.23% positive)\n",
      "- 44,784 partial overal, only one protein seen (32.70% - 19.50% positive)\n",
      "- 4,678 no overlap (3.42% - 18.98% positive)\n",
      "\n",
      "### Positive only ###\n",
      "\n",
      "Hub status:\n",
      "- 7,024 hub-hub interactions (56.42% - 100.00% positive)\n",
      "- 4,726 hub-lone interactions (37.96% - 100.00% positive)\n",
      "- 699 lone-lone interactions (5.61% - 100.00% positive)\n",
      "\n",
      "Overlap with train:\n",
      "- 2,826 total overlap with train, both proteins already seen (22.70% - 100.00% positive)\n",
      "- 8,735 partial overal, only one protein seen (70.17% - 100.00% positive)\n",
      "- 888 no overlap (7.13% - 100.00% positive)\n",
      "\n",
      "### Negative only ###\n",
      "\n",
      "Hub status:\n",
      "- 8,571 hub-hub interactions (6.88% - 0.00% positive)\n",
      "- 48,532 hub-lone interactions (38.98% - 0.00% positive)\n",
      "- 67,387 lone-lone interactions (54.13% - 0.00% positive)\n",
      "\n",
      "Overlap with train:\n",
      "- 84,651 total overlap with train, both proteins already seen (68.00% - 0.00% positive)\n",
      "- 36,049 partial overal, only one protein seen (28.96% - 0.00% positive)\n",
      "- 3,790 no overlap (3.04% - 0.00% positive)\n",
      "\n",
      "### Hub-Hub only ###\n",
      "\n",
      "Overlap with train:\n",
      "- 8,061 total overlap with train, both proteins already seen (51.69% - 20.28% positive)\n",
      "- 7,019 partial overal, only one protein seen (45.01% - 71.41% positive)\n",
      "- 515 no overlap (3.30% - 73.20% positive)\n",
      "\n",
      "### Hub-Lone only ###\n",
      "\n",
      "Overlap with train:\n",
      "- 35,043 total overlap with train, both proteins already seen (65.80% - 3.05% positive)\n",
      "- 16,625 partial overal, only one protein seen (31.22% - 19.49% positive)\n",
      "- 1,590 no overlap (2.99% - 26.16% positive)\n",
      "\n",
      "### Lone-Lone only ###\n",
      "\n",
      "Overlap with train:\n",
      "- 44,373 total overlap with train, both proteins already seen (65.17% - 0.27% positive)\n",
      "- 21,140 partial overal, only one protein seen (31.05% - 2.28% positive)\n",
      "- 2,573 no overlap (3.78% - 3.69% positive)\n",
      "\n",
      "### Complete overlap only ###\n",
      "\n",
      "Hub status:\n",
      "- 8,061 hub-hub interactions (9.21% - 20.28% positive)\n",
      "- 35,043 hub-lone interactions (40.06% - 3.05% positive)\n",
      "- 44,373 lone-lone interactions (50.73% - 0.27% positive)\n",
      "\n",
      "### Partial overlap only ###\n",
      "\n",
      "Hub status:\n",
      "- 7,019 hub-hub interactions (15.67% - 71.41% positive)\n",
      "- 16,625 hub-lone interactions (37.12% - 19.49% positive)\n",
      "- 21,140 lone-lone interactions (47.20% - 2.28% positive)\n",
      "\n",
      "### No overlap only ###\n",
      "\n",
      "Hub status:\n",
      "- 515 hub-hub interactions (11.01% - 73.20% positive)\n",
      "- 1,590 hub-lone interactions (33.99% - 26.16% positive)\n",
      "- 2,573 lone-lone interactions (55.00% - 3.69% positive)\n",
      "\n"
     ]
    }
   ],
   "source": [
    "print('## Test2\\n')\n",
    "\n",
    "EDA_predSet(\n",
    "    GS.loc[GS.trainTest == 'test2'],\n",
    "    list_hubs=list_hubs20,\n",
    "    trainSet = PPI3.loc[PPI3.trainTest == 'train'],\n",
    ")"
   ]
  },
  {
   "cell_type": "code",
   "execution_count": 65,
   "metadata": {
    "execution": {
     "iopub.execute_input": "2022-02-02T09:47:21.547591Z",
     "iopub.status.busy": "2022-02-02T09:47:21.547445Z",
     "iopub.status.idle": "2022-02-02T09:47:22.887462Z",
     "shell.execute_reply": "2022-02-02T09:47:22.886919Z",
     "shell.execute_reply.started": "2022-02-02T09:47:21.547568Z"
    }
   },
   "outputs": [
    {
     "data": {
      "image/png": "[encoded data removed]",
      "text/plain": [
       "<Figure size 576x288 with 1 Axes>"
      ]
     },
     "metadata": {
      "needs_background": "light"
     },
     "output_type": "display_data"
    },
    {
     "data": {
      "image/png": "[encoded data removed]",
      "text/plain": [
       "<Figure size 576x288 with 1 Axes>"
      ]
     },
     "metadata": {
      "needs_background": "light"
     },
     "output_type": "display_data"
    },
    {
     "data": {
      "image/png": "[encoded data removed]",
      "text/plain": [
       "<Figure size 576x288 with 1 Axes>"
      ]
     },
     "metadata": {
      "needs_background": "light"
     },
     "output_type": "display_data"
    }
   ],
   "source": [
    "for x in ['train','test1', 'test2']:\n",
    "    for y in [0,1]:\n",
    "        foo = GS.loc[(GS.isInteraction == y)&(GS.trainTest == x)]\n",
    "        allIDs = pd.concat([foo.uniprotID_A, foo.uniprotID_B])\n",
    "        valCounts = allIDs.value_counts()\n",
    "        plt.plot(\n",
    "            range(len(valCounts)), valCounts.values, \n",
    "            label=f\"Label: {y}\"\n",
    "        )\n",
    "    plt.xlabel('')\n",
    "    plt.ylabel('Number of interactions')\n",
    "    plt.title(f'Number of interactions per protein - {x}')\n",
    "    plt.yscale('log')\n",
    "    plt.legend()\n",
    "    plt.show();"
   ]
  },
  {
   "cell_type": "code",
   "execution_count": 66,
   "metadata": {
    "execution": {
     "iopub.execute_input": "2022-02-02T09:47:22.888498Z",
     "iopub.status.busy": "2022-02-02T09:47:22.888349Z",
     "iopub.status.idle": "2022-02-02T09:47:23.112460Z",
     "shell.execute_reply": "2022-02-02T09:47:23.111815Z",
     "shell.execute_reply.started": "2022-02-02T09:47:22.888474Z"
    }
   },
   "outputs": [
    {
     "data": {
      "image/png": "[encoded data removed]",
      "text/plain": [
       "<Figure size 576x288 with 1 Axes>"
      ]
     },
     "metadata": {
      "needs_background": "light"
     },
     "output_type": "display_data"
    }
   ],
   "source": [
    "for x in [\n",
    "#     'train',\n",
    "    'test1',\n",
    "    'test2'\n",
    "]:\n",
    "    foo = GS.loc[(GS.isInteraction == 0)&(GS.trainTest == x)]\n",
    "    allIDs = pd.concat([foo.uniprotID_A, foo.uniprotID_B])\n",
    "    valCounts = allIDs.value_counts()\n",
    "    plt.plot(\n",
    "        range(len(valCounts)), valCounts.values, \n",
    "        label=x\n",
    "    )\n",
    "    \n",
    "plt.xlabel('')\n",
    "plt.ylabel('Number of interactions')\n",
    "plt.title(f'Number of interactions per protein in the negative set')\n",
    "# plt.yscale('log')\n",
    "plt.legend()\n",
    "plt.show();"
   ]
  },
  {
   "cell_type": "code",
   "execution_count": 67,
   "metadata": {
    "execution": {
     "iopub.execute_input": "2022-02-02T09:47:23.113829Z",
     "iopub.status.busy": "2022-02-02T09:47:23.113668Z",
     "iopub.status.idle": "2022-02-02T09:47:23.136763Z",
     "shell.execute_reply": "2022-02-02T09:47:23.136315Z",
     "shell.execute_reply.started": "2022-02-02T09:47:23.113804Z"
    }
   },
   "outputs": [
    {
     "data": {
      "text/plain": [
       "test2    136939\n",
       "train    106662\n",
       "test1     24898\n",
       "Name: trainTest, dtype: int64"
      ]
     },
     "execution_count": 67,
     "metadata": {},
     "output_type": "execute_result"
    }
   ],
   "source": [
    "GS.trainTest.value_counts()"
   ]
  },
  {
   "cell_type": "markdown",
   "metadata": {},
   "source": [
    "## Add Similarity Measures\n",
    "\n",
    "Requires 60GB of memory"
   ]
  },
  {
   "cell_type": "code",
   "execution_count": 68,
   "metadata": {
    "execution": {
     "iopub.execute_input": "2022-02-02T09:47:23.139887Z",
     "iopub.status.busy": "2022-02-02T09:47:23.139744Z",
     "iopub.status.idle": "2022-02-02T09:47:23.157240Z",
     "shell.execute_reply": "2022-02-02T09:47:23.156681Z",
     "shell.execute_reply.started": "2022-02-02T09:47:23.139864Z"
    }
   },
   "outputs": [],
   "source": [
    "to_enrich = GS"
   ]
  },
  {
   "cell_type": "code",
   "execution_count": 69,
   "metadata": {
    "execution": {
     "iopub.execute_input": "2022-02-02T09:47:23.158299Z",
     "iopub.status.busy": "2022-02-02T09:47:23.158107Z",
     "iopub.status.idle": "2022-02-02T09:51:13.053423Z",
     "shell.execute_reply": "2022-02-02T09:51:13.052818Z",
     "shell.execute_reply.started": "2022-02-02T09:47:23.158269Z"
    }
   },
   "outputs": [
    {
     "name": "stdout",
     "output_type": "stream",
     "text": [
      "DataFrame: 268,499 rows \t 14 columns\n"
     ]
    },
    {
     "data": {
      "text/html": [
       "<div>\n",
       "<style scoped>\n",
       "    .dataframe tbody tr th:only-of-type {\n",
       "        vertical-align: middle;\n",
       "    }\n",
       "\n",
       "    .dataframe tbody tr th {\n",
       "        vertical-align: top;\n",
       "    }\n",
       "\n",
       "    .dataframe thead th {\n",
       "        text-align: right;\n",
       "    }\n",
       "</style>\n",
       "<table border=\"1\" class=\"dataframe\">\n",
       "  <thead>\n",
       "    <tr style=\"text-align: right;\">\n",
       "      <th></th>\n",
       "      <th>uniprotID_A</th>\n",
       "      <th>uniprotID_B</th>\n",
       "      <th>isInteraction</th>\n",
       "      <th>trainTest</th>\n",
       "      <th>RNAseqHPA</th>\n",
       "      <th>tissueHPA</th>\n",
       "      <th>tissueCellHPA</th>\n",
       "      <th>subcellularLocationHPA</th>\n",
       "      <th>bioProcessUniprot</th>\n",
       "      <th>cellCompUniprot</th>\n",
       "      <th>molFuncUniprot</th>\n",
       "      <th>domainUniprot</th>\n",
       "      <th>motifUniprot</th>\n",
       "      <th>Bgee</th>\n",
       "    </tr>\n",
       "  </thead>\n",
       "  <tbody>\n",
       "    <tr>\n",
       "      <th>0</th>\n",
       "      <td>P28223</td>\n",
       "      <td>P41595</td>\n",
       "      <td>1</td>\n",
       "      <td>test2</td>\n",
       "      <td>0.160188</td>\n",
       "      <td>-0.449930</td>\n",
       "      <td>-0.060381</td>\n",
       "      <td>NaN</td>\n",
       "      <td>0.400892</td>\n",
       "      <td>0.404061</td>\n",
       "      <td>0.680414</td>\n",
       "      <td>0.0</td>\n",
       "      <td>0.790569</td>\n",
       "      <td>0.422078</td>\n",
       "    </tr>\n",
       "    <tr>\n",
       "      <th>1</th>\n",
       "      <td>O00161</td>\n",
       "      <td>P56962</td>\n",
       "      <td>1</td>\n",
       "      <td>train</td>\n",
       "      <td>0.825131</td>\n",
       "      <td>0.851690</td>\n",
       "      <td>0.675880</td>\n",
       "      <td>0.0</td>\n",
       "      <td>0.190693</td>\n",
       "      <td>0.200000</td>\n",
       "      <td>0.353553</td>\n",
       "      <td>0.0</td>\n",
       "      <td>0.000000</td>\n",
       "      <td>0.922975</td>\n",
       "    </tr>\n",
       "    <tr>\n",
       "      <th>2</th>\n",
       "      <td>P82979</td>\n",
       "      <td>Q01081</td>\n",
       "      <td>1</td>\n",
       "      <td>train</td>\n",
       "      <td>0.930790</td>\n",
       "      <td>0.954869</td>\n",
       "      <td>0.911887</td>\n",
       "      <td>0.0</td>\n",
       "      <td>0.547723</td>\n",
       "      <td>0.365148</td>\n",
       "      <td>0.408248</td>\n",
       "      <td>0.0</td>\n",
       "      <td>0.000000</td>\n",
       "      <td>NaN</td>\n",
       "    </tr>\n",
       "    <tr>\n",
       "      <th>3</th>\n",
       "      <td>O60678</td>\n",
       "      <td>Q14524</td>\n",
       "      <td>1</td>\n",
       "      <td>train</td>\n",
       "      <td>0.219384</td>\n",
       "      <td>NaN</td>\n",
       "      <td>NaN</td>\n",
       "      <td>NaN</td>\n",
       "      <td>0.000000</td>\n",
       "      <td>0.000000</td>\n",
       "      <td>0.000000</td>\n",
       "      <td>0.0</td>\n",
       "      <td>0.000000</td>\n",
       "      <td>NaN</td>\n",
       "    </tr>\n",
       "    <tr>\n",
       "      <th>4</th>\n",
       "      <td>P10275</td>\n",
       "      <td>Q15648</td>\n",
       "      <td>1</td>\n",
       "      <td>train</td>\n",
       "      <td>0.500558</td>\n",
       "      <td>-0.311704</td>\n",
       "      <td>-0.371061</td>\n",
       "      <td>0.0</td>\n",
       "      <td>0.169811</td>\n",
       "      <td>0.375000</td>\n",
       "      <td>0.157895</td>\n",
       "      <td>0.0</td>\n",
       "      <td>0.000000</td>\n",
       "      <td>NaN</td>\n",
       "    </tr>\n",
       "  </tbody>\n",
       "</table>\n",
       "</div>"
      ],
      "text/plain": [
       "  uniprotID_A uniprotID_B  isInteraction trainTest  RNAseqHPA  tissueHPA  \\\n",
       "0      P28223      P41595              1     test2   0.160188  -0.449930   \n",
       "1      O00161      P56962              1     train   0.825131   0.851690   \n",
       "2      P82979      Q01081              1     train   0.930790   0.954869   \n",
       "3      O60678      Q14524              1     train   0.219384        NaN   \n",
       "4      P10275      Q15648              1     train   0.500558  -0.311704   \n",
       "\n",
       "   tissueCellHPA  subcellularLocationHPA  bioProcessUniprot  cellCompUniprot  \\\n",
       "0      -0.060381                     NaN           0.400892         0.404061   \n",
       "1       0.675880                     0.0           0.190693         0.200000   \n",
       "2       0.911887                     0.0           0.547723         0.365148   \n",
       "3            NaN                     NaN           0.000000         0.000000   \n",
       "4      -0.371061                     0.0           0.169811         0.375000   \n",
       "\n",
       "   molFuncUniprot  domainUniprot  motifUniprot      Bgee  \n",
       "0        0.680414            0.0      0.790569  0.422078  \n",
       "1        0.353553            0.0      0.000000  0.922975  \n",
       "2        0.408248            0.0      0.000000       NaN  \n",
       "3        0.000000            0.0      0.000000       NaN  \n",
       "4        0.157895            0.0      0.000000       NaN  "
      ]
     },
     "metadata": {},
     "output_type": "display_data"
    },
    {
     "name": "stdout",
     "output_type": "stream",
     "text": [
      "success\n"
     ]
    }
   ],
   "source": [
    "GS_SM = AddSimilarityMeasures(to_enrich, cfg=cfg, logVersions=logVersions)\n",
    "glance(GS_SM)\n",
    "\n",
    "print(\"success\")"
   ]
  },
  {
   "cell_type": "markdown",
   "metadata": {},
   "source": [
    "## Add sequence"
   ]
  },
  {
   "cell_type": "code",
   "execution_count": 72,
   "metadata": {
    "execution": {
     "iopub.execute_input": "2022-02-02T09:57:08.435431Z",
     "iopub.status.busy": "2022-02-02T09:57:08.435096Z",
     "iopub.status.idle": "2022-02-02T09:57:08.455734Z",
     "shell.execute_reply": "2022-02-02T09:57:08.455036Z",
     "shell.execute_reply.started": "2022-02-02T09:57:08.435387Z"
    }
   },
   "outputs": [
    {
     "name": "stdout",
     "output_type": "stream",
     "text": [
      "DataFrame: 268,499 rows \t 14 columns\n"
     ]
    },
    {
     "data": {
      "text/html": [
       "<div>\n",
       "<style scoped>\n",
       "    .dataframe tbody tr th:only-of-type {\n",
       "        vertical-align: middle;\n",
       "    }\n",
       "\n",
       "    .dataframe tbody tr th {\n",
       "        vertical-align: top;\n",
       "    }\n",
       "\n",
       "    .dataframe thead th {\n",
       "        text-align: right;\n",
       "    }\n",
       "</style>\n",
       "<table border=\"1\" class=\"dataframe\">\n",
       "  <thead>\n",
       "    <tr style=\"text-align: right;\">\n",
       "      <th></th>\n",
       "      <th>uniprotID_A</th>\n",
       "      <th>uniprotID_B</th>\n",
       "      <th>isInteraction</th>\n",
       "      <th>trainTest</th>\n",
       "      <th>RNAseqHPA</th>\n",
       "      <th>tissueHPA</th>\n",
       "      <th>tissueCellHPA</th>\n",
       "      <th>subcellularLocationHPA</th>\n",
       "      <th>bioProcessUniprot</th>\n",
       "      <th>cellCompUniprot</th>\n",
       "      <th>molFuncUniprot</th>\n",
       "      <th>domainUniprot</th>\n",
       "      <th>motifUniprot</th>\n",
       "      <th>Bgee</th>\n",
       "    </tr>\n",
       "  </thead>\n",
       "  <tbody>\n",
       "    <tr>\n",
       "      <th>0</th>\n",
       "      <td>P28223</td>\n",
       "      <td>P41595</td>\n",
       "      <td>1</td>\n",
       "      <td>test2</td>\n",
       "      <td>0.160188</td>\n",
       "      <td>-0.449930</td>\n",
       "      <td>-0.060381</td>\n",
       "      <td>NaN</td>\n",
       "      <td>0.400892</td>\n",
       "      <td>0.404061</td>\n",
       "      <td>0.680414</td>\n",
       "      <td>0.0</td>\n",
       "      <td>0.790569</td>\n",
       "      <td>0.422078</td>\n",
       "    </tr>\n",
       "    <tr>\n",
       "      <th>1</th>\n",
       "      <td>O00161</td>\n",
       "      <td>P56962</td>\n",
       "      <td>1</td>\n",
       "      <td>train</td>\n",
       "      <td>0.825131</td>\n",
       "      <td>0.851690</td>\n",
       "      <td>0.675880</td>\n",
       "      <td>0.0</td>\n",
       "      <td>0.190693</td>\n",
       "      <td>0.200000</td>\n",
       "      <td>0.353553</td>\n",
       "      <td>0.0</td>\n",
       "      <td>0.000000</td>\n",
       "      <td>0.922975</td>\n",
       "    </tr>\n",
       "    <tr>\n",
       "      <th>2</th>\n",
       "      <td>P82979</td>\n",
       "      <td>Q01081</td>\n",
       "      <td>1</td>\n",
       "      <td>train</td>\n",
       "      <td>0.930790</td>\n",
       "      <td>0.954869</td>\n",
       "      <td>0.911887</td>\n",
       "      <td>0.0</td>\n",
       "      <td>0.547723</td>\n",
       "      <td>0.365148</td>\n",
       "      <td>0.408248</td>\n",
       "      <td>0.0</td>\n",
       "      <td>0.000000</td>\n",
       "      <td>NaN</td>\n",
       "    </tr>\n",
       "    <tr>\n",
       "      <th>3</th>\n",
       "      <td>O60678</td>\n",
       "      <td>Q14524</td>\n",
       "      <td>1</td>\n",
       "      <td>train</td>\n",
       "      <td>0.219384</td>\n",
       "      <td>NaN</td>\n",
       "      <td>NaN</td>\n",
       "      <td>NaN</td>\n",
       "      <td>0.000000</td>\n",
       "      <td>0.000000</td>\n",
       "      <td>0.000000</td>\n",
       "      <td>0.0</td>\n",
       "      <td>0.000000</td>\n",
       "      <td>NaN</td>\n",
       "    </tr>\n",
       "    <tr>\n",
       "      <th>4</th>\n",
       "      <td>P10275</td>\n",
       "      <td>Q15648</td>\n",
       "      <td>1</td>\n",
       "      <td>train</td>\n",
       "      <td>0.500558</td>\n",
       "      <td>-0.311704</td>\n",
       "      <td>-0.371061</td>\n",
       "      <td>0.0</td>\n",
       "      <td>0.169811</td>\n",
       "      <td>0.375000</td>\n",
       "      <td>0.157895</td>\n",
       "      <td>0.0</td>\n",
       "      <td>0.000000</td>\n",
       "      <td>NaN</td>\n",
       "    </tr>\n",
       "  </tbody>\n",
       "</table>\n",
       "</div>"
      ],
      "text/plain": [
       "  uniprotID_A uniprotID_B  isInteraction trainTest  RNAseqHPA  tissueHPA  \\\n",
       "0      P28223      P41595              1     test2   0.160188  -0.449930   \n",
       "1      O00161      P56962              1     train   0.825131   0.851690   \n",
       "2      P82979      Q01081              1     train   0.930790   0.954869   \n",
       "3      O60678      Q14524              1     train   0.219384        NaN   \n",
       "4      P10275      Q15648              1     train   0.500558  -0.311704   \n",
       "\n",
       "   tissueCellHPA  subcellularLocationHPA  bioProcessUniprot  cellCompUniprot  \\\n",
       "0      -0.060381                     NaN           0.400892         0.404061   \n",
       "1       0.675880                     0.0           0.190693         0.200000   \n",
       "2       0.911887                     0.0           0.547723         0.365148   \n",
       "3            NaN                     NaN           0.000000         0.000000   \n",
       "4      -0.371061                     0.0           0.169811         0.375000   \n",
       "\n",
       "   molFuncUniprot  domainUniprot  motifUniprot      Bgee  \n",
       "0        0.680414            0.0      0.790569  0.422078  \n",
       "1        0.353553            0.0      0.000000  0.922975  \n",
       "2        0.408248            0.0      0.000000       NaN  \n",
       "3        0.000000            0.0      0.000000       NaN  \n",
       "4        0.157895            0.0      0.000000       NaN  "
      ]
     },
     "metadata": {},
     "output_type": "display_data"
    }
   ],
   "source": [
    "glance(GS_SM)"
   ]
  },
  {
   "cell_type": "code",
   "execution_count": 73,
   "metadata": {
    "execution": {
     "iopub.execute_input": "2022-02-02T09:58:56.168006Z",
     "iopub.status.busy": "2022-02-02T09:58:56.167295Z",
     "iopub.status.idle": "2022-02-02T09:58:56.346029Z",
     "shell.execute_reply": "2022-02-02T09:58:56.344960Z",
     "shell.execute_reply.started": "2022-02-02T09:58:56.167723Z"
    }
   },
   "outputs": [
    {
     "name": "stdout",
     "output_type": "stream",
     "text": [
      "DataFrame: 20,386 rows \t 2 columns\n"
     ]
    },
    {
     "data": {
      "text/html": [
       "<div>\n",
       "<style scoped>\n",
       "    .dataframe tbody tr th:only-of-type {\n",
       "        vertical-align: middle;\n",
       "    }\n",
       "\n",
       "    .dataframe tbody tr th {\n",
       "        vertical-align: top;\n",
       "    }\n",
       "\n",
       "    .dataframe thead th {\n",
       "        text-align: right;\n",
       "    }\n",
       "</style>\n",
       "<table border=\"1\" class=\"dataframe\">\n",
       "  <thead>\n",
       "    <tr style=\"text-align: right;\">\n",
       "      <th></th>\n",
       "      <th>uniprotID</th>\n",
       "      <th>sequence</th>\n",
       "    </tr>\n",
       "  </thead>\n",
       "  <tbody>\n",
       "    <tr>\n",
       "      <th>0</th>\n",
       "      <td>A0A024RBG1</td>\n",
       "      <td>MMKFKPNQTRTYDREGFKKRAACLCFRSEQEDEVLLVSSSRYPDQW...</td>\n",
       "    </tr>\n",
       "    <tr>\n",
       "      <th>1</th>\n",
       "      <td>A0A075B6H7</td>\n",
       "      <td>MEAPAQLLFLLLLWLPDTTREIVMTQSPPTLSLSPGERVTLSCRAS...</td>\n",
       "    </tr>\n",
       "    <tr>\n",
       "      <th>2</th>\n",
       "      <td>A0A075B6H8</td>\n",
       "      <td>MDMRVPAQLLGLLLLWLPGVRFDIQMTQSPSFLSASVGDRVSIICW...</td>\n",
       "    </tr>\n",
       "    <tr>\n",
       "      <th>3</th>\n",
       "      <td>A0A075B6H9</td>\n",
       "      <td>MAWTPLLFLTLLLHCTGSLSQLVLTQSPSASASLGASVKLTCTLSS...</td>\n",
       "    </tr>\n",
       "    <tr>\n",
       "      <th>4</th>\n",
       "      <td>A0A075B6I0</td>\n",
       "      <td>MSVPTMAWMMLLLGLLAYGSGVDSQTVVTQEPSFSVSPGGTVTLTC...</td>\n",
       "    </tr>\n",
       "  </tbody>\n",
       "</table>\n",
       "</div>"
      ],
      "text/plain": [
       "    uniprotID                                           sequence\n",
       "0  A0A024RBG1  MMKFKPNQTRTYDREGFKKRAACLCFRSEQEDEVLLVSSSRYPDQW...\n",
       "1  A0A075B6H7  MEAPAQLLFLLLLWLPDTTREIVMTQSPPTLSLSPGERVTLSCRAS...\n",
       "2  A0A075B6H8  MDMRVPAQLLGLLLLWLPGVRFDIQMTQSPSFLSASVGDRVSIICW...\n",
       "3  A0A075B6H9  MAWTPLLFLTLLLHCTGSLSQLVLTQSPSASASLGASVKLTCTLSS...\n",
       "4  A0A075B6I0  MSVPTMAWMMLLLGLLAYGSGVDSQTVVTQEPSFSVSPGGTVTLTC..."
      ]
     },
     "metadata": {},
     "output_type": "display_data"
    }
   ],
   "source": [
    "sequenceData = pd.read_pickle(\n",
    "    os.path.join(\n",
    "        cfg['outputPreprocessingUniprot'], \n",
    "        f\"sequenceData_v{logVersions['UniProt']['rawData']}--{logVersions['UniProt']['preprocessed']}.pkl\"\n",
    "    )\n",
    ")\n",
    "\n",
    "glance(sequenceData)"
   ]
  },
  {
   "cell_type": "code",
   "execution_count": 79,
   "metadata": {
    "execution": {
     "iopub.execute_input": "2022-02-02T10:04:49.933276Z",
     "iopub.status.busy": "2022-02-02T10:04:49.932553Z",
     "iopub.status.idle": "2022-02-02T10:04:50.196576Z",
     "shell.execute_reply": "2022-02-02T10:04:50.195982Z",
     "shell.execute_reply.started": "2022-02-02T10:04:49.932982Z"
    }
   },
   "outputs": [
    {
     "name": "stdout",
     "output_type": "stream",
     "text": [
      "DataFrame: 268,499 rows \t 16 columns\n"
     ]
    },
    {
     "data": {
      "text/html": [
       "<div>\n",
       "<style scoped>\n",
       "    .dataframe tbody tr th:only-of-type {\n",
       "        vertical-align: middle;\n",
       "    }\n",
       "\n",
       "    .dataframe tbody tr th {\n",
       "        vertical-align: top;\n",
       "    }\n",
       "\n",
       "    .dataframe thead th {\n",
       "        text-align: right;\n",
       "    }\n",
       "</style>\n",
       "<table border=\"1\" class=\"dataframe\">\n",
       "  <thead>\n",
       "    <tr style=\"text-align: right;\">\n",
       "      <th></th>\n",
       "      <th>uniprotID_A</th>\n",
       "      <th>uniprotID_B</th>\n",
       "      <th>isInteraction</th>\n",
       "      <th>trainTest</th>\n",
       "      <th>RNAseqHPA</th>\n",
       "      <th>tissueHPA</th>\n",
       "      <th>tissueCellHPA</th>\n",
       "      <th>subcellularLocationHPA</th>\n",
       "      <th>bioProcessUniprot</th>\n",
       "      <th>cellCompUniprot</th>\n",
       "      <th>molFuncUniprot</th>\n",
       "      <th>domainUniprot</th>\n",
       "      <th>motifUniprot</th>\n",
       "      <th>Bgee</th>\n",
       "      <th>sequence_A</th>\n",
       "      <th>sequence_B</th>\n",
       "    </tr>\n",
       "  </thead>\n",
       "  <tbody>\n",
       "    <tr>\n",
       "      <th>0</th>\n",
       "      <td>P28223</td>\n",
       "      <td>P41595</td>\n",
       "      <td>1</td>\n",
       "      <td>test2</td>\n",
       "      <td>0.160188</td>\n",
       "      <td>-0.449930</td>\n",
       "      <td>-0.060381</td>\n",
       "      <td>NaN</td>\n",
       "      <td>0.400892</td>\n",
       "      <td>0.404061</td>\n",
       "      <td>0.680414</td>\n",
       "      <td>0.0</td>\n",
       "      <td>0.790569</td>\n",
       "      <td>0.422078</td>\n",
       "      <td>MDILCEENTSLSSTTNSLMQLNDDTRLYSNDFNSGEANTSDAFNWT...</td>\n",
       "      <td>MALSYRVSELQSTIPEHILQSTFVHVISSNWSGLQTESIPEEMKQI...</td>\n",
       "    </tr>\n",
       "    <tr>\n",
       "      <th>1</th>\n",
       "      <td>O00161</td>\n",
       "      <td>P56962</td>\n",
       "      <td>1</td>\n",
       "      <td>train</td>\n",
       "      <td>0.825131</td>\n",
       "      <td>0.851690</td>\n",
       "      <td>0.675880</td>\n",
       "      <td>0.0</td>\n",
       "      <td>0.190693</td>\n",
       "      <td>0.200000</td>\n",
       "      <td>0.353553</td>\n",
       "      <td>0.0</td>\n",
       "      <td>0.000000</td>\n",
       "      <td>0.922975</td>\n",
       "      <td>MDNLSSEEIQQRAHQITDESLESTRRILGLAIESQDAGIKTITMLD...</td>\n",
       "      <td>MSEDEEKVKLRRLEPAIQKFIKIVIPTDLERLRKHQINIEKYQRCR...</td>\n",
       "    </tr>\n",
       "    <tr>\n",
       "      <th>2</th>\n",
       "      <td>P82979</td>\n",
       "      <td>Q01081</td>\n",
       "      <td>1</td>\n",
       "      <td>train</td>\n",
       "      <td>0.930790</td>\n",
       "      <td>0.954869</td>\n",
       "      <td>0.911887</td>\n",
       "      <td>0.0</td>\n",
       "      <td>0.547723</td>\n",
       "      <td>0.365148</td>\n",
       "      <td>0.408248</td>\n",
       "      <td>0.0</td>\n",
       "      <td>0.000000</td>\n",
       "      <td>NaN</td>\n",
       "      <td>MATETVELHKLKLAELKQECLARGLETKGIKQDLIHRLQAYLEEHA...</td>\n",
       "      <td>MAEYLASIFGTEKDKVNCSFYFKIGACRHGDRCSRLHNKPTFSQTI...</td>\n",
       "    </tr>\n",
       "    <tr>\n",
       "      <th>3</th>\n",
       "      <td>O60678</td>\n",
       "      <td>Q14524</td>\n",
       "      <td>1</td>\n",
       "      <td>train</td>\n",
       "      <td>0.219384</td>\n",
       "      <td>NaN</td>\n",
       "      <td>NaN</td>\n",
       "      <td>NaN</td>\n",
       "      <td>0.000000</td>\n",
       "      <td>0.000000</td>\n",
       "      <td>0.000000</td>\n",
       "      <td>0.0</td>\n",
       "      <td>0.000000</td>\n",
       "      <td>NaN</td>\n",
       "      <td>MCSLASGATGGRGAVENEEDLPELSDSGDEAAWEDEDDADLPHGKQ...</td>\n",
       "      <td>MANFLLPRGTSSFRRFTRESLAAIEKRMAEKQARGSTTLQESREGL...</td>\n",
       "    </tr>\n",
       "    <tr>\n",
       "      <th>4</th>\n",
       "      <td>P10275</td>\n",
       "      <td>Q15648</td>\n",
       "      <td>1</td>\n",
       "      <td>train</td>\n",
       "      <td>0.500558</td>\n",
       "      <td>-0.311704</td>\n",
       "      <td>-0.371061</td>\n",
       "      <td>0.0</td>\n",
       "      <td>0.169811</td>\n",
       "      <td>0.375000</td>\n",
       "      <td>0.157895</td>\n",
       "      <td>0.0</td>\n",
       "      <td>0.000000</td>\n",
       "      <td>NaN</td>\n",
       "      <td>MEVQLGLGRVYPRPPSKTYRGAFQNLFQSVREVIQNPGPRHPEAAS...</td>\n",
       "      <td>MKAQGETEESEKLSKMSSLLERLHAKFNQNRPWSETIKLVRQVMEK...</td>\n",
       "    </tr>\n",
       "  </tbody>\n",
       "</table>\n",
       "</div>"
      ],
      "text/plain": [
       "  uniprotID_A uniprotID_B  isInteraction trainTest  RNAseqHPA  tissueHPA  \\\n",
       "0      P28223      P41595              1     test2   0.160188  -0.449930   \n",
       "1      O00161      P56962              1     train   0.825131   0.851690   \n",
       "2      P82979      Q01081              1     train   0.930790   0.954869   \n",
       "3      O60678      Q14524              1     train   0.219384        NaN   \n",
       "4      P10275      Q15648              1     train   0.500558  -0.311704   \n",
       "\n",
       "   tissueCellHPA  subcellularLocationHPA  bioProcessUniprot  cellCompUniprot  \\\n",
       "0      -0.060381                     NaN           0.400892         0.404061   \n",
       "1       0.675880                     0.0           0.190693         0.200000   \n",
       "2       0.911887                     0.0           0.547723         0.365148   \n",
       "3            NaN                     NaN           0.000000         0.000000   \n",
       "4      -0.371061                     0.0           0.169811         0.375000   \n",
       "\n",
       "   molFuncUniprot  domainUniprot  motifUniprot      Bgee  \\\n",
       "0        0.680414            0.0      0.790569  0.422078   \n",
       "1        0.353553            0.0      0.000000  0.922975   \n",
       "2        0.408248            0.0      0.000000       NaN   \n",
       "3        0.000000            0.0      0.000000       NaN   \n",
       "4        0.157895            0.0      0.000000       NaN   \n",
       "\n",
       "                                          sequence_A  \\\n",
       "0  MDILCEENTSLSSTTNSLMQLNDDTRLYSNDFNSGEANTSDAFNWT...   \n",
       "1  MDNLSSEEIQQRAHQITDESLESTRRILGLAIESQDAGIKTITMLD...   \n",
       "2  MATETVELHKLKLAELKQECLARGLETKGIKQDLIHRLQAYLEEHA...   \n",
       "3  MCSLASGATGGRGAVENEEDLPELSDSGDEAAWEDEDDADLPHGKQ...   \n",
       "4  MEVQLGLGRVYPRPPSKTYRGAFQNLFQSVREVIQNPGPRHPEAAS...   \n",
       "\n",
       "                                          sequence_B  \n",
       "0  MALSYRVSELQSTIPEHILQSTFVHVISSNWSGLQTESIPEEMKQI...  \n",
       "1  MSEDEEKVKLRRLEPAIQKFIKIVIPTDLERLRKHQINIEKYQRCR...  \n",
       "2  MAEYLASIFGTEKDKVNCSFYFKIGACRHGDRCSRLHNKPTFSQTI...  \n",
       "3  MANFLLPRGTSSFRRFTRESLAAIEKRMAEKQARGSTTLQESREGL...  \n",
       "4  MKAQGETEESEKLSKMSSLLERLHAKFNQNRPWSETIKLVRQVMEK...  "
      ]
     },
     "metadata": {},
     "output_type": "display_data"
    }
   ],
   "source": [
    "sequenceData.columns = ['uniprotID_A', 'sequence_A']\n",
    "GS_SM_seq = GS_SM.merge(\n",
    "    sequenceData,\n",
    "    how = 'left',\n",
    "    on = \"uniprotID_A\"\n",
    ")\n",
    "\n",
    "sequenceData.columns = ['uniprotID_B', 'sequence_B']\n",
    "GS_SM_seq = GS_SM_seq.merge(\n",
    "    sequenceData,\n",
    "    how = 'left',\n",
    "    on = \"uniprotID_B\"\n",
    ")\n",
    "\n",
    "glance(GS_SM_seq)\n",
    "\n",
    "assert GS_SM_seq.isna().sum()['sequence_A'] + GS_SM_seq.isna().sum()['sequence_B'] == 0"
   ]
  },
  {
   "cell_type": "markdown",
   "metadata": {},
   "source": [
    "# Export \n",
    "\n",
    "v1 is the first version (16/11/2021)\n",
    "- v1.0 uses 864 as `seed_GS`"
   ]
  },
  {
   "cell_type": "code",
   "execution_count": 70,
   "metadata": {
    "execution": {
     "iopub.execute_input": "2022-02-02T09:55:43.468523Z",
     "iopub.status.busy": "2022-02-02T09:55:43.467783Z",
     "iopub.status.idle": "2022-02-02T09:55:43.483999Z",
     "shell.execute_reply": "2022-02-02T09:55:43.483471Z",
     "shell.execute_reply.started": "2022-02-02T09:55:43.468227Z"
    }
   },
   "outputs": [
    {
     "name": "stdout",
     "output_type": "stream",
     "text": [
      "DataFrame: 268,499 rows \t 4 columns\n"
     ]
    },
    {
     "data": {
      "text/html": [
       "<div>\n",
       "<style scoped>\n",
       "    .dataframe tbody tr th:only-of-type {\n",
       "        vertical-align: middle;\n",
       "    }\n",
       "\n",
       "    .dataframe tbody tr th {\n",
       "        vertical-align: top;\n",
       "    }\n",
       "\n",
       "    .dataframe thead th {\n",
       "        text-align: right;\n",
       "    }\n",
       "</style>\n",
       "<table border=\"1\" class=\"dataframe\">\n",
       "  <thead>\n",
       "    <tr style=\"text-align: right;\">\n",
       "      <th></th>\n",
       "      <th>uniprotID_A</th>\n",
       "      <th>uniprotID_B</th>\n",
       "      <th>isInteraction</th>\n",
       "      <th>trainTest</th>\n",
       "    </tr>\n",
       "  </thead>\n",
       "  <tbody>\n",
       "    <tr>\n",
       "      <th>0</th>\n",
       "      <td>P28223</td>\n",
       "      <td>P41595</td>\n",
       "      <td>1</td>\n",
       "      <td>test2</td>\n",
       "    </tr>\n",
       "    <tr>\n",
       "      <th>1</th>\n",
       "      <td>O00161</td>\n",
       "      <td>P56962</td>\n",
       "      <td>1</td>\n",
       "      <td>train</td>\n",
       "    </tr>\n",
       "    <tr>\n",
       "      <th>2</th>\n",
       "      <td>P82979</td>\n",
       "      <td>Q01081</td>\n",
       "      <td>1</td>\n",
       "      <td>train</td>\n",
       "    </tr>\n",
       "    <tr>\n",
       "      <th>3</th>\n",
       "      <td>O60678</td>\n",
       "      <td>Q14524</td>\n",
       "      <td>1</td>\n",
       "      <td>train</td>\n",
       "    </tr>\n",
       "    <tr>\n",
       "      <th>4</th>\n",
       "      <td>P10275</td>\n",
       "      <td>Q15648</td>\n",
       "      <td>1</td>\n",
       "      <td>train</td>\n",
       "    </tr>\n",
       "  </tbody>\n",
       "</table>\n",
       "</div>"
      ],
      "text/plain": [
       "  uniprotID_A uniprotID_B  isInteraction trainTest\n",
       "0      P28223      P41595              1     test2\n",
       "1      O00161      P56962              1     train\n",
       "2      P82979      Q01081              1     train\n",
       "3      O60678      Q14524              1     train\n",
       "4      P10275      Q15648              1     train"
      ]
     },
     "metadata": {},
     "output_type": "display_data"
    }
   ],
   "source": [
    "glance(GS)"
   ]
  },
  {
   "cell_type": "code",
   "execution_count": 71,
   "metadata": {
    "execution": {
     "iopub.execute_input": "2022-02-02T09:55:54.345437Z",
     "iopub.status.busy": "2022-02-02T09:55:54.344710Z",
     "iopub.status.idle": "2022-02-02T09:55:54.367341Z",
     "shell.execute_reply": "2022-02-02T09:55:54.366815Z",
     "shell.execute_reply.started": "2022-02-02T09:55:54.345130Z"
    }
   },
   "outputs": [
    {
     "name": "stdout",
     "output_type": "stream",
     "text": [
      "DataFrame: 268,499 rows \t 14 columns\n"
     ]
    },
    {
     "data": {
      "text/html": [
       "<div>\n",
       "<style scoped>\n",
       "    .dataframe tbody tr th:only-of-type {\n",
       "        vertical-align: middle;\n",
       "    }\n",
       "\n",
       "    .dataframe tbody tr th {\n",
       "        vertical-align: top;\n",
       "    }\n",
       "\n",
       "    .dataframe thead th {\n",
       "        text-align: right;\n",
       "    }\n",
       "</style>\n",
       "<table border=\"1\" class=\"dataframe\">\n",
       "  <thead>\n",
       "    <tr style=\"text-align: right;\">\n",
       "      <th></th>\n",
       "      <th>uniprotID_A</th>\n",
       "      <th>uniprotID_B</th>\n",
       "      <th>isInteraction</th>\n",
       "      <th>trainTest</th>\n",
       "      <th>RNAseqHPA</th>\n",
       "      <th>tissueHPA</th>\n",
       "      <th>tissueCellHPA</th>\n",
       "      <th>subcellularLocationHPA</th>\n",
       "      <th>bioProcessUniprot</th>\n",
       "      <th>cellCompUniprot</th>\n",
       "      <th>molFuncUniprot</th>\n",
       "      <th>domainUniprot</th>\n",
       "      <th>motifUniprot</th>\n",
       "      <th>Bgee</th>\n",
       "    </tr>\n",
       "  </thead>\n",
       "  <tbody>\n",
       "    <tr>\n",
       "      <th>0</th>\n",
       "      <td>P28223</td>\n",
       "      <td>P41595</td>\n",
       "      <td>1</td>\n",
       "      <td>test2</td>\n",
       "      <td>0.160188</td>\n",
       "      <td>-0.449930</td>\n",
       "      <td>-0.060381</td>\n",
       "      <td>NaN</td>\n",
       "      <td>0.400892</td>\n",
       "      <td>0.404061</td>\n",
       "      <td>0.680414</td>\n",
       "      <td>0.0</td>\n",
       "      <td>0.790569</td>\n",
       "      <td>0.422078</td>\n",
       "    </tr>\n",
       "    <tr>\n",
       "      <th>1</th>\n",
       "      <td>O00161</td>\n",
       "      <td>P56962</td>\n",
       "      <td>1</td>\n",
       "      <td>train</td>\n",
       "      <td>0.825131</td>\n",
       "      <td>0.851690</td>\n",
       "      <td>0.675880</td>\n",
       "      <td>0.0</td>\n",
       "      <td>0.190693</td>\n",
       "      <td>0.200000</td>\n",
       "      <td>0.353553</td>\n",
       "      <td>0.0</td>\n",
       "      <td>0.000000</td>\n",
       "      <td>0.922975</td>\n",
       "    </tr>\n",
       "    <tr>\n",
       "      <th>2</th>\n",
       "      <td>P82979</td>\n",
       "      <td>Q01081</td>\n",
       "      <td>1</td>\n",
       "      <td>train</td>\n",
       "      <td>0.930790</td>\n",
       "      <td>0.954869</td>\n",
       "      <td>0.911887</td>\n",
       "      <td>0.0</td>\n",
       "      <td>0.547723</td>\n",
       "      <td>0.365148</td>\n",
       "      <td>0.408248</td>\n",
       "      <td>0.0</td>\n",
       "      <td>0.000000</td>\n",
       "      <td>NaN</td>\n",
       "    </tr>\n",
       "    <tr>\n",
       "      <th>3</th>\n",
       "      <td>O60678</td>\n",
       "      <td>Q14524</td>\n",
       "      <td>1</td>\n",
       "      <td>train</td>\n",
       "      <td>0.219384</td>\n",
       "      <td>NaN</td>\n",
       "      <td>NaN</td>\n",
       "      <td>NaN</td>\n",
       "      <td>0.000000</td>\n",
       "      <td>0.000000</td>\n",
       "      <td>0.000000</td>\n",
       "      <td>0.0</td>\n",
       "      <td>0.000000</td>\n",
       "      <td>NaN</td>\n",
       "    </tr>\n",
       "    <tr>\n",
       "      <th>4</th>\n",
       "      <td>P10275</td>\n",
       "      <td>Q15648</td>\n",
       "      <td>1</td>\n",
       "      <td>train</td>\n",
       "      <td>0.500558</td>\n",
       "      <td>-0.311704</td>\n",
       "      <td>-0.371061</td>\n",
       "      <td>0.0</td>\n",
       "      <td>0.169811</td>\n",
       "      <td>0.375000</td>\n",
       "      <td>0.157895</td>\n",
       "      <td>0.0</td>\n",
       "      <td>0.000000</td>\n",
       "      <td>NaN</td>\n",
       "    </tr>\n",
       "  </tbody>\n",
       "</table>\n",
       "</div>"
      ],
      "text/plain": [
       "  uniprotID_A uniprotID_B  isInteraction trainTest  RNAseqHPA  tissueHPA  \\\n",
       "0      P28223      P41595              1     test2   0.160188  -0.449930   \n",
       "1      O00161      P56962              1     train   0.825131   0.851690   \n",
       "2      P82979      Q01081              1     train   0.930790   0.954869   \n",
       "3      O60678      Q14524              1     train   0.219384        NaN   \n",
       "4      P10275      Q15648              1     train   0.500558  -0.311704   \n",
       "\n",
       "   tissueCellHPA  subcellularLocationHPA  bioProcessUniprot  cellCompUniprot  \\\n",
       "0      -0.060381                     NaN           0.400892         0.404061   \n",
       "1       0.675880                     0.0           0.190693         0.200000   \n",
       "2       0.911887                     0.0           0.547723         0.365148   \n",
       "3            NaN                     NaN           0.000000         0.000000   \n",
       "4      -0.371061                     0.0           0.169811         0.375000   \n",
       "\n",
       "   molFuncUniprot  domainUniprot  motifUniprot      Bgee  \n",
       "0        0.680414            0.0      0.790569  0.422078  \n",
       "1        0.353553            0.0      0.000000  0.922975  \n",
       "2        0.408248            0.0      0.000000       NaN  \n",
       "3        0.000000            0.0      0.000000       NaN  \n",
       "4        0.157895            0.0      0.000000       NaN  "
      ]
     },
     "metadata": {},
     "output_type": "display_data"
    }
   ],
   "source": [
    "glance(GS_SM)"
   ]
  },
  {
   "cell_type": "code",
   "execution_count": 80,
   "metadata": {
    "execution": {
     "iopub.execute_input": "2022-02-02T10:05:06.871672Z",
     "iopub.status.busy": "2022-02-02T10:05:06.870924Z",
     "iopub.status.idle": "2022-02-02T10:05:06.894158Z",
     "shell.execute_reply": "2022-02-02T10:05:06.893592Z",
     "shell.execute_reply.started": "2022-02-02T10:05:06.871547Z"
    }
   },
   "outputs": [
    {
     "name": "stdout",
     "output_type": "stream",
     "text": [
      "DataFrame: 268,499 rows \t 16 columns\n"
     ]
    },
    {
     "data": {
      "text/html": [
       "<div>\n",
       "<style scoped>\n",
       "    .dataframe tbody tr th:only-of-type {\n",
       "        vertical-align: middle;\n",
       "    }\n",
       "\n",
       "    .dataframe tbody tr th {\n",
       "        vertical-align: top;\n",
       "    }\n",
       "\n",
       "    .dataframe thead th {\n",
       "        text-align: right;\n",
       "    }\n",
       "</style>\n",
       "<table border=\"1\" class=\"dataframe\">\n",
       "  <thead>\n",
       "    <tr style=\"text-align: right;\">\n",
       "      <th></th>\n",
       "      <th>uniprotID_A</th>\n",
       "      <th>uniprotID_B</th>\n",
       "      <th>isInteraction</th>\n",
       "      <th>trainTest</th>\n",
       "      <th>RNAseqHPA</th>\n",
       "      <th>tissueHPA</th>\n",
       "      <th>tissueCellHPA</th>\n",
       "      <th>subcellularLocationHPA</th>\n",
       "      <th>bioProcessUniprot</th>\n",
       "      <th>cellCompUniprot</th>\n",
       "      <th>molFuncUniprot</th>\n",
       "      <th>domainUniprot</th>\n",
       "      <th>motifUniprot</th>\n",
       "      <th>Bgee</th>\n",
       "      <th>sequence_A</th>\n",
       "      <th>sequence_B</th>\n",
       "    </tr>\n",
       "  </thead>\n",
       "  <tbody>\n",
       "    <tr>\n",
       "      <th>0</th>\n",
       "      <td>P28223</td>\n",
       "      <td>P41595</td>\n",
       "      <td>1</td>\n",
       "      <td>test2</td>\n",
       "      <td>0.160188</td>\n",
       "      <td>-0.449930</td>\n",
       "      <td>-0.060381</td>\n",
       "      <td>NaN</td>\n",
       "      <td>0.400892</td>\n",
       "      <td>0.404061</td>\n",
       "      <td>0.680414</td>\n",
       "      <td>0.0</td>\n",
       "      <td>0.790569</td>\n",
       "      <td>0.422078</td>\n",
       "      <td>MDILCEENTSLSSTTNSLMQLNDDTRLYSNDFNSGEANTSDAFNWT...</td>\n",
       "      <td>MALSYRVSELQSTIPEHILQSTFVHVISSNWSGLQTESIPEEMKQI...</td>\n",
       "    </tr>\n",
       "    <tr>\n",
       "      <th>1</th>\n",
       "      <td>O00161</td>\n",
       "      <td>P56962</td>\n",
       "      <td>1</td>\n",
       "      <td>train</td>\n",
       "      <td>0.825131</td>\n",
       "      <td>0.851690</td>\n",
       "      <td>0.675880</td>\n",
       "      <td>0.0</td>\n",
       "      <td>0.190693</td>\n",
       "      <td>0.200000</td>\n",
       "      <td>0.353553</td>\n",
       "      <td>0.0</td>\n",
       "      <td>0.000000</td>\n",
       "      <td>0.922975</td>\n",
       "      <td>MDNLSSEEIQQRAHQITDESLESTRRILGLAIESQDAGIKTITMLD...</td>\n",
       "      <td>MSEDEEKVKLRRLEPAIQKFIKIVIPTDLERLRKHQINIEKYQRCR...</td>\n",
       "    </tr>\n",
       "    <tr>\n",
       "      <th>2</th>\n",
       "      <td>P82979</td>\n",
       "      <td>Q01081</td>\n",
       "      <td>1</td>\n",
       "      <td>train</td>\n",
       "      <td>0.930790</td>\n",
       "      <td>0.954869</td>\n",
       "      <td>0.911887</td>\n",
       "      <td>0.0</td>\n",
       "      <td>0.547723</td>\n",
       "      <td>0.365148</td>\n",
       "      <td>0.408248</td>\n",
       "      <td>0.0</td>\n",
       "      <td>0.000000</td>\n",
       "      <td>NaN</td>\n",
       "      <td>MATETVELHKLKLAELKQECLARGLETKGIKQDLIHRLQAYLEEHA...</td>\n",
       "      <td>MAEYLASIFGTEKDKVNCSFYFKIGACRHGDRCSRLHNKPTFSQTI...</td>\n",
       "    </tr>\n",
       "    <tr>\n",
       "      <th>3</th>\n",
       "      <td>O60678</td>\n",
       "      <td>Q14524</td>\n",
       "      <td>1</td>\n",
       "      <td>train</td>\n",
       "      <td>0.219384</td>\n",
       "      <td>NaN</td>\n",
       "      <td>NaN</td>\n",
       "      <td>NaN</td>\n",
       "      <td>0.000000</td>\n",
       "      <td>0.000000</td>\n",
       "      <td>0.000000</td>\n",
       "      <td>0.0</td>\n",
       "      <td>0.000000</td>\n",
       "      <td>NaN</td>\n",
       "      <td>MCSLASGATGGRGAVENEEDLPELSDSGDEAAWEDEDDADLPHGKQ...</td>\n",
       "      <td>MANFLLPRGTSSFRRFTRESLAAIEKRMAEKQARGSTTLQESREGL...</td>\n",
       "    </tr>\n",
       "    <tr>\n",
       "      <th>4</th>\n",
       "      <td>P10275</td>\n",
       "      <td>Q15648</td>\n",
       "      <td>1</td>\n",
       "      <td>train</td>\n",
       "      <td>0.500558</td>\n",
       "      <td>-0.311704</td>\n",
       "      <td>-0.371061</td>\n",
       "      <td>0.0</td>\n",
       "      <td>0.169811</td>\n",
       "      <td>0.375000</td>\n",
       "      <td>0.157895</td>\n",
       "      <td>0.0</td>\n",
       "      <td>0.000000</td>\n",
       "      <td>NaN</td>\n",
       "      <td>MEVQLGLGRVYPRPPSKTYRGAFQNLFQSVREVIQNPGPRHPEAAS...</td>\n",
       "      <td>MKAQGETEESEKLSKMSSLLERLHAKFNQNRPWSETIKLVRQVMEK...</td>\n",
       "    </tr>\n",
       "  </tbody>\n",
       "</table>\n",
       "</div>"
      ],
      "text/plain": [
       "  uniprotID_A uniprotID_B  isInteraction trainTest  RNAseqHPA  tissueHPA  \\\n",
       "0      P28223      P41595              1     test2   0.160188  -0.449930   \n",
       "1      O00161      P56962              1     train   0.825131   0.851690   \n",
       "2      P82979      Q01081              1     train   0.930790   0.954869   \n",
       "3      O60678      Q14524              1     train   0.219384        NaN   \n",
       "4      P10275      Q15648              1     train   0.500558  -0.311704   \n",
       "\n",
       "   tissueCellHPA  subcellularLocationHPA  bioProcessUniprot  cellCompUniprot  \\\n",
       "0      -0.060381                     NaN           0.400892         0.404061   \n",
       "1       0.675880                     0.0           0.190693         0.200000   \n",
       "2       0.911887                     0.0           0.547723         0.365148   \n",
       "3            NaN                     NaN           0.000000         0.000000   \n",
       "4      -0.371061                     0.0           0.169811         0.375000   \n",
       "\n",
       "   molFuncUniprot  domainUniprot  motifUniprot      Bgee  \\\n",
       "0        0.680414            0.0      0.790569  0.422078   \n",
       "1        0.353553            0.0      0.000000  0.922975   \n",
       "2        0.408248            0.0      0.000000       NaN   \n",
       "3        0.000000            0.0      0.000000       NaN   \n",
       "4        0.157895            0.0      0.000000       NaN   \n",
       "\n",
       "                                          sequence_A  \\\n",
       "0  MDILCEENTSLSSTTNSLMQLNDDTRLYSNDFNSGEANTSDAFNWT...   \n",
       "1  MDNLSSEEIQQRAHQITDESLESTRRILGLAIESQDAGIKTITMLD...   \n",
       "2  MATETVELHKLKLAELKQECLARGLETKGIKQDLIHRLQAYLEEHA...   \n",
       "3  MCSLASGATGGRGAVENEEDLPELSDSGDEAAWEDEDDADLPHGKQ...   \n",
       "4  MEVQLGLGRVYPRPPSKTYRGAFQNLFQSVREVIQNPGPRHPEAAS...   \n",
       "\n",
       "                                          sequence_B  \n",
       "0  MALSYRVSELQSTIPEHILQSTFVHVISSNWSGLQTESIPEEMKQI...  \n",
       "1  MSEDEEKVKLRRLEPAIQKFIKIVIPTDLERLRKHQINIEKYQRCR...  \n",
       "2  MAEYLASIFGTEKDKVNCSFYFKIGACRHGDRCSRLHNKPTFSQTI...  \n",
       "3  MANFLLPRGTSSFRRFTRESLAAIEKRMAEKQARGSTTLQESREGL...  \n",
       "4  MKAQGETEESEKLSKMSSLLERLHAKFNQNRPWSETIKLVRQVMEK...  "
      ]
     },
     "metadata": {},
     "output_type": "display_data"
    }
   ],
   "source": [
    "glance(GS_SM_seq)"
   ]
  },
  {
   "cell_type": "code",
   "execution_count": 82,
   "metadata": {
    "execution": {
     "iopub.execute_input": "2022-02-02T10:07:37.256247Z",
     "iopub.status.busy": "2022-02-02T10:07:37.255547Z",
     "iopub.status.idle": "2022-02-02T10:07:37.261333Z",
     "shell.execute_reply": "2022-02-02T10:07:37.260110Z",
     "shell.execute_reply.started": "2022-02-02T10:07:37.255965Z"
    }
   },
   "outputs": [],
   "source": [
    "versionGS = '1-0'"
   ]
  },
  {
   "cell_type": "code",
   "execution_count": 83,
   "metadata": {
    "execution": {
     "iopub.execute_input": "2022-02-02T10:07:38.228106Z",
     "iopub.status.busy": "2022-02-02T10:07:38.227470Z",
     "iopub.status.idle": "2022-02-02T10:07:38.246977Z",
     "shell.execute_reply": "2022-02-02T10:07:38.246427Z",
     "shell.execute_reply.started": "2022-02-02T10:07:38.227873Z"
    }
   },
   "outputs": [],
   "source": [
    "logVersions['otherGoldStandard']['benchmarkingGS'] = versionGS\n",
    "\n",
    "dump_LogVersions(logVersions)"
   ]
  },
  {
   "cell_type": "markdown",
   "metadata": {},
   "source": [
    "---\n",
    "**Export as pkl files**"
   ]
  },
  {
   "cell_type": "code",
   "execution_count": 89,
   "metadata": {
    "execution": {
     "iopub.execute_input": "2022-02-02T10:12:38.548212Z",
     "iopub.status.busy": "2022-02-02T10:12:38.547669Z",
     "iopub.status.idle": "2022-02-02T10:12:38.612671Z",
     "shell.execute_reply": "2022-02-02T10:12:38.612092Z",
     "shell.execute_reply.started": "2022-02-02T10:12:38.548131Z"
    }
   },
   "outputs": [
    {
     "name": "stdout",
     "output_type": "stream",
     "text": [
      "/rds/user/ll582/hpc-work/PPIdata/output/3_goldStandard/benchmarkingGS_v1-0.pkl\n"
     ]
    }
   ],
   "source": [
    "to_export = GS\n",
    "\n",
    "export_path = os.path.join(\n",
    "    cfg['outputGoldStandard'], \n",
    "    f\"benchmarkingGS_v{logVersions['otherGoldStandard']['benchmarkingGS']}.pkl\"\n",
    ")\n",
    "print(export_path)\n",
    "\n",
    "with open(export_path, 'wb') as f:\n",
    "    pkl.dump(to_export, f, protocol=pkl.HIGHEST_PROTOCOL)"
   ]
  },
  {
   "cell_type": "code",
   "execution_count": 90,
   "metadata": {
    "execution": {
     "iopub.execute_input": "2022-02-02T10:12:39.075642Z",
     "iopub.status.busy": "2022-02-02T10:12:39.074944Z",
     "iopub.status.idle": "2022-02-02T10:12:39.177838Z",
     "shell.execute_reply": "2022-02-02T10:12:39.177135Z",
     "shell.execute_reply.started": "2022-02-02T10:12:39.075368Z"
    }
   },
   "outputs": [
    {
     "name": "stdout",
     "output_type": "stream",
     "text": [
      "/rds/user/ll582/hpc-work/PPIdata/output/3_goldStandard/benchmarkingGS_v1-0_similarityMeasure_v3-1.pkl\n"
     ]
    }
   ],
   "source": [
    "to_export = GS_SM\n",
    "\n",
    "export_path = os.path.join(\n",
    "    cfg['outputGoldStandard'], \n",
    "    f\"benchmarkingGS_v{logVersions['otherGoldStandard']['benchmarkingGS']}_similarityMeasure_v{logVersions['featuresEngineering']['similarityMeasure']}.pkl\"\n",
    ")\n",
    "print(export_path)\n",
    "\n",
    "with open(export_path, 'wb') as f:\n",
    "    pkl.dump(to_export, f, protocol=pkl.HIGHEST_PROTOCOL)"
   ]
  },
  {
   "cell_type": "code",
   "execution_count": 91,
   "metadata": {
    "execution": {
     "iopub.execute_input": "2022-02-02T10:12:39.699718Z",
     "iopub.status.busy": "2022-02-02T10:12:39.699028Z",
     "iopub.status.idle": "2022-02-02T10:12:39.841498Z",
     "shell.execute_reply": "2022-02-02T10:12:39.840959Z",
     "shell.execute_reply.started": "2022-02-02T10:12:39.699455Z"
    }
   },
   "outputs": [
    {
     "name": "stdout",
     "output_type": "stream",
     "text": [
      "/rds/user/ll582/hpc-work/PPIdata/output/3_goldStandard/benchmarkingGS_v1-0_similarityMeasure_sequence_v3-1.pkl\n"
     ]
    }
   ],
   "source": [
    "to_export = GS_SM_seq\n",
    "\n",
    "export_path = os.path.join(\n",
    "    cfg['outputGoldStandard'], \n",
    "    f\"benchmarkingGS_v{logVersions['otherGoldStandard']['benchmarkingGS']}_similarityMeasure_sequence_v{logVersions['featuresEngineering']['similarityMeasure']}.pkl\"\n",
    ")\n",
    "print(export_path)\n",
    "\n",
    "with open(export_path, 'wb') as f:\n",
    "    pkl.dump(to_export, f, protocol=pkl.HIGHEST_PROTOCOL)"
   ]
  },
  {
   "cell_type": "markdown",
   "metadata": {},
   "source": [
    "---\n",
    "**Export as csv**"
   ]
  },
  {
   "cell_type": "code",
   "execution_count": 92,
   "metadata": {
    "execution": {
     "iopub.execute_input": "2022-02-02T10:12:41.682952Z",
     "iopub.status.busy": "2022-02-02T10:12:41.682241Z",
     "iopub.status.idle": "2022-02-02T10:12:42.008178Z",
     "shell.execute_reply": "2022-02-02T10:12:42.007592Z",
     "shell.execute_reply.started": "2022-02-02T10:12:41.682677Z"
    }
   },
   "outputs": [
    {
     "name": "stdout",
     "output_type": "stream",
     "text": [
      "/rds/user/ll582/hpc-work/PPIdata/output/3_goldStandard/benchmarkingGS_v1-0.csv\n"
     ]
    }
   ],
   "source": [
    "to_export = GS\n",
    "\n",
    "export_path = os.path.join(\n",
    "    cfg['outputGoldStandard'], \n",
    "    f\"benchmarkingGS_v{logVersions['otherGoldStandard']['benchmarkingGS']}.csv\"\n",
    ")\n",
    "print(export_path)\n",
    "\n",
    "to_export.to_csv(export_path, sep='|', index=False)"
   ]
  },
  {
   "cell_type": "code",
   "execution_count": 93,
   "metadata": {
    "execution": {
     "iopub.execute_input": "2022-02-02T10:12:43.993353Z",
     "iopub.status.busy": "2022-02-02T10:12:43.992624Z",
     "iopub.status.idle": "2022-02-02T10:12:46.302575Z",
     "shell.execute_reply": "2022-02-02T10:12:46.301987Z",
     "shell.execute_reply.started": "2022-02-02T10:12:43.993051Z"
    }
   },
   "outputs": [
    {
     "name": "stdout",
     "output_type": "stream",
     "text": [
      "/rds/user/ll582/hpc-work/PPIdata/output/3_goldStandard/benchmarkingGS_v1-0_similarityMeasure_v3-1.csv\n"
     ]
    }
   ],
   "source": [
    "to_export = GS_SM\n",
    "\n",
    "export_path = os.path.join(\n",
    "    cfg['outputGoldStandard'], \n",
    "    f\"benchmarkingGS_v{logVersions['otherGoldStandard']['benchmarkingGS']}_similarityMeasure_v{logVersions['featuresEngineering']['similarityMeasure']}.csv\"\n",
    ")\n",
    "print(export_path)\n",
    "\n",
    "to_export.to_csv(export_path, sep='|', index=False)"
   ]
  },
  {
   "cell_type": "code",
   "execution_count": 94,
   "metadata": {
    "execution": {
     "iopub.execute_input": "2022-02-02T10:12:46.303702Z",
     "iopub.status.busy": "2022-02-02T10:12:46.303535Z",
     "iopub.status.idle": "2022-02-02T10:12:53.157927Z",
     "shell.execute_reply": "2022-02-02T10:12:53.156840Z",
     "shell.execute_reply.started": "2022-02-02T10:12:46.303678Z"
    }
   },
   "outputs": [
    {
     "name": "stdout",
     "output_type": "stream",
     "text": [
      "/rds/user/ll582/hpc-work/PPIdata/output/3_goldStandard/benchmarkingGS_v1-0_similarityMeasure_sequence_v3-1.csv\n"
     ]
    }
   ],
   "source": [
    "to_export = GS_SM_seq\n",
    "\n",
    "export_path = os.path.join(\n",
    "    cfg['outputGoldStandard'], \n",
    "    f\"benchmarkingGS_v{logVersions['otherGoldStandard']['benchmarkingGS']}_similarityMeasure_sequence_v{logVersions['featuresEngineering']['similarityMeasure']}.csv\"\n",
    ")\n",
    "print(export_path)\n",
    "\n",
    "to_export.to_csv(export_path, sep='|', index=False)"
   ]
  },
  {
   "cell_type": "markdown",
   "metadata": {},
   "source": [
    "# Alternate test set with weighting sampling for Hubs investigation"
   ]
  },
  {
   "cell_type": "markdown",
   "metadata": {},
   "source": [
    "- PPI_final already done, just need to aggregate `test1` and `test2`\n",
    "- NIPs_train already done\n",
    "- NIPs_test to be done"
   ]
  },
  {
   "cell_type": "markdown",
   "metadata": {},
   "source": [
    "## Select alternative test set"
   ]
  },
  {
   "cell_type": "markdown",
   "metadata": {},
   "source": [
    "----\n",
    "**Group `test1` and `test2`**"
   ]
  },
  {
   "cell_type": "code",
   "execution_count": 95,
   "metadata": {
    "execution": {
     "iopub.execute_input": "2022-02-02T10:13:11.899132Z",
     "iopub.status.busy": "2022-02-02T10:13:11.898377Z",
     "iopub.status.idle": "2022-02-02T10:13:11.916874Z",
     "shell.execute_reply": "2022-02-02T10:13:11.916309Z",
     "shell.execute_reply.started": "2022-02-02T10:13:11.898846Z"
    }
   },
   "outputs": [
    {
     "name": "stdout",
     "output_type": "stream",
     "text": [
      "DataFrame: 78,229 rows \t 4 columns\n"
     ]
    },
    {
     "data": {
      "text/html": [
       "<div>\n",
       "<style scoped>\n",
       "    .dataframe tbody tr th:only-of-type {\n",
       "        vertical-align: middle;\n",
       "    }\n",
       "\n",
       "    .dataframe tbody tr th {\n",
       "        vertical-align: top;\n",
       "    }\n",
       "\n",
       "    .dataframe thead th {\n",
       "        text-align: right;\n",
       "    }\n",
       "</style>\n",
       "<table border=\"1\" class=\"dataframe\">\n",
       "  <thead>\n",
       "    <tr style=\"text-align: right;\">\n",
       "      <th></th>\n",
       "      <th>uniprotID_A</th>\n",
       "      <th>uniprotID_B</th>\n",
       "      <th>isInteraction</th>\n",
       "      <th>trainTest</th>\n",
       "    </tr>\n",
       "  </thead>\n",
       "  <tbody>\n",
       "    <tr>\n",
       "      <th>0</th>\n",
       "      <td>P28223</td>\n",
       "      <td>P41595</td>\n",
       "      <td>1</td>\n",
       "      <td>test2</td>\n",
       "    </tr>\n",
       "    <tr>\n",
       "      <th>1</th>\n",
       "      <td>O00161</td>\n",
       "      <td>P56962</td>\n",
       "      <td>1</td>\n",
       "      <td>train</td>\n",
       "    </tr>\n",
       "    <tr>\n",
       "      <th>2</th>\n",
       "      <td>P82979</td>\n",
       "      <td>Q01081</td>\n",
       "      <td>1</td>\n",
       "      <td>train</td>\n",
       "    </tr>\n",
       "    <tr>\n",
       "      <th>3</th>\n",
       "      <td>O60678</td>\n",
       "      <td>Q14524</td>\n",
       "      <td>1</td>\n",
       "      <td>train</td>\n",
       "    </tr>\n",
       "    <tr>\n",
       "      <th>4</th>\n",
       "      <td>P10275</td>\n",
       "      <td>Q15648</td>\n",
       "      <td>1</td>\n",
       "      <td>train</td>\n",
       "    </tr>\n",
       "  </tbody>\n",
       "</table>\n",
       "</div>"
      ],
      "text/plain": [
       "  uniprotID_A uniprotID_B  isInteraction trainTest\n",
       "0      P28223      P41595              1     test2\n",
       "1      O00161      P56962              1     train\n",
       "2      P82979      Q01081              1     train\n",
       "3      O60678      Q14524              1     train\n",
       "4      P10275      Q15648              1     train"
      ]
     },
     "metadata": {},
     "output_type": "display_data"
    }
   ],
   "source": [
    "PPI_alt = PPI_final.copy()\n",
    "glance(PPI_alt)"
   ]
  },
  {
   "cell_type": "code",
   "execution_count": 96,
   "metadata": {
    "execution": {
     "iopub.execute_input": "2022-02-02T10:13:12.432197Z",
     "iopub.status.busy": "2022-02-02T10:13:12.431510Z",
     "iopub.status.idle": "2022-02-02T10:13:12.448661Z",
     "shell.execute_reply": "2022-02-02T10:13:12.448075Z",
     "shell.execute_reply.started": "2022-02-02T10:13:12.431919Z"
    }
   },
   "outputs": [],
   "source": [
    "PPI_alt.loc[PPI_alt.trainTest != 'train','trainTest'] = 'test'"
   ]
  },
  {
   "cell_type": "code",
   "execution_count": 97,
   "metadata": {
    "execution": {
     "iopub.execute_input": "2022-02-02T10:13:13.649017Z",
     "iopub.status.busy": "2022-02-02T10:13:13.648329Z",
     "iopub.status.idle": "2022-02-02T10:13:13.691081Z",
     "shell.execute_reply": "2022-02-02T10:13:13.690516Z",
     "shell.execute_reply.started": "2022-02-02T10:13:13.648738Z"
    }
   },
   "outputs": [],
   "source": [
    "# Sanity checks\n",
    "assert PPI_final.trainTest.value_counts()['train'] == PPI_alt.trainTest.value_counts()['train']\n",
    "assert (PPI_final.trainTest.value_counts()['test1']+PPI_final.trainTest.value_counts()['test2']) == PPI_alt.trainTest.value_counts()['test']"
   ]
  },
  {
   "cell_type": "markdown",
   "metadata": {},
   "source": [
    "---\n",
    "**Sample NIPs for test**"
   ]
  },
  {
   "cell_type": "code",
   "execution_count": 98,
   "metadata": {
    "execution": {
     "iopub.execute_input": "2022-02-02T10:13:14.387152Z",
     "iopub.status.busy": "2022-02-02T10:13:14.386497Z",
     "iopub.status.idle": "2022-02-02T10:13:14.741581Z",
     "shell.execute_reply": "2022-02-02T10:13:14.740975Z",
     "shell.execute_reply.started": "2022-02-02T10:13:14.386913Z"
    }
   },
   "outputs": [
    {
     "name": "stdout",
     "output_type": "stream",
     "text": [
      "Removed 33 self-interactions\n",
      "Removed 857 duplicates\n",
      "Removed 996 known false negatives\n",
      "Removed 309 based on other ref dataset\n",
      "Final number of interactions: 24,898\n",
      "\n",
      "DataFrame: 24,898 rows \t 4 columns\n"
     ]
    },
    {
     "data": {
      "text/html": [
       "<div>\n",
       "<style scoped>\n",
       "    .dataframe tbody tr th:only-of-type {\n",
       "        vertical-align: middle;\n",
       "    }\n",
       "\n",
       "    .dataframe tbody tr th {\n",
       "        vertical-align: top;\n",
       "    }\n",
       "\n",
       "    .dataframe thead th {\n",
       "        text-align: right;\n",
       "    }\n",
       "</style>\n",
       "<table border=\"1\" class=\"dataframe\">\n",
       "  <thead>\n",
       "    <tr style=\"text-align: right;\">\n",
       "      <th></th>\n",
       "      <th>uniprotID_A</th>\n",
       "      <th>uniprotID_B</th>\n",
       "      <th>isInteraction</th>\n",
       "      <th>trainTest</th>\n",
       "    </tr>\n",
       "  </thead>\n",
       "  <tbody>\n",
       "    <tr>\n",
       "      <th>0</th>\n",
       "      <td>Q14957</td>\n",
       "      <td>Q9NWQ9</td>\n",
       "      <td>0</td>\n",
       "      <td>test</td>\n",
       "    </tr>\n",
       "    <tr>\n",
       "      <th>1</th>\n",
       "      <td>P01112</td>\n",
       "      <td>Q9NRD5</td>\n",
       "      <td>0</td>\n",
       "      <td>test</td>\n",
       "    </tr>\n",
       "    <tr>\n",
       "      <th>2</th>\n",
       "      <td>O75716</td>\n",
       "      <td>Q99932</td>\n",
       "      <td>0</td>\n",
       "      <td>test</td>\n",
       "    </tr>\n",
       "    <tr>\n",
       "      <th>3</th>\n",
       "      <td>Q2TAK8</td>\n",
       "      <td>Q701N4</td>\n",
       "      <td>0</td>\n",
       "      <td>test</td>\n",
       "    </tr>\n",
       "    <tr>\n",
       "      <th>4</th>\n",
       "      <td>Q8NBZ0</td>\n",
       "      <td>Q99633</td>\n",
       "      <td>0</td>\n",
       "      <td>test</td>\n",
       "    </tr>\n",
       "  </tbody>\n",
       "</table>\n",
       "</div>"
      ],
      "text/plain": [
       "  uniprotID_A uniprotID_B  isInteraction trainTest\n",
       "0      Q14957      Q9NWQ9              0      test\n",
       "1      P01112      Q9NRD5              0      test\n",
       "2      O75716      Q99932              0      test\n",
       "3      Q2TAK8      Q701N4              0      test\n",
       "4      Q8NBZ0      Q99633              0      test"
      ]
     },
     "metadata": {},
     "output_type": "display_data"
    }
   ],
   "source": [
    "PPI_test_alt = PPI_alt.loc[PPI_alt.trainTest == 'test']\n",
    "allIDs_PPI_test_alt = pd.concat([PPI_test_alt.uniprotID_A,PPI_test_alt.uniprotID_B])\n",
    "\n",
    "NIPs_test_alt = sampleNIPs(\n",
    "    IDs2sample=allIDs_PPI_test_alt.to_list(), \n",
    "    seed=seed_GS+100, \n",
    "    targetSampleSize=len(PPI_test_alt), \n",
    "    referenceIntAct=intact_all,\n",
    "    otherRefDf=NIPs_train[['uniprotID_A','uniprotID_B']]\n",
    ")\n",
    "\n",
    "NIPs_test_alt['isInteraction'] = 0\n",
    "NIPs_test_alt['trainTest'] = 'test'\n",
    "\n",
    "print()\n",
    "glance(NIPs_test_alt)"
   ]
  },
  {
   "cell_type": "markdown",
   "metadata": {},
   "source": [
    "---\n",
    "**Aggregate `GS_alt`**"
   ]
  },
  {
   "cell_type": "code",
   "execution_count": 99,
   "metadata": {
    "execution": {
     "iopub.execute_input": "2022-02-02T10:13:15.451801Z",
     "iopub.status.busy": "2022-02-02T10:13:15.451094Z",
     "iopub.status.idle": "2022-02-02T10:13:15.484052Z",
     "shell.execute_reply": "2022-02-02T10:13:15.483552Z",
     "shell.execute_reply.started": "2022-02-02T10:13:15.451523Z"
    }
   },
   "outputs": [
    {
     "name": "stdout",
     "output_type": "stream",
     "text": [
      "DataFrame: 156,458 rows \t 4 columns\n"
     ]
    },
    {
     "data": {
      "text/html": [
       "<div>\n",
       "<style scoped>\n",
       "    .dataframe tbody tr th:only-of-type {\n",
       "        vertical-align: middle;\n",
       "    }\n",
       "\n",
       "    .dataframe tbody tr th {\n",
       "        vertical-align: top;\n",
       "    }\n",
       "\n",
       "    .dataframe thead th {\n",
       "        text-align: right;\n",
       "    }\n",
       "</style>\n",
       "<table border=\"1\" class=\"dataframe\">\n",
       "  <thead>\n",
       "    <tr style=\"text-align: right;\">\n",
       "      <th></th>\n",
       "      <th>uniprotID_A</th>\n",
       "      <th>uniprotID_B</th>\n",
       "      <th>isInteraction</th>\n",
       "      <th>trainTest</th>\n",
       "    </tr>\n",
       "  </thead>\n",
       "  <tbody>\n",
       "    <tr>\n",
       "      <th>0</th>\n",
       "      <td>P28223</td>\n",
       "      <td>P41595</td>\n",
       "      <td>1</td>\n",
       "      <td>test</td>\n",
       "    </tr>\n",
       "    <tr>\n",
       "      <th>1</th>\n",
       "      <td>O00161</td>\n",
       "      <td>P56962</td>\n",
       "      <td>1</td>\n",
       "      <td>train</td>\n",
       "    </tr>\n",
       "    <tr>\n",
       "      <th>2</th>\n",
       "      <td>P82979</td>\n",
       "      <td>Q01081</td>\n",
       "      <td>1</td>\n",
       "      <td>train</td>\n",
       "    </tr>\n",
       "    <tr>\n",
       "      <th>3</th>\n",
       "      <td>O60678</td>\n",
       "      <td>Q14524</td>\n",
       "      <td>1</td>\n",
       "      <td>train</td>\n",
       "    </tr>\n",
       "    <tr>\n",
       "      <th>4</th>\n",
       "      <td>P10275</td>\n",
       "      <td>Q15648</td>\n",
       "      <td>1</td>\n",
       "      <td>train</td>\n",
       "    </tr>\n",
       "  </tbody>\n",
       "</table>\n",
       "</div>"
      ],
      "text/plain": [
       "  uniprotID_A uniprotID_B  isInteraction trainTest\n",
       "0      P28223      P41595              1      test\n",
       "1      O00161      P56962              1     train\n",
       "2      P82979      Q01081              1     train\n",
       "3      O60678      Q14524              1     train\n",
       "4      P10275      Q15648              1     train"
      ]
     },
     "metadata": {},
     "output_type": "display_data"
    }
   ],
   "source": [
    "GS_alt = PPI_alt.append(NIPs_train).append(NIPs_test_alt)\n",
    "glance(GS_alt)"
   ]
  },
  {
   "cell_type": "code",
   "execution_count": 100,
   "metadata": {
    "execution": {
     "iopub.execute_input": "2022-02-02T10:13:15.850122Z",
     "iopub.status.busy": "2022-02-02T10:13:15.849438Z",
     "iopub.status.idle": "2022-02-02T10:13:15.889886Z",
     "shell.execute_reply": "2022-02-02T10:13:15.889344Z",
     "shell.execute_reply.started": "2022-02-02T10:13:15.849849Z"
    }
   },
   "outputs": [],
   "source": [
    "## Sanity checks\n",
    "\n",
    "assert len(GS_alt.loc[GS_alt.duplicated(subset=['uniprotID_A','uniprotID_B'], keep=False)]) == 0"
   ]
  },
  {
   "cell_type": "markdown",
   "metadata": {},
   "source": [
    "---\n",
    "**EDA**"
   ]
  },
  {
   "cell_type": "code",
   "execution_count": 101,
   "metadata": {
    "execution": {
     "iopub.execute_input": "2022-02-02T10:13:16.612619Z",
     "iopub.status.busy": "2022-02-02T10:13:16.611904Z",
     "iopub.status.idle": "2022-02-02T10:13:16.736105Z",
     "shell.execute_reply": "2022-02-02T10:13:16.735557Z",
     "shell.execute_reply.started": "2022-02-02T10:13:16.612347Z"
    },
    "scrolled": true
   },
   "outputs": [
    {
     "name": "stdout",
     "output_type": "stream",
     "text": [
      "## Test\n",
      "\n",
      "49,796 interactions (50.00% positive)\n",
      "\n",
      "Hub status:\n",
      "- 27,580 hub-hub interactions (55.39% - 50.69% positive)\n",
      "- 19,205 hub-lone interactions (38.57% - 49.70% positive)\n",
      "- 3,011 lone-lone interactions (6.05% - 45.67% positive)\n",
      "\n",
      "Overlap with train:\n",
      "- 14,039 total overlap with train, both proteins already seen (28.19% - 40.41% positive)\n",
      "- 29,725 partial overal, only one protein seen (59.69% - 58.81% positive)\n",
      "- 6,032 no overlap (12.11% - 28.93% positive)\n",
      "\n",
      "### Positive only ###\n",
      "\n",
      "Hub status:\n",
      "- 13,979 hub-hub interactions (56.15% - 100.00% positive)\n",
      "- 9,544 hub-lone interactions (38.33% - 100.00% positive)\n",
      "- 1,375 lone-lone interactions (5.52% - 100.00% positive)\n",
      "\n",
      "Overlap with train:\n",
      "- 5,673 total overlap with train, both proteins already seen (22.78% - 100.00% positive)\n",
      "- 17,480 partial overal, only one protein seen (70.21% - 100.00% positive)\n",
      "- 1,745 no overlap (7.01% - 100.00% positive)\n",
      "\n",
      "### Negative only ###\n",
      "\n",
      "Hub status:\n",
      "- 13,601 hub-hub interactions (54.63% - 0.00% positive)\n",
      "- 9,661 hub-lone interactions (38.80% - 0.00% positive)\n",
      "- 1,636 lone-lone interactions (6.57% - 0.00% positive)\n",
      "\n",
      "Overlap with train:\n",
      "- 8,366 total overlap with train, both proteins already seen (33.60% - 0.00% positive)\n",
      "- 12,245 partial overal, only one protein seen (49.18% - 0.00% positive)\n",
      "- 4,287 no overlap (17.22% - 0.00% positive)\n",
      "\n",
      "### Hub-Hub only ###\n",
      "\n",
      "Overlap with train:\n",
      "- 8,034 total overlap with train, both proteins already seen (29.13% - 41.11% positive)\n",
      "- 16,621 partial overal, only one protein seen (60.26% - 59.65% positive)\n",
      "- 2,925 no overlap (10.61% - 26.02% positive)\n",
      "\n",
      "### Hub-Lone only ###\n",
      "\n",
      "Overlap with train:\n",
      "- 5,270 total overlap with train, both proteins already seen (27.44% - 40.23% positive)\n",
      "- 11,360 partial overal, only one protein seen (59.15% - 58.35% positive)\n",
      "- 2,575 no overlap (13.41% - 30.91% positive)\n",
      "\n",
      "### Lone-Lone only ###\n",
      "\n",
      "Overlap with train:\n",
      "- 735 total overlap with train, both proteins already seen (24.41% - 34.01% positive)\n",
      "- 1,744 partial overal, only one protein seen (57.92% - 53.73% positive)\n",
      "- 532 no overlap (17.67% - 35.34% positive)\n",
      "\n",
      "### Complete overlap only ###\n",
      "\n",
      "Hub status:\n",
      "- 8,034 hub-hub interactions (57.23% - 41.11% positive)\n",
      "- 5,270 hub-lone interactions (37.54% - 40.23% positive)\n",
      "- 735 lone-lone interactions (5.24% - 34.01% positive)\n",
      "\n",
      "### Partial overlap only ###\n",
      "\n",
      "Hub status:\n",
      "- 16,621 hub-hub interactions (55.92% - 59.65% positive)\n",
      "- 11,360 hub-lone interactions (38.22% - 58.35% positive)\n",
      "- 1,744 lone-lone interactions (5.87% - 53.73% positive)\n",
      "\n",
      "### No overlap only ###\n",
      "\n",
      "Hub status:\n",
      "- 2,925 hub-hub interactions (48.49% - 26.02% positive)\n",
      "- 2,575 hub-lone interactions (42.69% - 30.91% positive)\n",
      "- 532 lone-lone interactions (8.82% - 35.34% positive)\n",
      "\n"
     ]
    }
   ],
   "source": [
    "print('## Test\\n')\n",
    "\n",
    "EDA_predSet(\n",
    "    GS_alt.loc[GS_alt.trainTest == 'test'],\n",
    "    list_hubs=list_hubs20,\n",
    "    trainSet = GS_alt.loc[GS_alt.trainTest == 'train'],\n",
    ")"
   ]
  },
  {
   "cell_type": "markdown",
   "metadata": {},
   "source": [
    "## Add Similarity Measures\n",
    "\n",
    "Requires 60GB of memory"
   ]
  },
  {
   "cell_type": "code",
   "execution_count": 102,
   "metadata": {
    "execution": {
     "iopub.execute_input": "2022-02-02T10:13:17.346230Z",
     "iopub.status.busy": "2022-02-02T10:13:17.345548Z",
     "iopub.status.idle": "2022-02-02T10:17:58.858871Z",
     "shell.execute_reply": "2022-02-02T10:17:58.857244Z",
     "shell.execute_reply.started": "2022-02-02T10:13:17.345959Z"
    }
   },
   "outputs": [
    {
     "name": "stdout",
     "output_type": "stream",
     "text": [
      "DataFrame: 156,458 rows \t 14 columns\n"
     ]
    },
    {
     "data": {
      "text/html": [
       "<div>\n",
       "<style scoped>\n",
       "    .dataframe tbody tr th:only-of-type {\n",
       "        vertical-align: middle;\n",
       "    }\n",
       "\n",
       "    .dataframe tbody tr th {\n",
       "        vertical-align: top;\n",
       "    }\n",
       "\n",
       "    .dataframe thead th {\n",
       "        text-align: right;\n",
       "    }\n",
       "</style>\n",
       "<table border=\"1\" class=\"dataframe\">\n",
       "  <thead>\n",
       "    <tr style=\"text-align: right;\">\n",
       "      <th></th>\n",
       "      <th>uniprotID_A</th>\n",
       "      <th>uniprotID_B</th>\n",
       "      <th>isInteraction</th>\n",
       "      <th>trainTest</th>\n",
       "      <th>RNAseqHPA</th>\n",
       "      <th>tissueHPA</th>\n",
       "      <th>tissueCellHPA</th>\n",
       "      <th>subcellularLocationHPA</th>\n",
       "      <th>bioProcessUniprot</th>\n",
       "      <th>cellCompUniprot</th>\n",
       "      <th>molFuncUniprot</th>\n",
       "      <th>domainUniprot</th>\n",
       "      <th>motifUniprot</th>\n",
       "      <th>Bgee</th>\n",
       "    </tr>\n",
       "  </thead>\n",
       "  <tbody>\n",
       "    <tr>\n",
       "      <th>0</th>\n",
       "      <td>P28223</td>\n",
       "      <td>P41595</td>\n",
       "      <td>1</td>\n",
       "      <td>test</td>\n",
       "      <td>0.160188</td>\n",
       "      <td>-0.449930</td>\n",
       "      <td>-0.060381</td>\n",
       "      <td>NaN</td>\n",
       "      <td>0.400892</td>\n",
       "      <td>0.404061</td>\n",
       "      <td>0.680414</td>\n",
       "      <td>0.0</td>\n",
       "      <td>0.790569</td>\n",
       "      <td>0.422078</td>\n",
       "    </tr>\n",
       "    <tr>\n",
       "      <th>1</th>\n",
       "      <td>O00161</td>\n",
       "      <td>P56962</td>\n",
       "      <td>1</td>\n",
       "      <td>train</td>\n",
       "      <td>0.825131</td>\n",
       "      <td>0.851690</td>\n",
       "      <td>0.675880</td>\n",
       "      <td>0.0</td>\n",
       "      <td>0.190693</td>\n",
       "      <td>0.200000</td>\n",
       "      <td>0.353553</td>\n",
       "      <td>0.0</td>\n",
       "      <td>0.000000</td>\n",
       "      <td>0.922975</td>\n",
       "    </tr>\n",
       "    <tr>\n",
       "      <th>2</th>\n",
       "      <td>P82979</td>\n",
       "      <td>Q01081</td>\n",
       "      <td>1</td>\n",
       "      <td>train</td>\n",
       "      <td>0.930790</td>\n",
       "      <td>0.954869</td>\n",
       "      <td>0.911887</td>\n",
       "      <td>0.0</td>\n",
       "      <td>0.547723</td>\n",
       "      <td>0.365148</td>\n",
       "      <td>0.408248</td>\n",
       "      <td>0.0</td>\n",
       "      <td>0.000000</td>\n",
       "      <td>NaN</td>\n",
       "    </tr>\n",
       "    <tr>\n",
       "      <th>3</th>\n",
       "      <td>O60678</td>\n",
       "      <td>Q14524</td>\n",
       "      <td>1</td>\n",
       "      <td>train</td>\n",
       "      <td>0.219384</td>\n",
       "      <td>NaN</td>\n",
       "      <td>NaN</td>\n",
       "      <td>NaN</td>\n",
       "      <td>0.000000</td>\n",
       "      <td>0.000000</td>\n",
       "      <td>0.000000</td>\n",
       "      <td>0.0</td>\n",
       "      <td>0.000000</td>\n",
       "      <td>NaN</td>\n",
       "    </tr>\n",
       "    <tr>\n",
       "      <th>4</th>\n",
       "      <td>P10275</td>\n",
       "      <td>Q15648</td>\n",
       "      <td>1</td>\n",
       "      <td>train</td>\n",
       "      <td>0.500558</td>\n",
       "      <td>-0.311704</td>\n",
       "      <td>-0.371061</td>\n",
       "      <td>0.0</td>\n",
       "      <td>0.169811</td>\n",
       "      <td>0.375000</td>\n",
       "      <td>0.157895</td>\n",
       "      <td>0.0</td>\n",
       "      <td>0.000000</td>\n",
       "      <td>NaN</td>\n",
       "    </tr>\n",
       "  </tbody>\n",
       "</table>\n",
       "</div>"
      ],
      "text/plain": [
       "  uniprotID_A uniprotID_B  isInteraction trainTest  RNAseqHPA  tissueHPA  \\\n",
       "0      P28223      P41595              1      test   0.160188  -0.449930   \n",
       "1      O00161      P56962              1     train   0.825131   0.851690   \n",
       "2      P82979      Q01081              1     train   0.930790   0.954869   \n",
       "3      O60678      Q14524              1     train   0.219384        NaN   \n",
       "4      P10275      Q15648              1     train   0.500558  -0.311704   \n",
       "\n",
       "   tissueCellHPA  subcellularLocationHPA  bioProcessUniprot  cellCompUniprot  \\\n",
       "0      -0.060381                     NaN           0.400892         0.404061   \n",
       "1       0.675880                     0.0           0.190693         0.200000   \n",
       "2       0.911887                     0.0           0.547723         0.365148   \n",
       "3            NaN                     NaN           0.000000         0.000000   \n",
       "4      -0.371061                     0.0           0.169811         0.375000   \n",
       "\n",
       "   molFuncUniprot  domainUniprot  motifUniprot      Bgee  \n",
       "0        0.680414            0.0      0.790569  0.422078  \n",
       "1        0.353553            0.0      0.000000  0.922975  \n",
       "2        0.408248            0.0      0.000000       NaN  \n",
       "3        0.000000            0.0      0.000000       NaN  \n",
       "4        0.157895            0.0      0.000000       NaN  "
      ]
     },
     "metadata": {},
     "output_type": "display_data"
    },
    {
     "name": "stdout",
     "output_type": "stream",
     "text": [
      "success\n"
     ]
    }
   ],
   "source": [
    "to_enrich = GS_alt\n",
    "\n",
    "GS_SM_alt = AddSimilarityMeasures(to_enrich, cfg=cfg, logVersions=logVersions)\n",
    "glance(GS_SM_alt)\n",
    "\n",
    "print(\"success\")"
   ]
  },
  {
   "cell_type": "markdown",
   "metadata": {},
   "source": [
    "## Add sequence"
   ]
  },
  {
   "cell_type": "code",
   "execution_count": 103,
   "metadata": {
    "execution": {
     "iopub.execute_input": "2022-02-02T10:21:32.918741Z",
     "iopub.status.busy": "2022-02-02T10:21:32.917996Z",
     "iopub.status.idle": "2022-02-02T10:21:32.941115Z",
     "shell.execute_reply": "2022-02-02T10:21:32.940654Z",
     "shell.execute_reply.started": "2022-02-02T10:21:32.918477Z"
    }
   },
   "outputs": [
    {
     "name": "stdout",
     "output_type": "stream",
     "text": [
      "DataFrame: 156,458 rows \t 14 columns\n"
     ]
    },
    {
     "data": {
      "text/html": [
       "<div>\n",
       "<style scoped>\n",
       "    .dataframe tbody tr th:only-of-type {\n",
       "        vertical-align: middle;\n",
       "    }\n",
       "\n",
       "    .dataframe tbody tr th {\n",
       "        vertical-align: top;\n",
       "    }\n",
       "\n",
       "    .dataframe thead th {\n",
       "        text-align: right;\n",
       "    }\n",
       "</style>\n",
       "<table border=\"1\" class=\"dataframe\">\n",
       "  <thead>\n",
       "    <tr style=\"text-align: right;\">\n",
       "      <th></th>\n",
       "      <th>uniprotID_A</th>\n",
       "      <th>uniprotID_B</th>\n",
       "      <th>isInteraction</th>\n",
       "      <th>trainTest</th>\n",
       "      <th>RNAseqHPA</th>\n",
       "      <th>tissueHPA</th>\n",
       "      <th>tissueCellHPA</th>\n",
       "      <th>subcellularLocationHPA</th>\n",
       "      <th>bioProcessUniprot</th>\n",
       "      <th>cellCompUniprot</th>\n",
       "      <th>molFuncUniprot</th>\n",
       "      <th>domainUniprot</th>\n",
       "      <th>motifUniprot</th>\n",
       "      <th>Bgee</th>\n",
       "    </tr>\n",
       "  </thead>\n",
       "  <tbody>\n",
       "    <tr>\n",
       "      <th>0</th>\n",
       "      <td>P28223</td>\n",
       "      <td>P41595</td>\n",
       "      <td>1</td>\n",
       "      <td>test</td>\n",
       "      <td>0.160188</td>\n",
       "      <td>-0.449930</td>\n",
       "      <td>-0.060381</td>\n",
       "      <td>NaN</td>\n",
       "      <td>0.400892</td>\n",
       "      <td>0.404061</td>\n",
       "      <td>0.680414</td>\n",
       "      <td>0.0</td>\n",
       "      <td>0.790569</td>\n",
       "      <td>0.422078</td>\n",
       "    </tr>\n",
       "    <tr>\n",
       "      <th>1</th>\n",
       "      <td>O00161</td>\n",
       "      <td>P56962</td>\n",
       "      <td>1</td>\n",
       "      <td>train</td>\n",
       "      <td>0.825131</td>\n",
       "      <td>0.851690</td>\n",
       "      <td>0.675880</td>\n",
       "      <td>0.0</td>\n",
       "      <td>0.190693</td>\n",
       "      <td>0.200000</td>\n",
       "      <td>0.353553</td>\n",
       "      <td>0.0</td>\n",
       "      <td>0.000000</td>\n",
       "      <td>0.922975</td>\n",
       "    </tr>\n",
       "    <tr>\n",
       "      <th>2</th>\n",
       "      <td>P82979</td>\n",
       "      <td>Q01081</td>\n",
       "      <td>1</td>\n",
       "      <td>train</td>\n",
       "      <td>0.930790</td>\n",
       "      <td>0.954869</td>\n",
       "      <td>0.911887</td>\n",
       "      <td>0.0</td>\n",
       "      <td>0.547723</td>\n",
       "      <td>0.365148</td>\n",
       "      <td>0.408248</td>\n",
       "      <td>0.0</td>\n",
       "      <td>0.000000</td>\n",
       "      <td>NaN</td>\n",
       "    </tr>\n",
       "    <tr>\n",
       "      <th>3</th>\n",
       "      <td>O60678</td>\n",
       "      <td>Q14524</td>\n",
       "      <td>1</td>\n",
       "      <td>train</td>\n",
       "      <td>0.219384</td>\n",
       "      <td>NaN</td>\n",
       "      <td>NaN</td>\n",
       "      <td>NaN</td>\n",
       "      <td>0.000000</td>\n",
       "      <td>0.000000</td>\n",
       "      <td>0.000000</td>\n",
       "      <td>0.0</td>\n",
       "      <td>0.000000</td>\n",
       "      <td>NaN</td>\n",
       "    </tr>\n",
       "    <tr>\n",
       "      <th>4</th>\n",
       "      <td>P10275</td>\n",
       "      <td>Q15648</td>\n",
       "      <td>1</td>\n",
       "      <td>train</td>\n",
       "      <td>0.500558</td>\n",
       "      <td>-0.311704</td>\n",
       "      <td>-0.371061</td>\n",
       "      <td>0.0</td>\n",
       "      <td>0.169811</td>\n",
       "      <td>0.375000</td>\n",
       "      <td>0.157895</td>\n",
       "      <td>0.0</td>\n",
       "      <td>0.000000</td>\n",
       "      <td>NaN</td>\n",
       "    </tr>\n",
       "  </tbody>\n",
       "</table>\n",
       "</div>"
      ],
      "text/plain": [
       "  uniprotID_A uniprotID_B  isInteraction trainTest  RNAseqHPA  tissueHPA  \\\n",
       "0      P28223      P41595              1      test   0.160188  -0.449930   \n",
       "1      O00161      P56962              1     train   0.825131   0.851690   \n",
       "2      P82979      Q01081              1     train   0.930790   0.954869   \n",
       "3      O60678      Q14524              1     train   0.219384        NaN   \n",
       "4      P10275      Q15648              1     train   0.500558  -0.311704   \n",
       "\n",
       "   tissueCellHPA  subcellularLocationHPA  bioProcessUniprot  cellCompUniprot  \\\n",
       "0      -0.060381                     NaN           0.400892         0.404061   \n",
       "1       0.675880                     0.0           0.190693         0.200000   \n",
       "2       0.911887                     0.0           0.547723         0.365148   \n",
       "3            NaN                     NaN           0.000000         0.000000   \n",
       "4      -0.371061                     0.0           0.169811         0.375000   \n",
       "\n",
       "   molFuncUniprot  domainUniprot  motifUniprot      Bgee  \n",
       "0        0.680414            0.0      0.790569  0.422078  \n",
       "1        0.353553            0.0      0.000000  0.922975  \n",
       "2        0.408248            0.0      0.000000       NaN  \n",
       "3        0.000000            0.0      0.000000       NaN  \n",
       "4        0.157895            0.0      0.000000       NaN  "
      ]
     },
     "metadata": {},
     "output_type": "display_data"
    }
   ],
   "source": [
    "glance(GS_SM_alt)"
   ]
  },
  {
   "cell_type": "code",
   "execution_count": 104,
   "metadata": {
    "execution": {
     "iopub.execute_input": "2022-02-02T10:21:35.236203Z",
     "iopub.status.busy": "2022-02-02T10:21:35.235494Z",
     "iopub.status.idle": "2022-02-02T10:21:35.302338Z",
     "shell.execute_reply": "2022-02-02T10:21:35.301841Z",
     "shell.execute_reply.started": "2022-02-02T10:21:35.235936Z"
    }
   },
   "outputs": [
    {
     "name": "stdout",
     "output_type": "stream",
     "text": [
      "DataFrame: 20,386 rows \t 2 columns\n"
     ]
    },
    {
     "data": {
      "text/html": [
       "<div>\n",
       "<style scoped>\n",
       "    .dataframe tbody tr th:only-of-type {\n",
       "        vertical-align: middle;\n",
       "    }\n",
       "\n",
       "    .dataframe tbody tr th {\n",
       "        vertical-align: top;\n",
       "    }\n",
       "\n",
       "    .dataframe thead th {\n",
       "        text-align: right;\n",
       "    }\n",
       "</style>\n",
       "<table border=\"1\" class=\"dataframe\">\n",
       "  <thead>\n",
       "    <tr style=\"text-align: right;\">\n",
       "      <th></th>\n",
       "      <th>uniprotID</th>\n",
       "      <th>sequence</th>\n",
       "    </tr>\n",
       "  </thead>\n",
       "  <tbody>\n",
       "    <tr>\n",
       "      <th>0</th>\n",
       "      <td>A0A024RBG1</td>\n",
       "      <td>MMKFKPNQTRTYDREGFKKRAACLCFRSEQEDEVLLVSSSRYPDQW...</td>\n",
       "    </tr>\n",
       "    <tr>\n",
       "      <th>1</th>\n",
       "      <td>A0A075B6H7</td>\n",
       "      <td>MEAPAQLLFLLLLWLPDTTREIVMTQSPPTLSLSPGERVTLSCRAS...</td>\n",
       "    </tr>\n",
       "    <tr>\n",
       "      <th>2</th>\n",
       "      <td>A0A075B6H8</td>\n",
       "      <td>MDMRVPAQLLGLLLLWLPGVRFDIQMTQSPSFLSASVGDRVSIICW...</td>\n",
       "    </tr>\n",
       "    <tr>\n",
       "      <th>3</th>\n",
       "      <td>A0A075B6H9</td>\n",
       "      <td>MAWTPLLFLTLLLHCTGSLSQLVLTQSPSASASLGASVKLTCTLSS...</td>\n",
       "    </tr>\n",
       "    <tr>\n",
       "      <th>4</th>\n",
       "      <td>A0A075B6I0</td>\n",
       "      <td>MSVPTMAWMMLLLGLLAYGSGVDSQTVVTQEPSFSVSPGGTVTLTC...</td>\n",
       "    </tr>\n",
       "  </tbody>\n",
       "</table>\n",
       "</div>"
      ],
      "text/plain": [
       "    uniprotID                                           sequence\n",
       "0  A0A024RBG1  MMKFKPNQTRTYDREGFKKRAACLCFRSEQEDEVLLVSSSRYPDQW...\n",
       "1  A0A075B6H7  MEAPAQLLFLLLLWLPDTTREIVMTQSPPTLSLSPGERVTLSCRAS...\n",
       "2  A0A075B6H8  MDMRVPAQLLGLLLLWLPGVRFDIQMTQSPSFLSASVGDRVSIICW...\n",
       "3  A0A075B6H9  MAWTPLLFLTLLLHCTGSLSQLVLTQSPSASASLGASVKLTCTLSS...\n",
       "4  A0A075B6I0  MSVPTMAWMMLLLGLLAYGSGVDSQTVVTQEPSFSVSPGGTVTLTC..."
      ]
     },
     "metadata": {},
     "output_type": "display_data"
    }
   ],
   "source": [
    "sequenceData = pd.read_pickle(\n",
    "    os.path.join(\n",
    "        cfg['outputPreprocessingUniprot'], \n",
    "        f\"sequenceData_v{logVersions['UniProt']['rawData']}--{logVersions['UniProt']['preprocessed']}.pkl\"\n",
    "    )\n",
    ")\n",
    "\n",
    "glance(sequenceData)"
   ]
  },
  {
   "cell_type": "code",
   "execution_count": 105,
   "metadata": {
    "execution": {
     "iopub.execute_input": "2022-02-02T10:21:46.350871Z",
     "iopub.status.busy": "2022-02-02T10:21:46.350152Z",
     "iopub.status.idle": "2022-02-02T10:21:46.516534Z",
     "shell.execute_reply": "2022-02-02T10:21:46.515957Z",
     "shell.execute_reply.started": "2022-02-02T10:21:46.350592Z"
    }
   },
   "outputs": [
    {
     "name": "stdout",
     "output_type": "stream",
     "text": [
      "DataFrame: 156,458 rows \t 16 columns\n"
     ]
    },
    {
     "data": {
      "text/html": [
       "<div>\n",
       "<style scoped>\n",
       "    .dataframe tbody tr th:only-of-type {\n",
       "        vertical-align: middle;\n",
       "    }\n",
       "\n",
       "    .dataframe tbody tr th {\n",
       "        vertical-align: top;\n",
       "    }\n",
       "\n",
       "    .dataframe thead th {\n",
       "        text-align: right;\n",
       "    }\n",
       "</style>\n",
       "<table border=\"1\" class=\"dataframe\">\n",
       "  <thead>\n",
       "    <tr style=\"text-align: right;\">\n",
       "      <th></th>\n",
       "      <th>uniprotID_A</th>\n",
       "      <th>uniprotID_B</th>\n",
       "      <th>isInteraction</th>\n",
       "      <th>trainTest</th>\n",
       "      <th>RNAseqHPA</th>\n",
       "      <th>tissueHPA</th>\n",
       "      <th>tissueCellHPA</th>\n",
       "      <th>subcellularLocationHPA</th>\n",
       "      <th>bioProcessUniprot</th>\n",
       "      <th>cellCompUniprot</th>\n",
       "      <th>molFuncUniprot</th>\n",
       "      <th>domainUniprot</th>\n",
       "      <th>motifUniprot</th>\n",
       "      <th>Bgee</th>\n",
       "      <th>sequence_A</th>\n",
       "      <th>sequence_B</th>\n",
       "    </tr>\n",
       "  </thead>\n",
       "  <tbody>\n",
       "    <tr>\n",
       "      <th>0</th>\n",
       "      <td>P28223</td>\n",
       "      <td>P41595</td>\n",
       "      <td>1</td>\n",
       "      <td>test</td>\n",
       "      <td>0.160188</td>\n",
       "      <td>-0.449930</td>\n",
       "      <td>-0.060381</td>\n",
       "      <td>NaN</td>\n",
       "      <td>0.400892</td>\n",
       "      <td>0.404061</td>\n",
       "      <td>0.680414</td>\n",
       "      <td>0.0</td>\n",
       "      <td>0.790569</td>\n",
       "      <td>0.422078</td>\n",
       "      <td>MDILCEENTSLSSTTNSLMQLNDDTRLYSNDFNSGEANTSDAFNWT...</td>\n",
       "      <td>MALSYRVSELQSTIPEHILQSTFVHVISSNWSGLQTESIPEEMKQI...</td>\n",
       "    </tr>\n",
       "    <tr>\n",
       "      <th>1</th>\n",
       "      <td>O00161</td>\n",
       "      <td>P56962</td>\n",
       "      <td>1</td>\n",
       "      <td>train</td>\n",
       "      <td>0.825131</td>\n",
       "      <td>0.851690</td>\n",
       "      <td>0.675880</td>\n",
       "      <td>0.0</td>\n",
       "      <td>0.190693</td>\n",
       "      <td>0.200000</td>\n",
       "      <td>0.353553</td>\n",
       "      <td>0.0</td>\n",
       "      <td>0.000000</td>\n",
       "      <td>0.922975</td>\n",
       "      <td>MDNLSSEEIQQRAHQITDESLESTRRILGLAIESQDAGIKTITMLD...</td>\n",
       "      <td>MSEDEEKVKLRRLEPAIQKFIKIVIPTDLERLRKHQINIEKYQRCR...</td>\n",
       "    </tr>\n",
       "    <tr>\n",
       "      <th>2</th>\n",
       "      <td>P82979</td>\n",
       "      <td>Q01081</td>\n",
       "      <td>1</td>\n",
       "      <td>train</td>\n",
       "      <td>0.930790</td>\n",
       "      <td>0.954869</td>\n",
       "      <td>0.911887</td>\n",
       "      <td>0.0</td>\n",
       "      <td>0.547723</td>\n",
       "      <td>0.365148</td>\n",
       "      <td>0.408248</td>\n",
       "      <td>0.0</td>\n",
       "      <td>0.000000</td>\n",
       "      <td>NaN</td>\n",
       "      <td>MATETVELHKLKLAELKQECLARGLETKGIKQDLIHRLQAYLEEHA...</td>\n",
       "      <td>MAEYLASIFGTEKDKVNCSFYFKIGACRHGDRCSRLHNKPTFSQTI...</td>\n",
       "    </tr>\n",
       "    <tr>\n",
       "      <th>3</th>\n",
       "      <td>O60678</td>\n",
       "      <td>Q14524</td>\n",
       "      <td>1</td>\n",
       "      <td>train</td>\n",
       "      <td>0.219384</td>\n",
       "      <td>NaN</td>\n",
       "      <td>NaN</td>\n",
       "      <td>NaN</td>\n",
       "      <td>0.000000</td>\n",
       "      <td>0.000000</td>\n",
       "      <td>0.000000</td>\n",
       "      <td>0.0</td>\n",
       "      <td>0.000000</td>\n",
       "      <td>NaN</td>\n",
       "      <td>MCSLASGATGGRGAVENEEDLPELSDSGDEAAWEDEDDADLPHGKQ...</td>\n",
       "      <td>MANFLLPRGTSSFRRFTRESLAAIEKRMAEKQARGSTTLQESREGL...</td>\n",
       "    </tr>\n",
       "    <tr>\n",
       "      <th>4</th>\n",
       "      <td>P10275</td>\n",
       "      <td>Q15648</td>\n",
       "      <td>1</td>\n",
       "      <td>train</td>\n",
       "      <td>0.500558</td>\n",
       "      <td>-0.311704</td>\n",
       "      <td>-0.371061</td>\n",
       "      <td>0.0</td>\n",
       "      <td>0.169811</td>\n",
       "      <td>0.375000</td>\n",
       "      <td>0.157895</td>\n",
       "      <td>0.0</td>\n",
       "      <td>0.000000</td>\n",
       "      <td>NaN</td>\n",
       "      <td>MEVQLGLGRVYPRPPSKTYRGAFQNLFQSVREVIQNPGPRHPEAAS...</td>\n",
       "      <td>MKAQGETEESEKLSKMSSLLERLHAKFNQNRPWSETIKLVRQVMEK...</td>\n",
       "    </tr>\n",
       "  </tbody>\n",
       "</table>\n",
       "</div>"
      ],
      "text/plain": [
       "  uniprotID_A uniprotID_B  isInteraction trainTest  RNAseqHPA  tissueHPA  \\\n",
       "0      P28223      P41595              1      test   0.160188  -0.449930   \n",
       "1      O00161      P56962              1     train   0.825131   0.851690   \n",
       "2      P82979      Q01081              1     train   0.930790   0.954869   \n",
       "3      O60678      Q14524              1     train   0.219384        NaN   \n",
       "4      P10275      Q15648              1     train   0.500558  -0.311704   \n",
       "\n",
       "   tissueCellHPA  subcellularLocationHPA  bioProcessUniprot  cellCompUniprot  \\\n",
       "0      -0.060381                     NaN           0.400892         0.404061   \n",
       "1       0.675880                     0.0           0.190693         0.200000   \n",
       "2       0.911887                     0.0           0.547723         0.365148   \n",
       "3            NaN                     NaN           0.000000         0.000000   \n",
       "4      -0.371061                     0.0           0.169811         0.375000   \n",
       "\n",
       "   molFuncUniprot  domainUniprot  motifUniprot      Bgee  \\\n",
       "0        0.680414            0.0      0.790569  0.422078   \n",
       "1        0.353553            0.0      0.000000  0.922975   \n",
       "2        0.408248            0.0      0.000000       NaN   \n",
       "3        0.000000            0.0      0.000000       NaN   \n",
       "4        0.157895            0.0      0.000000       NaN   \n",
       "\n",
       "                                          sequence_A  \\\n",
       "0  MDILCEENTSLSSTTNSLMQLNDDTRLYSNDFNSGEANTSDAFNWT...   \n",
       "1  MDNLSSEEIQQRAHQITDESLESTRRILGLAIESQDAGIKTITMLD...   \n",
       "2  MATETVELHKLKLAELKQECLARGLETKGIKQDLIHRLQAYLEEHA...   \n",
       "3  MCSLASGATGGRGAVENEEDLPELSDSGDEAAWEDEDDADLPHGKQ...   \n",
       "4  MEVQLGLGRVYPRPPSKTYRGAFQNLFQSVREVIQNPGPRHPEAAS...   \n",
       "\n",
       "                                          sequence_B  \n",
       "0  MALSYRVSELQSTIPEHILQSTFVHVISSNWSGLQTESIPEEMKQI...  \n",
       "1  MSEDEEKVKLRRLEPAIQKFIKIVIPTDLERLRKHQINIEKYQRCR...  \n",
       "2  MAEYLASIFGTEKDKVNCSFYFKIGACRHGDRCSRLHNKPTFSQTI...  \n",
       "3  MANFLLPRGTSSFRRFTRESLAAIEKRMAEKQARGSTTLQESREGL...  \n",
       "4  MKAQGETEESEKLSKMSSLLERLHAKFNQNRPWSETIKLVRQVMEK...  "
      ]
     },
     "metadata": {},
     "output_type": "display_data"
    }
   ],
   "source": [
    "sequenceData.columns = ['uniprotID_A', 'sequence_A']\n",
    "GS_SM_alt_seq = GS_SM_alt.merge(\n",
    "    sequenceData,\n",
    "    how = 'left',\n",
    "    on = \"uniprotID_A\"\n",
    ")\n",
    "\n",
    "sequenceData.columns = ['uniprotID_B', 'sequence_B']\n",
    "GS_SM_alt_seq = GS_SM_alt_seq.merge(\n",
    "    sequenceData,\n",
    "    how = 'left',\n",
    "    on = \"uniprotID_B\"\n",
    ")\n",
    "\n",
    "glance(GS_SM_alt_seq)\n",
    "\n",
    "assert GS_SM_alt_seq.isna().sum()['sequence_A'] + GS_SM_alt_seq.isna().sum()['sequence_B'] == 0"
   ]
  },
  {
   "cell_type": "markdown",
   "metadata": {},
   "source": [
    "## Export"
   ]
  },
  {
   "cell_type": "markdown",
   "metadata": {},
   "source": [
    "**to pickle**"
   ]
  },
  {
   "cell_type": "code",
   "execution_count": 106,
   "metadata": {
    "execution": {
     "iopub.execute_input": "2022-02-02T10:22:08.576617Z",
     "iopub.status.busy": "2022-02-02T10:22:08.575906Z",
     "iopub.status.idle": "2022-02-02T10:22:08.672594Z",
     "shell.execute_reply": "2022-02-02T10:22:08.671421Z",
     "shell.execute_reply.started": "2022-02-02T10:22:08.576349Z"
    }
   },
   "outputs": [
    {
     "name": "stdout",
     "output_type": "stream",
     "text": [
      "/rds/user/ll582/hpc-work/PPIdata/output/3_goldStandard/benchmarkingGS_4hubs_v1-0.pkl\n"
     ]
    }
   ],
   "source": [
    "to_export = GS_alt\n",
    "\n",
    "export_path = os.path.join(\n",
    "    cfg['outputGoldStandard'], \n",
    "    f\"benchmarkingGS_4hubs_v{logVersions['otherGoldStandard']['benchmarkingGS']}.pkl\"\n",
    ")\n",
    "print(export_path)\n",
    "\n",
    "with open(export_path, 'wb') as f:\n",
    "    pkl.dump(to_export, f, protocol=pkl.HIGHEST_PROTOCOL)"
   ]
  },
  {
   "cell_type": "code",
   "execution_count": 107,
   "metadata": {
    "execution": {
     "iopub.execute_input": "2022-02-02T10:22:09.674862Z",
     "iopub.status.busy": "2022-02-02T10:22:09.674156Z",
     "iopub.status.idle": "2022-02-02T10:22:09.793621Z",
     "shell.execute_reply": "2022-02-02T10:22:09.792553Z",
     "shell.execute_reply.started": "2022-02-02T10:22:09.674597Z"
    }
   },
   "outputs": [
    {
     "name": "stdout",
     "output_type": "stream",
     "text": [
      "/rds/user/ll582/hpc-work/PPIdata/output/3_goldStandard/benchmarkingGS_4hubs_v1-0_similarityMeasure_v3-1.pkl\n"
     ]
    }
   ],
   "source": [
    "to_export = GS_SM_alt\n",
    "\n",
    "export_path = os.path.join(\n",
    "    cfg['outputGoldStandard'], \n",
    "    f\"benchmarkingGS_4hubs_v{logVersions['otherGoldStandard']['benchmarkingGS']}_similarityMeasure_v{logVersions['featuresEngineering']['similarityMeasure']}.pkl\"\n",
    ")\n",
    "print(export_path)\n",
    "\n",
    "with open(export_path, 'wb') as f:\n",
    "    pkl.dump(to_export, f, protocol=pkl.HIGHEST_PROTOCOL)"
   ]
  },
  {
   "cell_type": "code",
   "execution_count": 108,
   "metadata": {
    "execution": {
     "iopub.execute_input": "2022-02-02T10:22:14.832442Z",
     "iopub.status.busy": "2022-02-02T10:22:14.831720Z",
     "iopub.status.idle": "2022-02-02T10:22:14.949453Z",
     "shell.execute_reply": "2022-02-02T10:22:14.948875Z",
     "shell.execute_reply.started": "2022-02-02T10:22:14.832141Z"
    }
   },
   "outputs": [
    {
     "name": "stdout",
     "output_type": "stream",
     "text": [
      "/rds/user/ll582/hpc-work/PPIdata/output/3_goldStandard/benchmarkingGS_4hubs_v1-0_similarityMeasure_sequence_v3-1.pkl\n"
     ]
    }
   ],
   "source": [
    "to_export = GS_SM_alt_seq\n",
    "\n",
    "export_path = os.path.join(\n",
    "    cfg['outputGoldStandard'], \n",
    "    f\"benchmarkingGS_4hubs_v{logVersions['otherGoldStandard']['benchmarkingGS']}_similarityMeasure_sequence_v{logVersions['featuresEngineering']['similarityMeasure']}.pkl\"\n",
    ")\n",
    "print(export_path)\n",
    "\n",
    "with open(export_path, 'wb') as f:\n",
    "    pkl.dump(to_export, f, protocol=pkl.HIGHEST_PROTOCOL)"
   ]
  },
  {
   "cell_type": "markdown",
   "metadata": {},
   "source": [
    "---\n",
    "**to csv**"
   ]
  },
  {
   "cell_type": "code",
   "execution_count": 109,
   "metadata": {
    "execution": {
     "iopub.execute_input": "2022-02-02T10:22:51.755594Z",
     "iopub.status.busy": "2022-02-02T10:22:51.754949Z",
     "iopub.status.idle": "2022-02-02T10:22:51.943978Z",
     "shell.execute_reply": "2022-02-02T10:22:51.943446Z",
     "shell.execute_reply.started": "2022-02-02T10:22:51.755375Z"
    }
   },
   "outputs": [
    {
     "name": "stdout",
     "output_type": "stream",
     "text": [
      "/rds/user/ll582/hpc-work/PPIdata/output/3_goldStandard/benchmarkingGS_4hubs_v1-0.csv\n"
     ]
    }
   ],
   "source": [
    "to_export = GS_alt\n",
    "\n",
    "export_path = os.path.join(\n",
    "    cfg['outputGoldStandard'], \n",
    "    f\"benchmarkingGS_4hubs_v{logVersions['otherGoldStandard']['benchmarkingGS']}.csv\"\n",
    ")\n",
    "print(export_path)\n",
    "\n",
    "to_export.to_csv(export_path, sep='|', index=False)"
   ]
  },
  {
   "cell_type": "code",
   "execution_count": 110,
   "metadata": {
    "execution": {
     "iopub.execute_input": "2022-02-02T10:22:53.322741Z",
     "iopub.status.busy": "2022-02-02T10:22:53.321495Z",
     "iopub.status.idle": "2022-02-02T10:22:54.879204Z",
     "shell.execute_reply": "2022-02-02T10:22:54.878004Z",
     "shell.execute_reply.started": "2022-02-02T10:22:53.322440Z"
    }
   },
   "outputs": [
    {
     "name": "stdout",
     "output_type": "stream",
     "text": [
      "/rds/user/ll582/hpc-work/PPIdata/output/3_goldStandard/benchmarkingGS_4hubs_v1-0_similarityMeasure_v3-1.csv\n"
     ]
    }
   ],
   "source": [
    "to_export = GS_SM_alt\n",
    "\n",
    "export_path = os.path.join(\n",
    "    cfg['outputGoldStandard'], \n",
    "    f\"benchmarkingGS_4hubs_v{logVersions['otherGoldStandard']['benchmarkingGS']}_similarityMeasure_v{logVersions['featuresEngineering']['similarityMeasure']}.csv\"\n",
    ")\n",
    "print(export_path)\n",
    "\n",
    "to_export.to_csv(export_path, sep='|', index=False)"
   ]
  },
  {
   "cell_type": "code",
   "execution_count": 111,
   "metadata": {
    "execution": {
     "iopub.execute_input": "2022-02-02T10:22:56.186740Z",
     "iopub.status.busy": "2022-02-02T10:22:56.186497Z",
     "iopub.status.idle": "2022-02-02T10:23:00.305685Z",
     "shell.execute_reply": "2022-02-02T10:23:00.304759Z",
     "shell.execute_reply.started": "2022-02-02T10:22:56.186711Z"
    }
   },
   "outputs": [
    {
     "name": "stdout",
     "output_type": "stream",
     "text": [
      "/rds/user/ll582/hpc-work/PPIdata/output/3_goldStandard/benchmarkingGS_4hubs_v1-0_similarityMeasure_sequence_v3-1.csv\n"
     ]
    }
   ],
   "source": [
    "to_export = GS_SM_alt_seq\n",
    "\n",
    "export_path = os.path.join(\n",
    "    cfg['outputGoldStandard'], \n",
    "    f\"benchmarkingGS_4hubs_v{logVersions['otherGoldStandard']['benchmarkingGS']}_similarityMeasure_sequence_v{logVersions['featuresEngineering']['similarityMeasure']}.csv\"\n",
    ")\n",
    "print(export_path)\n",
    "\n",
    "to_export.to_csv(export_path, sep='|', index=False)"
   ]
  }
 ],
 "metadata": {
  "kernelspec": {
   "display_name": "Python (PPI-env)",
   "language": "python",
   "name": "ppi-env"
  },
  "language_info": {
   "codemirror_mode": {
    "name": "ipython",
    "version": 3
   },
   "file_extension": ".py",
   "mimetype": "text/x-python",
   "name": "python",
   "nbconvert_exporter": "python",
   "pygments_lexer": "ipython3",
   "version": "3.7.3"
  },
  "toc-autonumbering": true
 },
 "nbformat": 4,
 "nbformat_minor": 4
}
