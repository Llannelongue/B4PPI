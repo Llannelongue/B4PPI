{
 "cells": [
  {
   "cell_type": "markdown",
   "metadata": {},
   "source": [
    "*System requirements: 6Go*"
   ]
  },
  {
   "cell_type": "markdown",
   "metadata": {},
   "source": [
    "\n",
    "https://www.ebi.ac.uk/intact/\n",
    "\n",
    "- Format: PSI-MI TAB 2.7 http://psicquic.github.io/MITAB27Format.html\n",
    "\n",
    "Codes for the columns:\n",
    "- 9-10. NCBI Taxonomy https://www.ncbi.nlm.nih.gov/Taxonomy/CommonTree/wwwcmt.cgi"
   ]
  },
  {
   "cell_type": "code",
   "execution_count": 1,
   "metadata": {
    "ExecuteTime": {
     "end_time": "2019-10-30T15:54:13.701847Z",
     "start_time": "2019-10-30T15:54:13.694422Z"
    },
    "execution": {
     "iopub.execute_input": "2022-01-10T16:41:14.097916Z",
     "iopub.status.busy": "2022-01-10T16:41:14.097436Z",
     "iopub.status.idle": "2022-01-10T16:41:23.859904Z",
     "shell.execute_reply": "2022-01-10T16:41:23.859214Z",
     "shell.execute_reply.started": "2022-01-10T16:41:14.097827Z"
    }
   },
   "outputs": [],
   "source": [
    "import pandas as pd\n",
    "import numpy as np\n",
    "import os\n",
    "import re\n",
    "import matplotlib.pyplot as plt\n",
    "import seaborn as sns\n",
    "# from Bio import SeqIO\n",
    "import requests\n",
    "import urllib\n",
    "import re\n",
    "from io import StringIO\n",
    "# import shutil\n",
    "# import urllib.request as request\n",
    "# from contextlib import closing\n",
    "import gzip\n",
    "from ftplib import FTP\n",
    "import pickle as pkl\n",
    "import math\n",
    "\n",
    "from toolbox import *\n",
    "\n",
    "%matplotlib inline\n",
    "sns.set()\n",
    "sns.set(rc={'figure.figsize':(14,6)})"
   ]
  },
  {
   "cell_type": "code",
   "execution_count": 2,
   "metadata": {
    "ExecuteTime": {
     "end_time": "2019-10-28T14:18:48.400134Z",
     "start_time": "2019-10-28T14:18:48.371893Z"
    },
    "execution": {
     "iopub.execute_input": "2022-01-10T16:41:23.861237Z",
     "iopub.status.busy": "2022-01-10T16:41:23.861064Z",
     "iopub.status.idle": "2022-01-10T16:41:23.872957Z",
     "shell.execute_reply": "2022-01-10T16:41:23.872494Z",
     "shell.execute_reply.started": "2022-01-10T16:41:23.861208Z"
    }
   },
   "outputs": [],
   "source": [
    "cfg = load_cfg()\n",
    "\n",
    "logVersions = load_LogVersions()"
   ]
  },
  {
   "cell_type": "code",
   "execution_count": 3,
   "metadata": {
    "execution": {
     "iopub.execute_input": "2022-01-10T16:41:23.873644Z",
     "iopub.status.busy": "2022-01-10T16:41:23.873501Z",
     "iopub.status.idle": "2022-01-10T16:41:23.897066Z",
     "shell.execute_reply": "2022-01-10T16:41:23.896466Z",
     "shell.execute_reply.started": "2022-01-10T16:41:23.873620Z"
    }
   },
   "outputs": [],
   "source": [
    "sns.set(rc={'figure.figsize':(14,6)})"
   ]
  },
  {
   "cell_type": "markdown",
   "metadata": {},
   "source": [
    "# Download data"
   ]
  },
  {
   "cell_type": "code",
   "execution_count": 4,
   "metadata": {
    "execution": {
     "iopub.execute_input": "2022-01-10T16:41:23.898217Z",
     "iopub.status.busy": "2022-01-10T16:41:23.898071Z",
     "iopub.status.idle": "2022-01-10T16:41:23.925106Z",
     "shell.execute_reply": "2022-01-10T16:41:23.924589Z",
     "shell.execute_reply.started": "2022-01-10T16:41:23.898192Z"
    }
   },
   "outputs": [],
   "source": [
    "doDownload = False"
   ]
  },
  {
   "cell_type": "code",
   "execution_count": 5,
   "metadata": {
    "execution": {
     "iopub.execute_input": "2022-01-10T16:41:23.926179Z",
     "iopub.status.busy": "2022-01-10T16:41:23.926029Z",
     "iopub.status.idle": "2022-01-10T16:41:24.098681Z",
     "shell.execute_reply": "2022-01-10T16:41:24.097858Z",
     "shell.execute_reply.started": "2022-01-10T16:41:23.926155Z"
    }
   },
   "outputs": [
    {
     "name": "stdout",
     "output_type": "stream",
     "text": [
      "Timestamp: 20211015\n"
     ]
    },
    {
     "data": {
      "text/plain": [
       "'221 Goodbye.'"
      ]
     },
     "execution_count": 5,
     "metadata": {},
     "output_type": "execute_result"
    }
   ],
   "source": [
    "# Check timestamp\n",
    "\n",
    "ftp = FTP('ftp.ebi.ac.uk')\n",
    "ftp.login()\n",
    "ftp.cwd('/pub/databases/intact/current/psimitab/')\n",
    "\n",
    "intact_filename = 'intact.txt'\n",
    "versionIntAct = ftp.voidcmd(\"MDTM \" + intact_filename)[4:12]\n",
    "print(\"Timestamp: {}\".format(versionIntAct))\n",
    "ftp.quit()"
   ]
  },
  {
   "cell_type": "code",
   "execution_count": 6,
   "metadata": {
    "execution": {
     "iopub.execute_input": "2022-01-10T16:41:24.099896Z",
     "iopub.status.busy": "2022-01-10T16:41:24.099652Z",
     "iopub.status.idle": "2022-01-10T16:41:24.106905Z",
     "shell.execute_reply": "2022-01-10T16:41:24.106094Z",
     "shell.execute_reply.started": "2022-01-10T16:41:24.099855Z"
    }
   },
   "outputs": [],
   "source": [
    "if doDownload:\n",
    "    ftp = FTP('ftp.ebi.ac.uk')\n",
    "    ftp.login()\n",
    "    ftp.cwd('/pub/databases/intact/current/psimitab/')\n",
    "\n",
    "    intact_filename = 'intact.txt'\n",
    "    # Collect timestamp\n",
    "    versionIntAct = ftp.voidcmd(\"MDTM \" + intact_filename)[4:12]\n",
    "    print(\"Timestamp: {}\".format(versionIntAct))\n",
    "\n",
    "    localFile = os.path.join(cfg['rawDataIntact'], \"intact_v{}.txt\".format(versionIntAct))\n",
    "    print(\"Download location: {}\".format(localFile))\n",
    "\n",
    "    with open(localFile, 'wb') as f:\n",
    "        ftp.retrbinary('RETR ' + intact_filename, f.write, 1024)\n",
    "\n",
    "    ftp.quit()"
   ]
  },
  {
   "cell_type": "code",
   "execution_count": 7,
   "metadata": {
    "execution": {
     "iopub.execute_input": "2022-01-10T16:41:24.108045Z",
     "iopub.status.busy": "2022-01-10T16:41:24.107803Z",
     "iopub.status.idle": "2022-01-10T16:41:24.132552Z",
     "shell.execute_reply": "2022-01-10T16:41:24.131322Z",
     "shell.execute_reply.started": "2022-01-10T16:41:24.108004Z"
    }
   },
   "outputs": [],
   "source": [
    "if doDownload:\n",
    "#     logVersions['IntAct'] = dict()\n",
    "    logVersions['IntAct']['rawData'] = versionIntAct\n",
    "\n",
    "    dump_LogVersions(logVersions)"
   ]
  },
  {
   "cell_type": "markdown",
   "metadata": {
    "heading_collapsed": true
   },
   "source": [
    "# Preprocessing"
   ]
  },
  {
   "cell_type": "code",
   "execution_count": 8,
   "metadata": {
    "ExecuteTime": {
     "end_time": "2019-10-30T15:54:42.869320Z",
     "start_time": "2019-10-30T15:54:14.250599Z"
    },
    "execution": {
     "iopub.execute_input": "2022-01-10T16:41:24.134672Z",
     "iopub.status.busy": "2022-01-10T16:41:24.134084Z",
     "iopub.status.idle": "2022-01-10T16:42:07.217815Z",
     "shell.execute_reply": "2022-01-10T16:42:07.217228Z",
     "shell.execute_reply.started": "2022-01-10T16:41:24.134437Z"
    }
   },
   "outputs": [
    {
     "name": "stdout",
     "output_type": "stream",
     "text": [
      "DataFrame: 1,155,104 rows \t 42 columns\n"
     ]
    },
    {
     "data": {
      "text/html": [
       "<div>\n",
       "<style scoped>\n",
       "    .dataframe tbody tr th:only-of-type {\n",
       "        vertical-align: middle;\n",
       "    }\n",
       "\n",
       "    .dataframe tbody tr th {\n",
       "        vertical-align: top;\n",
       "    }\n",
       "\n",
       "    .dataframe thead th {\n",
       "        text-align: right;\n",
       "    }\n",
       "</style>\n",
       "<table border=\"1\" class=\"dataframe\">\n",
       "  <thead>\n",
       "    <tr style=\"text-align: right;\">\n",
       "      <th></th>\n",
       "      <th>#ID(s) interactor A</th>\n",
       "      <th>ID(s) interactor B</th>\n",
       "      <th>Alt. ID(s) interactor A</th>\n",
       "      <th>Alt. ID(s) interactor B</th>\n",
       "      <th>Alias(es) interactor A</th>\n",
       "      <th>Alias(es) interactor B</th>\n",
       "      <th>Interaction detection method(s)</th>\n",
       "      <th>Publication 1st author(s)</th>\n",
       "      <th>Publication Identifier(s)</th>\n",
       "      <th>Taxid interactor A</th>\n",
       "      <th>...</th>\n",
       "      <th>Checksum(s) interactor A</th>\n",
       "      <th>Checksum(s) interactor B</th>\n",
       "      <th>Interaction Checksum(s)</th>\n",
       "      <th>Negative</th>\n",
       "      <th>Feature(s) interactor A</th>\n",
       "      <th>Feature(s) interactor B</th>\n",
       "      <th>Stoichiometry(s) interactor A</th>\n",
       "      <th>Stoichiometry(s) interactor B</th>\n",
       "      <th>Identification method participant A</th>\n",
       "      <th>Identification method participant B</th>\n",
       "    </tr>\n",
       "  </thead>\n",
       "  <tbody>\n",
       "    <tr>\n",
       "      <th>0</th>\n",
       "      <td>uniprotkb:P49418</td>\n",
       "      <td>uniprotkb:O43426</td>\n",
       "      <td>intact:EBI-7121510|uniprotkb:Q75MK5|uniprotkb:...</td>\n",
       "      <td>intact:EBI-2821539|uniprotkb:O43425|uniprotkb:...</td>\n",
       "      <td>psi-mi:amph_human(display_long)|uniprotkb:AMPH...</td>\n",
       "      <td>psi-mi:synj1_human(display_long)|uniprotkb:SYN...</td>\n",
       "      <td>psi-mi:\"MI:0084\"(phage display)</td>\n",
       "      <td>Cestra et al. (1999)</td>\n",
       "      <td>pubmed:10542231|mint:MINT-5211933</td>\n",
       "      <td>taxid:9606(human)|taxid:9606(Homo sapiens)</td>\n",
       "      <td>...</td>\n",
       "      <td>rogid:vrgVrVoYr45cUe4X6L/zBAE1RtU9606</td>\n",
       "      <td>rogid:RA73eMbCn6F7MD0ItxF/V7QbjqM9606</td>\n",
       "      <td>intact-crc:F4234557A3B54840|rigid:n+UcEH4PPLkF...</td>\n",
       "      <td>False</td>\n",
       "      <td>binding-associated region:626-695(MINT-376295)</td>\n",
       "      <td>binding-associated region:1063-1070(MINT-376288)</td>\n",
       "      <td>-</td>\n",
       "      <td>-</td>\n",
       "      <td>psi-mi:\"MI:0078\"(nucleotide sequence identific...</td>\n",
       "      <td>psi-mi:\"MI:0078\"(nucleotide sequence identific...</td>\n",
       "    </tr>\n",
       "    <tr>\n",
       "      <th>1</th>\n",
       "      <td>uniprotkb:P49418</td>\n",
       "      <td>intact:EBI-7121639</td>\n",
       "      <td>intact:EBI-7121510|uniprotkb:Q75MK5|uniprotkb:...</td>\n",
       "      <td>intact:MINT-8094608</td>\n",
       "      <td>psi-mi:amph_human(display_long)|uniprotkb:AMPH...</td>\n",
       "      <td>psi-mi:vrparrvlw(display_short)|psi-mi:EBI-712...</td>\n",
       "      <td>psi-mi:\"MI:0084\"(phage display)</td>\n",
       "      <td>Cestra et al. (1999)</td>\n",
       "      <td>pubmed:10542231|mint:MINT-5211933</td>\n",
       "      <td>taxid:9606(human)|taxid:9606(Homo sapiens)</td>\n",
       "      <td>...</td>\n",
       "      <td>rogid:vrgVrVoYr45cUe4X6L/zBAE1RtU9606</td>\n",
       "      <td>rogid:lPy6gBhpgvyGSYgOqeHbjcqBtMQ-2</td>\n",
       "      <td>intact-crc:880913D9000BF26E|rigid:iRObbQsaUeX0...</td>\n",
       "      <td>False</td>\n",
       "      <td>binding-associated region:626-695(MINT-8094602)</td>\n",
       "      <td>-</td>\n",
       "      <td>-</td>\n",
       "      <td>-</td>\n",
       "      <td>psi-mi:\"MI:0078\"(nucleotide sequence identific...</td>\n",
       "      <td>psi-mi:\"MI:0083\"(peptide synthesis)</td>\n",
       "    </tr>\n",
       "    <tr>\n",
       "      <th>2</th>\n",
       "      <td>uniprotkb:P49418</td>\n",
       "      <td>intact:EBI-7121654</td>\n",
       "      <td>intact:EBI-7121510|uniprotkb:Q75MK5|uniprotkb:...</td>\n",
       "      <td>intact:MINT-8094645</td>\n",
       "      <td>psi-mi:amph_human(display_long)|uniprotkb:AMPH...</td>\n",
       "      <td>psi-mi:hrpvrraap(display_short)|psi-mi:EBI-712...</td>\n",
       "      <td>psi-mi:\"MI:0084\"(phage display)</td>\n",
       "      <td>Cestra et al. (1999)</td>\n",
       "      <td>pubmed:10542231|mint:MINT-5211933</td>\n",
       "      <td>taxid:9606(human)|taxid:9606(Homo sapiens)</td>\n",
       "      <td>...</td>\n",
       "      <td>rogid:vrgVrVoYr45cUe4X6L/zBAE1RtU9606</td>\n",
       "      <td>rogid:GsDnsVmAo8ZZoKTZ4/uDb2x+h3c-2</td>\n",
       "      <td>intact-crc:B68245E1F0508124|rigid:SlinPP5vIczF...</td>\n",
       "      <td>False</td>\n",
       "      <td>binding-associated region:626-695(MINT-8094630)</td>\n",
       "      <td>-</td>\n",
       "      <td>-</td>\n",
       "      <td>-</td>\n",
       "      <td>psi-mi:\"MI:0078\"(nucleotide sequence identific...</td>\n",
       "      <td>psi-mi:\"MI:0083\"(peptide synthesis)</td>\n",
       "    </tr>\n",
       "    <tr>\n",
       "      <th>3</th>\n",
       "      <td>uniprotkb:P49418</td>\n",
       "      <td>intact:EBI-7121715</td>\n",
       "      <td>intact:EBI-7121510|uniprotkb:Q75MK5|uniprotkb:...</td>\n",
       "      <td>intact:MINT-8094663</td>\n",
       "      <td>psi-mi:amph_human(display_long)|uniprotkb:AMPH...</td>\n",
       "      <td>psi-mi:vrptraada(display_short)|psi-mi:EBI-712...</td>\n",
       "      <td>psi-mi:\"MI:0084\"(phage display)</td>\n",
       "      <td>Cestra et al. (1999)</td>\n",
       "      <td>pubmed:10542231|mint:MINT-5211933</td>\n",
       "      <td>taxid:9606(human)|taxid:9606(Homo sapiens)</td>\n",
       "      <td>...</td>\n",
       "      <td>rogid:vrgVrVoYr45cUe4X6L/zBAE1RtU9606</td>\n",
       "      <td>rogid:M+f6GE3SQXrMBiIVttW1MKhz3M0-2</td>\n",
       "      <td>intact-crc:8F7F46DF027DF34E|rigid:uiWbDe6gaj1X...</td>\n",
       "      <td>False</td>\n",
       "      <td>binding-associated region:626-695(MINT-8094654)</td>\n",
       "      <td>-</td>\n",
       "      <td>-</td>\n",
       "      <td>-</td>\n",
       "      <td>psi-mi:\"MI:0078\"(nucleotide sequence identific...</td>\n",
       "      <td>psi-mi:\"MI:0083\"(peptide synthesis)</td>\n",
       "    </tr>\n",
       "    <tr>\n",
       "      <th>4</th>\n",
       "      <td>intact:EBI-7121765</td>\n",
       "      <td>uniprotkb:P49418</td>\n",
       "      <td>intact:MINT-8094691</td>\n",
       "      <td>intact:EBI-7121510|uniprotkb:Q75MK5|uniprotkb:...</td>\n",
       "      <td>psi-mi:xrprrghal(display_short)|psi-mi:EBI-712...</td>\n",
       "      <td>psi-mi:amph_human(display_long)|uniprotkb:AMPH...</td>\n",
       "      <td>psi-mi:\"MI:0084\"(phage display)</td>\n",
       "      <td>Cestra et al. (1999)</td>\n",
       "      <td>pubmed:10542231|mint:MINT-5211933</td>\n",
       "      <td>taxid:-2(chemical synthesis)|taxid:-2(\"Chemica...</td>\n",
       "      <td>...</td>\n",
       "      <td>rogid:cilZXZ3YLDI1s7n8WNRyUE6EnJQ-2</td>\n",
       "      <td>rogid:vrgVrVoYr45cUe4X6L/zBAE1RtU9606</td>\n",
       "      <td>intact-crc:2EF43A66D9B2D428|rigid:/ki1zA46M4Q+...</td>\n",
       "      <td>False</td>\n",
       "      <td>-</td>\n",
       "      <td>binding-associated region:626-695(MINT-8094680)</td>\n",
       "      <td>-</td>\n",
       "      <td>-</td>\n",
       "      <td>psi-mi:\"MI:0083\"(peptide synthesis)</td>\n",
       "      <td>psi-mi:\"MI:0078\"(nucleotide sequence identific...</td>\n",
       "    </tr>\n",
       "  </tbody>\n",
       "</table>\n",
       "<p>5 rows × 42 columns</p>\n",
       "</div>"
      ],
      "text/plain": [
       "  #ID(s) interactor A  ID(s) interactor B  \\\n",
       "0    uniprotkb:P49418    uniprotkb:O43426   \n",
       "1    uniprotkb:P49418  intact:EBI-7121639   \n",
       "2    uniprotkb:P49418  intact:EBI-7121654   \n",
       "3    uniprotkb:P49418  intact:EBI-7121715   \n",
       "4  intact:EBI-7121765    uniprotkb:P49418   \n",
       "\n",
       "                             Alt. ID(s) interactor A  \\\n",
       "0  intact:EBI-7121510|uniprotkb:Q75MK5|uniprotkb:...   \n",
       "1  intact:EBI-7121510|uniprotkb:Q75MK5|uniprotkb:...   \n",
       "2  intact:EBI-7121510|uniprotkb:Q75MK5|uniprotkb:...   \n",
       "3  intact:EBI-7121510|uniprotkb:Q75MK5|uniprotkb:...   \n",
       "4                                intact:MINT-8094691   \n",
       "\n",
       "                             Alt. ID(s) interactor B  \\\n",
       "0  intact:EBI-2821539|uniprotkb:O43425|uniprotkb:...   \n",
       "1                                intact:MINT-8094608   \n",
       "2                                intact:MINT-8094645   \n",
       "3                                intact:MINT-8094663   \n",
       "4  intact:EBI-7121510|uniprotkb:Q75MK5|uniprotkb:...   \n",
       "\n",
       "                              Alias(es) interactor A  \\\n",
       "0  psi-mi:amph_human(display_long)|uniprotkb:AMPH...   \n",
       "1  psi-mi:amph_human(display_long)|uniprotkb:AMPH...   \n",
       "2  psi-mi:amph_human(display_long)|uniprotkb:AMPH...   \n",
       "3  psi-mi:amph_human(display_long)|uniprotkb:AMPH...   \n",
       "4  psi-mi:xrprrghal(display_short)|psi-mi:EBI-712...   \n",
       "\n",
       "                              Alias(es) interactor B  \\\n",
       "0  psi-mi:synj1_human(display_long)|uniprotkb:SYN...   \n",
       "1  psi-mi:vrparrvlw(display_short)|psi-mi:EBI-712...   \n",
       "2  psi-mi:hrpvrraap(display_short)|psi-mi:EBI-712...   \n",
       "3  psi-mi:vrptraada(display_short)|psi-mi:EBI-712...   \n",
       "4  psi-mi:amph_human(display_long)|uniprotkb:AMPH...   \n",
       "\n",
       "   Interaction detection method(s) Publication 1st author(s)  \\\n",
       "0  psi-mi:\"MI:0084\"(phage display)      Cestra et al. (1999)   \n",
       "1  psi-mi:\"MI:0084\"(phage display)      Cestra et al. (1999)   \n",
       "2  psi-mi:\"MI:0084\"(phage display)      Cestra et al. (1999)   \n",
       "3  psi-mi:\"MI:0084\"(phage display)      Cestra et al. (1999)   \n",
       "4  psi-mi:\"MI:0084\"(phage display)      Cestra et al. (1999)   \n",
       "\n",
       "           Publication Identifier(s)  \\\n",
       "0  pubmed:10542231|mint:MINT-5211933   \n",
       "1  pubmed:10542231|mint:MINT-5211933   \n",
       "2  pubmed:10542231|mint:MINT-5211933   \n",
       "3  pubmed:10542231|mint:MINT-5211933   \n",
       "4  pubmed:10542231|mint:MINT-5211933   \n",
       "\n",
       "                                  Taxid interactor A  ...  \\\n",
       "0         taxid:9606(human)|taxid:9606(Homo sapiens)  ...   \n",
       "1         taxid:9606(human)|taxid:9606(Homo sapiens)  ...   \n",
       "2         taxid:9606(human)|taxid:9606(Homo sapiens)  ...   \n",
       "3         taxid:9606(human)|taxid:9606(Homo sapiens)  ...   \n",
       "4  taxid:-2(chemical synthesis)|taxid:-2(\"Chemica...  ...   \n",
       "\n",
       "                Checksum(s) interactor A  \\\n",
       "0  rogid:vrgVrVoYr45cUe4X6L/zBAE1RtU9606   \n",
       "1  rogid:vrgVrVoYr45cUe4X6L/zBAE1RtU9606   \n",
       "2  rogid:vrgVrVoYr45cUe4X6L/zBAE1RtU9606   \n",
       "3  rogid:vrgVrVoYr45cUe4X6L/zBAE1RtU9606   \n",
       "4    rogid:cilZXZ3YLDI1s7n8WNRyUE6EnJQ-2   \n",
       "\n",
       "                Checksum(s) interactor B  \\\n",
       "0  rogid:RA73eMbCn6F7MD0ItxF/V7QbjqM9606   \n",
       "1    rogid:lPy6gBhpgvyGSYgOqeHbjcqBtMQ-2   \n",
       "2    rogid:GsDnsVmAo8ZZoKTZ4/uDb2x+h3c-2   \n",
       "3    rogid:M+f6GE3SQXrMBiIVttW1MKhz3M0-2   \n",
       "4  rogid:vrgVrVoYr45cUe4X6L/zBAE1RtU9606   \n",
       "\n",
       "                             Interaction Checksum(s) Negative  \\\n",
       "0  intact-crc:F4234557A3B54840|rigid:n+UcEH4PPLkF...    False   \n",
       "1  intact-crc:880913D9000BF26E|rigid:iRObbQsaUeX0...    False   \n",
       "2  intact-crc:B68245E1F0508124|rigid:SlinPP5vIczF...    False   \n",
       "3  intact-crc:8F7F46DF027DF34E|rigid:uiWbDe6gaj1X...    False   \n",
       "4  intact-crc:2EF43A66D9B2D428|rigid:/ki1zA46M4Q+...    False   \n",
       "\n",
       "                           Feature(s) interactor A  \\\n",
       "0   binding-associated region:626-695(MINT-376295)   \n",
       "1  binding-associated region:626-695(MINT-8094602)   \n",
       "2  binding-associated region:626-695(MINT-8094630)   \n",
       "3  binding-associated region:626-695(MINT-8094654)   \n",
       "4                                                -   \n",
       "\n",
       "                            Feature(s) interactor B  \\\n",
       "0  binding-associated region:1063-1070(MINT-376288)   \n",
       "1                                                 -   \n",
       "2                                                 -   \n",
       "3                                                 -   \n",
       "4   binding-associated region:626-695(MINT-8094680)   \n",
       "\n",
       "  Stoichiometry(s) interactor A Stoichiometry(s) interactor B  \\\n",
       "0                             -                             -   \n",
       "1                             -                             -   \n",
       "2                             -                             -   \n",
       "3                             -                             -   \n",
       "4                             -                             -   \n",
       "\n",
       "                 Identification method participant A  \\\n",
       "0  psi-mi:\"MI:0078\"(nucleotide sequence identific...   \n",
       "1  psi-mi:\"MI:0078\"(nucleotide sequence identific...   \n",
       "2  psi-mi:\"MI:0078\"(nucleotide sequence identific...   \n",
       "3  psi-mi:\"MI:0078\"(nucleotide sequence identific...   \n",
       "4                psi-mi:\"MI:0083\"(peptide synthesis)   \n",
       "\n",
       "                 Identification method participant B  \n",
       "0  psi-mi:\"MI:0078\"(nucleotide sequence identific...  \n",
       "1                psi-mi:\"MI:0083\"(peptide synthesis)  \n",
       "2                psi-mi:\"MI:0083\"(peptide synthesis)  \n",
       "3                psi-mi:\"MI:0083\"(peptide synthesis)  \n",
       "4  psi-mi:\"MI:0078\"(nucleotide sequence identific...  \n",
       "\n",
       "[5 rows x 42 columns]"
      ]
     },
     "metadata": {},
     "output_type": "display_data"
    }
   ],
   "source": [
    "dfIntAct = pd.read_csv(os.path.join(cfg['rawDataIntact'],\n",
    "                                    \"intact_v{}.txt\".format(logVersions['IntAct']['rawData'])), \n",
    "                       sep=\"\\t\")\n",
    "glance(dfIntAct)"
   ]
  },
  {
   "cell_type": "code",
   "execution_count": 9,
   "metadata": {
    "ExecuteTime": {
     "start_time": "2019-10-30T15:53:50.239Z"
    },
    "execution": {
     "iopub.execute_input": "2022-01-10T16:42:07.218986Z",
     "iopub.status.busy": "2022-01-10T16:42:07.218767Z",
     "iopub.status.idle": "2022-01-10T16:42:07.223988Z",
     "shell.execute_reply": "2022-01-10T16:42:07.223646Z",
     "shell.execute_reply.started": "2022-01-10T16:42:07.218916Z"
    },
    "hidden": true
   },
   "outputs": [
    {
     "data": {
      "text/plain": [
       "#ID(s) interactor A                                                     uniprotkb:P49418\n",
       "ID(s) interactor B                                                      uniprotkb:O43426\n",
       "Alt. ID(s) interactor A                intact:EBI-7121510|uniprotkb:Q75MK5|uniprotkb:...\n",
       "Alt. ID(s) interactor B                intact:EBI-2821539|uniprotkb:O43425|uniprotkb:...\n",
       "Alias(es) interactor A                 psi-mi:amph_human(display_long)|uniprotkb:AMPH...\n",
       "Alias(es) interactor B                 psi-mi:synj1_human(display_long)|uniprotkb:SYN...\n",
       "Interaction detection method(s)                          psi-mi:\"MI:0084\"(phage display)\n",
       "Publication 1st author(s)                                           Cestra et al. (1999)\n",
       "Publication Identifier(s)                              pubmed:10542231|mint:MINT-5211933\n",
       "Taxid interactor A                            taxid:9606(human)|taxid:9606(Homo sapiens)\n",
       "Taxid interactor B                            taxid:9606(human)|taxid:9606(Homo sapiens)\n",
       "Interaction type(s)                                 psi-mi:\"MI:0407\"(direct interaction)\n",
       "Source database(s)                                                psi-mi:\"MI:0471\"(MINT)\n",
       "Interaction identifier(s)                             intact:EBI-7121552|mint:MINT-16056\n",
       "Confidence value(s)                                                  intact-miscore:0.56\n",
       "Expansion method(s)                                                                    -\n",
       "Biological role(s) interactor A                       psi-mi:\"MI:0499\"(unspecified role)\n",
       "Biological role(s) interactor B                       psi-mi:\"MI:0499\"(unspecified role)\n",
       "Experimental role(s) interactor A                                 psi-mi:\"MI:0498\"(prey)\n",
       "Experimental role(s) interactor B                                 psi-mi:\"MI:0496\"(bait)\n",
       "Type(s) interactor A                                           psi-mi:\"MI:0326\"(protein)\n",
       "Type(s) interactor B                                           psi-mi:\"MI:0326\"(protein)\n",
       "Xref(s) interactor A                   rcsb pdb:5M61|mint:P49418|rcsb pdb:5M5S|go:\"GO...\n",
       "Xref(s) interactor B                   go:\"GO:0061024\"(membrane organization)|go:\"GO:...\n",
       "Interaction Xref(s)                                                                    -\n",
       "Annotation(s) interactor A             function:May participate in mechanisms of regu...\n",
       "Annotation(s) interactor B                                  comment:\"Stoichiometry: 1.0\"\n",
       "Interaction annotation(s)                   comment:homomint|comment:domino|comment:mint\n",
       "Host organism(s)                                   taxid:-1(in vitro)|taxid:-1(In vitro)\n",
       "Interaction parameter(s)                                                               -\n",
       "Creation date                                                                 2001/01/10\n",
       "Update date                                                                   2014/10/16\n",
       "Checksum(s) interactor A                           rogid:vrgVrVoYr45cUe4X6L/zBAE1RtU9606\n",
       "Checksum(s) interactor B                           rogid:RA73eMbCn6F7MD0ItxF/V7QbjqM9606\n",
       "Interaction Checksum(s)                intact-crc:F4234557A3B54840|rigid:n+UcEH4PPLkF...\n",
       "Negative                                                                           False\n",
       "Feature(s) interactor A                   binding-associated region:626-695(MINT-376295)\n",
       "Feature(s) interactor B                 binding-associated region:1063-1070(MINT-376288)\n",
       "Stoichiometry(s) interactor A                                                          -\n",
       "Stoichiometry(s) interactor B                                                          -\n",
       "Identification method participant A    psi-mi:\"MI:0078\"(nucleotide sequence identific...\n",
       "Identification method participant B    psi-mi:\"MI:0078\"(nucleotide sequence identific...\n",
       "Name: 0, dtype: object"
      ]
     },
     "execution_count": 9,
     "metadata": {},
     "output_type": "execute_result"
    }
   ],
   "source": [
    "dfIntAct.iloc[0,:]"
   ]
  },
  {
   "cell_type": "markdown",
   "metadata": {},
   "source": [
    "## Filter 1: human PPIs with UniProtKB IDs"
   ]
  },
  {
   "cell_type": "markdown",
   "metadata": {},
   "source": [
    "**Parse and filter UniProtKB IDs**"
   ]
  },
  {
   "cell_type": "code",
   "execution_count": 10,
   "metadata": {
    "ExecuteTime": {
     "end_time": "2019-10-30T15:55:02.995520Z",
     "start_time": "2019-10-30T15:55:02.511829Z"
    },
    "execution": {
     "iopub.execute_input": "2022-01-10T16:42:07.224659Z",
     "iopub.status.busy": "2022-01-10T16:42:07.224514Z",
     "iopub.status.idle": "2022-01-10T16:42:07.925374Z",
     "shell.execute_reply": "2022-01-10T16:42:07.924836Z",
     "shell.execute_reply.started": "2022-01-10T16:42:07.224628Z"
    }
   },
   "outputs": [],
   "source": [
    "dfIntAct[\"All IDs interactor A\"] = dfIntAct[\"#ID(s) interactor A\"] + \"|\" + dfIntAct[\"Alt. ID(s) interactor A\"]\n",
    "dfIntAct[\"All IDs interactor B\"] = dfIntAct[\"ID(s) interactor B\"] + \"|\" + dfIntAct[\"Alt. ID(s) interactor B\"]"
   ]
  },
  {
   "cell_type": "markdown",
   "metadata": {},
   "source": [
    "*Extract UniProtKB ID*"
   ]
  },
  {
   "cell_type": "code",
   "execution_count": 11,
   "metadata": {
    "ExecuteTime": {
     "end_time": "2019-10-30T15:56:09.571471Z",
     "start_time": "2019-10-30T15:55:53.631857Z"
    },
    "execution": {
     "iopub.execute_input": "2022-01-10T16:42:07.926286Z",
     "iopub.status.busy": "2022-01-10T16:42:07.926057Z",
     "iopub.status.idle": "2022-01-10T16:42:49.533730Z",
     "shell.execute_reply": "2022-01-10T16:42:49.533134Z",
     "shell.execute_reply.started": "2022-01-10T16:42:07.926190Z"
    }
   },
   "outputs": [
    {
     "name": "stdout",
     "output_type": "stream",
     "text": [
      "DataFrame: 1,155,104 rows \t 48 columns\n"
     ]
    },
    {
     "data": {
      "text/html": [
       "<div>\n",
       "<style scoped>\n",
       "    .dataframe tbody tr th:only-of-type {\n",
       "        vertical-align: middle;\n",
       "    }\n",
       "\n",
       "    .dataframe tbody tr th {\n",
       "        vertical-align: top;\n",
       "    }\n",
       "\n",
       "    .dataframe thead th {\n",
       "        text-align: right;\n",
       "    }\n",
       "</style>\n",
       "<table border=\"1\" class=\"dataframe\">\n",
       "  <thead>\n",
       "    <tr style=\"text-align: right;\">\n",
       "      <th></th>\n",
       "      <th>#ID(s) interactor A</th>\n",
       "      <th>ID(s) interactor B</th>\n",
       "      <th>Alt. ID(s) interactor A</th>\n",
       "      <th>Alt. ID(s) interactor B</th>\n",
       "      <th>Alias(es) interactor A</th>\n",
       "      <th>Alias(es) interactor B</th>\n",
       "      <th>Interaction detection method(s)</th>\n",
       "      <th>Publication 1st author(s)</th>\n",
       "      <th>Publication Identifier(s)</th>\n",
       "      <th>Taxid interactor A</th>\n",
       "      <th>...</th>\n",
       "      <th>Stoichiometry(s) interactor A</th>\n",
       "      <th>Stoichiometry(s) interactor B</th>\n",
       "      <th>Identification method participant A</th>\n",
       "      <th>Identification method participant B</th>\n",
       "      <th>All IDs interactor A</th>\n",
       "      <th>All IDs interactor B</th>\n",
       "      <th>uniprotkb_IDs_A</th>\n",
       "      <th>uniprotkb_IDs_B</th>\n",
       "      <th>first_uniprotkb_IDs_A</th>\n",
       "      <th>first_uniprotkb_IDs_B</th>\n",
       "    </tr>\n",
       "  </thead>\n",
       "  <tbody>\n",
       "    <tr>\n",
       "      <th>0</th>\n",
       "      <td>uniprotkb:P49418</td>\n",
       "      <td>uniprotkb:O43426</td>\n",
       "      <td>intact:EBI-7121510|uniprotkb:Q75MK5|uniprotkb:...</td>\n",
       "      <td>intact:EBI-2821539|uniprotkb:O43425|uniprotkb:...</td>\n",
       "      <td>psi-mi:amph_human(display_long)|uniprotkb:AMPH...</td>\n",
       "      <td>psi-mi:synj1_human(display_long)|uniprotkb:SYN...</td>\n",
       "      <td>psi-mi:\"MI:0084\"(phage display)</td>\n",
       "      <td>Cestra et al. (1999)</td>\n",
       "      <td>pubmed:10542231|mint:MINT-5211933</td>\n",
       "      <td>taxid:9606(human)|taxid:9606(Homo sapiens)</td>\n",
       "      <td>...</td>\n",
       "      <td>-</td>\n",
       "      <td>-</td>\n",
       "      <td>psi-mi:\"MI:0078\"(nucleotide sequence identific...</td>\n",
       "      <td>psi-mi:\"MI:0078\"(nucleotide sequence identific...</td>\n",
       "      <td>uniprotkb:P49418|intact:EBI-7121510|uniprotkb:...</td>\n",
       "      <td>uniprotkb:O43426|intact:EBI-2821539|uniprotkb:...</td>\n",
       "      <td>P49418|Q75MK5|Q75MM3|A4D1X9|O43538|A4D1X8|Q75M...</td>\n",
       "      <td>O43426|O43425|O94984|Q4KMR1</td>\n",
       "      <td>P49418</td>\n",
       "      <td>O43426</td>\n",
       "    </tr>\n",
       "    <tr>\n",
       "      <th>1</th>\n",
       "      <td>uniprotkb:P49418</td>\n",
       "      <td>intact:EBI-7121639</td>\n",
       "      <td>intact:EBI-7121510|uniprotkb:Q75MK5|uniprotkb:...</td>\n",
       "      <td>intact:MINT-8094608</td>\n",
       "      <td>psi-mi:amph_human(display_long)|uniprotkb:AMPH...</td>\n",
       "      <td>psi-mi:vrparrvlw(display_short)|psi-mi:EBI-712...</td>\n",
       "      <td>psi-mi:\"MI:0084\"(phage display)</td>\n",
       "      <td>Cestra et al. (1999)</td>\n",
       "      <td>pubmed:10542231|mint:MINT-5211933</td>\n",
       "      <td>taxid:9606(human)|taxid:9606(Homo sapiens)</td>\n",
       "      <td>...</td>\n",
       "      <td>-</td>\n",
       "      <td>-</td>\n",
       "      <td>psi-mi:\"MI:0078\"(nucleotide sequence identific...</td>\n",
       "      <td>psi-mi:\"MI:0083\"(peptide synthesis)</td>\n",
       "      <td>uniprotkb:P49418|intact:EBI-7121510|uniprotkb:...</td>\n",
       "      <td>intact:EBI-7121639|intact:MINT-8094608</td>\n",
       "      <td>P49418|Q75MK5|Q75MM3|A4D1X9|O43538|A4D1X8|Q75M...</td>\n",
       "      <td></td>\n",
       "      <td>P49418</td>\n",
       "      <td></td>\n",
       "    </tr>\n",
       "    <tr>\n",
       "      <th>2</th>\n",
       "      <td>uniprotkb:P49418</td>\n",
       "      <td>intact:EBI-7121654</td>\n",
       "      <td>intact:EBI-7121510|uniprotkb:Q75MK5|uniprotkb:...</td>\n",
       "      <td>intact:MINT-8094645</td>\n",
       "      <td>psi-mi:amph_human(display_long)|uniprotkb:AMPH...</td>\n",
       "      <td>psi-mi:hrpvrraap(display_short)|psi-mi:EBI-712...</td>\n",
       "      <td>psi-mi:\"MI:0084\"(phage display)</td>\n",
       "      <td>Cestra et al. (1999)</td>\n",
       "      <td>pubmed:10542231|mint:MINT-5211933</td>\n",
       "      <td>taxid:9606(human)|taxid:9606(Homo sapiens)</td>\n",
       "      <td>...</td>\n",
       "      <td>-</td>\n",
       "      <td>-</td>\n",
       "      <td>psi-mi:\"MI:0078\"(nucleotide sequence identific...</td>\n",
       "      <td>psi-mi:\"MI:0083\"(peptide synthesis)</td>\n",
       "      <td>uniprotkb:P49418|intact:EBI-7121510|uniprotkb:...</td>\n",
       "      <td>intact:EBI-7121654|intact:MINT-8094645</td>\n",
       "      <td>P49418|Q75MK5|Q75MM3|A4D1X9|O43538|A4D1X8|Q75M...</td>\n",
       "      <td></td>\n",
       "      <td>P49418</td>\n",
       "      <td></td>\n",
       "    </tr>\n",
       "    <tr>\n",
       "      <th>3</th>\n",
       "      <td>uniprotkb:P49418</td>\n",
       "      <td>intact:EBI-7121715</td>\n",
       "      <td>intact:EBI-7121510|uniprotkb:Q75MK5|uniprotkb:...</td>\n",
       "      <td>intact:MINT-8094663</td>\n",
       "      <td>psi-mi:amph_human(display_long)|uniprotkb:AMPH...</td>\n",
       "      <td>psi-mi:vrptraada(display_short)|psi-mi:EBI-712...</td>\n",
       "      <td>psi-mi:\"MI:0084\"(phage display)</td>\n",
       "      <td>Cestra et al. (1999)</td>\n",
       "      <td>pubmed:10542231|mint:MINT-5211933</td>\n",
       "      <td>taxid:9606(human)|taxid:9606(Homo sapiens)</td>\n",
       "      <td>...</td>\n",
       "      <td>-</td>\n",
       "      <td>-</td>\n",
       "      <td>psi-mi:\"MI:0078\"(nucleotide sequence identific...</td>\n",
       "      <td>psi-mi:\"MI:0083\"(peptide synthesis)</td>\n",
       "      <td>uniprotkb:P49418|intact:EBI-7121510|uniprotkb:...</td>\n",
       "      <td>intact:EBI-7121715|intact:MINT-8094663</td>\n",
       "      <td>P49418|Q75MK5|Q75MM3|A4D1X9|O43538|A4D1X8|Q75M...</td>\n",
       "      <td></td>\n",
       "      <td>P49418</td>\n",
       "      <td></td>\n",
       "    </tr>\n",
       "    <tr>\n",
       "      <th>4</th>\n",
       "      <td>intact:EBI-7121765</td>\n",
       "      <td>uniprotkb:P49418</td>\n",
       "      <td>intact:MINT-8094691</td>\n",
       "      <td>intact:EBI-7121510|uniprotkb:Q75MK5|uniprotkb:...</td>\n",
       "      <td>psi-mi:xrprrghal(display_short)|psi-mi:EBI-712...</td>\n",
       "      <td>psi-mi:amph_human(display_long)|uniprotkb:AMPH...</td>\n",
       "      <td>psi-mi:\"MI:0084\"(phage display)</td>\n",
       "      <td>Cestra et al. (1999)</td>\n",
       "      <td>pubmed:10542231|mint:MINT-5211933</td>\n",
       "      <td>taxid:-2(chemical synthesis)|taxid:-2(\"Chemica...</td>\n",
       "      <td>...</td>\n",
       "      <td>-</td>\n",
       "      <td>-</td>\n",
       "      <td>psi-mi:\"MI:0083\"(peptide synthesis)</td>\n",
       "      <td>psi-mi:\"MI:0078\"(nucleotide sequence identific...</td>\n",
       "      <td>intact:EBI-7121765|intact:MINT-8094691</td>\n",
       "      <td>uniprotkb:P49418|intact:EBI-7121510|uniprotkb:...</td>\n",
       "      <td></td>\n",
       "      <td>P49418|Q75MK5|Q75MM3|A4D1X9|O43538|A4D1X8|Q75M...</td>\n",
       "      <td></td>\n",
       "      <td>P49418</td>\n",
       "    </tr>\n",
       "  </tbody>\n",
       "</table>\n",
       "<p>5 rows × 48 columns</p>\n",
       "</div>"
      ],
      "text/plain": [
       "  #ID(s) interactor A  ID(s) interactor B  \\\n",
       "0    uniprotkb:P49418    uniprotkb:O43426   \n",
       "1    uniprotkb:P49418  intact:EBI-7121639   \n",
       "2    uniprotkb:P49418  intact:EBI-7121654   \n",
       "3    uniprotkb:P49418  intact:EBI-7121715   \n",
       "4  intact:EBI-7121765    uniprotkb:P49418   \n",
       "\n",
       "                             Alt. ID(s) interactor A  \\\n",
       "0  intact:EBI-7121510|uniprotkb:Q75MK5|uniprotkb:...   \n",
       "1  intact:EBI-7121510|uniprotkb:Q75MK5|uniprotkb:...   \n",
       "2  intact:EBI-7121510|uniprotkb:Q75MK5|uniprotkb:...   \n",
       "3  intact:EBI-7121510|uniprotkb:Q75MK5|uniprotkb:...   \n",
       "4                                intact:MINT-8094691   \n",
       "\n",
       "                             Alt. ID(s) interactor B  \\\n",
       "0  intact:EBI-2821539|uniprotkb:O43425|uniprotkb:...   \n",
       "1                                intact:MINT-8094608   \n",
       "2                                intact:MINT-8094645   \n",
       "3                                intact:MINT-8094663   \n",
       "4  intact:EBI-7121510|uniprotkb:Q75MK5|uniprotkb:...   \n",
       "\n",
       "                              Alias(es) interactor A  \\\n",
       "0  psi-mi:amph_human(display_long)|uniprotkb:AMPH...   \n",
       "1  psi-mi:amph_human(display_long)|uniprotkb:AMPH...   \n",
       "2  psi-mi:amph_human(display_long)|uniprotkb:AMPH...   \n",
       "3  psi-mi:amph_human(display_long)|uniprotkb:AMPH...   \n",
       "4  psi-mi:xrprrghal(display_short)|psi-mi:EBI-712...   \n",
       "\n",
       "                              Alias(es) interactor B  \\\n",
       "0  psi-mi:synj1_human(display_long)|uniprotkb:SYN...   \n",
       "1  psi-mi:vrparrvlw(display_short)|psi-mi:EBI-712...   \n",
       "2  psi-mi:hrpvrraap(display_short)|psi-mi:EBI-712...   \n",
       "3  psi-mi:vrptraada(display_short)|psi-mi:EBI-712...   \n",
       "4  psi-mi:amph_human(display_long)|uniprotkb:AMPH...   \n",
       "\n",
       "   Interaction detection method(s) Publication 1st author(s)  \\\n",
       "0  psi-mi:\"MI:0084\"(phage display)      Cestra et al. (1999)   \n",
       "1  psi-mi:\"MI:0084\"(phage display)      Cestra et al. (1999)   \n",
       "2  psi-mi:\"MI:0084\"(phage display)      Cestra et al. (1999)   \n",
       "3  psi-mi:\"MI:0084\"(phage display)      Cestra et al. (1999)   \n",
       "4  psi-mi:\"MI:0084\"(phage display)      Cestra et al. (1999)   \n",
       "\n",
       "           Publication Identifier(s)  \\\n",
       "0  pubmed:10542231|mint:MINT-5211933   \n",
       "1  pubmed:10542231|mint:MINT-5211933   \n",
       "2  pubmed:10542231|mint:MINT-5211933   \n",
       "3  pubmed:10542231|mint:MINT-5211933   \n",
       "4  pubmed:10542231|mint:MINT-5211933   \n",
       "\n",
       "                                  Taxid interactor A  ...  \\\n",
       "0         taxid:9606(human)|taxid:9606(Homo sapiens)  ...   \n",
       "1         taxid:9606(human)|taxid:9606(Homo sapiens)  ...   \n",
       "2         taxid:9606(human)|taxid:9606(Homo sapiens)  ...   \n",
       "3         taxid:9606(human)|taxid:9606(Homo sapiens)  ...   \n",
       "4  taxid:-2(chemical synthesis)|taxid:-2(\"Chemica...  ...   \n",
       "\n",
       "  Stoichiometry(s) interactor A Stoichiometry(s) interactor B  \\\n",
       "0                             -                             -   \n",
       "1                             -                             -   \n",
       "2                             -                             -   \n",
       "3                             -                             -   \n",
       "4                             -                             -   \n",
       "\n",
       "                 Identification method participant A  \\\n",
       "0  psi-mi:\"MI:0078\"(nucleotide sequence identific...   \n",
       "1  psi-mi:\"MI:0078\"(nucleotide sequence identific...   \n",
       "2  psi-mi:\"MI:0078\"(nucleotide sequence identific...   \n",
       "3  psi-mi:\"MI:0078\"(nucleotide sequence identific...   \n",
       "4                psi-mi:\"MI:0083\"(peptide synthesis)   \n",
       "\n",
       "                 Identification method participant B  \\\n",
       "0  psi-mi:\"MI:0078\"(nucleotide sequence identific...   \n",
       "1                psi-mi:\"MI:0083\"(peptide synthesis)   \n",
       "2                psi-mi:\"MI:0083\"(peptide synthesis)   \n",
       "3                psi-mi:\"MI:0083\"(peptide synthesis)   \n",
       "4  psi-mi:\"MI:0078\"(nucleotide sequence identific...   \n",
       "\n",
       "                                All IDs interactor A  \\\n",
       "0  uniprotkb:P49418|intact:EBI-7121510|uniprotkb:...   \n",
       "1  uniprotkb:P49418|intact:EBI-7121510|uniprotkb:...   \n",
       "2  uniprotkb:P49418|intact:EBI-7121510|uniprotkb:...   \n",
       "3  uniprotkb:P49418|intact:EBI-7121510|uniprotkb:...   \n",
       "4             intact:EBI-7121765|intact:MINT-8094691   \n",
       "\n",
       "                                All IDs interactor B  \\\n",
       "0  uniprotkb:O43426|intact:EBI-2821539|uniprotkb:...   \n",
       "1             intact:EBI-7121639|intact:MINT-8094608   \n",
       "2             intact:EBI-7121654|intact:MINT-8094645   \n",
       "3             intact:EBI-7121715|intact:MINT-8094663   \n",
       "4  uniprotkb:P49418|intact:EBI-7121510|uniprotkb:...   \n",
       "\n",
       "                                     uniprotkb_IDs_A  \\\n",
       "0  P49418|Q75MK5|Q75MM3|A4D1X9|O43538|A4D1X8|Q75M...   \n",
       "1  P49418|Q75MK5|Q75MM3|A4D1X9|O43538|A4D1X8|Q75M...   \n",
       "2  P49418|Q75MK5|Q75MM3|A4D1X9|O43538|A4D1X8|Q75M...   \n",
       "3  P49418|Q75MK5|Q75MM3|A4D1X9|O43538|A4D1X8|Q75M...   \n",
       "4                                                      \n",
       "\n",
       "                                     uniprotkb_IDs_B first_uniprotkb_IDs_A  \\\n",
       "0                        O43426|O43425|O94984|Q4KMR1                P49418   \n",
       "1                                                                   P49418   \n",
       "2                                                                   P49418   \n",
       "3                                                                   P49418   \n",
       "4  P49418|Q75MK5|Q75MM3|A4D1X9|O43538|A4D1X8|Q75M...                         \n",
       "\n",
       "  first_uniprotkb_IDs_B  \n",
       "0                O43426  \n",
       "1                        \n",
       "2                        \n",
       "3                        \n",
       "4                P49418  \n",
       "\n",
       "[5 rows x 48 columns]"
      ]
     },
     "metadata": {},
     "output_type": "display_data"
    }
   ],
   "source": [
    "regex1 = re.compile(r\"(?<=uniprotkb:)[\\w]+\")\n",
    "\n",
    "dfIntAct.loc[:,'uniprotkb_IDs_A'] = ['|'.join(m) for m in (re.findall(regex1, line) for line in dfIntAct.loc[:,\"All IDs interactor A\"])]\n",
    "dfIntAct.loc[:,'uniprotkb_IDs_B'] = ['|'.join(m) for m in (re.findall(regex1, line) for line in dfIntAct.loc[:,\"All IDs interactor B\"])]\n",
    "\n",
    "dfIntAct.loc[:,'first_uniprotkb_IDs_A'] = [m.group() if m else '' for m in (regex1.search(line) for line in dfIntAct.loc[:,\"All IDs interactor A\"])]\n",
    "dfIntAct.loc[:,'first_uniprotkb_IDs_B'] = [m.group() if m else '' for m in (regex1.search(line) for line in dfIntAct.loc[:,\"All IDs interactor B\"])]\n",
    "\n",
    "glance(dfIntAct)"
   ]
  },
  {
   "cell_type": "markdown",
   "metadata": {},
   "source": [
    "*Remove interactions with missing IDs*"
   ]
  },
  {
   "cell_type": "code",
   "execution_count": 12,
   "metadata": {
    "execution": {
     "iopub.execute_input": "2022-01-10T16:42:49.534753Z",
     "iopub.status.busy": "2022-01-10T16:42:49.534589Z",
     "iopub.status.idle": "2022-01-10T16:42:51.891742Z",
     "shell.execute_reply": "2022-01-10T16:42:51.891122Z",
     "shell.execute_reply.started": "2022-01-10T16:42:49.534727Z"
    }
   },
   "outputs": [
    {
     "name": "stdout",
     "output_type": "stream",
     "text": [
      "88,897/1,155,104 (7.7%) of the interactions have at least one interactor without uniprotKB ID\n"
     ]
    }
   ],
   "source": [
    "foo = (dfIntAct.first_uniprotkb_IDs_A == '')|(dfIntAct.first_uniprotkb_IDs_B == '')\n",
    "\n",
    "print('{:,}/{:,} ({:.1%}) of the interactions have at least one interactor without uniprotKB ID'.format(\n",
    "    len(dfIntAct.loc[foo]),\n",
    "    len(dfIntAct),\n",
    "    len(dfIntAct.loc[foo])/len(dfIntAct)\n",
    "\n",
    "))"
   ]
  },
  {
   "cell_type": "code",
   "execution_count": 13,
   "metadata": {
    "execution": {
     "iopub.execute_input": "2022-01-10T16:42:51.893821Z",
     "iopub.status.busy": "2022-01-10T16:42:51.893651Z",
     "iopub.status.idle": "2022-01-10T16:42:52.380863Z",
     "shell.execute_reply": "2022-01-10T16:42:52.380401Z",
     "shell.execute_reply.started": "2022-01-10T16:42:51.893793Z"
    }
   },
   "outputs": [
    {
     "name": "stdout",
     "output_type": "stream",
     "text": [
      "DataFrame: 1,066,207 rows \t 48 columns\n"
     ]
    },
    {
     "data": {
      "text/html": [
       "<div>\n",
       "<style scoped>\n",
       "    .dataframe tbody tr th:only-of-type {\n",
       "        vertical-align: middle;\n",
       "    }\n",
       "\n",
       "    .dataframe tbody tr th {\n",
       "        vertical-align: top;\n",
       "    }\n",
       "\n",
       "    .dataframe thead th {\n",
       "        text-align: right;\n",
       "    }\n",
       "</style>\n",
       "<table border=\"1\" class=\"dataframe\">\n",
       "  <thead>\n",
       "    <tr style=\"text-align: right;\">\n",
       "      <th></th>\n",
       "      <th>#ID(s) interactor A</th>\n",
       "      <th>ID(s) interactor B</th>\n",
       "      <th>Alt. ID(s) interactor A</th>\n",
       "      <th>Alt. ID(s) interactor B</th>\n",
       "      <th>Alias(es) interactor A</th>\n",
       "      <th>Alias(es) interactor B</th>\n",
       "      <th>Interaction detection method(s)</th>\n",
       "      <th>Publication 1st author(s)</th>\n",
       "      <th>Publication Identifier(s)</th>\n",
       "      <th>Taxid interactor A</th>\n",
       "      <th>...</th>\n",
       "      <th>Stoichiometry(s) interactor A</th>\n",
       "      <th>Stoichiometry(s) interactor B</th>\n",
       "      <th>Identification method participant A</th>\n",
       "      <th>Identification method participant B</th>\n",
       "      <th>All IDs interactor A</th>\n",
       "      <th>All IDs interactor B</th>\n",
       "      <th>uniprotkb_IDs_A</th>\n",
       "      <th>uniprotkb_IDs_B</th>\n",
       "      <th>first_uniprotkb_IDs_A</th>\n",
       "      <th>first_uniprotkb_IDs_B</th>\n",
       "    </tr>\n",
       "  </thead>\n",
       "  <tbody>\n",
       "    <tr>\n",
       "      <th>0</th>\n",
       "      <td>uniprotkb:P49418</td>\n",
       "      <td>uniprotkb:O43426</td>\n",
       "      <td>intact:EBI-7121510|uniprotkb:Q75MK5|uniprotkb:...</td>\n",
       "      <td>intact:EBI-2821539|uniprotkb:O43425|uniprotkb:...</td>\n",
       "      <td>psi-mi:amph_human(display_long)|uniprotkb:AMPH...</td>\n",
       "      <td>psi-mi:synj1_human(display_long)|uniprotkb:SYN...</td>\n",
       "      <td>psi-mi:\"MI:0084\"(phage display)</td>\n",
       "      <td>Cestra et al. (1999)</td>\n",
       "      <td>pubmed:10542231|mint:MINT-5211933</td>\n",
       "      <td>taxid:9606(human)|taxid:9606(Homo sapiens)</td>\n",
       "      <td>...</td>\n",
       "      <td>-</td>\n",
       "      <td>-</td>\n",
       "      <td>psi-mi:\"MI:0078\"(nucleotide sequence identific...</td>\n",
       "      <td>psi-mi:\"MI:0078\"(nucleotide sequence identific...</td>\n",
       "      <td>uniprotkb:P49418|intact:EBI-7121510|uniprotkb:...</td>\n",
       "      <td>uniprotkb:O43426|intact:EBI-2821539|uniprotkb:...</td>\n",
       "      <td>P49418|Q75MK5|Q75MM3|A4D1X9|O43538|A4D1X8|Q75M...</td>\n",
       "      <td>O43426|O43425|O94984|Q4KMR1</td>\n",
       "      <td>P49418</td>\n",
       "      <td>O43426</td>\n",
       "    </tr>\n",
       "    <tr>\n",
       "      <th>28</th>\n",
       "      <td>uniprotkb:P49418</td>\n",
       "      <td>uniprotkb:O43426</td>\n",
       "      <td>intact:EBI-7121510|uniprotkb:Q75MK5|uniprotkb:...</td>\n",
       "      <td>intact:EBI-2821539|uniprotkb:O43425|uniprotkb:...</td>\n",
       "      <td>psi-mi:amph_human(display_long)|uniprotkb:AMPH...</td>\n",
       "      <td>psi-mi:synj1_human(display_long)|uniprotkb:SYN...</td>\n",
       "      <td>psi-mi:\"MI:0081\"(peptide array)</td>\n",
       "      <td>Cestra et al. (1999)</td>\n",
       "      <td>pubmed:10542231|mint:MINT-5211933</td>\n",
       "      <td>taxid:9606(human)|taxid:9606(Homo sapiens)</td>\n",
       "      <td>...</td>\n",
       "      <td>-</td>\n",
       "      <td>-</td>\n",
       "      <td>psi-mi:\"MI:0411\"(enzyme linked immunosorbent a...</td>\n",
       "      <td>psi-mi:\"MI:0083\"(peptide synthesis)</td>\n",
       "      <td>uniprotkb:P49418|intact:EBI-7121510|uniprotkb:...</td>\n",
       "      <td>uniprotkb:O43426|intact:EBI-2821539|uniprotkb:...</td>\n",
       "      <td>P49418|Q75MK5|Q75MM3|A4D1X9|O43538|A4D1X8|Q75M...</td>\n",
       "      <td>O43426|O43425|O94984|Q4KMR1</td>\n",
       "      <td>P49418</td>\n",
       "      <td>O43426</td>\n",
       "    </tr>\n",
       "    <tr>\n",
       "      <th>29</th>\n",
       "      <td>uniprotkb:P49418</td>\n",
       "      <td>uniprotkb:O43426</td>\n",
       "      <td>intact:EBI-7121510|uniprotkb:Q75MK5|uniprotkb:...</td>\n",
       "      <td>intact:EBI-2821539|uniprotkb:O43425|uniprotkb:...</td>\n",
       "      <td>psi-mi:amph_human(display_long)|uniprotkb:AMPH...</td>\n",
       "      <td>psi-mi:synj1_human(display_long)|uniprotkb:SYN...</td>\n",
       "      <td>psi-mi:\"MI:0081\"(peptide array)</td>\n",
       "      <td>Cestra et al. (1999)</td>\n",
       "      <td>pubmed:10542231|mint:MINT-5211933</td>\n",
       "      <td>taxid:9606(human)|taxid:9606(Homo sapiens)</td>\n",
       "      <td>...</td>\n",
       "      <td>-</td>\n",
       "      <td>-</td>\n",
       "      <td>psi-mi:\"MI:0411\"(enzyme linked immunosorbent a...</td>\n",
       "      <td>psi-mi:\"MI:0083\"(peptide synthesis)</td>\n",
       "      <td>uniprotkb:P49418|intact:EBI-7121510|uniprotkb:...</td>\n",
       "      <td>uniprotkb:O43426|intact:EBI-2821539|uniprotkb:...</td>\n",
       "      <td>P49418|Q75MK5|Q75MM3|A4D1X9|O43538|A4D1X8|Q75M...</td>\n",
       "      <td>O43426|O43425|O94984|Q4KMR1</td>\n",
       "      <td>P49418</td>\n",
       "      <td>O43426</td>\n",
       "    </tr>\n",
       "    <tr>\n",
       "      <th>30</th>\n",
       "      <td>uniprotkb:P49418</td>\n",
       "      <td>uniprotkb:O43426</td>\n",
       "      <td>intact:EBI-7121510|uniprotkb:Q75MK5|uniprotkb:...</td>\n",
       "      <td>intact:EBI-2821539|uniprotkb:O43425|uniprotkb:...</td>\n",
       "      <td>psi-mi:amph_human(display_long)|uniprotkb:AMPH...</td>\n",
       "      <td>psi-mi:synj1_human(display_long)|uniprotkb:SYN...</td>\n",
       "      <td>psi-mi:\"MI:0081\"(peptide array)</td>\n",
       "      <td>Cestra et al. (1999)</td>\n",
       "      <td>pubmed:10542231|mint:MINT-5211933</td>\n",
       "      <td>taxid:9606(human)|taxid:9606(Homo sapiens)</td>\n",
       "      <td>...</td>\n",
       "      <td>-</td>\n",
       "      <td>-</td>\n",
       "      <td>psi-mi:\"MI:0411\"(enzyme linked immunosorbent a...</td>\n",
       "      <td>psi-mi:\"MI:0083\"(peptide synthesis)</td>\n",
       "      <td>uniprotkb:P49418|intact:EBI-7121510|uniprotkb:...</td>\n",
       "      <td>uniprotkb:O43426|intact:EBI-2821539|uniprotkb:...</td>\n",
       "      <td>P49418|Q75MK5|Q75MM3|A4D1X9|O43538|A4D1X8|Q75M...</td>\n",
       "      <td>O43426|O43425|O94984|Q4KMR1</td>\n",
       "      <td>P49418</td>\n",
       "      <td>O43426</td>\n",
       "    </tr>\n",
       "    <tr>\n",
       "      <th>31</th>\n",
       "      <td>uniprotkb:Q99961</td>\n",
       "      <td>uniprotkb:O43426</td>\n",
       "      <td>intact:EBI-697911|uniprotkb:Q99668|uniprotkb:B...</td>\n",
       "      <td>intact:EBI-2821539|uniprotkb:O43425|uniprotkb:...</td>\n",
       "      <td>psi-mi:sh3g1_human(display_long)|uniprotkb:End...</td>\n",
       "      <td>psi-mi:synj1_human(display_long)|uniprotkb:SYN...</td>\n",
       "      <td>psi-mi:\"MI:0081\"(peptide array)</td>\n",
       "      <td>Cestra et al. (1999)</td>\n",
       "      <td>pubmed:10542231|mint:MINT-5211933</td>\n",
       "      <td>taxid:9606(human)|taxid:9606(Homo sapiens)</td>\n",
       "      <td>...</td>\n",
       "      <td>-</td>\n",
       "      <td>-</td>\n",
       "      <td>psi-mi:\"MI:0411\"(enzyme linked immunosorbent a...</td>\n",
       "      <td>psi-mi:\"MI:0083\"(peptide synthesis)</td>\n",
       "      <td>uniprotkb:Q99961|intact:EBI-697911|uniprotkb:Q...</td>\n",
       "      <td>uniprotkb:O43426|intact:EBI-2821539|uniprotkb:...</td>\n",
       "      <td>Q99961|Q99668|B4DRA1|E7EVZ4|M0QZV5</td>\n",
       "      <td>O43426|O43425|O94984|Q4KMR1</td>\n",
       "      <td>Q99961</td>\n",
       "      <td>O43426</td>\n",
       "    </tr>\n",
       "  </tbody>\n",
       "</table>\n",
       "<p>5 rows × 48 columns</p>\n",
       "</div>"
      ],
      "text/plain": [
       "   #ID(s) interactor A ID(s) interactor B  \\\n",
       "0     uniprotkb:P49418   uniprotkb:O43426   \n",
       "28    uniprotkb:P49418   uniprotkb:O43426   \n",
       "29    uniprotkb:P49418   uniprotkb:O43426   \n",
       "30    uniprotkb:P49418   uniprotkb:O43426   \n",
       "31    uniprotkb:Q99961   uniprotkb:O43426   \n",
       "\n",
       "                              Alt. ID(s) interactor A  \\\n",
       "0   intact:EBI-7121510|uniprotkb:Q75MK5|uniprotkb:...   \n",
       "28  intact:EBI-7121510|uniprotkb:Q75MK5|uniprotkb:...   \n",
       "29  intact:EBI-7121510|uniprotkb:Q75MK5|uniprotkb:...   \n",
       "30  intact:EBI-7121510|uniprotkb:Q75MK5|uniprotkb:...   \n",
       "31  intact:EBI-697911|uniprotkb:Q99668|uniprotkb:B...   \n",
       "\n",
       "                              Alt. ID(s) interactor B  \\\n",
       "0   intact:EBI-2821539|uniprotkb:O43425|uniprotkb:...   \n",
       "28  intact:EBI-2821539|uniprotkb:O43425|uniprotkb:...   \n",
       "29  intact:EBI-2821539|uniprotkb:O43425|uniprotkb:...   \n",
       "30  intact:EBI-2821539|uniprotkb:O43425|uniprotkb:...   \n",
       "31  intact:EBI-2821539|uniprotkb:O43425|uniprotkb:...   \n",
       "\n",
       "                               Alias(es) interactor A  \\\n",
       "0   psi-mi:amph_human(display_long)|uniprotkb:AMPH...   \n",
       "28  psi-mi:amph_human(display_long)|uniprotkb:AMPH...   \n",
       "29  psi-mi:amph_human(display_long)|uniprotkb:AMPH...   \n",
       "30  psi-mi:amph_human(display_long)|uniprotkb:AMPH...   \n",
       "31  psi-mi:sh3g1_human(display_long)|uniprotkb:End...   \n",
       "\n",
       "                               Alias(es) interactor B  \\\n",
       "0   psi-mi:synj1_human(display_long)|uniprotkb:SYN...   \n",
       "28  psi-mi:synj1_human(display_long)|uniprotkb:SYN...   \n",
       "29  psi-mi:synj1_human(display_long)|uniprotkb:SYN...   \n",
       "30  psi-mi:synj1_human(display_long)|uniprotkb:SYN...   \n",
       "31  psi-mi:synj1_human(display_long)|uniprotkb:SYN...   \n",
       "\n",
       "    Interaction detection method(s) Publication 1st author(s)  \\\n",
       "0   psi-mi:\"MI:0084\"(phage display)      Cestra et al. (1999)   \n",
       "28  psi-mi:\"MI:0081\"(peptide array)      Cestra et al. (1999)   \n",
       "29  psi-mi:\"MI:0081\"(peptide array)      Cestra et al. (1999)   \n",
       "30  psi-mi:\"MI:0081\"(peptide array)      Cestra et al. (1999)   \n",
       "31  psi-mi:\"MI:0081\"(peptide array)      Cestra et al. (1999)   \n",
       "\n",
       "            Publication Identifier(s)  \\\n",
       "0   pubmed:10542231|mint:MINT-5211933   \n",
       "28  pubmed:10542231|mint:MINT-5211933   \n",
       "29  pubmed:10542231|mint:MINT-5211933   \n",
       "30  pubmed:10542231|mint:MINT-5211933   \n",
       "31  pubmed:10542231|mint:MINT-5211933   \n",
       "\n",
       "                            Taxid interactor A  ...  \\\n",
       "0   taxid:9606(human)|taxid:9606(Homo sapiens)  ...   \n",
       "28  taxid:9606(human)|taxid:9606(Homo sapiens)  ...   \n",
       "29  taxid:9606(human)|taxid:9606(Homo sapiens)  ...   \n",
       "30  taxid:9606(human)|taxid:9606(Homo sapiens)  ...   \n",
       "31  taxid:9606(human)|taxid:9606(Homo sapiens)  ...   \n",
       "\n",
       "   Stoichiometry(s) interactor A Stoichiometry(s) interactor B  \\\n",
       "0                              -                             -   \n",
       "28                             -                             -   \n",
       "29                             -                             -   \n",
       "30                             -                             -   \n",
       "31                             -                             -   \n",
       "\n",
       "                  Identification method participant A  \\\n",
       "0   psi-mi:\"MI:0078\"(nucleotide sequence identific...   \n",
       "28  psi-mi:\"MI:0411\"(enzyme linked immunosorbent a...   \n",
       "29  psi-mi:\"MI:0411\"(enzyme linked immunosorbent a...   \n",
       "30  psi-mi:\"MI:0411\"(enzyme linked immunosorbent a...   \n",
       "31  psi-mi:\"MI:0411\"(enzyme linked immunosorbent a...   \n",
       "\n",
       "                  Identification method participant B  \\\n",
       "0   psi-mi:\"MI:0078\"(nucleotide sequence identific...   \n",
       "28                psi-mi:\"MI:0083\"(peptide synthesis)   \n",
       "29                psi-mi:\"MI:0083\"(peptide synthesis)   \n",
       "30                psi-mi:\"MI:0083\"(peptide synthesis)   \n",
       "31                psi-mi:\"MI:0083\"(peptide synthesis)   \n",
       "\n",
       "                                 All IDs interactor A  \\\n",
       "0   uniprotkb:P49418|intact:EBI-7121510|uniprotkb:...   \n",
       "28  uniprotkb:P49418|intact:EBI-7121510|uniprotkb:...   \n",
       "29  uniprotkb:P49418|intact:EBI-7121510|uniprotkb:...   \n",
       "30  uniprotkb:P49418|intact:EBI-7121510|uniprotkb:...   \n",
       "31  uniprotkb:Q99961|intact:EBI-697911|uniprotkb:Q...   \n",
       "\n",
       "                                 All IDs interactor B  \\\n",
       "0   uniprotkb:O43426|intact:EBI-2821539|uniprotkb:...   \n",
       "28  uniprotkb:O43426|intact:EBI-2821539|uniprotkb:...   \n",
       "29  uniprotkb:O43426|intact:EBI-2821539|uniprotkb:...   \n",
       "30  uniprotkb:O43426|intact:EBI-2821539|uniprotkb:...   \n",
       "31  uniprotkb:O43426|intact:EBI-2821539|uniprotkb:...   \n",
       "\n",
       "                                      uniprotkb_IDs_A  \\\n",
       "0   P49418|Q75MK5|Q75MM3|A4D1X9|O43538|A4D1X8|Q75M...   \n",
       "28  P49418|Q75MK5|Q75MM3|A4D1X9|O43538|A4D1X8|Q75M...   \n",
       "29  P49418|Q75MK5|Q75MM3|A4D1X9|O43538|A4D1X8|Q75M...   \n",
       "30  P49418|Q75MK5|Q75MM3|A4D1X9|O43538|A4D1X8|Q75M...   \n",
       "31                 Q99961|Q99668|B4DRA1|E7EVZ4|M0QZV5   \n",
       "\n",
       "                uniprotkb_IDs_B first_uniprotkb_IDs_A first_uniprotkb_IDs_B  \n",
       "0   O43426|O43425|O94984|Q4KMR1                P49418                O43426  \n",
       "28  O43426|O43425|O94984|Q4KMR1                P49418                O43426  \n",
       "29  O43426|O43425|O94984|Q4KMR1                P49418                O43426  \n",
       "30  O43426|O43425|O94984|Q4KMR1                P49418                O43426  \n",
       "31  O43426|O43425|O94984|Q4KMR1                Q99961                O43426  \n",
       "\n",
       "[5 rows x 48 columns]"
      ]
     },
     "metadata": {},
     "output_type": "display_data"
    }
   ],
   "source": [
    "dfIntAct_1 = dfIntAct.loc[\n",
    "    (dfIntAct.first_uniprotkb_IDs_A != '')&(dfIntAct.first_uniprotkb_IDs_B != '')\n",
    "]\n",
    "glance(dfIntAct_1)"
   ]
  },
  {
   "cell_type": "markdown",
   "metadata": {},
   "source": [
    "---\n",
    "**Yeast-Yeast interactions**"
   ]
  },
  {
   "cell_type": "code",
   "execution_count": 14,
   "metadata": {
    "execution": {
     "iopub.execute_input": "2022-01-10T16:42:52.382529Z",
     "iopub.status.busy": "2022-01-10T16:42:52.382368Z",
     "iopub.status.idle": "2022-01-10T16:42:52.439688Z",
     "shell.execute_reply": "2022-01-10T16:42:52.439113Z",
     "shell.execute_reply.started": "2022-01-10T16:42:52.382502Z"
    }
   },
   "outputs": [
    {
     "name": "stdout",
     "output_type": "stream",
     "text": [
      "['taxid:559292(yeast)|taxid:559292(Saccharomyces cerevisiae)']\n"
     ]
    }
   ],
   "source": [
    "# Sanity check\n",
    "foo = list(set(dfIntAct_1['Taxid interactor A'].tolist() + dfIntAct_1['Taxid interactor A'].tolist()))\n",
    "bar = [s for s in foo if \":559292\" in s]\n",
    "print(bar)\n",
    "assert len(bar) == 1"
   ]
  },
  {
   "cell_type": "code",
   "execution_count": 15,
   "metadata": {
    "execution": {
     "iopub.execute_input": "2022-01-10T16:42:52.440483Z",
     "iopub.status.busy": "2022-01-10T16:42:52.440333Z",
     "iopub.status.idle": "2022-01-10T16:42:52.658630Z",
     "shell.execute_reply": "2022-01-10T16:42:52.658147Z",
     "shell.execute_reply.started": "2022-01-10T16:42:52.440458Z"
    }
   },
   "outputs": [
    {
     "name": "stdout",
     "output_type": "stream",
     "text": [
      "DataFrame: 133,741 rows \t 48 columns\n"
     ]
    },
    {
     "data": {
      "text/html": [
       "<div>\n",
       "<style scoped>\n",
       "    .dataframe tbody tr th:only-of-type {\n",
       "        vertical-align: middle;\n",
       "    }\n",
       "\n",
       "    .dataframe tbody tr th {\n",
       "        vertical-align: top;\n",
       "    }\n",
       "\n",
       "    .dataframe thead th {\n",
       "        text-align: right;\n",
       "    }\n",
       "</style>\n",
       "<table border=\"1\" class=\"dataframe\">\n",
       "  <thead>\n",
       "    <tr style=\"text-align: right;\">\n",
       "      <th></th>\n",
       "      <th>#ID(s) interactor A</th>\n",
       "      <th>ID(s) interactor B</th>\n",
       "      <th>Alt. ID(s) interactor A</th>\n",
       "      <th>Alt. ID(s) interactor B</th>\n",
       "      <th>Alias(es) interactor A</th>\n",
       "      <th>Alias(es) interactor B</th>\n",
       "      <th>Interaction detection method(s)</th>\n",
       "      <th>Publication 1st author(s)</th>\n",
       "      <th>Publication Identifier(s)</th>\n",
       "      <th>Taxid interactor A</th>\n",
       "      <th>...</th>\n",
       "      <th>Stoichiometry(s) interactor A</th>\n",
       "      <th>Stoichiometry(s) interactor B</th>\n",
       "      <th>Identification method participant A</th>\n",
       "      <th>Identification method participant B</th>\n",
       "      <th>All IDs interactor A</th>\n",
       "      <th>All IDs interactor B</th>\n",
       "      <th>uniprotkb_IDs_A</th>\n",
       "      <th>uniprotkb_IDs_B</th>\n",
       "      <th>first_uniprotkb_IDs_A</th>\n",
       "      <th>first_uniprotkb_IDs_B</th>\n",
       "    </tr>\n",
       "  </thead>\n",
       "  <tbody>\n",
       "    <tr>\n",
       "      <th>106</th>\n",
       "      <td>uniprotkb:P32917</td>\n",
       "      <td>uniprotkb:P23561</td>\n",
       "      <td>intact:EBI-18373|uniprotkb:D6VS89</td>\n",
       "      <td>intact:EBI-18259|uniprotkb:D6VZ00</td>\n",
       "      <td>psi-mi:ste5_yeast(display_long)|uniprotkb:STE5...</td>\n",
       "      <td>psi-mi:ste11_yeast(display_long)|uniprotkb:L80...</td>\n",
       "      <td>psi-mi:\"MI:0019\"(coimmunoprecipitation)</td>\n",
       "      <td>Inouye et al. (1997)</td>\n",
       "      <td>mint:MINT-5221697|pubmed:9335587</td>\n",
       "      <td>taxid:559292(yeast)|taxid:559292(Saccharomyces...</td>\n",
       "      <td>...</td>\n",
       "      <td>-</td>\n",
       "      <td>-</td>\n",
       "      <td>psi-mi:\"MI:0396\"(predetermined participant)</td>\n",
       "      <td>psi-mi:\"MI:0396\"(predetermined participant)</td>\n",
       "      <td>uniprotkb:P32917|intact:EBI-18373|uniprotkb:D6...</td>\n",
       "      <td>uniprotkb:P23561|intact:EBI-18259|uniprotkb:D6...</td>\n",
       "      <td>P32917|D6VS89</td>\n",
       "      <td>P23561|D6VZ00</td>\n",
       "      <td>P32917</td>\n",
       "      <td>P23561</td>\n",
       "    </tr>\n",
       "    <tr>\n",
       "      <th>107</th>\n",
       "      <td>uniprotkb:P08539</td>\n",
       "      <td>uniprotkb:P18851</td>\n",
       "      <td>intact:EBI-7376|uniprotkb:D3DKU8</td>\n",
       "      <td>intact:EBI-7390|uniprotkb:D6W2R8</td>\n",
       "      <td>psi-mi:gpa1_yeast(display_long)|uniprotkb:GP1-...</td>\n",
       "      <td>psi-mi:gbb_yeast(display_long)|uniprotkb:YOR50...</td>\n",
       "      <td>psi-mi:\"MI:0018\"(two hybrid)</td>\n",
       "      <td>Whiteway et al. (1994)</td>\n",
       "      <td>mint:MINT-5220738|pubmed:8164677</td>\n",
       "      <td>taxid:559292(yeast)|taxid:559292(Saccharomyces...</td>\n",
       "      <td>...</td>\n",
       "      <td>-</td>\n",
       "      <td>-</td>\n",
       "      <td>psi-mi:\"MI:0078\"(nucleotide sequence identific...</td>\n",
       "      <td>psi-mi:\"MI:0078\"(nucleotide sequence identific...</td>\n",
       "      <td>uniprotkb:P08539|intact:EBI-7376|uniprotkb:D3DKU8</td>\n",
       "      <td>uniprotkb:P18851|intact:EBI-7390|uniprotkb:D6W2R8</td>\n",
       "      <td>P08539|D3DKU8</td>\n",
       "      <td>P18851|D6W2R8</td>\n",
       "      <td>P08539</td>\n",
       "      <td>P18851</td>\n",
       "    </tr>\n",
       "    <tr>\n",
       "      <th>113</th>\n",
       "      <td>uniprotkb:P14681</td>\n",
       "      <td>uniprotkb:P13574</td>\n",
       "      <td>intact:EBI-9945|uniprotkb:Q45U43|uniprotkb:D6VUH8</td>\n",
       "      <td>intact:EBI-18264|uniprotkb:D3DL35</td>\n",
       "      <td>psi-mi:kss1_yeast(display_long)|uniprotkb:Kina...</td>\n",
       "      <td>psi-mi:ste12_yeast(display_long)|uniprotkb:YHR...</td>\n",
       "      <td>psi-mi:\"MI:0019\"(coimmunoprecipitation)</td>\n",
       "      <td>Madhani et al. (1997)</td>\n",
       "      <td>mint:MINT-5221777|pubmed:9393860</td>\n",
       "      <td>taxid:559292(yeast)|taxid:559292(Saccharomyces...</td>\n",
       "      <td>...</td>\n",
       "      <td>-</td>\n",
       "      <td>-</td>\n",
       "      <td>psi-mi:\"MI:0396\"(predetermined participant)</td>\n",
       "      <td>psi-mi:\"MI:0396\"(predetermined participant)</td>\n",
       "      <td>uniprotkb:P14681|intact:EBI-9945|uniprotkb:Q45...</td>\n",
       "      <td>uniprotkb:P13574|intact:EBI-18264|uniprotkb:D3...</td>\n",
       "      <td>P14681|Q45U43|D6VUH8</td>\n",
       "      <td>P13574|D3DL35</td>\n",
       "      <td>P14681</td>\n",
       "      <td>P13574</td>\n",
       "    </tr>\n",
       "    <tr>\n",
       "      <th>118</th>\n",
       "      <td>uniprotkb:Q06224</td>\n",
       "      <td>uniprotkb:P42841</td>\n",
       "      <td>intact:EBI-38345|uniprotkb:D6VYS4</td>\n",
       "      <td>intact:EBI-28378|uniprotkb:Q6B1M2|uniprotkb:D6...</td>\n",
       "      <td>psi-mi:ysh1_yeast(display_long)|uniprotkb:BRR5...</td>\n",
       "      <td>psi-mi:pfs2_yeast(display_long)|uniprotkb:PFS2...</td>\n",
       "      <td>psi-mi:\"MI:0019\"(coimmunoprecipitation)</td>\n",
       "      <td>Ohnacker et al. (2000)</td>\n",
       "      <td>pubmed:10619842|mint:MINT-5212104</td>\n",
       "      <td>taxid:559292(yeast)|taxid:559292(Saccharomyces...</td>\n",
       "      <td>...</td>\n",
       "      <td>-</td>\n",
       "      <td>-</td>\n",
       "      <td>psi-mi:\"MI:0396\"(predetermined participant)</td>\n",
       "      <td>psi-mi:\"MI:0396\"(predetermined participant)</td>\n",
       "      <td>uniprotkb:Q06224|intact:EBI-38345|uniprotkb:D6...</td>\n",
       "      <td>uniprotkb:P42841|intact:EBI-28378|uniprotkb:Q6...</td>\n",
       "      <td>Q06224|D6VYS4</td>\n",
       "      <td>P42841|Q6B1M2|D6W0M8</td>\n",
       "      <td>Q06224</td>\n",
       "      <td>P42841</td>\n",
       "    </tr>\n",
       "    <tr>\n",
       "      <th>119</th>\n",
       "      <td>uniprotkb:P42841</td>\n",
       "      <td>uniprotkb:Q06224</td>\n",
       "      <td>intact:EBI-28378|uniprotkb:Q6B1M2|uniprotkb:D6...</td>\n",
       "      <td>intact:EBI-38345|uniprotkb:D6VYS4</td>\n",
       "      <td>psi-mi:pfs2_yeast(display_long)|uniprotkb:PFS2...</td>\n",
       "      <td>psi-mi:ysh1_yeast(display_long)|uniprotkb:BRR5...</td>\n",
       "      <td>psi-mi:\"MI:0096\"(pull down)</td>\n",
       "      <td>Ohnacker et al. (2000)</td>\n",
       "      <td>pubmed:10619842|mint:MINT-5212104</td>\n",
       "      <td>taxid:559292(yeast)|taxid:559292(Saccharomyces...</td>\n",
       "      <td>...</td>\n",
       "      <td>-</td>\n",
       "      <td>-</td>\n",
       "      <td>psi-mi:\"MI:0396\"(predetermined participant)</td>\n",
       "      <td>psi-mi:\"MI:0396\"(predetermined participant)</td>\n",
       "      <td>uniprotkb:P42841|intact:EBI-28378|uniprotkb:Q6...</td>\n",
       "      <td>uniprotkb:Q06224|intact:EBI-38345|uniprotkb:D6...</td>\n",
       "      <td>P42841|Q6B1M2|D6W0M8</td>\n",
       "      <td>Q06224|D6VYS4</td>\n",
       "      <td>P42841</td>\n",
       "      <td>Q06224</td>\n",
       "    </tr>\n",
       "  </tbody>\n",
       "</table>\n",
       "<p>5 rows × 48 columns</p>\n",
       "</div>"
      ],
      "text/plain": [
       "    #ID(s) interactor A ID(s) interactor B  \\\n",
       "106    uniprotkb:P32917   uniprotkb:P23561   \n",
       "107    uniprotkb:P08539   uniprotkb:P18851   \n",
       "113    uniprotkb:P14681   uniprotkb:P13574   \n",
       "118    uniprotkb:Q06224   uniprotkb:P42841   \n",
       "119    uniprotkb:P42841   uniprotkb:Q06224   \n",
       "\n",
       "                               Alt. ID(s) interactor A  \\\n",
       "106                  intact:EBI-18373|uniprotkb:D6VS89   \n",
       "107                   intact:EBI-7376|uniprotkb:D3DKU8   \n",
       "113  intact:EBI-9945|uniprotkb:Q45U43|uniprotkb:D6VUH8   \n",
       "118                  intact:EBI-38345|uniprotkb:D6VYS4   \n",
       "119  intact:EBI-28378|uniprotkb:Q6B1M2|uniprotkb:D6...   \n",
       "\n",
       "                               Alt. ID(s) interactor B  \\\n",
       "106                  intact:EBI-18259|uniprotkb:D6VZ00   \n",
       "107                   intact:EBI-7390|uniprotkb:D6W2R8   \n",
       "113                  intact:EBI-18264|uniprotkb:D3DL35   \n",
       "118  intact:EBI-28378|uniprotkb:Q6B1M2|uniprotkb:D6...   \n",
       "119                  intact:EBI-38345|uniprotkb:D6VYS4   \n",
       "\n",
       "                                Alias(es) interactor A  \\\n",
       "106  psi-mi:ste5_yeast(display_long)|uniprotkb:STE5...   \n",
       "107  psi-mi:gpa1_yeast(display_long)|uniprotkb:GP1-...   \n",
       "113  psi-mi:kss1_yeast(display_long)|uniprotkb:Kina...   \n",
       "118  psi-mi:ysh1_yeast(display_long)|uniprotkb:BRR5...   \n",
       "119  psi-mi:pfs2_yeast(display_long)|uniprotkb:PFS2...   \n",
       "\n",
       "                                Alias(es) interactor B  \\\n",
       "106  psi-mi:ste11_yeast(display_long)|uniprotkb:L80...   \n",
       "107  psi-mi:gbb_yeast(display_long)|uniprotkb:YOR50...   \n",
       "113  psi-mi:ste12_yeast(display_long)|uniprotkb:YHR...   \n",
       "118  psi-mi:pfs2_yeast(display_long)|uniprotkb:PFS2...   \n",
       "119  psi-mi:ysh1_yeast(display_long)|uniprotkb:BRR5...   \n",
       "\n",
       "             Interaction detection method(s) Publication 1st author(s)  \\\n",
       "106  psi-mi:\"MI:0019\"(coimmunoprecipitation)      Inouye et al. (1997)   \n",
       "107             psi-mi:\"MI:0018\"(two hybrid)    Whiteway et al. (1994)   \n",
       "113  psi-mi:\"MI:0019\"(coimmunoprecipitation)     Madhani et al. (1997)   \n",
       "118  psi-mi:\"MI:0019\"(coimmunoprecipitation)    Ohnacker et al. (2000)   \n",
       "119              psi-mi:\"MI:0096\"(pull down)    Ohnacker et al. (2000)   \n",
       "\n",
       "             Publication Identifier(s)  \\\n",
       "106   mint:MINT-5221697|pubmed:9335587   \n",
       "107   mint:MINT-5220738|pubmed:8164677   \n",
       "113   mint:MINT-5221777|pubmed:9393860   \n",
       "118  pubmed:10619842|mint:MINT-5212104   \n",
       "119  pubmed:10619842|mint:MINT-5212104   \n",
       "\n",
       "                                    Taxid interactor A  ...  \\\n",
       "106  taxid:559292(yeast)|taxid:559292(Saccharomyces...  ...   \n",
       "107  taxid:559292(yeast)|taxid:559292(Saccharomyces...  ...   \n",
       "113  taxid:559292(yeast)|taxid:559292(Saccharomyces...  ...   \n",
       "118  taxid:559292(yeast)|taxid:559292(Saccharomyces...  ...   \n",
       "119  taxid:559292(yeast)|taxid:559292(Saccharomyces...  ...   \n",
       "\n",
       "    Stoichiometry(s) interactor A Stoichiometry(s) interactor B  \\\n",
       "106                             -                             -   \n",
       "107                             -                             -   \n",
       "113                             -                             -   \n",
       "118                             -                             -   \n",
       "119                             -                             -   \n",
       "\n",
       "                   Identification method participant A  \\\n",
       "106        psi-mi:\"MI:0396\"(predetermined participant)   \n",
       "107  psi-mi:\"MI:0078\"(nucleotide sequence identific...   \n",
       "113        psi-mi:\"MI:0396\"(predetermined participant)   \n",
       "118        psi-mi:\"MI:0396\"(predetermined participant)   \n",
       "119        psi-mi:\"MI:0396\"(predetermined participant)   \n",
       "\n",
       "                   Identification method participant B  \\\n",
       "106        psi-mi:\"MI:0396\"(predetermined participant)   \n",
       "107  psi-mi:\"MI:0078\"(nucleotide sequence identific...   \n",
       "113        psi-mi:\"MI:0396\"(predetermined participant)   \n",
       "118        psi-mi:\"MI:0396\"(predetermined participant)   \n",
       "119        psi-mi:\"MI:0396\"(predetermined participant)   \n",
       "\n",
       "                                  All IDs interactor A  \\\n",
       "106  uniprotkb:P32917|intact:EBI-18373|uniprotkb:D6...   \n",
       "107  uniprotkb:P08539|intact:EBI-7376|uniprotkb:D3DKU8   \n",
       "113  uniprotkb:P14681|intact:EBI-9945|uniprotkb:Q45...   \n",
       "118  uniprotkb:Q06224|intact:EBI-38345|uniprotkb:D6...   \n",
       "119  uniprotkb:P42841|intact:EBI-28378|uniprotkb:Q6...   \n",
       "\n",
       "                                  All IDs interactor B       uniprotkb_IDs_A  \\\n",
       "106  uniprotkb:P23561|intact:EBI-18259|uniprotkb:D6...         P32917|D6VS89   \n",
       "107  uniprotkb:P18851|intact:EBI-7390|uniprotkb:D6W2R8         P08539|D3DKU8   \n",
       "113  uniprotkb:P13574|intact:EBI-18264|uniprotkb:D3...  P14681|Q45U43|D6VUH8   \n",
       "118  uniprotkb:P42841|intact:EBI-28378|uniprotkb:Q6...         Q06224|D6VYS4   \n",
       "119  uniprotkb:Q06224|intact:EBI-38345|uniprotkb:D6...  P42841|Q6B1M2|D6W0M8   \n",
       "\n",
       "          uniprotkb_IDs_B first_uniprotkb_IDs_A first_uniprotkb_IDs_B  \n",
       "106         P23561|D6VZ00                P32917                P23561  \n",
       "107         P18851|D6W2R8                P08539                P18851  \n",
       "113         P13574|D3DL35                P14681                P13574  \n",
       "118  P42841|Q6B1M2|D6W0M8                Q06224                P42841  \n",
       "119         Q06224|D6VYS4                P42841                Q06224  \n",
       "\n",
       "[5 rows x 48 columns]"
      ]
     },
     "metadata": {},
     "output_type": "display_data"
    }
   ],
   "source": [
    "foo = 'taxid:559292(yeast)|taxid:559292(Saccharomyces cerevisiae)'\n",
    "dfIntAct_2 = dfIntAct_1.loc[\n",
    "    (dfIntAct_1['Taxid interactor A'] == foo)&(dfIntAct_1['Taxid interactor B'] == foo)\n",
    "]\n",
    "glance(dfIntAct_2)"
   ]
  },
  {
   "cell_type": "markdown",
   "metadata": {},
   "source": [
    "---\n",
    "**protein-protein interactions**"
   ]
  },
  {
   "cell_type": "code",
   "execution_count": 16,
   "metadata": {
    "ExecuteTime": {
     "end_time": "2019-10-30T15:58:18.974302Z",
     "start_time": "2019-10-30T15:58:18.926832Z"
    },
    "execution": {
     "iopub.execute_input": "2022-01-10T16:42:52.659397Z",
     "iopub.status.busy": "2022-01-10T16:42:52.659244Z",
     "iopub.status.idle": "2022-01-10T16:42:52.680236Z",
     "shell.execute_reply": "2022-01-10T16:42:52.679709Z",
     "shell.execute_reply.started": "2022-01-10T16:42:52.659371Z"
    },
    "scrolled": true
   },
   "outputs": [
    {
     "name": "stdout",
     "output_type": "stream",
     "text": [
      "Type(s) interactor A\n",
      "psi-mi:\"MI:0326\"(protein)    133741\n",
      "dtype: int64\n",
      "Type(s) interactor B\n",
      "psi-mi:\"MI:0326\"(protein)    133741\n",
      "dtype: int64\n"
     ]
    }
   ],
   "source": [
    "print(dfIntAct_2.groupby(by=\"Type(s) interactor A\").size().sort_values(ascending=False))\n",
    "print(dfIntAct_2.groupby(by=\"Type(s) interactor B\").size().sort_values(ascending=False))"
   ]
  },
  {
   "cell_type": "code",
   "execution_count": 17,
   "metadata": {
    "execution": {
     "iopub.execute_input": "2022-01-10T16:42:52.681012Z",
     "iopub.status.busy": "2022-01-10T16:42:52.680863Z",
     "iopub.status.idle": "2022-01-10T16:42:52.886716Z",
     "shell.execute_reply": "2022-01-10T16:42:52.886241Z",
     "shell.execute_reply.started": "2022-01-10T16:42:52.680987Z"
    }
   },
   "outputs": [
    {
     "name": "stdout",
     "output_type": "stream",
     "text": [
      "DataFrame: 133,741 rows \t 48 columns\n"
     ]
    },
    {
     "data": {
      "text/html": [
       "<div>\n",
       "<style scoped>\n",
       "    .dataframe tbody tr th:only-of-type {\n",
       "        vertical-align: middle;\n",
       "    }\n",
       "\n",
       "    .dataframe tbody tr th {\n",
       "        vertical-align: top;\n",
       "    }\n",
       "\n",
       "    .dataframe thead th {\n",
       "        text-align: right;\n",
       "    }\n",
       "</style>\n",
       "<table border=\"1\" class=\"dataframe\">\n",
       "  <thead>\n",
       "    <tr style=\"text-align: right;\">\n",
       "      <th></th>\n",
       "      <th>#ID(s) interactor A</th>\n",
       "      <th>ID(s) interactor B</th>\n",
       "      <th>Alt. ID(s) interactor A</th>\n",
       "      <th>Alt. ID(s) interactor B</th>\n",
       "      <th>Alias(es) interactor A</th>\n",
       "      <th>Alias(es) interactor B</th>\n",
       "      <th>Interaction detection method(s)</th>\n",
       "      <th>Publication 1st author(s)</th>\n",
       "      <th>Publication Identifier(s)</th>\n",
       "      <th>Taxid interactor A</th>\n",
       "      <th>...</th>\n",
       "      <th>Stoichiometry(s) interactor A</th>\n",
       "      <th>Stoichiometry(s) interactor B</th>\n",
       "      <th>Identification method participant A</th>\n",
       "      <th>Identification method participant B</th>\n",
       "      <th>All IDs interactor A</th>\n",
       "      <th>All IDs interactor B</th>\n",
       "      <th>uniprotkb_IDs_A</th>\n",
       "      <th>uniprotkb_IDs_B</th>\n",
       "      <th>first_uniprotkb_IDs_A</th>\n",
       "      <th>first_uniprotkb_IDs_B</th>\n",
       "    </tr>\n",
       "  </thead>\n",
       "  <tbody>\n",
       "    <tr>\n",
       "      <th>106</th>\n",
       "      <td>uniprotkb:P32917</td>\n",
       "      <td>uniprotkb:P23561</td>\n",
       "      <td>intact:EBI-18373|uniprotkb:D6VS89</td>\n",
       "      <td>intact:EBI-18259|uniprotkb:D6VZ00</td>\n",
       "      <td>psi-mi:ste5_yeast(display_long)|uniprotkb:STE5...</td>\n",
       "      <td>psi-mi:ste11_yeast(display_long)|uniprotkb:L80...</td>\n",
       "      <td>psi-mi:\"MI:0019\"(coimmunoprecipitation)</td>\n",
       "      <td>Inouye et al. (1997)</td>\n",
       "      <td>mint:MINT-5221697|pubmed:9335587</td>\n",
       "      <td>taxid:559292(yeast)|taxid:559292(Saccharomyces...</td>\n",
       "      <td>...</td>\n",
       "      <td>-</td>\n",
       "      <td>-</td>\n",
       "      <td>psi-mi:\"MI:0396\"(predetermined participant)</td>\n",
       "      <td>psi-mi:\"MI:0396\"(predetermined participant)</td>\n",
       "      <td>uniprotkb:P32917|intact:EBI-18373|uniprotkb:D6...</td>\n",
       "      <td>uniprotkb:P23561|intact:EBI-18259|uniprotkb:D6...</td>\n",
       "      <td>P32917|D6VS89</td>\n",
       "      <td>P23561|D6VZ00</td>\n",
       "      <td>P32917</td>\n",
       "      <td>P23561</td>\n",
       "    </tr>\n",
       "    <tr>\n",
       "      <th>107</th>\n",
       "      <td>uniprotkb:P08539</td>\n",
       "      <td>uniprotkb:P18851</td>\n",
       "      <td>intact:EBI-7376|uniprotkb:D3DKU8</td>\n",
       "      <td>intact:EBI-7390|uniprotkb:D6W2R8</td>\n",
       "      <td>psi-mi:gpa1_yeast(display_long)|uniprotkb:GP1-...</td>\n",
       "      <td>psi-mi:gbb_yeast(display_long)|uniprotkb:YOR50...</td>\n",
       "      <td>psi-mi:\"MI:0018\"(two hybrid)</td>\n",
       "      <td>Whiteway et al. (1994)</td>\n",
       "      <td>mint:MINT-5220738|pubmed:8164677</td>\n",
       "      <td>taxid:559292(yeast)|taxid:559292(Saccharomyces...</td>\n",
       "      <td>...</td>\n",
       "      <td>-</td>\n",
       "      <td>-</td>\n",
       "      <td>psi-mi:\"MI:0078\"(nucleotide sequence identific...</td>\n",
       "      <td>psi-mi:\"MI:0078\"(nucleotide sequence identific...</td>\n",
       "      <td>uniprotkb:P08539|intact:EBI-7376|uniprotkb:D3DKU8</td>\n",
       "      <td>uniprotkb:P18851|intact:EBI-7390|uniprotkb:D6W2R8</td>\n",
       "      <td>P08539|D3DKU8</td>\n",
       "      <td>P18851|D6W2R8</td>\n",
       "      <td>P08539</td>\n",
       "      <td>P18851</td>\n",
       "    </tr>\n",
       "    <tr>\n",
       "      <th>113</th>\n",
       "      <td>uniprotkb:P14681</td>\n",
       "      <td>uniprotkb:P13574</td>\n",
       "      <td>intact:EBI-9945|uniprotkb:Q45U43|uniprotkb:D6VUH8</td>\n",
       "      <td>intact:EBI-18264|uniprotkb:D3DL35</td>\n",
       "      <td>psi-mi:kss1_yeast(display_long)|uniprotkb:Kina...</td>\n",
       "      <td>psi-mi:ste12_yeast(display_long)|uniprotkb:YHR...</td>\n",
       "      <td>psi-mi:\"MI:0019\"(coimmunoprecipitation)</td>\n",
       "      <td>Madhani et al. (1997)</td>\n",
       "      <td>mint:MINT-5221777|pubmed:9393860</td>\n",
       "      <td>taxid:559292(yeast)|taxid:559292(Saccharomyces...</td>\n",
       "      <td>...</td>\n",
       "      <td>-</td>\n",
       "      <td>-</td>\n",
       "      <td>psi-mi:\"MI:0396\"(predetermined participant)</td>\n",
       "      <td>psi-mi:\"MI:0396\"(predetermined participant)</td>\n",
       "      <td>uniprotkb:P14681|intact:EBI-9945|uniprotkb:Q45...</td>\n",
       "      <td>uniprotkb:P13574|intact:EBI-18264|uniprotkb:D3...</td>\n",
       "      <td>P14681|Q45U43|D6VUH8</td>\n",
       "      <td>P13574|D3DL35</td>\n",
       "      <td>P14681</td>\n",
       "      <td>P13574</td>\n",
       "    </tr>\n",
       "    <tr>\n",
       "      <th>118</th>\n",
       "      <td>uniprotkb:Q06224</td>\n",
       "      <td>uniprotkb:P42841</td>\n",
       "      <td>intact:EBI-38345|uniprotkb:D6VYS4</td>\n",
       "      <td>intact:EBI-28378|uniprotkb:Q6B1M2|uniprotkb:D6...</td>\n",
       "      <td>psi-mi:ysh1_yeast(display_long)|uniprotkb:BRR5...</td>\n",
       "      <td>psi-mi:pfs2_yeast(display_long)|uniprotkb:PFS2...</td>\n",
       "      <td>psi-mi:\"MI:0019\"(coimmunoprecipitation)</td>\n",
       "      <td>Ohnacker et al. (2000)</td>\n",
       "      <td>pubmed:10619842|mint:MINT-5212104</td>\n",
       "      <td>taxid:559292(yeast)|taxid:559292(Saccharomyces...</td>\n",
       "      <td>...</td>\n",
       "      <td>-</td>\n",
       "      <td>-</td>\n",
       "      <td>psi-mi:\"MI:0396\"(predetermined participant)</td>\n",
       "      <td>psi-mi:\"MI:0396\"(predetermined participant)</td>\n",
       "      <td>uniprotkb:Q06224|intact:EBI-38345|uniprotkb:D6...</td>\n",
       "      <td>uniprotkb:P42841|intact:EBI-28378|uniprotkb:Q6...</td>\n",
       "      <td>Q06224|D6VYS4</td>\n",
       "      <td>P42841|Q6B1M2|D6W0M8</td>\n",
       "      <td>Q06224</td>\n",
       "      <td>P42841</td>\n",
       "    </tr>\n",
       "    <tr>\n",
       "      <th>119</th>\n",
       "      <td>uniprotkb:P42841</td>\n",
       "      <td>uniprotkb:Q06224</td>\n",
       "      <td>intact:EBI-28378|uniprotkb:Q6B1M2|uniprotkb:D6...</td>\n",
       "      <td>intact:EBI-38345|uniprotkb:D6VYS4</td>\n",
       "      <td>psi-mi:pfs2_yeast(display_long)|uniprotkb:PFS2...</td>\n",
       "      <td>psi-mi:ysh1_yeast(display_long)|uniprotkb:BRR5...</td>\n",
       "      <td>psi-mi:\"MI:0096\"(pull down)</td>\n",
       "      <td>Ohnacker et al. (2000)</td>\n",
       "      <td>pubmed:10619842|mint:MINT-5212104</td>\n",
       "      <td>taxid:559292(yeast)|taxid:559292(Saccharomyces...</td>\n",
       "      <td>...</td>\n",
       "      <td>-</td>\n",
       "      <td>-</td>\n",
       "      <td>psi-mi:\"MI:0396\"(predetermined participant)</td>\n",
       "      <td>psi-mi:\"MI:0396\"(predetermined participant)</td>\n",
       "      <td>uniprotkb:P42841|intact:EBI-28378|uniprotkb:Q6...</td>\n",
       "      <td>uniprotkb:Q06224|intact:EBI-38345|uniprotkb:D6...</td>\n",
       "      <td>P42841|Q6B1M2|D6W0M8</td>\n",
       "      <td>Q06224|D6VYS4</td>\n",
       "      <td>P42841</td>\n",
       "      <td>Q06224</td>\n",
       "    </tr>\n",
       "  </tbody>\n",
       "</table>\n",
       "<p>5 rows × 48 columns</p>\n",
       "</div>"
      ],
      "text/plain": [
       "    #ID(s) interactor A ID(s) interactor B  \\\n",
       "106    uniprotkb:P32917   uniprotkb:P23561   \n",
       "107    uniprotkb:P08539   uniprotkb:P18851   \n",
       "113    uniprotkb:P14681   uniprotkb:P13574   \n",
       "118    uniprotkb:Q06224   uniprotkb:P42841   \n",
       "119    uniprotkb:P42841   uniprotkb:Q06224   \n",
       "\n",
       "                               Alt. ID(s) interactor A  \\\n",
       "106                  intact:EBI-18373|uniprotkb:D6VS89   \n",
       "107                   intact:EBI-7376|uniprotkb:D3DKU8   \n",
       "113  intact:EBI-9945|uniprotkb:Q45U43|uniprotkb:D6VUH8   \n",
       "118                  intact:EBI-38345|uniprotkb:D6VYS4   \n",
       "119  intact:EBI-28378|uniprotkb:Q6B1M2|uniprotkb:D6...   \n",
       "\n",
       "                               Alt. ID(s) interactor B  \\\n",
       "106                  intact:EBI-18259|uniprotkb:D6VZ00   \n",
       "107                   intact:EBI-7390|uniprotkb:D6W2R8   \n",
       "113                  intact:EBI-18264|uniprotkb:D3DL35   \n",
       "118  intact:EBI-28378|uniprotkb:Q6B1M2|uniprotkb:D6...   \n",
       "119                  intact:EBI-38345|uniprotkb:D6VYS4   \n",
       "\n",
       "                                Alias(es) interactor A  \\\n",
       "106  psi-mi:ste5_yeast(display_long)|uniprotkb:STE5...   \n",
       "107  psi-mi:gpa1_yeast(display_long)|uniprotkb:GP1-...   \n",
       "113  psi-mi:kss1_yeast(display_long)|uniprotkb:Kina...   \n",
       "118  psi-mi:ysh1_yeast(display_long)|uniprotkb:BRR5...   \n",
       "119  psi-mi:pfs2_yeast(display_long)|uniprotkb:PFS2...   \n",
       "\n",
       "                                Alias(es) interactor B  \\\n",
       "106  psi-mi:ste11_yeast(display_long)|uniprotkb:L80...   \n",
       "107  psi-mi:gbb_yeast(display_long)|uniprotkb:YOR50...   \n",
       "113  psi-mi:ste12_yeast(display_long)|uniprotkb:YHR...   \n",
       "118  psi-mi:pfs2_yeast(display_long)|uniprotkb:PFS2...   \n",
       "119  psi-mi:ysh1_yeast(display_long)|uniprotkb:BRR5...   \n",
       "\n",
       "             Interaction detection method(s) Publication 1st author(s)  \\\n",
       "106  psi-mi:\"MI:0019\"(coimmunoprecipitation)      Inouye et al. (1997)   \n",
       "107             psi-mi:\"MI:0018\"(two hybrid)    Whiteway et al. (1994)   \n",
       "113  psi-mi:\"MI:0019\"(coimmunoprecipitation)     Madhani et al. (1997)   \n",
       "118  psi-mi:\"MI:0019\"(coimmunoprecipitation)    Ohnacker et al. (2000)   \n",
       "119              psi-mi:\"MI:0096\"(pull down)    Ohnacker et al. (2000)   \n",
       "\n",
       "             Publication Identifier(s)  \\\n",
       "106   mint:MINT-5221697|pubmed:9335587   \n",
       "107   mint:MINT-5220738|pubmed:8164677   \n",
       "113   mint:MINT-5221777|pubmed:9393860   \n",
       "118  pubmed:10619842|mint:MINT-5212104   \n",
       "119  pubmed:10619842|mint:MINT-5212104   \n",
       "\n",
       "                                    Taxid interactor A  ...  \\\n",
       "106  taxid:559292(yeast)|taxid:559292(Saccharomyces...  ...   \n",
       "107  taxid:559292(yeast)|taxid:559292(Saccharomyces...  ...   \n",
       "113  taxid:559292(yeast)|taxid:559292(Saccharomyces...  ...   \n",
       "118  taxid:559292(yeast)|taxid:559292(Saccharomyces...  ...   \n",
       "119  taxid:559292(yeast)|taxid:559292(Saccharomyces...  ...   \n",
       "\n",
       "    Stoichiometry(s) interactor A Stoichiometry(s) interactor B  \\\n",
       "106                             -                             -   \n",
       "107                             -                             -   \n",
       "113                             -                             -   \n",
       "118                             -                             -   \n",
       "119                             -                             -   \n",
       "\n",
       "                   Identification method participant A  \\\n",
       "106        psi-mi:\"MI:0396\"(predetermined participant)   \n",
       "107  psi-mi:\"MI:0078\"(nucleotide sequence identific...   \n",
       "113        psi-mi:\"MI:0396\"(predetermined participant)   \n",
       "118        psi-mi:\"MI:0396\"(predetermined participant)   \n",
       "119        psi-mi:\"MI:0396\"(predetermined participant)   \n",
       "\n",
       "                   Identification method participant B  \\\n",
       "106        psi-mi:\"MI:0396\"(predetermined participant)   \n",
       "107  psi-mi:\"MI:0078\"(nucleotide sequence identific...   \n",
       "113        psi-mi:\"MI:0396\"(predetermined participant)   \n",
       "118        psi-mi:\"MI:0396\"(predetermined participant)   \n",
       "119        psi-mi:\"MI:0396\"(predetermined participant)   \n",
       "\n",
       "                                  All IDs interactor A  \\\n",
       "106  uniprotkb:P32917|intact:EBI-18373|uniprotkb:D6...   \n",
       "107  uniprotkb:P08539|intact:EBI-7376|uniprotkb:D3DKU8   \n",
       "113  uniprotkb:P14681|intact:EBI-9945|uniprotkb:Q45...   \n",
       "118  uniprotkb:Q06224|intact:EBI-38345|uniprotkb:D6...   \n",
       "119  uniprotkb:P42841|intact:EBI-28378|uniprotkb:Q6...   \n",
       "\n",
       "                                  All IDs interactor B       uniprotkb_IDs_A  \\\n",
       "106  uniprotkb:P23561|intact:EBI-18259|uniprotkb:D6...         P32917|D6VS89   \n",
       "107  uniprotkb:P18851|intact:EBI-7390|uniprotkb:D6W2R8         P08539|D3DKU8   \n",
       "113  uniprotkb:P13574|intact:EBI-18264|uniprotkb:D3...  P14681|Q45U43|D6VUH8   \n",
       "118  uniprotkb:P42841|intact:EBI-28378|uniprotkb:Q6...         Q06224|D6VYS4   \n",
       "119  uniprotkb:Q06224|intact:EBI-38345|uniprotkb:D6...  P42841|Q6B1M2|D6W0M8   \n",
       "\n",
       "          uniprotkb_IDs_B first_uniprotkb_IDs_A first_uniprotkb_IDs_B  \n",
       "106         P23561|D6VZ00                P32917                P23561  \n",
       "107         P18851|D6W2R8                P08539                P18851  \n",
       "113         P13574|D3DL35                P14681                P13574  \n",
       "118  P42841|Q6B1M2|D6W0M8                Q06224                P42841  \n",
       "119         Q06224|D6VYS4                P42841                Q06224  \n",
       "\n",
       "[5 rows x 48 columns]"
      ]
     },
     "metadata": {},
     "output_type": "display_data"
    }
   ],
   "source": [
    "foo = 'psi-mi:\"MI:0326\"(protein)'\n",
    "dfIntAct_3 = dfIntAct_2.loc[\n",
    "    (dfIntAct['Type(s) interactor A'] == foo)&(dfIntAct['Type(s) interactor B'] == foo)\n",
    "]\n",
    "glance(dfIntAct_3)"
   ]
  },
  {
   "cell_type": "markdown",
   "metadata": {},
   "source": [
    "---\n",
    "**Confidence score** "
   ]
  },
  {
   "cell_type": "markdown",
   "metadata": {},
   "source": [
    "Details of intact mi-score: https://www.ebi.ac.uk/intact/pages/faq/faq.xhtml#9"
   ]
  },
  {
   "cell_type": "markdown",
   "metadata": {},
   "source": [
    "*Pull names of scores*"
   ]
  },
  {
   "cell_type": "code",
   "execution_count": 18,
   "metadata": {
    "ExecuteTime": {
     "end_time": "2019-10-30T16:03:46.876260Z",
     "start_time": "2019-10-30T16:03:46.062676Z"
    },
    "execution": {
     "iopub.execute_input": "2022-01-10T16:42:52.887526Z",
     "iopub.status.busy": "2022-01-10T16:42:52.887371Z",
     "iopub.status.idle": "2022-01-10T16:42:53.173854Z",
     "shell.execute_reply": "2022-01-10T16:42:53.173325Z",
     "shell.execute_reply.started": "2022-01-10T16:42:52.887500Z"
    }
   },
   "outputs": [
    {
     "data": {
      "text/plain": [
       "{'author score', 'core', 'intact-miscore', 'ist'}"
      ]
     },
     "execution_count": 18,
     "metadata": {},
     "output_type": "execute_result"
    }
   ],
   "source": [
    "reConfScore = re.compile(r\"(?<=\\|)[-\\s\\w]+(?=:)\")\n",
    "\n",
    "confScoreNames =[val for sublist in [reConfScore.findall(\"|\" + line) for line in dfIntAct_3[\"Confidence value(s)\"]] for val in sublist]\n",
    "\n",
    "set(confScoreNames)"
   ]
  },
  {
   "cell_type": "markdown",
   "metadata": {},
   "source": [
    "*Pull intact-miscore values*"
   ]
  },
  {
   "cell_type": "code",
   "execution_count": 19,
   "metadata": {
    "ExecuteTime": {
     "end_time": "2019-10-30T16:04:35.481821Z",
     "start_time": "2019-10-30T16:04:34.567247Z"
    },
    "execution": {
     "iopub.execute_input": "2022-01-10T16:42:53.174638Z",
     "iopub.status.busy": "2022-01-10T16:42:53.174486Z",
     "iopub.status.idle": "2022-01-10T16:42:53.727109Z",
     "shell.execute_reply": "2022-01-10T16:42:53.726563Z",
     "shell.execute_reply.started": "2022-01-10T16:42:53.174613Z"
    }
   },
   "outputs": [
    {
     "data": {
      "text/plain": [
       "106    0.81\n",
       "107    0.90\n",
       "113    0.87\n",
       "118    0.74\n",
       "119    0.74\n",
       "Name: intact-miscore, dtype: float64"
      ]
     },
     "execution_count": 19,
     "metadata": {},
     "output_type": "execute_result"
    }
   ],
   "source": [
    "reIntactMiscore = re.compile(r\"(?<=intact-miscore:)[\\d.]+\")\n",
    "\n",
    "dfIntAct_3.loc[:,'intact-miscore'] = [m.group() if m else 'NA' for m in (reIntactMiscore.search(line) for line in dfIntAct_3[\"Confidence value(s)\"])]\n",
    "\n",
    "# Sanity check\n",
    "assert len(dfIntAct_3.loc[dfIntAct_3['intact-miscore'] == 'NA']) == 0\n",
    "\n",
    "dfIntAct_3.loc[:,'intact-miscore'] = pd.to_numeric(dfIntAct_3['intact-miscore'])\n",
    "dfIntAct_3['intact-miscore'][:5]"
   ]
  },
  {
   "cell_type": "markdown",
   "metadata": {},
   "source": [
    "---\n",
    "**Sanity checks**"
   ]
  },
  {
   "cell_type": "code",
   "execution_count": 20,
   "metadata": {
    "execution": {
     "iopub.execute_input": "2022-01-10T16:42:53.727867Z",
     "iopub.status.busy": "2022-01-10T16:42:53.727719Z",
     "iopub.status.idle": "2022-01-10T16:42:53.731354Z",
     "shell.execute_reply": "2022-01-10T16:42:53.730874Z",
     "shell.execute_reply.started": "2022-01-10T16:42:53.727842Z"
    }
   },
   "outputs": [],
   "source": [
    "assert len(dfIntAct_3.loc[dfIntAct_3['Negative']]) == 0"
   ]
  },
  {
   "cell_type": "markdown",
   "metadata": {},
   "source": [
    "---\n",
    "**Reinitialise index**"
   ]
  },
  {
   "cell_type": "code",
   "execution_count": 21,
   "metadata": {
    "execution": {
     "iopub.execute_input": "2022-01-10T16:42:53.732006Z",
     "iopub.status.busy": "2022-01-10T16:42:53.731870Z",
     "iopub.status.idle": "2022-01-10T16:42:53.879714Z",
     "shell.execute_reply": "2022-01-10T16:42:53.879235Z",
     "shell.execute_reply.started": "2022-01-10T16:42:53.731983Z"
    }
   },
   "outputs": [
    {
     "name": "stdout",
     "output_type": "stream",
     "text": [
      "DataFrame: 133,741 rows \t 49 columns\n"
     ]
    },
    {
     "data": {
      "text/html": [
       "<div>\n",
       "<style scoped>\n",
       "    .dataframe tbody tr th:only-of-type {\n",
       "        vertical-align: middle;\n",
       "    }\n",
       "\n",
       "    .dataframe tbody tr th {\n",
       "        vertical-align: top;\n",
       "    }\n",
       "\n",
       "    .dataframe thead th {\n",
       "        text-align: right;\n",
       "    }\n",
       "</style>\n",
       "<table border=\"1\" class=\"dataframe\">\n",
       "  <thead>\n",
       "    <tr style=\"text-align: right;\">\n",
       "      <th></th>\n",
       "      <th>#ID(s) interactor A</th>\n",
       "      <th>ID(s) interactor B</th>\n",
       "      <th>Alt. ID(s) interactor A</th>\n",
       "      <th>Alt. ID(s) interactor B</th>\n",
       "      <th>Alias(es) interactor A</th>\n",
       "      <th>Alias(es) interactor B</th>\n",
       "      <th>Interaction detection method(s)</th>\n",
       "      <th>Publication 1st author(s)</th>\n",
       "      <th>Publication Identifier(s)</th>\n",
       "      <th>Taxid interactor A</th>\n",
       "      <th>...</th>\n",
       "      <th>Stoichiometry(s) interactor B</th>\n",
       "      <th>Identification method participant A</th>\n",
       "      <th>Identification method participant B</th>\n",
       "      <th>All IDs interactor A</th>\n",
       "      <th>All IDs interactor B</th>\n",
       "      <th>uniprotkb_IDs_A</th>\n",
       "      <th>uniprotkb_IDs_B</th>\n",
       "      <th>first_uniprotkb_IDs_A</th>\n",
       "      <th>first_uniprotkb_IDs_B</th>\n",
       "      <th>intact-miscore</th>\n",
       "    </tr>\n",
       "  </thead>\n",
       "  <tbody>\n",
       "    <tr>\n",
       "      <th>0</th>\n",
       "      <td>uniprotkb:P32917</td>\n",
       "      <td>uniprotkb:P23561</td>\n",
       "      <td>intact:EBI-18373|uniprotkb:D6VS89</td>\n",
       "      <td>intact:EBI-18259|uniprotkb:D6VZ00</td>\n",
       "      <td>psi-mi:ste5_yeast(display_long)|uniprotkb:STE5...</td>\n",
       "      <td>psi-mi:ste11_yeast(display_long)|uniprotkb:L80...</td>\n",
       "      <td>psi-mi:\"MI:0019\"(coimmunoprecipitation)</td>\n",
       "      <td>Inouye et al. (1997)</td>\n",
       "      <td>mint:MINT-5221697|pubmed:9335587</td>\n",
       "      <td>taxid:559292(yeast)|taxid:559292(Saccharomyces...</td>\n",
       "      <td>...</td>\n",
       "      <td>-</td>\n",
       "      <td>psi-mi:\"MI:0396\"(predetermined participant)</td>\n",
       "      <td>psi-mi:\"MI:0396\"(predetermined participant)</td>\n",
       "      <td>uniprotkb:P32917|intact:EBI-18373|uniprotkb:D6...</td>\n",
       "      <td>uniprotkb:P23561|intact:EBI-18259|uniprotkb:D6...</td>\n",
       "      <td>P32917|D6VS89</td>\n",
       "      <td>P23561|D6VZ00</td>\n",
       "      <td>P32917</td>\n",
       "      <td>P23561</td>\n",
       "      <td>0.81</td>\n",
       "    </tr>\n",
       "    <tr>\n",
       "      <th>1</th>\n",
       "      <td>uniprotkb:P08539</td>\n",
       "      <td>uniprotkb:P18851</td>\n",
       "      <td>intact:EBI-7376|uniprotkb:D3DKU8</td>\n",
       "      <td>intact:EBI-7390|uniprotkb:D6W2R8</td>\n",
       "      <td>psi-mi:gpa1_yeast(display_long)|uniprotkb:GP1-...</td>\n",
       "      <td>psi-mi:gbb_yeast(display_long)|uniprotkb:YOR50...</td>\n",
       "      <td>psi-mi:\"MI:0018\"(two hybrid)</td>\n",
       "      <td>Whiteway et al. (1994)</td>\n",
       "      <td>mint:MINT-5220738|pubmed:8164677</td>\n",
       "      <td>taxid:559292(yeast)|taxid:559292(Saccharomyces...</td>\n",
       "      <td>...</td>\n",
       "      <td>-</td>\n",
       "      <td>psi-mi:\"MI:0078\"(nucleotide sequence identific...</td>\n",
       "      <td>psi-mi:\"MI:0078\"(nucleotide sequence identific...</td>\n",
       "      <td>uniprotkb:P08539|intact:EBI-7376|uniprotkb:D3DKU8</td>\n",
       "      <td>uniprotkb:P18851|intact:EBI-7390|uniprotkb:D6W2R8</td>\n",
       "      <td>P08539|D3DKU8</td>\n",
       "      <td>P18851|D6W2R8</td>\n",
       "      <td>P08539</td>\n",
       "      <td>P18851</td>\n",
       "      <td>0.90</td>\n",
       "    </tr>\n",
       "    <tr>\n",
       "      <th>2</th>\n",
       "      <td>uniprotkb:P14681</td>\n",
       "      <td>uniprotkb:P13574</td>\n",
       "      <td>intact:EBI-9945|uniprotkb:Q45U43|uniprotkb:D6VUH8</td>\n",
       "      <td>intact:EBI-18264|uniprotkb:D3DL35</td>\n",
       "      <td>psi-mi:kss1_yeast(display_long)|uniprotkb:Kina...</td>\n",
       "      <td>psi-mi:ste12_yeast(display_long)|uniprotkb:YHR...</td>\n",
       "      <td>psi-mi:\"MI:0019\"(coimmunoprecipitation)</td>\n",
       "      <td>Madhani et al. (1997)</td>\n",
       "      <td>mint:MINT-5221777|pubmed:9393860</td>\n",
       "      <td>taxid:559292(yeast)|taxid:559292(Saccharomyces...</td>\n",
       "      <td>...</td>\n",
       "      <td>-</td>\n",
       "      <td>psi-mi:\"MI:0396\"(predetermined participant)</td>\n",
       "      <td>psi-mi:\"MI:0396\"(predetermined participant)</td>\n",
       "      <td>uniprotkb:P14681|intact:EBI-9945|uniprotkb:Q45...</td>\n",
       "      <td>uniprotkb:P13574|intact:EBI-18264|uniprotkb:D3...</td>\n",
       "      <td>P14681|Q45U43|D6VUH8</td>\n",
       "      <td>P13574|D3DL35</td>\n",
       "      <td>P14681</td>\n",
       "      <td>P13574</td>\n",
       "      <td>0.87</td>\n",
       "    </tr>\n",
       "    <tr>\n",
       "      <th>3</th>\n",
       "      <td>uniprotkb:Q06224</td>\n",
       "      <td>uniprotkb:P42841</td>\n",
       "      <td>intact:EBI-38345|uniprotkb:D6VYS4</td>\n",
       "      <td>intact:EBI-28378|uniprotkb:Q6B1M2|uniprotkb:D6...</td>\n",
       "      <td>psi-mi:ysh1_yeast(display_long)|uniprotkb:BRR5...</td>\n",
       "      <td>psi-mi:pfs2_yeast(display_long)|uniprotkb:PFS2...</td>\n",
       "      <td>psi-mi:\"MI:0019\"(coimmunoprecipitation)</td>\n",
       "      <td>Ohnacker et al. (2000)</td>\n",
       "      <td>pubmed:10619842|mint:MINT-5212104</td>\n",
       "      <td>taxid:559292(yeast)|taxid:559292(Saccharomyces...</td>\n",
       "      <td>...</td>\n",
       "      <td>-</td>\n",
       "      <td>psi-mi:\"MI:0396\"(predetermined participant)</td>\n",
       "      <td>psi-mi:\"MI:0396\"(predetermined participant)</td>\n",
       "      <td>uniprotkb:Q06224|intact:EBI-38345|uniprotkb:D6...</td>\n",
       "      <td>uniprotkb:P42841|intact:EBI-28378|uniprotkb:Q6...</td>\n",
       "      <td>Q06224|D6VYS4</td>\n",
       "      <td>P42841|Q6B1M2|D6W0M8</td>\n",
       "      <td>Q06224</td>\n",
       "      <td>P42841</td>\n",
       "      <td>0.74</td>\n",
       "    </tr>\n",
       "    <tr>\n",
       "      <th>4</th>\n",
       "      <td>uniprotkb:P42841</td>\n",
       "      <td>uniprotkb:Q06224</td>\n",
       "      <td>intact:EBI-28378|uniprotkb:Q6B1M2|uniprotkb:D6...</td>\n",
       "      <td>intact:EBI-38345|uniprotkb:D6VYS4</td>\n",
       "      <td>psi-mi:pfs2_yeast(display_long)|uniprotkb:PFS2...</td>\n",
       "      <td>psi-mi:ysh1_yeast(display_long)|uniprotkb:BRR5...</td>\n",
       "      <td>psi-mi:\"MI:0096\"(pull down)</td>\n",
       "      <td>Ohnacker et al. (2000)</td>\n",
       "      <td>pubmed:10619842|mint:MINT-5212104</td>\n",
       "      <td>taxid:559292(yeast)|taxid:559292(Saccharomyces...</td>\n",
       "      <td>...</td>\n",
       "      <td>-</td>\n",
       "      <td>psi-mi:\"MI:0396\"(predetermined participant)</td>\n",
       "      <td>psi-mi:\"MI:0396\"(predetermined participant)</td>\n",
       "      <td>uniprotkb:P42841|intact:EBI-28378|uniprotkb:Q6...</td>\n",
       "      <td>uniprotkb:Q06224|intact:EBI-38345|uniprotkb:D6...</td>\n",
       "      <td>P42841|Q6B1M2|D6W0M8</td>\n",
       "      <td>Q06224|D6VYS4</td>\n",
       "      <td>P42841</td>\n",
       "      <td>Q06224</td>\n",
       "      <td>0.74</td>\n",
       "    </tr>\n",
       "  </tbody>\n",
       "</table>\n",
       "<p>5 rows × 49 columns</p>\n",
       "</div>"
      ],
      "text/plain": [
       "  #ID(s) interactor A ID(s) interactor B  \\\n",
       "0    uniprotkb:P32917   uniprotkb:P23561   \n",
       "1    uniprotkb:P08539   uniprotkb:P18851   \n",
       "2    uniprotkb:P14681   uniprotkb:P13574   \n",
       "3    uniprotkb:Q06224   uniprotkb:P42841   \n",
       "4    uniprotkb:P42841   uniprotkb:Q06224   \n",
       "\n",
       "                             Alt. ID(s) interactor A  \\\n",
       "0                  intact:EBI-18373|uniprotkb:D6VS89   \n",
       "1                   intact:EBI-7376|uniprotkb:D3DKU8   \n",
       "2  intact:EBI-9945|uniprotkb:Q45U43|uniprotkb:D6VUH8   \n",
       "3                  intact:EBI-38345|uniprotkb:D6VYS4   \n",
       "4  intact:EBI-28378|uniprotkb:Q6B1M2|uniprotkb:D6...   \n",
       "\n",
       "                             Alt. ID(s) interactor B  \\\n",
       "0                  intact:EBI-18259|uniprotkb:D6VZ00   \n",
       "1                   intact:EBI-7390|uniprotkb:D6W2R8   \n",
       "2                  intact:EBI-18264|uniprotkb:D3DL35   \n",
       "3  intact:EBI-28378|uniprotkb:Q6B1M2|uniprotkb:D6...   \n",
       "4                  intact:EBI-38345|uniprotkb:D6VYS4   \n",
       "\n",
       "                              Alias(es) interactor A  \\\n",
       "0  psi-mi:ste5_yeast(display_long)|uniprotkb:STE5...   \n",
       "1  psi-mi:gpa1_yeast(display_long)|uniprotkb:GP1-...   \n",
       "2  psi-mi:kss1_yeast(display_long)|uniprotkb:Kina...   \n",
       "3  psi-mi:ysh1_yeast(display_long)|uniprotkb:BRR5...   \n",
       "4  psi-mi:pfs2_yeast(display_long)|uniprotkb:PFS2...   \n",
       "\n",
       "                              Alias(es) interactor B  \\\n",
       "0  psi-mi:ste11_yeast(display_long)|uniprotkb:L80...   \n",
       "1  psi-mi:gbb_yeast(display_long)|uniprotkb:YOR50...   \n",
       "2  psi-mi:ste12_yeast(display_long)|uniprotkb:YHR...   \n",
       "3  psi-mi:pfs2_yeast(display_long)|uniprotkb:PFS2...   \n",
       "4  psi-mi:ysh1_yeast(display_long)|uniprotkb:BRR5...   \n",
       "\n",
       "           Interaction detection method(s) Publication 1st author(s)  \\\n",
       "0  psi-mi:\"MI:0019\"(coimmunoprecipitation)      Inouye et al. (1997)   \n",
       "1             psi-mi:\"MI:0018\"(two hybrid)    Whiteway et al. (1994)   \n",
       "2  psi-mi:\"MI:0019\"(coimmunoprecipitation)     Madhani et al. (1997)   \n",
       "3  psi-mi:\"MI:0019\"(coimmunoprecipitation)    Ohnacker et al. (2000)   \n",
       "4              psi-mi:\"MI:0096\"(pull down)    Ohnacker et al. (2000)   \n",
       "\n",
       "           Publication Identifier(s)  \\\n",
       "0   mint:MINT-5221697|pubmed:9335587   \n",
       "1   mint:MINT-5220738|pubmed:8164677   \n",
       "2   mint:MINT-5221777|pubmed:9393860   \n",
       "3  pubmed:10619842|mint:MINT-5212104   \n",
       "4  pubmed:10619842|mint:MINT-5212104   \n",
       "\n",
       "                                  Taxid interactor A  ...  \\\n",
       "0  taxid:559292(yeast)|taxid:559292(Saccharomyces...  ...   \n",
       "1  taxid:559292(yeast)|taxid:559292(Saccharomyces...  ...   \n",
       "2  taxid:559292(yeast)|taxid:559292(Saccharomyces...  ...   \n",
       "3  taxid:559292(yeast)|taxid:559292(Saccharomyces...  ...   \n",
       "4  taxid:559292(yeast)|taxid:559292(Saccharomyces...  ...   \n",
       "\n",
       "  Stoichiometry(s) interactor B  \\\n",
       "0                             -   \n",
       "1                             -   \n",
       "2                             -   \n",
       "3                             -   \n",
       "4                             -   \n",
       "\n",
       "                 Identification method participant A  \\\n",
       "0        psi-mi:\"MI:0396\"(predetermined participant)   \n",
       "1  psi-mi:\"MI:0078\"(nucleotide sequence identific...   \n",
       "2        psi-mi:\"MI:0396\"(predetermined participant)   \n",
       "3        psi-mi:\"MI:0396\"(predetermined participant)   \n",
       "4        psi-mi:\"MI:0396\"(predetermined participant)   \n",
       "\n",
       "                 Identification method participant B  \\\n",
       "0        psi-mi:\"MI:0396\"(predetermined participant)   \n",
       "1  psi-mi:\"MI:0078\"(nucleotide sequence identific...   \n",
       "2        psi-mi:\"MI:0396\"(predetermined participant)   \n",
       "3        psi-mi:\"MI:0396\"(predetermined participant)   \n",
       "4        psi-mi:\"MI:0396\"(predetermined participant)   \n",
       "\n",
       "                                All IDs interactor A  \\\n",
       "0  uniprotkb:P32917|intact:EBI-18373|uniprotkb:D6...   \n",
       "1  uniprotkb:P08539|intact:EBI-7376|uniprotkb:D3DKU8   \n",
       "2  uniprotkb:P14681|intact:EBI-9945|uniprotkb:Q45...   \n",
       "3  uniprotkb:Q06224|intact:EBI-38345|uniprotkb:D6...   \n",
       "4  uniprotkb:P42841|intact:EBI-28378|uniprotkb:Q6...   \n",
       "\n",
       "                                All IDs interactor B       uniprotkb_IDs_A  \\\n",
       "0  uniprotkb:P23561|intact:EBI-18259|uniprotkb:D6...         P32917|D6VS89   \n",
       "1  uniprotkb:P18851|intact:EBI-7390|uniprotkb:D6W2R8         P08539|D3DKU8   \n",
       "2  uniprotkb:P13574|intact:EBI-18264|uniprotkb:D3...  P14681|Q45U43|D6VUH8   \n",
       "3  uniprotkb:P42841|intact:EBI-28378|uniprotkb:Q6...         Q06224|D6VYS4   \n",
       "4  uniprotkb:Q06224|intact:EBI-38345|uniprotkb:D6...  P42841|Q6B1M2|D6W0M8   \n",
       "\n",
       "        uniprotkb_IDs_B first_uniprotkb_IDs_A first_uniprotkb_IDs_B  \\\n",
       "0         P23561|D6VZ00                P32917                P23561   \n",
       "1         P18851|D6W2R8                P08539                P18851   \n",
       "2         P13574|D3DL35                P14681                P13574   \n",
       "3  P42841|Q6B1M2|D6W0M8                Q06224                P42841   \n",
       "4         Q06224|D6VYS4                P42841                Q06224   \n",
       "\n",
       "  intact-miscore  \n",
       "0           0.81  \n",
       "1           0.90  \n",
       "2           0.87  \n",
       "3           0.74  \n",
       "4           0.74  \n",
       "\n",
       "[5 rows x 49 columns]"
      ]
     },
     "metadata": {},
     "output_type": "display_data"
    }
   ],
   "source": [
    "dfIntAct1 = dfIntAct_3.reset_index(drop=True)\n",
    "glance(dfIntAct1)"
   ]
  },
  {
   "cell_type": "markdown",
   "metadata": {},
   "source": [
    "## EDA"
   ]
  },
  {
   "cell_type": "markdown",
   "metadata": {},
   "source": [
    "**Confidence score**"
   ]
  },
  {
   "cell_type": "code",
   "execution_count": 22,
   "metadata": {
    "execution": {
     "iopub.execute_input": "2022-01-10T16:42:53.880455Z",
     "iopub.status.busy": "2022-01-10T16:42:53.880308Z",
     "iopub.status.idle": "2022-01-10T16:42:54.171326Z",
     "shell.execute_reply": "2022-01-10T16:42:54.170691Z",
     "shell.execute_reply.started": "2022-01-10T16:42:53.880430Z"
    }
   },
   "outputs": [
    {
     "data": {
      "image/png": "[encoded data removed]",
      "text/plain": [
       "<Figure size 1008x432 with 1 Axes>"
      ]
     },
     "metadata": {},
     "output_type": "display_data"
    }
   ],
   "source": [
    "sns.distplot(dfIntAct1['intact-miscore'], hist=False);"
   ]
  },
  {
   "cell_type": "markdown",
   "metadata": {
    "hidden": true
   },
   "source": [
    "---\n",
    "**Interaction type**"
   ]
  },
  {
   "cell_type": "code",
   "execution_count": 23,
   "metadata": {
    "ExecuteTime": {
     "end_time": "2019-10-30T13:15:04.607394Z",
     "start_time": "2019-10-30T13:15:04.201567Z"
    },
    "execution": {
     "iopub.execute_input": "2022-01-10T16:42:54.172112Z",
     "iopub.status.busy": "2022-01-10T16:42:54.171956Z",
     "iopub.status.idle": "2022-01-10T16:42:54.185500Z",
     "shell.execute_reply": "2022-01-10T16:42:54.185043Z",
     "shell.execute_reply.started": "2022-01-10T16:42:54.172085Z"
    },
    "hidden": true,
    "scrolled": true
   },
   "outputs": [
    {
     "data": {
      "text/plain": [
       "Interaction type(s)\n",
       "psi-mi:\"MI:0914\"(association)                   73869\n",
       "psi-mi:\"MI:0915\"(physical association)          56067\n",
       "psi-mi:\"MI:0407\"(direct interaction)             3195\n",
       "psi-mi:\"MI:0403\"(colocalization)                  285\n",
       "psi-mi:\"MI:0195\"(covalent binding)                135\n",
       "psi-mi:\"MI:0217\"(phosphorylation reaction)         88\n",
       "psi-mi:\"MI:2364\"(proximity)                        28\n",
       "psi-mi:\"MI:0414\"(enzymatic reaction)               15\n",
       "psi-mi:\"MI:0213\"(methylation reaction)             15\n",
       "psi-mi:\"MI:0192\"(acetylation reaction)             13\n",
       "psi-mi:\"MI:0220\"(ubiquitination reaction)           9\n",
       "psi-mi:\"MI:0204\"(deubiquitination reaction)         8\n",
       "psi-mi:\"MI:0203\"(dephosphorylation reaction)        8\n",
       "psi-mi:\"MI:0197\"(deacetylation reaction)            3\n",
       "psi-mi:\"MI:1140\"(decarboxylation reaction)          2\n",
       "psi-mi:\"MI:0408\"(disulfide bond)                    1\n",
       "dtype: int64"
      ]
     },
     "execution_count": 23,
     "metadata": {},
     "output_type": "execute_result"
    }
   ],
   "source": [
    "dfIntAct1.groupby(by=\"Interaction type(s)\").size().sort_values(ascending=False)"
   ]
  },
  {
   "cell_type": "code",
   "execution_count": 24,
   "metadata": {
    "execution": {
     "iopub.execute_input": "2022-01-10T16:42:54.186188Z",
     "iopub.status.busy": "2022-01-10T16:42:54.186038Z",
     "iopub.status.idle": "2022-01-10T16:42:56.845780Z",
     "shell.execute_reply": "2022-01-10T16:42:56.845209Z",
     "shell.execute_reply.started": "2022-01-10T16:42:54.186163Z"
    }
   },
   "outputs": [
    {
     "data": {
      "image/png": "[encoded data removed]",
      "text/plain": [
       "<Figure size 1008x432 with 1 Axes>"
      ]
     },
     "metadata": {},
     "output_type": "display_data"
    }
   ],
   "source": [
    "l1 = ['psi-mi:\"MI:0915\"(physical association)', 'psi-mi:\"MI:0914\"(association)', 'psi-mi:\"MI:0407\"(direct interaction)']\n",
    "foo = dfIntAct1.loc[dfIntAct1['Interaction type(s)'].isin(l1)]\n",
    "\n",
    "l2 = ['psi-mi:\"MI:0403\"(colocalization)']\n",
    "bar = dfIntAct1.loc[dfIntAct1['Interaction type(s)'].isin(l2)]\n",
    "\n",
    "sns.distplot(foo['intact-miscore'], hist=False, rug=True, norm_hist=True, label='association')\n",
    "sns.distplot(bar['intact-miscore'], hist=False, rug=True, norm_hist=True, label='colocalisation')\n",
    "plt.legend();"
   ]
  },
  {
   "cell_type": "code",
   "execution_count": 25,
   "metadata": {
    "execution": {
     "iopub.execute_input": "2022-01-10T16:42:56.846582Z",
     "iopub.status.busy": "2022-01-10T16:42:56.846424Z",
     "iopub.status.idle": "2022-01-10T16:42:57.148266Z",
     "shell.execute_reply": "2022-01-10T16:42:57.147754Z",
     "shell.execute_reply.started": "2022-01-10T16:42:56.846557Z"
    }
   },
   "outputs": [
    {
     "data": {
      "image/png": "[encoded data removed]",
      "text/plain": [
       "<Figure size 1008x432 with 1 Axes>"
      ]
     },
     "metadata": {},
     "output_type": "display_data"
    }
   ],
   "source": [
    "L = ['psi-mi:\"MI:0915\"(physical association)', 'psi-mi:\"MI:0914\"(association)', 'psi-mi:\"MI:0407\"(direct interaction)']\n",
    "\n",
    "for l in L:\n",
    "    foo = dfIntAct1.loc[dfIntAct1['Interaction type(s)'] == l]\n",
    "    sns.distplot(foo['intact-miscore'], hist=False, label=l)\n",
    "plt.legend();"
   ]
  },
  {
   "cell_type": "markdown",
   "metadata": {
    "heading_collapsed": true,
    "hidden": true
   },
   "source": [
    "---\n",
    "**Complex expansion method**\n",
    "\n",
    "Here we distinguish between true binary interactions and N-ary interactions"
   ]
  },
  {
   "cell_type": "code",
   "execution_count": 26,
   "metadata": {
    "execution": {
     "iopub.execute_input": "2022-01-10T16:42:57.149028Z",
     "iopub.status.busy": "2022-01-10T16:42:57.148880Z",
     "iopub.status.idle": "2022-01-10T16:42:57.162188Z",
     "shell.execute_reply": "2022-01-10T16:42:57.161718Z",
     "shell.execute_reply.started": "2022-01-10T16:42:57.149003Z"
    }
   },
   "outputs": [
    {
     "data": {
      "text/plain": [
       "-                                    71421\n",
       "psi-mi:\"MI:1060\"(spoke expansion)    62320\n",
       "Name: Expansion method(s), dtype: int64"
      ]
     },
     "execution_count": 26,
     "metadata": {},
     "output_type": "execute_result"
    }
   ],
   "source": [
    "dfIntAct_3[\"Expansion method(s)\"].value_counts()"
   ]
  },
  {
   "cell_type": "code",
   "execution_count": 27,
   "metadata": {
    "execution": {
     "iopub.execute_input": "2022-01-10T16:42:57.162859Z",
     "iopub.status.busy": "2022-01-10T16:42:57.162713Z",
     "iopub.status.idle": "2022-01-10T16:42:57.515032Z",
     "shell.execute_reply": "2022-01-10T16:42:57.514464Z",
     "shell.execute_reply.started": "2022-01-10T16:42:57.162835Z"
    }
   },
   "outputs": [
    {
     "data": {
      "image/png": "[encoded data removed]",
      "text/plain": [
       "<Figure size 1008x432 with 1 Axes>"
      ]
     },
     "metadata": {},
     "output_type": "display_data"
    }
   ],
   "source": [
    "l1 = ['-']\n",
    "foo = dfIntAct1.loc[dfIntAct1['Expansion method(s)'].isin(l1)]\n",
    "\n",
    "l2 = ['psi-mi:\"MI:1060\"(spoke expansion)']\n",
    "bar = dfIntAct1.loc[dfIntAct1['Expansion method(s)'].isin(l2)]\n",
    "\n",
    "sns.distplot(foo['intact-miscore'], hist=False, kde=True, norm_hist=True, label='Direct')\n",
    "sns.distplot(bar['intact-miscore'], hist=False, kde=True, norm_hist=True, label='Spoke complexe')\n",
    "plt.legend();"
   ]
  },
  {
   "cell_type": "markdown",
   "metadata": {
    "hidden": true
   },
   "source": [
    "---\n",
    "**detection method**"
   ]
  },
  {
   "cell_type": "code",
   "execution_count": 28,
   "metadata": {
    "ExecuteTime": {
     "end_time": "2019-10-30T13:15:04.607394Z",
     "start_time": "2019-10-30T13:15:04.201567Z"
    },
    "execution": {
     "iopub.execute_input": "2022-01-10T16:42:57.515804Z",
     "iopub.status.busy": "2022-01-10T16:42:57.515653Z",
     "iopub.status.idle": "2022-01-10T16:42:57.531706Z",
     "shell.execute_reply": "2022-01-10T16:42:57.531251Z",
     "shell.execute_reply.started": "2022-01-10T16:42:57.515778Z"
    },
    "hidden": true,
    "scrolled": true
   },
   "outputs": [
    {
     "data": {
      "text/plain": [
       "Interaction detection method(s)\n",
       "psi-mi:\"MI:0676\"(tandem affinity purification)                   78386\n",
       "psi-mi:\"MI:0007\"(anti tag coimmunoprecipitation)                 15551\n",
       "psi-mi:\"MI:0363\"(inferred by author)                              8646\n",
       "psi-mi:\"MI:0018\"(two hybrid)                                      5675\n",
       "psi-mi:\"MI:0096\"(pull down)                                       4578\n",
       "psi-mi:\"MI:0397\"(two hybrid array)                                4004\n",
       "psi-mi:\"MI:0111\"(dihydrofolate reductase reconstruction)          3876\n",
       "psi-mi:\"MI:0410\"(3D electron microscopy)                          1580\n",
       "psi-mi:\"MI:0004\"(affinity chromatography technology)              1450\n",
       "psi-mi:\"MI:0398\"(two hybrid pooling approach)                     1376\n",
       "psi-mi:\"MI:0112\"(ubiquitin reconstruction)                        1118\n",
       "psi-mi:\"MI:0114\"(x-ray crystallography)                           1006\n",
       "psi-mi:\"MI:0071\"(molecular sieving)                                928\n",
       "psi-mi:\"MI:0006\"(anti bait coimmunoprecipitation)                  755\n",
       "psi-mi:\"MI:0089\"(protein array)                                    614\n",
       "psi-mi:\"MI:0081\"(peptide array)                                    558\n",
       "psi-mi:\"MI:0030\"(cross-linking study)                              332\n",
       "psi-mi:\"MI:0040\"(electron microscopy)                              263\n",
       "psi-mi:\"MI:0029\"(cosedimentation through density gradient)         221\n",
       "psi-mi:\"MI:1356\"(validated two hybrid)                             204\n",
       "psi-mi:\"MI:0276\"(blue native page)                                 193\n",
       "psi-mi:\"MI:0069\"(mass spectrometry studies of complexes)           179\n",
       "psi-mi:\"MI:0091\"(chromatography technology)                        179\n",
       "psi-mi:\"MI:0019\"(coimmunoprecipitation)                            141\n",
       "psi-mi:\"MI:0416\"(fluorescence microscopy)                          138\n",
       "psi-mi:\"MI:0226\"(ion exchange chromatography)                      132\n",
       "psi-mi:\"MI:0020\"(transmission electron microscopy)                 117\n",
       "psi-mi:\"MI:0065\"(isothermal titration calorimetry)                 115\n",
       "psi-mi:\"MI:0028\"(cosedimentation in solution)                      115\n",
       "psi-mi:\"MI:0401\"(biochemical)                                      101\n",
       "                                                                 ...  \n",
       "psi-mi:\"MI:0889\"(acetylase assay)                                    5\n",
       "psi-mi:\"MI:0605\"(enzymatic footprinting)                             5\n",
       "psi-mi:\"MI:0880\"(atpase assay)                                       5\n",
       "psi-mi:\"MI:1103\"(solution state nmr)                                 5\n",
       "psi-mi:\"MI:0042\"(electron paramagnetic resonance)                    4\n",
       "psi-mi:\"MI:0014\"(adenylate cyclase complementation)                  4\n",
       "psi-mi:\"MI:0872\"(atomic force microscopy)                            4\n",
       "psi-mi:\"MI:0038\"(dynamic light scattering)                           4\n",
       "psi-mi:\"MI:0997\"(ubiquitinase assay)                                 4\n",
       "psi-mi:\"MI:0399\"(two hybrid fragment pooling approach)               3\n",
       "psi-mi:\"MI:0405\"(competition binding)                                3\n",
       "psi-mi:\"MI:0419\"(gtpase assay)                                       3\n",
       "psi-mi:\"MI:0406\"(deacetylase assay)                                  3\n",
       "psi-mi:\"MI:1037\"(Split renilla luciferase complementation)           3\n",
       "psi-mi:\"MI:0413\"(electrophoretic mobility shift assay)               2\n",
       "psi-mi:\"MI:1246\"(ion mobility mass spectrometry of complexes)        2\n",
       "psi-mi:\"MI:1138\"(decarboxylation assay)                              2\n",
       "psi-mi:\"MI:0998\"(deubiquitinase assay)                               2\n",
       "psi-mi:\"MI:0814\"(protease accessibility laddering)                   1\n",
       "psi-mi:\"MI:0402\"(chromatin immunoprecipitation assay)                1\n",
       "psi-mi:\"MI:0982\"(electrophoretic mobility-based method)              1\n",
       "psi-mi:\"MI:0052\"(fluorescence correlation spectroscopy)              1\n",
       "psi-mi:\"MI:0417\"(footprinting)                                       1\n",
       "psi-mi:\"MI:0726\"(reverse two hybrid)                                 1\n",
       "psi-mi:\"MI:0043\"(electron resonance)                                 1\n",
       "psi-mi:\"MI:0012\"(bioluminescence resonance energy transfer)          1\n",
       "psi-mi:\"MI:0010\"(beta galactosidase complementation)                 1\n",
       "psi-mi:\"MI:0426\"(light microscopy)                                   1\n",
       "psi-mi:\"MI:0966\"(ultraviolet-visible spectroscopy)                   1\n",
       "psi-mi:\"MI:0588\"(three hybrid)                                       1\n",
       "Length: 98, dtype: int64"
      ]
     },
     "execution_count": 28,
     "metadata": {},
     "output_type": "execute_result"
    }
   ],
   "source": [
    "dfIntAct1.groupby(by=\"Interaction detection method(s)\").size().sort_values(ascending=False)"
   ]
  },
  {
   "cell_type": "code",
   "execution_count": 29,
   "metadata": {
    "execution": {
     "iopub.execute_input": "2022-01-10T16:42:57.532398Z",
     "iopub.status.busy": "2022-01-10T16:42:57.532261Z",
     "iopub.status.idle": "2022-01-10T16:42:57.994555Z",
     "shell.execute_reply": "2022-01-10T16:42:57.994027Z",
     "shell.execute_reply.started": "2022-01-10T16:42:57.532375Z"
    }
   },
   "outputs": [
    {
     "name": "stderr",
     "output_type": "stream",
     "text": [
      "/home/ll582/.conda/envs/PPI/lib/python3.7/site-packages/seaborn/distributions.py:198: RuntimeWarning: Mean of empty slice.\n",
      "  line, = ax.plot(a.mean(), 0)\n",
      "/home/ll582/.conda/envs/PPI/lib/python3.7/site-packages/numpy/core/_methods.py:85: RuntimeWarning: invalid value encountered in double_scalars\n",
      "  ret = ret.dtype.type(ret / rcount)\n"
     ]
    },
    {
     "data": {
      "image/png": "[encoded data removed]",
      "text/plain": [
       "<Figure size 1008x432 with 1 Axes>"
      ]
     },
     "metadata": {},
     "output_type": "display_data"
    }
   ],
   "source": [
    "L = [\n",
    "    'psi-mi:\"MI:0007\"(anti tag coimmunoprecipitation)', \n",
    "    'psi-mi:\"MI:0397\"(two hybrid array)', \n",
    "    'psi-mi:\"MI:1112\"(two hybrid prey pooling approach)',\n",
    "    'psi-mi:\"MI:1356\"(validated two hybrid)',\n",
    "    'psi-mi:\"MI:0006\"(anti bait coimmunoprecipitation)',\n",
    "    'psi-mi:\"MI:0096\"(pull down)',\n",
    "    'psi-mi:\"MI:0676\"(tandem affinity purification)',\n",
    "    'psi-mi:\"MI:0018\"(two hybrid)'\n",
    "]\n",
    "\n",
    "for l in L:\n",
    "    foo = dfIntAct1.loc[dfIntAct1['Interaction detection method(s)'] == l]\n",
    "    sns.distplot(foo['intact-miscore'], hist=False, label=l)\n",
    "plt.legend();"
   ]
  },
  {
   "cell_type": "code",
   "execution_count": 30,
   "metadata": {
    "execution": {
     "iopub.execute_input": "2022-01-10T16:42:57.995310Z",
     "iopub.status.busy": "2022-01-10T16:42:57.995165Z",
     "iopub.status.idle": "2022-01-10T16:42:58.241258Z",
     "shell.execute_reply": "2022-01-10T16:42:58.240705Z",
     "shell.execute_reply.started": "2022-01-10T16:42:57.995284Z"
    }
   },
   "outputs": [
    {
     "data": {
      "image/png": "[encoded data removed]",
      "text/plain": [
       "<Figure size 1008x432 with 1 Axes>"
      ]
     },
     "metadata": {},
     "output_type": "display_data"
    }
   ],
   "source": [
    "l1 = [\n",
    "    'psi-mi:\"MI:0007\"(anti tag coimmunoprecipitation)',\n",
    "    'psi-mi:\"MI:0006\"(anti bait coimmunoprecipitation)',\n",
    "]\n",
    "foo = dfIntAct1.loc[dfIntAct1['Interaction detection method(s)'].isin(l1)]\n",
    "\n",
    "l2 = [\n",
    "    'psi-mi:\"MI:0397\"(two hybrid array)', \n",
    "    'psi-mi:\"MI:1112\"(two hybrid prey pooling approach)',\n",
    "    'psi-mi:\"MI:1356\"(validated two hybrid)',\n",
    "    'psi-mi:\"MI:0018\"(two hybrid)'\n",
    "]\n",
    "bar = dfIntAct1.loc[dfIntAct1['Interaction detection method(s)'].isin(l2)]\n",
    "\n",
    "l3 = ['psi-mi:\"MI:0096\"(pull down)',]\n",
    "baar = dfIntAct1.loc[dfIntAct1['Interaction detection method(s)'].isin(l3)]\n",
    "\n",
    "l4 = ['psi-mi:\"MI:0676\"(tandem affinity purification)',]\n",
    "fool = dfIntAct1.loc[dfIntAct1['Interaction detection method(s)'].isin(l4)]\n",
    "\n",
    "sns.distplot(foo['intact-miscore'], hist=False, label='coimmunoprecipitation')\n",
    "sns.distplot(bar['intact-miscore'], hist=False, label='two hybrid')\n",
    "sns.distplot(baar['intact-miscore'], hist=False, label='pull down')\n",
    "sns.distplot(fool['intact-miscore'], hist=False, label='TAP')\n",
    "plt.legend();"
   ]
  },
  {
   "cell_type": "markdown",
   "metadata": {
    "hidden": true
   },
   "source": [
    "---\n",
    "**Host organisms**"
   ]
  },
  {
   "cell_type": "code",
   "execution_count": 31,
   "metadata": {
    "ExecuteTime": {
     "end_time": "2019-10-30T13:15:04.607394Z",
     "start_time": "2019-10-30T13:15:04.201567Z"
    },
    "execution": {
     "iopub.execute_input": "2022-01-10T16:42:58.242073Z",
     "iopub.status.busy": "2022-01-10T16:42:58.241912Z",
     "iopub.status.idle": "2022-01-10T16:42:58.259700Z",
     "shell.execute_reply": "2022-01-10T16:42:58.259214Z",
     "shell.execute_reply.started": "2022-01-10T16:42:58.242040Z"
    },
    "hidden": true,
    "scrolled": true
   },
   "outputs": [
    {
     "data": {
      "text/plain": [
       "Host organism(s)\n",
       "taxid:4932(yeasx)|taxid:4932(\"Saccharomyces cerevisiae (Baker's yeast)\")                           66046\n",
       "taxid:559292(yeast)|taxid:559292(Saccharomyces cerevisiae)                                         32528\n",
       "taxid:4932(baker's yeast-4l)|taxid:4932(Saccharomyces cerevisiae)                                  24386\n",
       "taxid:-1(in vitro)|taxid:-1(In vitro)                                                               6334\n",
       "taxid:-5(in silico)|taxid:-5(in silico)                                                             2663\n",
       "taxid:-4(in vivo)|taxid:-4(in vivo)                                                                  722\n",
       "taxid:562(ecolx)|taxid:562(Escherichia coli)                                                         466\n",
       "taxid:83333(ecoli)|taxid:83333(\"Escherichia coli (strain K12)\")                                      142\n",
       "taxid:4934(lackl)|taxid:4934(Lachancea kluyveri)                                                     120\n",
       "taxid:7108(spofr-sf_21)|taxid:7108(Spodoptera frugiperda insect cells)                               111\n",
       "taxid:7108(spofr-sf_9)|taxid:7108(Spodoptera frugiperda insect cells)                                 82\n",
       "taxid:7111(trini)|taxid:7111(\"Trichoplusia ni (Cabbage looper)\")                                      54\n",
       "taxid:7108(spofr)|taxid:7108(\"Spodoptera frugiperda (Fall armyworm)\")                                 47\n",
       "taxid:7111(trini-high_5)|taxid:7111(Trichoplusia ni cell line from eggs)                              17\n",
       "taxid:511693(ecobb)|taxid:511693(\"Escherichia coli (strain B / BL21)\")                                 8\n",
       "taxid:9606(human-293t)|taxid:9606(Homo sapiens 293 cells transformed with SV40 large T antigen)        5\n",
       "taxid:4932(baker's yeast-mex 67)|taxid:4932(Saccharomyces cerevisiae)                                  2\n",
       "taxid:469008(ecobd)|taxid:469008(\"Escherichia coli (strain B / BL21-DE3)\")                             2\n",
       "taxid:10090(mouse)|taxid:10090(Mus musculus)                                                           2\n",
       "taxid:4932(baker's yeast-l40)|taxid:4932(Saccharomyces cerevisiae)                                     1\n",
       "taxid:1772(mycsm)|taxid:1772(Mycobacterium smegmatis)                                                  1\n",
       "taxid:9534(chlae-cos_7)|taxid:9534(Cercopithecus aethiops simian cells transformed with SV40)          1\n",
       "taxid:7227(drome)|taxid:7227(\"Drosophila melanogaster (Fruit fly)\")                                    1\n",
       "dtype: int64"
      ]
     },
     "execution_count": 31,
     "metadata": {},
     "output_type": "execute_result"
    }
   ],
   "source": [
    "dfIntAct1.groupby(by=\"Host organism(s)\").size().sort_values(ascending=False)"
   ]
  },
  {
   "cell_type": "code",
   "execution_count": 32,
   "metadata": {
    "execution": {
     "iopub.execute_input": "2022-01-10T16:42:58.260415Z",
     "iopub.status.busy": "2022-01-10T16:42:58.260272Z",
     "iopub.status.idle": "2022-01-10T16:42:58.459340Z",
     "shell.execute_reply": "2022-01-10T16:42:58.458774Z",
     "shell.execute_reply.started": "2022-01-10T16:42:58.260391Z"
    }
   },
   "outputs": [
    {
     "data": {
      "image/png": "[encoded data removed]",
      "text/plain": [
       "<Figure size 1008x432 with 1 Axes>"
      ]
     },
     "metadata": {},
     "output_type": "display_data"
    }
   ],
   "source": [
    "l1 = [\n",
    "    'taxid:4932(yeasx)|taxid:4932(\"Saccharomyces cerevisiae (Baker\\'s yeast)\") ',\n",
    "    'taxid:559292(yeast)|taxid:559292(Saccharomyces cerevisiae)'\n",
    "]\n",
    "foo = dfIntAct1.loc[dfIntAct1['Host organism(s)'].isin(l1)]\n",
    "\n",
    "l2 = [\n",
    "    'taxid:9606(human-293t)|taxid:9606(Homo sapiens 293 cells transformed with SV40 large T antigen)',\n",
    "    'taxid:9606(human-293)|taxid:9606(Homo sapiens transformed primary embryonal kidney cells)',\n",
    "    'taxid:9606(human-hela)|taxid:9606(Homo sapiens epitheloid cervix carcinoma cells)',\n",
    "    'taxid:9606(human-293 flp-in)|taxid:9606(Homo sapiens)',\n",
    "    'taxid:9606(human-u2-os)|taxid:9606(Human U2-OS osteosarcoma cell line)',\n",
    "    'taxid:9606(human)|taxid:9606(Homo sapiens)'\n",
    "]\n",
    "bar = dfIntAct1.loc[dfIntAct1['Host organism(s)'].isin(l2)]\n",
    "\n",
    "l3 = ['taxid:-1(in vitro)|taxid:-1(In vitro)']\n",
    "baar = dfIntAct1.loc[dfIntAct1['Host organism(s)'].isin(l3)]\n",
    "\n",
    "sns.distplot(foo['intact-miscore'], hist=False, label='yeast')\n",
    "sns.distplot(bar['intact-miscore'], hist=False, label='homo sapiens')\n",
    "sns.distplot(baar['intact-miscore'], hist=False, label='in vitro')\n",
    "plt.legend();"
   ]
  },
  {
   "cell_type": "markdown",
   "metadata": {},
   "source": [
    "**Mapping to UniProt** \n",
    "\n",
    "(copied from the \"mapping to uniprot\" section below, check it out for details)"
   ]
  },
  {
   "cell_type": "code",
   "execution_count": 33,
   "metadata": {
    "execution": {
     "iopub.execute_input": "2022-01-10T16:42:58.460249Z",
     "iopub.status.busy": "2022-01-10T16:42:58.460087Z",
     "iopub.status.idle": "2022-01-10T16:43:05.090814Z",
     "shell.execute_reply": "2022-01-10T16:43:05.089639Z",
     "shell.execute_reply.started": "2022-01-10T16:42:58.460223Z"
    }
   },
   "outputs": [
    {
     "name": "stdout",
     "output_type": "stream",
     "text": [
      "0/5,864 couldn't be matched\n",
      "Droped duplicates: 76\n",
      "Droped \"unofficials\": 5,831\n",
      "In total, 133,741 interactions removed\n"
     ]
    }
   ],
   "source": [
    "intactFinal = dfIntAct1[['first_uniprotkb_IDs_A','first_uniprotkb_IDs_B']]\n",
    "\n",
    "uniprotkbIdsList = list(set(list(intactFinal.first_uniprotkb_IDs_A)+list(intactFinal.first_uniprotkb_IDs_B)))\n",
    "assert ~('' in uniprotkbIdsList)\n",
    "\n",
    "uniprotMapping = mappingUniprotIDs(fromID = 'ACC', listIDs = uniprotkbIdsList)\n",
    "\n",
    "uniprotMapping_2 = uniprotMapping.drop_duplicates(subset='From',keep=False).reset_index(drop=True)\n",
    "\n",
    "uniprotIDs = pd.read_csv(\n",
    "    os.path.join(cfg['rawDataUniProt'], \n",
    "                 \"uniprot_allProteins_Human_v{}.pkl\".format(logVersions['UniProt']['rawData'])),\n",
    "    header=None,\n",
    "    names=['To']\n",
    ")\n",
    "\n",
    "uniprotMapping_3 = uniprotMapping_2.merge(\n",
    "    uniprotIDs,\n",
    "    how='inner',\n",
    "    on='To'\n",
    ")\n",
    "\n",
    "print(\"{:,}/{:,} couldn't be matched\".format(len(uniprotkbIdsList)-len(set(uniprotMapping.From)), len(uniprotkbIdsList)))\n",
    "print('Droped duplicates: {:,}'.format(len(uniprotMapping) - len(uniprotMapping_2)))\n",
    "print('Droped \"unofficials\": {:,}'.format(len(uniprotMapping_2) - len(uniprotMapping_3)))\n",
    "\n",
    "assert len(uniprotMapping_2.loc[uniprotMapping_2.duplicated(keep=False)]) == 0\n",
    "assert len(uniprotMapping_2.From) == len(set(uniprotMapping_2.From))\n",
    "\n",
    "uniprotMapping_A = uniprotMapping_3.copy()\n",
    "uniprotMapping_A = uniprotMapping_A.rename(columns={\n",
    "    'From': 'first_uniprotkb_IDs_A', \n",
    "    'To': 'uniprotID_A'\n",
    "})\n",
    "uniprotMapping_B = uniprotMapping_3.copy()\n",
    "uniprotMapping_B = uniprotMapping_B.rename(columns={\n",
    "    'From': 'first_uniprotkb_IDs_B', \n",
    "    'To': 'uniprotID_B'\n",
    "})\n",
    "\n",
    "intactFinal_2 = intactFinal.merge(\n",
    "    uniprotMapping_A,\n",
    "    how=\"inner\", \n",
    "    on=\"first_uniprotkb_IDs_A\"\n",
    ").merge(\n",
    "    uniprotMapping_B,\n",
    "    how=\"inner\", \n",
    "    on=\"first_uniprotkb_IDs_B\"\n",
    ")\n",
    "\n",
    "print('In total, {:,} interactions removed'.format(len(intactFinal) - len(intactFinal_2)))\n",
    "\n",
    "assert len(intactFinal_2) < len(intactFinal)\n",
    "assert intactFinal_2.uniprotID_A.isna().sum() == 0\n",
    "assert intactFinal_2.uniprotID_B.isna().sum() == 0"
   ]
  },
  {
   "cell_type": "code",
   "execution_count": 34,
   "metadata": {
    "execution": {
     "iopub.execute_input": "2022-01-10T16:43:05.092016Z",
     "iopub.status.busy": "2022-01-10T16:43:05.091756Z",
     "iopub.status.idle": "2022-01-10T16:43:05.101209Z",
     "shell.execute_reply": "2022-01-10T16:43:05.100432Z",
     "shell.execute_reply.started": "2022-01-10T16:43:05.091973Z"
    }
   },
   "outputs": [
    {
     "name": "stdout",
     "output_type": "stream",
     "text": [
      "DataFrame: 0 rows \t 4 columns\n"
     ]
    },
    {
     "data": {
      "text/html": [
       "<div>\n",
       "<style scoped>\n",
       "    .dataframe tbody tr th:only-of-type {\n",
       "        vertical-align: middle;\n",
       "    }\n",
       "\n",
       "    .dataframe tbody tr th {\n",
       "        vertical-align: top;\n",
       "    }\n",
       "\n",
       "    .dataframe thead th {\n",
       "        text-align: right;\n",
       "    }\n",
       "</style>\n",
       "<table border=\"1\" class=\"dataframe\">\n",
       "  <thead>\n",
       "    <tr style=\"text-align: right;\">\n",
       "      <th></th>\n",
       "      <th>first_uniprotkb_IDs_A</th>\n",
       "      <th>uniprotID_A</th>\n",
       "      <th>first_uniprotkb_IDs_B</th>\n",
       "      <th>uniprotID_B</th>\n",
       "    </tr>\n",
       "  </thead>\n",
       "  <tbody>\n",
       "  </tbody>\n",
       "</table>\n",
       "</div>"
      ],
      "text/plain": [
       "Empty DataFrame\n",
       "Columns: [first_uniprotkb_IDs_A, uniprotID_A, first_uniprotkb_IDs_B, uniprotID_B]\n",
       "Index: []"
      ]
     },
     "metadata": {},
     "output_type": "display_data"
    }
   ],
   "source": [
    "glance(intactFinal_2)"
   ]
  },
  {
   "cell_type": "code",
   "execution_count": 35,
   "metadata": {
    "execution": {
     "iopub.execute_input": "2022-01-10T16:43:05.102317Z",
     "iopub.status.busy": "2022-01-10T16:43:05.102089Z",
     "iopub.status.idle": "2022-01-10T16:43:05.136786Z",
     "shell.execute_reply": "2022-01-10T16:43:05.135674Z",
     "shell.execute_reply.started": "2022-01-10T16:43:05.102278Z"
    }
   },
   "outputs": [
    {
     "data": {
      "text/plain": [
       "Series([], dtype: int64)"
      ]
     },
     "execution_count": 35,
     "metadata": {},
     "output_type": "execute_result"
    }
   ],
   "source": [
    "allIDs = pd.concat([intactFinal_2.uniprotID_A,intactFinal_2.uniprotID_B])\n",
    "\n",
    "Ninter_perProtein = allIDs.value_counts()\n",
    "\n",
    "Ninter_perProtein"
   ]
  },
  {
   "cell_type": "markdown",
   "metadata": {},
   "source": [
    "## Filter 2: no complexes and no colocalisation"
   ]
  },
  {
   "cell_type": "markdown",
   "metadata": {},
   "source": [
    "**Keep only direct interactions (no complexe expensions)**"
   ]
  },
  {
   "cell_type": "code",
   "execution_count": 36,
   "metadata": {
    "execution": {
     "iopub.execute_input": "2022-01-10T16:43:05.138666Z",
     "iopub.status.busy": "2022-01-10T16:43:05.138274Z",
     "iopub.status.idle": "2022-01-10T16:43:05.161313Z",
     "shell.execute_reply": "2022-01-10T16:43:05.160285Z",
     "shell.execute_reply.started": "2022-01-10T16:43:05.138595Z"
    }
   },
   "outputs": [
    {
     "data": {
      "text/plain": [
       "(133741, 49)"
      ]
     },
     "execution_count": 36,
     "metadata": {},
     "output_type": "execute_result"
    }
   ],
   "source": [
    "dfIntAct1.shape"
   ]
  },
  {
   "cell_type": "code",
   "execution_count": 37,
   "metadata": {
    "execution": {
     "iopub.execute_input": "2022-01-10T16:43:05.163325Z",
     "iopub.status.busy": "2022-01-10T16:43:05.162777Z",
     "iopub.status.idle": "2022-01-10T16:43:05.261533Z",
     "shell.execute_reply": "2022-01-10T16:43:05.260603Z",
     "shell.execute_reply.started": "2022-01-10T16:43:05.163121Z"
    }
   },
   "outputs": [
    {
     "data": {
      "text/plain": [
       "(71421, 49)"
      ]
     },
     "execution_count": 37,
     "metadata": {},
     "output_type": "execute_result"
    }
   ],
   "source": [
    "dfIntAct1_2 = dfIntAct1.loc[dfIntAct1['Expansion method(s)'] == '-']\n",
    "dfIntAct1_2.shape"
   ]
  },
  {
   "cell_type": "markdown",
   "metadata": {},
   "source": [
    "---\n",
    "**EDA part 2**"
   ]
  },
  {
   "cell_type": "code",
   "execution_count": 38,
   "metadata": {
    "ExecuteTime": {
     "end_time": "2019-10-30T13:15:04.607394Z",
     "start_time": "2019-10-30T13:15:04.201567Z"
    },
    "execution": {
     "iopub.execute_input": "2022-01-10T16:43:05.262851Z",
     "iopub.status.busy": "2022-01-10T16:43:05.262594Z",
     "iopub.status.idle": "2022-01-10T16:43:05.287820Z",
     "shell.execute_reply": "2022-01-10T16:43:05.287086Z",
     "shell.execute_reply.started": "2022-01-10T16:43:05.262808Z"
    },
    "hidden": true,
    "scrolled": true
   },
   "outputs": [
    {
     "data": {
      "text/plain": [
       "Interaction type(s)\n",
       "psi-mi:\"MI:0915\"(physical association)          45195\n",
       "psi-mi:\"MI:0914\"(association)                   22622\n",
       "psi-mi:\"MI:0407\"(direct interaction)             3163\n",
       "psi-mi:\"MI:0403\"(colocalization)                  172\n",
       "psi-mi:\"MI:0195\"(covalent binding)                135\n",
       "psi-mi:\"MI:0217\"(phosphorylation reaction)         71\n",
       "psi-mi:\"MI:2364\"(proximity)                        28\n",
       "psi-mi:\"MI:0213\"(methylation reaction)             11\n",
       "psi-mi:\"MI:0203\"(dephosphorylation reaction)        8\n",
       "psi-mi:\"MI:0414\"(enzymatic reaction)                6\n",
       "psi-mi:\"MI:0197\"(deacetylation reaction)            3\n",
       "psi-mi:\"MI:0192\"(acetylation reaction)              3\n",
       "psi-mi:\"MI:0204\"(deubiquitination reaction)         2\n",
       "psi-mi:\"MI:0408\"(disulfide bond)                    1\n",
       "psi-mi:\"MI:0220\"(ubiquitination reaction)           1\n",
       "dtype: int64"
      ]
     },
     "execution_count": 38,
     "metadata": {},
     "output_type": "execute_result"
    }
   ],
   "source": [
    "dfIntAct1_2.groupby(by=\"Interaction type(s)\").size().sort_values(ascending=False)"
   ]
  },
  {
   "cell_type": "code",
   "execution_count": 39,
   "metadata": {
    "execution": {
     "iopub.execute_input": "2022-01-10T16:43:05.288891Z",
     "iopub.status.busy": "2022-01-10T16:43:05.288674Z",
     "iopub.status.idle": "2022-01-10T16:43:06.889738Z",
     "shell.execute_reply": "2022-01-10T16:43:06.889199Z",
     "shell.execute_reply.started": "2022-01-10T16:43:05.288854Z"
    }
   },
   "outputs": [
    {
     "data": {
      "image/png": "[encoded data removed]",
      "text/plain": [
       "<Figure size 1008x432 with 1 Axes>"
      ]
     },
     "metadata": {},
     "output_type": "display_data"
    }
   ],
   "source": [
    "l1 = ['psi-mi:\"MI:0915\"(physical association)', 'psi-mi:\"MI:0914\"(association)', 'psi-mi:\"MI:0407\"(direct interaction)']\n",
    "foo = dfIntAct1_2.loc[dfIntAct1_2['Interaction type(s)'].isin(l1)]\n",
    "\n",
    "l2 = ['psi-mi:\"MI:0403\"(colocalization)']\n",
    "bar = dfIntAct1_2.loc[dfIntAct1_2['Interaction type(s)'].isin(l2)]\n",
    "\n",
    "sns.distplot(foo['intact-miscore'], hist=False, rug=True, norm_hist=True, label='association')\n",
    "sns.distplot(bar['intact-miscore'], hist=False, rug=True, norm_hist=True, label='colocalisation')\n",
    "plt.legend();"
   ]
  },
  {
   "cell_type": "code",
   "execution_count": 40,
   "metadata": {
    "execution": {
     "iopub.execute_input": "2022-01-10T16:43:06.893559Z",
     "iopub.status.busy": "2022-01-10T16:43:06.893363Z",
     "iopub.status.idle": "2022-01-10T16:43:07.205925Z",
     "shell.execute_reply": "2022-01-10T16:43:07.205343Z",
     "shell.execute_reply.started": "2022-01-10T16:43:06.893531Z"
    }
   },
   "outputs": [
    {
     "data": {
      "image/png": "[encoded data removed]",
      "text/plain": [
       "<Figure size 1008x432 with 1 Axes>"
      ]
     },
     "metadata": {},
     "output_type": "display_data"
    }
   ],
   "source": [
    "L = ['psi-mi:\"MI:0915\"(physical association)', 'psi-mi:\"MI:0914\"(association)', 'psi-mi:\"MI:0407\"(direct interaction)']\n",
    "\n",
    "for l in L:\n",
    "    foo = dfIntAct1_2.loc[dfIntAct1_2['Interaction type(s)'] == l]\n",
    "    sns.distplot(foo['intact-miscore'], hist=False, label=l)\n",
    "plt.legend();"
   ]
  },
  {
   "cell_type": "markdown",
   "metadata": {},
   "source": [
    "---\n",
    "**keep only associations, no colocalisations or other weird things**\n",
    "\n",
    "(Although we already removed most of them by removing complexes, and histograms show no real low quality peak anymore)"
   ]
  },
  {
   "cell_type": "code",
   "execution_count": 41,
   "metadata": {
    "execution": {
     "iopub.execute_input": "2022-01-10T16:43:07.207196Z",
     "iopub.status.busy": "2022-01-10T16:43:07.207025Z",
     "iopub.status.idle": "2022-01-10T16:43:07.250295Z",
     "shell.execute_reply": "2022-01-10T16:43:07.249759Z",
     "shell.execute_reply.started": "2022-01-10T16:43:07.207169Z"
    }
   },
   "outputs": [
    {
     "data": {
      "text/plain": [
       "(70980, 49)"
      ]
     },
     "execution_count": 41,
     "metadata": {},
     "output_type": "execute_result"
    }
   ],
   "source": [
    "foo = [\n",
    "    'psi-mi:\"MI:0915\"(physical association)', \n",
    "    'psi-mi:\"MI:0914\"(association)', \n",
    "    'psi-mi:\"MI:0407\"(direct interaction)'\n",
    "]\n",
    "\n",
    "dfIntAct1_3 = dfIntAct1_2.loc[dfIntAct1_2['Interaction type(s)'].isin(foo)]\n",
    "dfIntAct1_3.shape"
   ]
  },
  {
   "cell_type": "code",
   "execution_count": 42,
   "metadata": {
    "execution": {
     "iopub.execute_input": "2022-01-10T16:43:07.250962Z",
     "iopub.status.busy": "2022-01-10T16:43:07.250816Z",
     "iopub.status.idle": "2022-01-10T16:43:07.455261Z",
     "shell.execute_reply": "2022-01-10T16:43:07.454723Z",
     "shell.execute_reply.started": "2022-01-10T16:43:07.250938Z"
    }
   },
   "outputs": [
    {
     "data": {
      "image/png": "[encoded data removed]",
      "text/plain": [
       "<Figure size 1008x432 with 1 Axes>"
      ]
     },
     "metadata": {},
     "output_type": "display_data"
    }
   ],
   "source": [
    "sns.distplot(dfIntAct1_3['intact-miscore'], kde=True,hist=False);"
   ]
  },
  {
   "cell_type": "markdown",
   "metadata": {},
   "source": [
    "---\n",
    "**Reinitialise index**"
   ]
  },
  {
   "cell_type": "code",
   "execution_count": 43,
   "metadata": {
    "execution": {
     "iopub.execute_input": "2022-01-10T16:43:07.456042Z",
     "iopub.status.busy": "2022-01-10T16:43:07.455881Z",
     "iopub.status.idle": "2022-01-10T16:43:07.539550Z",
     "shell.execute_reply": "2022-01-10T16:43:07.539053Z",
     "shell.execute_reply.started": "2022-01-10T16:43:07.456016Z"
    }
   },
   "outputs": [
    {
     "name": "stdout",
     "output_type": "stream",
     "text": [
      "DataFrame: 70,980 rows \t 49 columns\n"
     ]
    },
    {
     "data": {
      "text/html": [
       "<div>\n",
       "<style scoped>\n",
       "    .dataframe tbody tr th:only-of-type {\n",
       "        vertical-align: middle;\n",
       "    }\n",
       "\n",
       "    .dataframe tbody tr th {\n",
       "        vertical-align: top;\n",
       "    }\n",
       "\n",
       "    .dataframe thead th {\n",
       "        text-align: right;\n",
       "    }\n",
       "</style>\n",
       "<table border=\"1\" class=\"dataframe\">\n",
       "  <thead>\n",
       "    <tr style=\"text-align: right;\">\n",
       "      <th></th>\n",
       "      <th>#ID(s) interactor A</th>\n",
       "      <th>ID(s) interactor B</th>\n",
       "      <th>Alt. ID(s) interactor A</th>\n",
       "      <th>Alt. ID(s) interactor B</th>\n",
       "      <th>Alias(es) interactor A</th>\n",
       "      <th>Alias(es) interactor B</th>\n",
       "      <th>Interaction detection method(s)</th>\n",
       "      <th>Publication 1st author(s)</th>\n",
       "      <th>Publication Identifier(s)</th>\n",
       "      <th>Taxid interactor A</th>\n",
       "      <th>...</th>\n",
       "      <th>Stoichiometry(s) interactor B</th>\n",
       "      <th>Identification method participant A</th>\n",
       "      <th>Identification method participant B</th>\n",
       "      <th>All IDs interactor A</th>\n",
       "      <th>All IDs interactor B</th>\n",
       "      <th>uniprotkb_IDs_A</th>\n",
       "      <th>uniprotkb_IDs_B</th>\n",
       "      <th>first_uniprotkb_IDs_A</th>\n",
       "      <th>first_uniprotkb_IDs_B</th>\n",
       "      <th>intact-miscore</th>\n",
       "    </tr>\n",
       "  </thead>\n",
       "  <tbody>\n",
       "    <tr>\n",
       "      <th>0</th>\n",
       "      <td>uniprotkb:P32917</td>\n",
       "      <td>uniprotkb:P23561</td>\n",
       "      <td>intact:EBI-18373|uniprotkb:D6VS89</td>\n",
       "      <td>intact:EBI-18259|uniprotkb:D6VZ00</td>\n",
       "      <td>psi-mi:ste5_yeast(display_long)|uniprotkb:STE5...</td>\n",
       "      <td>psi-mi:ste11_yeast(display_long)|uniprotkb:L80...</td>\n",
       "      <td>psi-mi:\"MI:0019\"(coimmunoprecipitation)</td>\n",
       "      <td>Inouye et al. (1997)</td>\n",
       "      <td>mint:MINT-5221697|pubmed:9335587</td>\n",
       "      <td>taxid:559292(yeast)|taxid:559292(Saccharomyces...</td>\n",
       "      <td>...</td>\n",
       "      <td>-</td>\n",
       "      <td>psi-mi:\"MI:0396\"(predetermined participant)</td>\n",
       "      <td>psi-mi:\"MI:0396\"(predetermined participant)</td>\n",
       "      <td>uniprotkb:P32917|intact:EBI-18373|uniprotkb:D6...</td>\n",
       "      <td>uniprotkb:P23561|intact:EBI-18259|uniprotkb:D6...</td>\n",
       "      <td>P32917|D6VS89</td>\n",
       "      <td>P23561|D6VZ00</td>\n",
       "      <td>P32917</td>\n",
       "      <td>P23561</td>\n",
       "      <td>0.81</td>\n",
       "    </tr>\n",
       "    <tr>\n",
       "      <th>1</th>\n",
       "      <td>uniprotkb:P08539</td>\n",
       "      <td>uniprotkb:P18851</td>\n",
       "      <td>intact:EBI-7376|uniprotkb:D3DKU8</td>\n",
       "      <td>intact:EBI-7390|uniprotkb:D6W2R8</td>\n",
       "      <td>psi-mi:gpa1_yeast(display_long)|uniprotkb:GP1-...</td>\n",
       "      <td>psi-mi:gbb_yeast(display_long)|uniprotkb:YOR50...</td>\n",
       "      <td>psi-mi:\"MI:0018\"(two hybrid)</td>\n",
       "      <td>Whiteway et al. (1994)</td>\n",
       "      <td>mint:MINT-5220738|pubmed:8164677</td>\n",
       "      <td>taxid:559292(yeast)|taxid:559292(Saccharomyces...</td>\n",
       "      <td>...</td>\n",
       "      <td>-</td>\n",
       "      <td>psi-mi:\"MI:0078\"(nucleotide sequence identific...</td>\n",
       "      <td>psi-mi:\"MI:0078\"(nucleotide sequence identific...</td>\n",
       "      <td>uniprotkb:P08539|intact:EBI-7376|uniprotkb:D3DKU8</td>\n",
       "      <td>uniprotkb:P18851|intact:EBI-7390|uniprotkb:D6W2R8</td>\n",
       "      <td>P08539|D3DKU8</td>\n",
       "      <td>P18851|D6W2R8</td>\n",
       "      <td>P08539</td>\n",
       "      <td>P18851</td>\n",
       "      <td>0.90</td>\n",
       "    </tr>\n",
       "    <tr>\n",
       "      <th>2</th>\n",
       "      <td>uniprotkb:P14681</td>\n",
       "      <td>uniprotkb:P13574</td>\n",
       "      <td>intact:EBI-9945|uniprotkb:Q45U43|uniprotkb:D6VUH8</td>\n",
       "      <td>intact:EBI-18264|uniprotkb:D3DL35</td>\n",
       "      <td>psi-mi:kss1_yeast(display_long)|uniprotkb:Kina...</td>\n",
       "      <td>psi-mi:ste12_yeast(display_long)|uniprotkb:YHR...</td>\n",
       "      <td>psi-mi:\"MI:0019\"(coimmunoprecipitation)</td>\n",
       "      <td>Madhani et al. (1997)</td>\n",
       "      <td>mint:MINT-5221777|pubmed:9393860</td>\n",
       "      <td>taxid:559292(yeast)|taxid:559292(Saccharomyces...</td>\n",
       "      <td>...</td>\n",
       "      <td>-</td>\n",
       "      <td>psi-mi:\"MI:0396\"(predetermined participant)</td>\n",
       "      <td>psi-mi:\"MI:0396\"(predetermined participant)</td>\n",
       "      <td>uniprotkb:P14681|intact:EBI-9945|uniprotkb:Q45...</td>\n",
       "      <td>uniprotkb:P13574|intact:EBI-18264|uniprotkb:D3...</td>\n",
       "      <td>P14681|Q45U43|D6VUH8</td>\n",
       "      <td>P13574|D3DL35</td>\n",
       "      <td>P14681</td>\n",
       "      <td>P13574</td>\n",
       "      <td>0.87</td>\n",
       "    </tr>\n",
       "    <tr>\n",
       "      <th>3</th>\n",
       "      <td>uniprotkb:Q06224</td>\n",
       "      <td>uniprotkb:P42841</td>\n",
       "      <td>intact:EBI-38345|uniprotkb:D6VYS4</td>\n",
       "      <td>intact:EBI-28378|uniprotkb:Q6B1M2|uniprotkb:D6...</td>\n",
       "      <td>psi-mi:ysh1_yeast(display_long)|uniprotkb:BRR5...</td>\n",
       "      <td>psi-mi:pfs2_yeast(display_long)|uniprotkb:PFS2...</td>\n",
       "      <td>psi-mi:\"MI:0019\"(coimmunoprecipitation)</td>\n",
       "      <td>Ohnacker et al. (2000)</td>\n",
       "      <td>pubmed:10619842|mint:MINT-5212104</td>\n",
       "      <td>taxid:559292(yeast)|taxid:559292(Saccharomyces...</td>\n",
       "      <td>...</td>\n",
       "      <td>-</td>\n",
       "      <td>psi-mi:\"MI:0396\"(predetermined participant)</td>\n",
       "      <td>psi-mi:\"MI:0396\"(predetermined participant)</td>\n",
       "      <td>uniprotkb:Q06224|intact:EBI-38345|uniprotkb:D6...</td>\n",
       "      <td>uniprotkb:P42841|intact:EBI-28378|uniprotkb:Q6...</td>\n",
       "      <td>Q06224|D6VYS4</td>\n",
       "      <td>P42841|Q6B1M2|D6W0M8</td>\n",
       "      <td>Q06224</td>\n",
       "      <td>P42841</td>\n",
       "      <td>0.74</td>\n",
       "    </tr>\n",
       "    <tr>\n",
       "      <th>4</th>\n",
       "      <td>uniprotkb:P42841</td>\n",
       "      <td>uniprotkb:Q06224</td>\n",
       "      <td>intact:EBI-28378|uniprotkb:Q6B1M2|uniprotkb:D6...</td>\n",
       "      <td>intact:EBI-38345|uniprotkb:D6VYS4</td>\n",
       "      <td>psi-mi:pfs2_yeast(display_long)|uniprotkb:PFS2...</td>\n",
       "      <td>psi-mi:ysh1_yeast(display_long)|uniprotkb:BRR5...</td>\n",
       "      <td>psi-mi:\"MI:0096\"(pull down)</td>\n",
       "      <td>Ohnacker et al. (2000)</td>\n",
       "      <td>pubmed:10619842|mint:MINT-5212104</td>\n",
       "      <td>taxid:559292(yeast)|taxid:559292(Saccharomyces...</td>\n",
       "      <td>...</td>\n",
       "      <td>-</td>\n",
       "      <td>psi-mi:\"MI:0396\"(predetermined participant)</td>\n",
       "      <td>psi-mi:\"MI:0396\"(predetermined participant)</td>\n",
       "      <td>uniprotkb:P42841|intact:EBI-28378|uniprotkb:Q6...</td>\n",
       "      <td>uniprotkb:Q06224|intact:EBI-38345|uniprotkb:D6...</td>\n",
       "      <td>P42841|Q6B1M2|D6W0M8</td>\n",
       "      <td>Q06224|D6VYS4</td>\n",
       "      <td>P42841</td>\n",
       "      <td>Q06224</td>\n",
       "      <td>0.74</td>\n",
       "    </tr>\n",
       "  </tbody>\n",
       "</table>\n",
       "<p>5 rows × 49 columns</p>\n",
       "</div>"
      ],
      "text/plain": [
       "  #ID(s) interactor A ID(s) interactor B  \\\n",
       "0    uniprotkb:P32917   uniprotkb:P23561   \n",
       "1    uniprotkb:P08539   uniprotkb:P18851   \n",
       "2    uniprotkb:P14681   uniprotkb:P13574   \n",
       "3    uniprotkb:Q06224   uniprotkb:P42841   \n",
       "4    uniprotkb:P42841   uniprotkb:Q06224   \n",
       "\n",
       "                             Alt. ID(s) interactor A  \\\n",
       "0                  intact:EBI-18373|uniprotkb:D6VS89   \n",
       "1                   intact:EBI-7376|uniprotkb:D3DKU8   \n",
       "2  intact:EBI-9945|uniprotkb:Q45U43|uniprotkb:D6VUH8   \n",
       "3                  intact:EBI-38345|uniprotkb:D6VYS4   \n",
       "4  intact:EBI-28378|uniprotkb:Q6B1M2|uniprotkb:D6...   \n",
       "\n",
       "                             Alt. ID(s) interactor B  \\\n",
       "0                  intact:EBI-18259|uniprotkb:D6VZ00   \n",
       "1                   intact:EBI-7390|uniprotkb:D6W2R8   \n",
       "2                  intact:EBI-18264|uniprotkb:D3DL35   \n",
       "3  intact:EBI-28378|uniprotkb:Q6B1M2|uniprotkb:D6...   \n",
       "4                  intact:EBI-38345|uniprotkb:D6VYS4   \n",
       "\n",
       "                              Alias(es) interactor A  \\\n",
       "0  psi-mi:ste5_yeast(display_long)|uniprotkb:STE5...   \n",
       "1  psi-mi:gpa1_yeast(display_long)|uniprotkb:GP1-...   \n",
       "2  psi-mi:kss1_yeast(display_long)|uniprotkb:Kina...   \n",
       "3  psi-mi:ysh1_yeast(display_long)|uniprotkb:BRR5...   \n",
       "4  psi-mi:pfs2_yeast(display_long)|uniprotkb:PFS2...   \n",
       "\n",
       "                              Alias(es) interactor B  \\\n",
       "0  psi-mi:ste11_yeast(display_long)|uniprotkb:L80...   \n",
       "1  psi-mi:gbb_yeast(display_long)|uniprotkb:YOR50...   \n",
       "2  psi-mi:ste12_yeast(display_long)|uniprotkb:YHR...   \n",
       "3  psi-mi:pfs2_yeast(display_long)|uniprotkb:PFS2...   \n",
       "4  psi-mi:ysh1_yeast(display_long)|uniprotkb:BRR5...   \n",
       "\n",
       "           Interaction detection method(s) Publication 1st author(s)  \\\n",
       "0  psi-mi:\"MI:0019\"(coimmunoprecipitation)      Inouye et al. (1997)   \n",
       "1             psi-mi:\"MI:0018\"(two hybrid)    Whiteway et al. (1994)   \n",
       "2  psi-mi:\"MI:0019\"(coimmunoprecipitation)     Madhani et al. (1997)   \n",
       "3  psi-mi:\"MI:0019\"(coimmunoprecipitation)    Ohnacker et al. (2000)   \n",
       "4              psi-mi:\"MI:0096\"(pull down)    Ohnacker et al. (2000)   \n",
       "\n",
       "           Publication Identifier(s)  \\\n",
       "0   mint:MINT-5221697|pubmed:9335587   \n",
       "1   mint:MINT-5220738|pubmed:8164677   \n",
       "2   mint:MINT-5221777|pubmed:9393860   \n",
       "3  pubmed:10619842|mint:MINT-5212104   \n",
       "4  pubmed:10619842|mint:MINT-5212104   \n",
       "\n",
       "                                  Taxid interactor A  ...  \\\n",
       "0  taxid:559292(yeast)|taxid:559292(Saccharomyces...  ...   \n",
       "1  taxid:559292(yeast)|taxid:559292(Saccharomyces...  ...   \n",
       "2  taxid:559292(yeast)|taxid:559292(Saccharomyces...  ...   \n",
       "3  taxid:559292(yeast)|taxid:559292(Saccharomyces...  ...   \n",
       "4  taxid:559292(yeast)|taxid:559292(Saccharomyces...  ...   \n",
       "\n",
       "  Stoichiometry(s) interactor B  \\\n",
       "0                             -   \n",
       "1                             -   \n",
       "2                             -   \n",
       "3                             -   \n",
       "4                             -   \n",
       "\n",
       "                 Identification method participant A  \\\n",
       "0        psi-mi:\"MI:0396\"(predetermined participant)   \n",
       "1  psi-mi:\"MI:0078\"(nucleotide sequence identific...   \n",
       "2        psi-mi:\"MI:0396\"(predetermined participant)   \n",
       "3        psi-mi:\"MI:0396\"(predetermined participant)   \n",
       "4        psi-mi:\"MI:0396\"(predetermined participant)   \n",
       "\n",
       "                 Identification method participant B  \\\n",
       "0        psi-mi:\"MI:0396\"(predetermined participant)   \n",
       "1  psi-mi:\"MI:0078\"(nucleotide sequence identific...   \n",
       "2        psi-mi:\"MI:0396\"(predetermined participant)   \n",
       "3        psi-mi:\"MI:0396\"(predetermined participant)   \n",
       "4        psi-mi:\"MI:0396\"(predetermined participant)   \n",
       "\n",
       "                                All IDs interactor A  \\\n",
       "0  uniprotkb:P32917|intact:EBI-18373|uniprotkb:D6...   \n",
       "1  uniprotkb:P08539|intact:EBI-7376|uniprotkb:D3DKU8   \n",
       "2  uniprotkb:P14681|intact:EBI-9945|uniprotkb:Q45...   \n",
       "3  uniprotkb:Q06224|intact:EBI-38345|uniprotkb:D6...   \n",
       "4  uniprotkb:P42841|intact:EBI-28378|uniprotkb:Q6...   \n",
       "\n",
       "                                All IDs interactor B       uniprotkb_IDs_A  \\\n",
       "0  uniprotkb:P23561|intact:EBI-18259|uniprotkb:D6...         P32917|D6VS89   \n",
       "1  uniprotkb:P18851|intact:EBI-7390|uniprotkb:D6W2R8         P08539|D3DKU8   \n",
       "2  uniprotkb:P13574|intact:EBI-18264|uniprotkb:D3...  P14681|Q45U43|D6VUH8   \n",
       "3  uniprotkb:P42841|intact:EBI-28378|uniprotkb:Q6...         Q06224|D6VYS4   \n",
       "4  uniprotkb:Q06224|intact:EBI-38345|uniprotkb:D6...  P42841|Q6B1M2|D6W0M8   \n",
       "\n",
       "        uniprotkb_IDs_B first_uniprotkb_IDs_A first_uniprotkb_IDs_B  \\\n",
       "0         P23561|D6VZ00                P32917                P23561   \n",
       "1         P18851|D6W2R8                P08539                P18851   \n",
       "2         P13574|D3DL35                P14681                P13574   \n",
       "3  P42841|Q6B1M2|D6W0M8                Q06224                P42841   \n",
       "4         Q06224|D6VYS4                P42841                Q06224   \n",
       "\n",
       "  intact-miscore  \n",
       "0           0.81  \n",
       "1           0.90  \n",
       "2           0.87  \n",
       "3           0.74  \n",
       "4           0.74  \n",
       "\n",
       "[5 rows x 49 columns]"
      ]
     },
     "metadata": {},
     "output_type": "display_data"
    }
   ],
   "source": [
    "dfIntAct2 = dfIntAct1_3.reset_index(drop=True)\n",
    "glance(dfIntAct2)"
   ]
  },
  {
   "cell_type": "markdown",
   "metadata": {},
   "source": [
    "# UniProt mapping"
   ]
  },
  {
   "cell_type": "code",
   "execution_count": 44,
   "metadata": {
    "ExecuteTime": {
     "end_time": "2019-10-30T16:06:13.381615Z",
     "start_time": "2019-10-30T16:06:13.379800Z"
    },
    "execution": {
     "iopub.execute_input": "2022-01-10T16:43:07.540326Z",
     "iopub.status.busy": "2022-01-10T16:43:07.540153Z",
     "iopub.status.idle": "2022-01-10T16:43:07.549471Z",
     "shell.execute_reply": "2022-01-10T16:43:07.549002Z",
     "shell.execute_reply.started": "2022-01-10T16:43:07.540300Z"
    }
   },
   "outputs": [],
   "source": [
    "intactFinal = dfIntAct2"
   ]
  },
  {
   "cell_type": "markdown",
   "metadata": {},
   "source": [
    "---\n",
    "**Download matching from UniProt**"
   ]
  },
  {
   "cell_type": "code",
   "execution_count": 45,
   "metadata": {
    "ExecuteTime": {
     "end_time": "2019-10-30T16:06:39.759205Z",
     "start_time": "2019-10-30T16:06:39.666896Z"
    },
    "execution": {
     "iopub.execute_input": "2022-01-10T16:43:07.550191Z",
     "iopub.status.busy": "2022-01-10T16:43:07.550034Z",
     "iopub.status.idle": "2022-01-10T16:43:07.605340Z",
     "shell.execute_reply": "2022-01-10T16:43:07.604705Z",
     "shell.execute_reply.started": "2022-01-10T16:43:07.550167Z"
    }
   },
   "outputs": [
    {
     "name": "stdout",
     "output_type": "stream",
     "text": [
      "5719\n"
     ]
    }
   ],
   "source": [
    "uniprotkbIdsList = list(set(list(intactFinal.first_uniprotkb_IDs_A)+list(intactFinal.first_uniprotkb_IDs_B)))\n",
    "print(len(uniprotkbIdsList))"
   ]
  },
  {
   "cell_type": "code",
   "execution_count": 46,
   "metadata": {
    "execution": {
     "iopub.execute_input": "2022-01-10T16:43:07.606288Z",
     "iopub.status.busy": "2022-01-10T16:43:07.606085Z",
     "iopub.status.idle": "2022-01-10T16:43:07.621566Z",
     "shell.execute_reply": "2022-01-10T16:43:07.621013Z",
     "shell.execute_reply.started": "2022-01-10T16:43:07.606256Z"
    }
   },
   "outputs": [],
   "source": [
    "# Sanity checks\n",
    "assert ~('' in uniprotkbIdsList)"
   ]
  },
  {
   "cell_type": "code",
   "execution_count": 47,
   "metadata": {
    "execution": {
     "iopub.execute_input": "2022-01-10T16:43:07.622416Z",
     "iopub.status.busy": "2022-01-10T16:43:07.622231Z",
     "iopub.status.idle": "2022-01-10T16:43:10.388338Z",
     "shell.execute_reply": "2022-01-10T16:43:10.386695Z",
     "shell.execute_reply.started": "2022-01-10T16:43:07.622385Z"
    },
    "scrolled": true
   },
   "outputs": [
    {
     "data": {
      "text/html": [
       "<div>\n",
       "<style scoped>\n",
       "    .dataframe tbody tr th:only-of-type {\n",
       "        vertical-align: middle;\n",
       "    }\n",
       "\n",
       "    .dataframe tbody tr th {\n",
       "        vertical-align: top;\n",
       "    }\n",
       "\n",
       "    .dataframe thead th {\n",
       "        text-align: right;\n",
       "    }\n",
       "</style>\n",
       "<table border=\"1\" class=\"dataframe\">\n",
       "  <thead>\n",
       "    <tr style=\"text-align: right;\">\n",
       "      <th></th>\n",
       "      <th>From</th>\n",
       "      <th>To</th>\n",
       "    </tr>\n",
       "  </thead>\n",
       "  <tbody>\n",
       "    <tr>\n",
       "      <th>0</th>\n",
       "      <td>P47066</td>\n",
       "      <td>P47066</td>\n",
       "    </tr>\n",
       "    <tr>\n",
       "      <th>1</th>\n",
       "      <td>P27515</td>\n",
       "      <td>P27515</td>\n",
       "    </tr>\n",
       "    <tr>\n",
       "      <th>2</th>\n",
       "      <td>P25577</td>\n",
       "      <td>P25577</td>\n",
       "    </tr>\n",
       "    <tr>\n",
       "      <th>3</th>\n",
       "      <td>P34225</td>\n",
       "      <td>P34225</td>\n",
       "    </tr>\n",
       "    <tr>\n",
       "      <th>4</th>\n",
       "      <td>P16387</td>\n",
       "      <td>P16387</td>\n",
       "    </tr>\n",
       "    <tr>\n",
       "      <th>5</th>\n",
       "      <td>P36093</td>\n",
       "      <td>P36093</td>\n",
       "    </tr>\n",
       "    <tr>\n",
       "      <th>6</th>\n",
       "      <td>P28519</td>\n",
       "      <td>P28519</td>\n",
       "    </tr>\n",
       "    <tr>\n",
       "      <th>7</th>\n",
       "      <td>P38318</td>\n",
       "      <td>P38318</td>\n",
       "    </tr>\n",
       "    <tr>\n",
       "      <th>8</th>\n",
       "      <td>P19812</td>\n",
       "      <td>P19812</td>\n",
       "    </tr>\n",
       "    <tr>\n",
       "      <th>9</th>\n",
       "      <td>Q04432</td>\n",
       "      <td>Q04432</td>\n",
       "    </tr>\n",
       "    <tr>\n",
       "      <th>10</th>\n",
       "      <td>Q03218</td>\n",
       "      <td>Q03218</td>\n",
       "    </tr>\n",
       "    <tr>\n",
       "      <th>11</th>\n",
       "      <td>P27801</td>\n",
       "      <td>P27801</td>\n",
       "    </tr>\n",
       "    <tr>\n",
       "      <th>12</th>\n",
       "      <td>P38839</td>\n",
       "      <td>P38839</td>\n",
       "    </tr>\n",
       "    <tr>\n",
       "      <th>13</th>\n",
       "      <td>P38164</td>\n",
       "      <td>P38164</td>\n",
       "    </tr>\n",
       "    <tr>\n",
       "      <th>14</th>\n",
       "      <td>Q12039</td>\n",
       "      <td>Q12039</td>\n",
       "    </tr>\n",
       "    <tr>\n",
       "      <th>15</th>\n",
       "      <td>Q08223</td>\n",
       "      <td>Q08223</td>\n",
       "    </tr>\n",
       "    <tr>\n",
       "      <th>16</th>\n",
       "      <td>P89105</td>\n",
       "      <td>P89105</td>\n",
       "    </tr>\n",
       "    <tr>\n",
       "      <th>17</th>\n",
       "      <td>P08679</td>\n",
       "      <td>P08679</td>\n",
       "    </tr>\n",
       "    <tr>\n",
       "      <th>18</th>\n",
       "      <td>P53739</td>\n",
       "      <td>P53739</td>\n",
       "    </tr>\n",
       "    <tr>\n",
       "      <th>19</th>\n",
       "      <td>P00927</td>\n",
       "      <td>P00927</td>\n",
       "    </tr>\n",
       "    <tr>\n",
       "      <th>20</th>\n",
       "      <td>P47003</td>\n",
       "      <td>P47003</td>\n",
       "    </tr>\n",
       "    <tr>\n",
       "      <th>21</th>\n",
       "      <td>Q07732</td>\n",
       "      <td>Q07732</td>\n",
       "    </tr>\n",
       "    <tr>\n",
       "      <th>22</th>\n",
       "      <td>P39106</td>\n",
       "      <td>P39106</td>\n",
       "    </tr>\n",
       "    <tr>\n",
       "      <th>23</th>\n",
       "      <td>P39936</td>\n",
       "      <td>P39936</td>\n",
       "    </tr>\n",
       "    <tr>\n",
       "      <th>24</th>\n",
       "      <td>Q99344</td>\n",
       "      <td>Q99344</td>\n",
       "    </tr>\n",
       "    <tr>\n",
       "      <th>25</th>\n",
       "      <td>P38788</td>\n",
       "      <td>P38788</td>\n",
       "    </tr>\n",
       "    <tr>\n",
       "      <th>26</th>\n",
       "      <td>P34078</td>\n",
       "      <td>P34078</td>\n",
       "    </tr>\n",
       "    <tr>\n",
       "      <th>27</th>\n",
       "      <td>Q07949</td>\n",
       "      <td>Q07949</td>\n",
       "    </tr>\n",
       "    <tr>\n",
       "      <th>28</th>\n",
       "      <td>Q03714</td>\n",
       "      <td>Q03714</td>\n",
       "    </tr>\n",
       "    <tr>\n",
       "      <th>29</th>\n",
       "      <td>P11972</td>\n",
       "      <td>P11972</td>\n",
       "    </tr>\n",
       "    <tr>\n",
       "      <th>...</th>\n",
       "      <td>...</td>\n",
       "      <td>...</td>\n",
       "    </tr>\n",
       "    <tr>\n",
       "      <th>5730</th>\n",
       "      <td>Q04006</td>\n",
       "      <td>Q04006</td>\n",
       "    </tr>\n",
       "    <tr>\n",
       "      <th>5731</th>\n",
       "      <td>P32354</td>\n",
       "      <td>P32354</td>\n",
       "    </tr>\n",
       "    <tr>\n",
       "      <th>5732</th>\n",
       "      <td>P25619</td>\n",
       "      <td>P25619</td>\n",
       "    </tr>\n",
       "    <tr>\n",
       "      <th>5733</th>\n",
       "      <td>Q03071</td>\n",
       "      <td>Q03071</td>\n",
       "    </tr>\n",
       "    <tr>\n",
       "      <th>5734</th>\n",
       "      <td>O13531</td>\n",
       "      <td>O13531</td>\n",
       "    </tr>\n",
       "    <tr>\n",
       "      <th>5735</th>\n",
       "      <td>Q06549</td>\n",
       "      <td>Q06549</td>\n",
       "    </tr>\n",
       "    <tr>\n",
       "      <th>5736</th>\n",
       "      <td>P47061</td>\n",
       "      <td>P47061</td>\n",
       "    </tr>\n",
       "    <tr>\n",
       "      <th>5737</th>\n",
       "      <td>P04821</td>\n",
       "      <td>P04821</td>\n",
       "    </tr>\n",
       "    <tr>\n",
       "      <th>5738</th>\n",
       "      <td>P50079</td>\n",
       "      <td>P50079</td>\n",
       "    </tr>\n",
       "    <tr>\n",
       "      <th>5739</th>\n",
       "      <td>P33749</td>\n",
       "      <td>P33749</td>\n",
       "    </tr>\n",
       "    <tr>\n",
       "      <th>5740</th>\n",
       "      <td>Q03630</td>\n",
       "      <td>Q03630</td>\n",
       "    </tr>\n",
       "    <tr>\n",
       "      <th>5741</th>\n",
       "      <td>P32896</td>\n",
       "      <td>P32896</td>\n",
       "    </tr>\n",
       "    <tr>\n",
       "      <th>5742</th>\n",
       "      <td>P13134</td>\n",
       "      <td>P13134</td>\n",
       "    </tr>\n",
       "    <tr>\n",
       "      <th>5743</th>\n",
       "      <td>P38166</td>\n",
       "      <td>P38166</td>\n",
       "    </tr>\n",
       "    <tr>\n",
       "      <th>5744</th>\n",
       "      <td>P16140</td>\n",
       "      <td>P16140</td>\n",
       "    </tr>\n",
       "    <tr>\n",
       "      <th>5745</th>\n",
       "      <td>P19262</td>\n",
       "      <td>P19262</td>\n",
       "    </tr>\n",
       "    <tr>\n",
       "      <th>5746</th>\n",
       "      <td>P43581</td>\n",
       "      <td>P43581</td>\n",
       "    </tr>\n",
       "    <tr>\n",
       "      <th>5747</th>\n",
       "      <td>P53880</td>\n",
       "      <td>P53880</td>\n",
       "    </tr>\n",
       "    <tr>\n",
       "      <th>5748</th>\n",
       "      <td>P04147</td>\n",
       "      <td>P04147</td>\n",
       "    </tr>\n",
       "    <tr>\n",
       "      <th>5749</th>\n",
       "      <td>P87288</td>\n",
       "      <td>P87288</td>\n",
       "    </tr>\n",
       "    <tr>\n",
       "      <th>5750</th>\n",
       "      <td>O13563</td>\n",
       "      <td>O13563</td>\n",
       "    </tr>\n",
       "    <tr>\n",
       "      <th>5751</th>\n",
       "      <td>P36091</td>\n",
       "      <td>P36091</td>\n",
       "    </tr>\n",
       "    <tr>\n",
       "      <th>5752</th>\n",
       "      <td>P15179</td>\n",
       "      <td>P15179</td>\n",
       "    </tr>\n",
       "    <tr>\n",
       "      <th>5753</th>\n",
       "      <td>P39541</td>\n",
       "      <td>P39541</td>\n",
       "    </tr>\n",
       "    <tr>\n",
       "      <th>5754</th>\n",
       "      <td>P53338</td>\n",
       "      <td>P53338</td>\n",
       "    </tr>\n",
       "    <tr>\n",
       "      <th>5755</th>\n",
       "      <td>P42950</td>\n",
       "      <td>P42950</td>\n",
       "    </tr>\n",
       "    <tr>\n",
       "      <th>5756</th>\n",
       "      <td>P0C2I3</td>\n",
       "      <td>P0C2I3</td>\n",
       "    </tr>\n",
       "    <tr>\n",
       "      <th>5757</th>\n",
       "      <td>P40547</td>\n",
       "      <td>P40547</td>\n",
       "    </tr>\n",
       "    <tr>\n",
       "      <th>5758</th>\n",
       "      <td>P25349</td>\n",
       "      <td>P25349</td>\n",
       "    </tr>\n",
       "    <tr>\n",
       "      <th>5759</th>\n",
       "      <td>P39935</td>\n",
       "      <td>P39935</td>\n",
       "    </tr>\n",
       "  </tbody>\n",
       "</table>\n",
       "<p>5760 rows × 2 columns</p>\n",
       "</div>"
      ],
      "text/plain": [
       "        From      To\n",
       "0     P47066  P47066\n",
       "1     P27515  P27515\n",
       "2     P25577  P25577\n",
       "3     P34225  P34225\n",
       "4     P16387  P16387\n",
       "5     P36093  P36093\n",
       "6     P28519  P28519\n",
       "7     P38318  P38318\n",
       "8     P19812  P19812\n",
       "9     Q04432  Q04432\n",
       "10    Q03218  Q03218\n",
       "11    P27801  P27801\n",
       "12    P38839  P38839\n",
       "13    P38164  P38164\n",
       "14    Q12039  Q12039\n",
       "15    Q08223  Q08223\n",
       "16    P89105  P89105\n",
       "17    P08679  P08679\n",
       "18    P53739  P53739\n",
       "19    P00927  P00927\n",
       "20    P47003  P47003\n",
       "21    Q07732  Q07732\n",
       "22    P39106  P39106\n",
       "23    P39936  P39936\n",
       "24    Q99344  Q99344\n",
       "25    P38788  P38788\n",
       "26    P34078  P34078\n",
       "27    Q07949  Q07949\n",
       "28    Q03714  Q03714\n",
       "29    P11972  P11972\n",
       "...      ...     ...\n",
       "5730  Q04006  Q04006\n",
       "5731  P32354  P32354\n",
       "5732  P25619  P25619\n",
       "5733  Q03071  Q03071\n",
       "5734  O13531  O13531\n",
       "5735  Q06549  Q06549\n",
       "5736  P47061  P47061\n",
       "5737  P04821  P04821\n",
       "5738  P50079  P50079\n",
       "5739  P33749  P33749\n",
       "5740  Q03630  Q03630\n",
       "5741  P32896  P32896\n",
       "5742  P13134  P13134\n",
       "5743  P38166  P38166\n",
       "5744  P16140  P16140\n",
       "5745  P19262  P19262\n",
       "5746  P43581  P43581\n",
       "5747  P53880  P53880\n",
       "5748  P04147  P04147\n",
       "5749  P87288  P87288\n",
       "5750  O13563  O13563\n",
       "5751  P36091  P36091\n",
       "5752  P15179  P15179\n",
       "5753  P39541  P39541\n",
       "5754  P53338  P53338\n",
       "5755  P42950  P42950\n",
       "5756  P0C2I3  P0C2I3\n",
       "5757  P40547  P40547\n",
       "5758  P25349  P25349\n",
       "5759  P39935  P39935\n",
       "\n",
       "[5760 rows x 2 columns]"
      ]
     },
     "execution_count": 47,
     "metadata": {},
     "output_type": "execute_result"
    }
   ],
   "source": [
    "uniprotMapping = mappingUniprotIDs(fromID = 'ACC', listIDs = uniprotkbIdsList)\n",
    "uniprotMapping"
   ]
  },
  {
   "cell_type": "markdown",
   "metadata": {},
   "source": [
    "---\n",
    "**Drop proteins matching several uniprot ids**"
   ]
  },
  {
   "cell_type": "code",
   "execution_count": 48,
   "metadata": {
    "execution": {
     "iopub.execute_input": "2022-01-10T16:43:10.390811Z",
     "iopub.status.busy": "2022-01-10T16:43:10.390446Z",
     "iopub.status.idle": "2022-01-10T16:43:10.408776Z",
     "shell.execute_reply": "2022-01-10T16:43:10.408163Z",
     "shell.execute_reply.started": "2022-01-10T16:43:10.390754Z"
    }
   },
   "outputs": [
    {
     "name": "stdout",
     "output_type": "stream",
     "text": [
      "DataFrame: 5,687 rows \t 2 columns\n"
     ]
    },
    {
     "data": {
      "text/html": [
       "<div>\n",
       "<style scoped>\n",
       "    .dataframe tbody tr th:only-of-type {\n",
       "        vertical-align: middle;\n",
       "    }\n",
       "\n",
       "    .dataframe tbody tr th {\n",
       "        vertical-align: top;\n",
       "    }\n",
       "\n",
       "    .dataframe thead th {\n",
       "        text-align: right;\n",
       "    }\n",
       "</style>\n",
       "<table border=\"1\" class=\"dataframe\">\n",
       "  <thead>\n",
       "    <tr style=\"text-align: right;\">\n",
       "      <th></th>\n",
       "      <th>From</th>\n",
       "      <th>To</th>\n",
       "    </tr>\n",
       "  </thead>\n",
       "  <tbody>\n",
       "    <tr>\n",
       "      <th>0</th>\n",
       "      <td>P47066</td>\n",
       "      <td>P47066</td>\n",
       "    </tr>\n",
       "    <tr>\n",
       "      <th>1</th>\n",
       "      <td>P27515</td>\n",
       "      <td>P27515</td>\n",
       "    </tr>\n",
       "    <tr>\n",
       "      <th>2</th>\n",
       "      <td>P25577</td>\n",
       "      <td>P25577</td>\n",
       "    </tr>\n",
       "    <tr>\n",
       "      <th>3</th>\n",
       "      <td>P34225</td>\n",
       "      <td>P34225</td>\n",
       "    </tr>\n",
       "    <tr>\n",
       "      <th>4</th>\n",
       "      <td>P16387</td>\n",
       "      <td>P16387</td>\n",
       "    </tr>\n",
       "  </tbody>\n",
       "</table>\n",
       "</div>"
      ],
      "text/plain": [
       "     From      To\n",
       "0  P47066  P47066\n",
       "1  P27515  P27515\n",
       "2  P25577  P25577\n",
       "3  P34225  P34225\n",
       "4  P16387  P16387"
      ]
     },
     "metadata": {},
     "output_type": "display_data"
    }
   ],
   "source": [
    "uniprotMapping_2 = uniprotMapping.drop_duplicates(subset='From',keep=False).reset_index(drop=True)\n",
    "glance(uniprotMapping_2)"
   ]
  },
  {
   "cell_type": "markdown",
   "metadata": {},
   "source": [
    "---\n",
    "**Compare to UniProt reference list**\n",
    "\n",
    "To eliminate unreviewed proteins for example"
   ]
  },
  {
   "cell_type": "code",
   "execution_count": 49,
   "metadata": {
    "execution": {
     "iopub.execute_input": "2022-01-10T16:43:10.409856Z",
     "iopub.status.busy": "2022-01-10T16:43:10.409622Z",
     "iopub.status.idle": "2022-01-10T16:43:10.460069Z",
     "shell.execute_reply": "2022-01-10T16:43:10.459526Z",
     "shell.execute_reply.started": "2022-01-10T16:43:10.409820Z"
    }
   },
   "outputs": [
    {
     "name": "stdout",
     "output_type": "stream",
     "text": [
      "DataFrame: 6,721 rows \t 1 columns\n"
     ]
    },
    {
     "data": {
      "text/html": [
       "<div>\n",
       "<style scoped>\n",
       "    .dataframe tbody tr th:only-of-type {\n",
       "        vertical-align: middle;\n",
       "    }\n",
       "\n",
       "    .dataframe tbody tr th {\n",
       "        vertical-align: top;\n",
       "    }\n",
       "\n",
       "    .dataframe thead th {\n",
       "        text-align: right;\n",
       "    }\n",
       "</style>\n",
       "<table border=\"1\" class=\"dataframe\">\n",
       "  <thead>\n",
       "    <tr style=\"text-align: right;\">\n",
       "      <th></th>\n",
       "      <th>To</th>\n",
       "    </tr>\n",
       "  </thead>\n",
       "  <tbody>\n",
       "    <tr>\n",
       "      <th>0</th>\n",
       "      <td>A0A023PXA5</td>\n",
       "    </tr>\n",
       "    <tr>\n",
       "      <th>1</th>\n",
       "      <td>A0A023PXB0</td>\n",
       "    </tr>\n",
       "    <tr>\n",
       "      <th>2</th>\n",
       "      <td>A0A023PXB5</td>\n",
       "    </tr>\n",
       "    <tr>\n",
       "      <th>3</th>\n",
       "      <td>A0A023PXB9</td>\n",
       "    </tr>\n",
       "    <tr>\n",
       "      <th>4</th>\n",
       "      <td>A0A023PXC2</td>\n",
       "    </tr>\n",
       "  </tbody>\n",
       "</table>\n",
       "</div>"
      ],
      "text/plain": [
       "           To\n",
       "0  A0A023PXA5\n",
       "1  A0A023PXB0\n",
       "2  A0A023PXB5\n",
       "3  A0A023PXB9\n",
       "4  A0A023PXC2"
      ]
     },
     "metadata": {},
     "output_type": "display_data"
    }
   ],
   "source": [
    "uniprotIDs = pd.read_csv(\n",
    "    os.path.join(cfg['rawDataUniProt'], \n",
    "                 \"uniprot_allProteins_yeast_v{}.pkl\".format(logVersions['UniProt']['yeast']['rawData'])),\n",
    "    header=None,\n",
    "    names=['To']\n",
    ")\n",
    "glance(uniprotIDs)"
   ]
  },
  {
   "cell_type": "code",
   "execution_count": 50,
   "metadata": {
    "execution": {
     "iopub.execute_input": "2022-01-10T16:43:10.460977Z",
     "iopub.status.busy": "2022-01-10T16:43:10.460785Z",
     "iopub.status.idle": "2022-01-10T16:43:10.474854Z",
     "shell.execute_reply": "2022-01-10T16:43:10.474343Z",
     "shell.execute_reply.started": "2022-01-10T16:43:10.460944Z"
    }
   },
   "outputs": [
    {
     "name": "stdout",
     "output_type": "stream",
     "text": [
      "DataFrame: 5,687 rows \t 2 columns\n"
     ]
    },
    {
     "data": {
      "text/html": [
       "<div>\n",
       "<style scoped>\n",
       "    .dataframe tbody tr th:only-of-type {\n",
       "        vertical-align: middle;\n",
       "    }\n",
       "\n",
       "    .dataframe tbody tr th {\n",
       "        vertical-align: top;\n",
       "    }\n",
       "\n",
       "    .dataframe thead th {\n",
       "        text-align: right;\n",
       "    }\n",
       "</style>\n",
       "<table border=\"1\" class=\"dataframe\">\n",
       "  <thead>\n",
       "    <tr style=\"text-align: right;\">\n",
       "      <th></th>\n",
       "      <th>From</th>\n",
       "      <th>To</th>\n",
       "    </tr>\n",
       "  </thead>\n",
       "  <tbody>\n",
       "    <tr>\n",
       "      <th>0</th>\n",
       "      <td>P47066</td>\n",
       "      <td>P47066</td>\n",
       "    </tr>\n",
       "    <tr>\n",
       "      <th>1</th>\n",
       "      <td>P27515</td>\n",
       "      <td>P27515</td>\n",
       "    </tr>\n",
       "    <tr>\n",
       "      <th>2</th>\n",
       "      <td>P25577</td>\n",
       "      <td>P25577</td>\n",
       "    </tr>\n",
       "    <tr>\n",
       "      <th>3</th>\n",
       "      <td>P34225</td>\n",
       "      <td>P34225</td>\n",
       "    </tr>\n",
       "    <tr>\n",
       "      <th>4</th>\n",
       "      <td>P16387</td>\n",
       "      <td>P16387</td>\n",
       "    </tr>\n",
       "  </tbody>\n",
       "</table>\n",
       "</div>"
      ],
      "text/plain": [
       "     From      To\n",
       "0  P47066  P47066\n",
       "1  P27515  P27515\n",
       "2  P25577  P25577\n",
       "3  P34225  P34225\n",
       "4  P16387  P16387"
      ]
     },
     "metadata": {},
     "output_type": "display_data"
    }
   ],
   "source": [
    "uniprotMapping_3 = uniprotMapping_2.merge(\n",
    "    uniprotIDs,\n",
    "    how='inner',\n",
    "    on='To'\n",
    ")\n",
    "glance(uniprotMapping_3)"
   ]
  },
  {
   "cell_type": "code",
   "execution_count": 51,
   "metadata": {
    "execution": {
     "iopub.execute_input": "2022-01-10T16:43:10.475734Z",
     "iopub.status.busy": "2022-01-10T16:43:10.475510Z",
     "iopub.status.idle": "2022-01-10T16:43:10.502036Z",
     "shell.execute_reply": "2022-01-10T16:43:10.501409Z",
     "shell.execute_reply.started": "2022-01-10T16:43:10.475701Z"
    }
   },
   "outputs": [
    {
     "name": "stdout",
     "output_type": "stream",
     "text": [
      "0/5,719 couldn't be matched\n",
      "Droped duplicates: 73\n",
      "Droped \"unofficials\": 0\n"
     ]
    }
   ],
   "source": [
    "print(\"{:,}/{:,} couldn't be matched\".format(len(uniprotkbIdsList)-len(set(uniprotMapping.From)), len(uniprotkbIdsList)))\n",
    "print('Droped duplicates: {:,}'.format(len(uniprotMapping) - len(uniprotMapping_2)))\n",
    "print('Droped \"unofficials\": {:,}'.format(len(uniprotMapping_2) - len(uniprotMapping_3)))"
   ]
  },
  {
   "cell_type": "code",
   "execution_count": 52,
   "metadata": {
    "execution": {
     "iopub.execute_input": "2022-01-10T16:43:10.502869Z",
     "iopub.status.busy": "2022-01-10T16:43:10.502669Z",
     "iopub.status.idle": "2022-01-10T16:43:10.543035Z",
     "shell.execute_reply": "2022-01-10T16:43:10.542069Z",
     "shell.execute_reply.started": "2022-01-10T16:43:10.502837Z"
    }
   },
   "outputs": [],
   "source": [
    "# Sanity checks\n",
    "assert len(uniprotMapping_2.loc[uniprotMapping_2.duplicated(keep=False)]) == 0\n",
    "assert len(uniprotMapping_2.From) == len(set(uniprotMapping_2.From))"
   ]
  },
  {
   "cell_type": "markdown",
   "metadata": {},
   "source": [
    "---\n",
    "**Match to primary identifiers**"
   ]
  },
  {
   "cell_type": "code",
   "execution_count": 53,
   "metadata": {
    "execution": {
     "iopub.execute_input": "2022-01-10T16:43:10.544734Z",
     "iopub.status.busy": "2022-01-10T16:43:10.544256Z",
     "iopub.status.idle": "2022-01-10T16:43:10.582810Z",
     "shell.execute_reply": "2022-01-10T16:43:10.582060Z",
     "shell.execute_reply.started": "2022-01-10T16:43:10.544535Z"
    }
   },
   "outputs": [
    {
     "name": "stdout",
     "output_type": "stream",
     "text": [
      "DataFrame: 5,687 rows \t 2 columns\n"
     ]
    },
    {
     "data": {
      "text/html": [
       "<div>\n",
       "<style scoped>\n",
       "    .dataframe tbody tr th:only-of-type {\n",
       "        vertical-align: middle;\n",
       "    }\n",
       "\n",
       "    .dataframe tbody tr th {\n",
       "        vertical-align: top;\n",
       "    }\n",
       "\n",
       "    .dataframe thead th {\n",
       "        text-align: right;\n",
       "    }\n",
       "</style>\n",
       "<table border=\"1\" class=\"dataframe\">\n",
       "  <thead>\n",
       "    <tr style=\"text-align: right;\">\n",
       "      <th></th>\n",
       "      <th>first_uniprotkb_IDs_A</th>\n",
       "      <th>uniprotID_A</th>\n",
       "    </tr>\n",
       "  </thead>\n",
       "  <tbody>\n",
       "    <tr>\n",
       "      <th>0</th>\n",
       "      <td>P47066</td>\n",
       "      <td>P47066</td>\n",
       "    </tr>\n",
       "    <tr>\n",
       "      <th>1</th>\n",
       "      <td>P27515</td>\n",
       "      <td>P27515</td>\n",
       "    </tr>\n",
       "    <tr>\n",
       "      <th>2</th>\n",
       "      <td>P25577</td>\n",
       "      <td>P25577</td>\n",
       "    </tr>\n",
       "    <tr>\n",
       "      <th>3</th>\n",
       "      <td>P34225</td>\n",
       "      <td>P34225</td>\n",
       "    </tr>\n",
       "    <tr>\n",
       "      <th>4</th>\n",
       "      <td>P16387</td>\n",
       "      <td>P16387</td>\n",
       "    </tr>\n",
       "  </tbody>\n",
       "</table>\n",
       "</div>"
      ],
      "text/plain": [
       "  first_uniprotkb_IDs_A uniprotID_A\n",
       "0                P47066      P47066\n",
       "1                P27515      P27515\n",
       "2                P25577      P25577\n",
       "3                P34225      P34225\n",
       "4                P16387      P16387"
      ]
     },
     "metadata": {},
     "output_type": "display_data"
    },
    {
     "name": "stdout",
     "output_type": "stream",
     "text": [
      "DataFrame: 5,687 rows \t 2 columns\n"
     ]
    },
    {
     "data": {
      "text/html": [
       "<div>\n",
       "<style scoped>\n",
       "    .dataframe tbody tr th:only-of-type {\n",
       "        vertical-align: middle;\n",
       "    }\n",
       "\n",
       "    .dataframe tbody tr th {\n",
       "        vertical-align: top;\n",
       "    }\n",
       "\n",
       "    .dataframe thead th {\n",
       "        text-align: right;\n",
       "    }\n",
       "</style>\n",
       "<table border=\"1\" class=\"dataframe\">\n",
       "  <thead>\n",
       "    <tr style=\"text-align: right;\">\n",
       "      <th></th>\n",
       "      <th>first_uniprotkb_IDs_B</th>\n",
       "      <th>uniprotID_B</th>\n",
       "    </tr>\n",
       "  </thead>\n",
       "  <tbody>\n",
       "    <tr>\n",
       "      <th>0</th>\n",
       "      <td>P47066</td>\n",
       "      <td>P47066</td>\n",
       "    </tr>\n",
       "    <tr>\n",
       "      <th>1</th>\n",
       "      <td>P27515</td>\n",
       "      <td>P27515</td>\n",
       "    </tr>\n",
       "    <tr>\n",
       "      <th>2</th>\n",
       "      <td>P25577</td>\n",
       "      <td>P25577</td>\n",
       "    </tr>\n",
       "    <tr>\n",
       "      <th>3</th>\n",
       "      <td>P34225</td>\n",
       "      <td>P34225</td>\n",
       "    </tr>\n",
       "    <tr>\n",
       "      <th>4</th>\n",
       "      <td>P16387</td>\n",
       "      <td>P16387</td>\n",
       "    </tr>\n",
       "  </tbody>\n",
       "</table>\n",
       "</div>"
      ],
      "text/plain": [
       "  first_uniprotkb_IDs_B uniprotID_B\n",
       "0                P47066      P47066\n",
       "1                P27515      P27515\n",
       "2                P25577      P25577\n",
       "3                P34225      P34225\n",
       "4                P16387      P16387"
      ]
     },
     "metadata": {},
     "output_type": "display_data"
    }
   ],
   "source": [
    "uniprotMapping_A = uniprotMapping_3.copy()\n",
    "uniprotMapping_A = uniprotMapping_A.rename(columns={\n",
    "    'From': 'first_uniprotkb_IDs_A', \n",
    "    'To': 'uniprotID_A'\n",
    "})\n",
    "glance(uniprotMapping_A)\n",
    "\n",
    "uniprotMapping_B = uniprotMapping_3.copy()\n",
    "uniprotMapping_B = uniprotMapping_B.rename(columns={\n",
    "    'From': 'first_uniprotkb_IDs_B', \n",
    "    'To': 'uniprotID_B'\n",
    "})\n",
    "glance(uniprotMapping_B)"
   ]
  },
  {
   "cell_type": "code",
   "execution_count": 54,
   "metadata": {
    "ExecuteTime": {
     "end_time": "2019-10-30T16:13:07.655365Z",
     "start_time": "2019-10-30T16:13:06.903168Z"
    },
    "execution": {
     "iopub.execute_input": "2022-01-10T16:43:10.584254Z",
     "iopub.status.busy": "2022-01-10T16:43:10.583794Z",
     "iopub.status.idle": "2022-01-10T16:43:11.073377Z",
     "shell.execute_reply": "2022-01-10T16:43:11.072659Z",
     "shell.execute_reply.started": "2022-01-10T16:43:10.584141Z"
    }
   },
   "outputs": [
    {
     "name": "stdout",
     "output_type": "stream",
     "text": [
      "DataFrame: 70,770 rows \t 51 columns\n"
     ]
    },
    {
     "data": {
      "text/html": [
       "<div>\n",
       "<style scoped>\n",
       "    .dataframe tbody tr th:only-of-type {\n",
       "        vertical-align: middle;\n",
       "    }\n",
       "\n",
       "    .dataframe tbody tr th {\n",
       "        vertical-align: top;\n",
       "    }\n",
       "\n",
       "    .dataframe thead th {\n",
       "        text-align: right;\n",
       "    }\n",
       "</style>\n",
       "<table border=\"1\" class=\"dataframe\">\n",
       "  <thead>\n",
       "    <tr style=\"text-align: right;\">\n",
       "      <th></th>\n",
       "      <th>#ID(s) interactor A</th>\n",
       "      <th>ID(s) interactor B</th>\n",
       "      <th>Alt. ID(s) interactor A</th>\n",
       "      <th>Alt. ID(s) interactor B</th>\n",
       "      <th>Alias(es) interactor A</th>\n",
       "      <th>Alias(es) interactor B</th>\n",
       "      <th>Interaction detection method(s)</th>\n",
       "      <th>Publication 1st author(s)</th>\n",
       "      <th>Publication Identifier(s)</th>\n",
       "      <th>Taxid interactor A</th>\n",
       "      <th>...</th>\n",
       "      <th>Identification method participant B</th>\n",
       "      <th>All IDs interactor A</th>\n",
       "      <th>All IDs interactor B</th>\n",
       "      <th>uniprotkb_IDs_A</th>\n",
       "      <th>uniprotkb_IDs_B</th>\n",
       "      <th>first_uniprotkb_IDs_A</th>\n",
       "      <th>first_uniprotkb_IDs_B</th>\n",
       "      <th>intact-miscore</th>\n",
       "      <th>uniprotID_A</th>\n",
       "      <th>uniprotID_B</th>\n",
       "    </tr>\n",
       "  </thead>\n",
       "  <tbody>\n",
       "    <tr>\n",
       "      <th>0</th>\n",
       "      <td>uniprotkb:P32917</td>\n",
       "      <td>uniprotkb:P23561</td>\n",
       "      <td>intact:EBI-18373|uniprotkb:D6VS89</td>\n",
       "      <td>intact:EBI-18259|uniprotkb:D6VZ00</td>\n",
       "      <td>psi-mi:ste5_yeast(display_long)|uniprotkb:STE5...</td>\n",
       "      <td>psi-mi:ste11_yeast(display_long)|uniprotkb:L80...</td>\n",
       "      <td>psi-mi:\"MI:0019\"(coimmunoprecipitation)</td>\n",
       "      <td>Inouye et al. (1997)</td>\n",
       "      <td>mint:MINT-5221697|pubmed:9335587</td>\n",
       "      <td>taxid:559292(yeast)|taxid:559292(Saccharomyces...</td>\n",
       "      <td>...</td>\n",
       "      <td>psi-mi:\"MI:0396\"(predetermined participant)</td>\n",
       "      <td>uniprotkb:P32917|intact:EBI-18373|uniprotkb:D6...</td>\n",
       "      <td>uniprotkb:P23561|intact:EBI-18259|uniprotkb:D6...</td>\n",
       "      <td>P32917|D6VS89</td>\n",
       "      <td>P23561|D6VZ00</td>\n",
       "      <td>P32917</td>\n",
       "      <td>P23561</td>\n",
       "      <td>0.81</td>\n",
       "      <td>P32917</td>\n",
       "      <td>P23561</td>\n",
       "    </tr>\n",
       "    <tr>\n",
       "      <th>1</th>\n",
       "      <td>uniprotkb:P32917</td>\n",
       "      <td>uniprotkb:P23561</td>\n",
       "      <td>intact:EBI-18373|uniprotkb:D6VS89</td>\n",
       "      <td>intact:EBI-18259|uniprotkb:D6VZ00</td>\n",
       "      <td>psi-mi:ste5_yeast(display_long)|uniprotkb:STE5...</td>\n",
       "      <td>psi-mi:ste11_yeast(display_long)|uniprotkb:L80...</td>\n",
       "      <td>psi-mi:\"MI:0018\"(two hybrid)</td>\n",
       "      <td>Printen et al. (1994)</td>\n",
       "      <td>pubmed:7851759|mint:MINT-5220617</td>\n",
       "      <td>taxid:559292(yeast)|taxid:559292(Saccharomyces...</td>\n",
       "      <td>...</td>\n",
       "      <td>psi-mi:\"MI:0396\"(predetermined participant)</td>\n",
       "      <td>uniprotkb:P32917|intact:EBI-18373|uniprotkb:D6...</td>\n",
       "      <td>uniprotkb:P23561|intact:EBI-18259|uniprotkb:D6...</td>\n",
       "      <td>P32917|D6VS89</td>\n",
       "      <td>P23561|D6VZ00</td>\n",
       "      <td>P32917</td>\n",
       "      <td>P23561</td>\n",
       "      <td>0.81</td>\n",
       "      <td>P32917</td>\n",
       "      <td>P23561</td>\n",
       "    </tr>\n",
       "    <tr>\n",
       "      <th>2</th>\n",
       "      <td>uniprotkb:P32917</td>\n",
       "      <td>uniprotkb:P23561</td>\n",
       "      <td>intact:EBI-18373|uniprotkb:D6VS89</td>\n",
       "      <td>intact:EBI-18259|uniprotkb:D6VZ00</td>\n",
       "      <td>psi-mi:ste5_yeast(display_long)|uniprotkb:STE5...</td>\n",
       "      <td>psi-mi:ste11_yeast(display_long)|uniprotkb:L80...</td>\n",
       "      <td>psi-mi:\"MI:0018\"(two hybrid)</td>\n",
       "      <td>Choi et al. (1994)</td>\n",
       "      <td>pubmed:8062390|imex:IM-19843|mint:MINT-5220710</td>\n",
       "      <td>taxid:559292(yeast)|taxid:559292(Saccharomyces...</td>\n",
       "      <td>...</td>\n",
       "      <td>psi-mi:\"MI:0396\"(predetermined participant)</td>\n",
       "      <td>uniprotkb:P32917|intact:EBI-18373|uniprotkb:D6...</td>\n",
       "      <td>uniprotkb:P23561|intact:EBI-18259|uniprotkb:D6...</td>\n",
       "      <td>P32917|D6VS89</td>\n",
       "      <td>P23561|D6VZ00</td>\n",
       "      <td>P32917</td>\n",
       "      <td>P23561</td>\n",
       "      <td>0.81</td>\n",
       "      <td>P32917</td>\n",
       "      <td>P23561</td>\n",
       "    </tr>\n",
       "    <tr>\n",
       "      <th>3</th>\n",
       "      <td>uniprotkb:P32917</td>\n",
       "      <td>uniprotkb:P23561</td>\n",
       "      <td>intact:EBI-18373|uniprotkb:D6VS89</td>\n",
       "      <td>intact:EBI-18259|uniprotkb:D6VZ00</td>\n",
       "      <td>psi-mi:ste5_yeast(display_long)|uniprotkb:STE5...</td>\n",
       "      <td>psi-mi:ste11_yeast(display_long)|uniprotkb:L80...</td>\n",
       "      <td>psi-mi:\"MI:0096\"(pull down)</td>\n",
       "      <td>Choi et al. (1994)</td>\n",
       "      <td>pubmed:8062390|imex:IM-19843|mint:MINT-5220710</td>\n",
       "      <td>taxid:559292(yeast)|taxid:559292(Saccharomyces...</td>\n",
       "      <td>...</td>\n",
       "      <td>psi-mi:\"MI:0113\"(western blot)</td>\n",
       "      <td>uniprotkb:P32917|intact:EBI-18373|uniprotkb:D6...</td>\n",
       "      <td>uniprotkb:P23561|intact:EBI-18259|uniprotkb:D6...</td>\n",
       "      <td>P32917|D6VS89</td>\n",
       "      <td>P23561|D6VZ00</td>\n",
       "      <td>P32917</td>\n",
       "      <td>P23561</td>\n",
       "      <td>0.81</td>\n",
       "      <td>P32917</td>\n",
       "      <td>P23561</td>\n",
       "    </tr>\n",
       "    <tr>\n",
       "      <th>4</th>\n",
       "      <td>uniprotkb:P32917</td>\n",
       "      <td>uniprotkb:P23561</td>\n",
       "      <td>intact:EBI-18373|uniprotkb:D6VS89</td>\n",
       "      <td>intact:EBI-18259|uniprotkb:D6VZ00</td>\n",
       "      <td>psi-mi:ste5_yeast(display_long)|uniprotkb:STE5...</td>\n",
       "      <td>psi-mi:ste11_yeast(display_long)|uniprotkb:L80...</td>\n",
       "      <td>psi-mi:\"MI:0007\"(anti tag coimmunoprecipitation)</td>\n",
       "      <td>Inouye et al. (1997)</td>\n",
       "      <td>pubmed:9311911|doi:10.1126/science.278.5335.10...</td>\n",
       "      <td>taxid:559292(yeast)|taxid:559292(Saccharomyces...</td>\n",
       "      <td>...</td>\n",
       "      <td>psi-mi:\"MI:0113\"(western blot)</td>\n",
       "      <td>uniprotkb:P32917|intact:EBI-18373|uniprotkb:D6...</td>\n",
       "      <td>uniprotkb:P23561|intact:EBI-18259|uniprotkb:D6...</td>\n",
       "      <td>P32917|D6VS89</td>\n",
       "      <td>P23561|D6VZ00</td>\n",
       "      <td>P32917</td>\n",
       "      <td>P23561</td>\n",
       "      <td>0.81</td>\n",
       "      <td>P32917</td>\n",
       "      <td>P23561</td>\n",
       "    </tr>\n",
       "  </tbody>\n",
       "</table>\n",
       "<p>5 rows × 51 columns</p>\n",
       "</div>"
      ],
      "text/plain": [
       "  #ID(s) interactor A ID(s) interactor B            Alt. ID(s) interactor A  \\\n",
       "0    uniprotkb:P32917   uniprotkb:P23561  intact:EBI-18373|uniprotkb:D6VS89   \n",
       "1    uniprotkb:P32917   uniprotkb:P23561  intact:EBI-18373|uniprotkb:D6VS89   \n",
       "2    uniprotkb:P32917   uniprotkb:P23561  intact:EBI-18373|uniprotkb:D6VS89   \n",
       "3    uniprotkb:P32917   uniprotkb:P23561  intact:EBI-18373|uniprotkb:D6VS89   \n",
       "4    uniprotkb:P32917   uniprotkb:P23561  intact:EBI-18373|uniprotkb:D6VS89   \n",
       "\n",
       "             Alt. ID(s) interactor B  \\\n",
       "0  intact:EBI-18259|uniprotkb:D6VZ00   \n",
       "1  intact:EBI-18259|uniprotkb:D6VZ00   \n",
       "2  intact:EBI-18259|uniprotkb:D6VZ00   \n",
       "3  intact:EBI-18259|uniprotkb:D6VZ00   \n",
       "4  intact:EBI-18259|uniprotkb:D6VZ00   \n",
       "\n",
       "                              Alias(es) interactor A  \\\n",
       "0  psi-mi:ste5_yeast(display_long)|uniprotkb:STE5...   \n",
       "1  psi-mi:ste5_yeast(display_long)|uniprotkb:STE5...   \n",
       "2  psi-mi:ste5_yeast(display_long)|uniprotkb:STE5...   \n",
       "3  psi-mi:ste5_yeast(display_long)|uniprotkb:STE5...   \n",
       "4  psi-mi:ste5_yeast(display_long)|uniprotkb:STE5...   \n",
       "\n",
       "                              Alias(es) interactor B  \\\n",
       "0  psi-mi:ste11_yeast(display_long)|uniprotkb:L80...   \n",
       "1  psi-mi:ste11_yeast(display_long)|uniprotkb:L80...   \n",
       "2  psi-mi:ste11_yeast(display_long)|uniprotkb:L80...   \n",
       "3  psi-mi:ste11_yeast(display_long)|uniprotkb:L80...   \n",
       "4  psi-mi:ste11_yeast(display_long)|uniprotkb:L80...   \n",
       "\n",
       "                    Interaction detection method(s) Publication 1st author(s)  \\\n",
       "0           psi-mi:\"MI:0019\"(coimmunoprecipitation)      Inouye et al. (1997)   \n",
       "1                      psi-mi:\"MI:0018\"(two hybrid)     Printen et al. (1994)   \n",
       "2                      psi-mi:\"MI:0018\"(two hybrid)        Choi et al. (1994)   \n",
       "3                       psi-mi:\"MI:0096\"(pull down)        Choi et al. (1994)   \n",
       "4  psi-mi:\"MI:0007\"(anti tag coimmunoprecipitation)      Inouye et al. (1997)   \n",
       "\n",
       "                           Publication Identifier(s)  \\\n",
       "0                   mint:MINT-5221697|pubmed:9335587   \n",
       "1                   pubmed:7851759|mint:MINT-5220617   \n",
       "2     pubmed:8062390|imex:IM-19843|mint:MINT-5220710   \n",
       "3     pubmed:8062390|imex:IM-19843|mint:MINT-5220710   \n",
       "4  pubmed:9311911|doi:10.1126/science.278.5335.10...   \n",
       "\n",
       "                                  Taxid interactor A  ...  \\\n",
       "0  taxid:559292(yeast)|taxid:559292(Saccharomyces...  ...   \n",
       "1  taxid:559292(yeast)|taxid:559292(Saccharomyces...  ...   \n",
       "2  taxid:559292(yeast)|taxid:559292(Saccharomyces...  ...   \n",
       "3  taxid:559292(yeast)|taxid:559292(Saccharomyces...  ...   \n",
       "4  taxid:559292(yeast)|taxid:559292(Saccharomyces...  ...   \n",
       "\n",
       "           Identification method participant B  \\\n",
       "0  psi-mi:\"MI:0396\"(predetermined participant)   \n",
       "1  psi-mi:\"MI:0396\"(predetermined participant)   \n",
       "2  psi-mi:\"MI:0396\"(predetermined participant)   \n",
       "3               psi-mi:\"MI:0113\"(western blot)   \n",
       "4               psi-mi:\"MI:0113\"(western blot)   \n",
       "\n",
       "                                All IDs interactor A  \\\n",
       "0  uniprotkb:P32917|intact:EBI-18373|uniprotkb:D6...   \n",
       "1  uniprotkb:P32917|intact:EBI-18373|uniprotkb:D6...   \n",
       "2  uniprotkb:P32917|intact:EBI-18373|uniprotkb:D6...   \n",
       "3  uniprotkb:P32917|intact:EBI-18373|uniprotkb:D6...   \n",
       "4  uniprotkb:P32917|intact:EBI-18373|uniprotkb:D6...   \n",
       "\n",
       "                                All IDs interactor B uniprotkb_IDs_A  \\\n",
       "0  uniprotkb:P23561|intact:EBI-18259|uniprotkb:D6...   P32917|D6VS89   \n",
       "1  uniprotkb:P23561|intact:EBI-18259|uniprotkb:D6...   P32917|D6VS89   \n",
       "2  uniprotkb:P23561|intact:EBI-18259|uniprotkb:D6...   P32917|D6VS89   \n",
       "3  uniprotkb:P23561|intact:EBI-18259|uniprotkb:D6...   P32917|D6VS89   \n",
       "4  uniprotkb:P23561|intact:EBI-18259|uniprotkb:D6...   P32917|D6VS89   \n",
       "\n",
       "  uniprotkb_IDs_B first_uniprotkb_IDs_A first_uniprotkb_IDs_B intact-miscore  \\\n",
       "0   P23561|D6VZ00                P32917                P23561           0.81   \n",
       "1   P23561|D6VZ00                P32917                P23561           0.81   \n",
       "2   P23561|D6VZ00                P32917                P23561           0.81   \n",
       "3   P23561|D6VZ00                P32917                P23561           0.81   \n",
       "4   P23561|D6VZ00                P32917                P23561           0.81   \n",
       "\n",
       "  uniprotID_A uniprotID_B  \n",
       "0      P32917      P23561  \n",
       "1      P32917      P23561  \n",
       "2      P32917      P23561  \n",
       "3      P32917      P23561  \n",
       "4      P32917      P23561  \n",
       "\n",
       "[5 rows x 51 columns]"
      ]
     },
     "metadata": {},
     "output_type": "display_data"
    }
   ],
   "source": [
    "intactFinal_2 = intactFinal.merge(\n",
    "    uniprotMapping_A,\n",
    "    how=\"inner\", \n",
    "    on=\"first_uniprotkb_IDs_A\"\n",
    ").merge(\n",
    "    uniprotMapping_B,\n",
    "    how=\"inner\", \n",
    "    on=\"first_uniprotkb_IDs_B\"\n",
    ")\n",
    "\n",
    "glance(intactFinal_2)"
   ]
  },
  {
   "cell_type": "code",
   "execution_count": 55,
   "metadata": {
    "execution": {
     "iopub.execute_input": "2022-01-10T16:43:11.074399Z",
     "iopub.status.busy": "2022-01-10T16:43:11.074198Z",
     "iopub.status.idle": "2022-01-10T16:43:11.078406Z",
     "shell.execute_reply": "2022-01-10T16:43:11.077695Z",
     "shell.execute_reply.started": "2022-01-10T16:43:11.074366Z"
    }
   },
   "outputs": [
    {
     "name": "stdout",
     "output_type": "stream",
     "text": [
      "210 interactions removed\n"
     ]
    }
   ],
   "source": [
    "print('{:,} interactions removed'.format(len(intactFinal) - len(intactFinal_2)))"
   ]
  },
  {
   "cell_type": "code",
   "execution_count": 56,
   "metadata": {
    "execution": {
     "iopub.execute_input": "2022-01-10T16:43:11.079167Z",
     "iopub.status.busy": "2022-01-10T16:43:11.078982Z",
     "iopub.status.idle": "2022-01-10T16:43:11.193212Z",
     "shell.execute_reply": "2022-01-10T16:43:11.191959Z",
     "shell.execute_reply.started": "2022-01-10T16:43:11.079137Z"
    }
   },
   "outputs": [],
   "source": [
    "# Sanity check\n",
    "assert len(intactFinal_2) < len(intactFinal)\n",
    "assert intactFinal_2.uniprotID_A.isna().sum() == 0\n",
    "assert intactFinal_2.uniprotID_B.isna().sum() == 0"
   ]
  },
  {
   "cell_type": "markdown",
   "metadata": {},
   "source": [
    "---\n",
    "**Some sanity checks before removing some columns**"
   ]
  },
  {
   "cell_type": "code",
   "execution_count": 57,
   "metadata": {
    "execution": {
     "iopub.execute_input": "2022-01-10T16:43:11.194872Z",
     "iopub.status.busy": "2022-01-10T16:43:11.194440Z",
     "iopub.status.idle": "2022-01-10T16:43:11.256683Z",
     "shell.execute_reply": "2022-01-10T16:43:11.255837Z",
     "shell.execute_reply.started": "2022-01-10T16:43:11.194734Z"
    }
   },
   "outputs": [],
   "source": [
    "# human-human only\n",
    "assert set(list(intactFinal_2['Taxid interactor A'].unique())+list(intactFinal_2['Taxid interactor B'].unique())) == set(['taxid:559292(yeast)|taxid:559292(Saccharomyces cerevisiae)'])\n",
    "\n",
    "# PPIs only\n",
    "assert set(list(intactFinal_2['Type(s) interactor A'].unique())+list(intactFinal_2['Type(s) interactor B'].unique())) == set(['psi-mi:\"MI:0326\"(protein)'])\n",
    "\n",
    "# no spoke expansions\n",
    "assert list(intactFinal_2['Expansion method(s)'].unique()) == ['-']"
   ]
  },
  {
   "cell_type": "markdown",
   "metadata": {},
   "source": [
    "---\n",
    "**Filter columns and order uniprotIDs alphabetically**\n",
    "\n"
   ]
  },
  {
   "cell_type": "code",
   "execution_count": 58,
   "metadata": {
    "execution": {
     "iopub.execute_input": "2022-01-10T16:43:11.257899Z",
     "iopub.status.busy": "2022-01-10T16:43:11.257639Z",
     "iopub.status.idle": "2022-01-10T16:43:11.557294Z",
     "shell.execute_reply": "2022-01-10T16:43:11.556857Z",
     "shell.execute_reply.started": "2022-01-10T16:43:11.257856Z"
    }
   },
   "outputs": [
    {
     "name": "stdout",
     "output_type": "stream",
     "text": [
      "DataFrame: 70,770 rows \t 7 columns\n"
     ]
    },
    {
     "data": {
      "text/html": [
       "<div>\n",
       "<style scoped>\n",
       "    .dataframe tbody tr th:only-of-type {\n",
       "        vertical-align: middle;\n",
       "    }\n",
       "\n",
       "    .dataframe tbody tr th {\n",
       "        vertical-align: top;\n",
       "    }\n",
       "\n",
       "    .dataframe thead th {\n",
       "        text-align: right;\n",
       "    }\n",
       "</style>\n",
       "<table border=\"1\" class=\"dataframe\">\n",
       "  <thead>\n",
       "    <tr style=\"text-align: right;\">\n",
       "      <th></th>\n",
       "      <th>uniprotID_A</th>\n",
       "      <th>uniprotID_B</th>\n",
       "      <th>intact-miscore</th>\n",
       "      <th>Interaction detection method(s)</th>\n",
       "      <th>Publication Identifier(s)</th>\n",
       "      <th>Interaction type(s)</th>\n",
       "      <th>Host organism(s)</th>\n",
       "    </tr>\n",
       "  </thead>\n",
       "  <tbody>\n",
       "    <tr>\n",
       "      <th>0</th>\n",
       "      <td>P32917</td>\n",
       "      <td>P23561</td>\n",
       "      <td>0.81</td>\n",
       "      <td>psi-mi:\"MI:0019\"(coimmunoprecipitation)</td>\n",
       "      <td>mint:MINT-5221697|pubmed:9335587</td>\n",
       "      <td>psi-mi:\"MI:0915\"(physical association)</td>\n",
       "      <td>taxid:-4(in vivo)|taxid:-4(in vivo)</td>\n",
       "    </tr>\n",
       "    <tr>\n",
       "      <th>1</th>\n",
       "      <td>P32917</td>\n",
       "      <td>P23561</td>\n",
       "      <td>0.81</td>\n",
       "      <td>psi-mi:\"MI:0018\"(two hybrid)</td>\n",
       "      <td>pubmed:7851759|mint:MINT-5220617</td>\n",
       "      <td>psi-mi:\"MI:0915\"(physical association)</td>\n",
       "      <td>taxid:4932(yeasx)|taxid:4932(\"Saccharomyces ce...</td>\n",
       "    </tr>\n",
       "    <tr>\n",
       "      <th>2</th>\n",
       "      <td>P32917</td>\n",
       "      <td>P23561</td>\n",
       "      <td>0.81</td>\n",
       "      <td>psi-mi:\"MI:0018\"(two hybrid)</td>\n",
       "      <td>pubmed:8062390|imex:IM-19843|mint:MINT-5220710</td>\n",
       "      <td>psi-mi:\"MI:0915\"(physical association)</td>\n",
       "      <td>taxid:4932(yeasx)|taxid:4932(\"Saccharomyces ce...</td>\n",
       "    </tr>\n",
       "    <tr>\n",
       "      <th>3</th>\n",
       "      <td>P32917</td>\n",
       "      <td>P23561</td>\n",
       "      <td>0.81</td>\n",
       "      <td>psi-mi:\"MI:0096\"(pull down)</td>\n",
       "      <td>pubmed:8062390|imex:IM-19843|mint:MINT-5220710</td>\n",
       "      <td>psi-mi:\"MI:0915\"(physical association)</td>\n",
       "      <td>taxid:4932(yeasx)|taxid:4932(\"Saccharomyces ce...</td>\n",
       "    </tr>\n",
       "    <tr>\n",
       "      <th>4</th>\n",
       "      <td>P32917</td>\n",
       "      <td>P23561</td>\n",
       "      <td>0.81</td>\n",
       "      <td>psi-mi:\"MI:0007\"(anti tag coimmunoprecipitation)</td>\n",
       "      <td>pubmed:9311911|doi:10.1126/science.278.5335.10...</td>\n",
       "      <td>psi-mi:\"MI:0915\"(physical association)</td>\n",
       "      <td>taxid:4932(yeasx)|taxid:4932(\"Saccharomyces ce...</td>\n",
       "    </tr>\n",
       "  </tbody>\n",
       "</table>\n",
       "</div>"
      ],
      "text/plain": [
       "  uniprotID_A uniprotID_B  intact-miscore  \\\n",
       "0      P32917      P23561            0.81   \n",
       "1      P32917      P23561            0.81   \n",
       "2      P32917      P23561            0.81   \n",
       "3      P32917      P23561            0.81   \n",
       "4      P32917      P23561            0.81   \n",
       "\n",
       "                    Interaction detection method(s)  \\\n",
       "0           psi-mi:\"MI:0019\"(coimmunoprecipitation)   \n",
       "1                      psi-mi:\"MI:0018\"(two hybrid)   \n",
       "2                      psi-mi:\"MI:0018\"(two hybrid)   \n",
       "3                       psi-mi:\"MI:0096\"(pull down)   \n",
       "4  psi-mi:\"MI:0007\"(anti tag coimmunoprecipitation)   \n",
       "\n",
       "                           Publication Identifier(s)  \\\n",
       "0                   mint:MINT-5221697|pubmed:9335587   \n",
       "1                   pubmed:7851759|mint:MINT-5220617   \n",
       "2     pubmed:8062390|imex:IM-19843|mint:MINT-5220710   \n",
       "3     pubmed:8062390|imex:IM-19843|mint:MINT-5220710   \n",
       "4  pubmed:9311911|doi:10.1126/science.278.5335.10...   \n",
       "\n",
       "                      Interaction type(s)  \\\n",
       "0  psi-mi:\"MI:0915\"(physical association)   \n",
       "1  psi-mi:\"MI:0915\"(physical association)   \n",
       "2  psi-mi:\"MI:0915\"(physical association)   \n",
       "3  psi-mi:\"MI:0915\"(physical association)   \n",
       "4  psi-mi:\"MI:0915\"(physical association)   \n",
       "\n",
       "                                    Host organism(s)  \n",
       "0                taxid:-4(in vivo)|taxid:-4(in vivo)  \n",
       "1  taxid:4932(yeasx)|taxid:4932(\"Saccharomyces ce...  \n",
       "2  taxid:4932(yeasx)|taxid:4932(\"Saccharomyces ce...  \n",
       "3  taxid:4932(yeasx)|taxid:4932(\"Saccharomyces ce...  \n",
       "4  taxid:4932(yeasx)|taxid:4932(\"Saccharomyces ce...  "
      ]
     },
     "metadata": {},
     "output_type": "display_data"
    }
   ],
   "source": [
    "intactFinal_3 = intactFinal_2[[\n",
    "    'uniprotID_A', \n",
    "    'uniprotID_B',\n",
    "    'intact-miscore',\n",
    "    'Interaction detection method(s)',\n",
    "    'Publication Identifier(s)',\n",
    "    'Interaction type(s)',\n",
    "    'Host organism(s)'\n",
    "]].copy()\n",
    "glance(intactFinal_3)"
   ]
  },
  {
   "cell_type": "code",
   "execution_count": 59,
   "metadata": {
    "ExecuteTime": {
     "end_time": "2019-10-30T16:27:31.557692Z",
     "start_time": "2019-10-30T16:27:31.084899Z"
    },
    "execution": {
     "iopub.execute_input": "2022-01-10T16:43:11.558242Z",
     "iopub.status.busy": "2022-01-10T16:43:11.558004Z",
     "iopub.status.idle": "2022-01-10T16:43:11.762996Z",
     "shell.execute_reply": "2022-01-10T16:43:11.762509Z",
     "shell.execute_reply.started": "2022-01-10T16:43:11.558146Z"
    }
   },
   "outputs": [
    {
     "name": "stdout",
     "output_type": "stream",
     "text": [
      "DataFrame: 70,770 rows \t 7 columns\n"
     ]
    },
    {
     "data": {
      "text/html": [
       "<div>\n",
       "<style scoped>\n",
       "    .dataframe tbody tr th:only-of-type {\n",
       "        vertical-align: middle;\n",
       "    }\n",
       "\n",
       "    .dataframe tbody tr th {\n",
       "        vertical-align: top;\n",
       "    }\n",
       "\n",
       "    .dataframe thead th {\n",
       "        text-align: right;\n",
       "    }\n",
       "</style>\n",
       "<table border=\"1\" class=\"dataframe\">\n",
       "  <thead>\n",
       "    <tr style=\"text-align: right;\">\n",
       "      <th></th>\n",
       "      <th>uniprotID_A</th>\n",
       "      <th>uniprotID_B</th>\n",
       "      <th>intact-miscore</th>\n",
       "      <th>Interaction detection method(s)</th>\n",
       "      <th>Publication Identifier(s)</th>\n",
       "      <th>Interaction type(s)</th>\n",
       "      <th>Host organism(s)</th>\n",
       "    </tr>\n",
       "  </thead>\n",
       "  <tbody>\n",
       "    <tr>\n",
       "      <th>0</th>\n",
       "      <td>P23561</td>\n",
       "      <td>P32917</td>\n",
       "      <td>0.81</td>\n",
       "      <td>psi-mi:\"MI:0019\"(coimmunoprecipitation)</td>\n",
       "      <td>mint:MINT-5221697|pubmed:9335587</td>\n",
       "      <td>psi-mi:\"MI:0915\"(physical association)</td>\n",
       "      <td>taxid:-4(in vivo)|taxid:-4(in vivo)</td>\n",
       "    </tr>\n",
       "    <tr>\n",
       "      <th>1</th>\n",
       "      <td>P23561</td>\n",
       "      <td>P32917</td>\n",
       "      <td>0.81</td>\n",
       "      <td>psi-mi:\"MI:0018\"(two hybrid)</td>\n",
       "      <td>pubmed:7851759|mint:MINT-5220617</td>\n",
       "      <td>psi-mi:\"MI:0915\"(physical association)</td>\n",
       "      <td>taxid:4932(yeasx)|taxid:4932(\"Saccharomyces ce...</td>\n",
       "    </tr>\n",
       "    <tr>\n",
       "      <th>2</th>\n",
       "      <td>P23561</td>\n",
       "      <td>P32917</td>\n",
       "      <td>0.81</td>\n",
       "      <td>psi-mi:\"MI:0018\"(two hybrid)</td>\n",
       "      <td>pubmed:8062390|imex:IM-19843|mint:MINT-5220710</td>\n",
       "      <td>psi-mi:\"MI:0915\"(physical association)</td>\n",
       "      <td>taxid:4932(yeasx)|taxid:4932(\"Saccharomyces ce...</td>\n",
       "    </tr>\n",
       "    <tr>\n",
       "      <th>3</th>\n",
       "      <td>P23561</td>\n",
       "      <td>P32917</td>\n",
       "      <td>0.81</td>\n",
       "      <td>psi-mi:\"MI:0096\"(pull down)</td>\n",
       "      <td>pubmed:8062390|imex:IM-19843|mint:MINT-5220710</td>\n",
       "      <td>psi-mi:\"MI:0915\"(physical association)</td>\n",
       "      <td>taxid:4932(yeasx)|taxid:4932(\"Saccharomyces ce...</td>\n",
       "    </tr>\n",
       "    <tr>\n",
       "      <th>4</th>\n",
       "      <td>P23561</td>\n",
       "      <td>P32917</td>\n",
       "      <td>0.81</td>\n",
       "      <td>psi-mi:\"MI:0007\"(anti tag coimmunoprecipitation)</td>\n",
       "      <td>pubmed:9311911|doi:10.1126/science.278.5335.10...</td>\n",
       "      <td>psi-mi:\"MI:0915\"(physical association)</td>\n",
       "      <td>taxid:4932(yeasx)|taxid:4932(\"Saccharomyces ce...</td>\n",
       "    </tr>\n",
       "  </tbody>\n",
       "</table>\n",
       "</div>"
      ],
      "text/plain": [
       "  uniprotID_A uniprotID_B  intact-miscore  \\\n",
       "0      P23561      P32917            0.81   \n",
       "1      P23561      P32917            0.81   \n",
       "2      P23561      P32917            0.81   \n",
       "3      P23561      P32917            0.81   \n",
       "4      P23561      P32917            0.81   \n",
       "\n",
       "                    Interaction detection method(s)  \\\n",
       "0           psi-mi:\"MI:0019\"(coimmunoprecipitation)   \n",
       "1                      psi-mi:\"MI:0018\"(two hybrid)   \n",
       "2                      psi-mi:\"MI:0018\"(two hybrid)   \n",
       "3                       psi-mi:\"MI:0096\"(pull down)   \n",
       "4  psi-mi:\"MI:0007\"(anti tag coimmunoprecipitation)   \n",
       "\n",
       "                           Publication Identifier(s)  \\\n",
       "0                   mint:MINT-5221697|pubmed:9335587   \n",
       "1                   pubmed:7851759|mint:MINT-5220617   \n",
       "2     pubmed:8062390|imex:IM-19843|mint:MINT-5220710   \n",
       "3     pubmed:8062390|imex:IM-19843|mint:MINT-5220710   \n",
       "4  pubmed:9311911|doi:10.1126/science.278.5335.10...   \n",
       "\n",
       "                      Interaction type(s)  \\\n",
       "0  psi-mi:\"MI:0915\"(physical association)   \n",
       "1  psi-mi:\"MI:0915\"(physical association)   \n",
       "2  psi-mi:\"MI:0915\"(physical association)   \n",
       "3  psi-mi:\"MI:0915\"(physical association)   \n",
       "4  psi-mi:\"MI:0915\"(physical association)   \n",
       "\n",
       "                                    Host organism(s)  \n",
       "0                taxid:-4(in vivo)|taxid:-4(in vivo)  \n",
       "1  taxid:4932(yeasx)|taxid:4932(\"Saccharomyces ce...  \n",
       "2  taxid:4932(yeasx)|taxid:4932(\"Saccharomyces ce...  \n",
       "3  taxid:4932(yeasx)|taxid:4932(\"Saccharomyces ce...  \n",
       "4  taxid:4932(yeasx)|taxid:4932(\"Saccharomyces ce...  "
      ]
     },
     "metadata": {},
     "output_type": "display_data"
    }
   ],
   "source": [
    "uniprotABids = intactFinal_3.loc[:,[\"uniprotID_A\",\"uniprotID_B\"]].values.tolist()\n",
    "\n",
    "for i in range(len(uniprotABids)):\n",
    "    uniprotABids[i].sort()\n",
    "    \n",
    "uniprotA, uniprotB = map(list, zip(*uniprotABids))\n",
    "\n",
    "intactFinal_3.loc[:,'uniprotID_A'] = uniprotA\n",
    "intactFinal_3.loc[:,'uniprotID_B'] = uniprotB\n",
    "\n",
    "glance(intactFinal_3)"
   ]
  },
  {
   "cell_type": "code",
   "execution_count": 60,
   "metadata": {
    "execution": {
     "iopub.execute_input": "2022-01-10T16:43:11.763790Z",
     "iopub.status.busy": "2022-01-10T16:43:11.763618Z",
     "iopub.status.idle": "2022-01-10T16:43:11.771458Z",
     "shell.execute_reply": "2022-01-10T16:43:11.770985Z",
     "shell.execute_reply.started": "2022-01-10T16:43:11.763763Z"
    }
   },
   "outputs": [],
   "source": [
    "# Sanity check\n",
    "foo = intactFinal_3.uniprotID_A <= intactFinal_3.uniprotID_B\n",
    "assert len(foo.loc[~foo]) == 0"
   ]
  },
  {
   "cell_type": "markdown",
   "metadata": {},
   "source": [
    "# Group by PPI"
   ]
  },
  {
   "cell_type": "code",
   "execution_count": 61,
   "metadata": {
    "execution": {
     "iopub.execute_input": "2022-01-10T16:43:11.772178Z",
     "iopub.status.busy": "2022-01-10T16:43:11.772015Z",
     "iopub.status.idle": "2022-01-10T16:43:11.801478Z",
     "shell.execute_reply": "2022-01-10T16:43:11.801025Z",
     "shell.execute_reply.started": "2022-01-10T16:43:11.772137Z"
    }
   },
   "outputs": [
    {
     "name": "stdout",
     "output_type": "stream",
     "text": [
      "DataFrame: 70,770 rows \t 7 columns\n"
     ]
    },
    {
     "data": {
      "text/html": [
       "<div>\n",
       "<style scoped>\n",
       "    .dataframe tbody tr th:only-of-type {\n",
       "        vertical-align: middle;\n",
       "    }\n",
       "\n",
       "    .dataframe tbody tr th {\n",
       "        vertical-align: top;\n",
       "    }\n",
       "\n",
       "    .dataframe thead th {\n",
       "        text-align: right;\n",
       "    }\n",
       "</style>\n",
       "<table border=\"1\" class=\"dataframe\">\n",
       "  <thead>\n",
       "    <tr style=\"text-align: right;\">\n",
       "      <th></th>\n",
       "      <th>uniprotID_A</th>\n",
       "      <th>uniprotID_B</th>\n",
       "      <th>intact-miscore</th>\n",
       "      <th>Interaction detection method(s)</th>\n",
       "      <th>Publication Identifier(s)</th>\n",
       "      <th>Interaction type(s)</th>\n",
       "      <th>Host organism(s)</th>\n",
       "    </tr>\n",
       "  </thead>\n",
       "  <tbody>\n",
       "    <tr>\n",
       "      <th>0</th>\n",
       "      <td>P23561</td>\n",
       "      <td>P32917</td>\n",
       "      <td>0.81</td>\n",
       "      <td>psi-mi:\"MI:0019\"(coimmunoprecipitation)</td>\n",
       "      <td>mint:MINT-5221697|pubmed:9335587</td>\n",
       "      <td>psi-mi:\"MI:0915\"(physical association)</td>\n",
       "      <td>taxid:-4(in vivo)|taxid:-4(in vivo)</td>\n",
       "    </tr>\n",
       "    <tr>\n",
       "      <th>1</th>\n",
       "      <td>P23561</td>\n",
       "      <td>P32917</td>\n",
       "      <td>0.81</td>\n",
       "      <td>psi-mi:\"MI:0018\"(two hybrid)</td>\n",
       "      <td>pubmed:7851759|mint:MINT-5220617</td>\n",
       "      <td>psi-mi:\"MI:0915\"(physical association)</td>\n",
       "      <td>taxid:4932(yeasx)|taxid:4932(\"Saccharomyces ce...</td>\n",
       "    </tr>\n",
       "    <tr>\n",
       "      <th>2</th>\n",
       "      <td>P23561</td>\n",
       "      <td>P32917</td>\n",
       "      <td>0.81</td>\n",
       "      <td>psi-mi:\"MI:0018\"(two hybrid)</td>\n",
       "      <td>pubmed:8062390|imex:IM-19843|mint:MINT-5220710</td>\n",
       "      <td>psi-mi:\"MI:0915\"(physical association)</td>\n",
       "      <td>taxid:4932(yeasx)|taxid:4932(\"Saccharomyces ce...</td>\n",
       "    </tr>\n",
       "    <tr>\n",
       "      <th>3</th>\n",
       "      <td>P23561</td>\n",
       "      <td>P32917</td>\n",
       "      <td>0.81</td>\n",
       "      <td>psi-mi:\"MI:0096\"(pull down)</td>\n",
       "      <td>pubmed:8062390|imex:IM-19843|mint:MINT-5220710</td>\n",
       "      <td>psi-mi:\"MI:0915\"(physical association)</td>\n",
       "      <td>taxid:4932(yeasx)|taxid:4932(\"Saccharomyces ce...</td>\n",
       "    </tr>\n",
       "    <tr>\n",
       "      <th>4</th>\n",
       "      <td>P23561</td>\n",
       "      <td>P32917</td>\n",
       "      <td>0.81</td>\n",
       "      <td>psi-mi:\"MI:0007\"(anti tag coimmunoprecipitation)</td>\n",
       "      <td>pubmed:9311911|doi:10.1126/science.278.5335.10...</td>\n",
       "      <td>psi-mi:\"MI:0915\"(physical association)</td>\n",
       "      <td>taxid:4932(yeasx)|taxid:4932(\"Saccharomyces ce...</td>\n",
       "    </tr>\n",
       "  </tbody>\n",
       "</table>\n",
       "</div>"
      ],
      "text/plain": [
       "  uniprotID_A uniprotID_B  intact-miscore  \\\n",
       "0      P23561      P32917            0.81   \n",
       "1      P23561      P32917            0.81   \n",
       "2      P23561      P32917            0.81   \n",
       "3      P23561      P32917            0.81   \n",
       "4      P23561      P32917            0.81   \n",
       "\n",
       "                    Interaction detection method(s)  \\\n",
       "0           psi-mi:\"MI:0019\"(coimmunoprecipitation)   \n",
       "1                      psi-mi:\"MI:0018\"(two hybrid)   \n",
       "2                      psi-mi:\"MI:0018\"(two hybrid)   \n",
       "3                       psi-mi:\"MI:0096\"(pull down)   \n",
       "4  psi-mi:\"MI:0007\"(anti tag coimmunoprecipitation)   \n",
       "\n",
       "                           Publication Identifier(s)  \\\n",
       "0                   mint:MINT-5221697|pubmed:9335587   \n",
       "1                   pubmed:7851759|mint:MINT-5220617   \n",
       "2     pubmed:8062390|imex:IM-19843|mint:MINT-5220710   \n",
       "3     pubmed:8062390|imex:IM-19843|mint:MINT-5220710   \n",
       "4  pubmed:9311911|doi:10.1126/science.278.5335.10...   \n",
       "\n",
       "                      Interaction type(s)  \\\n",
       "0  psi-mi:\"MI:0915\"(physical association)   \n",
       "1  psi-mi:\"MI:0915\"(physical association)   \n",
       "2  psi-mi:\"MI:0915\"(physical association)   \n",
       "3  psi-mi:\"MI:0915\"(physical association)   \n",
       "4  psi-mi:\"MI:0915\"(physical association)   \n",
       "\n",
       "                                    Host organism(s)  \n",
       "0                taxid:-4(in vivo)|taxid:-4(in vivo)  \n",
       "1  taxid:4932(yeasx)|taxid:4932(\"Saccharomyces ce...  \n",
       "2  taxid:4932(yeasx)|taxid:4932(\"Saccharomyces ce...  \n",
       "3  taxid:4932(yeasx)|taxid:4932(\"Saccharomyces ce...  \n",
       "4  taxid:4932(yeasx)|taxid:4932(\"Saccharomyces ce...  "
      ]
     },
     "metadata": {},
     "output_type": "display_data"
    }
   ],
   "source": [
    "dfIntActPreGr = intactFinal_3\n",
    "glance(dfIntActPreGr)"
   ]
  },
  {
   "cell_type": "markdown",
   "metadata": {},
   "source": [
    "---\n",
    "**Remove self interactions**"
   ]
  },
  {
   "cell_type": "code",
   "execution_count": 62,
   "metadata": {
    "execution": {
     "iopub.execute_input": "2022-01-10T16:43:11.802107Z",
     "iopub.status.busy": "2022-01-10T16:43:11.801964Z",
     "iopub.status.idle": "2022-01-10T16:43:11.836863Z",
     "shell.execute_reply": "2022-01-10T16:43:11.836237Z",
     "shell.execute_reply.started": "2022-01-10T16:43:11.802083Z"
    }
   },
   "outputs": [
    {
     "name": "stdout",
     "output_type": "stream",
     "text": [
      "1,561 self interactions (/70,770)\n"
     ]
    }
   ],
   "source": [
    "foo = dfIntActPreGr.loc[dfIntActPreGr.uniprotID_A == dfIntActPreGr.uniprotID_B]\n",
    "print(\"{:,} self interactions (/{:,})\".format(len(foo),len(dfIntActPreGr)))"
   ]
  },
  {
   "cell_type": "code",
   "execution_count": 63,
   "metadata": {
    "execution": {
     "iopub.execute_input": "2022-01-10T16:43:11.837649Z",
     "iopub.status.busy": "2022-01-10T16:43:11.837456Z",
     "iopub.status.idle": "2022-01-10T16:43:11.873533Z",
     "shell.execute_reply": "2022-01-10T16:43:11.872963Z",
     "shell.execute_reply.started": "2022-01-10T16:43:11.837618Z"
    }
   },
   "outputs": [
    {
     "data": {
      "text/plain": [
       "(69209, 7)"
      ]
     },
     "execution_count": 63,
     "metadata": {},
     "output_type": "execute_result"
    }
   ],
   "source": [
    "dfIntActPreGr_2 = dfIntActPreGr.loc[dfIntActPreGr.uniprotID_A != dfIntActPreGr.uniprotID_B]\n",
    "dfIntActPreGr_2.shape"
   ]
  },
  {
   "cell_type": "markdown",
   "metadata": {},
   "source": [
    "---\n",
    "**EDA on duplicated interactions**"
   ]
  },
  {
   "cell_type": "code",
   "execution_count": 64,
   "metadata": {
    "execution": {
     "iopub.execute_input": "2022-01-10T16:43:11.874367Z",
     "iopub.status.busy": "2022-01-10T16:43:11.874182Z",
     "iopub.status.idle": "2022-01-10T16:43:11.917616Z",
     "shell.execute_reply": "2022-01-10T16:43:11.917073Z",
     "shell.execute_reply.started": "2022-01-10T16:43:11.874336Z"
    }
   },
   "outputs": [
    {
     "name": "stdout",
     "output_type": "stream",
     "text": [
      "Number of unique interactions: 43,068/69,209\n"
     ]
    }
   ],
   "source": [
    "foo = dfIntActPreGr_2.groupby(by=['uniprotID_A', 'uniprotID_B']).size()\n",
    "\n",
    "print('Number of unique interactions: {:,}/{:,}'.format(len(foo), foo.sum()))"
   ]
  },
  {
   "cell_type": "markdown",
   "metadata": {},
   "source": [
    "*Number of duplicates*"
   ]
  },
  {
   "cell_type": "code",
   "execution_count": 65,
   "metadata": {
    "execution": {
     "iopub.execute_input": "2022-01-10T16:43:11.918389Z",
     "iopub.status.busy": "2022-01-10T16:43:11.918223Z",
     "iopub.status.idle": "2022-01-10T16:43:12.464260Z",
     "shell.execute_reply": "2022-01-10T16:43:12.463670Z",
     "shell.execute_reply.started": "2022-01-10T16:43:11.918361Z"
    }
   },
   "outputs": [
    {
     "data": {
      "image/png": "[encoded data removed]",
      "text/plain": [
       "<Figure size 1008x432 with 1 Axes>"
      ]
     },
     "metadata": {},
     "output_type": "display_data"
    }
   ],
   "source": [
    "ax = sns.distplot(foo, kde=False,hist=True, norm_hist=False)\n",
    "ax.set_yscale('log');"
   ]
  },
  {
   "cell_type": "markdown",
   "metadata": {},
   "source": [
    "*Differences amongst duplicates*"
   ]
  },
  {
   "cell_type": "code",
   "execution_count": 66,
   "metadata": {
    "ExecuteTime": {
     "end_time": "2019-10-30T16:20:35.013358Z",
     "start_time": "2019-10-30T16:18:47.850512Z"
    },
    "execution": {
     "iopub.execute_input": "2022-01-10T16:43:12.465107Z",
     "iopub.status.busy": "2022-01-10T16:43:12.464943Z",
     "iopub.status.idle": "2022-01-10T16:43:14.594080Z",
     "shell.execute_reply": "2022-01-10T16:43:14.592995Z",
     "shell.execute_reply.started": "2022-01-10T16:43:12.465081Z"
    }
   },
   "outputs": [],
   "source": [
    "foo = dfIntActPreGr_2.groupby(by=['uniprotID_A', 'uniprotID_B']).agg(lambda x: len(set(x)) == 1)"
   ]
  },
  {
   "cell_type": "code",
   "execution_count": 67,
   "metadata": {
    "execution": {
     "iopub.execute_input": "2022-01-10T16:43:14.595310Z",
     "iopub.status.busy": "2022-01-10T16:43:14.595111Z",
     "iopub.status.idle": "2022-01-10T16:43:14.604995Z",
     "shell.execute_reply": "2022-01-10T16:43:14.604519Z",
     "shell.execute_reply.started": "2022-01-10T16:43:14.595279Z"
    }
   },
   "outputs": [
    {
     "name": "stdout",
     "output_type": "stream",
     "text": [
      "Number of interactions with discrepancies (/43,068)\n",
      "\tintact-miscore: 1\n",
      "\tInteraction detection method(s): 2,961\n",
      "\tPublication Identifier(s): 2,625\n",
      "\tInteraction type(s): 1,193\n",
      "\tHost organism(s): 2,537\n"
     ]
    }
   ],
   "source": [
    "print(\"Number of interactions with discrepancies (/{:,})\".format(len(foo)))\n",
    "for col in foo.columns:\n",
    "    print(\"\\t{}: {:,}\".format(col,len(foo.loc[~foo[col]])))"
   ]
  },
  {
   "cell_type": "markdown",
   "metadata": {},
   "source": [
    "---\n",
    "**Only keep interactions with the highest MI-score**"
   ]
  },
  {
   "cell_type": "code",
   "execution_count": 68,
   "metadata": {
    "execution": {
     "iopub.execute_input": "2022-01-10T16:43:14.605712Z",
     "iopub.status.busy": "2022-01-10T16:43:14.605566Z",
     "iopub.status.idle": "2022-01-10T16:43:14.650582Z",
     "shell.execute_reply": "2022-01-10T16:43:14.650023Z",
     "shell.execute_reply.started": "2022-01-10T16:43:14.605688Z"
    }
   },
   "outputs": [],
   "source": [
    "dfIntActPreGr_3 = dfIntActPreGr_2.sort_values('intact-miscore').drop_duplicates(subset=['uniprotID_A', 'uniprotID_B'], keep='last')"
   ]
  },
  {
   "cell_type": "code",
   "execution_count": 69,
   "metadata": {
    "execution": {
     "iopub.execute_input": "2022-01-10T16:43:14.651292Z",
     "iopub.status.busy": "2022-01-10T16:43:14.651135Z",
     "iopub.status.idle": "2022-01-10T16:43:14.680070Z",
     "shell.execute_reply": "2022-01-10T16:43:14.679520Z",
     "shell.execute_reply.started": "2022-01-10T16:43:14.651267Z"
    }
   },
   "outputs": [],
   "source": [
    "# Sanity check\n",
    "foo = dfIntActPreGr_2.groupby(by=['uniprotID_A', 'uniprotID_B']).size()\n",
    "assert len(dfIntActPreGr_3) == len(foo)"
   ]
  },
  {
   "cell_type": "markdown",
   "metadata": {},
   "source": [
    "# Final sanity checks"
   ]
  },
  {
   "cell_type": "code",
   "execution_count": 70,
   "metadata": {
    "execution": {
     "iopub.execute_input": "2022-01-10T16:43:14.680807Z",
     "iopub.status.busy": "2022-01-10T16:43:14.680658Z",
     "iopub.status.idle": "2022-01-10T16:43:14.686491Z",
     "shell.execute_reply": "2022-01-10T16:43:14.685999Z",
     "shell.execute_reply.started": "2022-01-10T16:43:14.680782Z"
    }
   },
   "outputs": [],
   "source": [
    "THEintact = dfIntActPreGr_3"
   ]
  },
  {
   "cell_type": "code",
   "execution_count": 71,
   "metadata": {
    "execution": {
     "iopub.execute_input": "2022-01-10T16:43:14.687200Z",
     "iopub.status.busy": "2022-01-10T16:43:14.687033Z",
     "iopub.status.idle": "2022-01-10T16:43:14.730757Z",
     "shell.execute_reply": "2022-01-10T16:43:14.730248Z",
     "shell.execute_reply.started": "2022-01-10T16:43:14.687175Z"
    }
   },
   "outputs": [],
   "source": [
    "# no missing MI-score\n",
    "assert THEintact['intact-miscore'].isna().sum() == 0\n",
    "\n",
    "# only associations (no colocalisations)\n",
    "foo = [\n",
    "    'psi-mi:\"MI:0915\"(physical association)', \n",
    "    'psi-mi:\"MI:0914\"(association)', \n",
    "    'psi-mi:\"MI:0407\"(direct interaction)'\n",
    "]\n",
    "assert set(THEintact['Interaction type(s)']).issubset(foo)\n",
    "\n",
    "# No missing IDs\n",
    "for i in ['uniprotID_A','uniprotID_B']:\n",
    "    assert THEintact[i].isna().sum() == 0\n",
    "    assert len(THEintact.loc[THEintact[i] == '']) == 0\n",
    "    \n",
    "# No self interactions\n",
    "foo = THEintact.loc[THEintact.uniprotID_A == THEintact.uniprotID_B]\n",
    "assert len(foo) == 0\n",
    "\n",
    "# alphabetical order\n",
    "foo = THEintact.loc[THEintact.uniprotID_A > THEintact.uniprotID_B]\n",
    "assert len(foo) == 0"
   ]
  },
  {
   "cell_type": "markdown",
   "metadata": {},
   "source": [
    "# Final EDA"
   ]
  },
  {
   "cell_type": "code",
   "execution_count": 72,
   "metadata": {
    "execution": {
     "iopub.execute_input": "2022-01-10T16:43:14.731350Z",
     "iopub.status.busy": "2022-01-10T16:43:14.731212Z",
     "iopub.status.idle": "2022-01-10T16:43:14.754527Z",
     "shell.execute_reply": "2022-01-10T16:43:14.754055Z",
     "shell.execute_reply.started": "2022-01-10T16:43:14.731327Z"
    }
   },
   "outputs": [
    {
     "name": "stdout",
     "output_type": "stream",
     "text": [
      "Number of interactions: 43,068\n",
      "Covering 5,679 proteins\n"
     ]
    }
   ],
   "source": [
    "print(f\"Number of interactions: {THEintact.shape[0]:,}\")\n",
    "foo = set(pd.concat([THEintact.uniprotID_A,THEintact.uniprotID_B]))\n",
    "print(f\"Covering {len(foo):,} proteins\")"
   ]
  },
  {
   "cell_type": "markdown",
   "metadata": {},
   "source": [
    "*Confidence score*"
   ]
  },
  {
   "cell_type": "code",
   "execution_count": 68,
   "metadata": {
    "execution": {
     "iopub.execute_input": "2021-12-06T16:36:30.195434Z",
     "iopub.status.busy": "2021-12-06T16:36:30.194951Z",
     "iopub.status.idle": "2021-12-06T16:36:30.351182Z",
     "shell.execute_reply": "2021-12-06T16:36:30.350689Z",
     "shell.execute_reply.started": "2021-12-06T16:36:30.195363Z"
    }
   },
   "outputs": [
    {
     "data": {
      "image/png": "[encoded data removed]",
      "text/plain": [
       "<Figure size 1008x432 with 1 Axes>"
      ]
     },
     "metadata": {},
     "output_type": "display_data"
    }
   ],
   "source": [
    "sns.distplot(THEintact['intact-miscore'], hist=False);"
   ]
  },
  {
   "cell_type": "markdown",
   "metadata": {},
   "source": [
    "*Interaction types*"
   ]
  },
  {
   "cell_type": "code",
   "execution_count": 69,
   "metadata": {
    "ExecuteTime": {
     "end_time": "2019-10-30T13:15:04.607394Z",
     "start_time": "2019-10-30T13:15:04.201567Z"
    },
    "execution": {
     "iopub.execute_input": "2021-12-06T16:36:46.932848Z",
     "iopub.status.busy": "2021-12-06T16:36:46.932127Z",
     "iopub.status.idle": "2021-12-06T16:36:46.953845Z",
     "shell.execute_reply": "2021-12-06T16:36:46.952922Z",
     "shell.execute_reply.started": "2021-12-06T16:36:46.932567Z"
    },
    "hidden": true,
    "scrolled": true
   },
   "outputs": [
    {
     "data": {
      "text/plain": [
       "Interaction type(s)\n",
       "psi-mi:\"MI:0914\"(association)             21424\n",
       "psi-mi:\"MI:0915\"(physical association)    20113\n",
       "psi-mi:\"MI:0407\"(direct interaction)       1531\n",
       "dtype: int64"
      ]
     },
     "execution_count": 69,
     "metadata": {},
     "output_type": "execute_result"
    }
   ],
   "source": [
    "THEintact.groupby(by=\"Interaction type(s)\").size().sort_values(ascending=False)"
   ]
  },
  {
   "cell_type": "code",
   "execution_count": 70,
   "metadata": {
    "execution": {
     "iopub.execute_input": "2021-12-06T16:36:49.540660Z",
     "iopub.status.busy": "2021-12-06T16:36:49.540168Z",
     "iopub.status.idle": "2021-12-06T16:36:50.004422Z",
     "shell.execute_reply": "2021-12-06T16:36:50.003949Z",
     "shell.execute_reply.started": "2021-12-06T16:36:49.540576Z"
    }
   },
   "outputs": [
    {
     "data": {
      "image/png": "[encoded data removed]",
      "text/plain": [
       "<Figure size 1008x432 with 1 Axes>"
      ]
     },
     "metadata": {},
     "output_type": "display_data"
    }
   ],
   "source": [
    "for l in set(THEintact[\"Interaction type(s)\"]):\n",
    "    foo = dfIntAct1.loc[dfIntAct1['Interaction type(s)'] == l]\n",
    "    sns.distplot(foo['intact-miscore'], hist=False, label=l)\n",
    "plt.legend();"
   ]
  },
  {
   "cell_type": "markdown",
   "metadata": {},
   "source": [
    "*Detection methods*"
   ]
  },
  {
   "cell_type": "code",
   "execution_count": 71,
   "metadata": {
    "ExecuteTime": {
     "end_time": "2019-10-30T13:15:04.607394Z",
     "start_time": "2019-10-30T13:15:04.201567Z"
    },
    "execution": {
     "iopub.execute_input": "2021-12-06T16:36:51.127427Z",
     "iopub.status.busy": "2021-12-06T16:36:51.126936Z",
     "iopub.status.idle": "2021-12-06T16:36:51.150287Z",
     "shell.execute_reply": "2021-12-06T16:36:51.149362Z",
     "shell.execute_reply.started": "2021-12-06T16:36:51.127355Z"
    },
    "hidden": true,
    "scrolled": true
   },
   "outputs": [
    {
     "data": {
      "text/plain": [
       "Interaction detection method(s)\n",
       "psi-mi:\"MI:0676\"(tandem affinity purification)                         27980\n",
       "psi-mi:\"MI:0018\"(two hybrid)                                            3532\n",
       "psi-mi:\"MI:0397\"(two hybrid array)                                      3338\n",
       "psi-mi:\"MI:0111\"(dihydrofolate reductase reconstruction)                2625\n",
       "psi-mi:\"MI:0398\"(two hybrid pooling approach)                           1121\n",
       "psi-mi:\"MI:0112\"(ubiquitin reconstruction)                              1000\n",
       "psi-mi:\"MI:0007\"(anti tag coimmunoprecipitation)                         929\n",
       "psi-mi:\"MI:0096\"(pull down)                                              595\n",
       "psi-mi:\"MI:0089\"(protein array)                                          515\n",
       "psi-mi:\"MI:0363\"(inferred by author)                                     499\n",
       "psi-mi:\"MI:0081\"(peptide array)                                          284\n",
       "psi-mi:\"MI:0006\"(anti bait coimmunoprecipitation)                        122\n",
       "psi-mi:\"MI:0004\"(affinity chromatography technology)                     116\n",
       "psi-mi:\"MI:1356\"(validated two hybrid)                                    74\n",
       "psi-mi:\"MI:0809\"(bimolecular fluorescence complementation)                48\n",
       "psi-mi:\"MI:0030\"(cross-linking study)                                     38\n",
       "psi-mi:\"MI:0071\"(molecular sieving)                                       30\n",
       "psi-mi:\"MI:0946\"(miniaturized immunoprecipitation)                        26\n",
       "psi-mi:\"MI:0114\"(x-ray crystallography)                                   24\n",
       "psi-mi:\"MI:0107\"(surface plasmon resonance)                               17\n",
       "psi-mi:\"MI:0019\"(coimmunoprecipitation)                                   15\n",
       "psi-mi:\"MI:0031\"(protein cross-linking with a bifunctional reagent)       14\n",
       "psi-mi:\"MI:0077\"(nuclear magnetic resonance)                              13\n",
       "psi-mi:\"MI:0065\"(isothermal titration calorimetry)                        12\n",
       "psi-mi:\"MI:0047\"(far western blotting)                                     9\n",
       "psi-mi:\"MI:0069\"(mass spectrometry studies of complexes)                   9\n",
       "psi-mi:\"MI:0401\"(biochemical)                                              6\n",
       "psi-mi:\"MI:0027\"(cosedimentation)                                          5\n",
       "psi-mi:\"MI:0029\"(cosedimentation through density gradient)                 4\n",
       "psi-mi:\"MI:0090\"(protein complementation assay)                            4\n",
       "                                                                       ...  \n",
       "psi-mi:\"MI:0091\"(chromatography technology)                                4\n",
       "psi-mi:\"MI:0400\"(affinity technology)                                      4\n",
       "psi-mi:\"MI:0428\"(imaging technique)                                        4\n",
       "psi-mi:\"MI:0040\"(electron microscopy)                                      3\n",
       "psi-mi:\"MI:0419\"(gtpase assay)                                             3\n",
       "psi-mi:\"MI:0276\"(blue native page)                                         3\n",
       "psi-mi:\"MI:0084\"(phage display)                                            3\n",
       "psi-mi:\"MI:0226\"(ion exchange chromatography)                              2\n",
       "psi-mi:\"MI:0016\"(circular dichroism)                                       2\n",
       "psi-mi:\"MI:0017\"(classical fluorescence spectroscopy)                      2\n",
       "psi-mi:\"MI:0404\"(comigration in non denaturing gel electrophoresis)        2\n",
       "psi-mi:\"MI:0415\"(enzymatic study)                                          2\n",
       "psi-mi:\"MI:0045\"(experimental interaction detection)                       2\n",
       "psi-mi:\"MI:0411\"(enzyme linked immunosorbent assay)                        2\n",
       "psi-mi:\"MI:0053\"(fluorescence polarization spectroscopy)                   2\n",
       "psi-mi:\"MI:0410\"(3D electron microscopy)                                   2\n",
       "psi-mi:\"MI:0049\"(filter binding)                                           1\n",
       "psi-mi:\"MI:0051\"(fluorescence technology)                                  1\n",
       "psi-mi:\"MI:0424\"(protein kinase assay)                                     1\n",
       "psi-mi:\"MI:0416\"(fluorescence microscopy)                                  1\n",
       "psi-mi:\"MI:0067\"(light scattering)                                         1\n",
       "psi-mi:\"MI:0399\"(two hybrid fragment pooling approach)                     1\n",
       "psi-mi:\"MI:0020\"(transmission electron microscopy)                         1\n",
       "psi-mi:\"MI:0104\"(static light scattering)                                  1\n",
       "psi-mi:\"MI:0605\"(enzymatic footprinting)                                   1\n",
       "psi-mi:\"MI:0727\"(lexa b52 complementation)                                 1\n",
       "psi-mi:\"MI:0010\"(beta galactosidase complementation)                       1\n",
       "psi-mi:\"MI:0880\"(atpase assay)                                             1\n",
       "psi-mi:\"MI:0892\"(solid phase assay)                                        1\n",
       "psi-mi:\"MI:0726\"(reverse two hybrid)                                       1\n",
       "Length: 62, dtype: int64"
      ]
     },
     "execution_count": 71,
     "metadata": {},
     "output_type": "execute_result"
    }
   ],
   "source": [
    "THEintact.groupby(by=\"Interaction detection method(s)\").size().sort_values(ascending=False)"
   ]
  },
  {
   "cell_type": "code",
   "execution_count": 72,
   "metadata": {
    "execution": {
     "iopub.execute_input": "2021-12-06T16:36:51.892633Z",
     "iopub.status.busy": "2021-12-06T16:36:51.891889Z",
     "iopub.status.idle": "2021-12-06T16:36:52.207494Z",
     "shell.execute_reply": "2021-12-06T16:36:52.206922Z",
     "shell.execute_reply.started": "2021-12-06T16:36:51.892331Z"
    }
   },
   "outputs": [
    {
     "data": {
      "image/png": "[encoded data removed]",
      "text/plain": [
       "<Figure size 1008x432 with 1 Axes>"
      ]
     },
     "metadata": {},
     "output_type": "display_data"
    }
   ],
   "source": [
    "l1 = [\n",
    "    'psi-mi:\"MI:0007\"(anti tag coimmunoprecipitation)',\n",
    "    'psi-mi:\"MI:0006\"(anti bait coimmunoprecipitation)',\n",
    "]\n",
    "foo = THEintact.loc[THEintact['Interaction detection method(s)'].isin(l1)]\n",
    "\n",
    "l2 = [\n",
    "    'psi-mi:\"MI:0397\"(two hybrid array)', \n",
    "    'psi-mi:\"MI:1112\"(two hybrid prey pooling approach)',\n",
    "    'psi-mi:\"MI:1356\"(validated two hybrid)',\n",
    "    'psi-mi:\"MI:0018\"(two hybrid)'\n",
    "]\n",
    "bar = THEintact.loc[THEintact['Interaction detection method(s)'].isin(l2)]\n",
    "\n",
    "l3 = ['psi-mi:\"MI:0096\"(pull down)',]\n",
    "baar = THEintact.loc[THEintact['Interaction detection method(s)'].isin(l3)]\n",
    "\n",
    "l4 = ['psi-mi:\"MI:0676\"(tandem affinity purification)',]\n",
    "fool = THEintact.loc[THEintact['Interaction detection method(s)'].isin(l4)]\n",
    "\n",
    "sns.distplot(foo['intact-miscore'], hist=False, label='coimmunoprecipitation')\n",
    "sns.distplot(bar['intact-miscore'], hist=False, label='two hybrid')\n",
    "sns.distplot(baar['intact-miscore'], hist=False, label='pull down')\n",
    "sns.distplot(fool['intact-miscore'], hist=False, label='TAP')\n",
    "plt.legend();"
   ]
  },
  {
   "cell_type": "markdown",
   "metadata": {},
   "source": [
    "# Select interactions based on confidence score (we don't do that for yeast)"
   ]
  },
  {
   "cell_type": "code",
   "execution_count": 73,
   "metadata": {
    "execution": {
     "iopub.execute_input": "2021-12-06T16:37:07.675136Z",
     "iopub.status.busy": "2021-12-06T16:37:07.674378Z",
     "iopub.status.idle": "2021-12-06T16:37:07.679797Z",
     "shell.execute_reply": "2021-12-06T16:37:07.678583Z",
     "shell.execute_reply.started": "2021-12-06T16:37:07.674839Z"
    }
   },
   "outputs": [],
   "source": [
    "# threshold = 0.47\n",
    "\n",
    "# sns.distplot(THEintact['intact-miscore'], hist=False)\n",
    "# plt.axvline(threshold, color='red',linestyle='--')\n",
    "# plt.text(threshold+0.01, 14, '{}'.format(threshold), color='red', size=14);"
   ]
  },
  {
   "cell_type": "code",
   "execution_count": 74,
   "metadata": {
    "execution": {
     "iopub.execute_input": "2021-12-06T16:37:10.136785Z",
     "iopub.status.busy": "2021-12-06T16:37:10.136308Z",
     "iopub.status.idle": "2021-12-06T16:37:10.141129Z",
     "shell.execute_reply": "2021-12-06T16:37:10.139927Z",
     "shell.execute_reply.started": "2021-12-06T16:37:10.136717Z"
    }
   },
   "outputs": [],
   "source": [
    "# foo = THEintact.loc[THEintact['intact-miscore'] >= threshold]\n",
    "# print('A threshold of {} means keeping {:,} interactions out of {:,}'.format(threshold, len(foo), len(THEintact)))"
   ]
  },
  {
   "cell_type": "code",
   "execution_count": 75,
   "metadata": {
    "execution": {
     "iopub.execute_input": "2021-12-06T16:37:13.273697Z",
     "iopub.status.busy": "2021-12-06T16:37:13.272947Z",
     "iopub.status.idle": "2021-12-06T16:37:13.277800Z",
     "shell.execute_reply": "2021-12-06T16:37:13.276773Z",
     "shell.execute_reply.started": "2021-12-06T16:37:13.273378Z"
    }
   },
   "outputs": [],
   "source": [
    "# THEintact_2 = THEintact.loc[THEintact['intact-miscore'] >= threshold]\n",
    "# glance(THEintact_2)"
   ]
  },
  {
   "cell_type": "markdown",
   "metadata": {},
   "source": [
    "# Export tables with and without filtering on score\n"
   ]
  },
  {
   "cell_type": "markdown",
   "metadata": {},
   "source": [
    "- v1.0 used IntAct v20211015"
   ]
  },
  {
   "cell_type": "markdown",
   "metadata": {},
   "source": [
    "**Not filtered on score**"
   ]
  },
  {
   "cell_type": "code",
   "execution_count": 76,
   "metadata": {
    "execution": {
     "iopub.execute_input": "2021-12-06T16:38:00.724256Z",
     "iopub.status.busy": "2021-12-06T16:38:00.723499Z",
     "iopub.status.idle": "2021-12-06T16:38:00.903203Z",
     "shell.execute_reply": "2021-12-06T16:38:00.902294Z",
     "shell.execute_reply.started": "2021-12-06T16:38:00.723959Z"
    }
   },
   "outputs": [
    {
     "name": "stdout",
     "output_type": "stream",
     "text": [
      "DataFrame: 43,068 rows \t 3 columns\n"
     ]
    },
    {
     "data": {
      "text/html": [
       "<div>\n",
       "<style scoped>\n",
       "    .dataframe tbody tr th:only-of-type {\n",
       "        vertical-align: middle;\n",
       "    }\n",
       "\n",
       "    .dataframe tbody tr th {\n",
       "        vertical-align: top;\n",
       "    }\n",
       "\n",
       "    .dataframe thead th {\n",
       "        text-align: right;\n",
       "    }\n",
       "</style>\n",
       "<table border=\"1\" class=\"dataframe\">\n",
       "  <thead>\n",
       "    <tr style=\"text-align: right;\">\n",
       "      <th></th>\n",
       "      <th>uniprotID_A</th>\n",
       "      <th>uniprotID_B</th>\n",
       "      <th>intact-miscore</th>\n",
       "    </tr>\n",
       "  </thead>\n",
       "  <tbody>\n",
       "    <tr>\n",
       "      <th>0</th>\n",
       "      <td>P04050</td>\n",
       "      <td>P38827</td>\n",
       "      <td>0.22</td>\n",
       "    </tr>\n",
       "    <tr>\n",
       "      <th>1</th>\n",
       "      <td>P15019</td>\n",
       "      <td>P53228</td>\n",
       "      <td>0.22</td>\n",
       "    </tr>\n",
       "    <tr>\n",
       "      <th>2</th>\n",
       "      <td>P46970</td>\n",
       "      <td>Q03214</td>\n",
       "      <td>0.27</td>\n",
       "    </tr>\n",
       "    <tr>\n",
       "      <th>3</th>\n",
       "      <td>P17558</td>\n",
       "      <td>P38972</td>\n",
       "      <td>0.27</td>\n",
       "    </tr>\n",
       "    <tr>\n",
       "      <th>4</th>\n",
       "      <td>P53173</td>\n",
       "      <td>Q12234</td>\n",
       "      <td>0.27</td>\n",
       "    </tr>\n",
       "  </tbody>\n",
       "</table>\n",
       "</div>"
      ],
      "text/plain": [
       "  uniprotID_A uniprotID_B  intact-miscore\n",
       "0      P04050      P38827            0.22\n",
       "1      P15019      P53228            0.22\n",
       "2      P46970      Q03214            0.27\n",
       "3      P17558      P38972            0.27\n",
       "4      P53173      Q12234            0.27"
      ]
     },
     "metadata": {},
     "output_type": "display_data"
    }
   ],
   "source": [
    "intact_export = THEintact.copy()\n",
    "\n",
    "intact_export = intact_export[[\n",
    "    'uniprotID_A',\n",
    "    'uniprotID_B',\n",
    "    'intact-miscore'\n",
    "]].reset_index(drop=True)\n",
    "\n",
    "glance(intact_export)"
   ]
  },
  {
   "cell_type": "code",
   "execution_count": 77,
   "metadata": {
    "execution": {
     "iopub.execute_input": "2021-12-06T16:38:05.842687Z",
     "iopub.status.busy": "2021-12-06T16:38:05.842153Z",
     "iopub.status.idle": "2021-12-06T16:38:05.847874Z",
     "shell.execute_reply": "2021-12-06T16:38:05.846741Z",
     "shell.execute_reply.started": "2021-12-06T16:38:05.842616Z"
    }
   },
   "outputs": [],
   "source": [
    "versionINTACTall = '1-0'"
   ]
  },
  {
   "cell_type": "code",
   "execution_count": 78,
   "metadata": {
    "execution": {
     "iopub.execute_input": "2021-12-06T16:38:41.624985Z",
     "iopub.status.busy": "2021-12-06T16:38:41.624533Z",
     "iopub.status.idle": "2021-12-06T16:38:41.743853Z",
     "shell.execute_reply": "2021-12-06T16:38:41.742522Z",
     "shell.execute_reply.started": "2021-12-06T16:38:41.624920Z"
    }
   },
   "outputs": [],
   "source": [
    "logVersions['IntAct']['preprocessed']['yeast'] = versionINTACTall\n",
    "\n",
    "dump_LogVersions(logVersions)"
   ]
  },
  {
   "cell_type": "code",
   "execution_count": 79,
   "metadata": {
    "ExecuteTime": {
     "end_time": "2019-10-28T15:09:15.279947Z",
     "start_time": "2019-10-28T15:09:15.257470Z"
    },
    "execution": {
     "iopub.execute_input": "2021-12-06T16:39:01.152779Z",
     "iopub.status.busy": "2021-12-06T16:39:01.152012Z",
     "iopub.status.idle": "2021-12-06T16:39:01.626477Z",
     "shell.execute_reply": "2021-12-06T16:39:01.625697Z",
     "shell.execute_reply.started": "2021-12-06T16:39:01.152459Z"
    }
   },
   "outputs": [],
   "source": [
    "intact_export.to_pickle(os.path.join(cfg['outputPreprocessingIntAct'], \n",
    "                                     \"intact_yeast_allScores_v{}.pkl\".format(versionINTACTall)))\n"
   ]
  },
  {
   "cell_type": "markdown",
   "metadata": {},
   "source": [
    "## Create an index of the number of interactions per protein\n",
    "\n",
    "Based on the unfiltered dataset"
   ]
  },
  {
   "cell_type": "code",
   "execution_count": 80,
   "metadata": {
    "execution": {
     "iopub.execute_input": "2021-12-06T16:39:16.622867Z",
     "iopub.status.busy": "2021-12-06T16:39:16.621954Z",
     "iopub.status.idle": "2021-12-06T16:39:16.680459Z",
     "shell.execute_reply": "2021-12-06T16:39:16.679620Z",
     "shell.execute_reply.started": "2021-12-06T16:39:16.622406Z"
    }
   },
   "outputs": [
    {
     "name": "stdout",
     "output_type": "stream",
     "text": [
      "DataFrame: 43,068 rows \t 3 columns\n"
     ]
    },
    {
     "data": {
      "text/html": [
       "<div>\n",
       "<style scoped>\n",
       "    .dataframe tbody tr th:only-of-type {\n",
       "        vertical-align: middle;\n",
       "    }\n",
       "\n",
       "    .dataframe tbody tr th {\n",
       "        vertical-align: top;\n",
       "    }\n",
       "\n",
       "    .dataframe thead th {\n",
       "        text-align: right;\n",
       "    }\n",
       "</style>\n",
       "<table border=\"1\" class=\"dataframe\">\n",
       "  <thead>\n",
       "    <tr style=\"text-align: right;\">\n",
       "      <th></th>\n",
       "      <th>uniprotID_A</th>\n",
       "      <th>uniprotID_B</th>\n",
       "      <th>intact-miscore</th>\n",
       "    </tr>\n",
       "  </thead>\n",
       "  <tbody>\n",
       "    <tr>\n",
       "      <th>0</th>\n",
       "      <td>P04050</td>\n",
       "      <td>P38827</td>\n",
       "      <td>0.22</td>\n",
       "    </tr>\n",
       "    <tr>\n",
       "      <th>1</th>\n",
       "      <td>P15019</td>\n",
       "      <td>P53228</td>\n",
       "      <td>0.22</td>\n",
       "    </tr>\n",
       "    <tr>\n",
       "      <th>2</th>\n",
       "      <td>P46970</td>\n",
       "      <td>Q03214</td>\n",
       "      <td>0.27</td>\n",
       "    </tr>\n",
       "    <tr>\n",
       "      <th>3</th>\n",
       "      <td>P17558</td>\n",
       "      <td>P38972</td>\n",
       "      <td>0.27</td>\n",
       "    </tr>\n",
       "    <tr>\n",
       "      <th>4</th>\n",
       "      <td>P53173</td>\n",
       "      <td>Q12234</td>\n",
       "      <td>0.27</td>\n",
       "    </tr>\n",
       "  </tbody>\n",
       "</table>\n",
       "</div>"
      ],
      "text/plain": [
       "  uniprotID_A uniprotID_B  intact-miscore\n",
       "0      P04050      P38827            0.22\n",
       "1      P15019      P53228            0.22\n",
       "2      P46970      Q03214            0.27\n",
       "3      P17558      P38972            0.27\n",
       "4      P53173      Q12234            0.27"
      ]
     },
     "metadata": {},
     "output_type": "display_data"
    }
   ],
   "source": [
    "intact_export = pd.read_pickle(\n",
    "    os.path.join(cfg['outputPreprocessingIntAct'], \n",
    "                 \"intact_yeast_allScores_v{}.pkl\".format(logVersions['IntAct']['preprocessed']['yeast']))\n",
    ")\n",
    "glance(intact_export)"
   ]
  },
  {
   "cell_type": "code",
   "execution_count": 81,
   "metadata": {
    "execution": {
     "iopub.execute_input": "2021-12-06T16:39:19.074086Z",
     "iopub.status.busy": "2021-12-06T16:39:19.073581Z",
     "iopub.status.idle": "2021-12-06T16:39:19.084573Z",
     "shell.execute_reply": "2021-12-06T16:39:19.083420Z",
     "shell.execute_reply.started": "2021-12-06T16:39:19.074009Z"
    }
   },
   "outputs": [],
   "source": [
    "allIDs_all = pd.concat([intact_export.uniprotID_A,intact_export.uniprotID_B])"
   ]
  },
  {
   "cell_type": "code",
   "execution_count": 82,
   "metadata": {
    "execution": {
     "iopub.execute_input": "2021-12-06T16:39:20.029625Z",
     "iopub.status.busy": "2021-12-06T16:39:20.028972Z",
     "iopub.status.idle": "2021-12-06T16:39:20.062560Z",
     "shell.execute_reply": "2021-12-06T16:39:20.061598Z",
     "shell.execute_reply.started": "2021-12-06T16:39:20.029360Z"
    }
   },
   "outputs": [
    {
     "name": "stdout",
     "output_type": "stream",
     "text": [
      "\n",
      "-- P11484: <class 'int'>\n",
      "3285\n",
      "\n",
      "-- P10591: <class 'int'>\n",
      "2524\n",
      "\n",
      "-- P32589: <class 'int'>\n",
      "1959\n",
      "\n",
      "-- P10592: <class 'int'>\n",
      "1957\n",
      "\n",
      "-- P40150: <class 'int'>\n",
      "1243\n"
     ]
    }
   ],
   "source": [
    "Ninter_perProtein = allIDs_all.value_counts().to_dict()\n",
    "glance(Ninter_perProtein)"
   ]
  },
  {
   "cell_type": "markdown",
   "metadata": {},
   "source": [
    "**Export**"
   ]
  },
  {
   "cell_type": "code",
   "execution_count": 83,
   "metadata": {
    "execution": {
     "iopub.execute_input": "2021-12-06T16:39:30.001257Z",
     "iopub.status.busy": "2021-12-06T16:39:30.000489Z",
     "iopub.status.idle": "2021-12-06T16:39:30.042160Z",
     "shell.execute_reply": "2021-12-06T16:39:30.041166Z",
     "shell.execute_reply.started": "2021-12-06T16:39:30.000958Z"
    }
   },
   "outputs": [],
   "source": [
    "path0 = os.path.join(\n",
    "    cfg['outputPreprocessingIntAct'], \n",
    "    \"Ninter_perProtein_intact_yeast_allScores_v{}.pkl\".format(logVersions['IntAct']['preprocessed']['yeast'])\n",
    ")\n",
    "\n",
    "with open(path0, 'wb') as f:\n",
    "    pkl.dump(Ninter_perProtein, f, protocol=pkl.HIGHEST_PROTOCOL)"
   ]
  },
  {
   "cell_type": "markdown",
   "metadata": {
    "execution": {
     "iopub.execute_input": "2021-08-18T12:06:11.803243Z",
     "iopub.status.busy": "2021-08-18T12:06:11.802491Z",
     "iopub.status.idle": "2021-08-18T12:06:11.808437Z",
     "shell.execute_reply": "2021-08-18T12:06:11.807238Z",
     "shell.execute_reply.started": "2021-08-18T12:06:11.802949Z"
    }
   },
   "source": [
    "## Create \"official\" list of hubs\n",
    "\n",
    "Based on the literature, definition of top 20% in the unfiltered (but cleaned) dataset"
   ]
  },
  {
   "cell_type": "code",
   "execution_count": 84,
   "metadata": {
    "execution": {
     "iopub.execute_input": "2021-12-06T16:39:55.349296Z",
     "iopub.status.busy": "2021-12-06T16:39:55.348566Z",
     "iopub.status.idle": "2021-12-06T16:39:55.476884Z",
     "shell.execute_reply": "2021-12-06T16:39:55.475603Z",
     "shell.execute_reply.started": "2021-12-06T16:39:55.349021Z"
    }
   },
   "outputs": [
    {
     "name": "stdout",
     "output_type": "stream",
     "text": [
      "count    5679.000000\n",
      "mean       15.167459\n",
      "std        75.410818\n",
      "min         1.000000\n",
      "50%         7.000000\n",
      "80%        17.000000\n",
      "max      3285.000000\n",
      "dtype: float64\n",
      "\n"
     ]
    }
   ],
   "source": [
    "foo = allIDs_all.value_counts()\n",
    "\n",
    "print(foo.describe(percentiles = [0.8]))\n",
    "\n",
    "print(f\"\")"
   ]
  },
  {
   "cell_type": "markdown",
   "metadata": {},
   "source": [
    "**Which happens to mean >= 17 interactions**"
   ]
  },
  {
   "cell_type": "code",
   "execution_count": 85,
   "metadata": {
    "execution": {
     "iopub.execute_input": "2021-12-06T16:40:20.674286Z",
     "iopub.status.busy": "2021-12-06T16:40:20.673506Z",
     "iopub.status.idle": "2021-12-06T16:40:20.683520Z",
     "shell.execute_reply": "2021-12-06T16:40:20.682477Z",
     "shell.execute_reply.started": "2021-12-06T16:40:20.673989Z"
    }
   },
   "outputs": [
    {
     "name": "stdout",
     "output_type": "stream",
     "text": [
      "len: 1195\n",
      "['P11484', 'P10591', 'P32589', 'P10592', 'P40150']\n"
     ]
    }
   ],
   "source": [
    "top20p = list(foo.loc[foo >= 17].index)\n",
    "glance(top20p)"
   ]
  },
  {
   "cell_type": "markdown",
   "metadata": {
    "execution": {
     "iopub.execute_input": "2021-08-23T10:16:13.599807Z",
     "iopub.status.busy": "2021-08-23T10:16:13.599067Z",
     "iopub.status.idle": "2021-08-23T10:16:13.604800Z",
     "shell.execute_reply": "2021-08-23T10:16:13.603540Z",
     "shell.execute_reply.started": "2021-08-23T10:16:13.599487Z"
    }
   },
   "source": [
    "**Export**"
   ]
  },
  {
   "cell_type": "code",
   "execution_count": 86,
   "metadata": {
    "execution": {
     "iopub.execute_input": "2021-12-06T16:40:55.449344Z",
     "iopub.status.busy": "2021-12-06T16:40:55.448599Z",
     "iopub.status.idle": "2021-12-06T16:40:55.460377Z",
     "shell.execute_reply": "2021-12-06T16:40:55.459372Z",
     "shell.execute_reply.started": "2021-12-06T16:40:55.449053Z"
    }
   },
   "outputs": [],
   "source": [
    "path0 = os.path.join(\n",
    "    cfg['outputPreprocessingIntAct'], \n",
    "    \"listHubs_yeast_20p_v{}.pkl\".format(logVersions['IntAct']['preprocessed']['yeast'])\n",
    ")\n",
    "\n",
    "with open(path0, 'wb') as f:\n",
    "    pkl.dump(top20p, f, protocol=pkl.HIGHEST_PROTOCOL)"
   ]
  },
  {
   "cell_type": "code",
   "execution_count": 87,
   "metadata": {
    "execution": {
     "iopub.execute_input": "2021-12-06T16:40:56.500365Z",
     "iopub.status.busy": "2021-12-06T16:40:56.499725Z",
     "iopub.status.idle": "2021-12-06T16:40:56.509183Z",
     "shell.execute_reply": "2021-12-06T16:40:56.508146Z",
     "shell.execute_reply.started": "2021-12-06T16:40:56.500111Z"
    }
   },
   "outputs": [
    {
     "data": {
      "text/plain": [
       "'/rds/user/ll582/hpc-work/PPIdata/output/1_preprocessing/IntAct/listHubs_yeast_20p_v1-0.pkl'"
      ]
     },
     "execution_count": 87,
     "metadata": {},
     "output_type": "execute_result"
    }
   ],
   "source": [
    "path0"
   ]
  },
  {
   "cell_type": "code",
   "execution_count": null,
   "metadata": {},
   "outputs": [],
   "source": []
  }
 ],
 "metadata": {
  "kernelspec": {
   "display_name": "Python3 (PPI)",
   "language": "python",
   "name": "ppi"
  },
  "language_info": {
   "codemirror_mode": {
    "name": "ipython",
    "version": 3
   },
   "file_extension": ".py",
   "mimetype": "text/x-python",
   "name": "python",
   "nbconvert_exporter": "python",
   "pygments_lexer": "ipython3",
   "version": "3.7.3"
  },
  "toc": {
   "base_numbering": 1,
   "nav_menu": {},
   "number_sections": true,
   "sideBar": true,
   "skip_h1_title": true,
   "title_cell": "Table of Contents",
   "title_sidebar": "Contents",
   "toc_cell": false,
   "toc_position": {
    "height": "calc(100% - 180px)",
    "left": "10px",
    "top": "150px",
    "width": "342px"
   },
   "toc_section_display": true,
   "toc_window_display": true
  },
  "toc-autonumbering": true,
  "varInspector": {
   "cols": {
    "lenName": 16,
    "lenType": 16,
    "lenVar": 40
   },
   "kernels_config": {
    "python": {
     "delete_cmd_postfix": "",
     "delete_cmd_prefix": "del ",
     "library": "var_list.py",
     "varRefreshCmd": "print(var_dic_list())"
    },
    "r": {
     "delete_cmd_postfix": ") ",
     "delete_cmd_prefix": "rm(",
     "library": "var_list.r",
     "varRefreshCmd": "cat(var_dic_list()) "
    }
   },
   "types_to_exclude": [
    "module",
    "function",
    "builtin_function_or_method",
    "instance",
    "_Feature"
   ],
   "window_display": false
  }
 },
 "nbformat": 4,
 "nbformat_minor": 4
}
