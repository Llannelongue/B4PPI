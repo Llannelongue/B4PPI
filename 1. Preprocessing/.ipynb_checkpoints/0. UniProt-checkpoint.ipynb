{
 "cells": [
  {
   "cell_type": "markdown",
   "metadata": {},
   "source": [
    "*System requirements: 4Go*\n",
    "\n",
    "# API requests to UniProt\n",
    "\n",
    "Ressources:\n",
    "https://www.uniprot.org/help/api_queries \n",
    "- https://www.uniprot.org/help/query-fields\n",
    " - https://www.uniprot.org/help/api_idmapping\n",
    " - https://www.uniprot.org/docs/dbxref\n",
    " - https://www.uniprot.org/taxonomy/\n",
    "  \n",
    "- https://www.uniprot.org/help/uniprotkb_column_names\n",
    "\n",
    "https://www.uniprot.org/docs/userman.htm#linetypes"
   ]
  },
  {
   "cell_type": "code",
   "execution_count": 1,
   "metadata": {
    "ExecuteTime": {
     "end_time": "2019-10-28T10:21:01.363065Z",
     "start_time": "2019-10-28T10:20:41.988439Z"
    },
    "execution": {
     "iopub.execute_input": "2022-01-10T15:59:20.751462Z",
     "iopub.status.busy": "2022-01-10T15:59:20.750630Z",
     "iopub.status.idle": "2022-01-10T15:59:43.215946Z",
     "shell.execute_reply": "2022-01-10T15:59:43.214248Z",
     "shell.execute_reply.started": "2022-01-10T15:59:20.750967Z"
    }
   },
   "outputs": [],
   "source": [
    "import requests\n",
    "import os\n",
    "import pandas as pd\n",
    "import re\n",
    "import regex as re2\n",
    "from sklearn.feature_extraction.text import CountVectorizer\n",
    "from io import StringIO\n",
    "import numpy as np\n",
    "import pickle\n",
    "import matplotlib.pyplot as plt\n",
    "import seaborn as sns\n",
    "%matplotlib inline\n",
    "\n",
    "from toolbox import *"
   ]
  },
  {
   "cell_type": "code",
   "execution_count": 2,
   "metadata": {
    "ExecuteTime": {
     "end_time": "2019-10-28T14:18:48.400134Z",
     "start_time": "2019-10-28T14:18:48.371893Z"
    },
    "execution": {
     "iopub.execute_input": "2022-01-10T15:59:43.218992Z",
     "iopub.status.busy": "2022-01-10T15:59:43.218465Z",
     "iopub.status.idle": "2022-01-10T15:59:43.252509Z",
     "shell.execute_reply": "2022-01-10T15:59:43.251634Z",
     "shell.execute_reply.started": "2022-01-10T15:59:43.218813Z"
    }
   },
   "outputs": [],
   "source": [
    "cfg = load_cfg()\n",
    "\n",
    "logVersions = load_LogVersions()"
   ]
  },
  {
   "cell_type": "markdown",
   "metadata": {},
   "source": [
    "# Download data"
   ]
  },
  {
   "cell_type": "markdown",
   "metadata": {},
   "source": [
    "- v1-1 is initial one, with BioProcess, MolFunction, SubcellLoc + Bgee id\n",
    "- v2-1 is 28/10/19, with domain information on top\n",
    "- v3-1 is 08/12/2019 with sequence information on top\n",
    "- v3.3 is 17/08/2020\n",
    "- v3.4 is 09/11/2021"
   ]
  },
  {
   "cell_type": "code",
   "execution_count": 3,
   "metadata": {
    "ExecuteTime": {
     "end_time": "2019-10-28T10:21:01.434613Z",
     "start_time": "2019-10-28T10:21:01.431443Z"
    },
    "execution": {
     "iopub.execute_input": "2021-11-09T17:59:51.336847Z",
     "iopub.status.busy": "2021-11-09T17:59:51.336686Z",
     "iopub.status.idle": "2021-11-09T17:59:51.340235Z",
     "shell.execute_reply": "2021-11-09T17:59:51.339338Z",
     "shell.execute_reply.started": "2021-11-09T17:59:51.336828Z"
    }
   },
   "outputs": [],
   "source": [
    "version_uniprot = \"3-4\""
   ]
  },
  {
   "cell_type": "code",
   "execution_count": 4,
   "metadata": {
    "ExecuteTime": {
     "end_time": "2019-10-28T10:33:34.630730Z",
     "start_time": "2019-10-28T10:33:34.627580Z"
    },
    "execution": {
     "iopub.execute_input": "2021-11-09T17:59:51.576626Z",
     "iopub.status.busy": "2021-11-09T17:59:51.576505Z",
     "iopub.status.idle": "2021-11-09T17:59:51.581407Z",
     "shell.execute_reply": "2021-11-09T17:59:51.580430Z",
     "shell.execute_reply.started": "2021-11-09T17:59:51.576609Z"
    }
   },
   "outputs": [
    {
     "name": "stdout",
     "output_type": "stream",
     "text": [
      "https://www.uniprot.org/uniprot/?query=active:yes+AND+reviewed:yes+AND+organism:9606&format=tab&columns=id,go(biological process),go(cellular component),go(molecular function),database(bgee),feature(DOMAIN EXTENT),feature(MOTIF),sequence\n"
     ]
    }
   ],
   "source": [
    "baseRequest= \"https://www.uniprot.org/uniprot/?\"\n",
    "\n",
    "requestParameters = {\n",
    "    \"query\":[\n",
    "        \"active:yes\", # not obsolete\n",
    "        \"reviewed:yes\", # Swiss-prot\n",
    "        \"organism:9606\" # Human only\n",
    "    ],\n",
    "    \"format\":[\"tab\"],\n",
    "    \"columns\":[\"id,\"+\n",
    "               \"go(biological process),\"+\n",
    "               \"go(cellular component),\"+\n",
    "               \"go(molecular function),\"+\n",
    "#                \"database(ensembl),\"+\n",
    "               \"database(bgee),\"+\n",
    "               \"feature(DOMAIN EXTENT),\"+\n",
    "               \"feature(MOTIF),\"+\n",
    "               \"sequence\"\n",
    "              ]\n",
    "}\n",
    "\n",
    "baseRequest += '&'.join(['%s=%s' % (k,\"+AND+\".join(v)) for k,v in requestParameters.items()])\n",
    "\n",
    "print(baseRequest)"
   ]
  },
  {
   "cell_type": "code",
   "execution_count": 5,
   "metadata": {
    "ExecuteTime": {
     "end_time": "2019-10-28T10:34:31.671424Z",
     "start_time": "2019-10-28T10:33:36.296144Z"
    },
    "execution": {
     "iopub.execute_input": "2021-11-09T17:59:51.743721Z",
     "iopub.status.busy": "2021-11-09T17:59:51.743607Z",
     "iopub.status.idle": "2021-11-09T18:00:23.444065Z",
     "shell.execute_reply": "2021-11-09T18:00:23.443175Z",
     "shell.execute_reply.started": "2021-11-09T17:59:51.743705Z"
    }
   },
   "outputs": [],
   "source": [
    "results = requests.get(baseRequest)"
   ]
  },
  {
   "cell_type": "code",
   "execution_count": 6,
   "metadata": {
    "ExecuteTime": {
     "end_time": "2019-10-28T10:32:32.198209Z",
     "start_time": "2019-10-28T10:32:32.192335Z"
    },
    "execution": {
     "iopub.execute_input": "2021-11-09T18:00:23.445603Z",
     "iopub.status.busy": "2021-11-09T18:00:23.445476Z",
     "iopub.status.idle": "2021-11-09T18:00:23.448735Z",
     "shell.execute_reply": "2021-11-09T18:00:23.448262Z",
     "shell.execute_reply.started": "2021-11-09T18:00:23.445585Z"
    }
   },
   "outputs": [],
   "source": [
    "# Sanity check\n",
    "assert results.ok"
   ]
  },
  {
   "cell_type": "code",
   "execution_count": 7,
   "metadata": {
    "ExecuteTime": {
     "end_time": "2019-10-28T10:35:12.296363Z",
     "start_time": "2019-10-28T10:35:12.105956Z"
    },
    "execution": {
     "iopub.execute_input": "2021-11-09T18:00:23.449398Z",
     "iopub.status.busy": "2021-11-09T18:00:23.449296Z",
     "iopub.status.idle": "2021-11-09T18:00:23.764082Z",
     "shell.execute_reply": "2021-11-09T18:00:23.763573Z",
     "shell.execute_reply.started": "2021-11-09T18:00:23.449382Z"
    }
   },
   "outputs": [
    {
     "name": "stdout",
     "output_type": "stream",
     "text": [
      "DataFrame: 20,386 rows \t 8 columns\n"
     ]
    },
    {
     "data": {
      "text/html": [
       "<div>\n",
       "<style scoped>\n",
       "    .dataframe tbody tr th:only-of-type {\n",
       "        vertical-align: middle;\n",
       "    }\n",
       "\n",
       "    .dataframe tbody tr th {\n",
       "        vertical-align: top;\n",
       "    }\n",
       "\n",
       "    .dataframe thead th {\n",
       "        text-align: right;\n",
       "    }\n",
       "</style>\n",
       "<table border=\"1\" class=\"dataframe\">\n",
       "  <thead>\n",
       "    <tr style=\"text-align: right;\">\n",
       "      <th></th>\n",
       "      <th>Entry</th>\n",
       "      <th>Gene ontology (biological process)</th>\n",
       "      <th>Gene ontology (cellular component)</th>\n",
       "      <th>Gene ontology (molecular function)</th>\n",
       "      <th>Cross-reference (bgee)</th>\n",
       "      <th>Domain [FT]</th>\n",
       "      <th>Motif</th>\n",
       "      <th>Sequence</th>\n",
       "    </tr>\n",
       "  </thead>\n",
       "  <tbody>\n",
       "    <tr>\n",
       "      <th>0</th>\n",
       "      <td>Q00266</td>\n",
       "      <td>methionine catabolic process [GO:0009087]; met...</td>\n",
       "      <td>cytosol [GO:0005829]</td>\n",
       "      <td>ATP binding [GO:0005524]; identical protein bi...</td>\n",
       "      <td>ENSG00000151224;</td>\n",
       "      <td>NaN</td>\n",
       "      <td>NaN</td>\n",
       "      <td>MNGPVDGLCDHSLSEGVFMFTSESVGEGHPDKICDQISDAVLDAHL...</td>\n",
       "    </tr>\n",
       "    <tr>\n",
       "      <th>1</th>\n",
       "      <td>Q8NB16</td>\n",
       "      <td>activation of JUN kinase activity [GO:0007257]...</td>\n",
       "      <td>cell junction [GO:0030054]; cytoplasm [GO:0005...</td>\n",
       "      <td>ATP binding [GO:0005524]; identical protein bi...</td>\n",
       "      <td>ENSG00000168404;</td>\n",
       "      <td>DOMAIN 194..469;  /note=\"Protein kinase\";  /ev...</td>\n",
       "      <td>NaN</td>\n",
       "      <td>MENLKHIITLGQVIHKRCEEMKYCKKQCRRLGHRVLGLIKPLEMLQ...</td>\n",
       "    </tr>\n",
       "    <tr>\n",
       "      <th>2</th>\n",
       "      <td>O94851</td>\n",
       "      <td>actin filament depolymerization [GO:0030042]; ...</td>\n",
       "      <td>nucleus [GO:0005634]</td>\n",
       "      <td>actin binding [GO:0003779]; FAD binding [GO:00...</td>\n",
       "      <td>ENSG00000133816;</td>\n",
       "      <td>DOMAIN 516..619;  /note=\"Calponin-homology (CH...</td>\n",
       "      <td>MOTIF 660..681;  /note=\"Nuclear localization s...</td>\n",
       "      <td>MGENEDEKQAQAGQVFENFVQASTCKGTLQAFNILTRHLDLDPLDH...</td>\n",
       "    </tr>\n",
       "    <tr>\n",
       "      <th>3</th>\n",
       "      <td>Q8TDZ2</td>\n",
       "      <td>actin filament bundle assembly [GO:0051017]; a...</td>\n",
       "      <td>actin cytoskeleton [GO:0015629]; cytoplasm [GO...</td>\n",
       "      <td>actin binding [GO:0003779]; actin filament bin...</td>\n",
       "      <td>ENSG00000135596;</td>\n",
       "      <td>DOMAIN 508..612;  /note=\"Calponin-homology (CH...</td>\n",
       "      <td>NaN</td>\n",
       "      <td>MASPTSTNPAHAHFESFLQAQLCQDVLSSFQELCGALGLEPGGGLP...</td>\n",
       "    </tr>\n",
       "    <tr>\n",
       "      <th>4</th>\n",
       "      <td>Q9NPJ6</td>\n",
       "      <td>positive regulation of transcription, DNA-temp...</td>\n",
       "      <td>core mediator complex [GO:0070847]; mediator c...</td>\n",
       "      <td>nuclear receptor coactivator activity [GO:0030...</td>\n",
       "      <td>ENSG00000136146;</td>\n",
       "      <td>NaN</td>\n",
       "      <td>NaN</td>\n",
       "      <td>MAASSSGEKEKERLGGGLGVAGGNSTRERLLSALEDLEVLSRELIE...</td>\n",
       "    </tr>\n",
       "  </tbody>\n",
       "</table>\n",
       "</div>"
      ],
      "text/plain": [
       "    Entry                 Gene ontology (biological process)  \\\n",
       "0  Q00266  methionine catabolic process [GO:0009087]; met...   \n",
       "1  Q8NB16  activation of JUN kinase activity [GO:0007257]...   \n",
       "2  O94851  actin filament depolymerization [GO:0030042]; ...   \n",
       "3  Q8TDZ2  actin filament bundle assembly [GO:0051017]; a...   \n",
       "4  Q9NPJ6  positive regulation of transcription, DNA-temp...   \n",
       "\n",
       "                  Gene ontology (cellular component)  \\\n",
       "0                               cytosol [GO:0005829]   \n",
       "1  cell junction [GO:0030054]; cytoplasm [GO:0005...   \n",
       "2                               nucleus [GO:0005634]   \n",
       "3  actin cytoskeleton [GO:0015629]; cytoplasm [GO...   \n",
       "4  core mediator complex [GO:0070847]; mediator c...   \n",
       "\n",
       "                  Gene ontology (molecular function) Cross-reference (bgee)  \\\n",
       "0  ATP binding [GO:0005524]; identical protein bi...       ENSG00000151224;   \n",
       "1  ATP binding [GO:0005524]; identical protein bi...       ENSG00000168404;   \n",
       "2  actin binding [GO:0003779]; FAD binding [GO:00...       ENSG00000133816;   \n",
       "3  actin binding [GO:0003779]; actin filament bin...       ENSG00000135596;   \n",
       "4  nuclear receptor coactivator activity [GO:0030...       ENSG00000136146;   \n",
       "\n",
       "                                         Domain [FT]  \\\n",
       "0                                                NaN   \n",
       "1  DOMAIN 194..469;  /note=\"Protein kinase\";  /ev...   \n",
       "2  DOMAIN 516..619;  /note=\"Calponin-homology (CH...   \n",
       "3  DOMAIN 508..612;  /note=\"Calponin-homology (CH...   \n",
       "4                                                NaN   \n",
       "\n",
       "                                               Motif  \\\n",
       "0                                                NaN   \n",
       "1                                                NaN   \n",
       "2  MOTIF 660..681;  /note=\"Nuclear localization s...   \n",
       "3                                                NaN   \n",
       "4                                                NaN   \n",
       "\n",
       "                                            Sequence  \n",
       "0  MNGPVDGLCDHSLSEGVFMFTSESVGEGHPDKICDQISDAVLDAHL...  \n",
       "1  MENLKHIITLGQVIHKRCEEMKYCKKQCRRLGHRVLGLIKPLEMLQ...  \n",
       "2  MGENEDEKQAQAGQVFENFVQASTCKGTLQAFNILTRHLDLDPLDH...  \n",
       "3  MASPTSTNPAHAHFESFLQAQLCQDVLSSFQELCGALGLEPGGGLP...  \n",
       "4  MAASSSGEKEKERLGGGLGVAGGNSTRERLLSALEDLEVLSRELIE...  "
      ]
     },
     "metadata": {},
     "output_type": "display_data"
    }
   ],
   "source": [
    "uniprotEnriched1 = pd.read_csv(StringIO(results.content.decode(\"utf-8\")), sep=\"\\t\")\n",
    "\n",
    "glance(uniprotEnriched1)"
   ]
  },
  {
   "cell_type": "markdown",
   "metadata": {},
   "source": [
    "---\n",
    "**Clean columns**"
   ]
  },
  {
   "cell_type": "code",
   "execution_count": 8,
   "metadata": {
    "ExecuteTime": {
     "end_time": "2019-10-28T10:35:55.946887Z",
     "start_time": "2019-10-28T10:35:55.937893Z"
    },
    "execution": {
     "iopub.execute_input": "2021-11-09T18:00:23.764719Z",
     "iopub.status.busy": "2021-11-09T18:00:23.764615Z",
     "iopub.status.idle": "2021-11-09T18:00:23.775035Z",
     "shell.execute_reply": "2021-11-09T18:00:23.774522Z",
     "shell.execute_reply.started": "2021-11-09T18:00:23.764704Z"
    }
   },
   "outputs": [
    {
     "data": {
      "text/plain": [
       "0    ENSG00000151224\n",
       "1    ENSG00000168404\n",
       "2    ENSG00000133816\n",
       "3    ENSG00000135596\n",
       "4    ENSG00000136146\n",
       "Name: Cross-reference (bgee), dtype: object"
      ]
     },
     "execution_count": 8,
     "metadata": {},
     "output_type": "execute_result"
    }
   ],
   "source": [
    "uniprotEnriched1['Cross-reference (bgee)'] = uniprotEnriched1['Cross-reference (bgee)'].str.replace(';','')\n",
    "\n",
    "uniprotEnriched1['Cross-reference (bgee)'][:5]"
   ]
  },
  {
   "cell_type": "code",
   "execution_count": 9,
   "metadata": {
    "execution": {
     "iopub.execute_input": "2021-11-09T18:00:23.775509Z",
     "iopub.status.busy": "2021-11-09T18:00:23.775410Z",
     "iopub.status.idle": "2021-11-09T18:00:23.800404Z",
     "shell.execute_reply": "2021-11-09T18:00:23.799426Z",
     "shell.execute_reply.started": "2021-11-09T18:00:23.775495Z"
    }
   },
   "outputs": [
    {
     "name": "stdout",
     "output_type": "stream",
     "text": [
      "MNGPVDGLCDHSLSEGVFMFTSESVGEGHPDKICDQISDAVLDAHLKQDPNAKVACETVCKTGMVLLCGEITSMAMVDYQRVVRDTIKHIGYDDSAKGFDFKTCNVLVALEQQSPDIAQCVHLDRNEEDVGAGDQGLMFGYATDETEECMPLTIILAHKLNARMADLRRSGLLPWLRPDSKTQVTVQYMQDNGAVIPVRIHTIVISVQHNEDITLEEMRRALKEQVIRAVVPAKYLDEDTVYHLQPSGRFVIGGPQGDAGVTGRKIIVDTYGGWGAHGGGAFSGKDYTKVDRSAAYAARWVAKSLVKAGLCRRVLVQVSYAIGVAEPLSISIFTYGTSQKTERELLDVVHKNFDLRPGVIVRDLDLKKPIYQKTACYGHFGRSEFPWEVPRKLVF\n"
     ]
    }
   ],
   "source": [
    "print(uniprotEnriched1.Sequence[0])"
   ]
  },
  {
   "cell_type": "markdown",
   "metadata": {},
   "source": [
    "----\n",
    "**Sort by alphabetical order**"
   ]
  },
  {
   "cell_type": "code",
   "execution_count": 10,
   "metadata": {
    "ExecuteTime": {
     "end_time": "2019-10-28T10:35:59.837137Z",
     "start_time": "2019-10-28T10:35:59.815167Z"
    },
    "execution": {
     "iopub.execute_input": "2021-11-09T18:00:23.800909Z",
     "iopub.status.busy": "2021-11-09T18:00:23.800812Z",
     "iopub.status.idle": "2021-11-09T18:00:23.876826Z",
     "shell.execute_reply": "2021-11-09T18:00:23.875922Z",
     "shell.execute_reply.started": "2021-11-09T18:00:23.800894Z"
    }
   },
   "outputs": [
    {
     "name": "stdout",
     "output_type": "stream",
     "text": [
      "DataFrame: 20,386 rows \t 8 columns\n"
     ]
    },
    {
     "data": {
      "text/html": [
       "<div>\n",
       "<style scoped>\n",
       "    .dataframe tbody tr th:only-of-type {\n",
       "        vertical-align: middle;\n",
       "    }\n",
       "\n",
       "    .dataframe tbody tr th {\n",
       "        vertical-align: top;\n",
       "    }\n",
       "\n",
       "    .dataframe thead th {\n",
       "        text-align: right;\n",
       "    }\n",
       "</style>\n",
       "<table border=\"1\" class=\"dataframe\">\n",
       "  <thead>\n",
       "    <tr style=\"text-align: right;\">\n",
       "      <th></th>\n",
       "      <th>Entry</th>\n",
       "      <th>Gene ontology (biological process)</th>\n",
       "      <th>Gene ontology (cellular component)</th>\n",
       "      <th>Gene ontology (molecular function)</th>\n",
       "      <th>Cross-reference (bgee)</th>\n",
       "      <th>Domain [FT]</th>\n",
       "      <th>Motif</th>\n",
       "      <th>Sequence</th>\n",
       "    </tr>\n",
       "  </thead>\n",
       "  <tbody>\n",
       "    <tr>\n",
       "      <th>0</th>\n",
       "      <td>A0A024RBG1</td>\n",
       "      <td>adenosine 5'-(hexahydrogen pentaphosphate) cat...</td>\n",
       "      <td>cytoplasm [GO:0005737]; cytosol [GO:0005829]; ...</td>\n",
       "      <td>bis(5'-adenosyl)-hexaphosphatase activity [GO:...</td>\n",
       "      <td>ENSG00000173598</td>\n",
       "      <td>DOMAIN 18..145;  /note=\"Nudix hydrolase\";  /ev...</td>\n",
       "      <td>MOTIF 51..72;  /note=\"Nudix box\";  /evidence=\"...</td>\n",
       "      <td>MMKFKPNQTRTYDREGFKKRAACLCFRSEQEDEVLLVSSSRYPDQW...</td>\n",
       "    </tr>\n",
       "    <tr>\n",
       "      <th>1</th>\n",
       "      <td>A0A075B6H7</td>\n",
       "      <td>adaptive immune response [GO:0002250]; immune ...</td>\n",
       "      <td>extracellular space [GO:0005615]; immunoglobul...</td>\n",
       "      <td>NaN</td>\n",
       "      <td>ENSG00000243063</td>\n",
       "      <td>DOMAIN 22..&gt;116;  /note=\"Ig-like\";  /evidence=...</td>\n",
       "      <td>NaN</td>\n",
       "      <td>MEAPAQLLFLLLLWLPDTTREIVMTQSPPTLSLSPGERVTLSCRAS...</td>\n",
       "    </tr>\n",
       "    <tr>\n",
       "      <th>2</th>\n",
       "      <td>A0A075B6H8</td>\n",
       "      <td>adaptive immune response [GO:0002250]; immune ...</td>\n",
       "      <td>extracellular space [GO:0005615]; immunoglobul...</td>\n",
       "      <td>NaN</td>\n",
       "      <td>ENSG00000211633</td>\n",
       "      <td>DOMAIN 23..&gt;117;  /note=\"Ig-like\";  /evidence=...</td>\n",
       "      <td>NaN</td>\n",
       "      <td>MDMRVPAQLLGLLLLWLPGVRFDIQMTQSPSFLSASVGDRVSIICW...</td>\n",
       "    </tr>\n",
       "    <tr>\n",
       "      <th>3</th>\n",
       "      <td>A0A075B6H9</td>\n",
       "      <td>adaptive immune response [GO:0002250]; immune ...</td>\n",
       "      <td>extracellular space [GO:0005615]; immunoglobul...</td>\n",
       "      <td>NaN</td>\n",
       "      <td>ENSG00000211637</td>\n",
       "      <td>DOMAIN 21..&gt;119;  /note=\"Ig-like\";  /evidence=...</td>\n",
       "      <td>NaN</td>\n",
       "      <td>MAWTPLLFLTLLLHCTGSLSQLVLTQSPSASASLGASVKLTCTLSS...</td>\n",
       "    </tr>\n",
       "    <tr>\n",
       "      <th>4</th>\n",
       "      <td>A0A075B6I0</td>\n",
       "      <td>adaptive immune response [GO:0002250]; immune ...</td>\n",
       "      <td>extracellular space [GO:0005615]; immunoglobul...</td>\n",
       "      <td>NaN</td>\n",
       "      <td>ENSG00000211638</td>\n",
       "      <td>DOMAIN 25..&gt;122;  /note=\"Ig-like\";  /evidence=...</td>\n",
       "      <td>NaN</td>\n",
       "      <td>MSVPTMAWMMLLLGLLAYGSGVDSQTVVTQEPSFSVSPGGTVTLTC...</td>\n",
       "    </tr>\n",
       "  </tbody>\n",
       "</table>\n",
       "</div>"
      ],
      "text/plain": [
       "        Entry                 Gene ontology (biological process)  \\\n",
       "0  A0A024RBG1  adenosine 5'-(hexahydrogen pentaphosphate) cat...   \n",
       "1  A0A075B6H7  adaptive immune response [GO:0002250]; immune ...   \n",
       "2  A0A075B6H8  adaptive immune response [GO:0002250]; immune ...   \n",
       "3  A0A075B6H9  adaptive immune response [GO:0002250]; immune ...   \n",
       "4  A0A075B6I0  adaptive immune response [GO:0002250]; immune ...   \n",
       "\n",
       "                  Gene ontology (cellular component)  \\\n",
       "0  cytoplasm [GO:0005737]; cytosol [GO:0005829]; ...   \n",
       "1  extracellular space [GO:0005615]; immunoglobul...   \n",
       "2  extracellular space [GO:0005615]; immunoglobul...   \n",
       "3  extracellular space [GO:0005615]; immunoglobul...   \n",
       "4  extracellular space [GO:0005615]; immunoglobul...   \n",
       "\n",
       "                  Gene ontology (molecular function) Cross-reference (bgee)  \\\n",
       "0  bis(5'-adenosyl)-hexaphosphatase activity [GO:...        ENSG00000173598   \n",
       "1                                                NaN        ENSG00000243063   \n",
       "2                                                NaN        ENSG00000211633   \n",
       "3                                                NaN        ENSG00000211637   \n",
       "4                                                NaN        ENSG00000211638   \n",
       "\n",
       "                                         Domain [FT]  \\\n",
       "0  DOMAIN 18..145;  /note=\"Nudix hydrolase\";  /ev...   \n",
       "1  DOMAIN 22..>116;  /note=\"Ig-like\";  /evidence=...   \n",
       "2  DOMAIN 23..>117;  /note=\"Ig-like\";  /evidence=...   \n",
       "3  DOMAIN 21..>119;  /note=\"Ig-like\";  /evidence=...   \n",
       "4  DOMAIN 25..>122;  /note=\"Ig-like\";  /evidence=...   \n",
       "\n",
       "                                               Motif  \\\n",
       "0  MOTIF 51..72;  /note=\"Nudix box\";  /evidence=\"...   \n",
       "1                                                NaN   \n",
       "2                                                NaN   \n",
       "3                                                NaN   \n",
       "4                                                NaN   \n",
       "\n",
       "                                            Sequence  \n",
       "0  MMKFKPNQTRTYDREGFKKRAACLCFRSEQEDEVLLVSSSRYPDQW...  \n",
       "1  MEAPAQLLFLLLLWLPDTTREIVMTQSPPTLSLSPGERVTLSCRAS...  \n",
       "2  MDMRVPAQLLGLLLLWLPGVRFDIQMTQSPSFLSASVGDRVSIICW...  \n",
       "3  MAWTPLLFLTLLLHCTGSLSQLVLTQSPSASASLGASVKLTCTLSS...  \n",
       "4  MSVPTMAWMMLLLGLLAYGSGVDSQTVVTQEPSFSVSPGGTVTLTC...  "
      ]
     },
     "metadata": {},
     "output_type": "display_data"
    }
   ],
   "source": [
    "uniprotEnriched2 = uniprotEnriched1.sort_values(by=\"Entry\").reset_index(drop=True)\n",
    "glance(uniprotEnriched2)"
   ]
  },
  {
   "cell_type": "markdown",
   "metadata": {},
   "source": [
    "---\n",
    "**Test uniprot matching**"
   ]
  },
  {
   "cell_type": "code",
   "execution_count": 11,
   "metadata": {
    "execution": {
     "iopub.execute_input": "2021-11-09T18:00:23.877341Z",
     "iopub.status.busy": "2021-11-09T18:00:23.877242Z",
     "iopub.status.idle": "2021-11-09T18:00:45.195265Z",
     "shell.execute_reply": "2021-11-09T18:00:45.194323Z",
     "shell.execute_reply.started": "2021-11-09T18:00:23.877327Z"
    },
    "scrolled": true
   },
   "outputs": [],
   "source": [
    "uniprotkbIdsList = list(set(uniprotEnriched2.Entry))\n",
    "\n",
    "uniprotMapping = mappingUniprotIDs(fromID = 'ACC', listIDs = uniprotkbIdsList)\n",
    "\n",
    "assert len(uniprotMapping.loc[uniprotMapping.From != uniprotMapping.To]) == 0"
   ]
  },
  {
   "cell_type": "markdown",
   "metadata": {},
   "source": [
    "---\n",
    "**Export**"
   ]
  },
  {
   "cell_type": "code",
   "execution_count": 12,
   "metadata": {
    "execution": {
     "iopub.execute_input": "2021-11-09T18:00:45.196154Z",
     "iopub.status.busy": "2021-11-09T18:00:45.196038Z",
     "iopub.status.idle": "2021-11-09T18:00:45.199454Z",
     "shell.execute_reply": "2021-11-09T18:00:45.198392Z",
     "shell.execute_reply.started": "2021-11-09T18:00:45.196137Z"
    }
   },
   "outputs": [],
   "source": [
    "uniprotEnriched_export = uniprotEnriched2"
   ]
  },
  {
   "cell_type": "code",
   "execution_count": 13,
   "metadata": {
    "execution": {
     "iopub.execute_input": "2021-11-09T18:00:45.200037Z",
     "iopub.status.busy": "2021-11-09T18:00:45.199937Z",
     "iopub.status.idle": "2021-11-09T18:00:45.277088Z",
     "shell.execute_reply": "2021-11-09T18:00:45.276560Z",
     "shell.execute_reply.started": "2021-11-09T18:00:45.200022Z"
    }
   },
   "outputs": [],
   "source": [
    "# logVersions['UniProt'] = dict()\n",
    "logVersions['UniProt']['rawData'] = version_uniprot\n",
    "\n",
    "dump_LogVersions(logVersions)"
   ]
  },
  {
   "cell_type": "code",
   "execution_count": 14,
   "metadata": {
    "ExecuteTime": {
     "end_time": "2019-10-28T10:36:14.397871Z",
     "start_time": "2019-10-28T10:36:14.290180Z"
    },
    "execution": {
     "iopub.execute_input": "2021-11-09T18:00:45.277551Z",
     "iopub.status.busy": "2021-11-09T18:00:45.277457Z",
     "iopub.status.idle": "2021-11-09T18:00:45.477784Z",
     "shell.execute_reply": "2021-11-09T18:00:45.477029Z",
     "shell.execute_reply.started": "2021-11-09T18:00:45.277537Z"
    }
   },
   "outputs": [],
   "source": [
    "# Export raw enriched data\n",
    "uniprotEnriched_export.to_pickle(os.path.join(cfg['rawDataUniProt'],\n",
    "                                              \"uniprot_allProteinsEnriched_Human_v{}.pkl\".format(version_uniprot)))\n",
    "\n",
    "# Export protein list\n",
    "with open(os.path.join(cfg['rawDataUniProt'], \"uniprot_allProteins_Human_v{}.pkl\".format(version_uniprot)), 'w') as f:\n",
    "    for item in uniprotEnriched_export.Entry:\n",
    "        f.write(\"%s\\n\" % item)\n",
    "\n",
    "# Export UniProt/Bgee matching\n",
    "uniprotEnriched_export.loc[:, ['Entry', 'Cross-reference (bgee)']].to_pickle(os.path.join(cfg['rawDataUniProt'],\n",
    "                                                                                          \"uniprot_allProteinsBgee_Human_v{}.pkl\".format(version_uniprot)))"
   ]
  },
  {
   "cell_type": "code",
   "execution_count": 15,
   "metadata": {
    "execution": {
     "iopub.execute_input": "2021-11-09T18:00:45.478353Z",
     "iopub.status.busy": "2021-11-09T18:00:45.478250Z",
     "iopub.status.idle": "2021-11-09T18:00:45.486207Z",
     "shell.execute_reply": "2021-11-09T18:00:45.485718Z",
     "shell.execute_reply.started": "2021-11-09T18:00:45.478337Z"
    }
   },
   "outputs": [
    {
     "data": {
      "text/html": [
       "<div>\n",
       "<style scoped>\n",
       "    .dataframe tbody tr th:only-of-type {\n",
       "        vertical-align: middle;\n",
       "    }\n",
       "\n",
       "    .dataframe tbody tr th {\n",
       "        vertical-align: top;\n",
       "    }\n",
       "\n",
       "    .dataframe thead th {\n",
       "        text-align: right;\n",
       "    }\n",
       "</style>\n",
       "<table border=\"1\" class=\"dataframe\">\n",
       "  <thead>\n",
       "    <tr style=\"text-align: right;\">\n",
       "      <th></th>\n",
       "      <th>Entry</th>\n",
       "      <th>Cross-reference (bgee)</th>\n",
       "    </tr>\n",
       "  </thead>\n",
       "  <tbody>\n",
       "    <tr>\n",
       "      <th>0</th>\n",
       "      <td>A0A024RBG1</td>\n",
       "      <td>ENSG00000173598</td>\n",
       "    </tr>\n",
       "    <tr>\n",
       "      <th>1</th>\n",
       "      <td>A0A075B6H7</td>\n",
       "      <td>ENSG00000243063</td>\n",
       "    </tr>\n",
       "    <tr>\n",
       "      <th>2</th>\n",
       "      <td>A0A075B6H8</td>\n",
       "      <td>ENSG00000211633</td>\n",
       "    </tr>\n",
       "    <tr>\n",
       "      <th>3</th>\n",
       "      <td>A0A075B6H9</td>\n",
       "      <td>ENSG00000211637</td>\n",
       "    </tr>\n",
       "    <tr>\n",
       "      <th>4</th>\n",
       "      <td>A0A075B6I0</td>\n",
       "      <td>ENSG00000211638</td>\n",
       "    </tr>\n",
       "    <tr>\n",
       "      <th>...</th>\n",
       "      <td>...</td>\n",
       "      <td>...</td>\n",
       "    </tr>\n",
       "    <tr>\n",
       "      <th>20381</th>\n",
       "      <td>S4R3Y5</td>\n",
       "      <td>ENSG00000270188</td>\n",
       "    </tr>\n",
       "    <tr>\n",
       "      <th>20382</th>\n",
       "      <td>U3KPV4</td>\n",
       "      <td>ENSG00000184389</td>\n",
       "    </tr>\n",
       "    <tr>\n",
       "      <th>20383</th>\n",
       "      <td>W5XKT8</td>\n",
       "      <td>NaN</td>\n",
       "    </tr>\n",
       "    <tr>\n",
       "      <th>20384</th>\n",
       "      <td>W6CW81</td>\n",
       "      <td>NaN</td>\n",
       "    </tr>\n",
       "    <tr>\n",
       "      <th>20385</th>\n",
       "      <td>X6R8D5</td>\n",
       "      <td>ENSG00000214732</td>\n",
       "    </tr>\n",
       "  </tbody>\n",
       "</table>\n",
       "<p>20386 rows × 2 columns</p>\n",
       "</div>"
      ],
      "text/plain": [
       "            Entry Cross-reference (bgee)\n",
       "0      A0A024RBG1        ENSG00000173598\n",
       "1      A0A075B6H7        ENSG00000243063\n",
       "2      A0A075B6H8        ENSG00000211633\n",
       "3      A0A075B6H9        ENSG00000211637\n",
       "4      A0A075B6I0        ENSG00000211638\n",
       "...           ...                    ...\n",
       "20381      S4R3Y5        ENSG00000270188\n",
       "20382      U3KPV4        ENSG00000184389\n",
       "20383      W5XKT8                    NaN\n",
       "20384      W6CW81                    NaN\n",
       "20385      X6R8D5        ENSG00000214732\n",
       "\n",
       "[20386 rows x 2 columns]"
      ]
     },
     "execution_count": 15,
     "metadata": {},
     "output_type": "execute_result"
    }
   ],
   "source": [
    "uniprotEnriched_export.loc[:, ['Entry', 'Cross-reference (bgee)']]"
   ]
  },
  {
   "cell_type": "code",
   "execution_count": 16,
   "metadata": {
    "execution": {
     "iopub.execute_input": "2021-11-09T18:03:01.500743Z",
     "iopub.status.busy": "2021-11-09T18:03:01.500585Z",
     "iopub.status.idle": "2021-11-09T18:03:01.514730Z",
     "shell.execute_reply": "2021-11-09T18:03:01.514281Z",
     "shell.execute_reply.started": "2021-11-09T18:03:01.500724Z"
    }
   },
   "outputs": [
    {
     "name": "stdout",
     "output_type": "stream",
     "text": [
      "DataFrame: 20,386 rows \t 2 columns\n"
     ]
    },
    {
     "data": {
      "text/html": [
       "<div>\n",
       "<style scoped>\n",
       "    .dataframe tbody tr th:only-of-type {\n",
       "        vertical-align: middle;\n",
       "    }\n",
       "\n",
       "    .dataframe tbody tr th {\n",
       "        vertical-align: top;\n",
       "    }\n",
       "\n",
       "    .dataframe thead th {\n",
       "        text-align: right;\n",
       "    }\n",
       "</style>\n",
       "<table border=\"1\" class=\"dataframe\">\n",
       "  <thead>\n",
       "    <tr style=\"text-align: right;\">\n",
       "      <th></th>\n",
       "      <th>Entry</th>\n",
       "      <th>Cross-reference (bgee)</th>\n",
       "    </tr>\n",
       "  </thead>\n",
       "  <tbody>\n",
       "    <tr>\n",
       "      <th>0</th>\n",
       "      <td>A0A024RBG1</td>\n",
       "      <td>ENSG00000173598</td>\n",
       "    </tr>\n",
       "    <tr>\n",
       "      <th>1</th>\n",
       "      <td>A0A075B6H7</td>\n",
       "      <td>ENSG00000243063</td>\n",
       "    </tr>\n",
       "    <tr>\n",
       "      <th>2</th>\n",
       "      <td>A0A075B6H8</td>\n",
       "      <td>ENSG00000211633</td>\n",
       "    </tr>\n",
       "    <tr>\n",
       "      <th>3</th>\n",
       "      <td>A0A075B6H9</td>\n",
       "      <td>ENSG00000211637</td>\n",
       "    </tr>\n",
       "    <tr>\n",
       "      <th>4</th>\n",
       "      <td>A0A075B6I0</td>\n",
       "      <td>ENSG00000211638</td>\n",
       "    </tr>\n",
       "  </tbody>\n",
       "</table>\n",
       "</div>"
      ],
      "text/plain": [
       "        Entry Cross-reference (bgee)\n",
       "0  A0A024RBG1        ENSG00000173598\n",
       "1  A0A075B6H7        ENSG00000243063\n",
       "2  A0A075B6H8        ENSG00000211633\n",
       "3  A0A075B6H9        ENSG00000211637\n",
       "4  A0A075B6I0        ENSG00000211638"
      ]
     },
     "metadata": {},
     "output_type": "display_data"
    }
   ],
   "source": [
    "uniprotBgeeMatching = pd.read_pickle(\n",
    "    os.path.join(cfg['rawDataUniProt'], \n",
    "                 \"uniprot_allProteinsBgee_Human_v{}.pkl\".format(logVersions['UniProt']['rawData'])))\n",
    "glance(uniprotBgeeMatching)"
   ]
  },
  {
   "cell_type": "markdown",
   "metadata": {},
   "source": [
    "# Create features datasets\n",
    "- v2.0 is current preprocessing"
   ]
  },
  {
   "cell_type": "code",
   "execution_count": 3,
   "metadata": {
    "execution": {
     "iopub.execute_input": "2022-01-10T15:59:43.254750Z",
     "iopub.status.busy": "2022-01-10T15:59:43.254344Z",
     "iopub.status.idle": "2022-01-10T15:59:43.267710Z",
     "shell.execute_reply": "2022-01-10T15:59:43.266977Z",
     "shell.execute_reply.started": "2022-01-10T15:59:43.254600Z"
    }
   },
   "outputs": [],
   "source": [
    "logVersions = load_LogVersions()"
   ]
  },
  {
   "cell_type": "code",
   "execution_count": 4,
   "metadata": {
    "execution": {
     "iopub.execute_input": "2022-01-10T15:59:43.269337Z",
     "iopub.status.busy": "2022-01-10T15:59:43.268979Z",
     "iopub.status.idle": "2022-01-10T15:59:43.292553Z",
     "shell.execute_reply": "2022-01-10T15:59:43.291890Z",
     "shell.execute_reply.started": "2022-01-10T15:59:43.269216Z"
    }
   },
   "outputs": [],
   "source": [
    "myVersionUniprot = '2-0'\n",
    "\n",
    "logVersions['UniProt']['preprocessed'] = myVersionUniprot\n",
    "\n",
    "dump_LogVersions(logVersions)"
   ]
  },
  {
   "cell_type": "code",
   "execution_count": 5,
   "metadata": {
    "ExecuteTime": {
     "end_time": "2019-10-28T10:38:21.447883Z",
     "start_time": "2019-10-28T10:38:21.404024Z"
    },
    "execution": {
     "iopub.execute_input": "2022-01-10T15:59:43.294080Z",
     "iopub.status.busy": "2022-01-10T15:59:43.293723Z",
     "iopub.status.idle": "2022-01-10T15:59:43.725201Z",
     "shell.execute_reply": "2022-01-10T15:59:43.724639Z",
     "shell.execute_reply.started": "2022-01-10T15:59:43.293926Z"
    }
   },
   "outputs": [
    {
     "name": "stdout",
     "output_type": "stream",
     "text": [
      "DataFrame: 20,386 rows \t 8 columns\n"
     ]
    },
    {
     "data": {
      "text/html": [
       "<div>\n",
       "<style scoped>\n",
       "    .dataframe tbody tr th:only-of-type {\n",
       "        vertical-align: middle;\n",
       "    }\n",
       "\n",
       "    .dataframe tbody tr th {\n",
       "        vertical-align: top;\n",
       "    }\n",
       "\n",
       "    .dataframe thead th {\n",
       "        text-align: right;\n",
       "    }\n",
       "</style>\n",
       "<table border=\"1\" class=\"dataframe\">\n",
       "  <thead>\n",
       "    <tr style=\"text-align: right;\">\n",
       "      <th></th>\n",
       "      <th>Entry</th>\n",
       "      <th>Gene ontology (biological process)</th>\n",
       "      <th>Gene ontology (cellular component)</th>\n",
       "      <th>Gene ontology (molecular function)</th>\n",
       "      <th>Cross-reference (bgee)</th>\n",
       "      <th>Domain [FT]</th>\n",
       "      <th>Motif</th>\n",
       "      <th>Sequence</th>\n",
       "    </tr>\n",
       "  </thead>\n",
       "  <tbody>\n",
       "    <tr>\n",
       "      <th>0</th>\n",
       "      <td>A0A024RBG1</td>\n",
       "      <td>adenosine 5'-(hexahydrogen pentaphosphate) cat...</td>\n",
       "      <td>cytoplasm [GO:0005737]; cytosol [GO:0005829]; ...</td>\n",
       "      <td>bis(5'-adenosyl)-hexaphosphatase activity [GO:...</td>\n",
       "      <td>ENSG00000173598</td>\n",
       "      <td>DOMAIN 18..145;  /note=\"Nudix hydrolase\";  /ev...</td>\n",
       "      <td>MOTIF 51..72;  /note=\"Nudix box\";  /evidence=\"...</td>\n",
       "      <td>MMKFKPNQTRTYDREGFKKRAACLCFRSEQEDEVLLVSSSRYPDQW...</td>\n",
       "    </tr>\n",
       "    <tr>\n",
       "      <th>1</th>\n",
       "      <td>A0A075B6H7</td>\n",
       "      <td>adaptive immune response [GO:0002250]; immune ...</td>\n",
       "      <td>extracellular space [GO:0005615]; immunoglobul...</td>\n",
       "      <td>NaN</td>\n",
       "      <td>ENSG00000243063</td>\n",
       "      <td>DOMAIN 22..&gt;116;  /note=\"Ig-like\";  /evidence=...</td>\n",
       "      <td>NaN</td>\n",
       "      <td>MEAPAQLLFLLLLWLPDTTREIVMTQSPPTLSLSPGERVTLSCRAS...</td>\n",
       "    </tr>\n",
       "    <tr>\n",
       "      <th>2</th>\n",
       "      <td>A0A075B6H8</td>\n",
       "      <td>adaptive immune response [GO:0002250]; immune ...</td>\n",
       "      <td>extracellular space [GO:0005615]; immunoglobul...</td>\n",
       "      <td>NaN</td>\n",
       "      <td>ENSG00000211633</td>\n",
       "      <td>DOMAIN 23..&gt;117;  /note=\"Ig-like\";  /evidence=...</td>\n",
       "      <td>NaN</td>\n",
       "      <td>MDMRVPAQLLGLLLLWLPGVRFDIQMTQSPSFLSASVGDRVSIICW...</td>\n",
       "    </tr>\n",
       "    <tr>\n",
       "      <th>3</th>\n",
       "      <td>A0A075B6H9</td>\n",
       "      <td>adaptive immune response [GO:0002250]; immune ...</td>\n",
       "      <td>extracellular space [GO:0005615]; immunoglobul...</td>\n",
       "      <td>NaN</td>\n",
       "      <td>ENSG00000211637</td>\n",
       "      <td>DOMAIN 21..&gt;119;  /note=\"Ig-like\";  /evidence=...</td>\n",
       "      <td>NaN</td>\n",
       "      <td>MAWTPLLFLTLLLHCTGSLSQLVLTQSPSASASLGASVKLTCTLSS...</td>\n",
       "    </tr>\n",
       "    <tr>\n",
       "      <th>4</th>\n",
       "      <td>A0A075B6I0</td>\n",
       "      <td>adaptive immune response [GO:0002250]; immune ...</td>\n",
       "      <td>extracellular space [GO:0005615]; immunoglobul...</td>\n",
       "      <td>NaN</td>\n",
       "      <td>ENSG00000211638</td>\n",
       "      <td>DOMAIN 25..&gt;122;  /note=\"Ig-like\";  /evidence=...</td>\n",
       "      <td>NaN</td>\n",
       "      <td>MSVPTMAWMMLLLGLLAYGSGVDSQTVVTQEPSFSVSPGGTVTLTC...</td>\n",
       "    </tr>\n",
       "  </tbody>\n",
       "</table>\n",
       "</div>"
      ],
      "text/plain": [
       "        Entry                 Gene ontology (biological process)  \\\n",
       "0  A0A024RBG1  adenosine 5'-(hexahydrogen pentaphosphate) cat...   \n",
       "1  A0A075B6H7  adaptive immune response [GO:0002250]; immune ...   \n",
       "2  A0A075B6H8  adaptive immune response [GO:0002250]; immune ...   \n",
       "3  A0A075B6H9  adaptive immune response [GO:0002250]; immune ...   \n",
       "4  A0A075B6I0  adaptive immune response [GO:0002250]; immune ...   \n",
       "\n",
       "                  Gene ontology (cellular component)  \\\n",
       "0  cytoplasm [GO:0005737]; cytosol [GO:0005829]; ...   \n",
       "1  extracellular space [GO:0005615]; immunoglobul...   \n",
       "2  extracellular space [GO:0005615]; immunoglobul...   \n",
       "3  extracellular space [GO:0005615]; immunoglobul...   \n",
       "4  extracellular space [GO:0005615]; immunoglobul...   \n",
       "\n",
       "                  Gene ontology (molecular function) Cross-reference (bgee)  \\\n",
       "0  bis(5'-adenosyl)-hexaphosphatase activity [GO:...        ENSG00000173598   \n",
       "1                                                NaN        ENSG00000243063   \n",
       "2                                                NaN        ENSG00000211633   \n",
       "3                                                NaN        ENSG00000211637   \n",
       "4                                                NaN        ENSG00000211638   \n",
       "\n",
       "                                         Domain [FT]  \\\n",
       "0  DOMAIN 18..145;  /note=\"Nudix hydrolase\";  /ev...   \n",
       "1  DOMAIN 22..>116;  /note=\"Ig-like\";  /evidence=...   \n",
       "2  DOMAIN 23..>117;  /note=\"Ig-like\";  /evidence=...   \n",
       "3  DOMAIN 21..>119;  /note=\"Ig-like\";  /evidence=...   \n",
       "4  DOMAIN 25..>122;  /note=\"Ig-like\";  /evidence=...   \n",
       "\n",
       "                                               Motif  \\\n",
       "0  MOTIF 51..72;  /note=\"Nudix box\";  /evidence=\"...   \n",
       "1                                                NaN   \n",
       "2                                                NaN   \n",
       "3                                                NaN   \n",
       "4                                                NaN   \n",
       "\n",
       "                                            Sequence  \n",
       "0  MMKFKPNQTRTYDREGFKKRAACLCFRSEQEDEVLLVSSSRYPDQW...  \n",
       "1  MEAPAQLLFLLLLWLPDTTREIVMTQSPPTLSLSPGERVTLSCRAS...  \n",
       "2  MDMRVPAQLLGLLLLWLPGVRFDIQMTQSPSFLSASVGDRVSIICW...  \n",
       "3  MAWTPLLFLTLLLHCTGSLSQLVLTQSPSASASLGASVKLTCTLSS...  \n",
       "4  MSVPTMAWMMLLLGLLAYGSGVDSQTVVTQEPSFSVSPGGTVTLTC...  "
      ]
     },
     "metadata": {},
     "output_type": "display_data"
    }
   ],
   "source": [
    "uniprotEnriched = pd.read_pickle(os.path.join(cfg['rawDataUniProt'],\n",
    "                                              \"uniprot_allProteinsEnriched_Human_v{}.pkl\".format(logVersions['UniProt']['rawData'])))\n",
    "\n",
    "glance(uniprotEnriched)"
   ]
  },
  {
   "cell_type": "code",
   "execution_count": 6,
   "metadata": {
    "ExecuteTime": {
     "end_time": "2019-10-28T10:38:24.665279Z",
     "start_time": "2019-10-28T10:38:24.651265Z"
    },
    "execution": {
     "iopub.execute_input": "2022-01-10T15:59:43.726231Z",
     "iopub.status.busy": "2022-01-10T15:59:43.726024Z",
     "iopub.status.idle": "2022-01-10T15:59:43.743766Z",
     "shell.execute_reply": "2022-01-10T15:59:43.743152Z",
     "shell.execute_reply.started": "2022-01-10T15:59:43.726198Z"
    }
   },
   "outputs": [
    {
     "name": "stdout",
     "output_type": "stream",
     "text": [
      "<class 'pandas.core.frame.DataFrame'>\n",
      "RangeIndex: 20386 entries, 0 to 20385\n",
      "Data columns (total 8 columns):\n",
      " #   Column                              Non-Null Count  Dtype \n",
      "---  ------                              --------------  ----- \n",
      " 0   Entry                               20386 non-null  object\n",
      " 1   Gene ontology (biological process)  17048 non-null  object\n",
      " 2   Gene ontology (cellular component)  18621 non-null  object\n",
      " 3   Gene ontology (molecular function)  15834 non-null  object\n",
      " 4   Cross-reference (bgee)              19090 non-null  object\n",
      " 5   Domain [FT]                         8571 non-null   object\n",
      " 6   Motif                               2283 non-null   object\n",
      " 7   Sequence                            20386 non-null  object\n",
      "dtypes: object(8)\n",
      "memory usage: 1.2+ MB\n"
     ]
    }
   ],
   "source": [
    "uniprotEnriched.info()"
   ]
  },
  {
   "cell_type": "code",
   "execution_count": 10,
   "metadata": {
    "execution": {
     "iopub.execute_input": "2022-01-10T16:00:59.863100Z",
     "iopub.status.busy": "2022-01-10T16:00:59.862619Z",
     "iopub.status.idle": "2022-01-10T16:00:59.890063Z",
     "shell.execute_reply": "2022-01-10T16:00:59.889231Z",
     "shell.execute_reply.started": "2022-01-10T16:00:59.863015Z"
    }
   },
   "outputs": [
    {
     "data": {
      "text/plain": [
       "Entry                                     0\n",
       "Gene ontology (biological process)     3338\n",
       "Gene ontology (cellular component)     1765\n",
       "Gene ontology (molecular function)     4552\n",
       "Cross-reference (bgee)                 1296\n",
       "Domain [FT]                           11815\n",
       "Motif                                 18103\n",
       "Sequence                                  0\n",
       "dtype: int64"
      ]
     },
     "execution_count": 10,
     "metadata": {},
     "output_type": "execute_result"
    }
   ],
   "source": [
    "uniprotEnriched.isna().sum()"
   ]
  },
  {
   "cell_type": "code",
   "execution_count": 20,
   "metadata": {
    "ExecuteTime": {
     "end_time": "2019-10-28T10:39:20.182259Z",
     "start_time": "2019-10-28T10:39:20.161485Z"
    },
    "execution": {
     "iopub.execute_input": "2021-11-09T17:25:16.626419Z",
     "iopub.status.busy": "2021-11-09T17:25:16.625866Z",
     "iopub.status.idle": "2021-11-09T17:25:16.660655Z",
     "shell.execute_reply": "2021-11-09T17:25:16.659497Z",
     "shell.execute_reply.started": "2021-11-09T17:25:16.626340Z"
    }
   },
   "outputs": [],
   "source": [
    "uniprotEnriched2 = uniprotEnriched.fillna('')"
   ]
  },
  {
   "cell_type": "markdown",
   "metadata": {},
   "source": [
    "## Biological process"
   ]
  },
  {
   "cell_type": "code",
   "execution_count": 21,
   "metadata": {
    "ExecuteTime": {
     "end_time": "2019-10-28T10:39:28.703045Z",
     "start_time": "2019-10-28T10:39:28.440169Z"
    },
    "execution": {
     "iopub.execute_input": "2021-11-09T17:25:21.031858Z",
     "iopub.status.busy": "2021-11-09T17:25:21.031381Z",
     "iopub.status.idle": "2021-11-09T17:25:21.717556Z",
     "shell.execute_reply": "2021-11-09T17:25:21.716991Z",
     "shell.execute_reply.started": "2021-11-09T17:25:21.031786Z"
    }
   },
   "outputs": [
    {
     "name": "stdout",
     "output_type": "stream",
     "text": [
      "20386 20386\n",
      "Shape BoW: (20386, 12248)\n"
     ]
    },
    {
     "data": {
      "text/plain": [
       "<20386x12248 sparse matrix of type '<class 'numpy.int64'>'\n",
       "\twith 135438 stored elements in Compressed Sparse Row format>"
      ]
     },
     "execution_count": 21,
     "metadata": {},
     "output_type": "execute_result"
    }
   ],
   "source": [
    "bow, vectorizer = createBoW(\n",
    "    createGOlist(GOcol = uniprotEnriched2[\"Gene ontology (biological process)\"], \n",
    "                 regex0 = r\"(?<=\\[GO:)[\\d]+(?=\\])\")\n",
    ")\n",
    "bow"
   ]
  },
  {
   "cell_type": "code",
   "execution_count": 22,
   "metadata": {
    "ExecuteTime": {
     "end_time": "2019-10-28T10:39:33.407832Z",
     "start_time": "2019-10-28T10:39:33.033817Z"
    },
    "execution": {
     "iopub.execute_input": "2021-11-09T17:25:23.196408Z",
     "iopub.status.busy": "2021-11-09T17:25:23.195681Z",
     "iopub.status.idle": "2021-11-09T17:25:23.479884Z",
     "shell.execute_reply": "2021-11-09T17:25:23.479381Z",
     "shell.execute_reply.started": "2021-11-09T17:25:23.196121Z"
    }
   },
   "outputs": [
    {
     "name": "stdout",
     "output_type": "stream",
     "text": [
      "DataFrame: 20,386 rows \t 12,249 columns\n"
     ]
    },
    {
     "data": {
      "text/html": [
       "<div>\n",
       "<style scoped>\n",
       "    .dataframe tbody tr th:only-of-type {\n",
       "        vertical-align: middle;\n",
       "    }\n",
       "\n",
       "    .dataframe tbody tr th {\n",
       "        vertical-align: top;\n",
       "    }\n",
       "\n",
       "    .dataframe thead th {\n",
       "        text-align: right;\n",
       "    }\n",
       "</style>\n",
       "<table border=\"1\" class=\"dataframe\">\n",
       "  <thead>\n",
       "    <tr style=\"text-align: right;\">\n",
       "      <th></th>\n",
       "      <th>0000002</th>\n",
       "      <th>0000003</th>\n",
       "      <th>0000012</th>\n",
       "      <th>0000017</th>\n",
       "      <th>0000018</th>\n",
       "      <th>0000019</th>\n",
       "      <th>0000022</th>\n",
       "      <th>0000023</th>\n",
       "      <th>0000027</th>\n",
       "      <th>0000028</th>\n",
       "      <th>...</th>\n",
       "      <th>2001287</th>\n",
       "      <th>2001288</th>\n",
       "      <th>2001294</th>\n",
       "      <th>2001295</th>\n",
       "      <th>2001301</th>\n",
       "      <th>2001302</th>\n",
       "      <th>2001303</th>\n",
       "      <th>2001306</th>\n",
       "      <th>2001311</th>\n",
       "      <th>uniprotID</th>\n",
       "    </tr>\n",
       "  </thead>\n",
       "  <tbody>\n",
       "    <tr>\n",
       "      <th>0</th>\n",
       "      <td>0</td>\n",
       "      <td>0</td>\n",
       "      <td>0</td>\n",
       "      <td>0</td>\n",
       "      <td>0</td>\n",
       "      <td>0</td>\n",
       "      <td>0</td>\n",
       "      <td>0</td>\n",
       "      <td>0</td>\n",
       "      <td>0</td>\n",
       "      <td>...</td>\n",
       "      <td>0</td>\n",
       "      <td>0</td>\n",
       "      <td>0</td>\n",
       "      <td>0</td>\n",
       "      <td>0</td>\n",
       "      <td>0</td>\n",
       "      <td>0</td>\n",
       "      <td>0</td>\n",
       "      <td>0</td>\n",
       "      <td>A0A024RBG1</td>\n",
       "    </tr>\n",
       "    <tr>\n",
       "      <th>1</th>\n",
       "      <td>0</td>\n",
       "      <td>0</td>\n",
       "      <td>0</td>\n",
       "      <td>0</td>\n",
       "      <td>0</td>\n",
       "      <td>0</td>\n",
       "      <td>0</td>\n",
       "      <td>0</td>\n",
       "      <td>0</td>\n",
       "      <td>0</td>\n",
       "      <td>...</td>\n",
       "      <td>0</td>\n",
       "      <td>0</td>\n",
       "      <td>0</td>\n",
       "      <td>0</td>\n",
       "      <td>0</td>\n",
       "      <td>0</td>\n",
       "      <td>0</td>\n",
       "      <td>0</td>\n",
       "      <td>0</td>\n",
       "      <td>A0A075B6H7</td>\n",
       "    </tr>\n",
       "    <tr>\n",
       "      <th>2</th>\n",
       "      <td>0</td>\n",
       "      <td>0</td>\n",
       "      <td>0</td>\n",
       "      <td>0</td>\n",
       "      <td>0</td>\n",
       "      <td>0</td>\n",
       "      <td>0</td>\n",
       "      <td>0</td>\n",
       "      <td>0</td>\n",
       "      <td>0</td>\n",
       "      <td>...</td>\n",
       "      <td>0</td>\n",
       "      <td>0</td>\n",
       "      <td>0</td>\n",
       "      <td>0</td>\n",
       "      <td>0</td>\n",
       "      <td>0</td>\n",
       "      <td>0</td>\n",
       "      <td>0</td>\n",
       "      <td>0</td>\n",
       "      <td>A0A075B6H8</td>\n",
       "    </tr>\n",
       "    <tr>\n",
       "      <th>3</th>\n",
       "      <td>0</td>\n",
       "      <td>0</td>\n",
       "      <td>0</td>\n",
       "      <td>0</td>\n",
       "      <td>0</td>\n",
       "      <td>0</td>\n",
       "      <td>0</td>\n",
       "      <td>0</td>\n",
       "      <td>0</td>\n",
       "      <td>0</td>\n",
       "      <td>...</td>\n",
       "      <td>0</td>\n",
       "      <td>0</td>\n",
       "      <td>0</td>\n",
       "      <td>0</td>\n",
       "      <td>0</td>\n",
       "      <td>0</td>\n",
       "      <td>0</td>\n",
       "      <td>0</td>\n",
       "      <td>0</td>\n",
       "      <td>A0A075B6H9</td>\n",
       "    </tr>\n",
       "    <tr>\n",
       "      <th>4</th>\n",
       "      <td>0</td>\n",
       "      <td>0</td>\n",
       "      <td>0</td>\n",
       "      <td>0</td>\n",
       "      <td>0</td>\n",
       "      <td>0</td>\n",
       "      <td>0</td>\n",
       "      <td>0</td>\n",
       "      <td>0</td>\n",
       "      <td>0</td>\n",
       "      <td>...</td>\n",
       "      <td>0</td>\n",
       "      <td>0</td>\n",
       "      <td>0</td>\n",
       "      <td>0</td>\n",
       "      <td>0</td>\n",
       "      <td>0</td>\n",
       "      <td>0</td>\n",
       "      <td>0</td>\n",
       "      <td>0</td>\n",
       "      <td>A0A075B6I0</td>\n",
       "    </tr>\n",
       "  </tbody>\n",
       "</table>\n",
       "<p>5 rows × 12249 columns</p>\n",
       "</div>"
      ],
      "text/plain": [
       "   0000002  0000003  0000012  0000017  0000018  0000019  0000022  0000023  \\\n",
       "0        0        0        0        0        0        0        0        0   \n",
       "1        0        0        0        0        0        0        0        0   \n",
       "2        0        0        0        0        0        0        0        0   \n",
       "3        0        0        0        0        0        0        0        0   \n",
       "4        0        0        0        0        0        0        0        0   \n",
       "\n",
       "   0000027  0000028  ...  2001287  2001288  2001294  2001295  2001301  \\\n",
       "0        0        0  ...        0        0        0        0        0   \n",
       "1        0        0  ...        0        0        0        0        0   \n",
       "2        0        0  ...        0        0        0        0        0   \n",
       "3        0        0  ...        0        0        0        0        0   \n",
       "4        0        0  ...        0        0        0        0        0   \n",
       "\n",
       "   2001302  2001303  2001306  2001311   uniprotID  \n",
       "0        0        0        0        0  A0A024RBG1  \n",
       "1        0        0        0        0  A0A075B6H7  \n",
       "2        0        0        0        0  A0A075B6H8  \n",
       "3        0        0        0        0  A0A075B6H9  \n",
       "4        0        0        0        0  A0A075B6I0  \n",
       "\n",
       "[5 rows x 12249 columns]"
      ]
     },
     "metadata": {},
     "output_type": "display_data"
    }
   ],
   "source": [
    "# This one takes a while to run\n",
    "bioProcessUniprot_BoW = pd.DataFrame(bow.todense())\n",
    "bioProcessUniprot_BoW.columns = vectorizer.get_feature_names()\n",
    "bioProcessUniprot_BoW['uniprotID'] = uniprotEnriched2['Entry']\n",
    "\n",
    "glance(bioProcessUniprot_BoW)"
   ]
  },
  {
   "cell_type": "markdown",
   "metadata": {},
   "source": [
    "-----\n",
    "*Just for some slides*"
   ]
  },
  {
   "cell_type": "code",
   "execution_count": 23,
   "metadata": {
    "execution": {
     "iopub.execute_input": "2021-11-09T17:25:26.339498Z",
     "iopub.status.busy": "2021-11-09T17:25:26.338776Z",
     "iopub.status.idle": "2021-11-09T17:25:26.375490Z",
     "shell.execute_reply": "2021-11-09T17:25:26.374634Z",
     "shell.execute_reply.started": "2021-11-09T17:25:26.339208Z"
    }
   },
   "outputs": [
    {
     "data": {
      "text/html": [
       "<div>\n",
       "<style scoped>\n",
       "    .dataframe tbody tr th:only-of-type {\n",
       "        vertical-align: middle;\n",
       "    }\n",
       "\n",
       "    .dataframe tbody tr th {\n",
       "        vertical-align: top;\n",
       "    }\n",
       "\n",
       "    .dataframe thead th {\n",
       "        text-align: right;\n",
       "    }\n",
       "</style>\n",
       "<table border=\"1\" class=\"dataframe\">\n",
       "  <thead>\n",
       "    <tr style=\"text-align: right;\">\n",
       "      <th></th>\n",
       "      <th>0000002</th>\n",
       "      <th>0000003</th>\n",
       "      <th>0000012</th>\n",
       "      <th>0000017</th>\n",
       "      <th>0000018</th>\n",
       "      <th>0000019</th>\n",
       "      <th>0000022</th>\n",
       "      <th>0000023</th>\n",
       "      <th>0000027</th>\n",
       "      <th>0000028</th>\n",
       "      <th>...</th>\n",
       "      <th>2001286</th>\n",
       "      <th>2001287</th>\n",
       "      <th>2001288</th>\n",
       "      <th>2001294</th>\n",
       "      <th>2001295</th>\n",
       "      <th>2001301</th>\n",
       "      <th>2001302</th>\n",
       "      <th>2001303</th>\n",
       "      <th>2001306</th>\n",
       "      <th>2001311</th>\n",
       "    </tr>\n",
       "    <tr>\n",
       "      <th>uniprotID</th>\n",
       "      <th></th>\n",
       "      <th></th>\n",
       "      <th></th>\n",
       "      <th></th>\n",
       "      <th></th>\n",
       "      <th></th>\n",
       "      <th></th>\n",
       "      <th></th>\n",
       "      <th></th>\n",
       "      <th></th>\n",
       "      <th></th>\n",
       "      <th></th>\n",
       "      <th></th>\n",
       "      <th></th>\n",
       "      <th></th>\n",
       "      <th></th>\n",
       "      <th></th>\n",
       "      <th></th>\n",
       "      <th></th>\n",
       "      <th></th>\n",
       "      <th></th>\n",
       "    </tr>\n",
       "  </thead>\n",
       "  <tbody>\n",
       "    <tr>\n",
       "      <th>P16157</th>\n",
       "      <td>0</td>\n",
       "      <td>0</td>\n",
       "      <td>0</td>\n",
       "      <td>0</td>\n",
       "      <td>0</td>\n",
       "      <td>0</td>\n",
       "      <td>0</td>\n",
       "      <td>0</td>\n",
       "      <td>0</td>\n",
       "      <td>0</td>\n",
       "      <td>...</td>\n",
       "      <td>0</td>\n",
       "      <td>0</td>\n",
       "      <td>0</td>\n",
       "      <td>0</td>\n",
       "      <td>0</td>\n",
       "      <td>0</td>\n",
       "      <td>0</td>\n",
       "      <td>0</td>\n",
       "      <td>0</td>\n",
       "      <td>0</td>\n",
       "    </tr>\n",
       "    <tr>\n",
       "      <th>Q5QGT7</th>\n",
       "      <td>0</td>\n",
       "      <td>0</td>\n",
       "      <td>0</td>\n",
       "      <td>0</td>\n",
       "      <td>0</td>\n",
       "      <td>0</td>\n",
       "      <td>0</td>\n",
       "      <td>0</td>\n",
       "      <td>0</td>\n",
       "      <td>0</td>\n",
       "      <td>...</td>\n",
       "      <td>0</td>\n",
       "      <td>0</td>\n",
       "      <td>0</td>\n",
       "      <td>0</td>\n",
       "      <td>0</td>\n",
       "      <td>0</td>\n",
       "      <td>0</td>\n",
       "      <td>0</td>\n",
       "      <td>0</td>\n",
       "      <td>0</td>\n",
       "    </tr>\n",
       "  </tbody>\n",
       "</table>\n",
       "<p>2 rows × 12248 columns</p>\n",
       "</div>"
      ],
      "text/plain": [
       "           0000002  0000003  0000012  0000017  0000018  0000019  0000022  \\\n",
       "uniprotID                                                                  \n",
       "P16157           0        0        0        0        0        0        0   \n",
       "Q5QGT7           0        0        0        0        0        0        0   \n",
       "\n",
       "           0000023  0000027  0000028  ...  2001286  2001287  2001288  2001294  \\\n",
       "uniprotID                             ...                                       \n",
       "P16157           0        0        0  ...        0        0        0        0   \n",
       "Q5QGT7           0        0        0  ...        0        0        0        0   \n",
       "\n",
       "           2001295  2001301  2001302  2001303  2001306  2001311  \n",
       "uniprotID                                                        \n",
       "P16157           0        0        0        0        0        0  \n",
       "Q5QGT7           0        0        0        0        0        0  \n",
       "\n",
       "[2 rows x 12248 columns]"
      ]
     },
     "execution_count": 23,
     "metadata": {},
     "output_type": "execute_result"
    }
   ],
   "source": [
    "# For slides\n",
    "foo = bioProcessUniprot_BoW.loc[bioProcessUniprot_BoW.uniprotID.isin(['P16157','Q5QGT7'])]\n",
    "foo.set_index('uniprotID', inplace=True)\n",
    "foo"
   ]
  },
  {
   "cell_type": "code",
   "execution_count": 24,
   "metadata": {
    "execution": {
     "iopub.execute_input": "2021-11-09T17:25:26.855180Z",
     "iopub.status.busy": "2021-11-09T17:25:26.854515Z",
     "iopub.status.idle": "2021-11-09T17:25:29.389505Z",
     "shell.execute_reply": "2021-11-09T17:25:29.388492Z",
     "shell.execute_reply.started": "2021-11-09T17:25:26.854916Z"
    }
   },
   "outputs": [
    {
     "data": {
      "text/html": [
       "<div>\n",
       "<style scoped>\n",
       "    .dataframe tbody tr th:only-of-type {\n",
       "        vertical-align: middle;\n",
       "    }\n",
       "\n",
       "    .dataframe tbody tr th {\n",
       "        vertical-align: top;\n",
       "    }\n",
       "\n",
       "    .dataframe thead th {\n",
       "        text-align: right;\n",
       "    }\n",
       "</style>\n",
       "<table border=\"1\" class=\"dataframe\">\n",
       "  <thead>\n",
       "    <tr style=\"text-align: right;\">\n",
       "      <th></th>\n",
       "      <th>0001580</th>\n",
       "      <th>0006612</th>\n",
       "      <th>0006887</th>\n",
       "      <th>0006888</th>\n",
       "      <th>0007010</th>\n",
       "      <th>0007165</th>\n",
       "      <th>0010638</th>\n",
       "      <th>0045199</th>\n",
       "      <th>0051205</th>\n",
       "      <th>0072659</th>\n",
       "    </tr>\n",
       "    <tr>\n",
       "      <th>uniprotID</th>\n",
       "      <th></th>\n",
       "      <th></th>\n",
       "      <th></th>\n",
       "      <th></th>\n",
       "      <th></th>\n",
       "      <th></th>\n",
       "      <th></th>\n",
       "      <th></th>\n",
       "      <th></th>\n",
       "      <th></th>\n",
       "    </tr>\n",
       "  </thead>\n",
       "  <tbody>\n",
       "    <tr>\n",
       "      <th>P16157</th>\n",
       "      <td>0</td>\n",
       "      <td>0</td>\n",
       "      <td>1</td>\n",
       "      <td>1</td>\n",
       "      <td>1</td>\n",
       "      <td>1</td>\n",
       "      <td>1</td>\n",
       "      <td>1</td>\n",
       "      <td>0</td>\n",
       "      <td>1</td>\n",
       "    </tr>\n",
       "    <tr>\n",
       "      <th>Q5QGT7</th>\n",
       "      <td>1</td>\n",
       "      <td>1</td>\n",
       "      <td>0</td>\n",
       "      <td>0</td>\n",
       "      <td>0</td>\n",
       "      <td>0</td>\n",
       "      <td>0</td>\n",
       "      <td>0</td>\n",
       "      <td>1</td>\n",
       "      <td>0</td>\n",
       "    </tr>\n",
       "  </tbody>\n",
       "</table>\n",
       "</div>"
      ],
      "text/plain": [
       "           0001580  0006612  0006887  0006888  0007010  0007165  0010638  \\\n",
       "uniprotID                                                                  \n",
       "P16157           0        0        1        1        1        1        1   \n",
       "Q5QGT7           1        1        0        0        0        0        0   \n",
       "\n",
       "           0045199  0051205  0072659  \n",
       "uniprotID                             \n",
       "P16157           1        0        1  \n",
       "Q5QGT7           0        1        0  "
      ]
     },
     "execution_count": 24,
     "metadata": {},
     "output_type": "execute_result"
    }
   ],
   "source": [
    "bar = []\n",
    "for col in foo.columns:\n",
    "    if foo[col].sum() > 0:\n",
    "        bar.append(col)\n",
    "foo.loc[:,foo.columns[foo.sum()>0]]"
   ]
  },
  {
   "cell_type": "markdown",
   "metadata": {},
   "source": [
    "---\n",
    "**Number of 1 per process**"
   ]
  },
  {
   "cell_type": "code",
   "execution_count": 25,
   "metadata": {
    "execution": {
     "iopub.execute_input": "2021-11-09T17:25:30.494680Z",
     "iopub.status.busy": "2021-11-09T17:25:30.494010Z",
     "iopub.status.idle": "2021-11-09T17:25:35.580609Z",
     "shell.execute_reply": "2021-11-09T17:25:35.579836Z",
     "shell.execute_reply.started": "2021-11-09T17:25:30.494393Z"
    }
   },
   "outputs": [
    {
     "data": {
      "text/plain": [
       "count    12248.000000\n",
       "mean        11.057969\n",
       "std         36.156012\n",
       "min          1.000000\n",
       "10%          1.000000\n",
       "20%          1.000000\n",
       "30%          2.000000\n",
       "40%          2.000000\n",
       "50%          3.000000\n",
       "60%          4.000000\n",
       "70%          7.000000\n",
       "80%         11.000000\n",
       "90%         22.000000\n",
       "max       1540.000000\n",
       "dtype: float64"
      ]
     },
     "execution_count": 25,
     "metadata": {},
     "output_type": "execute_result"
    }
   ],
   "source": [
    "OneperMotif = bioProcessUniprot_BoW.set_index('uniprotID').sum(axis=0).astype(int)\n",
    "\n",
    "OneperMotif.describe(percentiles=np.linspace(0.1,0.9,9))"
   ]
  },
  {
   "cell_type": "markdown",
   "metadata": {},
   "source": [
    "---\n",
    "**Export**"
   ]
  },
  {
   "cell_type": "code",
   "execution_count": 27,
   "metadata": {
    "ExecuteTime": {
     "end_time": "2019-10-28T10:39:49.578944Z",
     "start_time": "2019-10-28T10:39:45.470651Z"
    },
    "execution": {
     "iopub.execute_input": "2021-11-09T17:26:11.472310Z",
     "iopub.status.busy": "2021-11-09T17:26:11.471563Z",
     "iopub.status.idle": "2021-11-09T17:26:16.420688Z",
     "shell.execute_reply": "2021-11-09T17:26:16.420055Z",
     "shell.execute_reply.started": "2021-11-09T17:26:11.472003Z"
    }
   },
   "outputs": [],
   "source": [
    "bioProcessUniprot_BoW.to_pickle(\n",
    "    os.path.join(\n",
    "        cfg['outputPreprocessingUniprot'], \n",
    "        \"bioProcessUniprot_v{}--{}.pkl\".format(logVersions['UniProt']['rawData'], logVersions['UniProt']['preprocessed'])\n",
    "    )\n",
    ")"
   ]
  },
  {
   "cell_type": "markdown",
   "metadata": {},
   "source": [
    "## Cellular component"
   ]
  },
  {
   "cell_type": "code",
   "execution_count": 28,
   "metadata": {
    "ExecuteTime": {
     "end_time": "2019-10-28T10:40:01.899505Z",
     "start_time": "2019-10-28T10:40:01.747445Z"
    },
    "execution": {
     "iopub.execute_input": "2021-11-09T17:26:19.452779Z",
     "iopub.status.busy": "2021-11-09T17:26:19.452027Z",
     "iopub.status.idle": "2021-11-09T17:26:19.856408Z",
     "shell.execute_reply": "2021-11-09T17:26:19.855905Z",
     "shell.execute_reply.started": "2021-11-09T17:26:19.452453Z"
    }
   },
   "outputs": [
    {
     "name": "stdout",
     "output_type": "stream",
     "text": [
      "20386 20386\n",
      "Shape BoW: (20386, 1754)\n"
     ]
    },
    {
     "data": {
      "text/plain": [
       "<20386x1754 sparse matrix of type '<class 'numpy.int64'>'\n",
       "\twith 81474 stored elements in Compressed Sparse Row format>"
      ]
     },
     "execution_count": 28,
     "metadata": {},
     "output_type": "execute_result"
    }
   ],
   "source": [
    "bow, vectorizer = createBoW(\n",
    "    createGOlist(GOcol = uniprotEnriched2[\"Gene ontology (cellular component)\"], \n",
    "                 regex0 = r\"(?<=\\[GO:)[\\d]+(?=\\])\")\n",
    ")\n",
    "bow"
   ]
  },
  {
   "cell_type": "code",
   "execution_count": 29,
   "metadata": {
    "ExecuteTime": {
     "end_time": "2019-10-28T10:40:06.885858Z",
     "start_time": "2019-10-28T10:40:06.829299Z"
    },
    "execution": {
     "iopub.execute_input": "2021-11-09T17:26:20.948182Z",
     "iopub.status.busy": "2021-11-09T17:26:20.947788Z",
     "iopub.status.idle": "2021-11-09T17:26:21.097706Z",
     "shell.execute_reply": "2021-11-09T17:26:21.097127Z",
     "shell.execute_reply.started": "2021-11-09T17:26:20.948107Z"
    }
   },
   "outputs": [
    {
     "name": "stdout",
     "output_type": "stream",
     "text": [
      "DataFrame: 20,386 rows \t 1,755 columns\n"
     ]
    },
    {
     "data": {
      "text/html": [
       "<div>\n",
       "<style scoped>\n",
       "    .dataframe tbody tr th:only-of-type {\n",
       "        vertical-align: middle;\n",
       "    }\n",
       "\n",
       "    .dataframe tbody tr th {\n",
       "        vertical-align: top;\n",
       "    }\n",
       "\n",
       "    .dataframe thead th {\n",
       "        text-align: right;\n",
       "    }\n",
       "</style>\n",
       "<table border=\"1\" class=\"dataframe\">\n",
       "  <thead>\n",
       "    <tr style=\"text-align: right;\">\n",
       "      <th></th>\n",
       "      <th>0000015</th>\n",
       "      <th>0000109</th>\n",
       "      <th>0000110</th>\n",
       "      <th>0000111</th>\n",
       "      <th>0000112</th>\n",
       "      <th>0000118</th>\n",
       "      <th>0000120</th>\n",
       "      <th>0000123</th>\n",
       "      <th>0000124</th>\n",
       "      <th>0000125</th>\n",
       "      <th>...</th>\n",
       "      <th>1990876</th>\n",
       "      <th>1990879</th>\n",
       "      <th>1990904</th>\n",
       "      <th>1990907</th>\n",
       "      <th>1990909</th>\n",
       "      <th>1990913</th>\n",
       "      <th>1990917</th>\n",
       "      <th>1990923</th>\n",
       "      <th>1990971</th>\n",
       "      <th>uniprotID</th>\n",
       "    </tr>\n",
       "  </thead>\n",
       "  <tbody>\n",
       "    <tr>\n",
       "      <th>0</th>\n",
       "      <td>0</td>\n",
       "      <td>0</td>\n",
       "      <td>0</td>\n",
       "      <td>0</td>\n",
       "      <td>0</td>\n",
       "      <td>0</td>\n",
       "      <td>0</td>\n",
       "      <td>0</td>\n",
       "      <td>0</td>\n",
       "      <td>0</td>\n",
       "      <td>...</td>\n",
       "      <td>0</td>\n",
       "      <td>0</td>\n",
       "      <td>0</td>\n",
       "      <td>0</td>\n",
       "      <td>0</td>\n",
       "      <td>0</td>\n",
       "      <td>0</td>\n",
       "      <td>0</td>\n",
       "      <td>0</td>\n",
       "      <td>A0A024RBG1</td>\n",
       "    </tr>\n",
       "    <tr>\n",
       "      <th>1</th>\n",
       "      <td>0</td>\n",
       "      <td>0</td>\n",
       "      <td>0</td>\n",
       "      <td>0</td>\n",
       "      <td>0</td>\n",
       "      <td>0</td>\n",
       "      <td>0</td>\n",
       "      <td>0</td>\n",
       "      <td>0</td>\n",
       "      <td>0</td>\n",
       "      <td>...</td>\n",
       "      <td>0</td>\n",
       "      <td>0</td>\n",
       "      <td>0</td>\n",
       "      <td>0</td>\n",
       "      <td>0</td>\n",
       "      <td>0</td>\n",
       "      <td>0</td>\n",
       "      <td>0</td>\n",
       "      <td>0</td>\n",
       "      <td>A0A075B6H7</td>\n",
       "    </tr>\n",
       "    <tr>\n",
       "      <th>2</th>\n",
       "      <td>0</td>\n",
       "      <td>0</td>\n",
       "      <td>0</td>\n",
       "      <td>0</td>\n",
       "      <td>0</td>\n",
       "      <td>0</td>\n",
       "      <td>0</td>\n",
       "      <td>0</td>\n",
       "      <td>0</td>\n",
       "      <td>0</td>\n",
       "      <td>...</td>\n",
       "      <td>0</td>\n",
       "      <td>0</td>\n",
       "      <td>0</td>\n",
       "      <td>0</td>\n",
       "      <td>0</td>\n",
       "      <td>0</td>\n",
       "      <td>0</td>\n",
       "      <td>0</td>\n",
       "      <td>0</td>\n",
       "      <td>A0A075B6H8</td>\n",
       "    </tr>\n",
       "    <tr>\n",
       "      <th>3</th>\n",
       "      <td>0</td>\n",
       "      <td>0</td>\n",
       "      <td>0</td>\n",
       "      <td>0</td>\n",
       "      <td>0</td>\n",
       "      <td>0</td>\n",
       "      <td>0</td>\n",
       "      <td>0</td>\n",
       "      <td>0</td>\n",
       "      <td>0</td>\n",
       "      <td>...</td>\n",
       "      <td>0</td>\n",
       "      <td>0</td>\n",
       "      <td>0</td>\n",
       "      <td>0</td>\n",
       "      <td>0</td>\n",
       "      <td>0</td>\n",
       "      <td>0</td>\n",
       "      <td>0</td>\n",
       "      <td>0</td>\n",
       "      <td>A0A075B6H9</td>\n",
       "    </tr>\n",
       "    <tr>\n",
       "      <th>4</th>\n",
       "      <td>0</td>\n",
       "      <td>0</td>\n",
       "      <td>0</td>\n",
       "      <td>0</td>\n",
       "      <td>0</td>\n",
       "      <td>0</td>\n",
       "      <td>0</td>\n",
       "      <td>0</td>\n",
       "      <td>0</td>\n",
       "      <td>0</td>\n",
       "      <td>...</td>\n",
       "      <td>0</td>\n",
       "      <td>0</td>\n",
       "      <td>0</td>\n",
       "      <td>0</td>\n",
       "      <td>0</td>\n",
       "      <td>0</td>\n",
       "      <td>0</td>\n",
       "      <td>0</td>\n",
       "      <td>0</td>\n",
       "      <td>A0A075B6I0</td>\n",
       "    </tr>\n",
       "  </tbody>\n",
       "</table>\n",
       "<p>5 rows × 1755 columns</p>\n",
       "</div>"
      ],
      "text/plain": [
       "   0000015  0000109  0000110  0000111  0000112  0000118  0000120  0000123  \\\n",
       "0        0        0        0        0        0        0        0        0   \n",
       "1        0        0        0        0        0        0        0        0   \n",
       "2        0        0        0        0        0        0        0        0   \n",
       "3        0        0        0        0        0        0        0        0   \n",
       "4        0        0        0        0        0        0        0        0   \n",
       "\n",
       "   0000124  0000125  ...  1990876  1990879  1990904  1990907  1990909  \\\n",
       "0        0        0  ...        0        0        0        0        0   \n",
       "1        0        0  ...        0        0        0        0        0   \n",
       "2        0        0  ...        0        0        0        0        0   \n",
       "3        0        0  ...        0        0        0        0        0   \n",
       "4        0        0  ...        0        0        0        0        0   \n",
       "\n",
       "   1990913  1990917  1990923  1990971   uniprotID  \n",
       "0        0        0        0        0  A0A024RBG1  \n",
       "1        0        0        0        0  A0A075B6H7  \n",
       "2        0        0        0        0  A0A075B6H8  \n",
       "3        0        0        0        0  A0A075B6H9  \n",
       "4        0        0        0        0  A0A075B6I0  \n",
       "\n",
       "[5 rows x 1755 columns]"
      ]
     },
     "metadata": {},
     "output_type": "display_data"
    }
   ],
   "source": [
    "cellCompUniprot_BoW = pd.DataFrame(bow.todense())\n",
    "cellCompUniprot_BoW.columns = vectorizer.get_feature_names()\n",
    "cellCompUniprot_BoW['uniprotID'] = uniprotEnriched2['Entry']\n",
    "\n",
    "glance(cellCompUniprot_BoW)"
   ]
  },
  {
   "cell_type": "markdown",
   "metadata": {},
   "source": [
    "-----\n",
    "*Just for some slides*"
   ]
  },
  {
   "cell_type": "code",
   "execution_count": 30,
   "metadata": {
    "execution": {
     "iopub.execute_input": "2021-11-09T17:26:23.045418Z",
     "iopub.status.busy": "2021-11-09T17:26:23.044719Z",
     "iopub.status.idle": "2021-11-09T17:26:23.077600Z",
     "shell.execute_reply": "2021-11-09T17:26:23.076771Z",
     "shell.execute_reply.started": "2021-11-09T17:26:23.045131Z"
    }
   },
   "outputs": [
    {
     "data": {
      "text/html": [
       "<div>\n",
       "<style scoped>\n",
       "    .dataframe tbody tr th:only-of-type {\n",
       "        vertical-align: middle;\n",
       "    }\n",
       "\n",
       "    .dataframe tbody tr th {\n",
       "        vertical-align: top;\n",
       "    }\n",
       "\n",
       "    .dataframe thead th {\n",
       "        text-align: right;\n",
       "    }\n",
       "</style>\n",
       "<table border=\"1\" class=\"dataframe\">\n",
       "  <thead>\n",
       "    <tr style=\"text-align: right;\">\n",
       "      <th></th>\n",
       "      <th>0000015</th>\n",
       "      <th>0000109</th>\n",
       "      <th>0000110</th>\n",
       "      <th>0000111</th>\n",
       "      <th>0000112</th>\n",
       "      <th>0000118</th>\n",
       "      <th>0000120</th>\n",
       "      <th>0000123</th>\n",
       "      <th>0000124</th>\n",
       "      <th>0000125</th>\n",
       "      <th>...</th>\n",
       "      <th>1990851</th>\n",
       "      <th>1990876</th>\n",
       "      <th>1990879</th>\n",
       "      <th>1990904</th>\n",
       "      <th>1990907</th>\n",
       "      <th>1990909</th>\n",
       "      <th>1990913</th>\n",
       "      <th>1990917</th>\n",
       "      <th>1990923</th>\n",
       "      <th>1990971</th>\n",
       "    </tr>\n",
       "    <tr>\n",
       "      <th>uniprotID</th>\n",
       "      <th></th>\n",
       "      <th></th>\n",
       "      <th></th>\n",
       "      <th></th>\n",
       "      <th></th>\n",
       "      <th></th>\n",
       "      <th></th>\n",
       "      <th></th>\n",
       "      <th></th>\n",
       "      <th></th>\n",
       "      <th></th>\n",
       "      <th></th>\n",
       "      <th></th>\n",
       "      <th></th>\n",
       "      <th></th>\n",
       "      <th></th>\n",
       "      <th></th>\n",
       "      <th></th>\n",
       "      <th></th>\n",
       "      <th></th>\n",
       "      <th></th>\n",
       "    </tr>\n",
       "  </thead>\n",
       "  <tbody>\n",
       "    <tr>\n",
       "      <th>P16157</th>\n",
       "      <td>0</td>\n",
       "      <td>0</td>\n",
       "      <td>0</td>\n",
       "      <td>0</td>\n",
       "      <td>0</td>\n",
       "      <td>0</td>\n",
       "      <td>0</td>\n",
       "      <td>0</td>\n",
       "      <td>0</td>\n",
       "      <td>0</td>\n",
       "      <td>...</td>\n",
       "      <td>0</td>\n",
       "      <td>0</td>\n",
       "      <td>0</td>\n",
       "      <td>0</td>\n",
       "      <td>0</td>\n",
       "      <td>0</td>\n",
       "      <td>0</td>\n",
       "      <td>0</td>\n",
       "      <td>0</td>\n",
       "      <td>0</td>\n",
       "    </tr>\n",
       "    <tr>\n",
       "      <th>Q5QGT7</th>\n",
       "      <td>0</td>\n",
       "      <td>0</td>\n",
       "      <td>0</td>\n",
       "      <td>0</td>\n",
       "      <td>0</td>\n",
       "      <td>0</td>\n",
       "      <td>0</td>\n",
       "      <td>0</td>\n",
       "      <td>0</td>\n",
       "      <td>0</td>\n",
       "      <td>...</td>\n",
       "      <td>0</td>\n",
       "      <td>0</td>\n",
       "      <td>0</td>\n",
       "      <td>0</td>\n",
       "      <td>0</td>\n",
       "      <td>0</td>\n",
       "      <td>0</td>\n",
       "      <td>0</td>\n",
       "      <td>0</td>\n",
       "      <td>0</td>\n",
       "    </tr>\n",
       "  </tbody>\n",
       "</table>\n",
       "<p>2 rows × 1754 columns</p>\n",
       "</div>"
      ],
      "text/plain": [
       "           0000015  0000109  0000110  0000111  0000112  0000118  0000120  \\\n",
       "uniprotID                                                                  \n",
       "P16157           0        0        0        0        0        0        0   \n",
       "Q5QGT7           0        0        0        0        0        0        0   \n",
       "\n",
       "           0000123  0000124  0000125  ...  1990851  1990876  1990879  1990904  \\\n",
       "uniprotID                             ...                                       \n",
       "P16157           0        0        0  ...        0        0        0        0   \n",
       "Q5QGT7           0        0        0  ...        0        0        0        0   \n",
       "\n",
       "           1990907  1990909  1990913  1990917  1990923  1990971  \n",
       "uniprotID                                                        \n",
       "P16157           0        0        0        0        0        0  \n",
       "Q5QGT7           0        0        0        0        0        0  \n",
       "\n",
       "[2 rows x 1754 columns]"
      ]
     },
     "execution_count": 30,
     "metadata": {},
     "output_type": "execute_result"
    }
   ],
   "source": [
    "# For slides\n",
    "foo = cellCompUniprot_BoW.loc[cellCompUniprot_BoW.uniprotID.isin(['P16157','Q5QGT7'])]\n",
    "foo.set_index('uniprotID', inplace=True)\n",
    "foo"
   ]
  },
  {
   "cell_type": "code",
   "execution_count": 31,
   "metadata": {
    "execution": {
     "iopub.execute_input": "2021-11-09T17:26:23.467359Z",
     "iopub.status.busy": "2021-11-09T17:26:23.466752Z",
     "iopub.status.idle": "2021-11-09T17:26:23.675876Z",
     "shell.execute_reply": "2021-11-09T17:26:23.675154Z",
     "shell.execute_reply.started": "2021-11-09T17:26:23.467107Z"
    }
   },
   "outputs": [
    {
     "data": {
      "text/html": [
       "<div>\n",
       "<style scoped>\n",
       "    .dataframe tbody tr th:only-of-type {\n",
       "        vertical-align: middle;\n",
       "    }\n",
       "\n",
       "    .dataframe tbody tr th {\n",
       "        vertical-align: top;\n",
       "    }\n",
       "\n",
       "    .dataframe thead th {\n",
       "        text-align: right;\n",
       "    }\n",
       "</style>\n",
       "<table border=\"1\" class=\"dataframe\">\n",
       "  <thead>\n",
       "    <tr style=\"text-align: right;\">\n",
       "      <th></th>\n",
       "      <th>0005634</th>\n",
       "      <th>0005829</th>\n",
       "      <th>0005856</th>\n",
       "      <th>0005886</th>\n",
       "      <th>0009898</th>\n",
       "      <th>0009986</th>\n",
       "      <th>0014731</th>\n",
       "      <th>0016021</th>\n",
       "      <th>0016323</th>\n",
       "      <th>0016529</th>\n",
       "      <th>0030018</th>\n",
       "      <th>0030673</th>\n",
       "      <th>0031430</th>\n",
       "      <th>0042383</th>\n",
       "      <th>0043005</th>\n",
       "      <th>0045211</th>\n",
       "    </tr>\n",
       "    <tr>\n",
       "      <th>uniprotID</th>\n",
       "      <th></th>\n",
       "      <th></th>\n",
       "      <th></th>\n",
       "      <th></th>\n",
       "      <th></th>\n",
       "      <th></th>\n",
       "      <th></th>\n",
       "      <th></th>\n",
       "      <th></th>\n",
       "      <th></th>\n",
       "      <th></th>\n",
       "      <th></th>\n",
       "      <th></th>\n",
       "      <th></th>\n",
       "      <th></th>\n",
       "      <th></th>\n",
       "    </tr>\n",
       "  </thead>\n",
       "  <tbody>\n",
       "    <tr>\n",
       "      <th>P16157</th>\n",
       "      <td>1</td>\n",
       "      <td>1</td>\n",
       "      <td>1</td>\n",
       "      <td>1</td>\n",
       "      <td>1</td>\n",
       "      <td>0</td>\n",
       "      <td>1</td>\n",
       "      <td>0</td>\n",
       "      <td>1</td>\n",
       "      <td>1</td>\n",
       "      <td>1</td>\n",
       "      <td>1</td>\n",
       "      <td>1</td>\n",
       "      <td>1</td>\n",
       "      <td>1</td>\n",
       "      <td>1</td>\n",
       "    </tr>\n",
       "    <tr>\n",
       "      <th>Q5QGT7</th>\n",
       "      <td>0</td>\n",
       "      <td>0</td>\n",
       "      <td>0</td>\n",
       "      <td>1</td>\n",
       "      <td>0</td>\n",
       "      <td>1</td>\n",
       "      <td>0</td>\n",
       "      <td>1</td>\n",
       "      <td>0</td>\n",
       "      <td>0</td>\n",
       "      <td>0</td>\n",
       "      <td>0</td>\n",
       "      <td>0</td>\n",
       "      <td>0</td>\n",
       "      <td>0</td>\n",
       "      <td>0</td>\n",
       "    </tr>\n",
       "  </tbody>\n",
       "</table>\n",
       "</div>"
      ],
      "text/plain": [
       "           0005634  0005829  0005856  0005886  0009898  0009986  0014731  \\\n",
       "uniprotID                                                                  \n",
       "P16157           1        1        1        1        1        0        1   \n",
       "Q5QGT7           0        0        0        1        0        1        0   \n",
       "\n",
       "           0016021  0016323  0016529  0030018  0030673  0031430  0042383  \\\n",
       "uniprotID                                                                  \n",
       "P16157           0        1        1        1        1        1        1   \n",
       "Q5QGT7           1        0        0        0        0        0        0   \n",
       "\n",
       "           0043005  0045211  \n",
       "uniprotID                    \n",
       "P16157           1        1  \n",
       "Q5QGT7           0        0  "
      ]
     },
     "execution_count": 31,
     "metadata": {},
     "output_type": "execute_result"
    }
   ],
   "source": [
    "bar = []\n",
    "for col in foo.columns:\n",
    "    if foo[col].sum() > 0:\n",
    "        bar.append(col)\n",
    "foo.loc[:,foo.columns[foo.sum()>0]]"
   ]
  },
  {
   "cell_type": "code",
   "execution_count": 32,
   "metadata": {
    "execution": {
     "iopub.execute_input": "2021-11-09T17:26:23.868721Z",
     "iopub.status.busy": "2021-11-09T17:26:23.868225Z",
     "iopub.status.idle": "2021-11-09T17:26:24.683651Z",
     "shell.execute_reply": "2021-11-09T17:26:24.682621Z",
     "shell.execute_reply.started": "2021-11-09T17:26:23.868555Z"
    }
   },
   "outputs": [
    {
     "data": {
      "text/plain": [
       "array([[1.        , 0.15430335],\n",
       "       [0.15430335, 1.        ]])"
      ]
     },
     "execution_count": 32,
     "metadata": {},
     "output_type": "execute_result"
    }
   ],
   "source": [
    "from sklearn.metrics.pairwise import cosine_similarity\n",
    "cosine_similarity(foo,foo)"
   ]
  },
  {
   "cell_type": "markdown",
   "metadata": {},
   "source": [
    "---\n",
    "**Export**"
   ]
  },
  {
   "cell_type": "code",
   "execution_count": 33,
   "metadata": {
    "ExecuteTime": {
     "end_time": "2019-10-28T10:39:49.578944Z",
     "start_time": "2019-10-28T10:39:45.470651Z"
    },
    "execution": {
     "iopub.execute_input": "2021-11-09T17:26:24.814596Z",
     "iopub.status.busy": "2021-11-09T17:26:24.814055Z",
     "iopub.status.idle": "2021-11-09T17:26:25.609142Z",
     "shell.execute_reply": "2021-11-09T17:26:25.608488Z",
     "shell.execute_reply.started": "2021-11-09T17:26:24.814416Z"
    }
   },
   "outputs": [],
   "source": [
    "cellCompUniprot_BoW.to_pickle(\n",
    "    os.path.join(\n",
    "        cfg['outputPreprocessingUniprot'], \n",
    "        \"cellCompUniprot_v{}--{}.pkl\".format(logVersions['UniProt']['rawData'], logVersions['UniProt']['preprocessed'])\n",
    "    )\n",
    ")"
   ]
  },
  {
   "cell_type": "markdown",
   "metadata": {},
   "source": [
    "---\n",
    "**Comparing to HPA**"
   ]
  },
  {
   "cell_type": "code",
   "execution_count": 34,
   "metadata": {
    "execution": {
     "iopub.execute_input": "2021-11-09T17:26:27.342871Z",
     "iopub.status.busy": "2021-11-09T17:26:27.342082Z",
     "iopub.status.idle": "2021-11-09T17:26:27.397093Z",
     "shell.execute_reply": "2021-11-09T17:26:27.396234Z",
     "shell.execute_reply.started": "2021-11-09T17:26:27.342511Z"
    }
   },
   "outputs": [
    {
     "data": {
      "text/plain": [
       "array([''], dtype=object)"
      ]
     },
     "execution_count": 34,
     "metadata": {},
     "output_type": "execute_result"
    }
   ],
   "source": [
    "uniprotEnriched2.loc[uniprotEnriched2.Entry == 'Q9NSG2'][\"Gene ontology (cellular component)\"].values\n"
   ]
  },
  {
   "cell_type": "markdown",
   "metadata": {},
   "source": [
    "## Molecular function"
   ]
  },
  {
   "cell_type": "code",
   "execution_count": 35,
   "metadata": {
    "ExecuteTime": {
     "end_time": "2019-10-28T10:40:25.196895Z",
     "start_time": "2019-10-28T10:40:25.060963Z"
    },
    "execution": {
     "iopub.execute_input": "2021-11-09T17:26:28.775225Z",
     "iopub.status.busy": "2021-11-09T17:26:28.774505Z",
     "iopub.status.idle": "2021-11-09T17:26:29.225095Z",
     "shell.execute_reply": "2021-11-09T17:26:29.224567Z",
     "shell.execute_reply.started": "2021-11-09T17:26:28.774942Z"
    }
   },
   "outputs": [
    {
     "name": "stdout",
     "output_type": "stream",
     "text": [
      "20386 20386\n",
      "Shape BoW: (20386, 4346)\n"
     ]
    },
    {
     "data": {
      "text/plain": [
       "<20386x4346 sparse matrix of type '<class 'numpy.int64'>'\n",
       "\twith 56227 stored elements in Compressed Sparse Row format>"
      ]
     },
     "execution_count": 35,
     "metadata": {},
     "output_type": "execute_result"
    }
   ],
   "source": [
    "bow, vectorizer = createBoW(\n",
    "    createGOlist(GOcol = uniprotEnriched2[\"Gene ontology (molecular function)\"], \n",
    "                 regex0 = r\"(?<=\\[GO:)[\\d]+(?=\\])\")\n",
    ")\n",
    "bow"
   ]
  },
  {
   "cell_type": "code",
   "execution_count": 36,
   "metadata": {
    "ExecuteTime": {
     "end_time": "2019-10-28T10:40:25.717931Z",
     "start_time": "2019-10-28T10:40:25.587893Z"
    },
    "execution": {
     "iopub.execute_input": "2021-11-09T17:26:29.888569Z",
     "iopub.status.busy": "2021-11-09T17:26:29.888262Z",
     "iopub.status.idle": "2021-11-09T17:26:30.015113Z",
     "shell.execute_reply": "2021-11-09T17:26:30.014576Z",
     "shell.execute_reply.started": "2021-11-09T17:26:29.888411Z"
    }
   },
   "outputs": [
    {
     "name": "stdout",
     "output_type": "stream",
     "text": [
      "DataFrame: 20,386 rows \t 4,347 columns\n"
     ]
    },
    {
     "data": {
      "text/html": [
       "<div>\n",
       "<style scoped>\n",
       "    .dataframe tbody tr th:only-of-type {\n",
       "        vertical-align: middle;\n",
       "    }\n",
       "\n",
       "    .dataframe tbody tr th {\n",
       "        vertical-align: top;\n",
       "    }\n",
       "\n",
       "    .dataframe thead th {\n",
       "        text-align: right;\n",
       "    }\n",
       "</style>\n",
       "<table border=\"1\" class=\"dataframe\">\n",
       "  <thead>\n",
       "    <tr style=\"text-align: right;\">\n",
       "      <th></th>\n",
       "      <th>0000009</th>\n",
       "      <th>0000010</th>\n",
       "      <th>0000014</th>\n",
       "      <th>0000016</th>\n",
       "      <th>0000026</th>\n",
       "      <th>0000030</th>\n",
       "      <th>0000033</th>\n",
       "      <th>0000035</th>\n",
       "      <th>0000036</th>\n",
       "      <th>0000048</th>\n",
       "      <th>...</th>\n",
       "      <th>1990932</th>\n",
       "      <th>1990935</th>\n",
       "      <th>1990939</th>\n",
       "      <th>1990948</th>\n",
       "      <th>1990955</th>\n",
       "      <th>1990984</th>\n",
       "      <th>2001065</th>\n",
       "      <th>2001069</th>\n",
       "      <th>2001070</th>\n",
       "      <th>uniprotID</th>\n",
       "    </tr>\n",
       "  </thead>\n",
       "  <tbody>\n",
       "    <tr>\n",
       "      <th>0</th>\n",
       "      <td>0</td>\n",
       "      <td>0</td>\n",
       "      <td>0</td>\n",
       "      <td>0</td>\n",
       "      <td>0</td>\n",
       "      <td>0</td>\n",
       "      <td>0</td>\n",
       "      <td>0</td>\n",
       "      <td>0</td>\n",
       "      <td>0</td>\n",
       "      <td>...</td>\n",
       "      <td>0</td>\n",
       "      <td>0</td>\n",
       "      <td>0</td>\n",
       "      <td>0</td>\n",
       "      <td>0</td>\n",
       "      <td>0</td>\n",
       "      <td>0</td>\n",
       "      <td>0</td>\n",
       "      <td>0</td>\n",
       "      <td>A0A024RBG1</td>\n",
       "    </tr>\n",
       "    <tr>\n",
       "      <th>1</th>\n",
       "      <td>0</td>\n",
       "      <td>0</td>\n",
       "      <td>0</td>\n",
       "      <td>0</td>\n",
       "      <td>0</td>\n",
       "      <td>0</td>\n",
       "      <td>0</td>\n",
       "      <td>0</td>\n",
       "      <td>0</td>\n",
       "      <td>0</td>\n",
       "      <td>...</td>\n",
       "      <td>0</td>\n",
       "      <td>0</td>\n",
       "      <td>0</td>\n",
       "      <td>0</td>\n",
       "      <td>0</td>\n",
       "      <td>0</td>\n",
       "      <td>0</td>\n",
       "      <td>0</td>\n",
       "      <td>0</td>\n",
       "      <td>A0A075B6H7</td>\n",
       "    </tr>\n",
       "    <tr>\n",
       "      <th>2</th>\n",
       "      <td>0</td>\n",
       "      <td>0</td>\n",
       "      <td>0</td>\n",
       "      <td>0</td>\n",
       "      <td>0</td>\n",
       "      <td>0</td>\n",
       "      <td>0</td>\n",
       "      <td>0</td>\n",
       "      <td>0</td>\n",
       "      <td>0</td>\n",
       "      <td>...</td>\n",
       "      <td>0</td>\n",
       "      <td>0</td>\n",
       "      <td>0</td>\n",
       "      <td>0</td>\n",
       "      <td>0</td>\n",
       "      <td>0</td>\n",
       "      <td>0</td>\n",
       "      <td>0</td>\n",
       "      <td>0</td>\n",
       "      <td>A0A075B6H8</td>\n",
       "    </tr>\n",
       "    <tr>\n",
       "      <th>3</th>\n",
       "      <td>0</td>\n",
       "      <td>0</td>\n",
       "      <td>0</td>\n",
       "      <td>0</td>\n",
       "      <td>0</td>\n",
       "      <td>0</td>\n",
       "      <td>0</td>\n",
       "      <td>0</td>\n",
       "      <td>0</td>\n",
       "      <td>0</td>\n",
       "      <td>...</td>\n",
       "      <td>0</td>\n",
       "      <td>0</td>\n",
       "      <td>0</td>\n",
       "      <td>0</td>\n",
       "      <td>0</td>\n",
       "      <td>0</td>\n",
       "      <td>0</td>\n",
       "      <td>0</td>\n",
       "      <td>0</td>\n",
       "      <td>A0A075B6H9</td>\n",
       "    </tr>\n",
       "    <tr>\n",
       "      <th>4</th>\n",
       "      <td>0</td>\n",
       "      <td>0</td>\n",
       "      <td>0</td>\n",
       "      <td>0</td>\n",
       "      <td>0</td>\n",
       "      <td>0</td>\n",
       "      <td>0</td>\n",
       "      <td>0</td>\n",
       "      <td>0</td>\n",
       "      <td>0</td>\n",
       "      <td>...</td>\n",
       "      <td>0</td>\n",
       "      <td>0</td>\n",
       "      <td>0</td>\n",
       "      <td>0</td>\n",
       "      <td>0</td>\n",
       "      <td>0</td>\n",
       "      <td>0</td>\n",
       "      <td>0</td>\n",
       "      <td>0</td>\n",
       "      <td>A0A075B6I0</td>\n",
       "    </tr>\n",
       "  </tbody>\n",
       "</table>\n",
       "<p>5 rows × 4347 columns</p>\n",
       "</div>"
      ],
      "text/plain": [
       "   0000009  0000010  0000014  0000016  0000026  0000030  0000033  0000035  \\\n",
       "0        0        0        0        0        0        0        0        0   \n",
       "1        0        0        0        0        0        0        0        0   \n",
       "2        0        0        0        0        0        0        0        0   \n",
       "3        0        0        0        0        0        0        0        0   \n",
       "4        0        0        0        0        0        0        0        0   \n",
       "\n",
       "   0000036  0000048  ...  1990932  1990935  1990939  1990948  1990955  \\\n",
       "0        0        0  ...        0        0        0        0        0   \n",
       "1        0        0  ...        0        0        0        0        0   \n",
       "2        0        0  ...        0        0        0        0        0   \n",
       "3        0        0  ...        0        0        0        0        0   \n",
       "4        0        0  ...        0        0        0        0        0   \n",
       "\n",
       "   1990984  2001065  2001069  2001070   uniprotID  \n",
       "0        0        0        0        0  A0A024RBG1  \n",
       "1        0        0        0        0  A0A075B6H7  \n",
       "2        0        0        0        0  A0A075B6H8  \n",
       "3        0        0        0        0  A0A075B6H9  \n",
       "4        0        0        0        0  A0A075B6I0  \n",
       "\n",
       "[5 rows x 4347 columns]"
      ]
     },
     "metadata": {},
     "output_type": "display_data"
    }
   ],
   "source": [
    "molFuncUniprot_BoW = pd.DataFrame(bow.todense())\n",
    "molFuncUniprot_BoW.columns = vectorizer.get_feature_names()\n",
    "molFuncUniprot_BoW['uniprotID'] = uniprotEnriched2['Entry']\n",
    "\n",
    "glance(molFuncUniprot_BoW)"
   ]
  },
  {
   "cell_type": "markdown",
   "metadata": {},
   "source": [
    "---\n",
    "**Export**"
   ]
  },
  {
   "cell_type": "code",
   "execution_count": 37,
   "metadata": {
    "ExecuteTime": {
     "end_time": "2019-10-28T10:39:49.578944Z",
     "start_time": "2019-10-28T10:39:45.470651Z"
    },
    "execution": {
     "iopub.execute_input": "2021-11-09T17:26:30.920689Z",
     "iopub.status.busy": "2021-11-09T17:26:30.920030Z",
     "iopub.status.idle": "2021-11-09T17:26:32.791838Z",
     "shell.execute_reply": "2021-11-09T17:26:32.791230Z",
     "shell.execute_reply.started": "2021-11-09T17:26:30.920426Z"
    }
   },
   "outputs": [],
   "source": [
    "molFuncUniprot_BoW.to_pickle(\n",
    "    os.path.join(\n",
    "        cfg['outputPreprocessingUniprot'], \n",
    "        \"molFuncUniprot_v{}--{}.pkl\".format(logVersions['UniProt']['rawData'], logVersions['UniProt']['preprocessed'])\n",
    "    )\n",
    ")"
   ]
  },
  {
   "cell_type": "markdown",
   "metadata": {},
   "source": [
    "## Domain"
   ]
  },
  {
   "cell_type": "code",
   "execution_count": 38,
   "metadata": {
    "ExecuteTime": {
     "end_time": "2019-10-28T10:39:28.703045Z",
     "start_time": "2019-10-28T10:39:28.440169Z"
    },
    "execution": {
     "iopub.execute_input": "2021-11-09T17:26:32.792913Z",
     "iopub.status.busy": "2021-11-09T17:26:32.792751Z",
     "iopub.status.idle": "2021-11-09T17:26:33.088515Z",
     "shell.execute_reply": "2021-11-09T17:26:33.087995Z",
     "shell.execute_reply.started": "2021-11-09T17:26:32.792889Z"
    }
   },
   "outputs": [
    {
     "name": "stdout",
     "output_type": "stream",
     "text": [
      "20386 20386\n",
      "Shape BoW: (20386, 2313)\n"
     ]
    },
    {
     "data": {
      "text/plain": [
       "<20386x2313 sparse matrix of type '<class 'numpy.int64'>'\n",
       "\twith 20663 stored elements in Compressed Sparse Row format>"
      ]
     },
     "execution_count": 38,
     "metadata": {},
     "output_type": "execute_result"
    }
   ],
   "source": [
    "bow, vectorizer = createBoW(\n",
    "    createGOlist(GOcol = uniprotEnriched2[\"Domain [FT]\"], \n",
    "                 regex0 = r\"(?<=note=\\\")[^\\\"]+(?=\\\")\")\n",
    ")\n",
    "bow"
   ]
  },
  {
   "cell_type": "code",
   "execution_count": 39,
   "metadata": {
    "ExecuteTime": {
     "end_time": "2019-10-28T10:39:33.407832Z",
     "start_time": "2019-10-28T10:39:33.033817Z"
    },
    "execution": {
     "iopub.execute_input": "2021-11-09T17:26:33.089599Z",
     "iopub.status.busy": "2021-11-09T17:26:33.089455Z",
     "iopub.status.idle": "2021-11-09T17:26:33.128167Z",
     "shell.execute_reply": "2021-11-09T17:26:33.127694Z",
     "shell.execute_reply.started": "2021-11-09T17:26:33.089576Z"
    }
   },
   "outputs": [
    {
     "name": "stdout",
     "output_type": "stream",
     "text": [
      "DataFrame: 20,386 rows \t 2,314 columns\n"
     ]
    },
    {
     "data": {
      "text/html": [
       "<div>\n",
       "<style scoped>\n",
       "    .dataframe tbody tr th:only-of-type {\n",
       "        vertical-align: middle;\n",
       "    }\n",
       "\n",
       "    .dataframe tbody tr th {\n",
       "        vertical-align: top;\n",
       "    }\n",
       "\n",
       "    .dataframe thead th {\n",
       "        text-align: right;\n",
       "    }\n",
       "</style>\n",
       "<table border=\"1\" class=\"dataframe\">\n",
       "  <thead>\n",
       "    <tr style=\"text-align: right;\">\n",
       "      <th></th>\n",
       "      <th>10</th>\n",
       "      <th>11</th>\n",
       "      <th>12</th>\n",
       "      <th>2Fe2Sferredoxintype</th>\n",
       "      <th>2SPRY</th>\n",
       "      <th>2SPRY1</th>\n",
       "      <th>2SPRY2</th>\n",
       "      <th>2SPRY3</th>\n",
       "      <th>3ligatedtype</th>\n",
       "      <th>4Fe4SHis</th>\n",
       "      <th>...</th>\n",
       "      <th>tSNAREcoiledcoilhomology2</th>\n",
       "      <th>trtypeG</th>\n",
       "      <th>truncated</th>\n",
       "      <th>uDENN</th>\n",
       "      <th>uDENNC9ORF72type</th>\n",
       "      <th>uDENNFLCNSMCR8type</th>\n",
       "      <th>uDENNFNIP12type</th>\n",
       "      <th>vSNAREcoiledcoilhomology</th>\n",
       "      <th>xRRM</th>\n",
       "      <th>uniprotID</th>\n",
       "    </tr>\n",
       "  </thead>\n",
       "  <tbody>\n",
       "    <tr>\n",
       "      <th>0</th>\n",
       "      <td>0</td>\n",
       "      <td>0</td>\n",
       "      <td>0</td>\n",
       "      <td>0</td>\n",
       "      <td>0</td>\n",
       "      <td>0</td>\n",
       "      <td>0</td>\n",
       "      <td>0</td>\n",
       "      <td>0</td>\n",
       "      <td>0</td>\n",
       "      <td>...</td>\n",
       "      <td>0</td>\n",
       "      <td>0</td>\n",
       "      <td>0</td>\n",
       "      <td>0</td>\n",
       "      <td>0</td>\n",
       "      <td>0</td>\n",
       "      <td>0</td>\n",
       "      <td>0</td>\n",
       "      <td>0</td>\n",
       "      <td>A0A024RBG1</td>\n",
       "    </tr>\n",
       "    <tr>\n",
       "      <th>1</th>\n",
       "      <td>0</td>\n",
       "      <td>0</td>\n",
       "      <td>0</td>\n",
       "      <td>0</td>\n",
       "      <td>0</td>\n",
       "      <td>0</td>\n",
       "      <td>0</td>\n",
       "      <td>0</td>\n",
       "      <td>0</td>\n",
       "      <td>0</td>\n",
       "      <td>...</td>\n",
       "      <td>0</td>\n",
       "      <td>0</td>\n",
       "      <td>0</td>\n",
       "      <td>0</td>\n",
       "      <td>0</td>\n",
       "      <td>0</td>\n",
       "      <td>0</td>\n",
       "      <td>0</td>\n",
       "      <td>0</td>\n",
       "      <td>A0A075B6H7</td>\n",
       "    </tr>\n",
       "    <tr>\n",
       "      <th>2</th>\n",
       "      <td>0</td>\n",
       "      <td>0</td>\n",
       "      <td>0</td>\n",
       "      <td>0</td>\n",
       "      <td>0</td>\n",
       "      <td>0</td>\n",
       "      <td>0</td>\n",
       "      <td>0</td>\n",
       "      <td>0</td>\n",
       "      <td>0</td>\n",
       "      <td>...</td>\n",
       "      <td>0</td>\n",
       "      <td>0</td>\n",
       "      <td>0</td>\n",
       "      <td>0</td>\n",
       "      <td>0</td>\n",
       "      <td>0</td>\n",
       "      <td>0</td>\n",
       "      <td>0</td>\n",
       "      <td>0</td>\n",
       "      <td>A0A075B6H8</td>\n",
       "    </tr>\n",
       "    <tr>\n",
       "      <th>3</th>\n",
       "      <td>0</td>\n",
       "      <td>0</td>\n",
       "      <td>0</td>\n",
       "      <td>0</td>\n",
       "      <td>0</td>\n",
       "      <td>0</td>\n",
       "      <td>0</td>\n",
       "      <td>0</td>\n",
       "      <td>0</td>\n",
       "      <td>0</td>\n",
       "      <td>...</td>\n",
       "      <td>0</td>\n",
       "      <td>0</td>\n",
       "      <td>0</td>\n",
       "      <td>0</td>\n",
       "      <td>0</td>\n",
       "      <td>0</td>\n",
       "      <td>0</td>\n",
       "      <td>0</td>\n",
       "      <td>0</td>\n",
       "      <td>A0A075B6H9</td>\n",
       "    </tr>\n",
       "    <tr>\n",
       "      <th>4</th>\n",
       "      <td>0</td>\n",
       "      <td>0</td>\n",
       "      <td>0</td>\n",
       "      <td>0</td>\n",
       "      <td>0</td>\n",
       "      <td>0</td>\n",
       "      <td>0</td>\n",
       "      <td>0</td>\n",
       "      <td>0</td>\n",
       "      <td>0</td>\n",
       "      <td>...</td>\n",
       "      <td>0</td>\n",
       "      <td>0</td>\n",
       "      <td>0</td>\n",
       "      <td>0</td>\n",
       "      <td>0</td>\n",
       "      <td>0</td>\n",
       "      <td>0</td>\n",
       "      <td>0</td>\n",
       "      <td>0</td>\n",
       "      <td>A0A075B6I0</td>\n",
       "    </tr>\n",
       "  </tbody>\n",
       "</table>\n",
       "<p>5 rows × 2314 columns</p>\n",
       "</div>"
      ],
      "text/plain": [
       "   10  11  12  2Fe2Sferredoxintype  2SPRY  2SPRY1  2SPRY2  2SPRY3  \\\n",
       "0   0   0   0                    0      0       0       0       0   \n",
       "1   0   0   0                    0      0       0       0       0   \n",
       "2   0   0   0                    0      0       0       0       0   \n",
       "3   0   0   0                    0      0       0       0       0   \n",
       "4   0   0   0                    0      0       0       0       0   \n",
       "\n",
       "   3ligatedtype  4Fe4SHis  ...  tSNAREcoiledcoilhomology2  trtypeG  truncated  \\\n",
       "0             0         0  ...                          0        0          0   \n",
       "1             0         0  ...                          0        0          0   \n",
       "2             0         0  ...                          0        0          0   \n",
       "3             0         0  ...                          0        0          0   \n",
       "4             0         0  ...                          0        0          0   \n",
       "\n",
       "   uDENN  uDENNC9ORF72type  uDENNFLCNSMCR8type  uDENNFNIP12type  \\\n",
       "0      0                 0                   0                0   \n",
       "1      0                 0                   0                0   \n",
       "2      0                 0                   0                0   \n",
       "3      0                 0                   0                0   \n",
       "4      0                 0                   0                0   \n",
       "\n",
       "   vSNAREcoiledcoilhomology  xRRM   uniprotID  \n",
       "0                         0     0  A0A024RBG1  \n",
       "1                         0     0  A0A075B6H7  \n",
       "2                         0     0  A0A075B6H8  \n",
       "3                         0     0  A0A075B6H9  \n",
       "4                         0     0  A0A075B6I0  \n",
       "\n",
       "[5 rows x 2314 columns]"
      ]
     },
     "metadata": {},
     "output_type": "display_data"
    }
   ],
   "source": [
    "# This one takes a while to run\n",
    "domain_BoW = pd.DataFrame(bow.todense())\n",
    "domain_BoW.columns = vectorizer.get_feature_names()\n",
    "domain_BoW['uniprotID'] = uniprotEnriched2['Entry']\n",
    "\n",
    "glance(domain_BoW)"
   ]
  },
  {
   "cell_type": "markdown",
   "metadata": {},
   "source": [
    "---\n",
    "**Test of the parsing method**"
   ]
  },
  {
   "cell_type": "code",
   "execution_count": 40,
   "metadata": {
    "ExecuteTime": {
     "end_time": "2019-10-28T11:48:58.954243Z",
     "start_time": "2019-10-28T11:48:58.618363Z"
    },
    "execution": {
     "iopub.execute_input": "2021-11-09T17:26:33.941471Z",
     "iopub.status.busy": "2021-11-09T17:26:33.940795Z",
     "iopub.status.idle": "2021-11-09T17:26:34.358822Z",
     "shell.execute_reply": "2021-11-09T17:26:34.358220Z",
     "shell.execute_reply.started": "2021-11-09T17:26:33.941196Z"
    },
    "scrolled": true
   },
   "outputs": [
    {
     "name": "stdout",
     "output_type": "stream",
     "text": [
      "20386 20386\n"
     ]
    },
    {
     "data": {
      "text/html": [
       "<div>\n",
       "<style scoped>\n",
       "    .dataframe tbody tr th:only-of-type {\n",
       "        vertical-align: middle;\n",
       "    }\n",
       "\n",
       "    .dataframe tbody tr th {\n",
       "        vertical-align: top;\n",
       "    }\n",
       "\n",
       "    .dataframe thead th {\n",
       "        text-align: right;\n",
       "    }\n",
       "</style>\n",
       "<table border=\"1\" class=\"dataframe\">\n",
       "  <thead>\n",
       "    <tr style=\"text-align: right;\">\n",
       "      <th></th>\n",
       "      <th>a</th>\n",
       "      <th>b</th>\n",
       "    </tr>\n",
       "  </thead>\n",
       "  <tbody>\n",
       "    <tr>\n",
       "      <th>0</th>\n",
       "      <td>DOMAIN 18..145;  /note=\"Nudix hydrolase\";  /ev...</td>\n",
       "      <td>Nudixhydrolase</td>\n",
       "    </tr>\n",
       "    <tr>\n",
       "      <th>1</th>\n",
       "      <td>DOMAIN 22..&gt;116;  /note=\"Ig-like\";  /evidence=...</td>\n",
       "      <td>Iglike</td>\n",
       "    </tr>\n",
       "    <tr>\n",
       "      <th>2</th>\n",
       "      <td>DOMAIN 23..&gt;117;  /note=\"Ig-like\";  /evidence=...</td>\n",
       "      <td>Iglike</td>\n",
       "    </tr>\n",
       "    <tr>\n",
       "      <th>3</th>\n",
       "      <td>DOMAIN 21..&gt;119;  /note=\"Ig-like\";  /evidence=...</td>\n",
       "      <td>Iglike</td>\n",
       "    </tr>\n",
       "    <tr>\n",
       "      <th>4</th>\n",
       "      <td>DOMAIN 25..&gt;122;  /note=\"Ig-like\";  /evidence=...</td>\n",
       "      <td>Iglike</td>\n",
       "    </tr>\n",
       "    <tr>\n",
       "      <th>...</th>\n",
       "      <td>...</td>\n",
       "      <td>...</td>\n",
       "    </tr>\n",
       "    <tr>\n",
       "      <th>20372</th>\n",
       "      <td>DOMAIN 873..953;  /note=\"IPT/TIG\"; DOMAIN 1547...</td>\n",
       "      <td>IPTTIG IQ1 IQ2 IQ3</td>\n",
       "    </tr>\n",
       "    <tr>\n",
       "      <th>20373</th>\n",
       "      <td>DOMAIN 644..707;  /note=\"SAM\"; DOMAIN 779..989...</td>\n",
       "      <td>SAM DDHD</td>\n",
       "    </tr>\n",
       "    <tr>\n",
       "      <th>20378</th>\n",
       "      <td>DOMAIN 53..112;  /note=\"Collagen-like\"; DOMAIN...</td>\n",
       "      <td>Collagenlike Ctypelectin</td>\n",
       "    </tr>\n",
       "    <tr>\n",
       "      <th>20383</th>\n",
       "      <td>DOMAIN 150..236;  /note=\"Ig-like\";  /evidence=...</td>\n",
       "      <td>Iglike</td>\n",
       "    </tr>\n",
       "    <tr>\n",
       "      <th>20384</th>\n",
       "      <td>DOMAIN 1..52;  /note=\"Pyrin\";  /evidence=\"ECO:...</td>\n",
       "      <td>Pyrin</td>\n",
       "    </tr>\n",
       "  </tbody>\n",
       "</table>\n",
       "<p>8571 rows × 2 columns</p>\n",
       "</div>"
      ],
      "text/plain": [
       "                                                       a  \\\n",
       "0      DOMAIN 18..145;  /note=\"Nudix hydrolase\";  /ev...   \n",
       "1      DOMAIN 22..>116;  /note=\"Ig-like\";  /evidence=...   \n",
       "2      DOMAIN 23..>117;  /note=\"Ig-like\";  /evidence=...   \n",
       "3      DOMAIN 21..>119;  /note=\"Ig-like\";  /evidence=...   \n",
       "4      DOMAIN 25..>122;  /note=\"Ig-like\";  /evidence=...   \n",
       "...                                                  ...   \n",
       "20372  DOMAIN 873..953;  /note=\"IPT/TIG\"; DOMAIN 1547...   \n",
       "20373  DOMAIN 644..707;  /note=\"SAM\"; DOMAIN 779..989...   \n",
       "20378  DOMAIN 53..112;  /note=\"Collagen-like\"; DOMAIN...   \n",
       "20383  DOMAIN 150..236;  /note=\"Ig-like\";  /evidence=...   \n",
       "20384  DOMAIN 1..52;  /note=\"Pyrin\";  /evidence=\"ECO:...   \n",
       "\n",
       "                              b  \n",
       "0                Nudixhydrolase  \n",
       "1                        Iglike  \n",
       "2                        Iglike  \n",
       "3                        Iglike  \n",
       "4                        Iglike  \n",
       "...                         ...  \n",
       "20372        IPTTIG IQ1 IQ2 IQ3  \n",
       "20373                  SAM DDHD  \n",
       "20378  Collagenlike Ctypelectin  \n",
       "20383                    Iglike  \n",
       "20384                     Pyrin  \n",
       "\n",
       "[8571 rows x 2 columns]"
      ]
     },
     "execution_count": 40,
     "metadata": {},
     "output_type": "execute_result"
    }
   ],
   "source": [
    "temp1 = pd.DataFrame({'a': uniprotEnriched2[\"Domain [FT]\"],\n",
    "                      'b': createGOlist(GOcol = uniprotEnriched2[\"Domain [FT]\"], \n",
    "                                        regex0 = r\"(?<=note=\\\")[^\\\"]+(?=\\\")\"\n",
    "                                       )}\n",
    "                     )\n",
    "temp1.loc[temp1.a != '']"
   ]
  },
  {
   "cell_type": "code",
   "execution_count": 41,
   "metadata": {
    "execution": {
     "iopub.execute_input": "2021-11-09T17:26:35.017495Z",
     "iopub.status.busy": "2021-11-09T17:26:35.016785Z",
     "iopub.status.idle": "2021-11-09T17:26:35.032279Z",
     "shell.execute_reply": "2021-11-09T17:26:35.031081Z",
     "shell.execute_reply.started": "2021-11-09T17:26:35.017209Z"
    },
    "scrolled": true
   },
   "outputs": [],
   "source": [
    "# Sanity check\n",
    "foo = temp1.loc[(temp1.a != '')&(temp1.b == '')]\n",
    "assert len(foo) == 0"
   ]
  },
  {
   "cell_type": "markdown",
   "metadata": {},
   "source": [
    "---\n",
    "**Number of 1 per domain**"
   ]
  },
  {
   "cell_type": "code",
   "execution_count": 42,
   "metadata": {
    "execution": {
     "iopub.execute_input": "2021-11-09T17:26:35.881969Z",
     "iopub.status.busy": "2021-11-09T17:26:35.881480Z",
     "iopub.status.idle": "2021-11-09T17:26:36.559220Z",
     "shell.execute_reply": "2021-11-09T17:26:36.558481Z",
     "shell.execute_reply.started": "2021-11-09T17:26:35.881891Z"
    }
   },
   "outputs": [
    {
     "data": {
      "text/plain": [
       "count    2313.00000\n",
       "mean        8.93342\n",
       "std        23.56932\n",
       "min         1.00000\n",
       "10%         1.00000\n",
       "20%         1.00000\n",
       "30%         1.00000\n",
       "40%         2.00000\n",
       "50%         3.00000\n",
       "60%         4.00000\n",
       "70%         6.00000\n",
       "80%         9.00000\n",
       "90%        18.00000\n",
       "max       476.00000\n",
       "dtype: float64"
      ]
     },
     "execution_count": 42,
     "metadata": {},
     "output_type": "execute_result"
    }
   ],
   "source": [
    "OneperMotif = domain_BoW.set_index('uniprotID').sum(axis=0).astype(int)\n",
    "\n",
    "OneperMotif.describe(percentiles=np.linspace(0.1,0.9,9))"
   ]
  },
  {
   "cell_type": "markdown",
   "metadata": {},
   "source": [
    "---\n",
    "**Export**"
   ]
  },
  {
   "cell_type": "code",
   "execution_count": 43,
   "metadata": {
    "ExecuteTime": {
     "end_time": "2019-10-28T10:39:49.578944Z",
     "start_time": "2019-10-28T10:39:45.470651Z"
    },
    "execution": {
     "iopub.execute_input": "2021-11-09T17:26:37.603759Z",
     "iopub.status.busy": "2021-11-09T17:26:37.603039Z",
     "iopub.status.idle": "2021-11-09T17:26:38.551897Z",
     "shell.execute_reply": "2021-11-09T17:26:38.551298Z",
     "shell.execute_reply.started": "2021-11-09T17:26:37.603459Z"
    }
   },
   "outputs": [],
   "source": [
    "domain_BoW.to_pickle(\n",
    "    os.path.join(\n",
    "        cfg['outputPreprocessingUniprot'], \n",
    "        \"domainFT_v{}--{}.pkl\".format(logVersions['UniProt']['rawData'], logVersions['UniProt']['preprocessed'])\n",
    "    )\n",
    ")"
   ]
  },
  {
   "cell_type": "markdown",
   "metadata": {},
   "source": [
    "## Motif"
   ]
  },
  {
   "cell_type": "code",
   "execution_count": 44,
   "metadata": {
    "ExecuteTime": {
     "end_time": "2019-10-28T10:39:28.703045Z",
     "start_time": "2019-10-28T10:39:28.440169Z"
    },
    "execution": {
     "iopub.execute_input": "2021-11-09T17:26:38.840459Z",
     "iopub.status.busy": "2021-11-09T17:26:38.839795Z",
     "iopub.status.idle": "2021-11-09T17:26:39.115811Z",
     "shell.execute_reply": "2021-11-09T17:26:39.115374Z",
     "shell.execute_reply.started": "2021-11-09T17:26:38.840186Z"
    }
   },
   "outputs": [
    {
     "name": "stdout",
     "output_type": "stream",
     "text": [
      "20386 20386\n",
      "Shape BoW: (20386, 819)\n"
     ]
    },
    {
     "data": {
      "text/plain": [
       "<20386x819 sparse matrix of type '<class 'numpy.int64'>'\n",
       "\twith 3584 stored elements in Compressed Sparse Row format>"
      ]
     },
     "execution_count": 44,
     "metadata": {},
     "output_type": "execute_result"
    }
   ],
   "source": [
    "bow, vectorizer = createBoW(\n",
    "    createGOlist(GOcol = uniprotEnriched2[\"Motif\"], \n",
    "                 regex0 = r\"(?<=note=\\\")[^\\\"]+(?=\\\")\")\n",
    ")\n",
    "bow"
   ]
  },
  {
   "cell_type": "code",
   "execution_count": 45,
   "metadata": {
    "ExecuteTime": {
     "end_time": "2019-10-28T10:39:33.407832Z",
     "start_time": "2019-10-28T10:39:33.033817Z"
    },
    "execution": {
     "iopub.execute_input": "2021-11-09T17:26:39.116586Z",
     "iopub.status.busy": "2021-11-09T17:26:39.116453Z",
     "iopub.status.idle": "2021-11-09T17:26:39.136095Z",
     "shell.execute_reply": "2021-11-09T17:26:39.135664Z",
     "shell.execute_reply.started": "2021-11-09T17:26:39.116563Z"
    }
   },
   "outputs": [
    {
     "name": "stdout",
     "output_type": "stream",
     "text": [
      "DataFrame: 20,386 rows \t 820 columns\n"
     ]
    },
    {
     "data": {
      "text/html": [
       "<div>\n",
       "<style scoped>\n",
       "    .dataframe tbody tr th:only-of-type {\n",
       "        vertical-align: middle;\n",
       "    }\n",
       "\n",
       "    .dataframe tbody tr th {\n",
       "        vertical-align: top;\n",
       "    }\n",
       "\n",
       "    .dataframe thead th {\n",
       "        text-align: right;\n",
       "    }\n",
       "</style>\n",
       "<table border=\"1\" class=\"dataframe\">\n",
       "  <thead>\n",
       "    <tr style=\"text-align: right;\">\n",
       "      <th></th>\n",
       "      <th>2SPRYdomainbindingmotif</th>\n",
       "      <th>4EHPbindingmotif</th>\n",
       "      <th>4Smotif</th>\n",
       "      <th>4motif</th>\n",
       "      <th>9aaTAD</th>\n",
       "      <th>9aaTAD1</th>\n",
       "      <th>9aaTAD2</th>\n",
       "      <th>AAASmotif</th>\n",
       "      <th>AAD</th>\n",
       "      <th>ABS2</th>\n",
       "      <th>...</th>\n",
       "      <th>requiredforinteractionwithCTTN</th>\n",
       "      <th>requiredforinteractionwithHSC20</th>\n",
       "      <th>requiredforinteractionwithMAPRE1</th>\n",
       "      <th>requiredforinteractionwithSLC9A3R1</th>\n",
       "      <th>requiredforpropernuclearlocalization</th>\n",
       "      <th>signalforcargopackagingintoCOPIIcoatedvesicles</th>\n",
       "      <th>toFYN</th>\n",
       "      <th>toLCP2</th>\n",
       "      <th>xCxx</th>\n",
       "      <th>uniprotID</th>\n",
       "    </tr>\n",
       "  </thead>\n",
       "  <tbody>\n",
       "    <tr>\n",
       "      <th>0</th>\n",
       "      <td>0</td>\n",
       "      <td>0</td>\n",
       "      <td>0</td>\n",
       "      <td>0</td>\n",
       "      <td>0</td>\n",
       "      <td>0</td>\n",
       "      <td>0</td>\n",
       "      <td>0</td>\n",
       "      <td>0</td>\n",
       "      <td>0</td>\n",
       "      <td>...</td>\n",
       "      <td>0</td>\n",
       "      <td>0</td>\n",
       "      <td>0</td>\n",
       "      <td>0</td>\n",
       "      <td>0</td>\n",
       "      <td>0</td>\n",
       "      <td>0</td>\n",
       "      <td>0</td>\n",
       "      <td>0</td>\n",
       "      <td>A0A024RBG1</td>\n",
       "    </tr>\n",
       "    <tr>\n",
       "      <th>1</th>\n",
       "      <td>0</td>\n",
       "      <td>0</td>\n",
       "      <td>0</td>\n",
       "      <td>0</td>\n",
       "      <td>0</td>\n",
       "      <td>0</td>\n",
       "      <td>0</td>\n",
       "      <td>0</td>\n",
       "      <td>0</td>\n",
       "      <td>0</td>\n",
       "      <td>...</td>\n",
       "      <td>0</td>\n",
       "      <td>0</td>\n",
       "      <td>0</td>\n",
       "      <td>0</td>\n",
       "      <td>0</td>\n",
       "      <td>0</td>\n",
       "      <td>0</td>\n",
       "      <td>0</td>\n",
       "      <td>0</td>\n",
       "      <td>A0A075B6H7</td>\n",
       "    </tr>\n",
       "    <tr>\n",
       "      <th>2</th>\n",
       "      <td>0</td>\n",
       "      <td>0</td>\n",
       "      <td>0</td>\n",
       "      <td>0</td>\n",
       "      <td>0</td>\n",
       "      <td>0</td>\n",
       "      <td>0</td>\n",
       "      <td>0</td>\n",
       "      <td>0</td>\n",
       "      <td>0</td>\n",
       "      <td>...</td>\n",
       "      <td>0</td>\n",
       "      <td>0</td>\n",
       "      <td>0</td>\n",
       "      <td>0</td>\n",
       "      <td>0</td>\n",
       "      <td>0</td>\n",
       "      <td>0</td>\n",
       "      <td>0</td>\n",
       "      <td>0</td>\n",
       "      <td>A0A075B6H8</td>\n",
       "    </tr>\n",
       "    <tr>\n",
       "      <th>3</th>\n",
       "      <td>0</td>\n",
       "      <td>0</td>\n",
       "      <td>0</td>\n",
       "      <td>0</td>\n",
       "      <td>0</td>\n",
       "      <td>0</td>\n",
       "      <td>0</td>\n",
       "      <td>0</td>\n",
       "      <td>0</td>\n",
       "      <td>0</td>\n",
       "      <td>...</td>\n",
       "      <td>0</td>\n",
       "      <td>0</td>\n",
       "      <td>0</td>\n",
       "      <td>0</td>\n",
       "      <td>0</td>\n",
       "      <td>0</td>\n",
       "      <td>0</td>\n",
       "      <td>0</td>\n",
       "      <td>0</td>\n",
       "      <td>A0A075B6H9</td>\n",
       "    </tr>\n",
       "    <tr>\n",
       "      <th>4</th>\n",
       "      <td>0</td>\n",
       "      <td>0</td>\n",
       "      <td>0</td>\n",
       "      <td>0</td>\n",
       "      <td>0</td>\n",
       "      <td>0</td>\n",
       "      <td>0</td>\n",
       "      <td>0</td>\n",
       "      <td>0</td>\n",
       "      <td>0</td>\n",
       "      <td>...</td>\n",
       "      <td>0</td>\n",
       "      <td>0</td>\n",
       "      <td>0</td>\n",
       "      <td>0</td>\n",
       "      <td>0</td>\n",
       "      <td>0</td>\n",
       "      <td>0</td>\n",
       "      <td>0</td>\n",
       "      <td>0</td>\n",
       "      <td>A0A075B6I0</td>\n",
       "    </tr>\n",
       "  </tbody>\n",
       "</table>\n",
       "<p>5 rows × 820 columns</p>\n",
       "</div>"
      ],
      "text/plain": [
       "   2SPRYdomainbindingmotif  4EHPbindingmotif  4Smotif  4motif  9aaTAD  \\\n",
       "0                        0                 0        0       0       0   \n",
       "1                        0                 0        0       0       0   \n",
       "2                        0                 0        0       0       0   \n",
       "3                        0                 0        0       0       0   \n",
       "4                        0                 0        0       0       0   \n",
       "\n",
       "   9aaTAD1  9aaTAD2  AAASmotif  AAD  ABS2  ...  \\\n",
       "0        0        0          0    0     0  ...   \n",
       "1        0        0          0    0     0  ...   \n",
       "2        0        0          0    0     0  ...   \n",
       "3        0        0          0    0     0  ...   \n",
       "4        0        0          0    0     0  ...   \n",
       "\n",
       "   requiredforinteractionwithCTTN  requiredforinteractionwithHSC20  \\\n",
       "0                               0                                0   \n",
       "1                               0                                0   \n",
       "2                               0                                0   \n",
       "3                               0                                0   \n",
       "4                               0                                0   \n",
       "\n",
       "   requiredforinteractionwithMAPRE1  requiredforinteractionwithSLC9A3R1  \\\n",
       "0                                 0                                   0   \n",
       "1                                 0                                   0   \n",
       "2                                 0                                   0   \n",
       "3                                 0                                   0   \n",
       "4                                 0                                   0   \n",
       "\n",
       "   requiredforpropernuclearlocalization  \\\n",
       "0                                     0   \n",
       "1                                     0   \n",
       "2                                     0   \n",
       "3                                     0   \n",
       "4                                     0   \n",
       "\n",
       "   signalforcargopackagingintoCOPIIcoatedvesicles  toFYN  toLCP2  xCxx  \\\n",
       "0                                               0      0       0     0   \n",
       "1                                               0      0       0     0   \n",
       "2                                               0      0       0     0   \n",
       "3                                               0      0       0     0   \n",
       "4                                               0      0       0     0   \n",
       "\n",
       "    uniprotID  \n",
       "0  A0A024RBG1  \n",
       "1  A0A075B6H7  \n",
       "2  A0A075B6H8  \n",
       "3  A0A075B6H9  \n",
       "4  A0A075B6I0  \n",
       "\n",
       "[5 rows x 820 columns]"
      ]
     },
     "metadata": {},
     "output_type": "display_data"
    }
   ],
   "source": [
    "# This one takes a while to run\n",
    "motif_BoW = pd.DataFrame(bow.todense())\n",
    "motif_BoW.columns = vectorizer.get_feature_names()\n",
    "motif_BoW['uniprotID'] = uniprotEnriched2['Entry']\n",
    "\n",
    "glance(motif_BoW)"
   ]
  },
  {
   "cell_type": "markdown",
   "metadata": {},
   "source": [
    "---\n",
    "**Test of the parsing method**"
   ]
  },
  {
   "cell_type": "code",
   "execution_count": 46,
   "metadata": {
    "ExecuteTime": {
     "end_time": "2019-10-28T11:48:58.954243Z",
     "start_time": "2019-10-28T11:48:58.618363Z"
    },
    "execution": {
     "iopub.execute_input": "2021-11-09T17:26:39.516720Z",
     "iopub.status.busy": "2021-11-09T17:26:39.516089Z",
     "iopub.status.idle": "2021-11-09T17:26:39.773948Z",
     "shell.execute_reply": "2021-11-09T17:26:39.773452Z",
     "shell.execute_reply.started": "2021-11-09T17:26:39.516458Z"
    },
    "scrolled": true
   },
   "outputs": [
    {
     "name": "stdout",
     "output_type": "stream",
     "text": [
      "20386 20386\n"
     ]
    },
    {
     "data": {
      "text/html": [
       "<div>\n",
       "<style scoped>\n",
       "    .dataframe tbody tr th:only-of-type {\n",
       "        vertical-align: middle;\n",
       "    }\n",
       "\n",
       "    .dataframe tbody tr th {\n",
       "        vertical-align: top;\n",
       "    }\n",
       "\n",
       "    .dataframe thead th {\n",
       "        text-align: right;\n",
       "    }\n",
       "</style>\n",
       "<table border=\"1\" class=\"dataframe\">\n",
       "  <thead>\n",
       "    <tr style=\"text-align: right;\">\n",
       "      <th></th>\n",
       "      <th>a</th>\n",
       "      <th>b</th>\n",
       "    </tr>\n",
       "  </thead>\n",
       "  <tbody>\n",
       "    <tr>\n",
       "      <th>0</th>\n",
       "      <td>MOTIF 51..72;  /note=\"Nudix box\";  /evidence=\"...</td>\n",
       "      <td>Nudixbox</td>\n",
       "    </tr>\n",
       "    <tr>\n",
       "      <th>67</th>\n",
       "      <td>MOTIF 275..277;  /note=\"POLO box domain (PBD)-...</td>\n",
       "      <td>POLOboxdomain(PBD)binding</td>\n",
       "    </tr>\n",
       "    <tr>\n",
       "      <th>237</th>\n",
       "      <td>MOTIF 48..57;  /note=\"AxLyCxL\";  /evidence=\"EC...</td>\n",
       "      <td>AxLyCxL</td>\n",
       "    </tr>\n",
       "    <tr>\n",
       "      <th>385</th>\n",
       "      <td>MOTIF 28..43;  /note=\"Engrailed homology 1 rep...</td>\n",
       "      <td>Engrailedhomology1repressor</td>\n",
       "    </tr>\n",
       "    <tr>\n",
       "      <th>413</th>\n",
       "      <td>MOTIF 25..35;  /note=\"Cx9C motif 1\";  /evidenc...</td>\n",
       "      <td>Cx9Cmotif1 Cx9Cmotif2</td>\n",
       "    </tr>\n",
       "    <tr>\n",
       "      <th>...</th>\n",
       "      <td>...</td>\n",
       "      <td>...</td>\n",
       "    </tr>\n",
       "    <tr>\n",
       "      <th>20335</th>\n",
       "      <td>MOTIF 1059..1061;  /note=\"Cell attachment site...</td>\n",
       "      <td>Cellattachmentsite</td>\n",
       "    </tr>\n",
       "    <tr>\n",
       "      <th>20345</th>\n",
       "      <td>MOTIF 685..689;  /note=\"LXXLL motif 1\"; MOTIF ...</td>\n",
       "      <td>LXXLLmotif1 LXXLLmotif2 LXXLLmotif3</td>\n",
       "    </tr>\n",
       "    <tr>\n",
       "      <th>20357</th>\n",
       "      <td>MOTIF 2..30;  /note=\"Q motif\"; MOTIF 152..155;...</td>\n",
       "      <td>Qmotif DEADbox</td>\n",
       "    </tr>\n",
       "    <tr>\n",
       "      <th>20364</th>\n",
       "      <td>MOTIF 19..23;  /note=\"LXXLL motif\"</td>\n",
       "      <td>LXXLLmotif</td>\n",
       "    </tr>\n",
       "    <tr>\n",
       "      <th>20372</th>\n",
       "      <td>MOTIF 112..119;  /note=\"Nuclear localization s...</td>\n",
       "      <td>Nuclearlocalizationsignal</td>\n",
       "    </tr>\n",
       "  </tbody>\n",
       "</table>\n",
       "<p>2283 rows × 2 columns</p>\n",
       "</div>"
      ],
      "text/plain": [
       "                                                       a  \\\n",
       "0      MOTIF 51..72;  /note=\"Nudix box\";  /evidence=\"...   \n",
       "67     MOTIF 275..277;  /note=\"POLO box domain (PBD)-...   \n",
       "237    MOTIF 48..57;  /note=\"AxLyCxL\";  /evidence=\"EC...   \n",
       "385    MOTIF 28..43;  /note=\"Engrailed homology 1 rep...   \n",
       "413    MOTIF 25..35;  /note=\"Cx9C motif 1\";  /evidenc...   \n",
       "...                                                  ...   \n",
       "20335  MOTIF 1059..1061;  /note=\"Cell attachment site...   \n",
       "20345  MOTIF 685..689;  /note=\"LXXLL motif 1\"; MOTIF ...   \n",
       "20357  MOTIF 2..30;  /note=\"Q motif\"; MOTIF 152..155;...   \n",
       "20364                 MOTIF 19..23;  /note=\"LXXLL motif\"   \n",
       "20372  MOTIF 112..119;  /note=\"Nuclear localization s...   \n",
       "\n",
       "                                         b  \n",
       "0                                 Nudixbox  \n",
       "67               POLOboxdomain(PBD)binding  \n",
       "237                                AxLyCxL  \n",
       "385            Engrailedhomology1repressor  \n",
       "413                  Cx9Cmotif1 Cx9Cmotif2  \n",
       "...                                    ...  \n",
       "20335                   Cellattachmentsite  \n",
       "20345  LXXLLmotif1 LXXLLmotif2 LXXLLmotif3  \n",
       "20357                       Qmotif DEADbox  \n",
       "20364                           LXXLLmotif  \n",
       "20372            Nuclearlocalizationsignal  \n",
       "\n",
       "[2283 rows x 2 columns]"
      ]
     },
     "execution_count": 46,
     "metadata": {},
     "output_type": "execute_result"
    }
   ],
   "source": [
    "temp1 = pd.DataFrame({'a': uniprotEnriched2[\"Motif\"],\n",
    "                      'b': createGOlist(GOcol = uniprotEnriched2[\"Motif\"], \n",
    "                                        regex0 = r\"(?<=note=\\\")[^\\\"]+(?=\\\")\"\n",
    "                                       )}\n",
    "                     )\n",
    "temp1.loc[temp1.a != '']"
   ]
  },
  {
   "cell_type": "code",
   "execution_count": 47,
   "metadata": {
    "execution": {
     "iopub.execute_input": "2021-11-09T17:26:39.952314Z",
     "iopub.status.busy": "2021-11-09T17:26:39.952047Z",
     "iopub.status.idle": "2021-11-09T17:26:39.960960Z",
     "shell.execute_reply": "2021-11-09T17:26:39.960168Z",
     "shell.execute_reply.started": "2021-11-09T17:26:39.952272Z"
    },
    "scrolled": true
   },
   "outputs": [],
   "source": [
    "# Sanity check\n",
    "foo = temp1.loc[(temp1.a != '')&(temp1.b == '')]\n",
    "assert len(foo) == 0"
   ]
  },
  {
   "cell_type": "markdown",
   "metadata": {},
   "source": [
    "---\n",
    "**Number of 1 per motifs**"
   ]
  },
  {
   "cell_type": "code",
   "execution_count": 48,
   "metadata": {
    "execution": {
     "iopub.execute_input": "2021-11-09T17:26:40.635248Z",
     "iopub.status.busy": "2021-11-09T17:26:40.634584Z",
     "iopub.status.idle": "2021-11-09T17:26:40.927993Z",
     "shell.execute_reply": "2021-11-09T17:26:40.927483Z",
     "shell.execute_reply.started": "2021-11-09T17:26:40.634981Z"
    }
   },
   "outputs": [
    {
     "data": {
      "text/plain": [
       "count    819.000000\n",
       "mean       4.376068\n",
       "std       18.169003\n",
       "min        1.000000\n",
       "10%        1.000000\n",
       "20%        1.000000\n",
       "30%        1.000000\n",
       "40%        1.000000\n",
       "50%        1.000000\n",
       "60%        2.000000\n",
       "70%        2.000000\n",
       "80%        3.000000\n",
       "90%        8.000000\n",
       "max      454.000000\n",
       "dtype: float64"
      ]
     },
     "execution_count": 48,
     "metadata": {},
     "output_type": "execute_result"
    }
   ],
   "source": [
    "OneperMotif = motif_BoW.set_index('uniprotID').sum(axis=0).astype(int)\n",
    "\n",
    "OneperMotif.describe(percentiles=np.linspace(0.1,0.9,9))"
   ]
  },
  {
   "cell_type": "markdown",
   "metadata": {},
   "source": [
    "---\n",
    "**Export**"
   ]
  },
  {
   "cell_type": "code",
   "execution_count": 49,
   "metadata": {
    "ExecuteTime": {
     "end_time": "2019-10-28T10:39:49.578944Z",
     "start_time": "2019-10-28T10:39:45.470651Z"
    },
    "execution": {
     "iopub.execute_input": "2021-11-09T17:26:41.051806Z",
     "iopub.status.busy": "2021-11-09T17:26:41.051594Z",
     "iopub.status.idle": "2021-11-09T17:26:41.438875Z",
     "shell.execute_reply": "2021-11-09T17:26:41.438282Z",
     "shell.execute_reply.started": "2021-11-09T17:26:41.051763Z"
    }
   },
   "outputs": [],
   "source": [
    "motif_BoW.to_pickle(\n",
    "    os.path.join(\n",
    "        cfg['outputPreprocessingUniprot'], \n",
    "        \"motif_v{}--{}.pkl\".format(logVersions['UniProt']['rawData'], logVersions['UniProt']['preprocessed'])\n",
    "    )\n",
    ")"
   ]
  },
  {
   "cell_type": "markdown",
   "metadata": {},
   "source": [
    "## Sequence"
   ]
  },
  {
   "cell_type": "code",
   "execution_count": 50,
   "metadata": {
    "execution": {
     "iopub.execute_input": "2021-11-09T17:26:42.645920Z",
     "iopub.status.busy": "2021-11-09T17:26:42.645177Z",
     "iopub.status.idle": "2021-11-09T17:26:42.653100Z",
     "shell.execute_reply": "2021-11-09T17:26:42.652078Z",
     "shell.execute_reply.started": "2021-11-09T17:26:42.645602Z"
    }
   },
   "outputs": [
    {
     "data": {
      "text/plain": [
       "'MMKFKPNQTRTYDREGFKKRAACLCFRSEQEDEVLLVSSSRYPDQWIVPGGGMEPEEEPGGAAVREVYEEAGVKGKLGRLLGIFEQNQDRKHRTYVYVLTVTEILEDWEDSVNIGRKREWFKVEDAIKVLQCHKPVHAEYLEKLKLGCSPANGNSTVPSLPDNNALFVTAAQTSGLPSSVR'"
      ]
     },
     "execution_count": 50,
     "metadata": {},
     "output_type": "execute_result"
    }
   ],
   "source": [
    "uniprotEnriched2.Sequence[0]"
   ]
  },
  {
   "cell_type": "code",
   "execution_count": 51,
   "metadata": {
    "execution": {
     "iopub.execute_input": "2021-11-09T17:26:42.903730Z",
     "iopub.status.busy": "2021-11-09T17:26:42.903284Z",
     "iopub.status.idle": "2021-11-09T17:26:42.922327Z",
     "shell.execute_reply": "2021-11-09T17:26:42.921348Z",
     "shell.execute_reply.started": "2021-11-09T17:26:42.903647Z"
    }
   },
   "outputs": [
    {
     "name": "stdout",
     "output_type": "stream",
     "text": [
      "DataFrame: 20,386 rows \t 2 columns\n"
     ]
    },
    {
     "data": {
      "text/html": [
       "<div>\n",
       "<style scoped>\n",
       "    .dataframe tbody tr th:only-of-type {\n",
       "        vertical-align: middle;\n",
       "    }\n",
       "\n",
       "    .dataframe tbody tr th {\n",
       "        vertical-align: top;\n",
       "    }\n",
       "\n",
       "    .dataframe thead th {\n",
       "        text-align: right;\n",
       "    }\n",
       "</style>\n",
       "<table border=\"1\" class=\"dataframe\">\n",
       "  <thead>\n",
       "    <tr style=\"text-align: right;\">\n",
       "      <th></th>\n",
       "      <th>uniprotID</th>\n",
       "      <th>sequence</th>\n",
       "    </tr>\n",
       "  </thead>\n",
       "  <tbody>\n",
       "    <tr>\n",
       "      <th>0</th>\n",
       "      <td>A0A024RBG1</td>\n",
       "      <td>MMKFKPNQTRTYDREGFKKRAACLCFRSEQEDEVLLVSSSRYPDQW...</td>\n",
       "    </tr>\n",
       "    <tr>\n",
       "      <th>1</th>\n",
       "      <td>A0A075B6H7</td>\n",
       "      <td>MEAPAQLLFLLLLWLPDTTREIVMTQSPPTLSLSPGERVTLSCRAS...</td>\n",
       "    </tr>\n",
       "    <tr>\n",
       "      <th>2</th>\n",
       "      <td>A0A075B6H8</td>\n",
       "      <td>MDMRVPAQLLGLLLLWLPGVRFDIQMTQSPSFLSASVGDRVSIICW...</td>\n",
       "    </tr>\n",
       "    <tr>\n",
       "      <th>3</th>\n",
       "      <td>A0A075B6H9</td>\n",
       "      <td>MAWTPLLFLTLLLHCTGSLSQLVLTQSPSASASLGASVKLTCTLSS...</td>\n",
       "    </tr>\n",
       "    <tr>\n",
       "      <th>4</th>\n",
       "      <td>A0A075B6I0</td>\n",
       "      <td>MSVPTMAWMMLLLGLLAYGSGVDSQTVVTQEPSFSVSPGGTVTLTC...</td>\n",
       "    </tr>\n",
       "  </tbody>\n",
       "</table>\n",
       "</div>"
      ],
      "text/plain": [
       "    uniprotID                                           sequence\n",
       "0  A0A024RBG1  MMKFKPNQTRTYDREGFKKRAACLCFRSEQEDEVLLVSSSRYPDQW...\n",
       "1  A0A075B6H7  MEAPAQLLFLLLLWLPDTTREIVMTQSPPTLSLSPGERVTLSCRAS...\n",
       "2  A0A075B6H8  MDMRVPAQLLGLLLLWLPGVRFDIQMTQSPSFLSASVGDRVSIICW...\n",
       "3  A0A075B6H9  MAWTPLLFLTLLLHCTGSLSQLVLTQSPSASASLGASVKLTCTLSS...\n",
       "4  A0A075B6I0  MSVPTMAWMMLLLGLLAYGSGVDSQTVVTQEPSFSVSPGGTVTLTC..."
      ]
     },
     "metadata": {},
     "output_type": "display_data"
    }
   ],
   "source": [
    "sequenceData = uniprotEnriched2.loc[:,['Entry','Sequence']]\n",
    "sequenceData.columns = ['uniprotID','sequence']\n",
    "\n",
    "glance(sequenceData)"
   ]
  },
  {
   "cell_type": "markdown",
   "metadata": {},
   "source": [
    "---\n",
    "**Export**"
   ]
  },
  {
   "cell_type": "code",
   "execution_count": 52,
   "metadata": {
    "ExecuteTime": {
     "end_time": "2019-10-28T10:39:49.578944Z",
     "start_time": "2019-10-28T10:39:45.470651Z"
    },
    "execution": {
     "iopub.execute_input": "2021-11-09T17:26:44.580004Z",
     "iopub.status.busy": "2021-11-09T17:26:44.579277Z",
     "iopub.status.idle": "2021-11-09T17:26:44.642169Z",
     "shell.execute_reply": "2021-11-09T17:26:44.641004Z",
     "shell.execute_reply.started": "2021-11-09T17:26:44.579715Z"
    }
   },
   "outputs": [],
   "source": [
    "sequenceData.to_pickle(\n",
    "    os.path.join(\n",
    "        cfg['outputPreprocessingUniprot'], \n",
    "        \"sequenceData_v{}--{}.pkl\".format(logVersions['UniProt']['rawData'], logVersions['UniProt']['preprocessed'])\n",
    "    )\n",
    ")"
   ]
  },
  {
   "cell_type": "markdown",
   "metadata": {},
   "source": [
    "---\n",
    "**EDA**"
   ]
  },
  {
   "cell_type": "code",
   "execution_count": 53,
   "metadata": {
    "execution": {
     "iopub.execute_input": "2021-11-09T17:26:45.596554Z",
     "iopub.status.busy": "2021-11-09T17:26:45.595866Z",
     "iopub.status.idle": "2021-11-09T17:26:45.633225Z",
     "shell.execute_reply": "2021-11-09T17:26:45.632372Z",
     "shell.execute_reply.started": "2021-11-09T17:26:45.596276Z"
    }
   },
   "outputs": [
    {
     "data": {
      "text/plain": [
       "count    20386.000000\n",
       "mean       557.390709\n",
       "std        596.761413\n",
       "min          2.000000\n",
       "10%        142.000000\n",
       "20%        214.000000\n",
       "30%        288.000000\n",
       "40%        344.000000\n",
       "50%        415.000000\n",
       "60%        495.000000\n",
       "70%        596.000000\n",
       "80%        761.000000\n",
       "90%       1076.000000\n",
       "max      34350.000000\n",
       "Name: sequence, dtype: float64"
      ]
     },
     "execution_count": 53,
     "metadata": {},
     "output_type": "execute_result"
    }
   ],
   "source": [
    "len_seq = sequenceData.sequence.str.len()\n",
    "\n",
    "len_seq.describe(percentiles=np.linspace(0.1,0.9,9))"
   ]
  },
  {
   "cell_type": "code",
   "execution_count": 54,
   "metadata": {
    "execution": {
     "iopub.execute_input": "2021-11-09T17:26:47.232196Z",
     "iopub.status.busy": "2021-11-09T17:26:47.231482Z",
     "iopub.status.idle": "2021-11-09T17:26:48.404967Z",
     "shell.execute_reply": "2021-11-09T17:26:48.404173Z",
     "shell.execute_reply.started": "2021-11-09T17:26:47.231917Z"
    }
   },
   "outputs": [
    {
     "name": "stderr",
     "output_type": "stream",
     "text": [
      "/home/ll582/.conda/envs/PPI-env/lib/python3.7/site-packages/seaborn/distributions.py:2619: FutureWarning: `distplot` is a deprecated function and will be removed in a future version. Please adapt your code to use either `displot` (a figure-level function with similar flexibility) or `histplot` (an axes-level function for histograms).\n",
      "  warnings.warn(msg, FutureWarning)\n"
     ]
    },
    {
     "data": {
      "image/png": "[encoded data removed]",
      "text/plain": [
       "<Figure size 1008x432 with 1 Axes>"
      ]
     },
     "metadata": {},
     "output_type": "display_data"
    }
   ],
   "source": [
    "sns.set(rc={'figure.figsize':(14,6)})\n",
    "ax= sns.distplot(len_seq, kde=False)\n",
    "ax.set(xlabel='Number of sequences', ylabel='Length of the AA sequence')\n",
    "ax.set_yscale('log');"
   ]
  },
  {
   "cell_type": "code",
   "execution_count": 55,
   "metadata": {
    "execution": {
     "iopub.execute_input": "2021-11-09T17:26:49.641977Z",
     "iopub.status.busy": "2021-11-09T17:26:49.641247Z",
     "iopub.status.idle": "2021-11-09T17:26:49.692087Z",
     "shell.execute_reply": "2021-11-09T17:26:49.691283Z",
     "shell.execute_reply.started": "2021-11-09T17:26:49.641675Z"
    }
   },
   "outputs": [
    {
     "data": {
      "text/html": [
       "<div>\n",
       "<style scoped>\n",
       "    .dataframe tbody tr th:only-of-type {\n",
       "        vertical-align: middle;\n",
       "    }\n",
       "\n",
       "    .dataframe tbody tr th {\n",
       "        vertical-align: top;\n",
       "    }\n",
       "\n",
       "    .dataframe thead th {\n",
       "        text-align: right;\n",
       "    }\n",
       "</style>\n",
       "<table border=\"1\" class=\"dataframe\">\n",
       "  <thead>\n",
       "    <tr style=\"text-align: right;\">\n",
       "      <th></th>\n",
       "      <th>Entry</th>\n",
       "      <th>Gene ontology (biological process)</th>\n",
       "      <th>Gene ontology (cellular component)</th>\n",
       "      <th>Gene ontology (molecular function)</th>\n",
       "      <th>Cross-reference (bgee)</th>\n",
       "      <th>Domain [FT]</th>\n",
       "      <th>Motif</th>\n",
       "      <th>Sequence</th>\n",
       "      <th>len</th>\n",
       "    </tr>\n",
       "  </thead>\n",
       "  <tbody>\n",
       "    <tr>\n",
       "      <th>14319</th>\n",
       "      <td>Q8WXI7</td>\n",
       "      <td>cell adhesion [GO:0007155]; O-glycan processin...</td>\n",
       "      <td>extracellular exosome [GO:0070062]; extrinsic ...</td>\n",
       "      <td></td>\n",
       "      <td>ENSG00000181143</td>\n",
       "      <td>DOMAIN 12072..12193;  /note=\"SEA 1\";  /evidenc...</td>\n",
       "      <td></td>\n",
       "      <td>MLKPSGLPGSSSPTRSLMTGSRSTKATPEMDSGLTGATLSPKTSTG...</td>\n",
       "      <td>14507</td>\n",
       "    </tr>\n",
       "    <tr>\n",
       "      <th>14373</th>\n",
       "      <td>Q8WZ42</td>\n",
       "      <td>cardiac muscle contraction [GO:0060048]; cardi...</td>\n",
       "      <td>condensed nuclear chromosome [GO:0000794]; cyt...</td>\n",
       "      <td>actin filament binding [GO:0051015]; actinin b...</td>\n",
       "      <td>ENSG00000155657</td>\n",
       "      <td>DOMAIN 6..96;  /note=\"Ig-like 1\"; DOMAIN 104.....</td>\n",
       "      <td></td>\n",
       "      <td>MTTQAPTFTQPLQSVVVLEGSTATFEAHISGFPVPEVSWFRDGQVI...</td>\n",
       "      <td>34350</td>\n",
       "    </tr>\n",
       "  </tbody>\n",
       "</table>\n",
       "</div>"
      ],
      "text/plain": [
       "        Entry                 Gene ontology (biological process)  \\\n",
       "14319  Q8WXI7  cell adhesion [GO:0007155]; O-glycan processin...   \n",
       "14373  Q8WZ42  cardiac muscle contraction [GO:0060048]; cardi...   \n",
       "\n",
       "                      Gene ontology (cellular component)  \\\n",
       "14319  extracellular exosome [GO:0070062]; extrinsic ...   \n",
       "14373  condensed nuclear chromosome [GO:0000794]; cyt...   \n",
       "\n",
       "                      Gene ontology (molecular function)  \\\n",
       "14319                                                      \n",
       "14373  actin filament binding [GO:0051015]; actinin b...   \n",
       "\n",
       "      Cross-reference (bgee)  \\\n",
       "14319        ENSG00000181143   \n",
       "14373        ENSG00000155657   \n",
       "\n",
       "                                             Domain [FT] Motif  \\\n",
       "14319  DOMAIN 12072..12193;  /note=\"SEA 1\";  /evidenc...         \n",
       "14373  DOMAIN 6..96;  /note=\"Ig-like 1\"; DOMAIN 104.....         \n",
       "\n",
       "                                                Sequence    len  \n",
       "14319  MLKPSGLPGSSSPTRSLMTGSRSTKATPEMDSGLTGATLSPKTSTG...  14507  \n",
       "14373  MTTQAPTFTQPLQSVVVLEGSTATFEAHISGFPVPEVSWFRDGQVI...  34350  "
      ]
     },
     "execution_count": 55,
     "metadata": {},
     "output_type": "execute_result"
    }
   ],
   "source": [
    "foo = uniprotEnriched2.loc[len_seq > 10000].copy()\n",
    "foo['len'] = uniprotEnriched2.Sequence.str.len()\n",
    "foo"
   ]
  },
  {
   "cell_type": "code",
   "execution_count": null,
   "metadata": {},
   "outputs": [],
   "source": []
  }
 ],
 "metadata": {
  "kernelspec": {
   "display_name": "Python (PPI-env)",
   "language": "python",
   "name": "ppi-env"
  },
  "language_info": {
   "codemirror_mode": {
    "name": "ipython",
    "version": 3
   },
   "file_extension": ".py",
   "mimetype": "text/x-python",
   "name": "python",
   "nbconvert_exporter": "python",
   "pygments_lexer": "ipython3",
   "version": "3.7.3"
  },
  "toc": {
   "base_numbering": 1,
   "nav_menu": {},
   "number_sections": true,
   "sideBar": true,
   "skip_h1_title": true,
   "title_cell": "Table of Contents",
   "title_sidebar": "Contents",
   "toc_cell": false,
   "toc_position": {
    "height": "calc(100% - 180px)",
    "left": "10px",
    "top": "150px",
    "width": "384px"
   },
   "toc_section_display": true,
   "toc_window_display": true
  },
  "toc-autonumbering": true,
  "toc-showcode": false,
  "toc-showmarkdowntxt": false,
  "toc-showtags": false,
  "varInspector": {
   "cols": {
    "lenName": 16,
    "lenType": 16,
    "lenVar": 40
   },
   "kernels_config": {
    "python": {
     "delete_cmd_postfix": "",
     "delete_cmd_prefix": "del ",
     "library": "var_list.py",
     "varRefreshCmd": "print(var_dic_list())"
    },
    "r": {
     "delete_cmd_postfix": ") ",
     "delete_cmd_prefix": "rm(",
     "library": "var_list.r",
     "varRefreshCmd": "cat(var_dic_list()) "
    }
   },
   "types_to_exclude": [
    "module",
    "function",
    "builtin_function_or_method",
    "instance",
    "_Feature"
   ],
   "window_display": false
  }
 },
 "nbformat": 4,
 "nbformat_minor": 4
}
