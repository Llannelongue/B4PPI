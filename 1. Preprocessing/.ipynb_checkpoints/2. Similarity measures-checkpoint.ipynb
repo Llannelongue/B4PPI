{
 "cells": [
  {
   "cell_type": "markdown",
   "metadata": {},
   "source": [
    "*System requirements: 60GB (48 for the processing, but 60 needed for the pickling)...*"
   ]
  },
  {
   "cell_type": "code",
   "execution_count": 1,
   "metadata": {
    "ExecuteTime": {
     "end_time": "2019-10-30T13:20:10.834061Z",
     "start_time": "2019-10-30T13:20:09.270830Z"
    },
    "execution": {
     "iopub.execute_input": "2021-11-09T23:02:44.125141Z",
     "iopub.status.busy": "2021-11-09T23:02:44.125023Z",
     "iopub.status.idle": "2021-11-09T23:02:54.841560Z",
     "shell.execute_reply": "2021-11-09T23:02:54.840981Z",
     "shell.execute_reply.started": "2021-11-09T23:02:44.125125Z"
    }
   },
   "outputs": [],
   "source": [
    "import pandas as pd\n",
    "import numpy as np\n",
    "import os\n",
    "import re\n",
    "import matplotlib.pyplot as plt\n",
    "import seaborn as sns\n",
    "from sklearn.feature_extraction.text import CountVectorizer\n",
    "from sklearn.metrics.pairwise import cosine_similarity\n",
    "import random\n",
    "import pickle\n",
    "from scipy import sparse\n",
    "import math\n",
    "import itertools\n",
    "import random\n",
    "\n",
    "from toolbox import *\n",
    "\n",
    "%matplotlib inline\n",
    "sns.set()\n",
    "sns.set_context(\"notebook\")"
   ]
  },
  {
   "cell_type": "code",
   "execution_count": 2,
   "metadata": {
    "ExecuteTime": {
     "end_time": "2019-10-30T13:20:10.873079Z",
     "start_time": "2019-10-30T13:20:10.870437Z"
    },
    "execution": {
     "iopub.execute_input": "2021-11-09T23:02:54.842354Z",
     "iopub.status.busy": "2021-11-09T23:02:54.842230Z",
     "iopub.status.idle": "2021-11-09T23:02:54.846817Z",
     "shell.execute_reply": "2021-11-09T23:02:54.845959Z",
     "shell.execute_reply.started": "2021-11-09T23:02:54.842335Z"
    }
   },
   "outputs": [],
   "source": [
    "sns.set(rc={'figure.figsize':(14,6)})"
   ]
  },
  {
   "cell_type": "code",
   "execution_count": 3,
   "metadata": {
    "ExecuteTime": {
     "end_time": "2019-10-28T14:18:48.400134Z",
     "start_time": "2019-10-28T14:18:48.371893Z"
    },
    "execution": {
     "iopub.execute_input": "2021-11-09T23:02:54.847649Z",
     "iopub.status.busy": "2021-11-09T23:02:54.847545Z",
     "iopub.status.idle": "2021-11-09T23:02:54.874221Z",
     "shell.execute_reply": "2021-11-09T23:02:54.873802Z",
     "shell.execute_reply.started": "2021-11-09T23:02:54.847633Z"
    }
   },
   "outputs": [],
   "source": [
    "cfg = load_cfg()\n",
    "\n",
    "logVersions = load_LogVersions()"
   ]
  },
  {
   "cell_type": "code",
   "execution_count": 4,
   "metadata": {
    "execution": {
     "iopub.execute_input": "2021-11-09T23:02:54.874868Z",
     "iopub.status.busy": "2021-11-09T23:02:54.874769Z",
     "iopub.status.idle": "2021-11-09T23:02:54.887513Z",
     "shell.execute_reply": "2021-11-09T23:02:54.886700Z",
     "shell.execute_reply.started": "2021-11-09T23:02:54.874853Z"
    }
   },
   "outputs": [],
   "source": [
    "def createLongDF(ids):\n",
    "    \n",
    "    print(\" - Create ID_A\")\n",
    "    idsA = list(itertools.chain.from_iterable(itertools.repeat(x, len(ids)) for x in ids))\n",
    "    \n",
    "    print(\" - Create ID_B\")\n",
    "    idsB = ids*len(ids)\n",
    "    \n",
    "    print(\" - Create IDs to keep\")\n",
    "    idx2keep = []\n",
    "    n = len(ids)\n",
    "    for i in range(n-1):\n",
    "        idx2keep += list(range(i*n+i+1, (i+1)*n))\n",
    "        \n",
    "    print(' - Filter out ID_A')\n",
    "    idsA = [idsA[i] for i in idx2keep]\n",
    "    \n",
    "    print(' - Filter out ID_B')\n",
    "    idsB = [idsB[i] for i in idx2keep]\n",
    "    \n",
    "    print(' - Create DataFrame')\n",
    "    df_features = pd.DataFrame({\n",
    "        'uniprotID_A' : idsA,\n",
    "        'uniprotID_B' : idsB\n",
    "    })\n",
    "    \n",
    "    return(df_features)"
   ]
  },
  {
   "cell_type": "code",
   "execution_count": 5,
   "metadata": {
    "execution": {
     "iopub.execute_input": "2021-11-09T23:02:54.888015Z",
     "iopub.status.busy": "2021-11-09T23:02:54.887920Z",
     "iopub.status.idle": "2021-11-09T23:02:54.906316Z",
     "shell.execute_reply": "2021-11-09T23:02:54.905437Z",
     "shell.execute_reply.started": "2021-11-09T23:02:54.888001Z"
    }
   },
   "outputs": [],
   "source": [
    "def addCosineSimilarity(df):\n",
    "    \n",
    "    print(\" - Computing cosine similarity\")\n",
    "    cosMat = cosine_similarity(df, df)\n",
    "    \n",
    "    print(\" - Flatten the matrix\")\n",
    "    cosMat = cosMat.flatten(order='C')\n",
    "    \n",
    "    print(\" - Create IDs to keep\")\n",
    "    idx2keep = []\n",
    "    n = len(df)\n",
    "    for i in range(n-1):\n",
    "        idx2keep += list(range(i*n+i+1, (i+1)*n))\n",
    "    \n",
    "    print(\" - Filter out useless values\")\n",
    "    cosMat = cosMat[idx2keep]\n",
    "    \n",
    "    return cosMat"
   ]
  },
  {
   "cell_type": "code",
   "execution_count": 6,
   "metadata": {
    "execution": {
     "iopub.execute_input": "2021-11-09T23:02:54.906833Z",
     "iopub.status.busy": "2021-11-09T23:02:54.906737Z",
     "iopub.status.idle": "2021-11-09T23:02:54.928010Z",
     "shell.execute_reply": "2021-11-09T23:02:54.927112Z",
     "shell.execute_reply.started": "2021-11-09T23:02:54.906819Z"
    }
   },
   "outputs": [],
   "source": [
    "featuresDict = {\n",
    "    'HPA2': {\n",
    "        'RNAseqHPA': {\n",
    "            'path': os.path.join(\n",
    "                cfg['outputPreprocessingHPA'], \n",
    "                \"consensusRNAseq_v{}.pkl\".format(logVersions['HPA']['preprocessed']['consensusRNAseq'])\n",
    "            ),\n",
    "            'method': 'cosine similarity'\n",
    "        },\n",
    "    },\n",
    "    'HPA1': {\n",
    "         'tissueHPA': {\n",
    "            'path': os.path.join(\n",
    "                cfg['outputPreprocessingHPA'], \n",
    "                \"tissueIHC_tissueOnly_v{}.pkl\".format(logVersions['HPA']['preprocessed']['tissueIHC_tissueOnly'])\n",
    "            ),\n",
    "            'method': 'cosine similarity'\n",
    "        },\n",
    "        'tissueCellHPA': {\n",
    "            'path': os.path.join(\n",
    "                cfg['outputPreprocessingHPA'], \n",
    "                \"tissueIHC_tissueCell_v{}.pkl\".format(logVersions['HPA']['preprocessed']['tissueIHC_tissueCell'])\n",
    "            ),\n",
    "            'method': 'cosine similarity'\n",
    "        },\n",
    "    },\n",
    "    'HPA3': {\n",
    "        'subcellularLocationHPA': {\n",
    "            'path': os.path.join(\n",
    "                cfg['outputPreprocessingHPA'], \n",
    "                \"subcellularLocation_v{}.pkl\".format(logVersions['HPA']['preprocessed']['subcellularLocation'])\n",
    "            ),\n",
    "            'method': 'cosine similarity'\n",
    "        }\n",
    "    },\n",
    "    'uniprot': {\n",
    "        'bioProcessUniprot': {\n",
    "            'path': os.path.join(\n",
    "                cfg['outputPreprocessingUniprot'], \n",
    "                \"bioProcessUniprot_v{}--{}.pkl\".format(logVersions['UniProt']['rawData'], logVersions['UniProt']['preprocessed'])\n",
    "            ),\n",
    "            'method': 'cosine similarity',\n",
    "        },\n",
    "        'cellCompUniprot': {\n",
    "            'path': os.path.join(\n",
    "                cfg['outputPreprocessingUniprot'], \n",
    "                \"cellCompUniprot_v{}--{}.pkl\".format(logVersions['UniProt']['rawData'], logVersions['UniProt']['preprocessed'])\n",
    "            ),\n",
    "            'method': 'cosine similarity',\n",
    "        },\n",
    "        'molFuncUniprot': {\n",
    "            'path': os.path.join(\n",
    "                cfg['outputPreprocessingUniprot'], \n",
    "                \"molFuncUniprot_v{}--{}.pkl\".format(logVersions['UniProt']['rawData'], logVersions['UniProt']['preprocessed'])\n",
    "            ),\n",
    "            'method': 'cosine similarity',\n",
    "        },\n",
    "        'domainUniprot': {\n",
    "            'path': os.path.join(\n",
    "                cfg['outputPreprocessingUniprot'], \n",
    "                \"domainFT_v{}--{}.pkl\".format(logVersions['UniProt']['rawData'], logVersions['UniProt']['preprocessed'])\n",
    "            ),\n",
    "            'method': 'cosine similarity',\n",
    "        },\n",
    "        'motifUniprot': {\n",
    "            'path': os.path.join(\n",
    "                cfg['outputPreprocessingUniprot'], \n",
    "                \"motif_v{}--{}.pkl\".format(logVersions['UniProt']['rawData'], logVersions['UniProt']['preprocessed'])\n",
    "            ),\n",
    "            'method': 'cosine similarity',\n",
    "        },\n",
    "    },\n",
    "    'Bgee': {\n",
    "        'Bgee': {\n",
    "            'path': os.path.join(\n",
    "                cfg['outputPreprocessingBgee'],\n",
    "                \"Bgee_processed_v{}.pkl\".format(logVersions['Bgee']['preprocessed'])\n",
    "            ),\n",
    "            'method': 'cosine similarity'\n",
    "        },\n",
    "    },\n",
    "}"
   ]
  },
  {
   "cell_type": "code",
   "execution_count": 7,
   "metadata": {
    "execution": {
     "iopub.execute_input": "2021-11-09T23:02:54.928509Z",
     "iopub.status.busy": "2021-11-09T23:02:54.928414Z",
     "iopub.status.idle": "2021-11-09T23:02:54.945911Z",
     "shell.execute_reply": "2021-11-09T23:02:54.945025Z",
     "shell.execute_reply.started": "2021-11-09T23:02:54.928495Z"
    }
   },
   "outputs": [
    {
     "name": "stdout",
     "output_type": "stream",
     "text": [
      "HPA2\n",
      "HPA1\n",
      "HPA3\n",
      "uniprot\n",
      "Bgee\n"
     ]
    }
   ],
   "source": [
    "for group, group_details in featuresDict.items():\n",
    "    print(group)"
   ]
  },
  {
   "cell_type": "code",
   "execution_count": 8,
   "metadata": {
    "execution": {
     "iopub.execute_input": "2021-11-09T23:02:54.946411Z",
     "iopub.status.busy": "2021-11-09T23:02:54.946316Z",
     "iopub.status.idle": "2021-11-09T23:02:54.963137Z",
     "shell.execute_reply": "2021-11-09T23:02:54.962209Z",
     "shell.execute_reply.started": "2021-11-09T23:02:54.946397Z"
    }
   },
   "outputs": [],
   "source": [
    "# featuresDict = {\n",
    "#     'uniprot': {\n",
    "#         'domainUniprot': {\n",
    "#             'path': os.path.join(\n",
    "#                 cfg['outputPreprocessingUniprot'], \n",
    "#                 \"domainFT_v{}--{}.pkl\".format(logVersions['UniProt']['rawData'], logVersions['UniProt']['preprocessed'])\n",
    "#             ),\n",
    "#             'method': 'cosine similarity',\n",
    "#         },\n",
    "#     }\n",
    "# }"
   ]
  },
  {
   "cell_type": "code",
   "execution_count": 9,
   "metadata": {
    "execution": {
     "iopub.execute_input": "2021-11-09T23:02:54.963886Z",
     "iopub.status.busy": "2021-11-09T23:02:54.963789Z",
     "iopub.status.idle": "2021-11-09T23:02:54.982033Z",
     "shell.execute_reply": "2021-11-09T23:02:54.981191Z",
     "shell.execute_reply.started": "2021-11-09T23:02:54.963872Z"
    }
   },
   "outputs": [],
   "source": [
    "def addAllFeatures(featuresDict):\n",
    "    \n",
    "    print('Create initial idx DF')\n",
    "    uniprotIDs = pd.read_csv(\n",
    "        os.path.join(cfg['rawDataUniProt'], \n",
    "                     \"uniprot_allProteins_Human_v{}.pkl\".format(logVersions['UniProt']['rawData'])),\n",
    "        header=None,\n",
    "        names=['uniprotID']\n",
    "    )\n",
    "    df_features = createLongDF(uniprotIDs.uniprotID.to_list())\n",
    "    print()\n",
    "    \n",
    "    for group, group_details in featuresDict.items():\n",
    "        \n",
    "        print('# Starting {}'.format(group))\n",
    "        \n",
    "        if group == 'uniprot':\n",
    "            isFirst = False # means it's not first of this group\n",
    "            new_idx = df_features\n",
    "            newIDs = uniprotIDs.uniprotID.copy()\n",
    "        else:\n",
    "            isFirst = True # first of its group \n",
    "        \n",
    "        for feature, details in group_details.items():\n",
    "            \n",
    "            print(feature)\n",
    "            \n",
    "            df = pd.read_pickle(details['path'])\n",
    "            \n",
    "            if isFirst:\n",
    "                print(' - Create new idx dataframe')\n",
    "                newIDs = df.uniprotID.copy()\n",
    "                new_idx = createLongDF(list(df.uniprotID))\n",
    "                isFirst = False\n",
    "            else:\n",
    "                # check that the IDs are in the right order\n",
    "                assert df.uniprotID.equals(newIDs)\n",
    "                \n",
    "            df.set_index('uniprotID', inplace=True)\n",
    "                \n",
    "            if details['method'] == 'cosine similarity':\n",
    "                new_idx[feature] = addCosineSimilarity(df)\n",
    "                print(' - df_features: ', df_features.shape)\n",
    "            else:\n",
    "                print('--> wrong method')\n",
    "        \n",
    "        if group != 'uniprot':\n",
    "            print(' - Merging to df_features')\n",
    "            df_features = df_features.merge(\n",
    "                new_idx,\n",
    "                how = 'left',\n",
    "                on = ['uniprotID_A','uniprotID_B']\n",
    "            )\n",
    "            print(' - df_features: ', df_features.shape)\n",
    "        print()\n",
    "            \n",
    "    return df_features"
   ]
  },
  {
   "cell_type": "code",
   "execution_count": 10,
   "metadata": {
    "execution": {
     "iopub.execute_input": "2021-11-09T23:02:57.128490Z",
     "iopub.status.busy": "2021-11-09T23:02:57.128368Z",
     "iopub.status.idle": "2021-11-09T23:36:14.322731Z",
     "shell.execute_reply": "2021-11-09T23:36:14.321823Z",
     "shell.execute_reply.started": "2021-11-09T23:02:57.128474Z"
    }
   },
   "outputs": [
    {
     "name": "stdout",
     "output_type": "stream",
     "text": [
      "Create initial idx DF\n",
      " - Create ID_A\n",
      " - Create ID_B\n",
      " - Create IDs to keep\n",
      " - Filter out ID_A\n",
      " - Filter out ID_B\n",
      " - Create DataFrame\n",
      "\n",
      "# Starting HPA2\n",
      "RNAseqHPA\n",
      " - Create new idx dataframe\n",
      " - Create ID_A\n",
      " - Create ID_B\n",
      " - Create IDs to keep\n",
      " - Filter out ID_A\n",
      " - Filter out ID_B\n",
      " - Create DataFrame\n",
      " - Computing cosine similarity\n",
      " - Flatten the matrix\n",
      " - Create IDs to keep\n",
      " - Filter out useless values\n",
      " - df_features:  (207784305, 2)\n",
      " - Merging to df_features\n",
      " - df_features:  (207784305, 3)\n",
      "\n",
      "# Starting HPA1\n",
      "tissueHPA\n",
      " - Create new idx dataframe\n",
      " - Create ID_A\n",
      " - Create ID_B\n",
      " - Create IDs to keep\n",
      " - Filter out ID_A\n",
      " - Filter out ID_B\n",
      " - Create DataFrame\n",
      " - Computing cosine similarity\n",
      " - Flatten the matrix\n",
      " - Create IDs to keep\n",
      " - Filter out useless values\n",
      " - df_features:  (207784305, 3)\n",
      "tissueCellHPA\n",
      " - Computing cosine similarity\n",
      " - Flatten the matrix\n",
      " - Create IDs to keep\n",
      " - Filter out useless values\n",
      " - df_features:  (207784305, 3)\n",
      " - Merging to df_features\n",
      " - df_features:  (207784305, 5)\n",
      "\n",
      "# Starting HPA3\n",
      "subcellularLocationHPA\n",
      " - Create new idx dataframe\n",
      " - Create ID_A\n",
      " - Create ID_B\n",
      " - Create IDs to keep\n",
      " - Filter out ID_A\n",
      " - Filter out ID_B\n",
      " - Create DataFrame\n",
      " - Computing cosine similarity\n",
      " - Flatten the matrix\n",
      " - Create IDs to keep\n",
      " - Filter out useless values\n",
      " - df_features:  (207784305, 5)\n",
      " - Merging to df_features\n",
      " - df_features:  (207784305, 6)\n",
      "\n",
      "# Starting uniprot\n",
      "bioProcessUniprot\n",
      " - Computing cosine similarity\n",
      " - Flatten the matrix\n",
      " - Create IDs to keep\n",
      " - Filter out useless values\n",
      " - df_features:  (207784305, 7)\n",
      "cellCompUniprot\n",
      " - Computing cosine similarity\n",
      " - Flatten the matrix\n",
      " - Create IDs to keep\n",
      " - Filter out useless values\n",
      " - df_features:  (207784305, 8)\n",
      "molFuncUniprot\n",
      " - Computing cosine similarity\n",
      " - Flatten the matrix\n",
      " - Create IDs to keep\n",
      " - Filter out useless values\n",
      " - df_features:  (207784305, 9)\n",
      "domainUniprot\n",
      " - Computing cosine similarity\n",
      " - Flatten the matrix\n",
      " - Create IDs to keep\n",
      " - Filter out useless values\n",
      " - df_features:  (207784305, 10)\n",
      "motifUniprot\n",
      " - Computing cosine similarity\n",
      " - Flatten the matrix\n",
      " - Create IDs to keep\n",
      " - Filter out useless values\n",
      " - df_features:  (207784305, 11)\n",
      "\n",
      "# Starting Bgee\n",
      "Bgee\n",
      " - Create new idx dataframe\n",
      " - Create ID_A\n",
      " - Create ID_B\n",
      " - Create IDs to keep\n",
      " - Filter out ID_A\n",
      " - Filter out ID_B\n",
      " - Create DataFrame\n",
      " - Computing cosine similarity\n",
      " - Flatten the matrix\n",
      " - Create IDs to keep\n",
      " - Filter out useless values\n",
      " - df_features:  (207784305, 11)\n",
      " - Merging to df_features\n",
      " - df_features:  (207784305, 12)\n",
      "\n"
     ]
    }
   ],
   "source": [
    "df_features = addAllFeatures(featuresDict)"
   ]
  },
  {
   "cell_type": "code",
   "execution_count": 11,
   "metadata": {
    "execution": {
     "iopub.execute_input": "2021-11-09T23:36:14.323615Z",
     "iopub.status.busy": "2021-11-09T23:36:14.323501Z",
     "iopub.status.idle": "2021-11-09T23:36:14.341597Z",
     "shell.execute_reply": "2021-11-09T23:36:14.340915Z",
     "shell.execute_reply.started": "2021-11-09T23:36:14.323596Z"
    }
   },
   "outputs": [
    {
     "name": "stdout",
     "output_type": "stream",
     "text": [
      "DataFrame: 207,784,305 rows \t 12 columns\n"
     ]
    },
    {
     "data": {
      "text/html": [
       "<div>\n",
       "<style scoped>\n",
       "    .dataframe tbody tr th:only-of-type {\n",
       "        vertical-align: middle;\n",
       "    }\n",
       "\n",
       "    .dataframe tbody tr th {\n",
       "        vertical-align: top;\n",
       "    }\n",
       "\n",
       "    .dataframe thead th {\n",
       "        text-align: right;\n",
       "    }\n",
       "</style>\n",
       "<table border=\"1\" class=\"dataframe\">\n",
       "  <thead>\n",
       "    <tr style=\"text-align: right;\">\n",
       "      <th></th>\n",
       "      <th>uniprotID_A</th>\n",
       "      <th>uniprotID_B</th>\n",
       "      <th>RNAseqHPA</th>\n",
       "      <th>tissueHPA</th>\n",
       "      <th>tissueCellHPA</th>\n",
       "      <th>subcellularLocationHPA</th>\n",
       "      <th>bioProcessUniprot</th>\n",
       "      <th>cellCompUniprot</th>\n",
       "      <th>molFuncUniprot</th>\n",
       "      <th>domainUniprot</th>\n",
       "      <th>motifUniprot</th>\n",
       "      <th>Bgee</th>\n",
       "    </tr>\n",
       "  </thead>\n",
       "  <tbody>\n",
       "    <tr>\n",
       "      <th>0</th>\n",
       "      <td>A0A024RBG1</td>\n",
       "      <td>A0A075B6H7</td>\n",
       "      <td>NaN</td>\n",
       "      <td>NaN</td>\n",
       "      <td>NaN</td>\n",
       "      <td>NaN</td>\n",
       "      <td>0.0</td>\n",
       "      <td>0.0</td>\n",
       "      <td>0.0</td>\n",
       "      <td>0.0</td>\n",
       "      <td>0.0</td>\n",
       "      <td>0.133874</td>\n",
       "    </tr>\n",
       "    <tr>\n",
       "      <th>1</th>\n",
       "      <td>A0A024RBG1</td>\n",
       "      <td>A0A075B6H8</td>\n",
       "      <td>NaN</td>\n",
       "      <td>NaN</td>\n",
       "      <td>NaN</td>\n",
       "      <td>NaN</td>\n",
       "      <td>0.0</td>\n",
       "      <td>0.0</td>\n",
       "      <td>0.0</td>\n",
       "      <td>0.0</td>\n",
       "      <td>0.0</td>\n",
       "      <td>0.081341</td>\n",
       "    </tr>\n",
       "    <tr>\n",
       "      <th>2</th>\n",
       "      <td>A0A024RBG1</td>\n",
       "      <td>A0A075B6H9</td>\n",
       "      <td>NaN</td>\n",
       "      <td>NaN</td>\n",
       "      <td>NaN</td>\n",
       "      <td>NaN</td>\n",
       "      <td>0.0</td>\n",
       "      <td>0.0</td>\n",
       "      <td>0.0</td>\n",
       "      <td>0.0</td>\n",
       "      <td>0.0</td>\n",
       "      <td>0.384274</td>\n",
       "    </tr>\n",
       "    <tr>\n",
       "      <th>3</th>\n",
       "      <td>A0A024RBG1</td>\n",
       "      <td>A0A075B6I0</td>\n",
       "      <td>NaN</td>\n",
       "      <td>NaN</td>\n",
       "      <td>NaN</td>\n",
       "      <td>NaN</td>\n",
       "      <td>0.0</td>\n",
       "      <td>0.0</td>\n",
       "      <td>0.0</td>\n",
       "      <td>0.0</td>\n",
       "      <td>0.0</td>\n",
       "      <td>0.358270</td>\n",
       "    </tr>\n",
       "    <tr>\n",
       "      <th>4</th>\n",
       "      <td>A0A024RBG1</td>\n",
       "      <td>A0A075B6I1</td>\n",
       "      <td>NaN</td>\n",
       "      <td>NaN</td>\n",
       "      <td>NaN</td>\n",
       "      <td>NaN</td>\n",
       "      <td>0.0</td>\n",
       "      <td>0.0</td>\n",
       "      <td>0.0</td>\n",
       "      <td>0.0</td>\n",
       "      <td>0.0</td>\n",
       "      <td>-0.007139</td>\n",
       "    </tr>\n",
       "  </tbody>\n",
       "</table>\n",
       "</div>"
      ],
      "text/plain": [
       "  uniprotID_A uniprotID_B  RNAseqHPA  tissueHPA  tissueCellHPA  \\\n",
       "0  A0A024RBG1  A0A075B6H7        NaN        NaN            NaN   \n",
       "1  A0A024RBG1  A0A075B6H8        NaN        NaN            NaN   \n",
       "2  A0A024RBG1  A0A075B6H9        NaN        NaN            NaN   \n",
       "3  A0A024RBG1  A0A075B6I0        NaN        NaN            NaN   \n",
       "4  A0A024RBG1  A0A075B6I1        NaN        NaN            NaN   \n",
       "\n",
       "   subcellularLocationHPA  bioProcessUniprot  cellCompUniprot  molFuncUniprot  \\\n",
       "0                     NaN                0.0              0.0             0.0   \n",
       "1                     NaN                0.0              0.0             0.0   \n",
       "2                     NaN                0.0              0.0             0.0   \n",
       "3                     NaN                0.0              0.0             0.0   \n",
       "4                     NaN                0.0              0.0             0.0   \n",
       "\n",
       "   domainUniprot  motifUniprot      Bgee  \n",
       "0            0.0           0.0  0.133874  \n",
       "1            0.0           0.0  0.081341  \n",
       "2            0.0           0.0  0.384274  \n",
       "3            0.0           0.0  0.358270  \n",
       "4            0.0           0.0 -0.007139  "
      ]
     },
     "metadata": {},
     "output_type": "display_data"
    }
   ],
   "source": [
    "glance(df_features)"
   ]
  },
  {
   "cell_type": "markdown",
   "metadata": {},
   "source": [
    "# Sanity checks"
   ]
  },
  {
   "cell_type": "code",
   "execution_count": 12,
   "metadata": {
    "execution": {
     "iopub.execute_input": "2021-11-09T23:36:27.248469Z",
     "iopub.status.busy": "2021-11-09T23:36:27.248334Z",
     "iopub.status.idle": "2021-11-09T23:37:11.321448Z",
     "shell.execute_reply": "2021-11-09T23:37:11.320868Z",
     "shell.execute_reply.started": "2021-11-09T23:36:27.248452Z"
    }
   },
   "outputs": [
    {
     "name": "stdout",
     "output_type": "stream",
     "text": [
      "RNAseqHPA\n",
      "tissueHPA\n",
      "tissueCellHPA\n",
      "subcellularLocationHPA\n",
      "bioProcessUniprot\n",
      "cellCompUniprot\n",
      "molFuncUniprot\n",
      "domainUniprot\n",
      "motifUniprot\n",
      "Bgee\n"
     ]
    }
   ],
   "source": [
    "for group, group_details in featuresDict.items():\n",
    "    for feature, details in group_details.items():\n",
    "        print(feature)\n",
    "        foo = df_features.loc[(df_features[feature]>0)&(df_features[feature]<1)]\n",
    "        foo = foo.iloc[random.randrange(len(foo))]\n",
    "\n",
    "        df = pd.read_pickle(details['path'])\n",
    "        df.set_index('uniprotID', inplace=True)\n",
    "\n",
    "        df = df.loc[[foo.uniprotID_A, foo.uniprotID_B]]\n",
    "\n",
    "        bar = cosine_similarity(df, df)[0,1]\n",
    "        baar = foo[feature]\n",
    "\n",
    "        assert math.isclose(bar,baar, rel_tol=1e-6)"
   ]
  },
  {
   "cell_type": "code",
   "execution_count": 13,
   "metadata": {
    "execution": {
     "iopub.execute_input": "2021-11-09T23:37:11.322289Z",
     "iopub.status.busy": "2021-11-09T23:37:11.322164Z",
     "iopub.status.idle": "2021-11-09T23:37:40.284317Z",
     "shell.execute_reply": "2021-11-09T23:37:40.283585Z",
     "shell.execute_reply.started": "2021-11-09T23:37:11.322264Z"
    }
   },
   "outputs": [],
   "source": [
    "assert ~df_features.duplicated(subset=[\"uniprotID_A\",\"uniprotID_B\"]).any()"
   ]
  },
  {
   "cell_type": "code",
   "execution_count": 14,
   "metadata": {
    "execution": {
     "iopub.execute_input": "2021-11-09T23:37:40.285385Z",
     "iopub.status.busy": "2021-11-09T23:37:40.284999Z",
     "iopub.status.idle": "2021-11-09T23:37:40.294395Z",
     "shell.execute_reply": "2021-11-09T23:37:40.293901Z",
     "shell.execute_reply.started": "2021-11-09T23:37:40.285356Z"
    }
   },
   "outputs": [],
   "source": [
    "uniprotIDs = pd.read_csv(\n",
    "    os.path.join(cfg['rawDataUniProt'], \n",
    "                 \"uniprot_allProteins_Human_v{}.pkl\".format(logVersions['UniProt']['rawData'])),\n",
    "    header=None,\n",
    "    names=['uniprotID']\n",
    ")\n",
    "assert len(df_features) == len(uniprotIDs)*(len(uniprotIDs)-1)/2"
   ]
  },
  {
   "cell_type": "markdown",
   "metadata": {},
   "source": [
    "# Export\n",
    "\n",
    "- v3.0: uses new cleaned data and cosine similarity for all of them (24/08/2020)\n",
    "- v3.1: uses new cleaned data and cosine similarity for all of them (09/11/2021)"
   ]
  },
  {
   "cell_type": "code",
   "execution_count": 15,
   "metadata": {
    "execution": {
     "iopub.execute_input": "2021-11-09T23:37:40.294898Z",
     "iopub.status.busy": "2021-11-09T23:37:40.294804Z",
     "iopub.status.idle": "2021-11-09T23:37:40.318872Z",
     "shell.execute_reply": "2021-11-09T23:37:40.318451Z",
     "shell.execute_reply.started": "2021-11-09T23:37:40.294883Z"
    }
   },
   "outputs": [],
   "source": [
    "versionFE = '3-1'\n",
    "\n",
    "# logVersions['featuresEngineering'] = dict()\n",
    "logVersions['featuresEngineering']['similarityMeasure']=versionFE\n",
    "\n",
    "dump_LogVersions(logVersions)"
   ]
  },
  {
   "cell_type": "code",
   "execution_count": 16,
   "metadata": {
    "execution": {
     "iopub.execute_input": "2021-11-09T23:37:40.319331Z",
     "iopub.status.busy": "2021-11-09T23:37:40.319231Z",
     "iopub.status.idle": "2021-11-09T23:38:29.171139Z",
     "shell.execute_reply": "2021-11-09T23:38:29.170487Z",
     "shell.execute_reply.started": "2021-11-09T23:37:40.319315Z"
    }
   },
   "outputs": [],
   "source": [
    "df_features.to_pickle(\n",
    "    os.path.join(\n",
    "        cfg['outputFeaturesEngineering'],\n",
    "        \"similarityMeasures_v{}.pkl\".format(versionFE)\n",
    "    )\n",
    ")"
   ]
  },
  {
   "cell_type": "code",
   "execution_count": null,
   "metadata": {},
   "outputs": [],
   "source": []
  }
 ],
 "metadata": {
  "kernelspec": {
   "display_name": "Python (PPI-env)",
   "language": "python",
   "name": "ppi-env"
  },
  "language_info": {
   "codemirror_mode": {
    "name": "ipython",
    "version": 3
   },
   "file_extension": ".py",
   "mimetype": "text/x-python",
   "name": "python",
   "nbconvert_exporter": "python",
   "pygments_lexer": "ipython3",
   "version": "3.7.3"
  },
  "toc-autonumbering": true,
  "toc-showcode": false,
  "toc-showmarkdowntxt": false
 },
 "nbformat": 4,
 "nbformat_minor": 4
}
