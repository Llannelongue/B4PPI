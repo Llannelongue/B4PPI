{
 "cells": [
  {
   "cell_type": "markdown",
   "metadata": {},
   "source": [
    "*System requirements: 4Go*\n",
    "\n",
    "# API requests to UniProt\n",
    "\n",
    "Ressources:\n",
    "https://www.uniprot.org/help/api_queries \n",
    "- https://www.uniprot.org/help/query-fields\n",
    " - https://www.uniprot.org/help/api_idmapping\n",
    " - https://www.uniprot.org/docs/dbxref\n",
    " - https://www.uniprot.org/taxonomy/\n",
    "  \n",
    "- https://www.uniprot.org/help/uniprotkb_column_names\n",
    "\n",
    "https://www.uniprot.org/docs/userman.htm#linetypes"
   ]
  },
  {
   "cell_type": "code",
   "execution_count": 1,
   "metadata": {
    "ExecuteTime": {
     "end_time": "2019-10-28T10:21:01.363065Z",
     "start_time": "2019-10-28T10:20:41.988439Z"
    },
    "execution": {
     "iopub.execute_input": "2022-01-10T16:25:28.912179Z",
     "iopub.status.busy": "2022-01-10T16:25:28.911412Z",
     "iopub.status.idle": "2022-01-10T16:25:32.769444Z",
     "shell.execute_reply": "2022-01-10T16:25:32.768688Z",
     "shell.execute_reply.started": "2022-01-10T16:25:28.911840Z"
    }
   },
   "outputs": [],
   "source": [
    "import requests\n",
    "import os\n",
    "import pandas as pd\n",
    "import re\n",
    "import regex as re2\n",
    "from sklearn.feature_extraction.text import CountVectorizer\n",
    "from io import StringIO\n",
    "import numpy as np\n",
    "import pickle\n",
    "import matplotlib.pyplot as plt\n",
    "import seaborn as sns\n",
    "%matplotlib inline\n",
    "\n",
    "from toolbox import *"
   ]
  },
  {
   "cell_type": "code",
   "execution_count": 2,
   "metadata": {
    "ExecuteTime": {
     "end_time": "2019-10-28T14:18:48.400134Z",
     "start_time": "2019-10-28T14:18:48.371893Z"
    },
    "execution": {
     "iopub.execute_input": "2022-01-10T16:25:32.770724Z",
     "iopub.status.busy": "2022-01-10T16:25:32.770556Z",
     "iopub.status.idle": "2022-01-10T16:25:32.785941Z",
     "shell.execute_reply": "2022-01-10T16:25:32.785427Z",
     "shell.execute_reply.started": "2022-01-10T16:25:32.770698Z"
    }
   },
   "outputs": [],
   "source": [
    "cfg = load_cfg()\n",
    "\n",
    "logVersions = load_LogVersions()"
   ]
  },
  {
   "cell_type": "markdown",
   "metadata": {},
   "source": [
    "# Download data"
   ]
  },
  {
   "cell_type": "markdown",
   "metadata": {},
   "source": [
    "- v1-0 is equivalent to Human 3-4 (06/12/2021)"
   ]
  },
  {
   "cell_type": "code",
   "execution_count": 4,
   "metadata": {
    "ExecuteTime": {
     "end_time": "2019-10-28T10:21:01.434613Z",
     "start_time": "2019-10-28T10:21:01.431443Z"
    },
    "execution": {
     "iopub.execute_input": "2021-12-06T16:09:17.496072Z",
     "iopub.status.busy": "2021-12-06T16:09:17.495559Z",
     "iopub.status.idle": "2021-12-06T16:09:17.502252Z",
     "shell.execute_reply": "2021-12-06T16:09:17.500936Z",
     "shell.execute_reply.started": "2021-12-06T16:09:17.495994Z"
    }
   },
   "outputs": [],
   "source": [
    "version_uniprot = \"1-0\""
   ]
  },
  {
   "cell_type": "code",
   "execution_count": 10,
   "metadata": {
    "ExecuteTime": {
     "end_time": "2019-10-28T10:33:34.630730Z",
     "start_time": "2019-10-28T10:33:34.627580Z"
    },
    "execution": {
     "iopub.execute_input": "2021-12-06T16:10:47.959790Z",
     "iopub.status.busy": "2021-12-06T16:10:47.959279Z",
     "iopub.status.idle": "2021-12-06T16:10:47.971587Z",
     "shell.execute_reply": "2021-12-06T16:10:47.970292Z",
     "shell.execute_reply.started": "2021-12-06T16:10:47.959713Z"
    }
   },
   "outputs": [
    {
     "name": "stdout",
     "output_type": "stream",
     "text": [
      "https://www.uniprot.org/uniprot/?query=active:yes+AND+reviewed:yes+AND+organism:559292&format=tab&columns=id,go(biological process),go(cellular component),go(molecular function),feature(DOMAIN EXTENT),feature(MOTIF),sequence\n"
     ]
    }
   ],
   "source": [
    "baseRequest= \"https://www.uniprot.org/uniprot/?\"\n",
    "\n",
    "requestParameters = {\n",
    "    \"query\":[\n",
    "        \"active:yes\", # not obsolete\n",
    "        \"reviewed:yes\", # Swiss-prot\n",
    "        \"organism:559292\" # Saccharomyces cerevisiae (strain ATCC 204508 / S288c) (Baker's yeast)\n",
    "    ],\n",
    "    \"format\":[\"tab\"],\n",
    "    \"columns\":[\"id,\"+\n",
    "               \"go(biological process),\"+\n",
    "               \"go(cellular component),\"+\n",
    "               \"go(molecular function),\"+\n",
    "               \"feature(DOMAIN EXTENT),\"+\n",
    "               \"feature(MOTIF),\"+\n",
    "               \"sequence\"\n",
    "              ]\n",
    "}\n",
    "\n",
    "baseRequest += '&'.join(['%s=%s' % (k,\"+AND+\".join(v)) for k,v in requestParameters.items()])\n",
    "\n",
    "print(baseRequest)"
   ]
  },
  {
   "cell_type": "code",
   "execution_count": 11,
   "metadata": {
    "ExecuteTime": {
     "end_time": "2019-10-28T10:34:31.671424Z",
     "start_time": "2019-10-28T10:33:36.296144Z"
    },
    "execution": {
     "iopub.execute_input": "2021-12-06T16:10:49.120485Z",
     "iopub.status.busy": "2021-12-06T16:10:49.120060Z",
     "iopub.status.idle": "2021-12-06T16:10:57.352889Z",
     "shell.execute_reply": "2021-12-06T16:10:57.351491Z",
     "shell.execute_reply.started": "2021-12-06T16:10:49.120416Z"
    }
   },
   "outputs": [],
   "source": [
    "results = requests.get(baseRequest)"
   ]
  },
  {
   "cell_type": "code",
   "execution_count": 12,
   "metadata": {
    "ExecuteTime": {
     "end_time": "2019-10-28T10:32:32.198209Z",
     "start_time": "2019-10-28T10:32:32.192335Z"
    },
    "execution": {
     "iopub.execute_input": "2021-12-06T16:10:57.356219Z",
     "iopub.status.busy": "2021-12-06T16:10:57.355802Z",
     "iopub.status.idle": "2021-12-06T16:10:57.360753Z",
     "shell.execute_reply": "2021-12-06T16:10:57.359723Z",
     "shell.execute_reply.started": "2021-12-06T16:10:57.356151Z"
    }
   },
   "outputs": [],
   "source": [
    "# Sanity check\n",
    "assert results.ok"
   ]
  },
  {
   "cell_type": "code",
   "execution_count": 13,
   "metadata": {
    "ExecuteTime": {
     "end_time": "2019-10-28T10:35:12.296363Z",
     "start_time": "2019-10-28T10:35:12.105956Z"
    },
    "execution": {
     "iopub.execute_input": "2021-12-06T16:10:57.363154Z",
     "iopub.status.busy": "2021-12-06T16:10:57.362733Z",
     "iopub.status.idle": "2021-12-06T16:10:57.516315Z",
     "shell.execute_reply": "2021-12-06T16:10:57.515689Z",
     "shell.execute_reply.started": "2021-12-06T16:10:57.363054Z"
    }
   },
   "outputs": [
    {
     "name": "stdout",
     "output_type": "stream",
     "text": [
      "DataFrame: 6,721 rows \t 7 columns\n"
     ]
    },
    {
     "data": {
      "text/html": [
       "<div>\n",
       "<style scoped>\n",
       "    .dataframe tbody tr th:only-of-type {\n",
       "        vertical-align: middle;\n",
       "    }\n",
       "\n",
       "    .dataframe tbody tr th {\n",
       "        vertical-align: top;\n",
       "    }\n",
       "\n",
       "    .dataframe thead th {\n",
       "        text-align: right;\n",
       "    }\n",
       "</style>\n",
       "<table border=\"1\" class=\"dataframe\">\n",
       "  <thead>\n",
       "    <tr style=\"text-align: right;\">\n",
       "      <th></th>\n",
       "      <th>Entry</th>\n",
       "      <th>Gene ontology (biological process)</th>\n",
       "      <th>Gene ontology (cellular component)</th>\n",
       "      <th>Gene ontology (molecular function)</th>\n",
       "      <th>Domain [FT]</th>\n",
       "      <th>Motif</th>\n",
       "      <th>Sequence</th>\n",
       "    </tr>\n",
       "  </thead>\n",
       "  <tbody>\n",
       "    <tr>\n",
       "      <th>0</th>\n",
       "      <td>O13520</td>\n",
       "      <td>NaN</td>\n",
       "      <td>integral component of membrane [GO:0016021]</td>\n",
       "      <td>NaN</td>\n",
       "      <td>NaN</td>\n",
       "      <td>NaN</td>\n",
       "      <td>MVASTTVPYLPKIFFNLTGSRQLHGIFLIINFGLPFSMESSPSASS...</td>\n",
       "    </tr>\n",
       "    <tr>\n",
       "      <th>1</th>\n",
       "      <td>P53880</td>\n",
       "      <td>NaN</td>\n",
       "      <td>integral component of membrane [GO:0016021]</td>\n",
       "      <td>NaN</td>\n",
       "      <td>NaN</td>\n",
       "      <td>NaN</td>\n",
       "      <td>MSNCRRLLCRQLSSAYLNYLPFYFLIYRPFSLYLSSCEYWQSCFSF...</td>\n",
       "    </tr>\n",
       "    <tr>\n",
       "      <th>2</th>\n",
       "      <td>P53979</td>\n",
       "      <td>NaN</td>\n",
       "      <td>integral component of membrane [GO:0016021]</td>\n",
       "      <td>NaN</td>\n",
       "      <td>NaN</td>\n",
       "      <td>NaN</td>\n",
       "      <td>MLTSKIYKLLTERDVLDFKLKIFIRRNVFITHLFFLLHSLLLFLSQ...</td>\n",
       "    </tr>\n",
       "    <tr>\n",
       "      <th>3</th>\n",
       "      <td>Q08172</td>\n",
       "      <td>NaN</td>\n",
       "      <td>NaN</td>\n",
       "      <td>NaN</td>\n",
       "      <td>NaN</td>\n",
       "      <td>NaN</td>\n",
       "      <td>MSKLSSYPHAADFINMEEPPKSKEFFDDLCAVPNLLKRRFPNSRRS...</td>\n",
       "    </tr>\n",
       "    <tr>\n",
       "      <th>4</th>\n",
       "      <td>P34224</td>\n",
       "      <td>NaN</td>\n",
       "      <td>integral component of membrane [GO:0016021]; m...</td>\n",
       "      <td>NaN</td>\n",
       "      <td>NaN</td>\n",
       "      <td>NaN</td>\n",
       "      <td>MLLDAQRFFNRSFSINVICELKHNVNTRRKFEIKDWPTIMLVSRND...</td>\n",
       "    </tr>\n",
       "  </tbody>\n",
       "</table>\n",
       "</div>"
      ],
      "text/plain": [
       "    Entry Gene ontology (biological process)  \\\n",
       "0  O13520                                NaN   \n",
       "1  P53880                                NaN   \n",
       "2  P53979                                NaN   \n",
       "3  Q08172                                NaN   \n",
       "4  P34224                                NaN   \n",
       "\n",
       "                  Gene ontology (cellular component)  \\\n",
       "0        integral component of membrane [GO:0016021]   \n",
       "1        integral component of membrane [GO:0016021]   \n",
       "2        integral component of membrane [GO:0016021]   \n",
       "3                                                NaN   \n",
       "4  integral component of membrane [GO:0016021]; m...   \n",
       "\n",
       "  Gene ontology (molecular function) Domain [FT] Motif  \\\n",
       "0                                NaN         NaN   NaN   \n",
       "1                                NaN         NaN   NaN   \n",
       "2                                NaN         NaN   NaN   \n",
       "3                                NaN         NaN   NaN   \n",
       "4                                NaN         NaN   NaN   \n",
       "\n",
       "                                            Sequence  \n",
       "0  MVASTTVPYLPKIFFNLTGSRQLHGIFLIINFGLPFSMESSPSASS...  \n",
       "1  MSNCRRLLCRQLSSAYLNYLPFYFLIYRPFSLYLSSCEYWQSCFSF...  \n",
       "2  MLTSKIYKLLTERDVLDFKLKIFIRRNVFITHLFFLLHSLLLFLSQ...  \n",
       "3  MSKLSSYPHAADFINMEEPPKSKEFFDDLCAVPNLLKRRFPNSRRS...  \n",
       "4  MLLDAQRFFNRSFSINVICELKHNVNTRRKFEIKDWPTIMLVSRND...  "
      ]
     },
     "metadata": {},
     "output_type": "display_data"
    }
   ],
   "source": [
    "uniprotEnriched1 = pd.read_csv(StringIO(results.content.decode(\"utf-8\")), sep=\"\\t\")\n",
    "\n",
    "glance(uniprotEnriched1)"
   ]
  },
  {
   "cell_type": "code",
   "execution_count": 14,
   "metadata": {
    "execution": {
     "iopub.execute_input": "2021-12-06T16:10:57.517827Z",
     "iopub.status.busy": "2021-12-06T16:10:57.517634Z",
     "iopub.status.idle": "2021-12-06T16:10:57.528090Z",
     "shell.execute_reply": "2021-12-06T16:10:57.527618Z",
     "shell.execute_reply.started": "2021-12-06T16:10:57.517796Z"
    }
   },
   "outputs": [
    {
     "name": "stdout",
     "output_type": "stream",
     "text": [
      "<class 'pandas.core.frame.DataFrame'>\n",
      "RangeIndex: 6721 entries, 0 to 6720\n",
      "Data columns (total 7 columns):\n",
      " #   Column                              Non-Null Count  Dtype \n",
      "---  ------                              --------------  ----- \n",
      " 0   Entry                               6721 non-null   object\n",
      " 1   Gene ontology (biological process)  5211 non-null   object\n",
      " 2   Gene ontology (cellular component)  5882 non-null   object\n",
      " 3   Gene ontology (molecular function)  4479 non-null   object\n",
      " 4   Domain [FT]                         1586 non-null   object\n",
      " 5   Motif                               448 non-null    object\n",
      " 6   Sequence                            6721 non-null   object\n",
      "dtypes: object(7)\n",
      "memory usage: 367.7+ KB\n"
     ]
    }
   ],
   "source": [
    "uniprotEnriched1.info()"
   ]
  },
  {
   "cell_type": "code",
   "execution_count": 15,
   "metadata": {
    "execution": {
     "iopub.execute_input": "2021-12-06T16:11:07.598959Z",
     "iopub.status.busy": "2021-12-06T16:11:07.598235Z",
     "iopub.status.idle": "2021-12-06T16:11:07.604981Z",
     "shell.execute_reply": "2021-12-06T16:11:07.604157Z",
     "shell.execute_reply.started": "2021-12-06T16:11:07.598675Z"
    }
   },
   "outputs": [
    {
     "name": "stdout",
     "output_type": "stream",
     "text": [
      "MVASTTVPYLPKIFFNLTGSRQLHGIFLIINFGLPFSMESSPSASSSSSLFWPVIFSDDSGVLFSTTSDVFFERSLLLAMSTLKICPLNLVFLALARASFVSSSTAKLTNPKPLDLLFVSLTTTACLIGAKLEKKSASCSSVTSWGIDLTNKVFISRPSSFCFETLLEGTSTFSIVSSISLW\n"
     ]
    }
   ],
   "source": [
    "print(uniprotEnriched1.Sequence[0])"
   ]
  },
  {
   "cell_type": "markdown",
   "metadata": {},
   "source": [
    "----\n",
    "**Sort by alphabetical order**"
   ]
  },
  {
   "cell_type": "code",
   "execution_count": 16,
   "metadata": {
    "ExecuteTime": {
     "end_time": "2019-10-28T10:35:59.837137Z",
     "start_time": "2019-10-28T10:35:59.815167Z"
    },
    "execution": {
     "iopub.execute_input": "2021-12-06T16:11:15.240576Z",
     "iopub.status.busy": "2021-12-06T16:11:15.239855Z",
     "iopub.status.idle": "2021-12-06T16:11:15.313102Z",
     "shell.execute_reply": "2021-12-06T16:11:15.312199Z",
     "shell.execute_reply.started": "2021-12-06T16:11:15.240272Z"
    }
   },
   "outputs": [
    {
     "name": "stdout",
     "output_type": "stream",
     "text": [
      "DataFrame: 6,721 rows \t 7 columns\n"
     ]
    },
    {
     "data": {
      "text/html": [
       "<div>\n",
       "<style scoped>\n",
       "    .dataframe tbody tr th:only-of-type {\n",
       "        vertical-align: middle;\n",
       "    }\n",
       "\n",
       "    .dataframe tbody tr th {\n",
       "        vertical-align: top;\n",
       "    }\n",
       "\n",
       "    .dataframe thead th {\n",
       "        text-align: right;\n",
       "    }\n",
       "</style>\n",
       "<table border=\"1\" class=\"dataframe\">\n",
       "  <thead>\n",
       "    <tr style=\"text-align: right;\">\n",
       "      <th></th>\n",
       "      <th>Entry</th>\n",
       "      <th>Gene ontology (biological process)</th>\n",
       "      <th>Gene ontology (cellular component)</th>\n",
       "      <th>Gene ontology (molecular function)</th>\n",
       "      <th>Domain [FT]</th>\n",
       "      <th>Motif</th>\n",
       "      <th>Sequence</th>\n",
       "    </tr>\n",
       "  </thead>\n",
       "  <tbody>\n",
       "    <tr>\n",
       "      <th>0</th>\n",
       "      <td>A0A023PXA5</td>\n",
       "      <td>NaN</td>\n",
       "      <td>NaN</td>\n",
       "      <td>NaN</td>\n",
       "      <td>NaN</td>\n",
       "      <td>NaN</td>\n",
       "      <td>MLLSELVATASSLPYTAISIHNNCRVPAARHIHHGCRYFHGPPVMH...</td>\n",
       "    </tr>\n",
       "    <tr>\n",
       "      <th>1</th>\n",
       "      <td>A0A023PXB0</td>\n",
       "      <td>NaN</td>\n",
       "      <td>NaN</td>\n",
       "      <td>NaN</td>\n",
       "      <td>NaN</td>\n",
       "      <td>NaN</td>\n",
       "      <td>MFINGFVNYPVRTPPNDLLQVVLHGFLRCPLDGSQVDSIGIGHTVH...</td>\n",
       "    </tr>\n",
       "    <tr>\n",
       "      <th>2</th>\n",
       "      <td>A0A023PXB5</td>\n",
       "      <td>NaN</td>\n",
       "      <td>integral component of membrane [GO:0016021]</td>\n",
       "      <td>NaN</td>\n",
       "      <td>NaN</td>\n",
       "      <td>NaN</td>\n",
       "      <td>MFALIISSKGKTSGFFFNSSFSSSALVGIAPLTAYSALVTPVFKSF...</td>\n",
       "    </tr>\n",
       "    <tr>\n",
       "      <th>3</th>\n",
       "      <td>A0A023PXB9</td>\n",
       "      <td>NaN</td>\n",
       "      <td>integral component of membrane [GO:0016021]</td>\n",
       "      <td>NaN</td>\n",
       "      <td>NaN</td>\n",
       "      <td>NaN</td>\n",
       "      <td>MEYVLIYNIWFFSFLQDKPCFCFVDYACSIFLLSSYCGNCLTAVAT...</td>\n",
       "    </tr>\n",
       "    <tr>\n",
       "      <th>4</th>\n",
       "      <td>A0A023PXC2</td>\n",
       "      <td>NaN</td>\n",
       "      <td>integral component of membrane [GO:0016021]</td>\n",
       "      <td>NaN</td>\n",
       "      <td>NaN</td>\n",
       "      <td>NaN</td>\n",
       "      <td>MLPLCLTFLSFFLSLGGSFKAVMTKEEADGTTEAAACLFWIFNWTV...</td>\n",
       "    </tr>\n",
       "  </tbody>\n",
       "</table>\n",
       "</div>"
      ],
      "text/plain": [
       "        Entry Gene ontology (biological process)  \\\n",
       "0  A0A023PXA5                                NaN   \n",
       "1  A0A023PXB0                                NaN   \n",
       "2  A0A023PXB5                                NaN   \n",
       "3  A0A023PXB9                                NaN   \n",
       "4  A0A023PXC2                                NaN   \n",
       "\n",
       "            Gene ontology (cellular component)  \\\n",
       "0                                          NaN   \n",
       "1                                          NaN   \n",
       "2  integral component of membrane [GO:0016021]   \n",
       "3  integral component of membrane [GO:0016021]   \n",
       "4  integral component of membrane [GO:0016021]   \n",
       "\n",
       "  Gene ontology (molecular function) Domain [FT] Motif  \\\n",
       "0                                NaN         NaN   NaN   \n",
       "1                                NaN         NaN   NaN   \n",
       "2                                NaN         NaN   NaN   \n",
       "3                                NaN         NaN   NaN   \n",
       "4                                NaN         NaN   NaN   \n",
       "\n",
       "                                            Sequence  \n",
       "0  MLLSELVATASSLPYTAISIHNNCRVPAARHIHHGCRYFHGPPVMH...  \n",
       "1  MFINGFVNYPVRTPPNDLLQVVLHGFLRCPLDGSQVDSIGIGHTVH...  \n",
       "2  MFALIISSKGKTSGFFFNSSFSSSALVGIAPLTAYSALVTPVFKSF...  \n",
       "3  MEYVLIYNIWFFSFLQDKPCFCFVDYACSIFLLSSYCGNCLTAVAT...  \n",
       "4  MLPLCLTFLSFFLSLGGSFKAVMTKEEADGTTEAAACLFWIFNWTV...  "
      ]
     },
     "metadata": {},
     "output_type": "display_data"
    }
   ],
   "source": [
    "uniprotEnriched2 = uniprotEnriched1.sort_values(by=\"Entry\").reset_index(drop=True)\n",
    "glance(uniprotEnriched2)"
   ]
  },
  {
   "cell_type": "markdown",
   "metadata": {},
   "source": [
    "---\n",
    "**Test uniprot matching**"
   ]
  },
  {
   "cell_type": "code",
   "execution_count": 17,
   "metadata": {
    "execution": {
     "iopub.execute_input": "2021-12-06T16:11:46.441281Z",
     "iopub.status.busy": "2021-12-06T16:11:46.440786Z",
     "iopub.status.idle": "2021-12-06T16:11:49.467384Z",
     "shell.execute_reply": "2021-12-06T16:11:49.465875Z",
     "shell.execute_reply.started": "2021-12-06T16:11:46.441203Z"
    },
    "scrolled": true
   },
   "outputs": [],
   "source": [
    "uniprotkbIdsList = list(set(uniprotEnriched2.Entry))\n",
    "\n",
    "uniprotMapping = mappingUniprotIDs(fromID = 'ACC', listIDs = uniprotkbIdsList)\n",
    "\n",
    "assert len(uniprotMapping.loc[uniprotMapping.From != uniprotMapping.To]) == 0"
   ]
  },
  {
   "cell_type": "markdown",
   "metadata": {},
   "source": [
    "---\n",
    "**Export**"
   ]
  },
  {
   "cell_type": "code",
   "execution_count": 18,
   "metadata": {
    "execution": {
     "iopub.execute_input": "2021-12-06T16:11:52.692739Z",
     "iopub.status.busy": "2021-12-06T16:11:52.691958Z",
     "iopub.status.idle": "2021-12-06T16:11:52.696905Z",
     "shell.execute_reply": "2021-12-06T16:11:52.696074Z",
     "shell.execute_reply.started": "2021-12-06T16:11:52.692416Z"
    }
   },
   "outputs": [],
   "source": [
    "uniprotEnriched_export = uniprotEnriched2"
   ]
  },
  {
   "cell_type": "code",
   "execution_count": 19,
   "metadata": {
    "execution": {
     "iopub.execute_input": "2021-12-06T16:12:38.169207Z",
     "iopub.status.busy": "2021-12-06T16:12:38.168703Z",
     "iopub.status.idle": "2021-12-06T16:12:38.215027Z",
     "shell.execute_reply": "2021-12-06T16:12:38.213792Z",
     "shell.execute_reply.started": "2021-12-06T16:12:38.169129Z"
    }
   },
   "outputs": [],
   "source": [
    "# logVersions['UniProt']['yeast'] = dict()\n",
    "logVersions['UniProt']['yeast']['rawData'] = version_uniprot\n",
    "\n",
    "dump_LogVersions(logVersions)"
   ]
  },
  {
   "cell_type": "code",
   "execution_count": 20,
   "metadata": {
    "ExecuteTime": {
     "end_time": "2019-10-28T10:36:14.397871Z",
     "start_time": "2019-10-28T10:36:14.290180Z"
    },
    "execution": {
     "iopub.execute_input": "2021-12-06T16:13:17.625037Z",
     "iopub.status.busy": "2021-12-06T16:13:17.624530Z",
     "iopub.status.idle": "2021-12-06T16:13:17.990244Z",
     "shell.execute_reply": "2021-12-06T16:13:17.989145Z",
     "shell.execute_reply.started": "2021-12-06T16:13:17.624959Z"
    }
   },
   "outputs": [],
   "source": [
    "# Export raw enriched data\n",
    "uniprotEnriched_export.to_pickle(os.path.join(cfg['rawDataUniProt'],\n",
    "                                              \"uniprot_allProteinsEnriched_yeast_v{}.pkl\".format(version_uniprot)))\n",
    "\n",
    "# Export protein list\n",
    "with open(os.path.join(cfg['rawDataUniProt'], \"uniprot_allProteins_yeast_v{}.pkl\".format(version_uniprot)), 'w') as f:\n",
    "    for item in uniprotEnriched_export.Entry:\n",
    "        f.write(\"%s\\n\" % item)\n"
   ]
  },
  {
   "cell_type": "markdown",
   "metadata": {},
   "source": [
    "# Create features datasets\n",
    "- v1.0 is current preprocessing"
   ]
  },
  {
   "cell_type": "code",
   "execution_count": 3,
   "metadata": {
    "execution": {
     "iopub.execute_input": "2022-01-10T16:25:34.001470Z",
     "iopub.status.busy": "2022-01-10T16:25:34.000936Z",
     "iopub.status.idle": "2022-01-10T16:25:34.019873Z",
     "shell.execute_reply": "2022-01-10T16:25:34.018861Z",
     "shell.execute_reply.started": "2022-01-10T16:25:34.001388Z"
    }
   },
   "outputs": [],
   "source": [
    "logVersions = load_LogVersions()"
   ]
  },
  {
   "cell_type": "code",
   "execution_count": 4,
   "metadata": {
    "execution": {
     "iopub.execute_input": "2022-01-10T16:25:34.365365Z",
     "iopub.status.busy": "2022-01-10T16:25:34.364683Z",
     "iopub.status.idle": "2022-01-10T16:25:34.396269Z",
     "shell.execute_reply": "2022-01-10T16:25:34.395282Z",
     "shell.execute_reply.started": "2022-01-10T16:25:34.365100Z"
    }
   },
   "outputs": [],
   "source": [
    "myVersionUniprot = '1-0'\n",
    "\n",
    "logVersions['UniProt']['yeast']['preprocessed'] = myVersionUniprot\n",
    "\n",
    "dump_LogVersions(logVersions)"
   ]
  },
  {
   "cell_type": "code",
   "execution_count": 5,
   "metadata": {
    "ExecuteTime": {
     "end_time": "2019-10-28T10:38:21.447883Z",
     "start_time": "2019-10-28T10:38:21.404024Z"
    },
    "execution": {
     "iopub.execute_input": "2022-01-10T16:25:35.157554Z",
     "iopub.status.busy": "2022-01-10T16:25:35.156840Z",
     "iopub.status.idle": "2022-01-10T16:25:35.553930Z",
     "shell.execute_reply": "2022-01-10T16:25:35.553332Z",
     "shell.execute_reply.started": "2022-01-10T16:25:35.157258Z"
    }
   },
   "outputs": [
    {
     "name": "stdout",
     "output_type": "stream",
     "text": [
      "DataFrame: 6,721 rows \t 7 columns\n"
     ]
    },
    {
     "data": {
      "text/html": [
       "<div>\n",
       "<style scoped>\n",
       "    .dataframe tbody tr th:only-of-type {\n",
       "        vertical-align: middle;\n",
       "    }\n",
       "\n",
       "    .dataframe tbody tr th {\n",
       "        vertical-align: top;\n",
       "    }\n",
       "\n",
       "    .dataframe thead th {\n",
       "        text-align: right;\n",
       "    }\n",
       "</style>\n",
       "<table border=\"1\" class=\"dataframe\">\n",
       "  <thead>\n",
       "    <tr style=\"text-align: right;\">\n",
       "      <th></th>\n",
       "      <th>Entry</th>\n",
       "      <th>Gene ontology (biological process)</th>\n",
       "      <th>Gene ontology (cellular component)</th>\n",
       "      <th>Gene ontology (molecular function)</th>\n",
       "      <th>Domain [FT]</th>\n",
       "      <th>Motif</th>\n",
       "      <th>Sequence</th>\n",
       "    </tr>\n",
       "  </thead>\n",
       "  <tbody>\n",
       "    <tr>\n",
       "      <th>0</th>\n",
       "      <td>A0A023PXA5</td>\n",
       "      <td>NaN</td>\n",
       "      <td>NaN</td>\n",
       "      <td>NaN</td>\n",
       "      <td>NaN</td>\n",
       "      <td>NaN</td>\n",
       "      <td>MLLSELVATASSLPYTAISIHNNCRVPAARHIHHGCRYFHGPPVMH...</td>\n",
       "    </tr>\n",
       "    <tr>\n",
       "      <th>1</th>\n",
       "      <td>A0A023PXB0</td>\n",
       "      <td>NaN</td>\n",
       "      <td>NaN</td>\n",
       "      <td>NaN</td>\n",
       "      <td>NaN</td>\n",
       "      <td>NaN</td>\n",
       "      <td>MFINGFVNYPVRTPPNDLLQVVLHGFLRCPLDGSQVDSIGIGHTVH...</td>\n",
       "    </tr>\n",
       "    <tr>\n",
       "      <th>2</th>\n",
       "      <td>A0A023PXB5</td>\n",
       "      <td>NaN</td>\n",
       "      <td>integral component of membrane [GO:0016021]</td>\n",
       "      <td>NaN</td>\n",
       "      <td>NaN</td>\n",
       "      <td>NaN</td>\n",
       "      <td>MFALIISSKGKTSGFFFNSSFSSSALVGIAPLTAYSALVTPVFKSF...</td>\n",
       "    </tr>\n",
       "    <tr>\n",
       "      <th>3</th>\n",
       "      <td>A0A023PXB9</td>\n",
       "      <td>NaN</td>\n",
       "      <td>integral component of membrane [GO:0016021]</td>\n",
       "      <td>NaN</td>\n",
       "      <td>NaN</td>\n",
       "      <td>NaN</td>\n",
       "      <td>MEYVLIYNIWFFSFLQDKPCFCFVDYACSIFLLSSYCGNCLTAVAT...</td>\n",
       "    </tr>\n",
       "    <tr>\n",
       "      <th>4</th>\n",
       "      <td>A0A023PXC2</td>\n",
       "      <td>NaN</td>\n",
       "      <td>integral component of membrane [GO:0016021]</td>\n",
       "      <td>NaN</td>\n",
       "      <td>NaN</td>\n",
       "      <td>NaN</td>\n",
       "      <td>MLPLCLTFLSFFLSLGGSFKAVMTKEEADGTTEAAACLFWIFNWTV...</td>\n",
       "    </tr>\n",
       "  </tbody>\n",
       "</table>\n",
       "</div>"
      ],
      "text/plain": [
       "        Entry Gene ontology (biological process)  \\\n",
       "0  A0A023PXA5                                NaN   \n",
       "1  A0A023PXB0                                NaN   \n",
       "2  A0A023PXB5                                NaN   \n",
       "3  A0A023PXB9                                NaN   \n",
       "4  A0A023PXC2                                NaN   \n",
       "\n",
       "            Gene ontology (cellular component)  \\\n",
       "0                                          NaN   \n",
       "1                                          NaN   \n",
       "2  integral component of membrane [GO:0016021]   \n",
       "3  integral component of membrane [GO:0016021]   \n",
       "4  integral component of membrane [GO:0016021]   \n",
       "\n",
       "  Gene ontology (molecular function) Domain [FT] Motif  \\\n",
       "0                                NaN         NaN   NaN   \n",
       "1                                NaN         NaN   NaN   \n",
       "2                                NaN         NaN   NaN   \n",
       "3                                NaN         NaN   NaN   \n",
       "4                                NaN         NaN   NaN   \n",
       "\n",
       "                                            Sequence  \n",
       "0  MLLSELVATASSLPYTAISIHNNCRVPAARHIHHGCRYFHGPPVMH...  \n",
       "1  MFINGFVNYPVRTPPNDLLQVVLHGFLRCPLDGSQVDSIGIGHTVH...  \n",
       "2  MFALIISSKGKTSGFFFNSSFSSSALVGIAPLTAYSALVTPVFKSF...  \n",
       "3  MEYVLIYNIWFFSFLQDKPCFCFVDYACSIFLLSSYCGNCLTAVAT...  \n",
       "4  MLPLCLTFLSFFLSLGGSFKAVMTKEEADGTTEAAACLFWIFNWTV...  "
      ]
     },
     "metadata": {},
     "output_type": "display_data"
    }
   ],
   "source": [
    "uniprotEnriched = pd.read_pickle(os.path.join(cfg['rawDataUniProt'],\n",
    "                                              \"uniprot_allProteinsEnriched_yeast_v{}.pkl\".format(logVersions['UniProt']['yeast']['rawData'])))\n",
    "\n",
    "glance(uniprotEnriched)"
   ]
  },
  {
   "cell_type": "code",
   "execution_count": 6,
   "metadata": {
    "ExecuteTime": {
     "end_time": "2019-10-28T10:38:24.665279Z",
     "start_time": "2019-10-28T10:38:24.651265Z"
    },
    "execution": {
     "iopub.execute_input": "2022-01-10T16:25:37.300945Z",
     "iopub.status.busy": "2022-01-10T16:25:37.300574Z",
     "iopub.status.idle": "2022-01-10T16:25:37.317950Z",
     "shell.execute_reply": "2022-01-10T16:25:37.317150Z",
     "shell.execute_reply.started": "2022-01-10T16:25:37.300892Z"
    }
   },
   "outputs": [
    {
     "name": "stdout",
     "output_type": "stream",
     "text": [
      "<class 'pandas.core.frame.DataFrame'>\n",
      "RangeIndex: 6721 entries, 0 to 6720\n",
      "Data columns (total 7 columns):\n",
      " #   Column                              Non-Null Count  Dtype \n",
      "---  ------                              --------------  ----- \n",
      " 0   Entry                               6721 non-null   object\n",
      " 1   Gene ontology (biological process)  5211 non-null   object\n",
      " 2   Gene ontology (cellular component)  5882 non-null   object\n",
      " 3   Gene ontology (molecular function)  4479 non-null   object\n",
      " 4   Domain [FT]                         1586 non-null   object\n",
      " 5   Motif                               448 non-null    object\n",
      " 6   Sequence                            6721 non-null   object\n",
      "dtypes: object(7)\n",
      "memory usage: 367.7+ KB\n"
     ]
    }
   ],
   "source": [
    "uniprotEnriched.info()"
   ]
  },
  {
   "cell_type": "code",
   "execution_count": 7,
   "metadata": {
    "execution": {
     "iopub.execute_input": "2022-01-10T16:25:47.011788Z",
     "iopub.status.busy": "2022-01-10T16:25:47.011238Z",
     "iopub.status.idle": "2022-01-10T16:25:47.027734Z",
     "shell.execute_reply": "2022-01-10T16:25:47.026784Z",
     "shell.execute_reply.started": "2022-01-10T16:25:47.011704Z"
    }
   },
   "outputs": [
    {
     "data": {
      "text/plain": [
       "Entry                                    0\n",
       "Gene ontology (biological process)    1510\n",
       "Gene ontology (cellular component)     839\n",
       "Gene ontology (molecular function)    2242\n",
       "Domain [FT]                           5135\n",
       "Motif                                 6273\n",
       "Sequence                                 0\n",
       "dtype: int64"
      ]
     },
     "execution_count": 7,
     "metadata": {},
     "output_type": "execute_result"
    }
   ],
   "source": [
    "uniprotEnriched.isna().sum()"
   ]
  },
  {
   "cell_type": "code",
   "execution_count": 24,
   "metadata": {
    "ExecuteTime": {
     "end_time": "2019-10-28T10:39:20.182259Z",
     "start_time": "2019-10-28T10:39:20.161485Z"
    },
    "execution": {
     "iopub.execute_input": "2021-12-06T16:16:29.546960Z",
     "iopub.status.busy": "2021-12-06T16:16:29.546421Z",
     "iopub.status.idle": "2021-12-06T16:16:29.581376Z",
     "shell.execute_reply": "2021-12-06T16:16:29.580395Z",
     "shell.execute_reply.started": "2021-12-06T16:16:29.546881Z"
    }
   },
   "outputs": [],
   "source": [
    "uniprotEnriched2 = uniprotEnriched.fillna('')"
   ]
  },
  {
   "cell_type": "markdown",
   "metadata": {},
   "source": [
    "## Biological process"
   ]
  },
  {
   "cell_type": "code",
   "execution_count": 25,
   "metadata": {
    "ExecuteTime": {
     "end_time": "2019-10-28T10:39:28.703045Z",
     "start_time": "2019-10-28T10:39:28.440169Z"
    },
    "execution": {
     "iopub.execute_input": "2021-12-06T16:16:37.413688Z",
     "iopub.status.busy": "2021-12-06T16:16:37.413222Z",
     "iopub.status.idle": "2021-12-06T16:16:37.646292Z",
     "shell.execute_reply": "2021-12-06T16:16:37.644961Z",
     "shell.execute_reply.started": "2021-12-06T16:16:37.413603Z"
    }
   },
   "outputs": [
    {
     "name": "stdout",
     "output_type": "stream",
     "text": [
      "6721 6721\n",
      "Shape BoW: (6721, 3114)\n"
     ]
    },
    {
     "data": {
      "text/plain": [
       "<6721x3114 sparse matrix of type '<class 'numpy.int64'>'\n",
       "\twith 18993 stored elements in Compressed Sparse Row format>"
      ]
     },
     "execution_count": 25,
     "metadata": {},
     "output_type": "execute_result"
    }
   ],
   "source": [
    "bow, vectorizer = createBoW(\n",
    "    createGOlist(GOcol = uniprotEnriched2[\"Gene ontology (biological process)\"], \n",
    "                 regex0 = r\"(?<=\\[GO:)[\\d]+(?=\\])\")\n",
    ")\n",
    "bow"
   ]
  },
  {
   "cell_type": "code",
   "execution_count": 26,
   "metadata": {
    "ExecuteTime": {
     "end_time": "2019-10-28T10:39:33.407832Z",
     "start_time": "2019-10-28T10:39:33.033817Z"
    },
    "execution": {
     "iopub.execute_input": "2021-12-06T16:16:42.498534Z",
     "iopub.status.busy": "2021-12-06T16:16:42.497783Z",
     "iopub.status.idle": "2021-12-06T16:16:42.601769Z",
     "shell.execute_reply": "2021-12-06T16:16:42.600724Z",
     "shell.execute_reply.started": "2021-12-06T16:16:42.498237Z"
    }
   },
   "outputs": [
    {
     "name": "stdout",
     "output_type": "stream",
     "text": [
      "DataFrame: 6,721 rows \t 3,115 columns\n"
     ]
    },
    {
     "data": {
      "text/html": [
       "<div>\n",
       "<style scoped>\n",
       "    .dataframe tbody tr th:only-of-type {\n",
       "        vertical-align: middle;\n",
       "    }\n",
       "\n",
       "    .dataframe tbody tr th {\n",
       "        vertical-align: top;\n",
       "    }\n",
       "\n",
       "    .dataframe thead th {\n",
       "        text-align: right;\n",
       "    }\n",
       "</style>\n",
       "<table border=\"1\" class=\"dataframe\">\n",
       "  <thead>\n",
       "    <tr style=\"text-align: right;\">\n",
       "      <th></th>\n",
       "      <th>0000001</th>\n",
       "      <th>0000002</th>\n",
       "      <th>0000011</th>\n",
       "      <th>0000012</th>\n",
       "      <th>0000017</th>\n",
       "      <th>0000018</th>\n",
       "      <th>0000019</th>\n",
       "      <th>0000022</th>\n",
       "      <th>0000023</th>\n",
       "      <th>0000025</th>\n",
       "      <th>...</th>\n",
       "      <th>2001209</th>\n",
       "      <th>2001210</th>\n",
       "      <th>2001225</th>\n",
       "      <th>2001234</th>\n",
       "      <th>2001246</th>\n",
       "      <th>2001247</th>\n",
       "      <th>2001255</th>\n",
       "      <th>2001278</th>\n",
       "      <th>2001295</th>\n",
       "      <th>uniprotID</th>\n",
       "    </tr>\n",
       "  </thead>\n",
       "  <tbody>\n",
       "    <tr>\n",
       "      <th>0</th>\n",
       "      <td>0</td>\n",
       "      <td>0</td>\n",
       "      <td>0</td>\n",
       "      <td>0</td>\n",
       "      <td>0</td>\n",
       "      <td>0</td>\n",
       "      <td>0</td>\n",
       "      <td>0</td>\n",
       "      <td>0</td>\n",
       "      <td>0</td>\n",
       "      <td>...</td>\n",
       "      <td>0</td>\n",
       "      <td>0</td>\n",
       "      <td>0</td>\n",
       "      <td>0</td>\n",
       "      <td>0</td>\n",
       "      <td>0</td>\n",
       "      <td>0</td>\n",
       "      <td>0</td>\n",
       "      <td>0</td>\n",
       "      <td>A0A023PXA5</td>\n",
       "    </tr>\n",
       "    <tr>\n",
       "      <th>1</th>\n",
       "      <td>0</td>\n",
       "      <td>0</td>\n",
       "      <td>0</td>\n",
       "      <td>0</td>\n",
       "      <td>0</td>\n",
       "      <td>0</td>\n",
       "      <td>0</td>\n",
       "      <td>0</td>\n",
       "      <td>0</td>\n",
       "      <td>0</td>\n",
       "      <td>...</td>\n",
       "      <td>0</td>\n",
       "      <td>0</td>\n",
       "      <td>0</td>\n",
       "      <td>0</td>\n",
       "      <td>0</td>\n",
       "      <td>0</td>\n",
       "      <td>0</td>\n",
       "      <td>0</td>\n",
       "      <td>0</td>\n",
       "      <td>A0A023PXB0</td>\n",
       "    </tr>\n",
       "    <tr>\n",
       "      <th>2</th>\n",
       "      <td>0</td>\n",
       "      <td>0</td>\n",
       "      <td>0</td>\n",
       "      <td>0</td>\n",
       "      <td>0</td>\n",
       "      <td>0</td>\n",
       "      <td>0</td>\n",
       "      <td>0</td>\n",
       "      <td>0</td>\n",
       "      <td>0</td>\n",
       "      <td>...</td>\n",
       "      <td>0</td>\n",
       "      <td>0</td>\n",
       "      <td>0</td>\n",
       "      <td>0</td>\n",
       "      <td>0</td>\n",
       "      <td>0</td>\n",
       "      <td>0</td>\n",
       "      <td>0</td>\n",
       "      <td>0</td>\n",
       "      <td>A0A023PXB5</td>\n",
       "    </tr>\n",
       "    <tr>\n",
       "      <th>3</th>\n",
       "      <td>0</td>\n",
       "      <td>0</td>\n",
       "      <td>0</td>\n",
       "      <td>0</td>\n",
       "      <td>0</td>\n",
       "      <td>0</td>\n",
       "      <td>0</td>\n",
       "      <td>0</td>\n",
       "      <td>0</td>\n",
       "      <td>0</td>\n",
       "      <td>...</td>\n",
       "      <td>0</td>\n",
       "      <td>0</td>\n",
       "      <td>0</td>\n",
       "      <td>0</td>\n",
       "      <td>0</td>\n",
       "      <td>0</td>\n",
       "      <td>0</td>\n",
       "      <td>0</td>\n",
       "      <td>0</td>\n",
       "      <td>A0A023PXB9</td>\n",
       "    </tr>\n",
       "    <tr>\n",
       "      <th>4</th>\n",
       "      <td>0</td>\n",
       "      <td>0</td>\n",
       "      <td>0</td>\n",
       "      <td>0</td>\n",
       "      <td>0</td>\n",
       "      <td>0</td>\n",
       "      <td>0</td>\n",
       "      <td>0</td>\n",
       "      <td>0</td>\n",
       "      <td>0</td>\n",
       "      <td>...</td>\n",
       "      <td>0</td>\n",
       "      <td>0</td>\n",
       "      <td>0</td>\n",
       "      <td>0</td>\n",
       "      <td>0</td>\n",
       "      <td>0</td>\n",
       "      <td>0</td>\n",
       "      <td>0</td>\n",
       "      <td>0</td>\n",
       "      <td>A0A023PXC2</td>\n",
       "    </tr>\n",
       "  </tbody>\n",
       "</table>\n",
       "<p>5 rows × 3115 columns</p>\n",
       "</div>"
      ],
      "text/plain": [
       "   0000001  0000002  0000011  0000012  0000017  0000018  0000019  0000022  \\\n",
       "0        0        0        0        0        0        0        0        0   \n",
       "1        0        0        0        0        0        0        0        0   \n",
       "2        0        0        0        0        0        0        0        0   \n",
       "3        0        0        0        0        0        0        0        0   \n",
       "4        0        0        0        0        0        0        0        0   \n",
       "\n",
       "   0000023  0000025  ...  2001209  2001210  2001225  2001234  2001246  \\\n",
       "0        0        0  ...        0        0        0        0        0   \n",
       "1        0        0  ...        0        0        0        0        0   \n",
       "2        0        0  ...        0        0        0        0        0   \n",
       "3        0        0  ...        0        0        0        0        0   \n",
       "4        0        0  ...        0        0        0        0        0   \n",
       "\n",
       "   2001247  2001255  2001278  2001295   uniprotID  \n",
       "0        0        0        0        0  A0A023PXA5  \n",
       "1        0        0        0        0  A0A023PXB0  \n",
       "2        0        0        0        0  A0A023PXB5  \n",
       "3        0        0        0        0  A0A023PXB9  \n",
       "4        0        0        0        0  A0A023PXC2  \n",
       "\n",
       "[5 rows x 3115 columns]"
      ]
     },
     "metadata": {},
     "output_type": "display_data"
    }
   ],
   "source": [
    "# This one takes a while to run\n",
    "bioProcessUniprot_BoW = pd.DataFrame(bow.todense())\n",
    "bioProcessUniprot_BoW.columns = vectorizer.get_feature_names()\n",
    "bioProcessUniprot_BoW['uniprotID'] = uniprotEnriched2['Entry']\n",
    "\n",
    "glance(bioProcessUniprot_BoW)"
   ]
  },
  {
   "cell_type": "markdown",
   "metadata": {},
   "source": [
    "---\n",
    "**Number of 1 per process**"
   ]
  },
  {
   "cell_type": "code",
   "execution_count": 27,
   "metadata": {
    "execution": {
     "iopub.execute_input": "2021-12-06T16:17:09.497930Z",
     "iopub.status.busy": "2021-12-06T16:17:09.497715Z",
     "iopub.status.idle": "2021-12-06T16:17:09.725318Z",
     "shell.execute_reply": "2021-12-06T16:17:09.724648Z",
     "shell.execute_reply.started": "2021-12-06T16:17:09.497899Z"
    }
   },
   "outputs": [
    {
     "data": {
      "text/plain": [
       "count    3114.000000\n",
       "mean        6.099229\n",
       "std        12.600465\n",
       "min         1.000000\n",
       "10%         1.000000\n",
       "20%         1.000000\n",
       "30%         1.000000\n",
       "40%         2.000000\n",
       "50%         2.000000\n",
       "60%         3.000000\n",
       "70%         5.000000\n",
       "80%         7.000000\n",
       "90%        13.000000\n",
       "max       221.000000\n",
       "dtype: float64"
      ]
     },
     "execution_count": 27,
     "metadata": {},
     "output_type": "execute_result"
    }
   ],
   "source": [
    "OneperMotif = bioProcessUniprot_BoW.set_index('uniprotID').sum(axis=0).astype(int)\n",
    "\n",
    "OneperMotif.describe(percentiles=np.linspace(0.1,0.9,9))"
   ]
  },
  {
   "cell_type": "markdown",
   "metadata": {},
   "source": [
    "---\n",
    "**Export**"
   ]
  },
  {
   "cell_type": "code",
   "execution_count": 28,
   "metadata": {
    "ExecuteTime": {
     "end_time": "2019-10-28T10:39:49.578944Z",
     "start_time": "2019-10-28T10:39:45.470651Z"
    },
    "execution": {
     "iopub.execute_input": "2021-12-06T16:17:38.920868Z",
     "iopub.status.busy": "2021-12-06T16:17:38.920661Z",
     "iopub.status.idle": "2021-12-06T16:17:41.054203Z",
     "shell.execute_reply": "2021-12-06T16:17:41.053146Z",
     "shell.execute_reply.started": "2021-12-06T16:17:38.920840Z"
    }
   },
   "outputs": [],
   "source": [
    "bioProcessUniprot_BoW.to_pickle(\n",
    "    os.path.join(\n",
    "        cfg['outputPreprocessingUniprot'], \n",
    "        \"bioProcessUniprot_yeast_v{}--{}.pkl\".format(logVersions['UniProt']['yeast']['rawData'], logVersions['UniProt']['yeast']['preprocessed'])\n",
    "    )\n",
    ")"
   ]
  },
  {
   "cell_type": "markdown",
   "metadata": {},
   "source": [
    "## Cellular component"
   ]
  },
  {
   "cell_type": "code",
   "execution_count": 29,
   "metadata": {
    "ExecuteTime": {
     "end_time": "2019-10-28T10:40:01.899505Z",
     "start_time": "2019-10-28T10:40:01.747445Z"
    },
    "execution": {
     "iopub.execute_input": "2021-12-06T16:17:43.965333Z",
     "iopub.status.busy": "2021-12-06T16:17:43.965104Z",
     "iopub.status.idle": "2021-12-06T16:17:44.065090Z",
     "shell.execute_reply": "2021-12-06T16:17:44.064684Z",
     "shell.execute_reply.started": "2021-12-06T16:17:43.965300Z"
    }
   },
   "outputs": [
    {
     "name": "stdout",
     "output_type": "stream",
     "text": [
      "6721 6721\n",
      "Shape BoW: (6721, 820)\n"
     ]
    },
    {
     "data": {
      "text/plain": [
       "<6721x820 sparse matrix of type '<class 'numpy.int64'>'\n",
       "\twith 17926 stored elements in Compressed Sparse Row format>"
      ]
     },
     "execution_count": 29,
     "metadata": {},
     "output_type": "execute_result"
    }
   ],
   "source": [
    "bow, vectorizer = createBoW(\n",
    "    createGOlist(GOcol = uniprotEnriched2[\"Gene ontology (cellular component)\"], \n",
    "                 regex0 = r\"(?<=\\[GO:)[\\d]+(?=\\])\")\n",
    ")\n",
    "bow"
   ]
  },
  {
   "cell_type": "code",
   "execution_count": 30,
   "metadata": {
    "ExecuteTime": {
     "end_time": "2019-10-28T10:40:06.885858Z",
     "start_time": "2019-10-28T10:40:06.829299Z"
    },
    "execution": {
     "iopub.execute_input": "2021-12-06T16:17:45.536425Z",
     "iopub.status.busy": "2021-12-06T16:17:45.536019Z",
     "iopub.status.idle": "2021-12-06T16:17:45.663187Z",
     "shell.execute_reply": "2021-12-06T16:17:45.662126Z",
     "shell.execute_reply.started": "2021-12-06T16:17:45.536279Z"
    }
   },
   "outputs": [
    {
     "name": "stdout",
     "output_type": "stream",
     "text": [
      "DataFrame: 6,721 rows \t 821 columns\n"
     ]
    },
    {
     "data": {
      "text/html": [
       "<div>\n",
       "<style scoped>\n",
       "    .dataframe tbody tr th:only-of-type {\n",
       "        vertical-align: middle;\n",
       "    }\n",
       "\n",
       "    .dataframe tbody tr th {\n",
       "        vertical-align: top;\n",
       "    }\n",
       "\n",
       "    .dataframe thead th {\n",
       "        text-align: right;\n",
       "    }\n",
       "</style>\n",
       "<table border=\"1\" class=\"dataframe\">\n",
       "  <thead>\n",
       "    <tr style=\"text-align: right;\">\n",
       "      <th></th>\n",
       "      <th>0000015</th>\n",
       "      <th>0000109</th>\n",
       "      <th>0000110</th>\n",
       "      <th>0000111</th>\n",
       "      <th>0000112</th>\n",
       "      <th>0000113</th>\n",
       "      <th>0000118</th>\n",
       "      <th>0000123</th>\n",
       "      <th>0000124</th>\n",
       "      <th>0000126</th>\n",
       "      <th>...</th>\n",
       "      <th>1990726</th>\n",
       "      <th>1990816</th>\n",
       "      <th>1990860</th>\n",
       "      <th>1990861</th>\n",
       "      <th>1990871</th>\n",
       "      <th>1990877</th>\n",
       "      <th>1990879</th>\n",
       "      <th>1990904</th>\n",
       "      <th>1990964</th>\n",
       "      <th>uniprotID</th>\n",
       "    </tr>\n",
       "  </thead>\n",
       "  <tbody>\n",
       "    <tr>\n",
       "      <th>0</th>\n",
       "      <td>0</td>\n",
       "      <td>0</td>\n",
       "      <td>0</td>\n",
       "      <td>0</td>\n",
       "      <td>0</td>\n",
       "      <td>0</td>\n",
       "      <td>0</td>\n",
       "      <td>0</td>\n",
       "      <td>0</td>\n",
       "      <td>0</td>\n",
       "      <td>...</td>\n",
       "      <td>0</td>\n",
       "      <td>0</td>\n",
       "      <td>0</td>\n",
       "      <td>0</td>\n",
       "      <td>0</td>\n",
       "      <td>0</td>\n",
       "      <td>0</td>\n",
       "      <td>0</td>\n",
       "      <td>0</td>\n",
       "      <td>A0A023PXA5</td>\n",
       "    </tr>\n",
       "    <tr>\n",
       "      <th>1</th>\n",
       "      <td>0</td>\n",
       "      <td>0</td>\n",
       "      <td>0</td>\n",
       "      <td>0</td>\n",
       "      <td>0</td>\n",
       "      <td>0</td>\n",
       "      <td>0</td>\n",
       "      <td>0</td>\n",
       "      <td>0</td>\n",
       "      <td>0</td>\n",
       "      <td>...</td>\n",
       "      <td>0</td>\n",
       "      <td>0</td>\n",
       "      <td>0</td>\n",
       "      <td>0</td>\n",
       "      <td>0</td>\n",
       "      <td>0</td>\n",
       "      <td>0</td>\n",
       "      <td>0</td>\n",
       "      <td>0</td>\n",
       "      <td>A0A023PXB0</td>\n",
       "    </tr>\n",
       "    <tr>\n",
       "      <th>2</th>\n",
       "      <td>0</td>\n",
       "      <td>0</td>\n",
       "      <td>0</td>\n",
       "      <td>0</td>\n",
       "      <td>0</td>\n",
       "      <td>0</td>\n",
       "      <td>0</td>\n",
       "      <td>0</td>\n",
       "      <td>0</td>\n",
       "      <td>0</td>\n",
       "      <td>...</td>\n",
       "      <td>0</td>\n",
       "      <td>0</td>\n",
       "      <td>0</td>\n",
       "      <td>0</td>\n",
       "      <td>0</td>\n",
       "      <td>0</td>\n",
       "      <td>0</td>\n",
       "      <td>0</td>\n",
       "      <td>0</td>\n",
       "      <td>A0A023PXB5</td>\n",
       "    </tr>\n",
       "    <tr>\n",
       "      <th>3</th>\n",
       "      <td>0</td>\n",
       "      <td>0</td>\n",
       "      <td>0</td>\n",
       "      <td>0</td>\n",
       "      <td>0</td>\n",
       "      <td>0</td>\n",
       "      <td>0</td>\n",
       "      <td>0</td>\n",
       "      <td>0</td>\n",
       "      <td>0</td>\n",
       "      <td>...</td>\n",
       "      <td>0</td>\n",
       "      <td>0</td>\n",
       "      <td>0</td>\n",
       "      <td>0</td>\n",
       "      <td>0</td>\n",
       "      <td>0</td>\n",
       "      <td>0</td>\n",
       "      <td>0</td>\n",
       "      <td>0</td>\n",
       "      <td>A0A023PXB9</td>\n",
       "    </tr>\n",
       "    <tr>\n",
       "      <th>4</th>\n",
       "      <td>0</td>\n",
       "      <td>0</td>\n",
       "      <td>0</td>\n",
       "      <td>0</td>\n",
       "      <td>0</td>\n",
       "      <td>0</td>\n",
       "      <td>0</td>\n",
       "      <td>0</td>\n",
       "      <td>0</td>\n",
       "      <td>0</td>\n",
       "      <td>...</td>\n",
       "      <td>0</td>\n",
       "      <td>0</td>\n",
       "      <td>0</td>\n",
       "      <td>0</td>\n",
       "      <td>0</td>\n",
       "      <td>0</td>\n",
       "      <td>0</td>\n",
       "      <td>0</td>\n",
       "      <td>0</td>\n",
       "      <td>A0A023PXC2</td>\n",
       "    </tr>\n",
       "  </tbody>\n",
       "</table>\n",
       "<p>5 rows × 821 columns</p>\n",
       "</div>"
      ],
      "text/plain": [
       "   0000015  0000109  0000110  0000111  0000112  0000113  0000118  0000123  \\\n",
       "0        0        0        0        0        0        0        0        0   \n",
       "1        0        0        0        0        0        0        0        0   \n",
       "2        0        0        0        0        0        0        0        0   \n",
       "3        0        0        0        0        0        0        0        0   \n",
       "4        0        0        0        0        0        0        0        0   \n",
       "\n",
       "   0000124  0000126  ...  1990726  1990816  1990860  1990861  1990871  \\\n",
       "0        0        0  ...        0        0        0        0        0   \n",
       "1        0        0  ...        0        0        0        0        0   \n",
       "2        0        0  ...        0        0        0        0        0   \n",
       "3        0        0  ...        0        0        0        0        0   \n",
       "4        0        0  ...        0        0        0        0        0   \n",
       "\n",
       "   1990877  1990879  1990904  1990964   uniprotID  \n",
       "0        0        0        0        0  A0A023PXA5  \n",
       "1        0        0        0        0  A0A023PXB0  \n",
       "2        0        0        0        0  A0A023PXB5  \n",
       "3        0        0        0        0  A0A023PXB9  \n",
       "4        0        0        0        0  A0A023PXC2  \n",
       "\n",
       "[5 rows x 821 columns]"
      ]
     },
     "metadata": {},
     "output_type": "display_data"
    }
   ],
   "source": [
    "cellCompUniprot_BoW = pd.DataFrame(bow.todense())\n",
    "cellCompUniprot_BoW.columns = vectorizer.get_feature_names()\n",
    "cellCompUniprot_BoW['uniprotID'] = uniprotEnriched2['Entry']\n",
    "\n",
    "glance(cellCompUniprot_BoW)"
   ]
  },
  {
   "cell_type": "markdown",
   "metadata": {},
   "source": [
    "---\n",
    "**Export**"
   ]
  },
  {
   "cell_type": "code",
   "execution_count": 31,
   "metadata": {
    "ExecuteTime": {
     "end_time": "2019-10-28T10:39:49.578944Z",
     "start_time": "2019-10-28T10:39:45.470651Z"
    },
    "execution": {
     "iopub.execute_input": "2021-12-06T16:18:01.792640Z",
     "iopub.status.busy": "2021-12-06T16:18:01.791883Z",
     "iopub.status.idle": "2021-12-06T16:18:02.479688Z",
     "shell.execute_reply": "2021-12-06T16:18:02.478527Z",
     "shell.execute_reply.started": "2021-12-06T16:18:01.792335Z"
    }
   },
   "outputs": [],
   "source": [
    "cellCompUniprot_BoW.to_pickle(\n",
    "    os.path.join(\n",
    "        cfg['outputPreprocessingUniprot'], \n",
    "        \"cellCompUniprot_yeast_v{}--{}.pkl\".format(logVersions['UniProt']['yeast']['rawData'], logVersions['UniProt']['yeast']['preprocessed'])\n",
    "    )\n",
    ")"
   ]
  },
  {
   "cell_type": "markdown",
   "metadata": {},
   "source": [
    "## Molecular function"
   ]
  },
  {
   "cell_type": "code",
   "execution_count": 32,
   "metadata": {
    "ExecuteTime": {
     "end_time": "2019-10-28T10:40:25.196895Z",
     "start_time": "2019-10-28T10:40:25.060963Z"
    },
    "execution": {
     "iopub.execute_input": "2021-12-06T16:18:14.767892Z",
     "iopub.status.busy": "2021-12-06T16:18:14.767371Z",
     "iopub.status.idle": "2021-12-06T16:18:14.926016Z",
     "shell.execute_reply": "2021-12-06T16:18:14.925508Z",
     "shell.execute_reply.started": "2021-12-06T16:18:14.767592Z"
    }
   },
   "outputs": [
    {
     "name": "stdout",
     "output_type": "stream",
     "text": [
      "6721 6721\n",
      "Shape BoW: (6721, 2079)\n"
     ]
    },
    {
     "data": {
      "text/plain": [
       "<6721x2079 sparse matrix of type '<class 'numpy.int64'>'\n",
       "\twith 11924 stored elements in Compressed Sparse Row format>"
      ]
     },
     "execution_count": 32,
     "metadata": {},
     "output_type": "execute_result"
    }
   ],
   "source": [
    "bow, vectorizer = createBoW(\n",
    "    createGOlist(GOcol = uniprotEnriched2[\"Gene ontology (molecular function)\"], \n",
    "                 regex0 = r\"(?<=\\[GO:)[\\d]+(?=\\])\")\n",
    ")\n",
    "bow"
   ]
  },
  {
   "cell_type": "code",
   "execution_count": 33,
   "metadata": {
    "ExecuteTime": {
     "end_time": "2019-10-28T10:40:25.717931Z",
     "start_time": "2019-10-28T10:40:25.587893Z"
    },
    "execution": {
     "iopub.execute_input": "2021-12-06T16:18:19.617367Z",
     "iopub.status.busy": "2021-12-06T16:18:19.617155Z",
     "iopub.status.idle": "2021-12-06T16:18:19.784207Z",
     "shell.execute_reply": "2021-12-06T16:18:19.783621Z",
     "shell.execute_reply.started": "2021-12-06T16:18:19.617336Z"
    }
   },
   "outputs": [
    {
     "name": "stdout",
     "output_type": "stream",
     "text": [
      "DataFrame: 6,721 rows \t 2,080 columns\n"
     ]
    },
    {
     "data": {
      "text/html": [
       "<div>\n",
       "<style scoped>\n",
       "    .dataframe tbody tr th:only-of-type {\n",
       "        vertical-align: middle;\n",
       "    }\n",
       "\n",
       "    .dataframe tbody tr th {\n",
       "        vertical-align: top;\n",
       "    }\n",
       "\n",
       "    .dataframe thead th {\n",
       "        text-align: right;\n",
       "    }\n",
       "</style>\n",
       "<table border=\"1\" class=\"dataframe\">\n",
       "  <thead>\n",
       "    <tr style=\"text-align: right;\">\n",
       "      <th></th>\n",
       "      <th>0000006</th>\n",
       "      <th>0000007</th>\n",
       "      <th>0000009</th>\n",
       "      <th>0000010</th>\n",
       "      <th>0000014</th>\n",
       "      <th>0000026</th>\n",
       "      <th>0000030</th>\n",
       "      <th>0000031</th>\n",
       "      <th>0000033</th>\n",
       "      <th>0000034</th>\n",
       "      <th>...</th>\n",
       "      <th>1990825</th>\n",
       "      <th>1990838</th>\n",
       "      <th>1990841</th>\n",
       "      <th>1990846</th>\n",
       "      <th>1990883</th>\n",
       "      <th>1990935</th>\n",
       "      <th>1990939</th>\n",
       "      <th>1990948</th>\n",
       "      <th>2001069</th>\n",
       "      <th>uniprotID</th>\n",
       "    </tr>\n",
       "  </thead>\n",
       "  <tbody>\n",
       "    <tr>\n",
       "      <th>0</th>\n",
       "      <td>0</td>\n",
       "      <td>0</td>\n",
       "      <td>0</td>\n",
       "      <td>0</td>\n",
       "      <td>0</td>\n",
       "      <td>0</td>\n",
       "      <td>0</td>\n",
       "      <td>0</td>\n",
       "      <td>0</td>\n",
       "      <td>0</td>\n",
       "      <td>...</td>\n",
       "      <td>0</td>\n",
       "      <td>0</td>\n",
       "      <td>0</td>\n",
       "      <td>0</td>\n",
       "      <td>0</td>\n",
       "      <td>0</td>\n",
       "      <td>0</td>\n",
       "      <td>0</td>\n",
       "      <td>0</td>\n",
       "      <td>A0A023PXA5</td>\n",
       "    </tr>\n",
       "    <tr>\n",
       "      <th>1</th>\n",
       "      <td>0</td>\n",
       "      <td>0</td>\n",
       "      <td>0</td>\n",
       "      <td>0</td>\n",
       "      <td>0</td>\n",
       "      <td>0</td>\n",
       "      <td>0</td>\n",
       "      <td>0</td>\n",
       "      <td>0</td>\n",
       "      <td>0</td>\n",
       "      <td>...</td>\n",
       "      <td>0</td>\n",
       "      <td>0</td>\n",
       "      <td>0</td>\n",
       "      <td>0</td>\n",
       "      <td>0</td>\n",
       "      <td>0</td>\n",
       "      <td>0</td>\n",
       "      <td>0</td>\n",
       "      <td>0</td>\n",
       "      <td>A0A023PXB0</td>\n",
       "    </tr>\n",
       "    <tr>\n",
       "      <th>2</th>\n",
       "      <td>0</td>\n",
       "      <td>0</td>\n",
       "      <td>0</td>\n",
       "      <td>0</td>\n",
       "      <td>0</td>\n",
       "      <td>0</td>\n",
       "      <td>0</td>\n",
       "      <td>0</td>\n",
       "      <td>0</td>\n",
       "      <td>0</td>\n",
       "      <td>...</td>\n",
       "      <td>0</td>\n",
       "      <td>0</td>\n",
       "      <td>0</td>\n",
       "      <td>0</td>\n",
       "      <td>0</td>\n",
       "      <td>0</td>\n",
       "      <td>0</td>\n",
       "      <td>0</td>\n",
       "      <td>0</td>\n",
       "      <td>A0A023PXB5</td>\n",
       "    </tr>\n",
       "    <tr>\n",
       "      <th>3</th>\n",
       "      <td>0</td>\n",
       "      <td>0</td>\n",
       "      <td>0</td>\n",
       "      <td>0</td>\n",
       "      <td>0</td>\n",
       "      <td>0</td>\n",
       "      <td>0</td>\n",
       "      <td>0</td>\n",
       "      <td>0</td>\n",
       "      <td>0</td>\n",
       "      <td>...</td>\n",
       "      <td>0</td>\n",
       "      <td>0</td>\n",
       "      <td>0</td>\n",
       "      <td>0</td>\n",
       "      <td>0</td>\n",
       "      <td>0</td>\n",
       "      <td>0</td>\n",
       "      <td>0</td>\n",
       "      <td>0</td>\n",
       "      <td>A0A023PXB9</td>\n",
       "    </tr>\n",
       "    <tr>\n",
       "      <th>4</th>\n",
       "      <td>0</td>\n",
       "      <td>0</td>\n",
       "      <td>0</td>\n",
       "      <td>0</td>\n",
       "      <td>0</td>\n",
       "      <td>0</td>\n",
       "      <td>0</td>\n",
       "      <td>0</td>\n",
       "      <td>0</td>\n",
       "      <td>0</td>\n",
       "      <td>...</td>\n",
       "      <td>0</td>\n",
       "      <td>0</td>\n",
       "      <td>0</td>\n",
       "      <td>0</td>\n",
       "      <td>0</td>\n",
       "      <td>0</td>\n",
       "      <td>0</td>\n",
       "      <td>0</td>\n",
       "      <td>0</td>\n",
       "      <td>A0A023PXC2</td>\n",
       "    </tr>\n",
       "  </tbody>\n",
       "</table>\n",
       "<p>5 rows × 2080 columns</p>\n",
       "</div>"
      ],
      "text/plain": [
       "   0000006  0000007  0000009  0000010  0000014  0000026  0000030  0000031  \\\n",
       "0        0        0        0        0        0        0        0        0   \n",
       "1        0        0        0        0        0        0        0        0   \n",
       "2        0        0        0        0        0        0        0        0   \n",
       "3        0        0        0        0        0        0        0        0   \n",
       "4        0        0        0        0        0        0        0        0   \n",
       "\n",
       "   0000033  0000034  ...  1990825  1990838  1990841  1990846  1990883  \\\n",
       "0        0        0  ...        0        0        0        0        0   \n",
       "1        0        0  ...        0        0        0        0        0   \n",
       "2        0        0  ...        0        0        0        0        0   \n",
       "3        0        0  ...        0        0        0        0        0   \n",
       "4        0        0  ...        0        0        0        0        0   \n",
       "\n",
       "   1990935  1990939  1990948  2001069   uniprotID  \n",
       "0        0        0        0        0  A0A023PXA5  \n",
       "1        0        0        0        0  A0A023PXB0  \n",
       "2        0        0        0        0  A0A023PXB5  \n",
       "3        0        0        0        0  A0A023PXB9  \n",
       "4        0        0        0        0  A0A023PXC2  \n",
       "\n",
       "[5 rows x 2080 columns]"
      ]
     },
     "metadata": {},
     "output_type": "display_data"
    }
   ],
   "source": [
    "molFuncUniprot_BoW = pd.DataFrame(bow.todense())\n",
    "molFuncUniprot_BoW.columns = vectorizer.get_feature_names()\n",
    "molFuncUniprot_BoW['uniprotID'] = uniprotEnriched2['Entry']\n",
    "\n",
    "glance(molFuncUniprot_BoW)"
   ]
  },
  {
   "cell_type": "markdown",
   "metadata": {},
   "source": [
    "---\n",
    "**Export**"
   ]
  },
  {
   "cell_type": "code",
   "execution_count": 34,
   "metadata": {
    "ExecuteTime": {
     "end_time": "2019-10-28T10:39:49.578944Z",
     "start_time": "2019-10-28T10:39:45.470651Z"
    },
    "execution": {
     "iopub.execute_input": "2021-12-06T16:18:29.573246Z",
     "iopub.status.busy": "2021-12-06T16:18:29.572913Z",
     "iopub.status.idle": "2021-12-06T16:18:31.640082Z",
     "shell.execute_reply": "2021-12-06T16:18:31.639129Z",
     "shell.execute_reply.started": "2021-12-06T16:18:29.573104Z"
    }
   },
   "outputs": [],
   "source": [
    "molFuncUniprot_BoW.to_pickle(\n",
    "    os.path.join(\n",
    "        cfg['outputPreprocessingUniprot'], \n",
    "        \"molFuncUniprot_yeast_v{}--{}.pkl\".format(logVersions['UniProt']['yeast']['rawData'], logVersions['UniProt']['yeast']['preprocessed'])\n",
    "    )\n",
    ")"
   ]
  },
  {
   "cell_type": "markdown",
   "metadata": {},
   "source": [
    "## Domain"
   ]
  },
  {
   "cell_type": "code",
   "execution_count": 35,
   "metadata": {
    "ExecuteTime": {
     "end_time": "2019-10-28T10:39:28.703045Z",
     "start_time": "2019-10-28T10:39:28.440169Z"
    },
    "execution": {
     "iopub.execute_input": "2021-12-06T16:18:32.996978Z",
     "iopub.status.busy": "2021-12-06T16:18:32.996749Z",
     "iopub.status.idle": "2021-12-06T16:18:33.153997Z",
     "shell.execute_reply": "2021-12-06T16:18:33.153465Z",
     "shell.execute_reply.started": "2021-12-06T16:18:32.996947Z"
    }
   },
   "outputs": [
    {
     "name": "stdout",
     "output_type": "stream",
     "text": [
      "6721 6721\n",
      "Shape BoW: (6721, 606)\n"
     ]
    },
    {
     "data": {
      "text/plain": [
       "<6721x606 sparse matrix of type '<class 'numpy.int64'>'\n",
       "\twith 2381 stored elements in Compressed Sparse Row format>"
      ]
     },
     "execution_count": 35,
     "metadata": {},
     "output_type": "execute_result"
    }
   ],
   "source": [
    "bow, vectorizer = createBoW(\n",
    "    createGOlist(GOcol = uniprotEnriched2[\"Domain [FT]\"], \n",
    "                 regex0 = r\"(?<=note=\\\")[^\\\"]+(?=\\\")\")\n",
    ")\n",
    "bow"
   ]
  },
  {
   "cell_type": "code",
   "execution_count": 36,
   "metadata": {
    "ExecuteTime": {
     "end_time": "2019-10-28T10:39:33.407832Z",
     "start_time": "2019-10-28T10:39:33.033817Z"
    },
    "execution": {
     "iopub.execute_input": "2021-12-06T16:18:35.543952Z",
     "iopub.status.busy": "2021-12-06T16:18:35.543486Z",
     "iopub.status.idle": "2021-12-06T16:18:35.653776Z",
     "shell.execute_reply": "2021-12-06T16:18:35.653074Z",
     "shell.execute_reply.started": "2021-12-06T16:18:35.543698Z"
    }
   },
   "outputs": [
    {
     "name": "stdout",
     "output_type": "stream",
     "text": [
      "DataFrame: 6,721 rows \t 607 columns\n"
     ]
    },
    {
     "data": {
      "text/html": [
       "<div>\n",
       "<style scoped>\n",
       "    .dataframe tbody tr th:only-of-type {\n",
       "        vertical-align: middle;\n",
       "    }\n",
       "\n",
       "    .dataframe tbody tr th {\n",
       "        vertical-align: top;\n",
       "    }\n",
       "\n",
       "    .dataframe thead th {\n",
       "        text-align: right;\n",
       "    }\n",
       "</style>\n",
       "<table border=\"1\" class=\"dataframe\">\n",
       "  <thead>\n",
       "    <tr style=\"text-align: right;\">\n",
       "      <th></th>\n",
       "      <th>2Fe2Sferredoxintype</th>\n",
       "      <th>2SPRY</th>\n",
       "      <th>4Fe4Sferredoxintype</th>\n",
       "      <th>4Fe4Sferredoxintype1</th>\n",
       "      <th>4Fe4Sferredoxintype2</th>\n",
       "      <th>ABCtransmembranetype1</th>\n",
       "      <th>ABCtransmembranetype11</th>\n",
       "      <th>ABCtransmembranetype12</th>\n",
       "      <th>ABCtransmembranetype2</th>\n",
       "      <th>ABCtransporter</th>\n",
       "      <th>...</th>\n",
       "      <th>tSNAREcoiledcoilhomology</th>\n",
       "      <th>tSNAREcoiledcoilhomology1</th>\n",
       "      <th>tSNAREcoiledcoilhomology2</th>\n",
       "      <th>trtypeG</th>\n",
       "      <th>truncated</th>\n",
       "      <th>uDENN</th>\n",
       "      <th>uDENNFLCNSMCR8type</th>\n",
       "      <th>uDENNFNIP12type</th>\n",
       "      <th>vSNAREcoiledcoilhomology</th>\n",
       "      <th>uniprotID</th>\n",
       "    </tr>\n",
       "  </thead>\n",
       "  <tbody>\n",
       "    <tr>\n",
       "      <th>0</th>\n",
       "      <td>0</td>\n",
       "      <td>0</td>\n",
       "      <td>0</td>\n",
       "      <td>0</td>\n",
       "      <td>0</td>\n",
       "      <td>0</td>\n",
       "      <td>0</td>\n",
       "      <td>0</td>\n",
       "      <td>0</td>\n",
       "      <td>0</td>\n",
       "      <td>...</td>\n",
       "      <td>0</td>\n",
       "      <td>0</td>\n",
       "      <td>0</td>\n",
       "      <td>0</td>\n",
       "      <td>0</td>\n",
       "      <td>0</td>\n",
       "      <td>0</td>\n",
       "      <td>0</td>\n",
       "      <td>0</td>\n",
       "      <td>A0A023PXA5</td>\n",
       "    </tr>\n",
       "    <tr>\n",
       "      <th>1</th>\n",
       "      <td>0</td>\n",
       "      <td>0</td>\n",
       "      <td>0</td>\n",
       "      <td>0</td>\n",
       "      <td>0</td>\n",
       "      <td>0</td>\n",
       "      <td>0</td>\n",
       "      <td>0</td>\n",
       "      <td>0</td>\n",
       "      <td>0</td>\n",
       "      <td>...</td>\n",
       "      <td>0</td>\n",
       "      <td>0</td>\n",
       "      <td>0</td>\n",
       "      <td>0</td>\n",
       "      <td>0</td>\n",
       "      <td>0</td>\n",
       "      <td>0</td>\n",
       "      <td>0</td>\n",
       "      <td>0</td>\n",
       "      <td>A0A023PXB0</td>\n",
       "    </tr>\n",
       "    <tr>\n",
       "      <th>2</th>\n",
       "      <td>0</td>\n",
       "      <td>0</td>\n",
       "      <td>0</td>\n",
       "      <td>0</td>\n",
       "      <td>0</td>\n",
       "      <td>0</td>\n",
       "      <td>0</td>\n",
       "      <td>0</td>\n",
       "      <td>0</td>\n",
       "      <td>0</td>\n",
       "      <td>...</td>\n",
       "      <td>0</td>\n",
       "      <td>0</td>\n",
       "      <td>0</td>\n",
       "      <td>0</td>\n",
       "      <td>0</td>\n",
       "      <td>0</td>\n",
       "      <td>0</td>\n",
       "      <td>0</td>\n",
       "      <td>0</td>\n",
       "      <td>A0A023PXB5</td>\n",
       "    </tr>\n",
       "    <tr>\n",
       "      <th>3</th>\n",
       "      <td>0</td>\n",
       "      <td>0</td>\n",
       "      <td>0</td>\n",
       "      <td>0</td>\n",
       "      <td>0</td>\n",
       "      <td>0</td>\n",
       "      <td>0</td>\n",
       "      <td>0</td>\n",
       "      <td>0</td>\n",
       "      <td>0</td>\n",
       "      <td>...</td>\n",
       "      <td>0</td>\n",
       "      <td>0</td>\n",
       "      <td>0</td>\n",
       "      <td>0</td>\n",
       "      <td>0</td>\n",
       "      <td>0</td>\n",
       "      <td>0</td>\n",
       "      <td>0</td>\n",
       "      <td>0</td>\n",
       "      <td>A0A023PXB9</td>\n",
       "    </tr>\n",
       "    <tr>\n",
       "      <th>4</th>\n",
       "      <td>0</td>\n",
       "      <td>0</td>\n",
       "      <td>0</td>\n",
       "      <td>0</td>\n",
       "      <td>0</td>\n",
       "      <td>0</td>\n",
       "      <td>0</td>\n",
       "      <td>0</td>\n",
       "      <td>0</td>\n",
       "      <td>0</td>\n",
       "      <td>...</td>\n",
       "      <td>0</td>\n",
       "      <td>0</td>\n",
       "      <td>0</td>\n",
       "      <td>0</td>\n",
       "      <td>0</td>\n",
       "      <td>0</td>\n",
       "      <td>0</td>\n",
       "      <td>0</td>\n",
       "      <td>0</td>\n",
       "      <td>A0A023PXC2</td>\n",
       "    </tr>\n",
       "  </tbody>\n",
       "</table>\n",
       "<p>5 rows × 607 columns</p>\n",
       "</div>"
      ],
      "text/plain": [
       "   2Fe2Sferredoxintype  2SPRY  4Fe4Sferredoxintype  4Fe4Sferredoxintype1  \\\n",
       "0                    0      0                    0                     0   \n",
       "1                    0      0                    0                     0   \n",
       "2                    0      0                    0                     0   \n",
       "3                    0      0                    0                     0   \n",
       "4                    0      0                    0                     0   \n",
       "\n",
       "   4Fe4Sferredoxintype2  ABCtransmembranetype1  ABCtransmembranetype11  \\\n",
       "0                     0                      0                       0   \n",
       "1                     0                      0                       0   \n",
       "2                     0                      0                       0   \n",
       "3                     0                      0                       0   \n",
       "4                     0                      0                       0   \n",
       "\n",
       "   ABCtransmembranetype12  ABCtransmembranetype2  ABCtransporter  ...  \\\n",
       "0                       0                      0               0  ...   \n",
       "1                       0                      0               0  ...   \n",
       "2                       0                      0               0  ...   \n",
       "3                       0                      0               0  ...   \n",
       "4                       0                      0               0  ...   \n",
       "\n",
       "   tSNAREcoiledcoilhomology  tSNAREcoiledcoilhomology1  \\\n",
       "0                         0                          0   \n",
       "1                         0                          0   \n",
       "2                         0                          0   \n",
       "3                         0                          0   \n",
       "4                         0                          0   \n",
       "\n",
       "   tSNAREcoiledcoilhomology2  trtypeG  truncated  uDENN  uDENNFLCNSMCR8type  \\\n",
       "0                          0        0          0      0                   0   \n",
       "1                          0        0          0      0                   0   \n",
       "2                          0        0          0      0                   0   \n",
       "3                          0        0          0      0                   0   \n",
       "4                          0        0          0      0                   0   \n",
       "\n",
       "   uDENNFNIP12type  vSNAREcoiledcoilhomology   uniprotID  \n",
       "0                0                         0  A0A023PXA5  \n",
       "1                0                         0  A0A023PXB0  \n",
       "2                0                         0  A0A023PXB5  \n",
       "3                0                         0  A0A023PXB9  \n",
       "4                0                         0  A0A023PXC2  \n",
       "\n",
       "[5 rows x 607 columns]"
      ]
     },
     "metadata": {},
     "output_type": "display_data"
    }
   ],
   "source": [
    "# This one takes a while to run\n",
    "domain_BoW = pd.DataFrame(bow.todense())\n",
    "domain_BoW.columns = vectorizer.get_feature_names()\n",
    "domain_BoW['uniprotID'] = uniprotEnriched2['Entry']\n",
    "\n",
    "glance(domain_BoW)"
   ]
  },
  {
   "cell_type": "markdown",
   "metadata": {},
   "source": [
    "---\n",
    "**Test of the parsing method**"
   ]
  },
  {
   "cell_type": "code",
   "execution_count": 37,
   "metadata": {
    "ExecuteTime": {
     "end_time": "2019-10-28T11:48:58.954243Z",
     "start_time": "2019-10-28T11:48:58.618363Z"
    },
    "execution": {
     "iopub.execute_input": "2021-12-06T16:18:42.686792Z",
     "iopub.status.busy": "2021-12-06T16:18:42.686579Z",
     "iopub.status.idle": "2021-12-06T16:18:42.787255Z",
     "shell.execute_reply": "2021-12-06T16:18:42.786492Z",
     "shell.execute_reply.started": "2021-12-06T16:18:42.686767Z"
    },
    "scrolled": true
   },
   "outputs": [
    {
     "name": "stdout",
     "output_type": "stream",
     "text": [
      "6721 6721\n"
     ]
    },
    {
     "data": {
      "text/html": [
       "<div>\n",
       "<style scoped>\n",
       "    .dataframe tbody tr th:only-of-type {\n",
       "        vertical-align: middle;\n",
       "    }\n",
       "\n",
       "    .dataframe tbody tr th {\n",
       "        vertical-align: top;\n",
       "    }\n",
       "\n",
       "    .dataframe thead th {\n",
       "        text-align: right;\n",
       "    }\n",
       "</style>\n",
       "<table border=\"1\" class=\"dataframe\">\n",
       "  <thead>\n",
       "    <tr style=\"text-align: right;\">\n",
       "      <th></th>\n",
       "      <th>a</th>\n",
       "      <th>b</th>\n",
       "    </tr>\n",
       "  </thead>\n",
       "  <tbody>\n",
       "    <tr>\n",
       "      <th>12</th>\n",
       "      <td>DOMAIN 2..42;  /note=\"Helicase C-terminal\";  /...</td>\n",
       "      <td>HelicaseCterminal</td>\n",
       "    </tr>\n",
       "    <tr>\n",
       "      <th>98</th>\n",
       "      <td>DOMAIN 619..786;  /note=\"Integrase catalytic\";...</td>\n",
       "      <td>Integrasecatalytic</td>\n",
       "    </tr>\n",
       "    <tr>\n",
       "      <th>99</th>\n",
       "      <td>DOMAIN 2..262;  /note=\"Glutamine amidotransfer...</td>\n",
       "      <td>Glutamineamidotransferasetype2</td>\n",
       "    </tr>\n",
       "    <tr>\n",
       "      <th>103</th>\n",
       "      <td>DOMAIN 11..46;  /note=\"EF-hand 1\";  /evidence=...</td>\n",
       "      <td>EFhand1 EFhand2 EFhand3 EFhand4</td>\n",
       "    </tr>\n",
       "    <tr>\n",
       "      <th>113</th>\n",
       "      <td>DOMAIN 107..181;  /note=\"S4 RNA-binding\";  /ev...</td>\n",
       "      <td>S4RNAbinding</td>\n",
       "    </tr>\n",
       "    <tr>\n",
       "      <th>...</th>\n",
       "      <td>...</td>\n",
       "      <td>...</td>\n",
       "    </tr>\n",
       "    <tr>\n",
       "      <th>6687</th>\n",
       "      <td>DOMAIN 30..179;  /note=\"Nudix hydrolase\";  /ev...</td>\n",
       "      <td>Nudixhydrolase</td>\n",
       "    </tr>\n",
       "    <tr>\n",
       "      <th>6689</th>\n",
       "      <td>DOMAIN 266..363;  /note=\"SWIRM\";  /evidence=\"E...</td>\n",
       "      <td>SWIRM</td>\n",
       "    </tr>\n",
       "    <tr>\n",
       "      <th>6691</th>\n",
       "      <td>DOMAIN 660..835;  /note=\"Integrase catalytic\";...</td>\n",
       "      <td>Integrasecatalytic ReversetranscriptaseTy1copi...</td>\n",
       "    </tr>\n",
       "    <tr>\n",
       "      <th>6701</th>\n",
       "      <td>DOMAIN 159..241;  /note=\"RRM 1\";  /evidence=\"E...</td>\n",
       "      <td>RRM1 RRM2</td>\n",
       "    </tr>\n",
       "    <tr>\n",
       "      <th>6708</th>\n",
       "      <td>DOMAIN 162..283;  /note=\"CMP/dCMP-type deamina...</td>\n",
       "      <td>CMPdCMPtypedeaminase</td>\n",
       "    </tr>\n",
       "  </tbody>\n",
       "</table>\n",
       "<p>1586 rows × 2 columns</p>\n",
       "</div>"
      ],
      "text/plain": [
       "                                                      a  \\\n",
       "12    DOMAIN 2..42;  /note=\"Helicase C-terminal\";  /...   \n",
       "98    DOMAIN 619..786;  /note=\"Integrase catalytic\";...   \n",
       "99    DOMAIN 2..262;  /note=\"Glutamine amidotransfer...   \n",
       "103   DOMAIN 11..46;  /note=\"EF-hand 1\";  /evidence=...   \n",
       "113   DOMAIN 107..181;  /note=\"S4 RNA-binding\";  /ev...   \n",
       "...                                                 ...   \n",
       "6687  DOMAIN 30..179;  /note=\"Nudix hydrolase\";  /ev...   \n",
       "6689  DOMAIN 266..363;  /note=\"SWIRM\";  /evidence=\"E...   \n",
       "6691  DOMAIN 660..835;  /note=\"Integrase catalytic\";...   \n",
       "6701  DOMAIN 159..241;  /note=\"RRM 1\";  /evidence=\"E...   \n",
       "6708  DOMAIN 162..283;  /note=\"CMP/dCMP-type deamina...   \n",
       "\n",
       "                                                      b  \n",
       "12                                    HelicaseCterminal  \n",
       "98                                   Integrasecatalytic  \n",
       "99                       Glutamineamidotransferasetype2  \n",
       "103                     EFhand1 EFhand2 EFhand3 EFhand4  \n",
       "113                                        S4RNAbinding  \n",
       "...                                                 ...  \n",
       "6687                                     Nudixhydrolase  \n",
       "6689                                              SWIRM  \n",
       "6691  Integrasecatalytic ReversetranscriptaseTy1copi...  \n",
       "6701                                          RRM1 RRM2  \n",
       "6708                               CMPdCMPtypedeaminase  \n",
       "\n",
       "[1586 rows x 2 columns]"
      ]
     },
     "execution_count": 37,
     "metadata": {},
     "output_type": "execute_result"
    }
   ],
   "source": [
    "temp1 = pd.DataFrame({'a': uniprotEnriched2[\"Domain [FT]\"],\n",
    "                      'b': createGOlist(GOcol = uniprotEnriched2[\"Domain [FT]\"], \n",
    "                                        regex0 = r\"(?<=note=\\\")[^\\\"]+(?=\\\")\"\n",
    "                                       )}\n",
    "                     )\n",
    "temp1.loc[temp1.a != '']"
   ]
  },
  {
   "cell_type": "code",
   "execution_count": 38,
   "metadata": {
    "execution": {
     "iopub.execute_input": "2021-12-06T16:18:51.254519Z",
     "iopub.status.busy": "2021-12-06T16:18:51.254315Z",
     "iopub.status.idle": "2021-12-06T16:18:51.259931Z",
     "shell.execute_reply": "2021-12-06T16:18:51.259170Z",
     "shell.execute_reply.started": "2021-12-06T16:18:51.254493Z"
    },
    "scrolled": true
   },
   "outputs": [],
   "source": [
    "# Sanity check\n",
    "foo = temp1.loc[(temp1.a != '')&(temp1.b == '')]\n",
    "assert len(foo) == 0"
   ]
  },
  {
   "cell_type": "markdown",
   "metadata": {},
   "source": [
    "---\n",
    "**Number of 1 per domain**"
   ]
  },
  {
   "cell_type": "code",
   "execution_count": 39,
   "metadata": {
    "execution": {
     "iopub.execute_input": "2021-12-06T16:18:56.844659Z",
     "iopub.status.busy": "2021-12-06T16:18:56.844167Z",
     "iopub.status.idle": "2021-12-06T16:18:56.972343Z",
     "shell.execute_reply": "2021-12-06T16:18:56.971581Z",
     "shell.execute_reply.started": "2021-12-06T16:18:56.844349Z"
    }
   },
   "outputs": [
    {
     "data": {
      "text/plain": [
       "count    606.000000\n",
       "mean       3.929043\n",
       "std        7.955241\n",
       "min        1.000000\n",
       "10%        1.000000\n",
       "20%        1.000000\n",
       "30%        1.000000\n",
       "40%        1.000000\n",
       "50%        2.000000\n",
       "60%        2.000000\n",
       "70%        3.000000\n",
       "80%        5.000000\n",
       "90%        7.000000\n",
       "max      119.000000\n",
       "dtype: float64"
      ]
     },
     "execution_count": 39,
     "metadata": {},
     "output_type": "execute_result"
    }
   ],
   "source": [
    "OneperMotif = domain_BoW.set_index('uniprotID').sum(axis=0).astype(int)\n",
    "\n",
    "OneperMotif.describe(percentiles=np.linspace(0.1,0.9,9))"
   ]
  },
  {
   "cell_type": "markdown",
   "metadata": {},
   "source": [
    "---\n",
    "**Export**"
   ]
  },
  {
   "cell_type": "code",
   "execution_count": 40,
   "metadata": {
    "ExecuteTime": {
     "end_time": "2019-10-28T10:39:49.578944Z",
     "start_time": "2019-10-28T10:39:45.470651Z"
    },
    "execution": {
     "iopub.execute_input": "2021-12-06T16:19:04.960771Z",
     "iopub.status.busy": "2021-12-06T16:19:04.960299Z",
     "iopub.status.idle": "2021-12-06T16:19:05.300046Z",
     "shell.execute_reply": "2021-12-06T16:19:05.298823Z",
     "shell.execute_reply.started": "2021-12-06T16:19:04.960702Z"
    }
   },
   "outputs": [],
   "source": [
    "domain_BoW.to_pickle(\n",
    "    os.path.join(\n",
    "        cfg['outputPreprocessingUniprot'], \n",
    "        \"domainFT_yeast_v{}--{}.pkl\".format(logVersions['UniProt']['yeast']['rawData'], logVersions['UniProt']['yeast']['preprocessed'])\n",
    "    )\n",
    ")"
   ]
  },
  {
   "cell_type": "markdown",
   "metadata": {},
   "source": [
    "## Motif"
   ]
  },
  {
   "cell_type": "code",
   "execution_count": 41,
   "metadata": {
    "ExecuteTime": {
     "end_time": "2019-10-28T10:39:28.703045Z",
     "start_time": "2019-10-28T10:39:28.440169Z"
    },
    "execution": {
     "iopub.execute_input": "2021-12-06T16:19:07.853641Z",
     "iopub.status.busy": "2021-12-06T16:19:07.853184Z",
     "iopub.status.idle": "2021-12-06T16:19:07.949353Z",
     "shell.execute_reply": "2021-12-06T16:19:07.948658Z",
     "shell.execute_reply.started": "2021-12-06T16:19:07.853460Z"
    }
   },
   "outputs": [
    {
     "name": "stdout",
     "output_type": "stream",
     "text": [
      "6721 6721\n",
      "Shape BoW: (6721, 181)\n"
     ]
    },
    {
     "data": {
      "text/plain": [
       "<6721x181 sparse matrix of type '<class 'numpy.int64'>'\n",
       "\twith 637 stored elements in Compressed Sparse Row format>"
      ]
     },
     "execution_count": 41,
     "metadata": {},
     "output_type": "execute_result"
    }
   ],
   "source": [
    "bow, vectorizer = createBoW(\n",
    "    createGOlist(GOcol = uniprotEnriched2[\"Motif\"], \n",
    "                 regex0 = r\"(?<=note=\\\")[^\\\"]+(?=\\\")\")\n",
    ")\n",
    "bow"
   ]
  },
  {
   "cell_type": "code",
   "execution_count": 42,
   "metadata": {
    "ExecuteTime": {
     "end_time": "2019-10-28T10:39:33.407832Z",
     "start_time": "2019-10-28T10:39:33.033817Z"
    },
    "execution": {
     "iopub.execute_input": "2021-12-06T16:19:10.677765Z",
     "iopub.status.busy": "2021-12-06T16:19:10.677395Z",
     "iopub.status.idle": "2021-12-06T16:19:10.712776Z",
     "shell.execute_reply": "2021-12-06T16:19:10.711948Z",
     "shell.execute_reply.started": "2021-12-06T16:19:10.677711Z"
    }
   },
   "outputs": [
    {
     "name": "stdout",
     "output_type": "stream",
     "text": [
      "DataFrame: 6,721 rows \t 182 columns\n"
     ]
    },
    {
     "data": {
      "text/html": [
       "<div>\n",
       "<style scoped>\n",
       "    .dataframe tbody tr th:only-of-type {\n",
       "        vertical-align: middle;\n",
       "    }\n",
       "\n",
       "    .dataframe tbody tr th {\n",
       "        vertical-align: top;\n",
       "    }\n",
       "\n",
       "    .dataframe thead th {\n",
       "        text-align: right;\n",
       "    }\n",
       "</style>\n",
       "<table border=\"1\" class=\"dataframe\">\n",
       "  <thead>\n",
       "    <tr style=\"text-align: right;\">\n",
       "      <th></th>\n",
       "      <th>9aaTAD</th>\n",
       "      <th>9aaTAD1</th>\n",
       "      <th>9aaTAD2</th>\n",
       "      <th>9aaTAD3</th>\n",
       "      <th>AAASmotif</th>\n",
       "      <th>AG</th>\n",
       "      <th>AIM</th>\n",
       "      <th>APM2interactingWQEMPmotif</th>\n",
       "      <th>ATG11binding</th>\n",
       "      <th>ATG8binding</th>\n",
       "      <th>...</th>\n",
       "      <th>maybethesiteofironcoordination</th>\n",
       "      <th>motif1</th>\n",
       "      <th>motif2</th>\n",
       "      <th>region</th>\n",
       "      <th>requiredforinteractionwithCNA1andCNA2</th>\n",
       "      <th>typea1</th>\n",
       "      <th>typea2</th>\n",
       "      <th>typeb1</th>\n",
       "      <th>typeb2</th>\n",
       "      <th>uniprotID</th>\n",
       "    </tr>\n",
       "  </thead>\n",
       "  <tbody>\n",
       "    <tr>\n",
       "      <th>0</th>\n",
       "      <td>0</td>\n",
       "      <td>0</td>\n",
       "      <td>0</td>\n",
       "      <td>0</td>\n",
       "      <td>0</td>\n",
       "      <td>0</td>\n",
       "      <td>0</td>\n",
       "      <td>0</td>\n",
       "      <td>0</td>\n",
       "      <td>0</td>\n",
       "      <td>...</td>\n",
       "      <td>0</td>\n",
       "      <td>0</td>\n",
       "      <td>0</td>\n",
       "      <td>0</td>\n",
       "      <td>0</td>\n",
       "      <td>0</td>\n",
       "      <td>0</td>\n",
       "      <td>0</td>\n",
       "      <td>0</td>\n",
       "      <td>A0A023PXA5</td>\n",
       "    </tr>\n",
       "    <tr>\n",
       "      <th>1</th>\n",
       "      <td>0</td>\n",
       "      <td>0</td>\n",
       "      <td>0</td>\n",
       "      <td>0</td>\n",
       "      <td>0</td>\n",
       "      <td>0</td>\n",
       "      <td>0</td>\n",
       "      <td>0</td>\n",
       "      <td>0</td>\n",
       "      <td>0</td>\n",
       "      <td>...</td>\n",
       "      <td>0</td>\n",
       "      <td>0</td>\n",
       "      <td>0</td>\n",
       "      <td>0</td>\n",
       "      <td>0</td>\n",
       "      <td>0</td>\n",
       "      <td>0</td>\n",
       "      <td>0</td>\n",
       "      <td>0</td>\n",
       "      <td>A0A023PXB0</td>\n",
       "    </tr>\n",
       "    <tr>\n",
       "      <th>2</th>\n",
       "      <td>0</td>\n",
       "      <td>0</td>\n",
       "      <td>0</td>\n",
       "      <td>0</td>\n",
       "      <td>0</td>\n",
       "      <td>0</td>\n",
       "      <td>0</td>\n",
       "      <td>0</td>\n",
       "      <td>0</td>\n",
       "      <td>0</td>\n",
       "      <td>...</td>\n",
       "      <td>0</td>\n",
       "      <td>0</td>\n",
       "      <td>0</td>\n",
       "      <td>0</td>\n",
       "      <td>0</td>\n",
       "      <td>0</td>\n",
       "      <td>0</td>\n",
       "      <td>0</td>\n",
       "      <td>0</td>\n",
       "      <td>A0A023PXB5</td>\n",
       "    </tr>\n",
       "    <tr>\n",
       "      <th>3</th>\n",
       "      <td>0</td>\n",
       "      <td>0</td>\n",
       "      <td>0</td>\n",
       "      <td>0</td>\n",
       "      <td>0</td>\n",
       "      <td>0</td>\n",
       "      <td>0</td>\n",
       "      <td>0</td>\n",
       "      <td>0</td>\n",
       "      <td>0</td>\n",
       "      <td>...</td>\n",
       "      <td>0</td>\n",
       "      <td>0</td>\n",
       "      <td>0</td>\n",
       "      <td>0</td>\n",
       "      <td>0</td>\n",
       "      <td>0</td>\n",
       "      <td>0</td>\n",
       "      <td>0</td>\n",
       "      <td>0</td>\n",
       "      <td>A0A023PXB9</td>\n",
       "    </tr>\n",
       "    <tr>\n",
       "      <th>4</th>\n",
       "      <td>0</td>\n",
       "      <td>0</td>\n",
       "      <td>0</td>\n",
       "      <td>0</td>\n",
       "      <td>0</td>\n",
       "      <td>0</td>\n",
       "      <td>0</td>\n",
       "      <td>0</td>\n",
       "      <td>0</td>\n",
       "      <td>0</td>\n",
       "      <td>...</td>\n",
       "      <td>0</td>\n",
       "      <td>0</td>\n",
       "      <td>0</td>\n",
       "      <td>0</td>\n",
       "      <td>0</td>\n",
       "      <td>0</td>\n",
       "      <td>0</td>\n",
       "      <td>0</td>\n",
       "      <td>0</td>\n",
       "      <td>A0A023PXC2</td>\n",
       "    </tr>\n",
       "  </tbody>\n",
       "</table>\n",
       "<p>5 rows × 182 columns</p>\n",
       "</div>"
      ],
      "text/plain": [
       "   9aaTAD  9aaTAD1  9aaTAD2  9aaTAD3  AAASmotif  AG  AIM  \\\n",
       "0       0        0        0        0          0   0    0   \n",
       "1       0        0        0        0          0   0    0   \n",
       "2       0        0        0        0          0   0    0   \n",
       "3       0        0        0        0          0   0    0   \n",
       "4       0        0        0        0          0   0    0   \n",
       "\n",
       "   APM2interactingWQEMPmotif  ATG11binding  ATG8binding  ...  \\\n",
       "0                          0             0            0  ...   \n",
       "1                          0             0            0  ...   \n",
       "2                          0             0            0  ...   \n",
       "3                          0             0            0  ...   \n",
       "4                          0             0            0  ...   \n",
       "\n",
       "   maybethesiteofironcoordination  motif1  motif2  region  \\\n",
       "0                               0       0       0       0   \n",
       "1                               0       0       0       0   \n",
       "2                               0       0       0       0   \n",
       "3                               0       0       0       0   \n",
       "4                               0       0       0       0   \n",
       "\n",
       "   requiredforinteractionwithCNA1andCNA2  typea1  typea2  typeb1  typeb2  \\\n",
       "0                                      0       0       0       0       0   \n",
       "1                                      0       0       0       0       0   \n",
       "2                                      0       0       0       0       0   \n",
       "3                                      0       0       0       0       0   \n",
       "4                                      0       0       0       0       0   \n",
       "\n",
       "    uniprotID  \n",
       "0  A0A023PXA5  \n",
       "1  A0A023PXB0  \n",
       "2  A0A023PXB5  \n",
       "3  A0A023PXB9  \n",
       "4  A0A023PXC2  \n",
       "\n",
       "[5 rows x 182 columns]"
      ]
     },
     "metadata": {},
     "output_type": "display_data"
    }
   ],
   "source": [
    "# This one takes a while to run\n",
    "motif_BoW = pd.DataFrame(bow.todense())\n",
    "motif_BoW.columns = vectorizer.get_feature_names()\n",
    "motif_BoW['uniprotID'] = uniprotEnriched2['Entry']\n",
    "\n",
    "glance(motif_BoW)"
   ]
  },
  {
   "cell_type": "markdown",
   "metadata": {},
   "source": [
    "---\n",
    "**Test of the parsing method**"
   ]
  },
  {
   "cell_type": "code",
   "execution_count": 43,
   "metadata": {
    "ExecuteTime": {
     "end_time": "2019-10-28T11:48:58.954243Z",
     "start_time": "2019-10-28T11:48:58.618363Z"
    },
    "execution": {
     "iopub.execute_input": "2021-12-06T16:19:38.262624Z",
     "iopub.status.busy": "2021-12-06T16:19:38.262403Z",
     "iopub.status.idle": "2021-12-06T16:19:38.359482Z",
     "shell.execute_reply": "2021-12-06T16:19:38.358534Z",
     "shell.execute_reply.started": "2021-12-06T16:19:38.262590Z"
    },
    "scrolled": true
   },
   "outputs": [
    {
     "name": "stdout",
     "output_type": "stream",
     "text": [
      "6721 6721\n"
     ]
    },
    {
     "data": {
      "text/html": [
       "<div>\n",
       "<style scoped>\n",
       "    .dataframe tbody tr th:only-of-type {\n",
       "        vertical-align: middle;\n",
       "    }\n",
       "\n",
       "    .dataframe tbody tr th {\n",
       "        vertical-align: top;\n",
       "    }\n",
       "\n",
       "    .dataframe thead th {\n",
       "        text-align: right;\n",
       "    }\n",
       "</style>\n",
       "<table border=\"1\" class=\"dataframe\">\n",
       "  <thead>\n",
       "    <tr style=\"text-align: right;\">\n",
       "      <th></th>\n",
       "      <th>a</th>\n",
       "      <th>b</th>\n",
       "    </tr>\n",
       "  </thead>\n",
       "  <tbody>\n",
       "    <tr>\n",
       "      <th>122</th>\n",
       "      <td>MOTIF 619..653;  /note=\"Bipartite nuclear loca...</td>\n",
       "      <td>Bipartitenuclearlocalizationsignal</td>\n",
       "    </tr>\n",
       "    <tr>\n",
       "      <th>129</th>\n",
       "      <td>MOTIF 1216..1250;  /note=\"Bipartite nuclear lo...</td>\n",
       "      <td>Bipartitenuclearlocalizationsignal</td>\n",
       "    </tr>\n",
       "    <tr>\n",
       "      <th>184</th>\n",
       "      <td>MOTIF 13..23;  /note=\"Cx9C motif 1\";  /evidenc...</td>\n",
       "      <td>Cx9Cmotif1 Cx9Cmotif2</td>\n",
       "    </tr>\n",
       "    <tr>\n",
       "      <th>186</th>\n",
       "      <td>MOTIF 35..59;  /note=\"Twin CX3C motif\";  /evid...</td>\n",
       "      <td>TwinCX3Cmotif</td>\n",
       "    </tr>\n",
       "    <tr>\n",
       "      <th>187</th>\n",
       "      <td>MOTIF 30..40;  /note=\"Cx9C motif 1\";  /evidenc...</td>\n",
       "      <td>Cx9Cmotif1 Cx9Cmotif2</td>\n",
       "    </tr>\n",
       "    <tr>\n",
       "      <th>...</th>\n",
       "      <td>...</td>\n",
       "      <td>...</td>\n",
       "    </tr>\n",
       "    <tr>\n",
       "      <th>6673</th>\n",
       "      <td>MOTIF 39..47;  /note=\"Effector region\";  /evid...</td>\n",
       "      <td>Effectorregion</td>\n",
       "    </tr>\n",
       "    <tr>\n",
       "      <th>6685</th>\n",
       "      <td>MOTIF 274..277;  /note=\"Prevents secretion fro...</td>\n",
       "      <td>PreventssecretionfromER</td>\n",
       "    </tr>\n",
       "    <tr>\n",
       "      <th>6687</th>\n",
       "      <td>MOTIF 65..86;  /note=\"Nudix box\"</td>\n",
       "      <td>Nudixbox</td>\n",
       "    </tr>\n",
       "    <tr>\n",
       "      <th>6688</th>\n",
       "      <td>MOTIF 242..245;  /note=\"ATG8-binding\";  /evide...</td>\n",
       "      <td>ATG8binding</td>\n",
       "    </tr>\n",
       "    <tr>\n",
       "      <th>6691</th>\n",
       "      <td>MOTIF 1172..1206;  /note=\"Bipartite nuclear lo...</td>\n",
       "      <td>Bipartitenuclearlocalizationsignal</td>\n",
       "    </tr>\n",
       "  </tbody>\n",
       "</table>\n",
       "<p>448 rows × 2 columns</p>\n",
       "</div>"
      ],
      "text/plain": [
       "                                                      a  \\\n",
       "122   MOTIF 619..653;  /note=\"Bipartite nuclear loca...   \n",
       "129   MOTIF 1216..1250;  /note=\"Bipartite nuclear lo...   \n",
       "184   MOTIF 13..23;  /note=\"Cx9C motif 1\";  /evidenc...   \n",
       "186   MOTIF 35..59;  /note=\"Twin CX3C motif\";  /evid...   \n",
       "187   MOTIF 30..40;  /note=\"Cx9C motif 1\";  /evidenc...   \n",
       "...                                                 ...   \n",
       "6673  MOTIF 39..47;  /note=\"Effector region\";  /evid...   \n",
       "6685  MOTIF 274..277;  /note=\"Prevents secretion fro...   \n",
       "6687                   MOTIF 65..86;  /note=\"Nudix box\"   \n",
       "6688  MOTIF 242..245;  /note=\"ATG8-binding\";  /evide...   \n",
       "6691  MOTIF 1172..1206;  /note=\"Bipartite nuclear lo...   \n",
       "\n",
       "                                       b  \n",
       "122   Bipartitenuclearlocalizationsignal  \n",
       "129   Bipartitenuclearlocalizationsignal  \n",
       "184                Cx9Cmotif1 Cx9Cmotif2  \n",
       "186                        TwinCX3Cmotif  \n",
       "187                Cx9Cmotif1 Cx9Cmotif2  \n",
       "...                                  ...  \n",
       "6673                      Effectorregion  \n",
       "6685             PreventssecretionfromER  \n",
       "6687                            Nudixbox  \n",
       "6688                         ATG8binding  \n",
       "6691  Bipartitenuclearlocalizationsignal  \n",
       "\n",
       "[448 rows x 2 columns]"
      ]
     },
     "execution_count": 43,
     "metadata": {},
     "output_type": "execute_result"
    }
   ],
   "source": [
    "temp1 = pd.DataFrame({'a': uniprotEnriched2[\"Motif\"],\n",
    "                      'b': createGOlist(GOcol = uniprotEnriched2[\"Motif\"], \n",
    "                                        regex0 = r\"(?<=note=\\\")[^\\\"]+(?=\\\")\"\n",
    "                                       )}\n",
    "                     )\n",
    "temp1.loc[temp1.a != '']"
   ]
  },
  {
   "cell_type": "code",
   "execution_count": 44,
   "metadata": {
    "execution": {
     "iopub.execute_input": "2021-12-06T16:19:38.653235Z",
     "iopub.status.busy": "2021-12-06T16:19:38.652524Z",
     "iopub.status.idle": "2021-12-06T16:19:38.663347Z",
     "shell.execute_reply": "2021-12-06T16:19:38.662191Z",
     "shell.execute_reply.started": "2021-12-06T16:19:38.652964Z"
    },
    "scrolled": true
   },
   "outputs": [],
   "source": [
    "# Sanity check\n",
    "foo = temp1.loc[(temp1.a != '')&(temp1.b == '')]\n",
    "assert len(foo) == 0"
   ]
  },
  {
   "cell_type": "markdown",
   "metadata": {},
   "source": [
    "---\n",
    "**Number of 1 per motifs**"
   ]
  },
  {
   "cell_type": "code",
   "execution_count": 45,
   "metadata": {
    "execution": {
     "iopub.execute_input": "2021-12-06T16:19:40.620618Z",
     "iopub.status.busy": "2021-12-06T16:19:40.619853Z",
     "iopub.status.idle": "2021-12-06T16:19:40.649962Z",
     "shell.execute_reply": "2021-12-06T16:19:40.649066Z",
     "shell.execute_reply.started": "2021-12-06T16:19:40.620306Z"
    }
   },
   "outputs": [
    {
     "data": {
      "text/plain": [
       "count    181.000000\n",
       "mean       3.519337\n",
       "std        7.186091\n",
       "min        1.000000\n",
       "10%        1.000000\n",
       "20%        1.000000\n",
       "30%        1.000000\n",
       "40%        1.000000\n",
       "50%        1.000000\n",
       "60%        2.000000\n",
       "70%        2.000000\n",
       "80%        3.000000\n",
       "90%        7.000000\n",
       "max       60.000000\n",
       "dtype: float64"
      ]
     },
     "execution_count": 45,
     "metadata": {},
     "output_type": "execute_result"
    }
   ],
   "source": [
    "OneperMotif = motif_BoW.set_index('uniprotID').sum(axis=0).astype(int)\n",
    "\n",
    "OneperMotif.describe(percentiles=np.linspace(0.1,0.9,9))"
   ]
  },
  {
   "cell_type": "markdown",
   "metadata": {},
   "source": [
    "---\n",
    "**Export**"
   ]
  },
  {
   "cell_type": "code",
   "execution_count": 46,
   "metadata": {
    "ExecuteTime": {
     "end_time": "2019-10-28T10:39:49.578944Z",
     "start_time": "2019-10-28T10:39:45.470651Z"
    },
    "execution": {
     "iopub.execute_input": "2021-12-06T16:19:49.202358Z",
     "iopub.status.busy": "2021-12-06T16:19:49.201865Z",
     "iopub.status.idle": "2021-12-06T16:19:49.338414Z",
     "shell.execute_reply": "2021-12-06T16:19:49.337684Z",
     "shell.execute_reply.started": "2021-12-06T16:19:49.202283Z"
    }
   },
   "outputs": [],
   "source": [
    "motif_BoW.to_pickle(\n",
    "    os.path.join(\n",
    "        cfg['outputPreprocessingUniprot'], \n",
    "        \"motif_yeast_v{}--{}.pkl\".format(logVersions['UniProt']['yeast']['rawData'], logVersions['UniProt']['yeast']['preprocessed'])\n",
    "    )\n",
    ")"
   ]
  },
  {
   "cell_type": "markdown",
   "metadata": {},
   "source": [
    "## Sequence"
   ]
  },
  {
   "cell_type": "code",
   "execution_count": 47,
   "metadata": {
    "execution": {
     "iopub.execute_input": "2021-12-06T16:19:51.892767Z",
     "iopub.status.busy": "2021-12-06T16:19:51.892458Z",
     "iopub.status.idle": "2021-12-06T16:19:51.896551Z",
     "shell.execute_reply": "2021-12-06T16:19:51.896056Z",
     "shell.execute_reply.started": "2021-12-06T16:19:51.892654Z"
    }
   },
   "outputs": [
    {
     "data": {
      "text/plain": [
       "'MLLSELVATASSLPYTAISIHNNCRVPAARHIHHGCRYFHGPPVMHLPQCLRTIQFSPSVISTSYQIPVICQHHAVVPTARYLPDYCSIISWHRPLWGIHILIVPQSQLPLPIRPKRIHTTHRYKPVIAFNDHIPSLALWICLHYQGSNGCVTPVAAKFFIIFHFVGLKEIMSPSRNATRNLNQYWRVL'"
      ]
     },
     "execution_count": 47,
     "metadata": {},
     "output_type": "execute_result"
    }
   ],
   "source": [
    "uniprotEnriched2.Sequence[0]"
   ]
  },
  {
   "cell_type": "code",
   "execution_count": 48,
   "metadata": {
    "execution": {
     "iopub.execute_input": "2021-12-06T16:19:53.665971Z",
     "iopub.status.busy": "2021-12-06T16:19:53.665654Z",
     "iopub.status.idle": "2021-12-06T16:19:53.700733Z",
     "shell.execute_reply": "2021-12-06T16:19:53.699990Z",
     "shell.execute_reply.started": "2021-12-06T16:19:53.665849Z"
    }
   },
   "outputs": [
    {
     "name": "stdout",
     "output_type": "stream",
     "text": [
      "DataFrame: 6,721 rows \t 2 columns\n"
     ]
    },
    {
     "data": {
      "text/html": [
       "<div>\n",
       "<style scoped>\n",
       "    .dataframe tbody tr th:only-of-type {\n",
       "        vertical-align: middle;\n",
       "    }\n",
       "\n",
       "    .dataframe tbody tr th {\n",
       "        vertical-align: top;\n",
       "    }\n",
       "\n",
       "    .dataframe thead th {\n",
       "        text-align: right;\n",
       "    }\n",
       "</style>\n",
       "<table border=\"1\" class=\"dataframe\">\n",
       "  <thead>\n",
       "    <tr style=\"text-align: right;\">\n",
       "      <th></th>\n",
       "      <th>uniprotID</th>\n",
       "      <th>sequence</th>\n",
       "    </tr>\n",
       "  </thead>\n",
       "  <tbody>\n",
       "    <tr>\n",
       "      <th>0</th>\n",
       "      <td>A0A023PXA5</td>\n",
       "      <td>MLLSELVATASSLPYTAISIHNNCRVPAARHIHHGCRYFHGPPVMH...</td>\n",
       "    </tr>\n",
       "    <tr>\n",
       "      <th>1</th>\n",
       "      <td>A0A023PXB0</td>\n",
       "      <td>MFINGFVNYPVRTPPNDLLQVVLHGFLRCPLDGSQVDSIGIGHTVH...</td>\n",
       "    </tr>\n",
       "    <tr>\n",
       "      <th>2</th>\n",
       "      <td>A0A023PXB5</td>\n",
       "      <td>MFALIISSKGKTSGFFFNSSFSSSALVGIAPLTAYSALVTPVFKSF...</td>\n",
       "    </tr>\n",
       "    <tr>\n",
       "      <th>3</th>\n",
       "      <td>A0A023PXB9</td>\n",
       "      <td>MEYVLIYNIWFFSFLQDKPCFCFVDYACSIFLLSSYCGNCLTAVAT...</td>\n",
       "    </tr>\n",
       "    <tr>\n",
       "      <th>4</th>\n",
       "      <td>A0A023PXC2</td>\n",
       "      <td>MLPLCLTFLSFFLSLGGSFKAVMTKEEADGTTEAAACLFWIFNWTV...</td>\n",
       "    </tr>\n",
       "  </tbody>\n",
       "</table>\n",
       "</div>"
      ],
      "text/plain": [
       "    uniprotID                                           sequence\n",
       "0  A0A023PXA5  MLLSELVATASSLPYTAISIHNNCRVPAARHIHHGCRYFHGPPVMH...\n",
       "1  A0A023PXB0  MFINGFVNYPVRTPPNDLLQVVLHGFLRCPLDGSQVDSIGIGHTVH...\n",
       "2  A0A023PXB5  MFALIISSKGKTSGFFFNSSFSSSALVGIAPLTAYSALVTPVFKSF...\n",
       "3  A0A023PXB9  MEYVLIYNIWFFSFLQDKPCFCFVDYACSIFLLSSYCGNCLTAVAT...\n",
       "4  A0A023PXC2  MLPLCLTFLSFFLSLGGSFKAVMTKEEADGTTEAAACLFWIFNWTV..."
      ]
     },
     "metadata": {},
     "output_type": "display_data"
    }
   ],
   "source": [
    "sequenceData = uniprotEnriched2.loc[:,['Entry','Sequence']]\n",
    "sequenceData.columns = ['uniprotID','sequence']\n",
    "\n",
    "glance(sequenceData)"
   ]
  },
  {
   "cell_type": "markdown",
   "metadata": {},
   "source": [
    "---\n",
    "**Export**"
   ]
  },
  {
   "cell_type": "code",
   "execution_count": 49,
   "metadata": {
    "ExecuteTime": {
     "end_time": "2019-10-28T10:39:49.578944Z",
     "start_time": "2019-10-28T10:39:45.470651Z"
    },
    "execution": {
     "iopub.execute_input": "2021-12-06T16:20:03.556334Z",
     "iopub.status.busy": "2021-12-06T16:20:03.556124Z",
     "iopub.status.idle": "2021-12-06T16:20:03.572292Z",
     "shell.execute_reply": "2021-12-06T16:20:03.571220Z",
     "shell.execute_reply.started": "2021-12-06T16:20:03.556308Z"
    }
   },
   "outputs": [],
   "source": [
    "sequenceData.to_pickle(\n",
    "    os.path.join(\n",
    "        cfg['outputPreprocessingUniprot'], \n",
    "        \"sequenceData_yeast_v{}--{}.pkl\".format(logVersions['UniProt']['yeast']['rawData'], logVersions['UniProt']['yeast']['preprocessed'])\n",
    "    )\n",
    ")"
   ]
  },
  {
   "cell_type": "markdown",
   "metadata": {},
   "source": [
    "---\n",
    "**EDA**"
   ]
  },
  {
   "cell_type": "code",
   "execution_count": 50,
   "metadata": {
    "execution": {
     "iopub.execute_input": "2021-12-06T16:20:05.546879Z",
     "iopub.status.busy": "2021-12-06T16:20:05.546672Z",
     "iopub.status.idle": "2021-12-06T16:20:05.570738Z",
     "shell.execute_reply": "2021-12-06T16:20:05.569899Z",
     "shell.execute_reply.started": "2021-12-06T16:20:05.546854Z"
    }
   },
   "outputs": [
    {
     "data": {
      "text/plain": [
       "count    6721.000000\n",
       "mean      450.082279\n",
       "std       381.054027\n",
       "min        16.000000\n",
       "10%       107.000000\n",
       "20%       146.000000\n",
       "30%       210.000000\n",
       "40%       286.000000\n",
       "50%       358.000000\n",
       "60%       440.000000\n",
       "70%       533.000000\n",
       "80%       661.000000\n",
       "90%       899.000000\n",
       "max      4910.000000\n",
       "Name: sequence, dtype: float64"
      ]
     },
     "execution_count": 50,
     "metadata": {},
     "output_type": "execute_result"
    }
   ],
   "source": [
    "len_seq = sequenceData.sequence.str.len()\n",
    "\n",
    "len_seq.describe(percentiles=np.linspace(0.1,0.9,9))"
   ]
  },
  {
   "cell_type": "code",
   "execution_count": 51,
   "metadata": {
    "execution": {
     "iopub.execute_input": "2021-12-06T16:20:11.572173Z",
     "iopub.status.busy": "2021-12-06T16:20:11.571439Z",
     "iopub.status.idle": "2021-12-06T16:20:13.193439Z",
     "shell.execute_reply": "2021-12-06T16:20:13.192409Z",
     "shell.execute_reply.started": "2021-12-06T16:20:11.571864Z"
    }
   },
   "outputs": [
    {
     "name": "stderr",
     "output_type": "stream",
     "text": [
      "/home/ll582/.conda/envs/PPI-env/lib/python3.7/site-packages/seaborn/distributions.py:2619: FutureWarning: `distplot` is a deprecated function and will be removed in a future version. Please adapt your code to use either `displot` (a figure-level function with similar flexibility) or `histplot` (an axes-level function for histograms).\n",
      "  warnings.warn(msg, FutureWarning)\n"
     ]
    },
    {
     "data": {
      "image/png": "[encoded data removed]",
      "text/plain": [
       "<Figure size 1008x432 with 1 Axes>"
      ]
     },
     "metadata": {},
     "output_type": "display_data"
    }
   ],
   "source": [
    "sns.set(rc={'figure.figsize':(14,6)})\n",
    "ax= sns.distplot(len_seq, kde=False)\n",
    "ax.set(xlabel='Number of sequences', ylabel='Length of the AA sequence')\n",
    "ax.set_yscale('log');"
   ]
  },
  {
   "cell_type": "code",
   "execution_count": null,
   "metadata": {},
   "outputs": [],
   "source": []
  }
 ],
 "metadata": {
  "kernelspec": {
   "display_name": "Python (PPI-env)",
   "language": "python",
   "name": "ppi-env"
  },
  "language_info": {
   "codemirror_mode": {
    "name": "ipython",
    "version": 3
   },
   "file_extension": ".py",
   "mimetype": "text/x-python",
   "name": "python",
   "nbconvert_exporter": "python",
   "pygments_lexer": "ipython3",
   "version": "3.7.3"
  },
  "toc": {
   "base_numbering": 1,
   "nav_menu": {},
   "number_sections": true,
   "sideBar": true,
   "skip_h1_title": true,
   "title_cell": "Table of Contents",
   "title_sidebar": "Contents",
   "toc_cell": false,
   "toc_position": {
    "height": "calc(100% - 180px)",
    "left": "10px",
    "top": "150px",
    "width": "384px"
   },
   "toc_section_display": true,
   "toc_window_display": true
  },
  "toc-autonumbering": true,
  "toc-showcode": false,
  "toc-showmarkdowntxt": false,
  "toc-showtags": false,
  "varInspector": {
   "cols": {
    "lenName": 16,
    "lenType": 16,
    "lenVar": 40
   },
   "kernels_config": {
    "python": {
     "delete_cmd_postfix": "",
     "delete_cmd_prefix": "del ",
     "library": "var_list.py",
     "varRefreshCmd": "print(var_dic_list())"
    },
    "r": {
     "delete_cmd_postfix": ") ",
     "delete_cmd_prefix": "rm(",
     "library": "var_list.r",
     "varRefreshCmd": "cat(var_dic_list()) "
    }
   },
   "types_to_exclude": [
    "module",
    "function",
    "builtin_function_or_method",
    "instance",
    "_Feature"
   ],
   "window_display": false
  }
 },
 "nbformat": 4,
 "nbformat_minor": 4
}
