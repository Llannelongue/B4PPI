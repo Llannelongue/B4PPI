{
 "cells": [
  {
   "cell_type": "markdown",
   "metadata": {},
   "source": [
    "---\n",
    "**Calculate similarity measures**\n",
    "\n",
    "---"
   ]
  },
  {
   "cell_type": "code",
   "execution_count": 1,
   "metadata": {
    "ExecuteTime": {
     "end_time": "2019-10-30T13:20:10.834061Z",
     "start_time": "2019-10-30T13:20:09.270830Z"
    },
    "execution": {
     "iopub.execute_input": "2021-12-06T17:28:55.587717Z",
     "iopub.status.busy": "2021-12-06T17:28:55.587593Z",
     "iopub.status.idle": "2021-12-06T17:30:05.021151Z",
     "shell.execute_reply": "2021-12-06T17:30:05.019625Z",
     "shell.execute_reply.started": "2021-12-06T17:28:55.587698Z"
    }
   },
   "outputs": [],
   "source": [
    "import pandas as pd\n",
    "import numpy as np\n",
    "import os\n",
    "import re\n",
    "import matplotlib.pyplot as plt\n",
    "import seaborn as sns\n",
    "from sklearn.feature_extraction.text import CountVectorizer\n",
    "from sklearn.metrics.pairwise import cosine_similarity\n",
    "import random\n",
    "import pickle\n",
    "from scipy import sparse\n",
    "import math\n",
    "import itertools\n",
    "import random\n",
    "\n",
    "from toolbox import *\n",
    "\n",
    "%matplotlib inline\n",
    "sns.set()\n",
    "sns.set_context(\"notebook\")"
   ]
  },
  {
   "cell_type": "code",
   "execution_count": 2,
   "metadata": {
    "ExecuteTime": {
     "end_time": "2019-10-30T13:20:10.873079Z",
     "start_time": "2019-10-30T13:20:10.870437Z"
    },
    "execution": {
     "iopub.execute_input": "2021-12-06T17:30:05.022608Z",
     "iopub.status.busy": "2021-12-06T17:30:05.022468Z",
     "iopub.status.idle": "2021-12-06T17:30:05.028231Z",
     "shell.execute_reply": "2021-12-06T17:30:05.027212Z",
     "shell.execute_reply.started": "2021-12-06T17:30:05.022587Z"
    }
   },
   "outputs": [],
   "source": [
    "sns.set(rc={'figure.figsize':(14,6)})"
   ]
  },
  {
   "cell_type": "code",
   "execution_count": 3,
   "metadata": {
    "ExecuteTime": {
     "end_time": "2019-10-28T14:18:48.400134Z",
     "start_time": "2019-10-28T14:18:48.371893Z"
    },
    "execution": {
     "iopub.execute_input": "2021-12-06T17:30:05.028879Z",
     "iopub.status.busy": "2021-12-06T17:30:05.028771Z",
     "iopub.status.idle": "2021-12-06T17:30:05.516875Z",
     "shell.execute_reply": "2021-12-06T17:30:05.515866Z",
     "shell.execute_reply.started": "2021-12-06T17:30:05.028863Z"
    }
   },
   "outputs": [],
   "source": [
    "cfg = load_cfg()\n",
    "\n",
    "logVersions = load_LogVersions()"
   ]
  },
  {
   "cell_type": "code",
   "execution_count": 4,
   "metadata": {
    "execution": {
     "iopub.execute_input": "2021-12-06T17:31:32.658386Z",
     "iopub.status.busy": "2021-12-06T17:31:32.658194Z",
     "iopub.status.idle": "2021-12-06T17:31:32.664916Z",
     "shell.execute_reply": "2021-12-06T17:31:32.663612Z",
     "shell.execute_reply.started": "2021-12-06T17:31:32.658364Z"
    }
   },
   "outputs": [],
   "source": [
    "def createLongDF(ids):\n",
    "    \n",
    "    print(\" - Create ID_A\")\n",
    "    idsA = list(itertools.chain.from_iterable(itertools.repeat(x, len(ids)) for x in ids))\n",
    "    \n",
    "    print(\" - Create ID_B\")\n",
    "    idsB = ids*len(ids)\n",
    "    \n",
    "    print(\" - Create IDs to keep\")\n",
    "    idx2keep = []\n",
    "    n = len(ids)\n",
    "    for i in range(n-1):\n",
    "        idx2keep += list(range(i*n+i+1, (i+1)*n))\n",
    "        \n",
    "    print(' - Filter out ID_A')\n",
    "    idsA = [idsA[i] for i in idx2keep]\n",
    "    \n",
    "    print(' - Filter out ID_B')\n",
    "    idsB = [idsB[i] for i in idx2keep]\n",
    "    \n",
    "    print(' - Create DataFrame')\n",
    "    df_features = pd.DataFrame({\n",
    "        'uniprotID_A' : idsA,\n",
    "        'uniprotID_B' : idsB\n",
    "    })\n",
    "    \n",
    "    return(df_features)"
   ]
  },
  {
   "cell_type": "code",
   "execution_count": 5,
   "metadata": {
    "execution": {
     "iopub.execute_input": "2021-12-06T17:31:33.710171Z",
     "iopub.status.busy": "2021-12-06T17:31:33.709976Z",
     "iopub.status.idle": "2021-12-06T17:31:33.715143Z",
     "shell.execute_reply": "2021-12-06T17:31:33.714013Z",
     "shell.execute_reply.started": "2021-12-06T17:31:33.710149Z"
    }
   },
   "outputs": [],
   "source": [
    "def addCosineSimilarity(df):\n",
    "    \n",
    "    print(\" - Computing cosine similarity\")\n",
    "    cosMat = cosine_similarity(df, df)\n",
    "    \n",
    "    print(\" - Flatten the matrix\")\n",
    "    cosMat = cosMat.flatten(order='C')\n",
    "    \n",
    "    print(\" - Create IDs to keep\")\n",
    "    idx2keep = []\n",
    "    n = len(df)\n",
    "    for i in range(n-1):\n",
    "        idx2keep += list(range(i*n+i+1, (i+1)*n))\n",
    "    \n",
    "    print(\" - Filter out useless values\")\n",
    "    cosMat = cosMat[idx2keep]\n",
    "    \n",
    "    return cosMat"
   ]
  },
  {
   "cell_type": "code",
   "execution_count": 10,
   "metadata": {
    "execution": {
     "iopub.execute_input": "2021-12-06T17:33:12.453963Z",
     "iopub.status.busy": "2021-12-06T17:33:12.453792Z",
     "iopub.status.idle": "2021-12-06T17:33:12.460663Z",
     "shell.execute_reply": "2021-12-06T17:33:12.459497Z",
     "shell.execute_reply.started": "2021-12-06T17:33:12.453942Z"
    }
   },
   "outputs": [],
   "source": [
    "featuresDict = {\n",
    "    'uniprot': {\n",
    "        'bioProcessUniprot': {\n",
    "            'path': os.path.join(\n",
    "                cfg['outputPreprocessingUniprot'], \n",
    "                \"bioProcessUniprot_yeast_v{}--{}.pkl\".format(logVersions['UniProt']['yeast']['rawData'], logVersions['UniProt']['yeast']['preprocessed'])\n",
    "            ),\n",
    "            'method': 'cosine similarity',\n",
    "        },\n",
    "        'cellCompUniprot': {\n",
    "            'path': os.path.join(\n",
    "                cfg['outputPreprocessingUniprot'], \n",
    "                \"cellCompUniprot_yeast_v{}--{}.pkl\".format(logVersions['UniProt']['yeast']['rawData'], logVersions['UniProt']['yeast']['preprocessed'])\n",
    "            ),\n",
    "            'method': 'cosine similarity',\n",
    "        },\n",
    "        'molFuncUniprot': {\n",
    "            'path': os.path.join(\n",
    "                cfg['outputPreprocessingUniprot'], \n",
    "                \"molFuncUniprot_yeast_v{}--{}.pkl\".format(logVersions['UniProt']['yeast']['rawData'], logVersions['UniProt']['yeast']['preprocessed'])\n",
    "            ),\n",
    "            'method': 'cosine similarity',\n",
    "        },\n",
    "        'domainUniprot': {\n",
    "            'path': os.path.join(\n",
    "                cfg['outputPreprocessingUniprot'], \n",
    "                \"domainFT_yeast_v{}--{}.pkl\".format(logVersions['UniProt']['yeast']['rawData'], logVersions['UniProt']['yeast']['preprocessed'])\n",
    "            ),\n",
    "            'method': 'cosine similarity',\n",
    "        },\n",
    "        'motifUniprot': {\n",
    "            'path': os.path.join(\n",
    "                cfg['outputPreprocessingUniprot'], \n",
    "                \"motif_yeast_v{}--{}.pkl\".format(logVersions['UniProt']['yeast']['rawData'], logVersions['UniProt']['yeast']['preprocessed'])\n",
    "            ),\n",
    "            'method': 'cosine similarity',\n",
    "        },\n",
    "    },\n",
    "}"
   ]
  },
  {
   "cell_type": "code",
   "execution_count": 11,
   "metadata": {
    "execution": {
     "iopub.execute_input": "2021-12-06T17:33:14.415598Z",
     "iopub.status.busy": "2021-12-06T17:33:14.415419Z",
     "iopub.status.idle": "2021-12-06T17:33:14.419693Z",
     "shell.execute_reply": "2021-12-06T17:33:14.418741Z",
     "shell.execute_reply.started": "2021-12-06T17:33:14.415578Z"
    }
   },
   "outputs": [
    {
     "name": "stdout",
     "output_type": "stream",
     "text": [
      "uniprot\n"
     ]
    }
   ],
   "source": [
    "for group, group_details in featuresDict.items():\n",
    "    print(group)"
   ]
  },
  {
   "cell_type": "code",
   "execution_count": 15,
   "metadata": {
    "execution": {
     "iopub.execute_input": "2021-12-06T17:33:52.842461Z",
     "iopub.status.busy": "2021-12-06T17:33:52.842262Z",
     "iopub.status.idle": "2021-12-06T17:33:52.852501Z",
     "shell.execute_reply": "2021-12-06T17:33:52.851370Z",
     "shell.execute_reply.started": "2021-12-06T17:33:52.842440Z"
    }
   },
   "outputs": [],
   "source": [
    "def addAllFeatures(featuresDict):\n",
    "    \n",
    "    print('Create initial idx DF')\n",
    "    uniprotIDs = pd.read_csv(\n",
    "        os.path.join(cfg['rawDataUniProt'], \n",
    "                     \"uniprot_allProteins_yeast_v{}.pkl\".format(logVersions['UniProt']['yeast']['rawData'])),\n",
    "        header=None,\n",
    "        names=['uniprotID']\n",
    "    )\n",
    "    df_features = createLongDF(uniprotIDs.uniprotID.to_list())\n",
    "    print()\n",
    "    \n",
    "    for group, group_details in featuresDict.items():\n",
    "        \n",
    "        print('# Starting {}'.format(group))\n",
    "        \n",
    "        if group == 'uniprot':\n",
    "            isFirst = False # means it's not first of this group\n",
    "            new_idx = df_features\n",
    "            newIDs = uniprotIDs.uniprotID.copy()\n",
    "        else:\n",
    "            isFirst = True # first of its group \n",
    "        \n",
    "        for feature, details in group_details.items():\n",
    "            \n",
    "            print(feature)\n",
    "            \n",
    "            df = pd.read_pickle(details['path'])\n",
    "            \n",
    "            if isFirst:\n",
    "                print(' - Create new idx dataframe')\n",
    "                newIDs = df.uniprotID.copy()\n",
    "                new_idx = createLongDF(list(df.uniprotID))\n",
    "                isFirst = False\n",
    "            else:\n",
    "                # check that the IDs are in the right order\n",
    "                assert df.uniprotID.equals(newIDs)\n",
    "                \n",
    "            df.set_index('uniprotID', inplace=True)\n",
    "                \n",
    "            if details['method'] == 'cosine similarity':\n",
    "                new_idx[feature] = addCosineSimilarity(df)\n",
    "                print(' - df_features: ', df_features.shape)\n",
    "            else:\n",
    "                print('--> wrong method')\n",
    "        \n",
    "        if group != 'uniprot':\n",
    "            print(' - Merging to df_features')\n",
    "            df_features = df_features.merge(\n",
    "                new_idx,\n",
    "                how = 'left',\n",
    "                on = ['uniprotID_A','uniprotID_B']\n",
    "            )\n",
    "            print(' - df_features: ', df_features.shape)\n",
    "        print()\n",
    "            \n",
    "    return df_features"
   ]
  },
  {
   "cell_type": "code",
   "execution_count": 16,
   "metadata": {
    "execution": {
     "iopub.execute_input": "2021-12-06T17:33:54.218326Z",
     "iopub.status.busy": "2021-12-06T17:33:54.218127Z",
     "iopub.status.idle": "2021-12-06T17:35:03.648772Z",
     "shell.execute_reply": "2021-12-06T17:35:03.647618Z",
     "shell.execute_reply.started": "2021-12-06T17:33:54.218304Z"
    }
   },
   "outputs": [
    {
     "name": "stdout",
     "output_type": "stream",
     "text": [
      "Create initial idx DF\n",
      " - Create ID_A\n",
      " - Create ID_B\n",
      " - Create IDs to keep\n",
      " - Filter out ID_A\n",
      " - Filter out ID_B\n",
      " - Create DataFrame\n",
      "\n",
      "# Starting uniprot\n",
      "bioProcessUniprot\n",
      " - Computing cosine similarity\n",
      " - Flatten the matrix\n",
      " - Create IDs to keep\n",
      " - Filter out useless values\n",
      " - df_features:  (22582560, 3)\n",
      "cellCompUniprot\n",
      " - Computing cosine similarity\n",
      " - Flatten the matrix\n",
      " - Create IDs to keep\n",
      " - Filter out useless values\n",
      " - df_features:  (22582560, 4)\n",
      "molFuncUniprot\n",
      " - Computing cosine similarity\n",
      " - Flatten the matrix\n",
      " - Create IDs to keep\n",
      " - Filter out useless values\n",
      " - df_features:  (22582560, 5)\n",
      "domainUniprot\n",
      " - Computing cosine similarity\n",
      " - Flatten the matrix\n",
      " - Create IDs to keep\n",
      " - Filter out useless values\n",
      " - df_features:  (22582560, 6)\n",
      "motifUniprot\n",
      " - Computing cosine similarity\n",
      " - Flatten the matrix\n",
      " - Create IDs to keep\n",
      " - Filter out useless values\n",
      " - df_features:  (22582560, 7)\n",
      "\n"
     ]
    }
   ],
   "source": [
    "df_features = addAllFeatures(featuresDict)"
   ]
  },
  {
   "cell_type": "code",
   "execution_count": 17,
   "metadata": {
    "execution": {
     "iopub.execute_input": "2021-12-06T17:35:03.649951Z",
     "iopub.status.busy": "2021-12-06T17:35:03.649819Z",
     "iopub.status.idle": "2021-12-06T17:35:03.708131Z",
     "shell.execute_reply": "2021-12-06T17:35:03.706812Z",
     "shell.execute_reply.started": "2021-12-06T17:35:03.649931Z"
    }
   },
   "outputs": [
    {
     "name": "stdout",
     "output_type": "stream",
     "text": [
      "DataFrame: 22,582,560 rows \t 7 columns\n"
     ]
    },
    {
     "data": {
      "text/html": [
       "<div>\n",
       "<style scoped>\n",
       "    .dataframe tbody tr th:only-of-type {\n",
       "        vertical-align: middle;\n",
       "    }\n",
       "\n",
       "    .dataframe tbody tr th {\n",
       "        vertical-align: top;\n",
       "    }\n",
       "\n",
       "    .dataframe thead th {\n",
       "        text-align: right;\n",
       "    }\n",
       "</style>\n",
       "<table border=\"1\" class=\"dataframe\">\n",
       "  <thead>\n",
       "    <tr style=\"text-align: right;\">\n",
       "      <th></th>\n",
       "      <th>uniprotID_A</th>\n",
       "      <th>uniprotID_B</th>\n",
       "      <th>bioProcessUniprot</th>\n",
       "      <th>cellCompUniprot</th>\n",
       "      <th>molFuncUniprot</th>\n",
       "      <th>domainUniprot</th>\n",
       "      <th>motifUniprot</th>\n",
       "    </tr>\n",
       "  </thead>\n",
       "  <tbody>\n",
       "    <tr>\n",
       "      <th>0</th>\n",
       "      <td>A0A023PXA5</td>\n",
       "      <td>A0A023PXB0</td>\n",
       "      <td>0.0</td>\n",
       "      <td>0.0</td>\n",
       "      <td>0.0</td>\n",
       "      <td>0.0</td>\n",
       "      <td>0.0</td>\n",
       "    </tr>\n",
       "    <tr>\n",
       "      <th>1</th>\n",
       "      <td>A0A023PXA5</td>\n",
       "      <td>A0A023PXB5</td>\n",
       "      <td>0.0</td>\n",
       "      <td>0.0</td>\n",
       "      <td>0.0</td>\n",
       "      <td>0.0</td>\n",
       "      <td>0.0</td>\n",
       "    </tr>\n",
       "    <tr>\n",
       "      <th>2</th>\n",
       "      <td>A0A023PXA5</td>\n",
       "      <td>A0A023PXB9</td>\n",
       "      <td>0.0</td>\n",
       "      <td>0.0</td>\n",
       "      <td>0.0</td>\n",
       "      <td>0.0</td>\n",
       "      <td>0.0</td>\n",
       "    </tr>\n",
       "    <tr>\n",
       "      <th>3</th>\n",
       "      <td>A0A023PXA5</td>\n",
       "      <td>A0A023PXC2</td>\n",
       "      <td>0.0</td>\n",
       "      <td>0.0</td>\n",
       "      <td>0.0</td>\n",
       "      <td>0.0</td>\n",
       "      <td>0.0</td>\n",
       "    </tr>\n",
       "    <tr>\n",
       "      <th>4</th>\n",
       "      <td>A0A023PXA5</td>\n",
       "      <td>A0A023PXC7</td>\n",
       "      <td>0.0</td>\n",
       "      <td>0.0</td>\n",
       "      <td>0.0</td>\n",
       "      <td>0.0</td>\n",
       "      <td>0.0</td>\n",
       "    </tr>\n",
       "  </tbody>\n",
       "</table>\n",
       "</div>"
      ],
      "text/plain": [
       "  uniprotID_A uniprotID_B  bioProcessUniprot  cellCompUniprot  molFuncUniprot  \\\n",
       "0  A0A023PXA5  A0A023PXB0                0.0              0.0             0.0   \n",
       "1  A0A023PXA5  A0A023PXB5                0.0              0.0             0.0   \n",
       "2  A0A023PXA5  A0A023PXB9                0.0              0.0             0.0   \n",
       "3  A0A023PXA5  A0A023PXC2                0.0              0.0             0.0   \n",
       "4  A0A023PXA5  A0A023PXC7                0.0              0.0             0.0   \n",
       "\n",
       "   domainUniprot  motifUniprot  \n",
       "0            0.0           0.0  \n",
       "1            0.0           0.0  \n",
       "2            0.0           0.0  \n",
       "3            0.0           0.0  \n",
       "4            0.0           0.0  "
      ]
     },
     "metadata": {},
     "output_type": "display_data"
    }
   ],
   "source": [
    "glance(df_features)"
   ]
  },
  {
   "cell_type": "code",
   "execution_count": 26,
   "metadata": {
    "execution": {
     "iopub.execute_input": "2021-12-06T17:37:51.508819Z",
     "iopub.status.busy": "2021-12-06T17:37:51.508631Z",
     "iopub.status.idle": "2021-12-06T17:37:52.008065Z",
     "shell.execute_reply": "2021-12-06T17:37:52.007087Z",
     "shell.execute_reply.started": "2021-12-06T17:37:51.508798Z"
    }
   },
   "outputs": [
    {
     "data": {
      "text/html": [
       "<div>\n",
       "<style scoped>\n",
       "    .dataframe tbody tr th:only-of-type {\n",
       "        vertical-align: middle;\n",
       "    }\n",
       "\n",
       "    .dataframe tbody tr th {\n",
       "        vertical-align: top;\n",
       "    }\n",
       "\n",
       "    .dataframe thead th {\n",
       "        text-align: right;\n",
       "    }\n",
       "</style>\n",
       "<table border=\"1\" class=\"dataframe\">\n",
       "  <thead>\n",
       "    <tr style=\"text-align: right;\">\n",
       "      <th></th>\n",
       "      <th>uniprotID_A</th>\n",
       "      <th>uniprotID_B</th>\n",
       "      <th>bioProcessUniprot</th>\n",
       "      <th>cellCompUniprot</th>\n",
       "      <th>molFuncUniprot</th>\n",
       "      <th>domainUniprot</th>\n",
       "      <th>motifUniprot</th>\n",
       "    </tr>\n",
       "  </thead>\n",
       "  <tbody>\n",
       "    <tr>\n",
       "      <th>13439</th>\n",
       "      <td>A0A023PXB5</td>\n",
       "      <td>A0A023PXB9</td>\n",
       "      <td>0.0</td>\n",
       "      <td>1.00000</td>\n",
       "      <td>0.0</td>\n",
       "      <td>0.0</td>\n",
       "      <td>0.0</td>\n",
       "    </tr>\n",
       "    <tr>\n",
       "      <th>13440</th>\n",
       "      <td>A0A023PXB5</td>\n",
       "      <td>A0A023PXC2</td>\n",
       "      <td>0.0</td>\n",
       "      <td>1.00000</td>\n",
       "      <td>0.0</td>\n",
       "      <td>0.0</td>\n",
       "      <td>0.0</td>\n",
       "    </tr>\n",
       "    <tr>\n",
       "      <th>13441</th>\n",
       "      <td>A0A023PXB5</td>\n",
       "      <td>A0A023PXC7</td>\n",
       "      <td>0.0</td>\n",
       "      <td>1.00000</td>\n",
       "      <td>0.0</td>\n",
       "      <td>0.0</td>\n",
       "      <td>0.0</td>\n",
       "    </tr>\n",
       "    <tr>\n",
       "      <th>13443</th>\n",
       "      <td>A0A023PXB5</td>\n",
       "      <td>A0A023PXD5</td>\n",
       "      <td>0.0</td>\n",
       "      <td>1.00000</td>\n",
       "      <td>0.0</td>\n",
       "      <td>0.0</td>\n",
       "      <td>0.0</td>\n",
       "    </tr>\n",
       "    <tr>\n",
       "      <th>13444</th>\n",
       "      <td>A0A023PXB5</td>\n",
       "      <td>A0A023PXD9</td>\n",
       "      <td>0.0</td>\n",
       "      <td>1.00000</td>\n",
       "      <td>0.0</td>\n",
       "      <td>0.0</td>\n",
       "      <td>0.0</td>\n",
       "    </tr>\n",
       "    <tr>\n",
       "      <th>...</th>\n",
       "      <td>...</td>\n",
       "      <td>...</td>\n",
       "      <td>...</td>\n",
       "      <td>...</td>\n",
       "      <td>...</td>\n",
       "      <td>...</td>\n",
       "      <td>...</td>\n",
       "    </tr>\n",
       "    <tr>\n",
       "      <th>22582555</th>\n",
       "      <td>Q9ZZX1</td>\n",
       "      <td>Q9ZZX8</td>\n",
       "      <td>0.0</td>\n",
       "      <td>0.57735</td>\n",
       "      <td>0.0</td>\n",
       "      <td>0.0</td>\n",
       "      <td>0.0</td>\n",
       "    </tr>\n",
       "    <tr>\n",
       "      <th>22582556</th>\n",
       "      <td>Q9ZZX1</td>\n",
       "      <td>Q9ZZX9</td>\n",
       "      <td>0.0</td>\n",
       "      <td>0.57735</td>\n",
       "      <td>0.0</td>\n",
       "      <td>0.0</td>\n",
       "      <td>0.0</td>\n",
       "    </tr>\n",
       "    <tr>\n",
       "      <th>22582557</th>\n",
       "      <td>Q9ZZX7</td>\n",
       "      <td>Q9ZZX8</td>\n",
       "      <td>0.0</td>\n",
       "      <td>1.00000</td>\n",
       "      <td>0.0</td>\n",
       "      <td>0.0</td>\n",
       "      <td>0.0</td>\n",
       "    </tr>\n",
       "    <tr>\n",
       "      <th>22582558</th>\n",
       "      <td>Q9ZZX7</td>\n",
       "      <td>Q9ZZX9</td>\n",
       "      <td>0.0</td>\n",
       "      <td>1.00000</td>\n",
       "      <td>0.0</td>\n",
       "      <td>0.0</td>\n",
       "      <td>0.0</td>\n",
       "    </tr>\n",
       "    <tr>\n",
       "      <th>22582559</th>\n",
       "      <td>Q9ZZX8</td>\n",
       "      <td>Q9ZZX9</td>\n",
       "      <td>0.0</td>\n",
       "      <td>1.00000</td>\n",
       "      <td>0.0</td>\n",
       "      <td>0.0</td>\n",
       "      <td>0.0</td>\n",
       "    </tr>\n",
       "  </tbody>\n",
       "</table>\n",
       "<p>5299381 rows × 7 columns</p>\n",
       "</div>"
      ],
      "text/plain": [
       "         uniprotID_A uniprotID_B  bioProcessUniprot  cellCompUniprot  \\\n",
       "13439     A0A023PXB5  A0A023PXB9                0.0          1.00000   \n",
       "13440     A0A023PXB5  A0A023PXC2                0.0          1.00000   \n",
       "13441     A0A023PXB5  A0A023PXC7                0.0          1.00000   \n",
       "13443     A0A023PXB5  A0A023PXD5                0.0          1.00000   \n",
       "13444     A0A023PXB5  A0A023PXD9                0.0          1.00000   \n",
       "...              ...         ...                ...              ...   \n",
       "22582555      Q9ZZX1      Q9ZZX8                0.0          0.57735   \n",
       "22582556      Q9ZZX1      Q9ZZX9                0.0          0.57735   \n",
       "22582557      Q9ZZX7      Q9ZZX8                0.0          1.00000   \n",
       "22582558      Q9ZZX7      Q9ZZX9                0.0          1.00000   \n",
       "22582559      Q9ZZX8      Q9ZZX9                0.0          1.00000   \n",
       "\n",
       "          molFuncUniprot  domainUniprot  motifUniprot  \n",
       "13439                0.0            0.0           0.0  \n",
       "13440                0.0            0.0           0.0  \n",
       "13441                0.0            0.0           0.0  \n",
       "13443                0.0            0.0           0.0  \n",
       "13444                0.0            0.0           0.0  \n",
       "...                  ...            ...           ...  \n",
       "22582555             0.0            0.0           0.0  \n",
       "22582556             0.0            0.0           0.0  \n",
       "22582557             0.0            0.0           0.0  \n",
       "22582558             0.0            0.0           0.0  \n",
       "22582559             0.0            0.0           0.0  \n",
       "\n",
       "[5299381 rows x 7 columns]"
      ]
     },
     "execution_count": 26,
     "metadata": {},
     "output_type": "execute_result"
    }
   ],
   "source": [
    "df_features.loc[df_features.cellCompUniprot != 0]"
   ]
  },
  {
   "cell_type": "markdown",
   "metadata": {},
   "source": [
    "# Sanity checks"
   ]
  },
  {
   "cell_type": "code",
   "execution_count": 18,
   "metadata": {
    "execution": {
     "iopub.execute_input": "2021-12-06T17:35:03.709073Z",
     "iopub.status.busy": "2021-12-06T17:35:03.708956Z",
     "iopub.status.idle": "2021-12-06T17:35:06.269115Z",
     "shell.execute_reply": "2021-12-06T17:35:06.268511Z",
     "shell.execute_reply.started": "2021-12-06T17:35:03.709055Z"
    }
   },
   "outputs": [
    {
     "name": "stdout",
     "output_type": "stream",
     "text": [
      "bioProcessUniprot\n",
      "cellCompUniprot\n",
      "molFuncUniprot\n",
      "domainUniprot\n",
      "motifUniprot\n"
     ]
    }
   ],
   "source": [
    "for group, group_details in featuresDict.items():\n",
    "    for feature, details in group_details.items():\n",
    "        print(feature)\n",
    "        foo = df_features.loc[(df_features[feature]>0)&(df_features[feature]<1)]\n",
    "        foo = foo.iloc[random.randrange(len(foo))]\n",
    "\n",
    "        df = pd.read_pickle(details['path'])\n",
    "        df.set_index('uniprotID', inplace=True)\n",
    "\n",
    "        df = df.loc[[foo.uniprotID_A, foo.uniprotID_B]]\n",
    "\n",
    "        bar = cosine_similarity(df, df)[0,1]\n",
    "        baar = foo[feature]\n",
    "\n",
    "        assert math.isclose(bar,baar, rel_tol=1e-6)"
   ]
  },
  {
   "cell_type": "code",
   "execution_count": 19,
   "metadata": {
    "execution": {
     "iopub.execute_input": "2021-12-06T17:35:06.270067Z",
     "iopub.status.busy": "2021-12-06T17:35:06.269945Z",
     "iopub.status.idle": "2021-12-06T17:35:08.934389Z",
     "shell.execute_reply": "2021-12-06T17:35:08.932959Z",
     "shell.execute_reply.started": "2021-12-06T17:35:06.270047Z"
    }
   },
   "outputs": [],
   "source": [
    "assert ~df_features.duplicated(subset=[\"uniprotID_A\",\"uniprotID_B\"]).any()"
   ]
  },
  {
   "cell_type": "code",
   "execution_count": 20,
   "metadata": {
    "execution": {
     "iopub.execute_input": "2021-12-06T17:35:08.935303Z",
     "iopub.status.busy": "2021-12-06T17:35:08.935171Z",
     "iopub.status.idle": "2021-12-06T17:35:08.947373Z",
     "shell.execute_reply": "2021-12-06T17:35:08.946869Z",
     "shell.execute_reply.started": "2021-12-06T17:35:08.935282Z"
    }
   },
   "outputs": [],
   "source": [
    "uniprotIDs = pd.read_csv(\n",
    "    os.path.join(cfg['rawDataUniProt'], \n",
    "                 \"uniprot_allProteins_yeast_v{}.pkl\".format(logVersions['UniProt']['yeast']['rawData'])),\n",
    "    header=None,\n",
    "    names=['uniprotID']\n",
    ")\n",
    "assert len(df_features) == len(uniprotIDs)*(len(uniprotIDs)-1)/2"
   ]
  },
  {
   "cell_type": "markdown",
   "metadata": {},
   "source": [
    "# Export\n",
    "\n",
    "- v1.0: uses new cleaned data and cosine similarity for all of them (06/12/2021)"
   ]
  },
  {
   "cell_type": "code",
   "execution_count": 21,
   "metadata": {
    "execution": {
     "iopub.execute_input": "2021-12-06T17:35:33.923983Z",
     "iopub.status.busy": "2021-12-06T17:35:33.923786Z",
     "iopub.status.idle": "2021-12-06T17:35:33.969205Z",
     "shell.execute_reply": "2021-12-06T17:35:33.968697Z",
     "shell.execute_reply.started": "2021-12-06T17:35:33.923962Z"
    }
   },
   "outputs": [],
   "source": [
    "versionFE = '1-0'\n",
    "\n",
    "logVersions['featuresEngineering']['yeast'] = dict()\n",
    "logVersions['featuresEngineering']['yeast']['similarityMeasure']=versionFE\n",
    "\n",
    "dump_LogVersions(logVersions)"
   ]
  },
  {
   "cell_type": "code",
   "execution_count": 22,
   "metadata": {
    "execution": {
     "iopub.execute_input": "2021-12-06T17:35:44.039068Z",
     "iopub.status.busy": "2021-12-06T17:35:44.038873Z",
     "iopub.status.idle": "2021-12-06T17:35:48.340180Z",
     "shell.execute_reply": "2021-12-06T17:35:48.338833Z",
     "shell.execute_reply.started": "2021-12-06T17:35:44.039047Z"
    }
   },
   "outputs": [],
   "source": [
    "df_features.to_pickle(\n",
    "    os.path.join(\n",
    "        cfg['outputFeaturesEngineering'],\n",
    "        \"similarityMeasures_yeast_v{}.pkl\".format(versionFE)\n",
    "    )\n",
    ")"
   ]
  },
  {
   "cell_type": "code",
   "execution_count": null,
   "metadata": {},
   "outputs": [],
   "source": []
  }
 ],
 "metadata": {
  "kernelspec": {
   "display_name": "Python (PPI-env)",
   "language": "python",
   "name": "ppi-env"
  },
  "language_info": {
   "codemirror_mode": {
    "name": "ipython",
    "version": 3
   },
   "file_extension": ".py",
   "mimetype": "text/x-python",
   "name": "python",
   "nbconvert_exporter": "python",
   "pygments_lexer": "ipython3",
   "version": "3.7.3"
  },
  "toc-autonumbering": true,
  "toc-showcode": false,
  "toc-showmarkdowntxt": false
 },
 "nbformat": 4,
 "nbformat_minor": 4
}
