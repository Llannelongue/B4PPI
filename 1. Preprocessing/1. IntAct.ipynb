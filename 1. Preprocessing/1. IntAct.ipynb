{
 "cells": [
  {
   "cell_type": "markdown",
   "metadata": {},
   "source": [
    "---\n",
    "IntAct\n",
    "\n",
    "---"
   ]
  },
  {
   "cell_type": "markdown",
   "metadata": {},
   "source": [
    "\n",
    "https://www.ebi.ac.uk/intact/\n",
    "\n",
    "- Format: PSI-MI TAB 2.7 http://psicquic.github.io/MITAB27Format.html\n",
    "\n",
    "Codes for the columns:\n",
    "- 9-10. NCBI Taxonomy https://www.ncbi.nlm.nih.gov/Taxonomy/CommonTree/wwwcmt.cgi"
   ]
  },
  {
   "cell_type": "code",
   "execution_count": 1,
   "metadata": {
    "ExecuteTime": {
     "end_time": "2019-10-30T15:54:13.701847Z",
     "start_time": "2019-10-30T15:54:13.694422Z"
    },
    "execution": {
     "iopub.execute_input": "2022-01-10T13:11:57.030250Z",
     "iopub.status.busy": "2022-01-10T13:11:57.029522Z",
     "iopub.status.idle": "2022-01-10T13:12:26.919758Z",
     "shell.execute_reply": "2022-01-10T13:12:26.918334Z",
     "shell.execute_reply.started": "2022-01-10T13:11:57.029932Z"
    }
   },
   "outputs": [],
   "source": [
    "import pandas as pd\n",
    "import numpy as np\n",
    "import os\n",
    "import re\n",
    "import matplotlib as mpl\n",
    "import matplotlib.pyplot as plt\n",
    "import seaborn as sns\n",
    "# from Bio import SeqIO\n",
    "import requests\n",
    "import urllib\n",
    "import re\n",
    "from io import StringIO\n",
    "# import shutil\n",
    "# import urllib.request as request\n",
    "# from contextlib import closing\n",
    "import gzip\n",
    "from ftplib import FTP\n",
    "import pickle as pkl\n",
    "import math\n",
    "\n",
    "from toolbox import *\n",
    "\n",
    "%matplotlib inline"
   ]
  },
  {
   "cell_type": "code",
   "execution_count": 2,
   "metadata": {
    "ExecuteTime": {
     "end_time": "2019-10-28T14:18:48.400134Z",
     "start_time": "2019-10-28T14:18:48.371893Z"
    },
    "execution": {
     "iopub.execute_input": "2022-01-10T13:12:26.922763Z",
     "iopub.status.busy": "2022-01-10T13:12:26.922409Z",
     "iopub.status.idle": "2022-01-10T13:12:26.981951Z",
     "shell.execute_reply": "2022-01-10T13:12:26.980949Z",
     "shell.execute_reply.started": "2022-01-10T13:12:26.922701Z"
    }
   },
   "outputs": [],
   "source": [
    "cfg = load_cfg()\n",
    "\n",
    "logVersions = load_LogVersions()"
   ]
  },
  {
   "cell_type": "markdown",
   "metadata": {},
   "source": [
    "---\n",
    "**For figures**"
   ]
  },
  {
   "cell_type": "code",
   "execution_count": 4,
   "metadata": {
    "execution": {
     "iopub.execute_input": "2022-01-10T13:12:50.986637Z",
     "iopub.status.busy": "2022-01-10T13:12:50.985880Z",
     "iopub.status.idle": "2022-01-10T13:12:50.994161Z",
     "shell.execute_reply": "2022-01-10T13:12:50.992944Z",
     "shell.execute_reply.started": "2022-01-10T13:12:50.986319Z"
    }
   },
   "outputs": [],
   "source": [
    "from figures_toolbox import *"
   ]
  },
  {
   "cell_type": "code",
   "execution_count": 5,
   "metadata": {
    "execution": {
     "iopub.execute_input": "2022-01-10T13:12:51.753205Z",
     "iopub.status.busy": "2022-01-10T13:12:51.752731Z",
     "iopub.status.idle": "2022-01-10T13:12:51.769167Z",
     "shell.execute_reply": "2022-01-10T13:12:51.768024Z",
     "shell.execute_reply.started": "2022-01-10T13:12:51.753129Z"
    }
   },
   "outputs": [],
   "source": [
    "mpl.rcParams.update(mpl.rcParamsDefault)\n",
    "\n",
    "sns.set(\n",
    "    context='paper',\n",
    "    style='ticks',\n",
    ")\n",
    "\n",
    "%matplotlib inline"
   ]
  },
  {
   "cell_type": "code",
   "execution_count": 6,
   "metadata": {
    "execution": {
     "iopub.execute_input": "2022-01-10T13:12:52.992301Z",
     "iopub.status.busy": "2022-01-10T13:12:52.991653Z",
     "iopub.status.idle": "2022-01-10T13:12:52.997582Z",
     "shell.execute_reply": "2022-01-10T13:12:52.996359Z",
     "shell.execute_reply.started": "2022-01-10T13:12:52.992023Z"
    }
   },
   "outputs": [],
   "source": [
    "mpl.rcParams.update(performancePlot_style)"
   ]
  },
  {
   "cell_type": "markdown",
   "metadata": {},
   "source": [
    "# Download data"
   ]
  },
  {
   "cell_type": "code",
   "execution_count": 5,
   "metadata": {
    "execution": {
     "iopub.execute_input": "2021-11-09T12:15:42.834999Z",
     "iopub.status.busy": "2021-11-09T12:15:42.834523Z",
     "iopub.status.idle": "2021-11-09T12:15:42.840335Z",
     "shell.execute_reply": "2021-11-09T12:15:42.838923Z",
     "shell.execute_reply.started": "2021-11-09T12:15:42.834929Z"
    }
   },
   "outputs": [],
   "source": [
    "doDownload = False"
   ]
  },
  {
   "cell_type": "code",
   "execution_count": 4,
   "metadata": {
    "execution": {
     "iopub.execute_input": "2021-11-09T12:15:32.421967Z",
     "iopub.status.busy": "2021-11-09T12:15:32.421547Z",
     "iopub.status.idle": "2021-11-09T12:15:32.584183Z",
     "shell.execute_reply": "2021-11-09T12:15:32.583154Z",
     "shell.execute_reply.started": "2021-11-09T12:15:32.421828Z"
    }
   },
   "outputs": [
    {
     "name": "stdout",
     "output_type": "stream",
     "text": [
      "Timestamp: 20211015\n"
     ]
    },
    {
     "data": {
      "text/plain": [
       "'221 Goodbye.'"
      ]
     },
     "execution_count": 4,
     "metadata": {},
     "output_type": "execute_result"
    }
   ],
   "source": [
    "# Check timestamp\n",
    "\n",
    "ftp = FTP('ftp.ebi.ac.uk')\n",
    "ftp.login()\n",
    "ftp.cwd('/pub/databases/intact/current/psimitab/')\n",
    "\n",
    "intact_filename = 'intact.txt'\n",
    "versionIntAct = ftp.voidcmd(\"MDTM \" + intact_filename)[4:12]\n",
    "print(\"Timestamp: {}\".format(versionIntAct))\n",
    "ftp.quit()"
   ]
  },
  {
   "cell_type": "code",
   "execution_count": 6,
   "metadata": {
    "execution": {
     "iopub.execute_input": "2021-11-09T12:16:01.177774Z",
     "iopub.status.busy": "2021-11-09T12:16:01.177027Z",
     "iopub.status.idle": "2021-11-09T12:17:14.444261Z",
     "shell.execute_reply": "2021-11-09T12:17:14.441488Z",
     "shell.execute_reply.started": "2021-11-09T12:16:01.177442Z"
    }
   },
   "outputs": [
    {
     "name": "stdout",
     "output_type": "stream",
     "text": [
      "Timestamp: 20211015\n",
      "Download location: /rds/user/ll582/hpc-work/PPIdata/rawData/IntAct/intact_v20211015.txt\n"
     ]
    }
   ],
   "source": [
    "if doDownload:\n",
    "    ftp = FTP('ftp.ebi.ac.uk')\n",
    "    ftp.login()\n",
    "    ftp.cwd('/pub/databases/intact/current/psimitab/')\n",
    "\n",
    "    intact_filename = 'intact.txt'\n",
    "    # Collect timestamp\n",
    "    versionIntAct = ftp.voidcmd(\"MDTM \" + intact_filename)[4:12]\n",
    "    print(\"Timestamp: {}\".format(versionIntAct))\n",
    "\n",
    "    localFile = os.path.join(cfg['rawDataIntact'], \"intact_v{}.txt\".format(versionIntAct))\n",
    "    print(\"Download location: {}\".format(localFile))\n",
    "\n",
    "    with open(localFile, 'wb') as f:\n",
    "        ftp.retrbinary('RETR ' + intact_filename, f.write, 1024)\n",
    "\n",
    "    ftp.quit()"
   ]
  },
  {
   "cell_type": "code",
   "execution_count": 7,
   "metadata": {
    "execution": {
     "iopub.execute_input": "2021-11-09T12:17:14.448882Z",
     "iopub.status.busy": "2021-11-09T12:17:14.448361Z",
     "iopub.status.idle": "2021-11-09T12:17:14.466140Z",
     "shell.execute_reply": "2021-11-09T12:17:14.465062Z",
     "shell.execute_reply.started": "2021-11-09T12:17:14.448815Z"
    }
   },
   "outputs": [],
   "source": [
    "if doDownload:\n",
    "#     logVersions['IntAct'] = dict()\n",
    "    logVersions['IntAct']['rawData'] = versionIntAct\n",
    "\n",
    "    dump_LogVersions(logVersions)"
   ]
  },
  {
   "cell_type": "markdown",
   "metadata": {
    "heading_collapsed": true
   },
   "source": [
    "# Preprocessing"
   ]
  },
  {
   "cell_type": "code",
   "execution_count": 8,
   "metadata": {
    "ExecuteTime": {
     "end_time": "2019-10-30T15:54:42.869320Z",
     "start_time": "2019-10-30T15:54:14.250599Z"
    },
    "execution": {
     "iopub.execute_input": "2022-01-10T13:13:10.640896Z",
     "iopub.status.busy": "2022-01-10T13:13:10.640333Z",
     "iopub.status.idle": "2022-01-10T13:13:58.293885Z",
     "shell.execute_reply": "2022-01-10T13:13:58.293125Z",
     "shell.execute_reply.started": "2022-01-10T13:13:10.640808Z"
    }
   },
   "outputs": [
    {
     "name": "stdout",
     "output_type": "stream",
     "text": [
      "DataFrame: 1,155,104 rows \t 42 columns\n"
     ]
    },
    {
     "data": {
      "text/html": [
       "<div>\n",
       "<style scoped>\n",
       "    .dataframe tbody tr th:only-of-type {\n",
       "        vertical-align: middle;\n",
       "    }\n",
       "\n",
       "    .dataframe tbody tr th {\n",
       "        vertical-align: top;\n",
       "    }\n",
       "\n",
       "    .dataframe thead th {\n",
       "        text-align: right;\n",
       "    }\n",
       "</style>\n",
       "<table border=\"1\" class=\"dataframe\">\n",
       "  <thead>\n",
       "    <tr style=\"text-align: right;\">\n",
       "      <th></th>\n",
       "      <th>#ID(s) interactor A</th>\n",
       "      <th>ID(s) interactor B</th>\n",
       "      <th>Alt. ID(s) interactor A</th>\n",
       "      <th>Alt. ID(s) interactor B</th>\n",
       "      <th>Alias(es) interactor A</th>\n",
       "      <th>Alias(es) interactor B</th>\n",
       "      <th>Interaction detection method(s)</th>\n",
       "      <th>Publication 1st author(s)</th>\n",
       "      <th>Publication Identifier(s)</th>\n",
       "      <th>Taxid interactor A</th>\n",
       "      <th>...</th>\n",
       "      <th>Checksum(s) interactor A</th>\n",
       "      <th>Checksum(s) interactor B</th>\n",
       "      <th>Interaction Checksum(s)</th>\n",
       "      <th>Negative</th>\n",
       "      <th>Feature(s) interactor A</th>\n",
       "      <th>Feature(s) interactor B</th>\n",
       "      <th>Stoichiometry(s) interactor A</th>\n",
       "      <th>Stoichiometry(s) interactor B</th>\n",
       "      <th>Identification method participant A</th>\n",
       "      <th>Identification method participant B</th>\n",
       "    </tr>\n",
       "  </thead>\n",
       "  <tbody>\n",
       "    <tr>\n",
       "      <th>0</th>\n",
       "      <td>uniprotkb:P49418</td>\n",
       "      <td>uniprotkb:O43426</td>\n",
       "      <td>intact:EBI-7121510|uniprotkb:Q75MK5|uniprotkb:...</td>\n",
       "      <td>intact:EBI-2821539|uniprotkb:O43425|uniprotkb:...</td>\n",
       "      <td>psi-mi:amph_human(display_long)|uniprotkb:AMPH...</td>\n",
       "      <td>psi-mi:synj1_human(display_long)|uniprotkb:SYN...</td>\n",
       "      <td>psi-mi:\"MI:0084\"(phage display)</td>\n",
       "      <td>Cestra et al. (1999)</td>\n",
       "      <td>pubmed:10542231|mint:MINT-5211933</td>\n",
       "      <td>taxid:9606(human)|taxid:9606(Homo sapiens)</td>\n",
       "      <td>...</td>\n",
       "      <td>rogid:vrgVrVoYr45cUe4X6L/zBAE1RtU9606</td>\n",
       "      <td>rogid:RA73eMbCn6F7MD0ItxF/V7QbjqM9606</td>\n",
       "      <td>intact-crc:F4234557A3B54840|rigid:n+UcEH4PPLkF...</td>\n",
       "      <td>False</td>\n",
       "      <td>binding-associated region:626-695(MINT-376295)</td>\n",
       "      <td>binding-associated region:1063-1070(MINT-376288)</td>\n",
       "      <td>-</td>\n",
       "      <td>-</td>\n",
       "      <td>psi-mi:\"MI:0078\"(nucleotide sequence identific...</td>\n",
       "      <td>psi-mi:\"MI:0078\"(nucleotide sequence identific...</td>\n",
       "    </tr>\n",
       "    <tr>\n",
       "      <th>1</th>\n",
       "      <td>uniprotkb:P49418</td>\n",
       "      <td>intact:EBI-7121639</td>\n",
       "      <td>intact:EBI-7121510|uniprotkb:Q75MK5|uniprotkb:...</td>\n",
       "      <td>intact:MINT-8094608</td>\n",
       "      <td>psi-mi:amph_human(display_long)|uniprotkb:AMPH...</td>\n",
       "      <td>psi-mi:vrparrvlw(display_short)|psi-mi:EBI-712...</td>\n",
       "      <td>psi-mi:\"MI:0084\"(phage display)</td>\n",
       "      <td>Cestra et al. (1999)</td>\n",
       "      <td>pubmed:10542231|mint:MINT-5211933</td>\n",
       "      <td>taxid:9606(human)|taxid:9606(Homo sapiens)</td>\n",
       "      <td>...</td>\n",
       "      <td>rogid:vrgVrVoYr45cUe4X6L/zBAE1RtU9606</td>\n",
       "      <td>rogid:lPy6gBhpgvyGSYgOqeHbjcqBtMQ-2</td>\n",
       "      <td>intact-crc:880913D9000BF26E|rigid:iRObbQsaUeX0...</td>\n",
       "      <td>False</td>\n",
       "      <td>binding-associated region:626-695(MINT-8094602)</td>\n",
       "      <td>-</td>\n",
       "      <td>-</td>\n",
       "      <td>-</td>\n",
       "      <td>psi-mi:\"MI:0078\"(nucleotide sequence identific...</td>\n",
       "      <td>psi-mi:\"MI:0083\"(peptide synthesis)</td>\n",
       "    </tr>\n",
       "    <tr>\n",
       "      <th>2</th>\n",
       "      <td>uniprotkb:P49418</td>\n",
       "      <td>intact:EBI-7121654</td>\n",
       "      <td>intact:EBI-7121510|uniprotkb:Q75MK5|uniprotkb:...</td>\n",
       "      <td>intact:MINT-8094645</td>\n",
       "      <td>psi-mi:amph_human(display_long)|uniprotkb:AMPH...</td>\n",
       "      <td>psi-mi:hrpvrraap(display_short)|psi-mi:EBI-712...</td>\n",
       "      <td>psi-mi:\"MI:0084\"(phage display)</td>\n",
       "      <td>Cestra et al. (1999)</td>\n",
       "      <td>pubmed:10542231|mint:MINT-5211933</td>\n",
       "      <td>taxid:9606(human)|taxid:9606(Homo sapiens)</td>\n",
       "      <td>...</td>\n",
       "      <td>rogid:vrgVrVoYr45cUe4X6L/zBAE1RtU9606</td>\n",
       "      <td>rogid:GsDnsVmAo8ZZoKTZ4/uDb2x+h3c-2</td>\n",
       "      <td>intact-crc:B68245E1F0508124|rigid:SlinPP5vIczF...</td>\n",
       "      <td>False</td>\n",
       "      <td>binding-associated region:626-695(MINT-8094630)</td>\n",
       "      <td>-</td>\n",
       "      <td>-</td>\n",
       "      <td>-</td>\n",
       "      <td>psi-mi:\"MI:0078\"(nucleotide sequence identific...</td>\n",
       "      <td>psi-mi:\"MI:0083\"(peptide synthesis)</td>\n",
       "    </tr>\n",
       "    <tr>\n",
       "      <th>3</th>\n",
       "      <td>uniprotkb:P49418</td>\n",
       "      <td>intact:EBI-7121715</td>\n",
       "      <td>intact:EBI-7121510|uniprotkb:Q75MK5|uniprotkb:...</td>\n",
       "      <td>intact:MINT-8094663</td>\n",
       "      <td>psi-mi:amph_human(display_long)|uniprotkb:AMPH...</td>\n",
       "      <td>psi-mi:vrptraada(display_short)|psi-mi:EBI-712...</td>\n",
       "      <td>psi-mi:\"MI:0084\"(phage display)</td>\n",
       "      <td>Cestra et al. (1999)</td>\n",
       "      <td>pubmed:10542231|mint:MINT-5211933</td>\n",
       "      <td>taxid:9606(human)|taxid:9606(Homo sapiens)</td>\n",
       "      <td>...</td>\n",
       "      <td>rogid:vrgVrVoYr45cUe4X6L/zBAE1RtU9606</td>\n",
       "      <td>rogid:M+f6GE3SQXrMBiIVttW1MKhz3M0-2</td>\n",
       "      <td>intact-crc:8F7F46DF027DF34E|rigid:uiWbDe6gaj1X...</td>\n",
       "      <td>False</td>\n",
       "      <td>binding-associated region:626-695(MINT-8094654)</td>\n",
       "      <td>-</td>\n",
       "      <td>-</td>\n",
       "      <td>-</td>\n",
       "      <td>psi-mi:\"MI:0078\"(nucleotide sequence identific...</td>\n",
       "      <td>psi-mi:\"MI:0083\"(peptide synthesis)</td>\n",
       "    </tr>\n",
       "    <tr>\n",
       "      <th>4</th>\n",
       "      <td>intact:EBI-7121765</td>\n",
       "      <td>uniprotkb:P49418</td>\n",
       "      <td>intact:MINT-8094691</td>\n",
       "      <td>intact:EBI-7121510|uniprotkb:Q75MK5|uniprotkb:...</td>\n",
       "      <td>psi-mi:xrprrghal(display_short)|psi-mi:EBI-712...</td>\n",
       "      <td>psi-mi:amph_human(display_long)|uniprotkb:AMPH...</td>\n",
       "      <td>psi-mi:\"MI:0084\"(phage display)</td>\n",
       "      <td>Cestra et al. (1999)</td>\n",
       "      <td>pubmed:10542231|mint:MINT-5211933</td>\n",
       "      <td>taxid:-2(chemical synthesis)|taxid:-2(\"Chemica...</td>\n",
       "      <td>...</td>\n",
       "      <td>rogid:cilZXZ3YLDI1s7n8WNRyUE6EnJQ-2</td>\n",
       "      <td>rogid:vrgVrVoYr45cUe4X6L/zBAE1RtU9606</td>\n",
       "      <td>intact-crc:2EF43A66D9B2D428|rigid:/ki1zA46M4Q+...</td>\n",
       "      <td>False</td>\n",
       "      <td>-</td>\n",
       "      <td>binding-associated region:626-695(MINT-8094680)</td>\n",
       "      <td>-</td>\n",
       "      <td>-</td>\n",
       "      <td>psi-mi:\"MI:0083\"(peptide synthesis)</td>\n",
       "      <td>psi-mi:\"MI:0078\"(nucleotide sequence identific...</td>\n",
       "    </tr>\n",
       "  </tbody>\n",
       "</table>\n",
       "<p>5 rows × 42 columns</p>\n",
       "</div>"
      ],
      "text/plain": [
       "  #ID(s) interactor A  ID(s) interactor B  \\\n",
       "0    uniprotkb:P49418    uniprotkb:O43426   \n",
       "1    uniprotkb:P49418  intact:EBI-7121639   \n",
       "2    uniprotkb:P49418  intact:EBI-7121654   \n",
       "3    uniprotkb:P49418  intact:EBI-7121715   \n",
       "4  intact:EBI-7121765    uniprotkb:P49418   \n",
       "\n",
       "                             Alt. ID(s) interactor A  \\\n",
       "0  intact:EBI-7121510|uniprotkb:Q75MK5|uniprotkb:...   \n",
       "1  intact:EBI-7121510|uniprotkb:Q75MK5|uniprotkb:...   \n",
       "2  intact:EBI-7121510|uniprotkb:Q75MK5|uniprotkb:...   \n",
       "3  intact:EBI-7121510|uniprotkb:Q75MK5|uniprotkb:...   \n",
       "4                                intact:MINT-8094691   \n",
       "\n",
       "                             Alt. ID(s) interactor B  \\\n",
       "0  intact:EBI-2821539|uniprotkb:O43425|uniprotkb:...   \n",
       "1                                intact:MINT-8094608   \n",
       "2                                intact:MINT-8094645   \n",
       "3                                intact:MINT-8094663   \n",
       "4  intact:EBI-7121510|uniprotkb:Q75MK5|uniprotkb:...   \n",
       "\n",
       "                              Alias(es) interactor A  \\\n",
       "0  psi-mi:amph_human(display_long)|uniprotkb:AMPH...   \n",
       "1  psi-mi:amph_human(display_long)|uniprotkb:AMPH...   \n",
       "2  psi-mi:amph_human(display_long)|uniprotkb:AMPH...   \n",
       "3  psi-mi:amph_human(display_long)|uniprotkb:AMPH...   \n",
       "4  psi-mi:xrprrghal(display_short)|psi-mi:EBI-712...   \n",
       "\n",
       "                              Alias(es) interactor B  \\\n",
       "0  psi-mi:synj1_human(display_long)|uniprotkb:SYN...   \n",
       "1  psi-mi:vrparrvlw(display_short)|psi-mi:EBI-712...   \n",
       "2  psi-mi:hrpvrraap(display_short)|psi-mi:EBI-712...   \n",
       "3  psi-mi:vrptraada(display_short)|psi-mi:EBI-712...   \n",
       "4  psi-mi:amph_human(display_long)|uniprotkb:AMPH...   \n",
       "\n",
       "   Interaction detection method(s) Publication 1st author(s)  \\\n",
       "0  psi-mi:\"MI:0084\"(phage display)      Cestra et al. (1999)   \n",
       "1  psi-mi:\"MI:0084\"(phage display)      Cestra et al. (1999)   \n",
       "2  psi-mi:\"MI:0084\"(phage display)      Cestra et al. (1999)   \n",
       "3  psi-mi:\"MI:0084\"(phage display)      Cestra et al. (1999)   \n",
       "4  psi-mi:\"MI:0084\"(phage display)      Cestra et al. (1999)   \n",
       "\n",
       "           Publication Identifier(s)  \\\n",
       "0  pubmed:10542231|mint:MINT-5211933   \n",
       "1  pubmed:10542231|mint:MINT-5211933   \n",
       "2  pubmed:10542231|mint:MINT-5211933   \n",
       "3  pubmed:10542231|mint:MINT-5211933   \n",
       "4  pubmed:10542231|mint:MINT-5211933   \n",
       "\n",
       "                                  Taxid interactor A  ...  \\\n",
       "0         taxid:9606(human)|taxid:9606(Homo sapiens)  ...   \n",
       "1         taxid:9606(human)|taxid:9606(Homo sapiens)  ...   \n",
       "2         taxid:9606(human)|taxid:9606(Homo sapiens)  ...   \n",
       "3         taxid:9606(human)|taxid:9606(Homo sapiens)  ...   \n",
       "4  taxid:-2(chemical synthesis)|taxid:-2(\"Chemica...  ...   \n",
       "\n",
       "                Checksum(s) interactor A  \\\n",
       "0  rogid:vrgVrVoYr45cUe4X6L/zBAE1RtU9606   \n",
       "1  rogid:vrgVrVoYr45cUe4X6L/zBAE1RtU9606   \n",
       "2  rogid:vrgVrVoYr45cUe4X6L/zBAE1RtU9606   \n",
       "3  rogid:vrgVrVoYr45cUe4X6L/zBAE1RtU9606   \n",
       "4    rogid:cilZXZ3YLDI1s7n8WNRyUE6EnJQ-2   \n",
       "\n",
       "                Checksum(s) interactor B  \\\n",
       "0  rogid:RA73eMbCn6F7MD0ItxF/V7QbjqM9606   \n",
       "1    rogid:lPy6gBhpgvyGSYgOqeHbjcqBtMQ-2   \n",
       "2    rogid:GsDnsVmAo8ZZoKTZ4/uDb2x+h3c-2   \n",
       "3    rogid:M+f6GE3SQXrMBiIVttW1MKhz3M0-2   \n",
       "4  rogid:vrgVrVoYr45cUe4X6L/zBAE1RtU9606   \n",
       "\n",
       "                             Interaction Checksum(s) Negative  \\\n",
       "0  intact-crc:F4234557A3B54840|rigid:n+UcEH4PPLkF...    False   \n",
       "1  intact-crc:880913D9000BF26E|rigid:iRObbQsaUeX0...    False   \n",
       "2  intact-crc:B68245E1F0508124|rigid:SlinPP5vIczF...    False   \n",
       "3  intact-crc:8F7F46DF027DF34E|rigid:uiWbDe6gaj1X...    False   \n",
       "4  intact-crc:2EF43A66D9B2D428|rigid:/ki1zA46M4Q+...    False   \n",
       "\n",
       "                           Feature(s) interactor A  \\\n",
       "0   binding-associated region:626-695(MINT-376295)   \n",
       "1  binding-associated region:626-695(MINT-8094602)   \n",
       "2  binding-associated region:626-695(MINT-8094630)   \n",
       "3  binding-associated region:626-695(MINT-8094654)   \n",
       "4                                                -   \n",
       "\n",
       "                            Feature(s) interactor B  \\\n",
       "0  binding-associated region:1063-1070(MINT-376288)   \n",
       "1                                                 -   \n",
       "2                                                 -   \n",
       "3                                                 -   \n",
       "4   binding-associated region:626-695(MINT-8094680)   \n",
       "\n",
       "  Stoichiometry(s) interactor A Stoichiometry(s) interactor B  \\\n",
       "0                             -                             -   \n",
       "1                             -                             -   \n",
       "2                             -                             -   \n",
       "3                             -                             -   \n",
       "4                             -                             -   \n",
       "\n",
       "                 Identification method participant A  \\\n",
       "0  psi-mi:\"MI:0078\"(nucleotide sequence identific...   \n",
       "1  psi-mi:\"MI:0078\"(nucleotide sequence identific...   \n",
       "2  psi-mi:\"MI:0078\"(nucleotide sequence identific...   \n",
       "3  psi-mi:\"MI:0078\"(nucleotide sequence identific...   \n",
       "4                psi-mi:\"MI:0083\"(peptide synthesis)   \n",
       "\n",
       "                 Identification method participant B  \n",
       "0  psi-mi:\"MI:0078\"(nucleotide sequence identific...  \n",
       "1                psi-mi:\"MI:0083\"(peptide synthesis)  \n",
       "2                psi-mi:\"MI:0083\"(peptide synthesis)  \n",
       "3                psi-mi:\"MI:0083\"(peptide synthesis)  \n",
       "4  psi-mi:\"MI:0078\"(nucleotide sequence identific...  \n",
       "\n",
       "[5 rows x 42 columns]"
      ]
     },
     "metadata": {},
     "output_type": "display_data"
    }
   ],
   "source": [
    "dfIntAct = pd.read_csv(os.path.join(cfg['rawDataIntact'],\n",
    "                                    \"intact_v{}.txt\".format(logVersions['IntAct']['rawData'])), \n",
    "                       sep=\"\\t\")\n",
    "glance(dfIntAct)"
   ]
  },
  {
   "cell_type": "code",
   "execution_count": 9,
   "metadata": {
    "ExecuteTime": {
     "start_time": "2019-10-30T15:53:50.239Z"
    },
    "execution": {
     "iopub.execute_input": "2022-01-10T13:13:58.295905Z",
     "iopub.status.busy": "2022-01-10T13:13:58.295648Z",
     "iopub.status.idle": "2022-01-10T13:13:58.308608Z",
     "shell.execute_reply": "2022-01-10T13:13:58.307507Z",
     "shell.execute_reply.started": "2022-01-10T13:13:58.295865Z"
    },
    "hidden": true
   },
   "outputs": [
    {
     "data": {
      "text/plain": [
       "#ID(s) interactor A                                                     uniprotkb:P49418\n",
       "ID(s) interactor B                                                      uniprotkb:O43426\n",
       "Alt. ID(s) interactor A                intact:EBI-7121510|uniprotkb:Q75MK5|uniprotkb:...\n",
       "Alt. ID(s) interactor B                intact:EBI-2821539|uniprotkb:O43425|uniprotkb:...\n",
       "Alias(es) interactor A                 psi-mi:amph_human(display_long)|uniprotkb:AMPH...\n",
       "Alias(es) interactor B                 psi-mi:synj1_human(display_long)|uniprotkb:SYN...\n",
       "Interaction detection method(s)                          psi-mi:\"MI:0084\"(phage display)\n",
       "Publication 1st author(s)                                           Cestra et al. (1999)\n",
       "Publication Identifier(s)                              pubmed:10542231|mint:MINT-5211933\n",
       "Taxid interactor A                            taxid:9606(human)|taxid:9606(Homo sapiens)\n",
       "Taxid interactor B                            taxid:9606(human)|taxid:9606(Homo sapiens)\n",
       "Interaction type(s)                                 psi-mi:\"MI:0407\"(direct interaction)\n",
       "Source database(s)                                                psi-mi:\"MI:0471\"(MINT)\n",
       "Interaction identifier(s)                             intact:EBI-7121552|mint:MINT-16056\n",
       "Confidence value(s)                                                  intact-miscore:0.56\n",
       "Expansion method(s)                                                                    -\n",
       "Biological role(s) interactor A                       psi-mi:\"MI:0499\"(unspecified role)\n",
       "Biological role(s) interactor B                       psi-mi:\"MI:0499\"(unspecified role)\n",
       "Experimental role(s) interactor A                                 psi-mi:\"MI:0498\"(prey)\n",
       "Experimental role(s) interactor B                                 psi-mi:\"MI:0496\"(bait)\n",
       "Type(s) interactor A                                           psi-mi:\"MI:0326\"(protein)\n",
       "Type(s) interactor B                                           psi-mi:\"MI:0326\"(protein)\n",
       "Xref(s) interactor A                   rcsb pdb:5M61|mint:P49418|rcsb pdb:5M5S|go:\"GO...\n",
       "Xref(s) interactor B                   go:\"GO:0061024\"(membrane organization)|go:\"GO:...\n",
       "Interaction Xref(s)                                                                    -\n",
       "Annotation(s) interactor A             function:May participate in mechanisms of regu...\n",
       "Annotation(s) interactor B                                  comment:\"Stoichiometry: 1.0\"\n",
       "Interaction annotation(s)                   comment:homomint|comment:domino|comment:mint\n",
       "Host organism(s)                                   taxid:-1(in vitro)|taxid:-1(In vitro)\n",
       "Interaction parameter(s)                                                               -\n",
       "Creation date                                                                 2001/01/10\n",
       "Update date                                                                   2014/10/16\n",
       "Checksum(s) interactor A                           rogid:vrgVrVoYr45cUe4X6L/zBAE1RtU9606\n",
       "Checksum(s) interactor B                           rogid:RA73eMbCn6F7MD0ItxF/V7QbjqM9606\n",
       "Interaction Checksum(s)                intact-crc:F4234557A3B54840|rigid:n+UcEH4PPLkF...\n",
       "Negative                                                                           False\n",
       "Feature(s) interactor A                   binding-associated region:626-695(MINT-376295)\n",
       "Feature(s) interactor B                 binding-associated region:1063-1070(MINT-376288)\n",
       "Stoichiometry(s) interactor A                                                          -\n",
       "Stoichiometry(s) interactor B                                                          -\n",
       "Identification method participant A    psi-mi:\"MI:0078\"(nucleotide sequence identific...\n",
       "Identification method participant B    psi-mi:\"MI:0078\"(nucleotide sequence identific...\n",
       "Name: 0, dtype: object"
      ]
     },
     "execution_count": 9,
     "metadata": {},
     "output_type": "execute_result"
    }
   ],
   "source": [
    "dfIntAct.iloc[0,:]"
   ]
  },
  {
   "cell_type": "markdown",
   "metadata": {},
   "source": [
    "## Filter 1: human PPIs with UniProtKB IDs"
   ]
  },
  {
   "cell_type": "markdown",
   "metadata": {},
   "source": [
    "**Parse and filter UniProtKB IDs**"
   ]
  },
  {
   "cell_type": "code",
   "execution_count": 10,
   "metadata": {
    "ExecuteTime": {
     "end_time": "2019-10-30T15:55:02.995520Z",
     "start_time": "2019-10-30T15:55:02.511829Z"
    },
    "execution": {
     "iopub.execute_input": "2022-01-10T13:13:58.311599Z",
     "iopub.status.busy": "2022-01-10T13:13:58.310856Z",
     "iopub.status.idle": "2022-01-10T13:13:59.189313Z",
     "shell.execute_reply": "2022-01-10T13:13:59.188641Z",
     "shell.execute_reply.started": "2022-01-10T13:13:58.311265Z"
    }
   },
   "outputs": [],
   "source": [
    "dfIntAct[\"All IDs interactor A\"] = dfIntAct[\"#ID(s) interactor A\"] + \"|\" + dfIntAct[\"Alt. ID(s) interactor A\"]\n",
    "dfIntAct[\"All IDs interactor B\"] = dfIntAct[\"ID(s) interactor B\"] + \"|\" + dfIntAct[\"Alt. ID(s) interactor B\"]"
   ]
  },
  {
   "cell_type": "markdown",
   "metadata": {},
   "source": [
    "*Extract UniProtKB ID*"
   ]
  },
  {
   "cell_type": "code",
   "execution_count": 11,
   "metadata": {
    "ExecuteTime": {
     "end_time": "2019-10-30T15:56:09.571471Z",
     "start_time": "2019-10-30T15:55:53.631857Z"
    },
    "execution": {
     "iopub.execute_input": "2022-01-10T13:13:59.190623Z",
     "iopub.status.busy": "2022-01-10T13:13:59.190457Z",
     "iopub.status.idle": "2022-01-10T13:14:41.837659Z",
     "shell.execute_reply": "2022-01-10T13:14:41.836797Z",
     "shell.execute_reply.started": "2022-01-10T13:13:59.190598Z"
    }
   },
   "outputs": [
    {
     "name": "stdout",
     "output_type": "stream",
     "text": [
      "DataFrame: 1,155,104 rows \t 48 columns\n"
     ]
    },
    {
     "data": {
      "text/html": [
       "<div>\n",
       "<style scoped>\n",
       "    .dataframe tbody tr th:only-of-type {\n",
       "        vertical-align: middle;\n",
       "    }\n",
       "\n",
       "    .dataframe tbody tr th {\n",
       "        vertical-align: top;\n",
       "    }\n",
       "\n",
       "    .dataframe thead th {\n",
       "        text-align: right;\n",
       "    }\n",
       "</style>\n",
       "<table border=\"1\" class=\"dataframe\">\n",
       "  <thead>\n",
       "    <tr style=\"text-align: right;\">\n",
       "      <th></th>\n",
       "      <th>#ID(s) interactor A</th>\n",
       "      <th>ID(s) interactor B</th>\n",
       "      <th>Alt. ID(s) interactor A</th>\n",
       "      <th>Alt. ID(s) interactor B</th>\n",
       "      <th>Alias(es) interactor A</th>\n",
       "      <th>Alias(es) interactor B</th>\n",
       "      <th>Interaction detection method(s)</th>\n",
       "      <th>Publication 1st author(s)</th>\n",
       "      <th>Publication Identifier(s)</th>\n",
       "      <th>Taxid interactor A</th>\n",
       "      <th>...</th>\n",
       "      <th>Stoichiometry(s) interactor A</th>\n",
       "      <th>Stoichiometry(s) interactor B</th>\n",
       "      <th>Identification method participant A</th>\n",
       "      <th>Identification method participant B</th>\n",
       "      <th>All IDs interactor A</th>\n",
       "      <th>All IDs interactor B</th>\n",
       "      <th>uniprotkb_IDs_A</th>\n",
       "      <th>uniprotkb_IDs_B</th>\n",
       "      <th>first_uniprotkb_IDs_A</th>\n",
       "      <th>first_uniprotkb_IDs_B</th>\n",
       "    </tr>\n",
       "  </thead>\n",
       "  <tbody>\n",
       "    <tr>\n",
       "      <th>0</th>\n",
       "      <td>uniprotkb:P49418</td>\n",
       "      <td>uniprotkb:O43426</td>\n",
       "      <td>intact:EBI-7121510|uniprotkb:Q75MK5|uniprotkb:...</td>\n",
       "      <td>intact:EBI-2821539|uniprotkb:O43425|uniprotkb:...</td>\n",
       "      <td>psi-mi:amph_human(display_long)|uniprotkb:AMPH...</td>\n",
       "      <td>psi-mi:synj1_human(display_long)|uniprotkb:SYN...</td>\n",
       "      <td>psi-mi:\"MI:0084\"(phage display)</td>\n",
       "      <td>Cestra et al. (1999)</td>\n",
       "      <td>pubmed:10542231|mint:MINT-5211933</td>\n",
       "      <td>taxid:9606(human)|taxid:9606(Homo sapiens)</td>\n",
       "      <td>...</td>\n",
       "      <td>-</td>\n",
       "      <td>-</td>\n",
       "      <td>psi-mi:\"MI:0078\"(nucleotide sequence identific...</td>\n",
       "      <td>psi-mi:\"MI:0078\"(nucleotide sequence identific...</td>\n",
       "      <td>uniprotkb:P49418|intact:EBI-7121510|uniprotkb:...</td>\n",
       "      <td>uniprotkb:O43426|intact:EBI-2821539|uniprotkb:...</td>\n",
       "      <td>P49418|Q75MK5|Q75MM3|A4D1X9|O43538|A4D1X8|Q75M...</td>\n",
       "      <td>O43426|O43425|O94984|Q4KMR1</td>\n",
       "      <td>P49418</td>\n",
       "      <td>O43426</td>\n",
       "    </tr>\n",
       "    <tr>\n",
       "      <th>1</th>\n",
       "      <td>uniprotkb:P49418</td>\n",
       "      <td>intact:EBI-7121639</td>\n",
       "      <td>intact:EBI-7121510|uniprotkb:Q75MK5|uniprotkb:...</td>\n",
       "      <td>intact:MINT-8094608</td>\n",
       "      <td>psi-mi:amph_human(display_long)|uniprotkb:AMPH...</td>\n",
       "      <td>psi-mi:vrparrvlw(display_short)|psi-mi:EBI-712...</td>\n",
       "      <td>psi-mi:\"MI:0084\"(phage display)</td>\n",
       "      <td>Cestra et al. (1999)</td>\n",
       "      <td>pubmed:10542231|mint:MINT-5211933</td>\n",
       "      <td>taxid:9606(human)|taxid:9606(Homo sapiens)</td>\n",
       "      <td>...</td>\n",
       "      <td>-</td>\n",
       "      <td>-</td>\n",
       "      <td>psi-mi:\"MI:0078\"(nucleotide sequence identific...</td>\n",
       "      <td>psi-mi:\"MI:0083\"(peptide synthesis)</td>\n",
       "      <td>uniprotkb:P49418|intact:EBI-7121510|uniprotkb:...</td>\n",
       "      <td>intact:EBI-7121639|intact:MINT-8094608</td>\n",
       "      <td>P49418|Q75MK5|Q75MM3|A4D1X9|O43538|A4D1X8|Q75M...</td>\n",
       "      <td></td>\n",
       "      <td>P49418</td>\n",
       "      <td></td>\n",
       "    </tr>\n",
       "    <tr>\n",
       "      <th>2</th>\n",
       "      <td>uniprotkb:P49418</td>\n",
       "      <td>intact:EBI-7121654</td>\n",
       "      <td>intact:EBI-7121510|uniprotkb:Q75MK5|uniprotkb:...</td>\n",
       "      <td>intact:MINT-8094645</td>\n",
       "      <td>psi-mi:amph_human(display_long)|uniprotkb:AMPH...</td>\n",
       "      <td>psi-mi:hrpvrraap(display_short)|psi-mi:EBI-712...</td>\n",
       "      <td>psi-mi:\"MI:0084\"(phage display)</td>\n",
       "      <td>Cestra et al. (1999)</td>\n",
       "      <td>pubmed:10542231|mint:MINT-5211933</td>\n",
       "      <td>taxid:9606(human)|taxid:9606(Homo sapiens)</td>\n",
       "      <td>...</td>\n",
       "      <td>-</td>\n",
       "      <td>-</td>\n",
       "      <td>psi-mi:\"MI:0078\"(nucleotide sequence identific...</td>\n",
       "      <td>psi-mi:\"MI:0083\"(peptide synthesis)</td>\n",
       "      <td>uniprotkb:P49418|intact:EBI-7121510|uniprotkb:...</td>\n",
       "      <td>intact:EBI-7121654|intact:MINT-8094645</td>\n",
       "      <td>P49418|Q75MK5|Q75MM3|A4D1X9|O43538|A4D1X8|Q75M...</td>\n",
       "      <td></td>\n",
       "      <td>P49418</td>\n",
       "      <td></td>\n",
       "    </tr>\n",
       "    <tr>\n",
       "      <th>3</th>\n",
       "      <td>uniprotkb:P49418</td>\n",
       "      <td>intact:EBI-7121715</td>\n",
       "      <td>intact:EBI-7121510|uniprotkb:Q75MK5|uniprotkb:...</td>\n",
       "      <td>intact:MINT-8094663</td>\n",
       "      <td>psi-mi:amph_human(display_long)|uniprotkb:AMPH...</td>\n",
       "      <td>psi-mi:vrptraada(display_short)|psi-mi:EBI-712...</td>\n",
       "      <td>psi-mi:\"MI:0084\"(phage display)</td>\n",
       "      <td>Cestra et al. (1999)</td>\n",
       "      <td>pubmed:10542231|mint:MINT-5211933</td>\n",
       "      <td>taxid:9606(human)|taxid:9606(Homo sapiens)</td>\n",
       "      <td>...</td>\n",
       "      <td>-</td>\n",
       "      <td>-</td>\n",
       "      <td>psi-mi:\"MI:0078\"(nucleotide sequence identific...</td>\n",
       "      <td>psi-mi:\"MI:0083\"(peptide synthesis)</td>\n",
       "      <td>uniprotkb:P49418|intact:EBI-7121510|uniprotkb:...</td>\n",
       "      <td>intact:EBI-7121715|intact:MINT-8094663</td>\n",
       "      <td>P49418|Q75MK5|Q75MM3|A4D1X9|O43538|A4D1X8|Q75M...</td>\n",
       "      <td></td>\n",
       "      <td>P49418</td>\n",
       "      <td></td>\n",
       "    </tr>\n",
       "    <tr>\n",
       "      <th>4</th>\n",
       "      <td>intact:EBI-7121765</td>\n",
       "      <td>uniprotkb:P49418</td>\n",
       "      <td>intact:MINT-8094691</td>\n",
       "      <td>intact:EBI-7121510|uniprotkb:Q75MK5|uniprotkb:...</td>\n",
       "      <td>psi-mi:xrprrghal(display_short)|psi-mi:EBI-712...</td>\n",
       "      <td>psi-mi:amph_human(display_long)|uniprotkb:AMPH...</td>\n",
       "      <td>psi-mi:\"MI:0084\"(phage display)</td>\n",
       "      <td>Cestra et al. (1999)</td>\n",
       "      <td>pubmed:10542231|mint:MINT-5211933</td>\n",
       "      <td>taxid:-2(chemical synthesis)|taxid:-2(\"Chemica...</td>\n",
       "      <td>...</td>\n",
       "      <td>-</td>\n",
       "      <td>-</td>\n",
       "      <td>psi-mi:\"MI:0083\"(peptide synthesis)</td>\n",
       "      <td>psi-mi:\"MI:0078\"(nucleotide sequence identific...</td>\n",
       "      <td>intact:EBI-7121765|intact:MINT-8094691</td>\n",
       "      <td>uniprotkb:P49418|intact:EBI-7121510|uniprotkb:...</td>\n",
       "      <td></td>\n",
       "      <td>P49418|Q75MK5|Q75MM3|A4D1X9|O43538|A4D1X8|Q75M...</td>\n",
       "      <td></td>\n",
       "      <td>P49418</td>\n",
       "    </tr>\n",
       "  </tbody>\n",
       "</table>\n",
       "<p>5 rows × 48 columns</p>\n",
       "</div>"
      ],
      "text/plain": [
       "  #ID(s) interactor A  ID(s) interactor B  \\\n",
       "0    uniprotkb:P49418    uniprotkb:O43426   \n",
       "1    uniprotkb:P49418  intact:EBI-7121639   \n",
       "2    uniprotkb:P49418  intact:EBI-7121654   \n",
       "3    uniprotkb:P49418  intact:EBI-7121715   \n",
       "4  intact:EBI-7121765    uniprotkb:P49418   \n",
       "\n",
       "                             Alt. ID(s) interactor A  \\\n",
       "0  intact:EBI-7121510|uniprotkb:Q75MK5|uniprotkb:...   \n",
       "1  intact:EBI-7121510|uniprotkb:Q75MK5|uniprotkb:...   \n",
       "2  intact:EBI-7121510|uniprotkb:Q75MK5|uniprotkb:...   \n",
       "3  intact:EBI-7121510|uniprotkb:Q75MK5|uniprotkb:...   \n",
       "4                                intact:MINT-8094691   \n",
       "\n",
       "                             Alt. ID(s) interactor B  \\\n",
       "0  intact:EBI-2821539|uniprotkb:O43425|uniprotkb:...   \n",
       "1                                intact:MINT-8094608   \n",
       "2                                intact:MINT-8094645   \n",
       "3                                intact:MINT-8094663   \n",
       "4  intact:EBI-7121510|uniprotkb:Q75MK5|uniprotkb:...   \n",
       "\n",
       "                              Alias(es) interactor A  \\\n",
       "0  psi-mi:amph_human(display_long)|uniprotkb:AMPH...   \n",
       "1  psi-mi:amph_human(display_long)|uniprotkb:AMPH...   \n",
       "2  psi-mi:amph_human(display_long)|uniprotkb:AMPH...   \n",
       "3  psi-mi:amph_human(display_long)|uniprotkb:AMPH...   \n",
       "4  psi-mi:xrprrghal(display_short)|psi-mi:EBI-712...   \n",
       "\n",
       "                              Alias(es) interactor B  \\\n",
       "0  psi-mi:synj1_human(display_long)|uniprotkb:SYN...   \n",
       "1  psi-mi:vrparrvlw(display_short)|psi-mi:EBI-712...   \n",
       "2  psi-mi:hrpvrraap(display_short)|psi-mi:EBI-712...   \n",
       "3  psi-mi:vrptraada(display_short)|psi-mi:EBI-712...   \n",
       "4  psi-mi:amph_human(display_long)|uniprotkb:AMPH...   \n",
       "\n",
       "   Interaction detection method(s) Publication 1st author(s)  \\\n",
       "0  psi-mi:\"MI:0084\"(phage display)      Cestra et al. (1999)   \n",
       "1  psi-mi:\"MI:0084\"(phage display)      Cestra et al. (1999)   \n",
       "2  psi-mi:\"MI:0084\"(phage display)      Cestra et al. (1999)   \n",
       "3  psi-mi:\"MI:0084\"(phage display)      Cestra et al. (1999)   \n",
       "4  psi-mi:\"MI:0084\"(phage display)      Cestra et al. (1999)   \n",
       "\n",
       "           Publication Identifier(s)  \\\n",
       "0  pubmed:10542231|mint:MINT-5211933   \n",
       "1  pubmed:10542231|mint:MINT-5211933   \n",
       "2  pubmed:10542231|mint:MINT-5211933   \n",
       "3  pubmed:10542231|mint:MINT-5211933   \n",
       "4  pubmed:10542231|mint:MINT-5211933   \n",
       "\n",
       "                                  Taxid interactor A  ...  \\\n",
       "0         taxid:9606(human)|taxid:9606(Homo sapiens)  ...   \n",
       "1         taxid:9606(human)|taxid:9606(Homo sapiens)  ...   \n",
       "2         taxid:9606(human)|taxid:9606(Homo sapiens)  ...   \n",
       "3         taxid:9606(human)|taxid:9606(Homo sapiens)  ...   \n",
       "4  taxid:-2(chemical synthesis)|taxid:-2(\"Chemica...  ...   \n",
       "\n",
       "  Stoichiometry(s) interactor A Stoichiometry(s) interactor B  \\\n",
       "0                             -                             -   \n",
       "1                             -                             -   \n",
       "2                             -                             -   \n",
       "3                             -                             -   \n",
       "4                             -                             -   \n",
       "\n",
       "                 Identification method participant A  \\\n",
       "0  psi-mi:\"MI:0078\"(nucleotide sequence identific...   \n",
       "1  psi-mi:\"MI:0078\"(nucleotide sequence identific...   \n",
       "2  psi-mi:\"MI:0078\"(nucleotide sequence identific...   \n",
       "3  psi-mi:\"MI:0078\"(nucleotide sequence identific...   \n",
       "4                psi-mi:\"MI:0083\"(peptide synthesis)   \n",
       "\n",
       "                 Identification method participant B  \\\n",
       "0  psi-mi:\"MI:0078\"(nucleotide sequence identific...   \n",
       "1                psi-mi:\"MI:0083\"(peptide synthesis)   \n",
       "2                psi-mi:\"MI:0083\"(peptide synthesis)   \n",
       "3                psi-mi:\"MI:0083\"(peptide synthesis)   \n",
       "4  psi-mi:\"MI:0078\"(nucleotide sequence identific...   \n",
       "\n",
       "                                All IDs interactor A  \\\n",
       "0  uniprotkb:P49418|intact:EBI-7121510|uniprotkb:...   \n",
       "1  uniprotkb:P49418|intact:EBI-7121510|uniprotkb:...   \n",
       "2  uniprotkb:P49418|intact:EBI-7121510|uniprotkb:...   \n",
       "3  uniprotkb:P49418|intact:EBI-7121510|uniprotkb:...   \n",
       "4             intact:EBI-7121765|intact:MINT-8094691   \n",
       "\n",
       "                                All IDs interactor B  \\\n",
       "0  uniprotkb:O43426|intact:EBI-2821539|uniprotkb:...   \n",
       "1             intact:EBI-7121639|intact:MINT-8094608   \n",
       "2             intact:EBI-7121654|intact:MINT-8094645   \n",
       "3             intact:EBI-7121715|intact:MINT-8094663   \n",
       "4  uniprotkb:P49418|intact:EBI-7121510|uniprotkb:...   \n",
       "\n",
       "                                     uniprotkb_IDs_A  \\\n",
       "0  P49418|Q75MK5|Q75MM3|A4D1X9|O43538|A4D1X8|Q75M...   \n",
       "1  P49418|Q75MK5|Q75MM3|A4D1X9|O43538|A4D1X8|Q75M...   \n",
       "2  P49418|Q75MK5|Q75MM3|A4D1X9|O43538|A4D1X8|Q75M...   \n",
       "3  P49418|Q75MK5|Q75MM3|A4D1X9|O43538|A4D1X8|Q75M...   \n",
       "4                                                      \n",
       "\n",
       "                                     uniprotkb_IDs_B first_uniprotkb_IDs_A  \\\n",
       "0                        O43426|O43425|O94984|Q4KMR1                P49418   \n",
       "1                                                                   P49418   \n",
       "2                                                                   P49418   \n",
       "3                                                                   P49418   \n",
       "4  P49418|Q75MK5|Q75MM3|A4D1X9|O43538|A4D1X8|Q75M...                         \n",
       "\n",
       "  first_uniprotkb_IDs_B  \n",
       "0                O43426  \n",
       "1                        \n",
       "2                        \n",
       "3                        \n",
       "4                P49418  \n",
       "\n",
       "[5 rows x 48 columns]"
      ]
     },
     "metadata": {},
     "output_type": "display_data"
    }
   ],
   "source": [
    "regex1 = re.compile(r\"(?<=uniprotkb:)[\\w]+\")\n",
    "\n",
    "dfIntAct.loc[:,'uniprotkb_IDs_A'] = ['|'.join(m) for m in (re.findall(regex1, line) for line in dfIntAct.loc[:,\"All IDs interactor A\"])]\n",
    "dfIntAct.loc[:,'uniprotkb_IDs_B'] = ['|'.join(m) for m in (re.findall(regex1, line) for line in dfIntAct.loc[:,\"All IDs interactor B\"])]\n",
    "\n",
    "dfIntAct.loc[:,'first_uniprotkb_IDs_A'] = [m.group() if m else '' for m in (regex1.search(line) for line in dfIntAct.loc[:,\"All IDs interactor A\"])]\n",
    "dfIntAct.loc[:,'first_uniprotkb_IDs_B'] = [m.group() if m else '' for m in (regex1.search(line) for line in dfIntAct.loc[:,\"All IDs interactor B\"])]\n",
    "\n",
    "glance(dfIntAct)"
   ]
  },
  {
   "cell_type": "markdown",
   "metadata": {},
   "source": [
    "*Remove interactions with missing IDs*"
   ]
  },
  {
   "cell_type": "code",
   "execution_count": 12,
   "metadata": {
    "execution": {
     "iopub.execute_input": "2022-01-10T13:14:41.838812Z",
     "iopub.status.busy": "2022-01-10T13:14:41.838638Z",
     "iopub.status.idle": "2022-01-10T13:14:44.843944Z",
     "shell.execute_reply": "2022-01-10T13:14:44.842493Z",
     "shell.execute_reply.started": "2022-01-10T13:14:41.838784Z"
    }
   },
   "outputs": [
    {
     "name": "stdout",
     "output_type": "stream",
     "text": [
      "88,897/1,155,104 (7.7%) of the interactions have at least one interactor without uniprotKB ID\n"
     ]
    }
   ],
   "source": [
    "foo = (dfIntAct.first_uniprotkb_IDs_A == '')|(dfIntAct.first_uniprotkb_IDs_B == '')\n",
    "\n",
    "print('{:,}/{:,} ({:.1%}) of the interactions have at least one interactor without uniprotKB ID'.format(\n",
    "    len(dfIntAct.loc[foo]),\n",
    "    len(dfIntAct),\n",
    "    len(dfIntAct.loc[foo])/len(dfIntAct)\n",
    "\n",
    "))"
   ]
  },
  {
   "cell_type": "code",
   "execution_count": 13,
   "metadata": {
    "execution": {
     "iopub.execute_input": "2022-01-10T13:14:44.846356Z",
     "iopub.status.busy": "2022-01-10T13:14:44.845701Z",
     "iopub.status.idle": "2022-01-10T13:14:45.730338Z",
     "shell.execute_reply": "2022-01-10T13:14:45.729591Z",
     "shell.execute_reply.started": "2022-01-10T13:14:44.846135Z"
    }
   },
   "outputs": [
    {
     "name": "stdout",
     "output_type": "stream",
     "text": [
      "DataFrame: 1,066,207 rows \t 48 columns\n"
     ]
    },
    {
     "data": {
      "text/html": [
       "<div>\n",
       "<style scoped>\n",
       "    .dataframe tbody tr th:only-of-type {\n",
       "        vertical-align: middle;\n",
       "    }\n",
       "\n",
       "    .dataframe tbody tr th {\n",
       "        vertical-align: top;\n",
       "    }\n",
       "\n",
       "    .dataframe thead th {\n",
       "        text-align: right;\n",
       "    }\n",
       "</style>\n",
       "<table border=\"1\" class=\"dataframe\">\n",
       "  <thead>\n",
       "    <tr style=\"text-align: right;\">\n",
       "      <th></th>\n",
       "      <th>#ID(s) interactor A</th>\n",
       "      <th>ID(s) interactor B</th>\n",
       "      <th>Alt. ID(s) interactor A</th>\n",
       "      <th>Alt. ID(s) interactor B</th>\n",
       "      <th>Alias(es) interactor A</th>\n",
       "      <th>Alias(es) interactor B</th>\n",
       "      <th>Interaction detection method(s)</th>\n",
       "      <th>Publication 1st author(s)</th>\n",
       "      <th>Publication Identifier(s)</th>\n",
       "      <th>Taxid interactor A</th>\n",
       "      <th>...</th>\n",
       "      <th>Stoichiometry(s) interactor A</th>\n",
       "      <th>Stoichiometry(s) interactor B</th>\n",
       "      <th>Identification method participant A</th>\n",
       "      <th>Identification method participant B</th>\n",
       "      <th>All IDs interactor A</th>\n",
       "      <th>All IDs interactor B</th>\n",
       "      <th>uniprotkb_IDs_A</th>\n",
       "      <th>uniprotkb_IDs_B</th>\n",
       "      <th>first_uniprotkb_IDs_A</th>\n",
       "      <th>first_uniprotkb_IDs_B</th>\n",
       "    </tr>\n",
       "  </thead>\n",
       "  <tbody>\n",
       "    <tr>\n",
       "      <th>0</th>\n",
       "      <td>uniprotkb:P49418</td>\n",
       "      <td>uniprotkb:O43426</td>\n",
       "      <td>intact:EBI-7121510|uniprotkb:Q75MK5|uniprotkb:...</td>\n",
       "      <td>intact:EBI-2821539|uniprotkb:O43425|uniprotkb:...</td>\n",
       "      <td>psi-mi:amph_human(display_long)|uniprotkb:AMPH...</td>\n",
       "      <td>psi-mi:synj1_human(display_long)|uniprotkb:SYN...</td>\n",
       "      <td>psi-mi:\"MI:0084\"(phage display)</td>\n",
       "      <td>Cestra et al. (1999)</td>\n",
       "      <td>pubmed:10542231|mint:MINT-5211933</td>\n",
       "      <td>taxid:9606(human)|taxid:9606(Homo sapiens)</td>\n",
       "      <td>...</td>\n",
       "      <td>-</td>\n",
       "      <td>-</td>\n",
       "      <td>psi-mi:\"MI:0078\"(nucleotide sequence identific...</td>\n",
       "      <td>psi-mi:\"MI:0078\"(nucleotide sequence identific...</td>\n",
       "      <td>uniprotkb:P49418|intact:EBI-7121510|uniprotkb:...</td>\n",
       "      <td>uniprotkb:O43426|intact:EBI-2821539|uniprotkb:...</td>\n",
       "      <td>P49418|Q75MK5|Q75MM3|A4D1X9|O43538|A4D1X8|Q75M...</td>\n",
       "      <td>O43426|O43425|O94984|Q4KMR1</td>\n",
       "      <td>P49418</td>\n",
       "      <td>O43426</td>\n",
       "    </tr>\n",
       "    <tr>\n",
       "      <th>28</th>\n",
       "      <td>uniprotkb:P49418</td>\n",
       "      <td>uniprotkb:O43426</td>\n",
       "      <td>intact:EBI-7121510|uniprotkb:Q75MK5|uniprotkb:...</td>\n",
       "      <td>intact:EBI-2821539|uniprotkb:O43425|uniprotkb:...</td>\n",
       "      <td>psi-mi:amph_human(display_long)|uniprotkb:AMPH...</td>\n",
       "      <td>psi-mi:synj1_human(display_long)|uniprotkb:SYN...</td>\n",
       "      <td>psi-mi:\"MI:0081\"(peptide array)</td>\n",
       "      <td>Cestra et al. (1999)</td>\n",
       "      <td>pubmed:10542231|mint:MINT-5211933</td>\n",
       "      <td>taxid:9606(human)|taxid:9606(Homo sapiens)</td>\n",
       "      <td>...</td>\n",
       "      <td>-</td>\n",
       "      <td>-</td>\n",
       "      <td>psi-mi:\"MI:0411\"(enzyme linked immunosorbent a...</td>\n",
       "      <td>psi-mi:\"MI:0083\"(peptide synthesis)</td>\n",
       "      <td>uniprotkb:P49418|intact:EBI-7121510|uniprotkb:...</td>\n",
       "      <td>uniprotkb:O43426|intact:EBI-2821539|uniprotkb:...</td>\n",
       "      <td>P49418|Q75MK5|Q75MM3|A4D1X9|O43538|A4D1X8|Q75M...</td>\n",
       "      <td>O43426|O43425|O94984|Q4KMR1</td>\n",
       "      <td>P49418</td>\n",
       "      <td>O43426</td>\n",
       "    </tr>\n",
       "    <tr>\n",
       "      <th>29</th>\n",
       "      <td>uniprotkb:P49418</td>\n",
       "      <td>uniprotkb:O43426</td>\n",
       "      <td>intact:EBI-7121510|uniprotkb:Q75MK5|uniprotkb:...</td>\n",
       "      <td>intact:EBI-2821539|uniprotkb:O43425|uniprotkb:...</td>\n",
       "      <td>psi-mi:amph_human(display_long)|uniprotkb:AMPH...</td>\n",
       "      <td>psi-mi:synj1_human(display_long)|uniprotkb:SYN...</td>\n",
       "      <td>psi-mi:\"MI:0081\"(peptide array)</td>\n",
       "      <td>Cestra et al. (1999)</td>\n",
       "      <td>pubmed:10542231|mint:MINT-5211933</td>\n",
       "      <td>taxid:9606(human)|taxid:9606(Homo sapiens)</td>\n",
       "      <td>...</td>\n",
       "      <td>-</td>\n",
       "      <td>-</td>\n",
       "      <td>psi-mi:\"MI:0411\"(enzyme linked immunosorbent a...</td>\n",
       "      <td>psi-mi:\"MI:0083\"(peptide synthesis)</td>\n",
       "      <td>uniprotkb:P49418|intact:EBI-7121510|uniprotkb:...</td>\n",
       "      <td>uniprotkb:O43426|intact:EBI-2821539|uniprotkb:...</td>\n",
       "      <td>P49418|Q75MK5|Q75MM3|A4D1X9|O43538|A4D1X8|Q75M...</td>\n",
       "      <td>O43426|O43425|O94984|Q4KMR1</td>\n",
       "      <td>P49418</td>\n",
       "      <td>O43426</td>\n",
       "    </tr>\n",
       "    <tr>\n",
       "      <th>30</th>\n",
       "      <td>uniprotkb:P49418</td>\n",
       "      <td>uniprotkb:O43426</td>\n",
       "      <td>intact:EBI-7121510|uniprotkb:Q75MK5|uniprotkb:...</td>\n",
       "      <td>intact:EBI-2821539|uniprotkb:O43425|uniprotkb:...</td>\n",
       "      <td>psi-mi:amph_human(display_long)|uniprotkb:AMPH...</td>\n",
       "      <td>psi-mi:synj1_human(display_long)|uniprotkb:SYN...</td>\n",
       "      <td>psi-mi:\"MI:0081\"(peptide array)</td>\n",
       "      <td>Cestra et al. (1999)</td>\n",
       "      <td>pubmed:10542231|mint:MINT-5211933</td>\n",
       "      <td>taxid:9606(human)|taxid:9606(Homo sapiens)</td>\n",
       "      <td>...</td>\n",
       "      <td>-</td>\n",
       "      <td>-</td>\n",
       "      <td>psi-mi:\"MI:0411\"(enzyme linked immunosorbent a...</td>\n",
       "      <td>psi-mi:\"MI:0083\"(peptide synthesis)</td>\n",
       "      <td>uniprotkb:P49418|intact:EBI-7121510|uniprotkb:...</td>\n",
       "      <td>uniprotkb:O43426|intact:EBI-2821539|uniprotkb:...</td>\n",
       "      <td>P49418|Q75MK5|Q75MM3|A4D1X9|O43538|A4D1X8|Q75M...</td>\n",
       "      <td>O43426|O43425|O94984|Q4KMR1</td>\n",
       "      <td>P49418</td>\n",
       "      <td>O43426</td>\n",
       "    </tr>\n",
       "    <tr>\n",
       "      <th>31</th>\n",
       "      <td>uniprotkb:Q99961</td>\n",
       "      <td>uniprotkb:O43426</td>\n",
       "      <td>intact:EBI-697911|uniprotkb:Q99668|uniprotkb:B...</td>\n",
       "      <td>intact:EBI-2821539|uniprotkb:O43425|uniprotkb:...</td>\n",
       "      <td>psi-mi:sh3g1_human(display_long)|uniprotkb:End...</td>\n",
       "      <td>psi-mi:synj1_human(display_long)|uniprotkb:SYN...</td>\n",
       "      <td>psi-mi:\"MI:0081\"(peptide array)</td>\n",
       "      <td>Cestra et al. (1999)</td>\n",
       "      <td>pubmed:10542231|mint:MINT-5211933</td>\n",
       "      <td>taxid:9606(human)|taxid:9606(Homo sapiens)</td>\n",
       "      <td>...</td>\n",
       "      <td>-</td>\n",
       "      <td>-</td>\n",
       "      <td>psi-mi:\"MI:0411\"(enzyme linked immunosorbent a...</td>\n",
       "      <td>psi-mi:\"MI:0083\"(peptide synthesis)</td>\n",
       "      <td>uniprotkb:Q99961|intact:EBI-697911|uniprotkb:Q...</td>\n",
       "      <td>uniprotkb:O43426|intact:EBI-2821539|uniprotkb:...</td>\n",
       "      <td>Q99961|Q99668|B4DRA1|E7EVZ4|M0QZV5</td>\n",
       "      <td>O43426|O43425|O94984|Q4KMR1</td>\n",
       "      <td>Q99961</td>\n",
       "      <td>O43426</td>\n",
       "    </tr>\n",
       "  </tbody>\n",
       "</table>\n",
       "<p>5 rows × 48 columns</p>\n",
       "</div>"
      ],
      "text/plain": [
       "   #ID(s) interactor A ID(s) interactor B  \\\n",
       "0     uniprotkb:P49418   uniprotkb:O43426   \n",
       "28    uniprotkb:P49418   uniprotkb:O43426   \n",
       "29    uniprotkb:P49418   uniprotkb:O43426   \n",
       "30    uniprotkb:P49418   uniprotkb:O43426   \n",
       "31    uniprotkb:Q99961   uniprotkb:O43426   \n",
       "\n",
       "                              Alt. ID(s) interactor A  \\\n",
       "0   intact:EBI-7121510|uniprotkb:Q75MK5|uniprotkb:...   \n",
       "28  intact:EBI-7121510|uniprotkb:Q75MK5|uniprotkb:...   \n",
       "29  intact:EBI-7121510|uniprotkb:Q75MK5|uniprotkb:...   \n",
       "30  intact:EBI-7121510|uniprotkb:Q75MK5|uniprotkb:...   \n",
       "31  intact:EBI-697911|uniprotkb:Q99668|uniprotkb:B...   \n",
       "\n",
       "                              Alt. ID(s) interactor B  \\\n",
       "0   intact:EBI-2821539|uniprotkb:O43425|uniprotkb:...   \n",
       "28  intact:EBI-2821539|uniprotkb:O43425|uniprotkb:...   \n",
       "29  intact:EBI-2821539|uniprotkb:O43425|uniprotkb:...   \n",
       "30  intact:EBI-2821539|uniprotkb:O43425|uniprotkb:...   \n",
       "31  intact:EBI-2821539|uniprotkb:O43425|uniprotkb:...   \n",
       "\n",
       "                               Alias(es) interactor A  \\\n",
       "0   psi-mi:amph_human(display_long)|uniprotkb:AMPH...   \n",
       "28  psi-mi:amph_human(display_long)|uniprotkb:AMPH...   \n",
       "29  psi-mi:amph_human(display_long)|uniprotkb:AMPH...   \n",
       "30  psi-mi:amph_human(display_long)|uniprotkb:AMPH...   \n",
       "31  psi-mi:sh3g1_human(display_long)|uniprotkb:End...   \n",
       "\n",
       "                               Alias(es) interactor B  \\\n",
       "0   psi-mi:synj1_human(display_long)|uniprotkb:SYN...   \n",
       "28  psi-mi:synj1_human(display_long)|uniprotkb:SYN...   \n",
       "29  psi-mi:synj1_human(display_long)|uniprotkb:SYN...   \n",
       "30  psi-mi:synj1_human(display_long)|uniprotkb:SYN...   \n",
       "31  psi-mi:synj1_human(display_long)|uniprotkb:SYN...   \n",
       "\n",
       "    Interaction detection method(s) Publication 1st author(s)  \\\n",
       "0   psi-mi:\"MI:0084\"(phage display)      Cestra et al. (1999)   \n",
       "28  psi-mi:\"MI:0081\"(peptide array)      Cestra et al. (1999)   \n",
       "29  psi-mi:\"MI:0081\"(peptide array)      Cestra et al. (1999)   \n",
       "30  psi-mi:\"MI:0081\"(peptide array)      Cestra et al. (1999)   \n",
       "31  psi-mi:\"MI:0081\"(peptide array)      Cestra et al. (1999)   \n",
       "\n",
       "            Publication Identifier(s)  \\\n",
       "0   pubmed:10542231|mint:MINT-5211933   \n",
       "28  pubmed:10542231|mint:MINT-5211933   \n",
       "29  pubmed:10542231|mint:MINT-5211933   \n",
       "30  pubmed:10542231|mint:MINT-5211933   \n",
       "31  pubmed:10542231|mint:MINT-5211933   \n",
       "\n",
       "                            Taxid interactor A  ...  \\\n",
       "0   taxid:9606(human)|taxid:9606(Homo sapiens)  ...   \n",
       "28  taxid:9606(human)|taxid:9606(Homo sapiens)  ...   \n",
       "29  taxid:9606(human)|taxid:9606(Homo sapiens)  ...   \n",
       "30  taxid:9606(human)|taxid:9606(Homo sapiens)  ...   \n",
       "31  taxid:9606(human)|taxid:9606(Homo sapiens)  ...   \n",
       "\n",
       "   Stoichiometry(s) interactor A Stoichiometry(s) interactor B  \\\n",
       "0                              -                             -   \n",
       "28                             -                             -   \n",
       "29                             -                             -   \n",
       "30                             -                             -   \n",
       "31                             -                             -   \n",
       "\n",
       "                  Identification method participant A  \\\n",
       "0   psi-mi:\"MI:0078\"(nucleotide sequence identific...   \n",
       "28  psi-mi:\"MI:0411\"(enzyme linked immunosorbent a...   \n",
       "29  psi-mi:\"MI:0411\"(enzyme linked immunosorbent a...   \n",
       "30  psi-mi:\"MI:0411\"(enzyme linked immunosorbent a...   \n",
       "31  psi-mi:\"MI:0411\"(enzyme linked immunosorbent a...   \n",
       "\n",
       "                  Identification method participant B  \\\n",
       "0   psi-mi:\"MI:0078\"(nucleotide sequence identific...   \n",
       "28                psi-mi:\"MI:0083\"(peptide synthesis)   \n",
       "29                psi-mi:\"MI:0083\"(peptide synthesis)   \n",
       "30                psi-mi:\"MI:0083\"(peptide synthesis)   \n",
       "31                psi-mi:\"MI:0083\"(peptide synthesis)   \n",
       "\n",
       "                                 All IDs interactor A  \\\n",
       "0   uniprotkb:P49418|intact:EBI-7121510|uniprotkb:...   \n",
       "28  uniprotkb:P49418|intact:EBI-7121510|uniprotkb:...   \n",
       "29  uniprotkb:P49418|intact:EBI-7121510|uniprotkb:...   \n",
       "30  uniprotkb:P49418|intact:EBI-7121510|uniprotkb:...   \n",
       "31  uniprotkb:Q99961|intact:EBI-697911|uniprotkb:Q...   \n",
       "\n",
       "                                 All IDs interactor B  \\\n",
       "0   uniprotkb:O43426|intact:EBI-2821539|uniprotkb:...   \n",
       "28  uniprotkb:O43426|intact:EBI-2821539|uniprotkb:...   \n",
       "29  uniprotkb:O43426|intact:EBI-2821539|uniprotkb:...   \n",
       "30  uniprotkb:O43426|intact:EBI-2821539|uniprotkb:...   \n",
       "31  uniprotkb:O43426|intact:EBI-2821539|uniprotkb:...   \n",
       "\n",
       "                                      uniprotkb_IDs_A  \\\n",
       "0   P49418|Q75MK5|Q75MM3|A4D1X9|O43538|A4D1X8|Q75M...   \n",
       "28  P49418|Q75MK5|Q75MM3|A4D1X9|O43538|A4D1X8|Q75M...   \n",
       "29  P49418|Q75MK5|Q75MM3|A4D1X9|O43538|A4D1X8|Q75M...   \n",
       "30  P49418|Q75MK5|Q75MM3|A4D1X9|O43538|A4D1X8|Q75M...   \n",
       "31                 Q99961|Q99668|B4DRA1|E7EVZ4|M0QZV5   \n",
       "\n",
       "                uniprotkb_IDs_B first_uniprotkb_IDs_A first_uniprotkb_IDs_B  \n",
       "0   O43426|O43425|O94984|Q4KMR1                P49418                O43426  \n",
       "28  O43426|O43425|O94984|Q4KMR1                P49418                O43426  \n",
       "29  O43426|O43425|O94984|Q4KMR1                P49418                O43426  \n",
       "30  O43426|O43425|O94984|Q4KMR1                P49418                O43426  \n",
       "31  O43426|O43425|O94984|Q4KMR1                Q99961                O43426  \n",
       "\n",
       "[5 rows x 48 columns]"
      ]
     },
     "metadata": {},
     "output_type": "display_data"
    }
   ],
   "source": [
    "dfIntAct_1 = dfIntAct.loc[\n",
    "    (dfIntAct.first_uniprotkb_IDs_A != '')&(dfIntAct.first_uniprotkb_IDs_B != '')\n",
    "]\n",
    "glance(dfIntAct_1)"
   ]
  },
  {
   "cell_type": "markdown",
   "metadata": {},
   "source": [
    "---\n",
    "**Human-human interactions**"
   ]
  },
  {
   "cell_type": "code",
   "execution_count": 14,
   "metadata": {
    "execution": {
     "iopub.execute_input": "2022-01-10T13:14:45.731216Z",
     "iopub.status.busy": "2022-01-10T13:14:45.731041Z",
     "iopub.status.idle": "2022-01-10T13:14:45.792557Z",
     "shell.execute_reply": "2022-01-10T13:14:45.791713Z",
     "shell.execute_reply.started": "2022-01-10T13:14:45.731190Z"
    }
   },
   "outputs": [
    {
     "name": "stdout",
     "output_type": "stream",
     "text": [
      "['taxid:9606(human)|taxid:9606(Homo sapiens)']\n"
     ]
    }
   ],
   "source": [
    "# Sanity check\n",
    "foo = list(set(dfIntAct_1['Taxid interactor A'].tolist() + dfIntAct_1['Taxid interactor A'].tolist()))\n",
    "bar = [s for s in foo if \":9606\" in s]\n",
    "print(bar)\n",
    "assert len(bar) == 1"
   ]
  },
  {
   "cell_type": "code",
   "execution_count": 15,
   "metadata": {
    "execution": {
     "iopub.execute_input": "2022-01-10T13:14:45.796570Z",
     "iopub.status.busy": "2022-01-10T13:14:45.795938Z",
     "iopub.status.idle": "2022-01-10T13:14:46.240353Z",
     "shell.execute_reply": "2022-01-10T13:14:46.239870Z",
     "shell.execute_reply.started": "2022-01-10T13:14:45.796385Z"
    }
   },
   "outputs": [
    {
     "name": "stdout",
     "output_type": "stream",
     "text": [
      "DataFrame: 574,531 rows \t 48 columns\n"
     ]
    },
    {
     "data": {
      "text/html": [
       "<div>\n",
       "<style scoped>\n",
       "    .dataframe tbody tr th:only-of-type {\n",
       "        vertical-align: middle;\n",
       "    }\n",
       "\n",
       "    .dataframe tbody tr th {\n",
       "        vertical-align: top;\n",
       "    }\n",
       "\n",
       "    .dataframe thead th {\n",
       "        text-align: right;\n",
       "    }\n",
       "</style>\n",
       "<table border=\"1\" class=\"dataframe\">\n",
       "  <thead>\n",
       "    <tr style=\"text-align: right;\">\n",
       "      <th></th>\n",
       "      <th>#ID(s) interactor A</th>\n",
       "      <th>ID(s) interactor B</th>\n",
       "      <th>Alt. ID(s) interactor A</th>\n",
       "      <th>Alt. ID(s) interactor B</th>\n",
       "      <th>Alias(es) interactor A</th>\n",
       "      <th>Alias(es) interactor B</th>\n",
       "      <th>Interaction detection method(s)</th>\n",
       "      <th>Publication 1st author(s)</th>\n",
       "      <th>Publication Identifier(s)</th>\n",
       "      <th>Taxid interactor A</th>\n",
       "      <th>...</th>\n",
       "      <th>Stoichiometry(s) interactor A</th>\n",
       "      <th>Stoichiometry(s) interactor B</th>\n",
       "      <th>Identification method participant A</th>\n",
       "      <th>Identification method participant B</th>\n",
       "      <th>All IDs interactor A</th>\n",
       "      <th>All IDs interactor B</th>\n",
       "      <th>uniprotkb_IDs_A</th>\n",
       "      <th>uniprotkb_IDs_B</th>\n",
       "      <th>first_uniprotkb_IDs_A</th>\n",
       "      <th>first_uniprotkb_IDs_B</th>\n",
       "    </tr>\n",
       "  </thead>\n",
       "  <tbody>\n",
       "    <tr>\n",
       "      <th>0</th>\n",
       "      <td>uniprotkb:P49418</td>\n",
       "      <td>uniprotkb:O43426</td>\n",
       "      <td>intact:EBI-7121510|uniprotkb:Q75MK5|uniprotkb:...</td>\n",
       "      <td>intact:EBI-2821539|uniprotkb:O43425|uniprotkb:...</td>\n",
       "      <td>psi-mi:amph_human(display_long)|uniprotkb:AMPH...</td>\n",
       "      <td>psi-mi:synj1_human(display_long)|uniprotkb:SYN...</td>\n",
       "      <td>psi-mi:\"MI:0084\"(phage display)</td>\n",
       "      <td>Cestra et al. (1999)</td>\n",
       "      <td>pubmed:10542231|mint:MINT-5211933</td>\n",
       "      <td>taxid:9606(human)|taxid:9606(Homo sapiens)</td>\n",
       "      <td>...</td>\n",
       "      <td>-</td>\n",
       "      <td>-</td>\n",
       "      <td>psi-mi:\"MI:0078\"(nucleotide sequence identific...</td>\n",
       "      <td>psi-mi:\"MI:0078\"(nucleotide sequence identific...</td>\n",
       "      <td>uniprotkb:P49418|intact:EBI-7121510|uniprotkb:...</td>\n",
       "      <td>uniprotkb:O43426|intact:EBI-2821539|uniprotkb:...</td>\n",
       "      <td>P49418|Q75MK5|Q75MM3|A4D1X9|O43538|A4D1X8|Q75M...</td>\n",
       "      <td>O43426|O43425|O94984|Q4KMR1</td>\n",
       "      <td>P49418</td>\n",
       "      <td>O43426</td>\n",
       "    </tr>\n",
       "    <tr>\n",
       "      <th>28</th>\n",
       "      <td>uniprotkb:P49418</td>\n",
       "      <td>uniprotkb:O43426</td>\n",
       "      <td>intact:EBI-7121510|uniprotkb:Q75MK5|uniprotkb:...</td>\n",
       "      <td>intact:EBI-2821539|uniprotkb:O43425|uniprotkb:...</td>\n",
       "      <td>psi-mi:amph_human(display_long)|uniprotkb:AMPH...</td>\n",
       "      <td>psi-mi:synj1_human(display_long)|uniprotkb:SYN...</td>\n",
       "      <td>psi-mi:\"MI:0081\"(peptide array)</td>\n",
       "      <td>Cestra et al. (1999)</td>\n",
       "      <td>pubmed:10542231|mint:MINT-5211933</td>\n",
       "      <td>taxid:9606(human)|taxid:9606(Homo sapiens)</td>\n",
       "      <td>...</td>\n",
       "      <td>-</td>\n",
       "      <td>-</td>\n",
       "      <td>psi-mi:\"MI:0411\"(enzyme linked immunosorbent a...</td>\n",
       "      <td>psi-mi:\"MI:0083\"(peptide synthesis)</td>\n",
       "      <td>uniprotkb:P49418|intact:EBI-7121510|uniprotkb:...</td>\n",
       "      <td>uniprotkb:O43426|intact:EBI-2821539|uniprotkb:...</td>\n",
       "      <td>P49418|Q75MK5|Q75MM3|A4D1X9|O43538|A4D1X8|Q75M...</td>\n",
       "      <td>O43426|O43425|O94984|Q4KMR1</td>\n",
       "      <td>P49418</td>\n",
       "      <td>O43426</td>\n",
       "    </tr>\n",
       "    <tr>\n",
       "      <th>29</th>\n",
       "      <td>uniprotkb:P49418</td>\n",
       "      <td>uniprotkb:O43426</td>\n",
       "      <td>intact:EBI-7121510|uniprotkb:Q75MK5|uniprotkb:...</td>\n",
       "      <td>intact:EBI-2821539|uniprotkb:O43425|uniprotkb:...</td>\n",
       "      <td>psi-mi:amph_human(display_long)|uniprotkb:AMPH...</td>\n",
       "      <td>psi-mi:synj1_human(display_long)|uniprotkb:SYN...</td>\n",
       "      <td>psi-mi:\"MI:0081\"(peptide array)</td>\n",
       "      <td>Cestra et al. (1999)</td>\n",
       "      <td>pubmed:10542231|mint:MINT-5211933</td>\n",
       "      <td>taxid:9606(human)|taxid:9606(Homo sapiens)</td>\n",
       "      <td>...</td>\n",
       "      <td>-</td>\n",
       "      <td>-</td>\n",
       "      <td>psi-mi:\"MI:0411\"(enzyme linked immunosorbent a...</td>\n",
       "      <td>psi-mi:\"MI:0083\"(peptide synthesis)</td>\n",
       "      <td>uniprotkb:P49418|intact:EBI-7121510|uniprotkb:...</td>\n",
       "      <td>uniprotkb:O43426|intact:EBI-2821539|uniprotkb:...</td>\n",
       "      <td>P49418|Q75MK5|Q75MM3|A4D1X9|O43538|A4D1X8|Q75M...</td>\n",
       "      <td>O43426|O43425|O94984|Q4KMR1</td>\n",
       "      <td>P49418</td>\n",
       "      <td>O43426</td>\n",
       "    </tr>\n",
       "    <tr>\n",
       "      <th>30</th>\n",
       "      <td>uniprotkb:P49418</td>\n",
       "      <td>uniprotkb:O43426</td>\n",
       "      <td>intact:EBI-7121510|uniprotkb:Q75MK5|uniprotkb:...</td>\n",
       "      <td>intact:EBI-2821539|uniprotkb:O43425|uniprotkb:...</td>\n",
       "      <td>psi-mi:amph_human(display_long)|uniprotkb:AMPH...</td>\n",
       "      <td>psi-mi:synj1_human(display_long)|uniprotkb:SYN...</td>\n",
       "      <td>psi-mi:\"MI:0081\"(peptide array)</td>\n",
       "      <td>Cestra et al. (1999)</td>\n",
       "      <td>pubmed:10542231|mint:MINT-5211933</td>\n",
       "      <td>taxid:9606(human)|taxid:9606(Homo sapiens)</td>\n",
       "      <td>...</td>\n",
       "      <td>-</td>\n",
       "      <td>-</td>\n",
       "      <td>psi-mi:\"MI:0411\"(enzyme linked immunosorbent a...</td>\n",
       "      <td>psi-mi:\"MI:0083\"(peptide synthesis)</td>\n",
       "      <td>uniprotkb:P49418|intact:EBI-7121510|uniprotkb:...</td>\n",
       "      <td>uniprotkb:O43426|intact:EBI-2821539|uniprotkb:...</td>\n",
       "      <td>P49418|Q75MK5|Q75MM3|A4D1X9|O43538|A4D1X8|Q75M...</td>\n",
       "      <td>O43426|O43425|O94984|Q4KMR1</td>\n",
       "      <td>P49418</td>\n",
       "      <td>O43426</td>\n",
       "    </tr>\n",
       "    <tr>\n",
       "      <th>31</th>\n",
       "      <td>uniprotkb:Q99961</td>\n",
       "      <td>uniprotkb:O43426</td>\n",
       "      <td>intact:EBI-697911|uniprotkb:Q99668|uniprotkb:B...</td>\n",
       "      <td>intact:EBI-2821539|uniprotkb:O43425|uniprotkb:...</td>\n",
       "      <td>psi-mi:sh3g1_human(display_long)|uniprotkb:End...</td>\n",
       "      <td>psi-mi:synj1_human(display_long)|uniprotkb:SYN...</td>\n",
       "      <td>psi-mi:\"MI:0081\"(peptide array)</td>\n",
       "      <td>Cestra et al. (1999)</td>\n",
       "      <td>pubmed:10542231|mint:MINT-5211933</td>\n",
       "      <td>taxid:9606(human)|taxid:9606(Homo sapiens)</td>\n",
       "      <td>...</td>\n",
       "      <td>-</td>\n",
       "      <td>-</td>\n",
       "      <td>psi-mi:\"MI:0411\"(enzyme linked immunosorbent a...</td>\n",
       "      <td>psi-mi:\"MI:0083\"(peptide synthesis)</td>\n",
       "      <td>uniprotkb:Q99961|intact:EBI-697911|uniprotkb:Q...</td>\n",
       "      <td>uniprotkb:O43426|intact:EBI-2821539|uniprotkb:...</td>\n",
       "      <td>Q99961|Q99668|B4DRA1|E7EVZ4|M0QZV5</td>\n",
       "      <td>O43426|O43425|O94984|Q4KMR1</td>\n",
       "      <td>Q99961</td>\n",
       "      <td>O43426</td>\n",
       "    </tr>\n",
       "  </tbody>\n",
       "</table>\n",
       "<p>5 rows × 48 columns</p>\n",
       "</div>"
      ],
      "text/plain": [
       "   #ID(s) interactor A ID(s) interactor B  \\\n",
       "0     uniprotkb:P49418   uniprotkb:O43426   \n",
       "28    uniprotkb:P49418   uniprotkb:O43426   \n",
       "29    uniprotkb:P49418   uniprotkb:O43426   \n",
       "30    uniprotkb:P49418   uniprotkb:O43426   \n",
       "31    uniprotkb:Q99961   uniprotkb:O43426   \n",
       "\n",
       "                              Alt. ID(s) interactor A  \\\n",
       "0   intact:EBI-7121510|uniprotkb:Q75MK5|uniprotkb:...   \n",
       "28  intact:EBI-7121510|uniprotkb:Q75MK5|uniprotkb:...   \n",
       "29  intact:EBI-7121510|uniprotkb:Q75MK5|uniprotkb:...   \n",
       "30  intact:EBI-7121510|uniprotkb:Q75MK5|uniprotkb:...   \n",
       "31  intact:EBI-697911|uniprotkb:Q99668|uniprotkb:B...   \n",
       "\n",
       "                              Alt. ID(s) interactor B  \\\n",
       "0   intact:EBI-2821539|uniprotkb:O43425|uniprotkb:...   \n",
       "28  intact:EBI-2821539|uniprotkb:O43425|uniprotkb:...   \n",
       "29  intact:EBI-2821539|uniprotkb:O43425|uniprotkb:...   \n",
       "30  intact:EBI-2821539|uniprotkb:O43425|uniprotkb:...   \n",
       "31  intact:EBI-2821539|uniprotkb:O43425|uniprotkb:...   \n",
       "\n",
       "                               Alias(es) interactor A  \\\n",
       "0   psi-mi:amph_human(display_long)|uniprotkb:AMPH...   \n",
       "28  psi-mi:amph_human(display_long)|uniprotkb:AMPH...   \n",
       "29  psi-mi:amph_human(display_long)|uniprotkb:AMPH...   \n",
       "30  psi-mi:amph_human(display_long)|uniprotkb:AMPH...   \n",
       "31  psi-mi:sh3g1_human(display_long)|uniprotkb:End...   \n",
       "\n",
       "                               Alias(es) interactor B  \\\n",
       "0   psi-mi:synj1_human(display_long)|uniprotkb:SYN...   \n",
       "28  psi-mi:synj1_human(display_long)|uniprotkb:SYN...   \n",
       "29  psi-mi:synj1_human(display_long)|uniprotkb:SYN...   \n",
       "30  psi-mi:synj1_human(display_long)|uniprotkb:SYN...   \n",
       "31  psi-mi:synj1_human(display_long)|uniprotkb:SYN...   \n",
       "\n",
       "    Interaction detection method(s) Publication 1st author(s)  \\\n",
       "0   psi-mi:\"MI:0084\"(phage display)      Cestra et al. (1999)   \n",
       "28  psi-mi:\"MI:0081\"(peptide array)      Cestra et al. (1999)   \n",
       "29  psi-mi:\"MI:0081\"(peptide array)      Cestra et al. (1999)   \n",
       "30  psi-mi:\"MI:0081\"(peptide array)      Cestra et al. (1999)   \n",
       "31  psi-mi:\"MI:0081\"(peptide array)      Cestra et al. (1999)   \n",
       "\n",
       "            Publication Identifier(s)  \\\n",
       "0   pubmed:10542231|mint:MINT-5211933   \n",
       "28  pubmed:10542231|mint:MINT-5211933   \n",
       "29  pubmed:10542231|mint:MINT-5211933   \n",
       "30  pubmed:10542231|mint:MINT-5211933   \n",
       "31  pubmed:10542231|mint:MINT-5211933   \n",
       "\n",
       "                            Taxid interactor A  ...  \\\n",
       "0   taxid:9606(human)|taxid:9606(Homo sapiens)  ...   \n",
       "28  taxid:9606(human)|taxid:9606(Homo sapiens)  ...   \n",
       "29  taxid:9606(human)|taxid:9606(Homo sapiens)  ...   \n",
       "30  taxid:9606(human)|taxid:9606(Homo sapiens)  ...   \n",
       "31  taxid:9606(human)|taxid:9606(Homo sapiens)  ...   \n",
       "\n",
       "   Stoichiometry(s) interactor A Stoichiometry(s) interactor B  \\\n",
       "0                              -                             -   \n",
       "28                             -                             -   \n",
       "29                             -                             -   \n",
       "30                             -                             -   \n",
       "31                             -                             -   \n",
       "\n",
       "                  Identification method participant A  \\\n",
       "0   psi-mi:\"MI:0078\"(nucleotide sequence identific...   \n",
       "28  psi-mi:\"MI:0411\"(enzyme linked immunosorbent a...   \n",
       "29  psi-mi:\"MI:0411\"(enzyme linked immunosorbent a...   \n",
       "30  psi-mi:\"MI:0411\"(enzyme linked immunosorbent a...   \n",
       "31  psi-mi:\"MI:0411\"(enzyme linked immunosorbent a...   \n",
       "\n",
       "                  Identification method participant B  \\\n",
       "0   psi-mi:\"MI:0078\"(nucleotide sequence identific...   \n",
       "28                psi-mi:\"MI:0083\"(peptide synthesis)   \n",
       "29                psi-mi:\"MI:0083\"(peptide synthesis)   \n",
       "30                psi-mi:\"MI:0083\"(peptide synthesis)   \n",
       "31                psi-mi:\"MI:0083\"(peptide synthesis)   \n",
       "\n",
       "                                 All IDs interactor A  \\\n",
       "0   uniprotkb:P49418|intact:EBI-7121510|uniprotkb:...   \n",
       "28  uniprotkb:P49418|intact:EBI-7121510|uniprotkb:...   \n",
       "29  uniprotkb:P49418|intact:EBI-7121510|uniprotkb:...   \n",
       "30  uniprotkb:P49418|intact:EBI-7121510|uniprotkb:...   \n",
       "31  uniprotkb:Q99961|intact:EBI-697911|uniprotkb:Q...   \n",
       "\n",
       "                                 All IDs interactor B  \\\n",
       "0   uniprotkb:O43426|intact:EBI-2821539|uniprotkb:...   \n",
       "28  uniprotkb:O43426|intact:EBI-2821539|uniprotkb:...   \n",
       "29  uniprotkb:O43426|intact:EBI-2821539|uniprotkb:...   \n",
       "30  uniprotkb:O43426|intact:EBI-2821539|uniprotkb:...   \n",
       "31  uniprotkb:O43426|intact:EBI-2821539|uniprotkb:...   \n",
       "\n",
       "                                      uniprotkb_IDs_A  \\\n",
       "0   P49418|Q75MK5|Q75MM3|A4D1X9|O43538|A4D1X8|Q75M...   \n",
       "28  P49418|Q75MK5|Q75MM3|A4D1X9|O43538|A4D1X8|Q75M...   \n",
       "29  P49418|Q75MK5|Q75MM3|A4D1X9|O43538|A4D1X8|Q75M...   \n",
       "30  P49418|Q75MK5|Q75MM3|A4D1X9|O43538|A4D1X8|Q75M...   \n",
       "31                 Q99961|Q99668|B4DRA1|E7EVZ4|M0QZV5   \n",
       "\n",
       "                uniprotkb_IDs_B first_uniprotkb_IDs_A first_uniprotkb_IDs_B  \n",
       "0   O43426|O43425|O94984|Q4KMR1                P49418                O43426  \n",
       "28  O43426|O43425|O94984|Q4KMR1                P49418                O43426  \n",
       "29  O43426|O43425|O94984|Q4KMR1                P49418                O43426  \n",
       "30  O43426|O43425|O94984|Q4KMR1                P49418                O43426  \n",
       "31  O43426|O43425|O94984|Q4KMR1                Q99961                O43426  \n",
       "\n",
       "[5 rows x 48 columns]"
      ]
     },
     "metadata": {},
     "output_type": "display_data"
    }
   ],
   "source": [
    "foo = 'taxid:9606(human)|taxid:9606(Homo sapiens)'\n",
    "dfIntAct_2 = dfIntAct_1.loc[\n",
    "    (dfIntAct_1['Taxid interactor A'] == foo)&(dfIntAct_1['Taxid interactor B'] == foo)\n",
    "]\n",
    "glance(dfIntAct_2)"
   ]
  },
  {
   "cell_type": "markdown",
   "metadata": {},
   "source": [
    "---\n",
    "**protein-protein interactions**"
   ]
  },
  {
   "cell_type": "code",
   "execution_count": 16,
   "metadata": {
    "ExecuteTime": {
     "end_time": "2019-10-30T15:58:18.974302Z",
     "start_time": "2019-10-30T15:58:18.926832Z"
    },
    "execution": {
     "iopub.execute_input": "2022-01-10T13:14:46.241366Z",
     "iopub.status.busy": "2022-01-10T13:14:46.241202Z",
     "iopub.status.idle": "2022-01-10T13:14:46.322431Z",
     "shell.execute_reply": "2022-01-10T13:14:46.321894Z",
     "shell.execute_reply.started": "2022-01-10T13:14:46.241341Z"
    },
    "scrolled": true
   },
   "outputs": [
    {
     "name": "stdout",
     "output_type": "stream",
     "text": [
      "Type(s) interactor A\n",
      "psi-mi:\"MI:0326\"(protein)         574494\n",
      "psi-mi:\"MI:1304\"(molecule set)        36\n",
      "psi-mi:\"MI:0327\"(peptide)              1\n",
      "dtype: int64\n",
      "Type(s) interactor B\n",
      "psi-mi:\"MI:0326\"(protein)         574396\n",
      "psi-mi:\"MI:1304\"(molecule set)       135\n",
      "dtype: int64\n"
     ]
    }
   ],
   "source": [
    "print(dfIntAct_2.groupby(by=\"Type(s) interactor A\").size().sort_values(ascending=False))\n",
    "print(dfIntAct_2.groupby(by=\"Type(s) interactor B\").size().sort_values(ascending=False))"
   ]
  },
  {
   "cell_type": "code",
   "execution_count": 17,
   "metadata": {
    "execution": {
     "iopub.execute_input": "2022-01-10T13:14:46.323222Z",
     "iopub.status.busy": "2022-01-10T13:14:46.323053Z",
     "iopub.status.idle": "2022-01-10T13:14:46.728698Z",
     "shell.execute_reply": "2022-01-10T13:14:46.728214Z",
     "shell.execute_reply.started": "2022-01-10T13:14:46.323197Z"
    }
   },
   "outputs": [
    {
     "name": "stdout",
     "output_type": "stream",
     "text": [
      "DataFrame: 574,359 rows \t 48 columns\n"
     ]
    },
    {
     "data": {
      "text/html": [
       "<div>\n",
       "<style scoped>\n",
       "    .dataframe tbody tr th:only-of-type {\n",
       "        vertical-align: middle;\n",
       "    }\n",
       "\n",
       "    .dataframe tbody tr th {\n",
       "        vertical-align: top;\n",
       "    }\n",
       "\n",
       "    .dataframe thead th {\n",
       "        text-align: right;\n",
       "    }\n",
       "</style>\n",
       "<table border=\"1\" class=\"dataframe\">\n",
       "  <thead>\n",
       "    <tr style=\"text-align: right;\">\n",
       "      <th></th>\n",
       "      <th>#ID(s) interactor A</th>\n",
       "      <th>ID(s) interactor B</th>\n",
       "      <th>Alt. ID(s) interactor A</th>\n",
       "      <th>Alt. ID(s) interactor B</th>\n",
       "      <th>Alias(es) interactor A</th>\n",
       "      <th>Alias(es) interactor B</th>\n",
       "      <th>Interaction detection method(s)</th>\n",
       "      <th>Publication 1st author(s)</th>\n",
       "      <th>Publication Identifier(s)</th>\n",
       "      <th>Taxid interactor A</th>\n",
       "      <th>...</th>\n",
       "      <th>Stoichiometry(s) interactor A</th>\n",
       "      <th>Stoichiometry(s) interactor B</th>\n",
       "      <th>Identification method participant A</th>\n",
       "      <th>Identification method participant B</th>\n",
       "      <th>All IDs interactor A</th>\n",
       "      <th>All IDs interactor B</th>\n",
       "      <th>uniprotkb_IDs_A</th>\n",
       "      <th>uniprotkb_IDs_B</th>\n",
       "      <th>first_uniprotkb_IDs_A</th>\n",
       "      <th>first_uniprotkb_IDs_B</th>\n",
       "    </tr>\n",
       "  </thead>\n",
       "  <tbody>\n",
       "    <tr>\n",
       "      <th>0</th>\n",
       "      <td>uniprotkb:P49418</td>\n",
       "      <td>uniprotkb:O43426</td>\n",
       "      <td>intact:EBI-7121510|uniprotkb:Q75MK5|uniprotkb:...</td>\n",
       "      <td>intact:EBI-2821539|uniprotkb:O43425|uniprotkb:...</td>\n",
       "      <td>psi-mi:amph_human(display_long)|uniprotkb:AMPH...</td>\n",
       "      <td>psi-mi:synj1_human(display_long)|uniprotkb:SYN...</td>\n",
       "      <td>psi-mi:\"MI:0084\"(phage display)</td>\n",
       "      <td>Cestra et al. (1999)</td>\n",
       "      <td>pubmed:10542231|mint:MINT-5211933</td>\n",
       "      <td>taxid:9606(human)|taxid:9606(Homo sapiens)</td>\n",
       "      <td>...</td>\n",
       "      <td>-</td>\n",
       "      <td>-</td>\n",
       "      <td>psi-mi:\"MI:0078\"(nucleotide sequence identific...</td>\n",
       "      <td>psi-mi:\"MI:0078\"(nucleotide sequence identific...</td>\n",
       "      <td>uniprotkb:P49418|intact:EBI-7121510|uniprotkb:...</td>\n",
       "      <td>uniprotkb:O43426|intact:EBI-2821539|uniprotkb:...</td>\n",
       "      <td>P49418|Q75MK5|Q75MM3|A4D1X9|O43538|A4D1X8|Q75M...</td>\n",
       "      <td>O43426|O43425|O94984|Q4KMR1</td>\n",
       "      <td>P49418</td>\n",
       "      <td>O43426</td>\n",
       "    </tr>\n",
       "    <tr>\n",
       "      <th>28</th>\n",
       "      <td>uniprotkb:P49418</td>\n",
       "      <td>uniprotkb:O43426</td>\n",
       "      <td>intact:EBI-7121510|uniprotkb:Q75MK5|uniprotkb:...</td>\n",
       "      <td>intact:EBI-2821539|uniprotkb:O43425|uniprotkb:...</td>\n",
       "      <td>psi-mi:amph_human(display_long)|uniprotkb:AMPH...</td>\n",
       "      <td>psi-mi:synj1_human(display_long)|uniprotkb:SYN...</td>\n",
       "      <td>psi-mi:\"MI:0081\"(peptide array)</td>\n",
       "      <td>Cestra et al. (1999)</td>\n",
       "      <td>pubmed:10542231|mint:MINT-5211933</td>\n",
       "      <td>taxid:9606(human)|taxid:9606(Homo sapiens)</td>\n",
       "      <td>...</td>\n",
       "      <td>-</td>\n",
       "      <td>-</td>\n",
       "      <td>psi-mi:\"MI:0411\"(enzyme linked immunosorbent a...</td>\n",
       "      <td>psi-mi:\"MI:0083\"(peptide synthesis)</td>\n",
       "      <td>uniprotkb:P49418|intact:EBI-7121510|uniprotkb:...</td>\n",
       "      <td>uniprotkb:O43426|intact:EBI-2821539|uniprotkb:...</td>\n",
       "      <td>P49418|Q75MK5|Q75MM3|A4D1X9|O43538|A4D1X8|Q75M...</td>\n",
       "      <td>O43426|O43425|O94984|Q4KMR1</td>\n",
       "      <td>P49418</td>\n",
       "      <td>O43426</td>\n",
       "    </tr>\n",
       "    <tr>\n",
       "      <th>29</th>\n",
       "      <td>uniprotkb:P49418</td>\n",
       "      <td>uniprotkb:O43426</td>\n",
       "      <td>intact:EBI-7121510|uniprotkb:Q75MK5|uniprotkb:...</td>\n",
       "      <td>intact:EBI-2821539|uniprotkb:O43425|uniprotkb:...</td>\n",
       "      <td>psi-mi:amph_human(display_long)|uniprotkb:AMPH...</td>\n",
       "      <td>psi-mi:synj1_human(display_long)|uniprotkb:SYN...</td>\n",
       "      <td>psi-mi:\"MI:0081\"(peptide array)</td>\n",
       "      <td>Cestra et al. (1999)</td>\n",
       "      <td>pubmed:10542231|mint:MINT-5211933</td>\n",
       "      <td>taxid:9606(human)|taxid:9606(Homo sapiens)</td>\n",
       "      <td>...</td>\n",
       "      <td>-</td>\n",
       "      <td>-</td>\n",
       "      <td>psi-mi:\"MI:0411\"(enzyme linked immunosorbent a...</td>\n",
       "      <td>psi-mi:\"MI:0083\"(peptide synthesis)</td>\n",
       "      <td>uniprotkb:P49418|intact:EBI-7121510|uniprotkb:...</td>\n",
       "      <td>uniprotkb:O43426|intact:EBI-2821539|uniprotkb:...</td>\n",
       "      <td>P49418|Q75MK5|Q75MM3|A4D1X9|O43538|A4D1X8|Q75M...</td>\n",
       "      <td>O43426|O43425|O94984|Q4KMR1</td>\n",
       "      <td>P49418</td>\n",
       "      <td>O43426</td>\n",
       "    </tr>\n",
       "    <tr>\n",
       "      <th>30</th>\n",
       "      <td>uniprotkb:P49418</td>\n",
       "      <td>uniprotkb:O43426</td>\n",
       "      <td>intact:EBI-7121510|uniprotkb:Q75MK5|uniprotkb:...</td>\n",
       "      <td>intact:EBI-2821539|uniprotkb:O43425|uniprotkb:...</td>\n",
       "      <td>psi-mi:amph_human(display_long)|uniprotkb:AMPH...</td>\n",
       "      <td>psi-mi:synj1_human(display_long)|uniprotkb:SYN...</td>\n",
       "      <td>psi-mi:\"MI:0081\"(peptide array)</td>\n",
       "      <td>Cestra et al. (1999)</td>\n",
       "      <td>pubmed:10542231|mint:MINT-5211933</td>\n",
       "      <td>taxid:9606(human)|taxid:9606(Homo sapiens)</td>\n",
       "      <td>...</td>\n",
       "      <td>-</td>\n",
       "      <td>-</td>\n",
       "      <td>psi-mi:\"MI:0411\"(enzyme linked immunosorbent a...</td>\n",
       "      <td>psi-mi:\"MI:0083\"(peptide synthesis)</td>\n",
       "      <td>uniprotkb:P49418|intact:EBI-7121510|uniprotkb:...</td>\n",
       "      <td>uniprotkb:O43426|intact:EBI-2821539|uniprotkb:...</td>\n",
       "      <td>P49418|Q75MK5|Q75MM3|A4D1X9|O43538|A4D1X8|Q75M...</td>\n",
       "      <td>O43426|O43425|O94984|Q4KMR1</td>\n",
       "      <td>P49418</td>\n",
       "      <td>O43426</td>\n",
       "    </tr>\n",
       "    <tr>\n",
       "      <th>31</th>\n",
       "      <td>uniprotkb:Q99961</td>\n",
       "      <td>uniprotkb:O43426</td>\n",
       "      <td>intact:EBI-697911|uniprotkb:Q99668|uniprotkb:B...</td>\n",
       "      <td>intact:EBI-2821539|uniprotkb:O43425|uniprotkb:...</td>\n",
       "      <td>psi-mi:sh3g1_human(display_long)|uniprotkb:End...</td>\n",
       "      <td>psi-mi:synj1_human(display_long)|uniprotkb:SYN...</td>\n",
       "      <td>psi-mi:\"MI:0081\"(peptide array)</td>\n",
       "      <td>Cestra et al. (1999)</td>\n",
       "      <td>pubmed:10542231|mint:MINT-5211933</td>\n",
       "      <td>taxid:9606(human)|taxid:9606(Homo sapiens)</td>\n",
       "      <td>...</td>\n",
       "      <td>-</td>\n",
       "      <td>-</td>\n",
       "      <td>psi-mi:\"MI:0411\"(enzyme linked immunosorbent a...</td>\n",
       "      <td>psi-mi:\"MI:0083\"(peptide synthesis)</td>\n",
       "      <td>uniprotkb:Q99961|intact:EBI-697911|uniprotkb:Q...</td>\n",
       "      <td>uniprotkb:O43426|intact:EBI-2821539|uniprotkb:...</td>\n",
       "      <td>Q99961|Q99668|B4DRA1|E7EVZ4|M0QZV5</td>\n",
       "      <td>O43426|O43425|O94984|Q4KMR1</td>\n",
       "      <td>Q99961</td>\n",
       "      <td>O43426</td>\n",
       "    </tr>\n",
       "  </tbody>\n",
       "</table>\n",
       "<p>5 rows × 48 columns</p>\n",
       "</div>"
      ],
      "text/plain": [
       "   #ID(s) interactor A ID(s) interactor B  \\\n",
       "0     uniprotkb:P49418   uniprotkb:O43426   \n",
       "28    uniprotkb:P49418   uniprotkb:O43426   \n",
       "29    uniprotkb:P49418   uniprotkb:O43426   \n",
       "30    uniprotkb:P49418   uniprotkb:O43426   \n",
       "31    uniprotkb:Q99961   uniprotkb:O43426   \n",
       "\n",
       "                              Alt. ID(s) interactor A  \\\n",
       "0   intact:EBI-7121510|uniprotkb:Q75MK5|uniprotkb:...   \n",
       "28  intact:EBI-7121510|uniprotkb:Q75MK5|uniprotkb:...   \n",
       "29  intact:EBI-7121510|uniprotkb:Q75MK5|uniprotkb:...   \n",
       "30  intact:EBI-7121510|uniprotkb:Q75MK5|uniprotkb:...   \n",
       "31  intact:EBI-697911|uniprotkb:Q99668|uniprotkb:B...   \n",
       "\n",
       "                              Alt. ID(s) interactor B  \\\n",
       "0   intact:EBI-2821539|uniprotkb:O43425|uniprotkb:...   \n",
       "28  intact:EBI-2821539|uniprotkb:O43425|uniprotkb:...   \n",
       "29  intact:EBI-2821539|uniprotkb:O43425|uniprotkb:...   \n",
       "30  intact:EBI-2821539|uniprotkb:O43425|uniprotkb:...   \n",
       "31  intact:EBI-2821539|uniprotkb:O43425|uniprotkb:...   \n",
       "\n",
       "                               Alias(es) interactor A  \\\n",
       "0   psi-mi:amph_human(display_long)|uniprotkb:AMPH...   \n",
       "28  psi-mi:amph_human(display_long)|uniprotkb:AMPH...   \n",
       "29  psi-mi:amph_human(display_long)|uniprotkb:AMPH...   \n",
       "30  psi-mi:amph_human(display_long)|uniprotkb:AMPH...   \n",
       "31  psi-mi:sh3g1_human(display_long)|uniprotkb:End...   \n",
       "\n",
       "                               Alias(es) interactor B  \\\n",
       "0   psi-mi:synj1_human(display_long)|uniprotkb:SYN...   \n",
       "28  psi-mi:synj1_human(display_long)|uniprotkb:SYN...   \n",
       "29  psi-mi:synj1_human(display_long)|uniprotkb:SYN...   \n",
       "30  psi-mi:synj1_human(display_long)|uniprotkb:SYN...   \n",
       "31  psi-mi:synj1_human(display_long)|uniprotkb:SYN...   \n",
       "\n",
       "    Interaction detection method(s) Publication 1st author(s)  \\\n",
       "0   psi-mi:\"MI:0084\"(phage display)      Cestra et al. (1999)   \n",
       "28  psi-mi:\"MI:0081\"(peptide array)      Cestra et al. (1999)   \n",
       "29  psi-mi:\"MI:0081\"(peptide array)      Cestra et al. (1999)   \n",
       "30  psi-mi:\"MI:0081\"(peptide array)      Cestra et al. (1999)   \n",
       "31  psi-mi:\"MI:0081\"(peptide array)      Cestra et al. (1999)   \n",
       "\n",
       "            Publication Identifier(s)  \\\n",
       "0   pubmed:10542231|mint:MINT-5211933   \n",
       "28  pubmed:10542231|mint:MINT-5211933   \n",
       "29  pubmed:10542231|mint:MINT-5211933   \n",
       "30  pubmed:10542231|mint:MINT-5211933   \n",
       "31  pubmed:10542231|mint:MINT-5211933   \n",
       "\n",
       "                            Taxid interactor A  ...  \\\n",
       "0   taxid:9606(human)|taxid:9606(Homo sapiens)  ...   \n",
       "28  taxid:9606(human)|taxid:9606(Homo sapiens)  ...   \n",
       "29  taxid:9606(human)|taxid:9606(Homo sapiens)  ...   \n",
       "30  taxid:9606(human)|taxid:9606(Homo sapiens)  ...   \n",
       "31  taxid:9606(human)|taxid:9606(Homo sapiens)  ...   \n",
       "\n",
       "   Stoichiometry(s) interactor A Stoichiometry(s) interactor B  \\\n",
       "0                              -                             -   \n",
       "28                             -                             -   \n",
       "29                             -                             -   \n",
       "30                             -                             -   \n",
       "31                             -                             -   \n",
       "\n",
       "                  Identification method participant A  \\\n",
       "0   psi-mi:\"MI:0078\"(nucleotide sequence identific...   \n",
       "28  psi-mi:\"MI:0411\"(enzyme linked immunosorbent a...   \n",
       "29  psi-mi:\"MI:0411\"(enzyme linked immunosorbent a...   \n",
       "30  psi-mi:\"MI:0411\"(enzyme linked immunosorbent a...   \n",
       "31  psi-mi:\"MI:0411\"(enzyme linked immunosorbent a...   \n",
       "\n",
       "                  Identification method participant B  \\\n",
       "0   psi-mi:\"MI:0078\"(nucleotide sequence identific...   \n",
       "28                psi-mi:\"MI:0083\"(peptide synthesis)   \n",
       "29                psi-mi:\"MI:0083\"(peptide synthesis)   \n",
       "30                psi-mi:\"MI:0083\"(peptide synthesis)   \n",
       "31                psi-mi:\"MI:0083\"(peptide synthesis)   \n",
       "\n",
       "                                 All IDs interactor A  \\\n",
       "0   uniprotkb:P49418|intact:EBI-7121510|uniprotkb:...   \n",
       "28  uniprotkb:P49418|intact:EBI-7121510|uniprotkb:...   \n",
       "29  uniprotkb:P49418|intact:EBI-7121510|uniprotkb:...   \n",
       "30  uniprotkb:P49418|intact:EBI-7121510|uniprotkb:...   \n",
       "31  uniprotkb:Q99961|intact:EBI-697911|uniprotkb:Q...   \n",
       "\n",
       "                                 All IDs interactor B  \\\n",
       "0   uniprotkb:O43426|intact:EBI-2821539|uniprotkb:...   \n",
       "28  uniprotkb:O43426|intact:EBI-2821539|uniprotkb:...   \n",
       "29  uniprotkb:O43426|intact:EBI-2821539|uniprotkb:...   \n",
       "30  uniprotkb:O43426|intact:EBI-2821539|uniprotkb:...   \n",
       "31  uniprotkb:O43426|intact:EBI-2821539|uniprotkb:...   \n",
       "\n",
       "                                      uniprotkb_IDs_A  \\\n",
       "0   P49418|Q75MK5|Q75MM3|A4D1X9|O43538|A4D1X8|Q75M...   \n",
       "28  P49418|Q75MK5|Q75MM3|A4D1X9|O43538|A4D1X8|Q75M...   \n",
       "29  P49418|Q75MK5|Q75MM3|A4D1X9|O43538|A4D1X8|Q75M...   \n",
       "30  P49418|Q75MK5|Q75MM3|A4D1X9|O43538|A4D1X8|Q75M...   \n",
       "31                 Q99961|Q99668|B4DRA1|E7EVZ4|M0QZV5   \n",
       "\n",
       "                uniprotkb_IDs_B first_uniprotkb_IDs_A first_uniprotkb_IDs_B  \n",
       "0   O43426|O43425|O94984|Q4KMR1                P49418                O43426  \n",
       "28  O43426|O43425|O94984|Q4KMR1                P49418                O43426  \n",
       "29  O43426|O43425|O94984|Q4KMR1                P49418                O43426  \n",
       "30  O43426|O43425|O94984|Q4KMR1                P49418                O43426  \n",
       "31  O43426|O43425|O94984|Q4KMR1                Q99961                O43426  \n",
       "\n",
       "[5 rows x 48 columns]"
      ]
     },
     "metadata": {},
     "output_type": "display_data"
    }
   ],
   "source": [
    "foo = 'psi-mi:\"MI:0326\"(protein)'\n",
    "dfIntAct_3 = dfIntAct_2.loc[\n",
    "    (dfIntAct['Type(s) interactor A'] == foo)&(dfIntAct['Type(s) interactor B'] == foo)\n",
    "]\n",
    "glance(dfIntAct_3)"
   ]
  },
  {
   "cell_type": "markdown",
   "metadata": {},
   "source": [
    "---\n",
    "**Confidence score** "
   ]
  },
  {
   "cell_type": "markdown",
   "metadata": {},
   "source": [
    "Details of intact mi-score: https://www.ebi.ac.uk/intact/pages/faq/faq.xhtml#9"
   ]
  },
  {
   "cell_type": "markdown",
   "metadata": {},
   "source": [
    "*Pull names of scores*"
   ]
  },
  {
   "cell_type": "code",
   "execution_count": 18,
   "metadata": {
    "ExecuteTime": {
     "end_time": "2019-10-30T16:03:46.876260Z",
     "start_time": "2019-10-30T16:03:46.062676Z"
    },
    "execution": {
     "iopub.execute_input": "2022-01-10T13:14:46.729418Z",
     "iopub.status.busy": "2022-01-10T13:14:46.729270Z",
     "iopub.status.idle": "2022-01-10T13:14:48.028798Z",
     "shell.execute_reply": "2022-01-10T13:14:48.027437Z",
     "shell.execute_reply.started": "2022-01-10T13:14:46.729394Z"
    }
   },
   "outputs": [
    {
     "data": {
      "text/plain": [
       "{'author score',\n",
       " 'author-confidence',\n",
       " 'intact-miscore',\n",
       " 'replication-based confidence'}"
      ]
     },
     "execution_count": 18,
     "metadata": {},
     "output_type": "execute_result"
    }
   ],
   "source": [
    "reConfScore = re.compile(r\"(?<=\\|)[-\\s\\w]+(?=:)\")\n",
    "\n",
    "confScoreNames =[val for sublist in [reConfScore.findall(\"|\" + line) for line in dfIntAct_3[\"Confidence value(s)\"]] for val in sublist]\n",
    "\n",
    "set(confScoreNames)"
   ]
  },
  {
   "cell_type": "markdown",
   "metadata": {},
   "source": [
    "*Pull intact-miscore values*"
   ]
  },
  {
   "cell_type": "code",
   "execution_count": 19,
   "metadata": {
    "ExecuteTime": {
     "end_time": "2019-10-30T16:04:35.481821Z",
     "start_time": "2019-10-30T16:04:34.567247Z"
    },
    "execution": {
     "iopub.execute_input": "2022-01-10T13:14:48.030743Z",
     "iopub.status.busy": "2022-01-10T13:14:48.030348Z",
     "iopub.status.idle": "2022-01-10T13:14:51.218153Z",
     "shell.execute_reply": "2022-01-10T13:14:51.217609Z",
     "shell.execute_reply.started": "2022-01-10T13:14:48.030678Z"
    }
   },
   "outputs": [
    {
     "name": "stderr",
     "output_type": "stream",
     "text": [
      "/home/ll582/.conda/envs/PPI/lib/python3.7/site-packages/pandas/core/indexing.py:362: SettingWithCopyWarning: \n",
      "A value is trying to be set on a copy of a slice from a DataFrame.\n",
      "Try using .loc[row_indexer,col_indexer] = value instead\n",
      "\n",
      "See the caveats in the documentation: http://pandas.pydata.org/pandas-docs/stable/indexing.html#indexing-view-versus-copy\n",
      "  self.obj[key] = _infer_fill_value(value)\n",
      "/home/ll582/.conda/envs/PPI/lib/python3.7/site-packages/pandas/core/indexing.py:543: SettingWithCopyWarning: \n",
      "A value is trying to be set on a copy of a slice from a DataFrame.\n",
      "Try using .loc[row_indexer,col_indexer] = value instead\n",
      "\n",
      "See the caveats in the documentation: http://pandas.pydata.org/pandas-docs/stable/indexing.html#indexing-view-versus-copy\n",
      "  self.obj[item] = s\n"
     ]
    },
    {
     "data": {
      "text/plain": [
       "0     0.56\n",
       "28    0.56\n",
       "29    0.56\n",
       "30    0.56\n",
       "31    0.44\n",
       "Name: intact-miscore, dtype: float64"
      ]
     },
     "execution_count": 19,
     "metadata": {},
     "output_type": "execute_result"
    }
   ],
   "source": [
    "reIntactMiscore = re.compile(r\"(?<=intact-miscore:)[\\d.]+\")\n",
    "\n",
    "dfIntAct_3.loc[:,'intact-miscore'] = [m.group() if m else 'NA' for m in (reIntactMiscore.search(line) for line in dfIntAct_3[\"Confidence value(s)\"])]\n",
    "\n",
    "# Sanity check\n",
    "assert len(dfIntAct_3.loc[dfIntAct_3['intact-miscore'] == 'NA']) == 0\n",
    "\n",
    "dfIntAct_3.loc[:,'intact-miscore'] = pd.to_numeric(dfIntAct_3['intact-miscore'])\n",
    "dfIntAct_3['intact-miscore'][:5]"
   ]
  },
  {
   "cell_type": "markdown",
   "metadata": {},
   "source": [
    "---\n",
    "**Sanity checks**"
   ]
  },
  {
   "cell_type": "code",
   "execution_count": 20,
   "metadata": {
    "execution": {
     "iopub.execute_input": "2022-01-10T13:14:51.218883Z",
     "iopub.status.busy": "2022-01-10T13:14:51.218742Z",
     "iopub.status.idle": "2022-01-10T13:14:51.222374Z",
     "shell.execute_reply": "2022-01-10T13:14:51.221873Z",
     "shell.execute_reply.started": "2022-01-10T13:14:51.218859Z"
    }
   },
   "outputs": [],
   "source": [
    "assert len(dfIntAct_3.loc[dfIntAct_3['Negative']]) == 0"
   ]
  },
  {
   "cell_type": "markdown",
   "metadata": {},
   "source": [
    "---\n",
    "**Reinitialise index**"
   ]
  },
  {
   "cell_type": "code",
   "execution_count": 21,
   "metadata": {
    "execution": {
     "iopub.execute_input": "2022-01-10T13:14:51.223021Z",
     "iopub.status.busy": "2022-01-10T13:14:51.222885Z",
     "iopub.status.idle": "2022-01-10T13:14:51.877496Z",
     "shell.execute_reply": "2022-01-10T13:14:51.877023Z",
     "shell.execute_reply.started": "2022-01-10T13:14:51.222998Z"
    }
   },
   "outputs": [
    {
     "name": "stdout",
     "output_type": "stream",
     "text": [
      "DataFrame: 574,359 rows \t 49 columns\n"
     ]
    },
    {
     "data": {
      "text/html": [
       "<div>\n",
       "<style scoped>\n",
       "    .dataframe tbody tr th:only-of-type {\n",
       "        vertical-align: middle;\n",
       "    }\n",
       "\n",
       "    .dataframe tbody tr th {\n",
       "        vertical-align: top;\n",
       "    }\n",
       "\n",
       "    .dataframe thead th {\n",
       "        text-align: right;\n",
       "    }\n",
       "</style>\n",
       "<table border=\"1\" class=\"dataframe\">\n",
       "  <thead>\n",
       "    <tr style=\"text-align: right;\">\n",
       "      <th></th>\n",
       "      <th>#ID(s) interactor A</th>\n",
       "      <th>ID(s) interactor B</th>\n",
       "      <th>Alt. ID(s) interactor A</th>\n",
       "      <th>Alt. ID(s) interactor B</th>\n",
       "      <th>Alias(es) interactor A</th>\n",
       "      <th>Alias(es) interactor B</th>\n",
       "      <th>Interaction detection method(s)</th>\n",
       "      <th>Publication 1st author(s)</th>\n",
       "      <th>Publication Identifier(s)</th>\n",
       "      <th>Taxid interactor A</th>\n",
       "      <th>...</th>\n",
       "      <th>Stoichiometry(s) interactor B</th>\n",
       "      <th>Identification method participant A</th>\n",
       "      <th>Identification method participant B</th>\n",
       "      <th>All IDs interactor A</th>\n",
       "      <th>All IDs interactor B</th>\n",
       "      <th>uniprotkb_IDs_A</th>\n",
       "      <th>uniprotkb_IDs_B</th>\n",
       "      <th>first_uniprotkb_IDs_A</th>\n",
       "      <th>first_uniprotkb_IDs_B</th>\n",
       "      <th>intact-miscore</th>\n",
       "    </tr>\n",
       "  </thead>\n",
       "  <tbody>\n",
       "    <tr>\n",
       "      <th>0</th>\n",
       "      <td>uniprotkb:P49418</td>\n",
       "      <td>uniprotkb:O43426</td>\n",
       "      <td>intact:EBI-7121510|uniprotkb:Q75MK5|uniprotkb:...</td>\n",
       "      <td>intact:EBI-2821539|uniprotkb:O43425|uniprotkb:...</td>\n",
       "      <td>psi-mi:amph_human(display_long)|uniprotkb:AMPH...</td>\n",
       "      <td>psi-mi:synj1_human(display_long)|uniprotkb:SYN...</td>\n",
       "      <td>psi-mi:\"MI:0084\"(phage display)</td>\n",
       "      <td>Cestra et al. (1999)</td>\n",
       "      <td>pubmed:10542231|mint:MINT-5211933</td>\n",
       "      <td>taxid:9606(human)|taxid:9606(Homo sapiens)</td>\n",
       "      <td>...</td>\n",
       "      <td>-</td>\n",
       "      <td>psi-mi:\"MI:0078\"(nucleotide sequence identific...</td>\n",
       "      <td>psi-mi:\"MI:0078\"(nucleotide sequence identific...</td>\n",
       "      <td>uniprotkb:P49418|intact:EBI-7121510|uniprotkb:...</td>\n",
       "      <td>uniprotkb:O43426|intact:EBI-2821539|uniprotkb:...</td>\n",
       "      <td>P49418|Q75MK5|Q75MM3|A4D1X9|O43538|A4D1X8|Q75M...</td>\n",
       "      <td>O43426|O43425|O94984|Q4KMR1</td>\n",
       "      <td>P49418</td>\n",
       "      <td>O43426</td>\n",
       "      <td>0.56</td>\n",
       "    </tr>\n",
       "    <tr>\n",
       "      <th>1</th>\n",
       "      <td>uniprotkb:P49418</td>\n",
       "      <td>uniprotkb:O43426</td>\n",
       "      <td>intact:EBI-7121510|uniprotkb:Q75MK5|uniprotkb:...</td>\n",
       "      <td>intact:EBI-2821539|uniprotkb:O43425|uniprotkb:...</td>\n",
       "      <td>psi-mi:amph_human(display_long)|uniprotkb:AMPH...</td>\n",
       "      <td>psi-mi:synj1_human(display_long)|uniprotkb:SYN...</td>\n",
       "      <td>psi-mi:\"MI:0081\"(peptide array)</td>\n",
       "      <td>Cestra et al. (1999)</td>\n",
       "      <td>pubmed:10542231|mint:MINT-5211933</td>\n",
       "      <td>taxid:9606(human)|taxid:9606(Homo sapiens)</td>\n",
       "      <td>...</td>\n",
       "      <td>-</td>\n",
       "      <td>psi-mi:\"MI:0411\"(enzyme linked immunosorbent a...</td>\n",
       "      <td>psi-mi:\"MI:0083\"(peptide synthesis)</td>\n",
       "      <td>uniprotkb:P49418|intact:EBI-7121510|uniprotkb:...</td>\n",
       "      <td>uniprotkb:O43426|intact:EBI-2821539|uniprotkb:...</td>\n",
       "      <td>P49418|Q75MK5|Q75MM3|A4D1X9|O43538|A4D1X8|Q75M...</td>\n",
       "      <td>O43426|O43425|O94984|Q4KMR1</td>\n",
       "      <td>P49418</td>\n",
       "      <td>O43426</td>\n",
       "      <td>0.56</td>\n",
       "    </tr>\n",
       "    <tr>\n",
       "      <th>2</th>\n",
       "      <td>uniprotkb:P49418</td>\n",
       "      <td>uniprotkb:O43426</td>\n",
       "      <td>intact:EBI-7121510|uniprotkb:Q75MK5|uniprotkb:...</td>\n",
       "      <td>intact:EBI-2821539|uniprotkb:O43425|uniprotkb:...</td>\n",
       "      <td>psi-mi:amph_human(display_long)|uniprotkb:AMPH...</td>\n",
       "      <td>psi-mi:synj1_human(display_long)|uniprotkb:SYN...</td>\n",
       "      <td>psi-mi:\"MI:0081\"(peptide array)</td>\n",
       "      <td>Cestra et al. (1999)</td>\n",
       "      <td>pubmed:10542231|mint:MINT-5211933</td>\n",
       "      <td>taxid:9606(human)|taxid:9606(Homo sapiens)</td>\n",
       "      <td>...</td>\n",
       "      <td>-</td>\n",
       "      <td>psi-mi:\"MI:0411\"(enzyme linked immunosorbent a...</td>\n",
       "      <td>psi-mi:\"MI:0083\"(peptide synthesis)</td>\n",
       "      <td>uniprotkb:P49418|intact:EBI-7121510|uniprotkb:...</td>\n",
       "      <td>uniprotkb:O43426|intact:EBI-2821539|uniprotkb:...</td>\n",
       "      <td>P49418|Q75MK5|Q75MM3|A4D1X9|O43538|A4D1X8|Q75M...</td>\n",
       "      <td>O43426|O43425|O94984|Q4KMR1</td>\n",
       "      <td>P49418</td>\n",
       "      <td>O43426</td>\n",
       "      <td>0.56</td>\n",
       "    </tr>\n",
       "    <tr>\n",
       "      <th>3</th>\n",
       "      <td>uniprotkb:P49418</td>\n",
       "      <td>uniprotkb:O43426</td>\n",
       "      <td>intact:EBI-7121510|uniprotkb:Q75MK5|uniprotkb:...</td>\n",
       "      <td>intact:EBI-2821539|uniprotkb:O43425|uniprotkb:...</td>\n",
       "      <td>psi-mi:amph_human(display_long)|uniprotkb:AMPH...</td>\n",
       "      <td>psi-mi:synj1_human(display_long)|uniprotkb:SYN...</td>\n",
       "      <td>psi-mi:\"MI:0081\"(peptide array)</td>\n",
       "      <td>Cestra et al. (1999)</td>\n",
       "      <td>pubmed:10542231|mint:MINT-5211933</td>\n",
       "      <td>taxid:9606(human)|taxid:9606(Homo sapiens)</td>\n",
       "      <td>...</td>\n",
       "      <td>-</td>\n",
       "      <td>psi-mi:\"MI:0411\"(enzyme linked immunosorbent a...</td>\n",
       "      <td>psi-mi:\"MI:0083\"(peptide synthesis)</td>\n",
       "      <td>uniprotkb:P49418|intact:EBI-7121510|uniprotkb:...</td>\n",
       "      <td>uniprotkb:O43426|intact:EBI-2821539|uniprotkb:...</td>\n",
       "      <td>P49418|Q75MK5|Q75MM3|A4D1X9|O43538|A4D1X8|Q75M...</td>\n",
       "      <td>O43426|O43425|O94984|Q4KMR1</td>\n",
       "      <td>P49418</td>\n",
       "      <td>O43426</td>\n",
       "      <td>0.56</td>\n",
       "    </tr>\n",
       "    <tr>\n",
       "      <th>4</th>\n",
       "      <td>uniprotkb:Q99961</td>\n",
       "      <td>uniprotkb:O43426</td>\n",
       "      <td>intact:EBI-697911|uniprotkb:Q99668|uniprotkb:B...</td>\n",
       "      <td>intact:EBI-2821539|uniprotkb:O43425|uniprotkb:...</td>\n",
       "      <td>psi-mi:sh3g1_human(display_long)|uniprotkb:End...</td>\n",
       "      <td>psi-mi:synj1_human(display_long)|uniprotkb:SYN...</td>\n",
       "      <td>psi-mi:\"MI:0081\"(peptide array)</td>\n",
       "      <td>Cestra et al. (1999)</td>\n",
       "      <td>pubmed:10542231|mint:MINT-5211933</td>\n",
       "      <td>taxid:9606(human)|taxid:9606(Homo sapiens)</td>\n",
       "      <td>...</td>\n",
       "      <td>-</td>\n",
       "      <td>psi-mi:\"MI:0411\"(enzyme linked immunosorbent a...</td>\n",
       "      <td>psi-mi:\"MI:0083\"(peptide synthesis)</td>\n",
       "      <td>uniprotkb:Q99961|intact:EBI-697911|uniprotkb:Q...</td>\n",
       "      <td>uniprotkb:O43426|intact:EBI-2821539|uniprotkb:...</td>\n",
       "      <td>Q99961|Q99668|B4DRA1|E7EVZ4|M0QZV5</td>\n",
       "      <td>O43426|O43425|O94984|Q4KMR1</td>\n",
       "      <td>Q99961</td>\n",
       "      <td>O43426</td>\n",
       "      <td>0.44</td>\n",
       "    </tr>\n",
       "  </tbody>\n",
       "</table>\n",
       "<p>5 rows × 49 columns</p>\n",
       "</div>"
      ],
      "text/plain": [
       "  #ID(s) interactor A ID(s) interactor B  \\\n",
       "0    uniprotkb:P49418   uniprotkb:O43426   \n",
       "1    uniprotkb:P49418   uniprotkb:O43426   \n",
       "2    uniprotkb:P49418   uniprotkb:O43426   \n",
       "3    uniprotkb:P49418   uniprotkb:O43426   \n",
       "4    uniprotkb:Q99961   uniprotkb:O43426   \n",
       "\n",
       "                             Alt. ID(s) interactor A  \\\n",
       "0  intact:EBI-7121510|uniprotkb:Q75MK5|uniprotkb:...   \n",
       "1  intact:EBI-7121510|uniprotkb:Q75MK5|uniprotkb:...   \n",
       "2  intact:EBI-7121510|uniprotkb:Q75MK5|uniprotkb:...   \n",
       "3  intact:EBI-7121510|uniprotkb:Q75MK5|uniprotkb:...   \n",
       "4  intact:EBI-697911|uniprotkb:Q99668|uniprotkb:B...   \n",
       "\n",
       "                             Alt. ID(s) interactor B  \\\n",
       "0  intact:EBI-2821539|uniprotkb:O43425|uniprotkb:...   \n",
       "1  intact:EBI-2821539|uniprotkb:O43425|uniprotkb:...   \n",
       "2  intact:EBI-2821539|uniprotkb:O43425|uniprotkb:...   \n",
       "3  intact:EBI-2821539|uniprotkb:O43425|uniprotkb:...   \n",
       "4  intact:EBI-2821539|uniprotkb:O43425|uniprotkb:...   \n",
       "\n",
       "                              Alias(es) interactor A  \\\n",
       "0  psi-mi:amph_human(display_long)|uniprotkb:AMPH...   \n",
       "1  psi-mi:amph_human(display_long)|uniprotkb:AMPH...   \n",
       "2  psi-mi:amph_human(display_long)|uniprotkb:AMPH...   \n",
       "3  psi-mi:amph_human(display_long)|uniprotkb:AMPH...   \n",
       "4  psi-mi:sh3g1_human(display_long)|uniprotkb:End...   \n",
       "\n",
       "                              Alias(es) interactor B  \\\n",
       "0  psi-mi:synj1_human(display_long)|uniprotkb:SYN...   \n",
       "1  psi-mi:synj1_human(display_long)|uniprotkb:SYN...   \n",
       "2  psi-mi:synj1_human(display_long)|uniprotkb:SYN...   \n",
       "3  psi-mi:synj1_human(display_long)|uniprotkb:SYN...   \n",
       "4  psi-mi:synj1_human(display_long)|uniprotkb:SYN...   \n",
       "\n",
       "   Interaction detection method(s) Publication 1st author(s)  \\\n",
       "0  psi-mi:\"MI:0084\"(phage display)      Cestra et al. (1999)   \n",
       "1  psi-mi:\"MI:0081\"(peptide array)      Cestra et al. (1999)   \n",
       "2  psi-mi:\"MI:0081\"(peptide array)      Cestra et al. (1999)   \n",
       "3  psi-mi:\"MI:0081\"(peptide array)      Cestra et al. (1999)   \n",
       "4  psi-mi:\"MI:0081\"(peptide array)      Cestra et al. (1999)   \n",
       "\n",
       "           Publication Identifier(s)  \\\n",
       "0  pubmed:10542231|mint:MINT-5211933   \n",
       "1  pubmed:10542231|mint:MINT-5211933   \n",
       "2  pubmed:10542231|mint:MINT-5211933   \n",
       "3  pubmed:10542231|mint:MINT-5211933   \n",
       "4  pubmed:10542231|mint:MINT-5211933   \n",
       "\n",
       "                           Taxid interactor A  ...  \\\n",
       "0  taxid:9606(human)|taxid:9606(Homo sapiens)  ...   \n",
       "1  taxid:9606(human)|taxid:9606(Homo sapiens)  ...   \n",
       "2  taxid:9606(human)|taxid:9606(Homo sapiens)  ...   \n",
       "3  taxid:9606(human)|taxid:9606(Homo sapiens)  ...   \n",
       "4  taxid:9606(human)|taxid:9606(Homo sapiens)  ...   \n",
       "\n",
       "  Stoichiometry(s) interactor B  \\\n",
       "0                             -   \n",
       "1                             -   \n",
       "2                             -   \n",
       "3                             -   \n",
       "4                             -   \n",
       "\n",
       "                 Identification method participant A  \\\n",
       "0  psi-mi:\"MI:0078\"(nucleotide sequence identific...   \n",
       "1  psi-mi:\"MI:0411\"(enzyme linked immunosorbent a...   \n",
       "2  psi-mi:\"MI:0411\"(enzyme linked immunosorbent a...   \n",
       "3  psi-mi:\"MI:0411\"(enzyme linked immunosorbent a...   \n",
       "4  psi-mi:\"MI:0411\"(enzyme linked immunosorbent a...   \n",
       "\n",
       "                 Identification method participant B  \\\n",
       "0  psi-mi:\"MI:0078\"(nucleotide sequence identific...   \n",
       "1                psi-mi:\"MI:0083\"(peptide synthesis)   \n",
       "2                psi-mi:\"MI:0083\"(peptide synthesis)   \n",
       "3                psi-mi:\"MI:0083\"(peptide synthesis)   \n",
       "4                psi-mi:\"MI:0083\"(peptide synthesis)   \n",
       "\n",
       "                                All IDs interactor A  \\\n",
       "0  uniprotkb:P49418|intact:EBI-7121510|uniprotkb:...   \n",
       "1  uniprotkb:P49418|intact:EBI-7121510|uniprotkb:...   \n",
       "2  uniprotkb:P49418|intact:EBI-7121510|uniprotkb:...   \n",
       "3  uniprotkb:P49418|intact:EBI-7121510|uniprotkb:...   \n",
       "4  uniprotkb:Q99961|intact:EBI-697911|uniprotkb:Q...   \n",
       "\n",
       "                                All IDs interactor B  \\\n",
       "0  uniprotkb:O43426|intact:EBI-2821539|uniprotkb:...   \n",
       "1  uniprotkb:O43426|intact:EBI-2821539|uniprotkb:...   \n",
       "2  uniprotkb:O43426|intact:EBI-2821539|uniprotkb:...   \n",
       "3  uniprotkb:O43426|intact:EBI-2821539|uniprotkb:...   \n",
       "4  uniprotkb:O43426|intact:EBI-2821539|uniprotkb:...   \n",
       "\n",
       "                                     uniprotkb_IDs_A  \\\n",
       "0  P49418|Q75MK5|Q75MM3|A4D1X9|O43538|A4D1X8|Q75M...   \n",
       "1  P49418|Q75MK5|Q75MM3|A4D1X9|O43538|A4D1X8|Q75M...   \n",
       "2  P49418|Q75MK5|Q75MM3|A4D1X9|O43538|A4D1X8|Q75M...   \n",
       "3  P49418|Q75MK5|Q75MM3|A4D1X9|O43538|A4D1X8|Q75M...   \n",
       "4                 Q99961|Q99668|B4DRA1|E7EVZ4|M0QZV5   \n",
       "\n",
       "               uniprotkb_IDs_B first_uniprotkb_IDs_A first_uniprotkb_IDs_B  \\\n",
       "0  O43426|O43425|O94984|Q4KMR1                P49418                O43426   \n",
       "1  O43426|O43425|O94984|Q4KMR1                P49418                O43426   \n",
       "2  O43426|O43425|O94984|Q4KMR1                P49418                O43426   \n",
       "3  O43426|O43425|O94984|Q4KMR1                P49418                O43426   \n",
       "4  O43426|O43425|O94984|Q4KMR1                Q99961                O43426   \n",
       "\n",
       "  intact-miscore  \n",
       "0           0.56  \n",
       "1           0.56  \n",
       "2           0.56  \n",
       "3           0.56  \n",
       "4           0.44  \n",
       "\n",
       "[5 rows x 49 columns]"
      ]
     },
     "metadata": {},
     "output_type": "display_data"
    }
   ],
   "source": [
    "dfIntAct1 = dfIntAct_3.reset_index(drop=True)\n",
    "glance(dfIntAct1)"
   ]
  },
  {
   "cell_type": "markdown",
   "metadata": {},
   "source": [
    "## EDA"
   ]
  },
  {
   "cell_type": "markdown",
   "metadata": {},
   "source": [
    "**Confidence score**"
   ]
  },
  {
   "cell_type": "code",
   "execution_count": 22,
   "metadata": {
    "execution": {
     "iopub.execute_input": "2022-01-10T13:17:26.310158Z",
     "iopub.status.busy": "2022-01-10T13:17:26.309369Z",
     "iopub.status.idle": "2022-01-10T13:17:27.833461Z",
     "shell.execute_reply": "2022-01-10T13:17:27.832878Z",
     "shell.execute_reply.started": "2022-01-10T13:17:26.309819Z"
    }
   },
   "outputs": [
    {
     "data": {
      "image/png": "[encoded data removed]",
      "text/plain": [
       "<Figure size 576x288 with 1 Axes>"
      ]
     },
     "metadata": {
      "needs_background": "light"
     },
     "output_type": "display_data"
    }
   ],
   "source": [
    "sns.distplot(dfIntAct1['intact-miscore'], hist=False);"
   ]
  },
  {
   "cell_type": "markdown",
   "metadata": {
    "hidden": true
   },
   "source": [
    "---\n",
    "**Interaction type**"
   ]
  },
  {
   "cell_type": "code",
   "execution_count": 23,
   "metadata": {
    "ExecuteTime": {
     "end_time": "2019-10-30T13:15:04.607394Z",
     "start_time": "2019-10-30T13:15:04.201567Z"
    },
    "execution": {
     "iopub.execute_input": "2022-01-10T13:18:13.378421Z",
     "iopub.status.busy": "2022-01-10T13:18:13.377732Z",
     "iopub.status.idle": "2022-01-10T13:18:13.478417Z",
     "shell.execute_reply": "2022-01-10T13:18:13.477660Z",
     "shell.execute_reply.started": "2022-01-10T13:18:13.378175Z"
    },
    "hidden": true,
    "scrolled": true
   },
   "outputs": [
    {
     "data": {
      "text/plain": [
       "Interaction type(s)\n",
       "psi-mi:\"MI:0915\"(physical association)                                  342550\n",
       "psi-mi:\"MI:0914\"(association)                                           188779\n",
       "psi-mi:\"MI:2364\"(proximity)                                              20602\n",
       "psi-mi:\"MI:0407\"(direct interaction)                                     15139\n",
       "psi-mi:\"MI:0403\"(colocalization)                                          3684\n",
       "psi-mi:\"MI:0217\"(phosphorylation reaction)                                1962\n",
       "psi-mi:\"MI:0220\"(ubiquitination reaction)                                  395\n",
       "psi-mi:\"MI:0203\"(dephosphorylation reaction)                               362\n",
       "psi-mi:\"MI:0570\"(protein cleavage)                                         214\n",
       "psi-mi:\"MI:0194\"(cleavage reaction)                                        161\n",
       "psi-mi:\"MI:0213\"(methylation reaction)                                      73\n",
       "psi-mi:\"MI:0557\"(adp ribosylation reaction)                                 59\n",
       "psi-mi:\"MI:0414\"(enzymatic reaction)                                        45\n",
       "psi-mi:\"MI:0192\"(acetylation reaction)                                      42\n",
       "psi-mi:\"MI:0195\"(covalent binding)                                          36\n",
       "psi-mi:\"MI:0408\"(disulfide bond)                                            36\n",
       "psi-mi:\"MI:0210\"(hydroxylation reaction)                                    30\n",
       "psi-mi:\"MI:0197\"(deacetylation reaction)                                    28\n",
       "psi-mi:\"MI:0566\"(sumoylation reaction)                                      23\n",
       "psi-mi:\"MI:0567\"(neddylation reaction)                                      18\n",
       "psi-mi:\"MI:0871\"(demethylation reaction)                                    16\n",
       "psi-mi:\"MI:1127\"(putative self interaction)                                 14\n",
       "psi-mi:\"MI:0945\"(oxidoreductase activity electron transfer reaction)        13\n",
       "psi-mi:\"MI:0204\"(deubiquitination reaction)                                 13\n",
       "psi-mi:\"MI:1126\"(self interaction)                                           9\n",
       "psi-mi:\"MI:0902\"(rna cleavage)                                               9\n",
       "psi-mi:\"MI:0559\"(glycosylation reaction)                                     6\n",
       "psi-mi:\"MI:2252\"(guanine nucleotide exchange factor reaction)                6\n",
       "psi-mi:\"MI:0216\"(palmitoylation reaction)                                    5\n",
       "psi-mi:\"MI:0214\"(myristoylation reaction)                                    4\n",
       "psi-mi:\"MI:1148\"(ampylation reaction)                                        4\n",
       "psi-mi:\"MI:0211\"(lipid addition)                                             4\n",
       "psi-mi:\"MI:0572\"(dna cleavage)                                               3\n",
       "psi-mi:\"MI:0883\"(gtpase reaction)                                            3\n",
       "psi-mi:\"MI:0212\"(lipoprotein cleavage reaction)                              3\n",
       "psi-mi:\"MI:0844\"(phosphotransfer reaction)                                   3\n",
       "psi-mi:\"MI:0556\"(transglutamination reaction)                                2\n",
       "psi-mi:\"MI:0882\"(atpase reaction)                                            1\n",
       "psi-mi:\"MI:1237\"(proline isomerization  reaction)                            1\n",
       "psi-mi:\"MI:0569\"(deneddylation reaction)                                     1\n",
       "psi-mi:\"MI:1310\"(de-ADP-ribosylation reaction)                               1\n",
       "dtype: int64"
      ]
     },
     "execution_count": 23,
     "metadata": {},
     "output_type": "execute_result"
    }
   ],
   "source": [
    "dfIntAct1.groupby(by=\"Interaction type(s)\").size().sort_values(ascending=False)"
   ]
  },
  {
   "cell_type": "code",
   "execution_count": 24,
   "metadata": {
    "execution": {
     "iopub.execute_input": "2022-01-10T13:18:14.391994Z",
     "iopub.status.busy": "2022-01-10T13:18:14.391586Z",
     "iopub.status.idle": "2022-01-10T13:18:24.423309Z",
     "shell.execute_reply": "2022-01-10T13:18:24.422712Z",
     "shell.execute_reply.started": "2022-01-10T13:18:14.391934Z"
    }
   },
   "outputs": [
    {
     "data": {
      "image/png": "[encoded data removed]",
      "text/plain": [
       "<Figure size 576x288 with 1 Axes>"
      ]
     },
     "metadata": {
      "needs_background": "light"
     },
     "output_type": "display_data"
    }
   ],
   "source": [
    "l1 = ['psi-mi:\"MI:0915\"(physical association)', 'psi-mi:\"MI:0914\"(association)', 'psi-mi:\"MI:0407\"(direct interaction)']\n",
    "foo = dfIntAct1.loc[dfIntAct1['Interaction type(s)'].isin(l1)]\n",
    "\n",
    "l2 = ['psi-mi:\"MI:0403\"(colocalization)']\n",
    "bar = dfIntAct1.loc[dfIntAct1['Interaction type(s)'].isin(l2)]\n",
    "\n",
    "sns.distplot(foo['intact-miscore'], hist=False, rug=True, norm_hist=True, label='association')\n",
    "sns.distplot(bar['intact-miscore'], hist=False, rug=True, norm_hist=True, label='colocalisation')\n",
    "plt.legend();"
   ]
  },
  {
   "cell_type": "code",
   "execution_count": 25,
   "metadata": {
    "execution": {
     "iopub.execute_input": "2022-01-10T13:18:24.424847Z",
     "iopub.status.busy": "2022-01-10T13:18:24.424611Z",
     "iopub.status.idle": "2022-01-10T13:18:26.001203Z",
     "shell.execute_reply": "2022-01-10T13:18:26.000565Z",
     "shell.execute_reply.started": "2022-01-10T13:18:24.424774Z"
    }
   },
   "outputs": [
    {
     "data": {
      "image/png": "[encoded data removed]",
      "text/plain": [
       "<Figure size 576x288 with 1 Axes>"
      ]
     },
     "metadata": {
      "needs_background": "light"
     },
     "output_type": "display_data"
    }
   ],
   "source": [
    "L = ['psi-mi:\"MI:0915\"(physical association)', 'psi-mi:\"MI:0914\"(association)', 'psi-mi:\"MI:0407\"(direct interaction)']\n",
    "\n",
    "for l in L:\n",
    "    foo = dfIntAct1.loc[dfIntAct1['Interaction type(s)'] == l]\n",
    "    sns.distplot(foo['intact-miscore'], hist=False, label=l)\n",
    "plt.legend();"
   ]
  },
  {
   "cell_type": "markdown",
   "metadata": {
    "heading_collapsed": true,
    "hidden": true
   },
   "source": [
    "---\n",
    "**Complex expansion method**\n",
    "\n",
    "Here we distinguish between true binary interactions and N-ary interactions"
   ]
  },
  {
   "cell_type": "code",
   "execution_count": 26,
   "metadata": {
    "execution": {
     "iopub.execute_input": "2022-01-10T13:18:35.620093Z",
     "iopub.status.busy": "2022-01-10T13:18:35.619301Z",
     "iopub.status.idle": "2022-01-10T13:18:35.721905Z",
     "shell.execute_reply": "2022-01-10T13:18:35.721078Z",
     "shell.execute_reply.started": "2022-01-10T13:18:35.619769Z"
    }
   },
   "outputs": [
    {
     "data": {
      "text/plain": [
       "-                                    357711\n",
       "psi-mi:\"MI:1060\"(spoke expansion)    216648\n",
       "Name: Expansion method(s), dtype: int64"
      ]
     },
     "execution_count": 26,
     "metadata": {},
     "output_type": "execute_result"
    }
   ],
   "source": [
    "dfIntAct_3[\"Expansion method(s)\"].value_counts()"
   ]
  },
  {
   "cell_type": "code",
   "execution_count": 27,
   "metadata": {
    "execution": {
     "iopub.execute_input": "2022-01-10T13:18:36.492527Z",
     "iopub.status.busy": "2022-01-10T13:18:36.491825Z",
     "iopub.status.idle": "2022-01-10T13:18:37.203093Z",
     "shell.execute_reply": "2022-01-10T13:18:37.202562Z",
     "shell.execute_reply.started": "2022-01-10T13:18:36.492241Z"
    }
   },
   "outputs": [
    {
     "data": {
      "image/png": "[encoded data removed]",
      "text/plain": [
       "<Figure size 576x288 with 1 Axes>"
      ]
     },
     "metadata": {
      "needs_background": "light"
     },
     "output_type": "display_data"
    }
   ],
   "source": [
    "l1 = ['-']\n",
    "foo = dfIntAct1.loc[dfIntAct1['Expansion method(s)'].isin(l1)]\n",
    "\n",
    "l2 = ['psi-mi:\"MI:1060\"(spoke expansion)']\n",
    "bar = dfIntAct1.loc[dfIntAct1['Expansion method(s)'].isin(l2)]\n",
    "\n",
    "sns.distplot(foo['intact-miscore'], hist=False, kde=True, norm_hist=True, label='Direct')\n",
    "sns.distplot(bar['intact-miscore'], hist=False, kde=True, norm_hist=True, label='Spoke complexe')\n",
    "plt.legend();"
   ]
  },
  {
   "cell_type": "markdown",
   "metadata": {
    "hidden": true
   },
   "source": [
    "---\n",
    "**detection method**"
   ]
  },
  {
   "cell_type": "code",
   "execution_count": 28,
   "metadata": {
    "ExecuteTime": {
     "end_time": "2019-10-30T13:15:04.607394Z",
     "start_time": "2019-10-30T13:15:04.201567Z"
    },
    "execution": {
     "iopub.execute_input": "2022-01-10T13:18:39.410222Z",
     "iopub.status.busy": "2022-01-10T13:18:39.409506Z",
     "iopub.status.idle": "2022-01-10T13:18:39.521553Z",
     "shell.execute_reply": "2022-01-10T13:18:39.520935Z",
     "shell.execute_reply.started": "2022-01-10T13:18:39.409936Z"
    },
    "hidden": true,
    "scrolled": true
   },
   "outputs": [
    {
     "data": {
      "text/plain": [
       "Interaction detection method(s)\n",
       "psi-mi:\"MI:0007\"(anti tag coimmunoprecipitation)                                        133851\n",
       "psi-mi:\"MI:0397\"(two hybrid array)                                                       93081\n",
       "psi-mi:\"MI:1356\"(validated two hybrid)                                                   80163\n",
       "psi-mi:\"MI:1112\"(two hybrid prey pooling approach)                                       67345\n",
       "psi-mi:\"MI:0006\"(anti bait coimmunoprecipitation)                                        29788\n",
       "psi-mi:\"MI:0676\"(tandem affinity purification)                                           25284\n",
       "psi-mi:\"MI:0096\"(pull down)                                                              23629\n",
       "psi-mi:\"MI:0398\"(two hybrid pooling approach)                                            22009\n",
       "psi-mi:\"MI:1314\"(proximity-dependent biotin identification)                              18716\n",
       "psi-mi:\"MI:0018\"(two hybrid)                                                             15642\n",
       "psi-mi:\"MI:0030\"(cross-linking study)                                                    13297\n",
       "psi-mi:\"MI:2222\"(inference by socio-affinity scoring)                                     4905\n",
       "psi-mi:\"MI:0399\"(two hybrid fragment pooling approach)                                    2693\n",
       "psi-mi:\"MI:0729\"(luminescence based mammalian interactome mapping)                        2521\n",
       "psi-mi:\"MI:0112\"(ubiquitin reconstruction)                                                2264\n",
       "psi-mi:\"MI:0071\"(molecular sieving)                                                       2250\n",
       "psi-mi:\"MI:0424\"(protein kinase assay)                                                    1891\n",
       "psi-mi:\"MI:0107\"(surface plasmon resonance)                                               1789\n",
       "psi-mi:\"MI:0004\"(affinity chromatography technology)                                      1780\n",
       "psi-mi:\"MI:0081\"(peptide array)                                                           1700\n",
       "psi-mi:\"MI:0114\"(x-ray crystallography)                                                   1640\n",
       "psi-mi:\"MI:0053\"(fluorescence polarization spectroscopy)                                  1625\n",
       "psi-mi:\"MI:0416\"(fluorescence microscopy)                                                 1513\n",
       "psi-mi:\"MI:0019\"(coimmunoprecipitation)                                                   1500\n",
       "psi-mi:\"MI:0663\"(confocal microscopy)                                                     1458\n",
       "psi-mi:\"MI:0089\"(protein array)                                                           1278\n",
       "psi-mi:\"MI:0809\"(bimolecular fluorescence complementation)                                1215\n",
       "psi-mi:\"MI:0813\"(proximity ligation assay)                                                1205\n",
       "psi-mi:\"MI:0410\"(3D electron microscopy)                                                   997\n",
       "psi-mi:\"MI:0034\"(display technology)                                                       957\n",
       "                                                                                         ...  \n",
       "psi-mi:\"MI:0998\"(deubiquitinase assay)                                                       3\n",
       "psi-mi:\"MI:0108\"(t7 phage display)                                                           3\n",
       "psi-mi:\"MI:0073\"(mrna display)                                                               3\n",
       "psi-mi:\"MI:0991\"(lipoprotein cleavage assay)                                                 3\n",
       "psi-mi:\"MI:0859\"(force spectroscopy)                                                         2\n",
       "psi-mi:\"MI:0420\"(kinase homogeneous time resolved fluorescence)                              2\n",
       "psi-mi:\"MI:0726\"(reverse two hybrid)                                                         2\n",
       "psi-mi:\"MI:0412\"(electrophoretic mobility supershift assay)                                  2\n",
       "psi-mi:\"MI:0814\"(protease accessibility laddering)                                           2\n",
       "psi-mi:\"MI:0254\"(genetic interference)                                                       2\n",
       "psi-mi:\"MI:1138\"(decarboxylation assay)                                                      2\n",
       "psi-mi:\"MI:2404\"(oxidase assay)                                                              2\n",
       "psi-mi:\"MI:0888\"(small angle neutron scattering)                                             2\n",
       "psi-mi:\"MI:0966\"(ultraviolet-visible spectroscopy)                                           2\n",
       "psi-mi:\"MI:0928\"(filter trap assay)                                                          2\n",
       "psi-mi:\"MI:0256\"(rna interference)                                                           1\n",
       "psi-mi:\"MI:2338\"(electron tomography)                                                        1\n",
       "psi-mi:\"MI:1007\"(glycosylase assay)                                                          1\n",
       "psi-mi:\"MI:0095\"(\"proteinchip(r) on a surface-enhanced laser desorption/ionization\")         1\n",
       "psi-mi:\"MI:0425\"(kinase scintillation proximity assay)                                       1\n",
       "psi-mi:\"MI:1005\"(adp ribosylase assay)                                                       1\n",
       "psi-mi:\"MI:0695\"(sandwich immunoassay)                                                       1\n",
       "psi-mi:\"MI:1313\"(proximity labelling technology)                                             1\n",
       "psi-mi:\"MI:1004\"(palmitoylase assay)                                                         1\n",
       "psi-mi:\"MI:0984\"(deamination assay)                                                          1\n",
       "psi-mi:\"MI:1309\"(de-ADP-ribosylation assay)                                                  1\n",
       "psi-mi:\"MI:0824\"(x-ray powder diffraction)                                                   1\n",
       "psi-mi:\"MI:1038\"(silicon nanowire field-effect transistor)                                   1\n",
       "psi-mi:\"MI:1086\"(equilibrium dialysis)                                                       1\n",
       "psi-mi:\"MI:1017\"(rna immunoprecipitation)                                                    1\n",
       "Length: 190, dtype: int64"
      ]
     },
     "execution_count": 28,
     "metadata": {},
     "output_type": "execute_result"
    }
   ],
   "source": [
    "dfIntAct1.groupby(by=\"Interaction detection method(s)\").size().sort_values(ascending=False)"
   ]
  },
  {
   "cell_type": "code",
   "execution_count": 29,
   "metadata": {
    "execution": {
     "iopub.execute_input": "2022-01-10T13:18:41.703804Z",
     "iopub.status.busy": "2022-01-10T13:18:41.703087Z",
     "iopub.status.idle": "2022-01-10T13:18:42.904736Z",
     "shell.execute_reply": "2022-01-10T13:18:42.904184Z",
     "shell.execute_reply.started": "2022-01-10T13:18:41.703508Z"
    }
   },
   "outputs": [
    {
     "data": {
      "image/png": "[encoded data removed]",
      "text/plain": [
       "<Figure size 576x288 with 1 Axes>"
      ]
     },
     "metadata": {
      "needs_background": "light"
     },
     "output_type": "display_data"
    }
   ],
   "source": [
    "L = [\n",
    "    'psi-mi:\"MI:0007\"(anti tag coimmunoprecipitation)', \n",
    "    'psi-mi:\"MI:0397\"(two hybrid array)', \n",
    "    'psi-mi:\"MI:1112\"(two hybrid prey pooling approach)',\n",
    "    'psi-mi:\"MI:1356\"(validated two hybrid)',\n",
    "    'psi-mi:\"MI:0006\"(anti bait coimmunoprecipitation)',\n",
    "    'psi-mi:\"MI:0096\"(pull down)',\n",
    "    'psi-mi:\"MI:0676\"(tandem affinity purification)',\n",
    "    'psi-mi:\"MI:0018\"(two hybrid)'\n",
    "]\n",
    "\n",
    "for l in L:\n",
    "    foo = dfIntAct1.loc[dfIntAct1['Interaction detection method(s)'] == l]\n",
    "    sns.distplot(foo['intact-miscore'], hist=False, label=l)\n",
    "plt.legend();"
   ]
  },
  {
   "cell_type": "code",
   "execution_count": 30,
   "metadata": {
    "execution": {
     "iopub.execute_input": "2022-01-10T13:18:43.887578Z",
     "iopub.status.busy": "2022-01-10T13:18:43.886815Z",
     "iopub.status.idle": "2022-01-10T13:18:44.621707Z",
     "shell.execute_reply": "2022-01-10T13:18:44.621102Z",
     "shell.execute_reply.started": "2022-01-10T13:18:43.887270Z"
    }
   },
   "outputs": [
    {
     "data": {
      "image/png": "[encoded data removed]",
      "text/plain": [
       "<Figure size 576x288 with 1 Axes>"
      ]
     },
     "metadata": {
      "needs_background": "light"
     },
     "output_type": "display_data"
    }
   ],
   "source": [
    "l1 = [\n",
    "    'psi-mi:\"MI:0007\"(anti tag coimmunoprecipitation)',\n",
    "    'psi-mi:\"MI:0006\"(anti bait coimmunoprecipitation)',\n",
    "]\n",
    "foo = dfIntAct1.loc[dfIntAct1['Interaction detection method(s)'].isin(l1)]\n",
    "\n",
    "l2 = [\n",
    "    'psi-mi:\"MI:0397\"(two hybrid array)', \n",
    "    'psi-mi:\"MI:1112\"(two hybrid prey pooling approach)',\n",
    "    'psi-mi:\"MI:1356\"(validated two hybrid)',\n",
    "    'psi-mi:\"MI:0018\"(two hybrid)'\n",
    "]\n",
    "bar = dfIntAct1.loc[dfIntAct1['Interaction detection method(s)'].isin(l2)]\n",
    "\n",
    "l3 = ['psi-mi:\"MI:0096\"(pull down)',]\n",
    "baar = dfIntAct1.loc[dfIntAct1['Interaction detection method(s)'].isin(l3)]\n",
    "\n",
    "l4 = ['psi-mi:\"MI:0676\"(tandem affinity purification)',]\n",
    "fool = dfIntAct1.loc[dfIntAct1['Interaction detection method(s)'].isin(l4)]\n",
    "\n",
    "sns.distplot(foo['intact-miscore'], hist=False, label='coimmunoprecipitation')\n",
    "sns.distplot(bar['intact-miscore'], hist=False, label='two hybrid')\n",
    "sns.distplot(baar['intact-miscore'], hist=False, label='pull down')\n",
    "sns.distplot(fool['intact-miscore'], hist=False, label='TAP')\n",
    "plt.legend();"
   ]
  },
  {
   "cell_type": "markdown",
   "metadata": {
    "hidden": true
   },
   "source": [
    "---\n",
    "**Host organisms**"
   ]
  },
  {
   "cell_type": "code",
   "execution_count": 31,
   "metadata": {
    "ExecuteTime": {
     "end_time": "2019-10-30T13:15:04.607394Z",
     "start_time": "2019-10-30T13:15:04.201567Z"
    },
    "execution": {
     "iopub.execute_input": "2022-01-10T13:18:46.401921Z",
     "iopub.status.busy": "2022-01-10T13:18:46.401162Z",
     "iopub.status.idle": "2022-01-10T13:18:46.543513Z",
     "shell.execute_reply": "2022-01-10T13:18:46.542975Z",
     "shell.execute_reply.started": "2022-01-10T13:18:46.401624Z"
    },
    "hidden": true,
    "scrolled": true
   },
   "outputs": [
    {
     "data": {
      "text/plain": [
       "Host organism(s)\n",
       "taxid:4932(yeasx)|taxid:4932(\"Saccharomyces cerevisiae (Baker's yeast)\")                                                       276113\n",
       "taxid:9606(human-293t)|taxid:9606(Homo sapiens 293 cells transformed with SV40 large T antigen)                                 99799\n",
       "taxid:9606(human-293)|taxid:9606(Homo sapiens transformed primary embryonal kidney cells)                                       42789\n",
       "taxid:-1(in vitro)|taxid:-1(In vitro)                                                                                           38990\n",
       "taxid:9606(human-hela)|taxid:9606(Homo sapiens epitheloid cervix carcinoma cells)                                               31126\n",
       "taxid:9606(human-293 flp-in)|taxid:9606(Homo sapiens)                                                                           10775\n",
       "taxid:9606(human-u2-os)|taxid:9606(Human U2-OS osteosarcoma cell line)                                                           8621\n",
       "taxid:559292(yeast)|taxid:559292(Saccharomyces cerevisiae)                                                                       7149\n",
       "taxid:9606(human)|taxid:9606(Homo sapiens)                                                                                       6322\n",
       "taxid:9606(human-mcf7)|taxid:9606(Homo sapiens  mammary carcinoma cells)                                                         5154\n",
       "taxid:9606(human-hct116)|taxid:9606(Human colon carcinoma HCT116 cells)                                                          3977\n",
       "taxid:9606(human-sh_sy5y)|taxid:9606(Homo sapiens SH-SY5Y cell line)                                                             2689\n",
       "taxid:9606(human-hke3)|taxid:9606(human HKE-3 cell line)                                                                         2672\n",
       "taxid:9606(human-hep_g2)|taxid:9606(\"Homo sapiens hepatocellular carcinoma (HCC) cells (p53-wt).\")                               2657\n",
       "taxid:9606(human-u373_mg)|taxid:9606(Human glioblastoma astrocytoma)                                                             1245\n",
       "taxid:9606(human-HEK-HT)|taxid:9606(human-HEK-HT)                                                                                1238\n",
       "taxid:9606(human-Flp-In T-REx 293)|taxid:9606(human-Flp-In T-REx 293)                                                            1120\n",
       "taxid:562(ecolx)|taxid:562(Escherichia coli)                                                                                      979\n",
       "taxid:-4(in vivo)|taxid:-4(in vivo)                                                                                               911\n",
       "taxid:-3(unknown)|taxid:-3(Unknown)                                                                                               902\n",
       "taxid:10029(crigr-cho_k1)|taxid:10029(Cricetulus griseus ovary K1)                                                                867\n",
       "taxid:9606(human-dld1)|taxid:9606(Human colorectal adenocarcinoma)                                                                844\n",
       "taxid:9606(human-du_145)|taxid:9606(Homo sapiens DU-145 prostate cancer cell line)                                                842\n",
       "taxid:9606(human-huh7)|taxid:9606(Homo sapiens hepatoma cell line established from a hepatocellular carcinoma)                    839\n",
       "taxid:9534(chlae-cos_7)|taxid:9534(Cercopithecus aethiops simian cells transformed with SV40)                                     794\n",
       "taxid:9606(human-k_562)|taxid:9606(Homo sapiens myeloid leukemia cells.)                                                          707\n",
       "taxid:9606(human-caco2)|taxid:9606(Human Caucasian colon adenocarcinoma)                                                          667\n",
       "taxid:9606(human-uvec)|taxid:9606(\"Human Umbilical Vein Endothelial Cells (HUVEC)\")                                               651\n",
       "taxid:9606(human-htc75)|taxid:9606(Homo sapiens)                                                                                  619\n",
       "taxid:9606(human-fibroblast)|taxid:9606(\"Homo sapiens normal diploid fibroblasts (HDF0\")                                          558\n",
       "                                                                                                                                ...  \n",
       "taxid:9606(human-hcc-1954)|taxid:9606(HCC-1954 Ductal Carcinoma cell line)                                                          1\n",
       "taxid:9606(human-h157)|taxid:9606(Homo sapiens H157 oral squamous cell carcinoma cell line)                                         1\n",
       "taxid:9606(human-aml_193)|taxid:9606(Homo sapiens acute myeloid leukemia cell line)                                                 1\n",
       "taxid:9606(human-qbi-293)|taxid:9606(Homo sapiens)                                                                                  1\n",
       "taxid:9606(human-h2122)|taxid:9606(Human lung carcinoma cell line)                                                                  1\n",
       "taxid:9606(human-ptc)|taxid:9606(Homo sapiens)                                                                                      1\n",
       "taxid:9606(human-priess)|taxid:9606(Homo sapiens)                                                                                   1\n",
       "taxid:9606(human-ppc-1)|taxid:9606(human prostatic carcinoma cell line PPC-1)                                                       1\n",
       "taxid:9606(human-hana 3a)|taxid:9606(Homo sapiens)                                                                                  1\n",
       "taxid:9606(human-pmwk)|taxid:9606(Human PMWK melanoma cells)                                                                        1\n",
       "taxid:9606(human-adenocarcinoma)|taxid:9606(Human pulmonary adenocarcinoma cell)                                                    1\n",
       "taxid:9606(human-hbe)|taxid:9606(Homo sapiens)                                                                                      1\n",
       "taxid:9606(human-plh)|taxid:9606(human PLH-EBV  transformed lymphoblastoid cell line)                                               1\n",
       "taxid:9606(human-pineal_gland)|taxid:9606(Human pineal gland)                                                                       1\n",
       "taxid:9606(human-hcc2157)|taxid:9606(Human HCC2157 primary ductal carcinoma, Pr+,ERBB2+,ER-)                                        1\n",
       "taxid:9606(human-sw48)|taxid:9606(Homo sapiens)                                                                                     1\n",
       "taxid:9606(human-a2780)|taxid:9606(A2780 Human ovarian cancer cell line)                                                            1\n",
       "taxid:9606(human-sum52pe)|taxid:9606(Human SUM52PE - pleural effusion of a metastatic breast carcinoma, triple negative)            1\n",
       "taxid:9606(human-svec)|taxid:9606(Human saphenous vein endothelial cells)                                                           1\n",
       "taxid:9606(human-a12h9)|taxid:9606(Homo sapiens)                                                                                    1\n",
       "taxid:9606(human-LC)|taxid:9606(human-locus coeruleus)                                                                              1\n",
       "taxid:9606(human-hela p)|taxid:9606(Homo sapiens)                                                                                   1\n",
       "taxid:9606(human-paxc002)|taxid:9606(Homo sapiens)                                                                                  1\n",
       "taxid:9606(human-sw13vim-)|taxid:9606(Homo sapiens SW13 vim- cells  lacking  endogenous cytoplasmic intermediate filaments)         1\n",
       "taxid:9606(human-pancreas_cancer)|taxid:9606(Human pancreatic tissue)                                                               1\n",
       "taxid:9606(human-92.1)|taxid:9606(Human-92.1- uveal-melanoma cell line)                                                             1\n",
       "taxid:9606(human-hep 2 beta)|taxid:9606(Homo sapiens)                                                                               1\n",
       "taxid:9606(human-pancreas)|taxid:9606(Human pancreatic tissue)                                                                      1\n",
       "taxid:9606(human-panc04-03)|taxid:9606(human-panc04-03  Pancreatic ductal adenocarcinoma cell line)                                 1\n",
       "taxid:9606(human-mm200)|taxid:9606(Homo sapiens melanoma cell line MM200)                                                           1\n",
       "Length: 968, dtype: int64"
      ]
     },
     "execution_count": 31,
     "metadata": {},
     "output_type": "execute_result"
    }
   ],
   "source": [
    "dfIntAct1.groupby(by=\"Host organism(s)\").size().sort_values(ascending=False)"
   ]
  },
  {
   "cell_type": "code",
   "execution_count": 32,
   "metadata": {
    "execution": {
     "iopub.execute_input": "2022-01-10T13:18:46.937784Z",
     "iopub.status.busy": "2022-01-10T13:18:46.937176Z",
     "iopub.status.idle": "2022-01-10T13:18:47.797573Z",
     "shell.execute_reply": "2022-01-10T13:18:47.796768Z",
     "shell.execute_reply.started": "2022-01-10T13:18:46.937532Z"
    }
   },
   "outputs": [
    {
     "data": {
      "image/png": "[encoded data removed]",
      "text/plain": [
       "<Figure size 576x288 with 1 Axes>"
      ]
     },
     "metadata": {
      "needs_background": "light"
     },
     "output_type": "display_data"
    }
   ],
   "source": [
    "l1 = [\n",
    "    'taxid:4932(yeasx)|taxid:4932(\"Saccharomyces cerevisiae (Baker\\'s yeast)\") ',\n",
    "    'taxid:559292(yeast)|taxid:559292(Saccharomyces cerevisiae)'\n",
    "]\n",
    "foo = dfIntAct1.loc[dfIntAct1['Host organism(s)'].isin(l1)]\n",
    "\n",
    "l2 = [\n",
    "    'taxid:9606(human-293t)|taxid:9606(Homo sapiens 293 cells transformed with SV40 large T antigen)',\n",
    "    'taxid:9606(human-293)|taxid:9606(Homo sapiens transformed primary embryonal kidney cells)',\n",
    "    'taxid:9606(human-hela)|taxid:9606(Homo sapiens epitheloid cervix carcinoma cells)',\n",
    "    'taxid:9606(human-293 flp-in)|taxid:9606(Homo sapiens)',\n",
    "    'taxid:9606(human-u2-os)|taxid:9606(Human U2-OS osteosarcoma cell line)',\n",
    "    'taxid:9606(human)|taxid:9606(Homo sapiens)'\n",
    "]\n",
    "bar = dfIntAct1.loc[dfIntAct1['Host organism(s)'].isin(l2)]\n",
    "\n",
    "l3 = ['taxid:-1(in vitro)|taxid:-1(In vitro)']\n",
    "baar = dfIntAct1.loc[dfIntAct1['Host organism(s)'].isin(l3)]\n",
    "\n",
    "sns.distplot(foo['intact-miscore'], hist=False, label='yeast')\n",
    "sns.distplot(bar['intact-miscore'], hist=False, label='homo sapiens')\n",
    "sns.distplot(baar['intact-miscore'], hist=False, label='in vitro')\n",
    "plt.legend();"
   ]
  },
  {
   "cell_type": "markdown",
   "metadata": {},
   "source": [
    "## Filter 2: no complexes and no colocalisation"
   ]
  },
  {
   "cell_type": "markdown",
   "metadata": {},
   "source": [
    "**Keep only direct interactions (no complexe expensions)**"
   ]
  },
  {
   "cell_type": "code",
   "execution_count": 33,
   "metadata": {
    "execution": {
     "iopub.execute_input": "2022-01-10T13:19:08.101681Z",
     "iopub.status.busy": "2022-01-10T13:19:08.100858Z",
     "iopub.status.idle": "2022-01-10T13:19:08.112532Z",
     "shell.execute_reply": "2022-01-10T13:19:08.111190Z",
     "shell.execute_reply.started": "2022-01-10T13:19:08.101353Z"
    }
   },
   "outputs": [
    {
     "data": {
      "text/plain": [
       "(574359, 49)"
      ]
     },
     "execution_count": 33,
     "metadata": {},
     "output_type": "execute_result"
    }
   ],
   "source": [
    "dfIntAct1.shape"
   ]
  },
  {
   "cell_type": "code",
   "execution_count": 34,
   "metadata": {
    "execution": {
     "iopub.execute_input": "2022-01-10T13:19:12.057458Z",
     "iopub.status.busy": "2022-01-10T13:19:12.056903Z",
     "iopub.status.idle": "2022-01-10T13:19:12.440680Z",
     "shell.execute_reply": "2022-01-10T13:19:12.439936Z",
     "shell.execute_reply.started": "2022-01-10T13:19:12.057379Z"
    }
   },
   "outputs": [
    {
     "data": {
      "text/plain": [
       "(357711, 49)"
      ]
     },
     "execution_count": 34,
     "metadata": {},
     "output_type": "execute_result"
    }
   ],
   "source": [
    "dfIntAct1_2 = dfIntAct1.loc[dfIntAct1['Expansion method(s)'] == '-']\n",
    "dfIntAct1_2.shape"
   ]
  },
  {
   "cell_type": "markdown",
   "metadata": {},
   "source": [
    "---\n",
    "**EDA part 2**"
   ]
  },
  {
   "cell_type": "code",
   "execution_count": 35,
   "metadata": {
    "ExecuteTime": {
     "end_time": "2019-10-30T13:15:04.607394Z",
     "start_time": "2019-10-30T13:15:04.201567Z"
    },
    "execution": {
     "iopub.execute_input": "2022-01-10T13:19:16.899147Z",
     "iopub.status.busy": "2022-01-10T13:19:16.898873Z",
     "iopub.status.idle": "2022-01-10T13:19:16.934453Z",
     "shell.execute_reply": "2022-01-10T13:19:16.930846Z",
     "shell.execute_reply.started": "2022-01-10T13:19:16.899114Z"
    },
    "hidden": true,
    "scrolled": true
   },
   "outputs": [
    {
     "data": {
      "text/plain": [
       "Interaction type(s)\n",
       "psi-mi:\"MI:0915\"(physical association)                                  334437\n",
       "psi-mi:\"MI:0407\"(direct interaction)                                     14576\n",
       "psi-mi:\"MI:0403\"(colocalization)                                          3063\n",
       "psi-mi:\"MI:2364\"(proximity)                                               1755\n",
       "psi-mi:\"MI:0217\"(phosphorylation reaction)                                1627\n",
       "psi-mi:\"MI:0914\"(association)                                             1201\n",
       "psi-mi:\"MI:0203\"(dephosphorylation reaction)                               362\n",
       "psi-mi:\"MI:0570\"(protein cleavage)                                         142\n",
       "psi-mi:\"MI:0194\"(cleavage reaction)                                        124\n",
       "psi-mi:\"MI:0557\"(adp ribosylation reaction)                                 57\n",
       "psi-mi:\"MI:0213\"(methylation reaction)                                      54\n",
       "psi-mi:\"MI:0192\"(acetylation reaction)                                      40\n",
       "psi-mi:\"MI:0220\"(ubiquitination reaction)                                   37\n",
       "psi-mi:\"MI:0408\"(disulfide bond)                                            36\n",
       "psi-mi:\"MI:0195\"(covalent binding)                                          34\n",
       "psi-mi:\"MI:0210\"(hydroxylation reaction)                                    30\n",
       "psi-mi:\"MI:0197\"(deacetylation reaction)                                    26\n",
       "psi-mi:\"MI:0414\"(enzymatic reaction)                                        23\n",
       "psi-mi:\"MI:1127\"(putative self interaction)                                 14\n",
       "psi-mi:\"MI:0871\"(demethylation reaction)                                    13\n",
       "psi-mi:\"MI:0204\"(deubiquitination reaction)                                 12\n",
       "psi-mi:\"MI:0945\"(oxidoreductase activity electron transfer reaction)        12\n",
       "psi-mi:\"MI:1126\"(self interaction)                                           9\n",
       "psi-mi:\"MI:0566\"(sumoylation reaction)                                       7\n",
       "psi-mi:\"MI:1148\"(ampylation reaction)                                        4\n",
       "psi-mi:\"MI:0844\"(phosphotransfer reaction)                                   3\n",
       "psi-mi:\"MI:0216\"(palmitoylation reaction)                                    3\n",
       "psi-mi:\"MI:0212\"(lipoprotein cleavage reaction)                              3\n",
       "psi-mi:\"MI:0556\"(transglutamination reaction)                                2\n",
       "psi-mi:\"MI:0567\"(neddylation reaction)                                       1\n",
       "psi-mi:\"MI:1310\"(de-ADP-ribosylation reaction)                               1\n",
       "psi-mi:\"MI:0559\"(glycosylation reaction)                                     1\n",
       "psi-mi:\"MI:1237\"(proline isomerization  reaction)                            1\n",
       "psi-mi:\"MI:0569\"(deneddylation reaction)                                     1\n",
       "dtype: int64"
      ]
     },
     "execution_count": 35,
     "metadata": {},
     "output_type": "execute_result"
    }
   ],
   "source": [
    "dfIntAct1_2.groupby(by=\"Interaction type(s)\").size().sort_values(ascending=False)"
   ]
  },
  {
   "cell_type": "code",
   "execution_count": 36,
   "metadata": {
    "execution": {
     "iopub.execute_input": "2022-01-10T13:19:17.633007Z",
     "iopub.status.busy": "2022-01-10T13:19:17.632289Z",
     "iopub.status.idle": "2022-01-10T13:19:25.649230Z",
     "shell.execute_reply": "2022-01-10T13:19:25.648574Z",
     "shell.execute_reply.started": "2022-01-10T13:19:17.632724Z"
    }
   },
   "outputs": [
    {
     "data": {
      "image/png": "[encoded data removed]",
      "text/plain": [
       "<Figure size 576x288 with 1 Axes>"
      ]
     },
     "metadata": {
      "needs_background": "light"
     },
     "output_type": "display_data"
    }
   ],
   "source": [
    "l1 = ['psi-mi:\"MI:0915\"(physical association)', 'psi-mi:\"MI:0914\"(association)', 'psi-mi:\"MI:0407\"(direct interaction)']\n",
    "foo = dfIntAct1_2.loc[dfIntAct1_2['Interaction type(s)'].isin(l1)]\n",
    "\n",
    "l2 = ['psi-mi:\"MI:0403\"(colocalization)']\n",
    "bar = dfIntAct1_2.loc[dfIntAct1_2['Interaction type(s)'].isin(l2)]\n",
    "\n",
    "sns.distplot(foo['intact-miscore'], hist=False, rug=True, norm_hist=True, label='association')\n",
    "sns.distplot(bar['intact-miscore'], hist=False, rug=True, norm_hist=True, label='colocalisation')\n",
    "plt.legend();"
   ]
  },
  {
   "cell_type": "code",
   "execution_count": 37,
   "metadata": {
    "execution": {
     "iopub.execute_input": "2022-01-10T13:19:25.651066Z",
     "iopub.status.busy": "2022-01-10T13:19:25.650865Z",
     "iopub.status.idle": "2022-01-10T13:19:26.722986Z",
     "shell.execute_reply": "2022-01-10T13:19:26.722419Z",
     "shell.execute_reply.started": "2022-01-10T13:19:25.651031Z"
    }
   },
   "outputs": [
    {
     "data": {
      "image/png": "[encoded data removed]",
      "text/plain": [
       "<Figure size 576x288 with 1 Axes>"
      ]
     },
     "metadata": {
      "needs_background": "light"
     },
     "output_type": "display_data"
    }
   ],
   "source": [
    "L = ['psi-mi:\"MI:0915\"(physical association)', 'psi-mi:\"MI:0914\"(association)', 'psi-mi:\"MI:0407\"(direct interaction)']\n",
    "\n",
    "for l in L:\n",
    "    foo = dfIntAct1_2.loc[dfIntAct1_2['Interaction type(s)'] == l]\n",
    "    sns.distplot(foo['intact-miscore'], hist=False, label=l)\n",
    "plt.legend();"
   ]
  },
  {
   "cell_type": "markdown",
   "metadata": {},
   "source": [
    "---\n",
    "**keep only associations, no colocalisations or other things**"
   ]
  },
  {
   "cell_type": "code",
   "execution_count": 38,
   "metadata": {
    "execution": {
     "iopub.execute_input": "2022-01-10T13:19:26.724382Z",
     "iopub.status.busy": "2022-01-10T13:19:26.724215Z",
     "iopub.status.idle": "2022-01-10T13:19:26.913886Z",
     "shell.execute_reply": "2022-01-10T13:19:26.913354Z",
     "shell.execute_reply.started": "2022-01-10T13:19:26.724356Z"
    }
   },
   "outputs": [
    {
     "data": {
      "text/plain": [
       "(350214, 49)"
      ]
     },
     "execution_count": 38,
     "metadata": {},
     "output_type": "execute_result"
    }
   ],
   "source": [
    "foo = [\n",
    "    'psi-mi:\"MI:0915\"(physical association)', \n",
    "    'psi-mi:\"MI:0914\"(association)', \n",
    "    'psi-mi:\"MI:0407\"(direct interaction)'\n",
    "]\n",
    "\n",
    "dfIntAct1_3 = dfIntAct1_2.loc[dfIntAct1_2['Interaction type(s)'].isin(foo)]\n",
    "dfIntAct1_3.shape"
   ]
  },
  {
   "cell_type": "code",
   "execution_count": 39,
   "metadata": {
    "execution": {
     "iopub.execute_input": "2022-01-10T13:19:26.914734Z",
     "iopub.status.busy": "2022-01-10T13:19:26.914576Z",
     "iopub.status.idle": "2022-01-10T13:19:27.078952Z",
     "shell.execute_reply": "2022-01-10T13:19:27.078411Z",
     "shell.execute_reply.started": "2022-01-10T13:19:26.914710Z"
    }
   },
   "outputs": [
    {
     "data": {
      "image/png": "[encoded data removed]",
      "text/plain": [
       "<Figure size 576x288 with 1 Axes>"
      ]
     },
     "metadata": {
      "needs_background": "light"
     },
     "output_type": "display_data"
    }
   ],
   "source": [
    "sns.distplot(dfIntAct1_3['intact-miscore'], kde=True,hist=False);"
   ]
  },
  {
   "cell_type": "markdown",
   "metadata": {},
   "source": [
    "---\n",
    "**Reinitialise index**"
   ]
  },
  {
   "cell_type": "code",
   "execution_count": 40,
   "metadata": {
    "execution": {
     "iopub.execute_input": "2022-01-10T13:19:44.616159Z",
     "iopub.status.busy": "2022-01-10T13:19:44.615712Z",
     "iopub.status.idle": "2022-01-10T13:19:45.023406Z",
     "shell.execute_reply": "2022-01-10T13:19:45.022935Z",
     "shell.execute_reply.started": "2022-01-10T13:19:44.616094Z"
    }
   },
   "outputs": [
    {
     "name": "stdout",
     "output_type": "stream",
     "text": [
      "DataFrame: 350,214 rows \t 49 columns\n"
     ]
    },
    {
     "data": {
      "text/html": [
       "<div>\n",
       "<style scoped>\n",
       "    .dataframe tbody tr th:only-of-type {\n",
       "        vertical-align: middle;\n",
       "    }\n",
       "\n",
       "    .dataframe tbody tr th {\n",
       "        vertical-align: top;\n",
       "    }\n",
       "\n",
       "    .dataframe thead th {\n",
       "        text-align: right;\n",
       "    }\n",
       "</style>\n",
       "<table border=\"1\" class=\"dataframe\">\n",
       "  <thead>\n",
       "    <tr style=\"text-align: right;\">\n",
       "      <th></th>\n",
       "      <th>#ID(s) interactor A</th>\n",
       "      <th>ID(s) interactor B</th>\n",
       "      <th>Alt. ID(s) interactor A</th>\n",
       "      <th>Alt. ID(s) interactor B</th>\n",
       "      <th>Alias(es) interactor A</th>\n",
       "      <th>Alias(es) interactor B</th>\n",
       "      <th>Interaction detection method(s)</th>\n",
       "      <th>Publication 1st author(s)</th>\n",
       "      <th>Publication Identifier(s)</th>\n",
       "      <th>Taxid interactor A</th>\n",
       "      <th>...</th>\n",
       "      <th>Stoichiometry(s) interactor B</th>\n",
       "      <th>Identification method participant A</th>\n",
       "      <th>Identification method participant B</th>\n",
       "      <th>All IDs interactor A</th>\n",
       "      <th>All IDs interactor B</th>\n",
       "      <th>uniprotkb_IDs_A</th>\n",
       "      <th>uniprotkb_IDs_B</th>\n",
       "      <th>first_uniprotkb_IDs_A</th>\n",
       "      <th>first_uniprotkb_IDs_B</th>\n",
       "      <th>intact-miscore</th>\n",
       "    </tr>\n",
       "  </thead>\n",
       "  <tbody>\n",
       "    <tr>\n",
       "      <th>0</th>\n",
       "      <td>uniprotkb:P49418</td>\n",
       "      <td>uniprotkb:O43426</td>\n",
       "      <td>intact:EBI-7121510|uniprotkb:Q75MK5|uniprotkb:...</td>\n",
       "      <td>intact:EBI-2821539|uniprotkb:O43425|uniprotkb:...</td>\n",
       "      <td>psi-mi:amph_human(display_long)|uniprotkb:AMPH...</td>\n",
       "      <td>psi-mi:synj1_human(display_long)|uniprotkb:SYN...</td>\n",
       "      <td>psi-mi:\"MI:0084\"(phage display)</td>\n",
       "      <td>Cestra et al. (1999)</td>\n",
       "      <td>pubmed:10542231|mint:MINT-5211933</td>\n",
       "      <td>taxid:9606(human)|taxid:9606(Homo sapiens)</td>\n",
       "      <td>...</td>\n",
       "      <td>-</td>\n",
       "      <td>psi-mi:\"MI:0078\"(nucleotide sequence identific...</td>\n",
       "      <td>psi-mi:\"MI:0078\"(nucleotide sequence identific...</td>\n",
       "      <td>uniprotkb:P49418|intact:EBI-7121510|uniprotkb:...</td>\n",
       "      <td>uniprotkb:O43426|intact:EBI-2821539|uniprotkb:...</td>\n",
       "      <td>P49418|Q75MK5|Q75MM3|A4D1X9|O43538|A4D1X8|Q75M...</td>\n",
       "      <td>O43426|O43425|O94984|Q4KMR1</td>\n",
       "      <td>P49418</td>\n",
       "      <td>O43426</td>\n",
       "      <td>0.56</td>\n",
       "    </tr>\n",
       "    <tr>\n",
       "      <th>1</th>\n",
       "      <td>uniprotkb:P49418</td>\n",
       "      <td>uniprotkb:O43426</td>\n",
       "      <td>intact:EBI-7121510|uniprotkb:Q75MK5|uniprotkb:...</td>\n",
       "      <td>intact:EBI-2821539|uniprotkb:O43425|uniprotkb:...</td>\n",
       "      <td>psi-mi:amph_human(display_long)|uniprotkb:AMPH...</td>\n",
       "      <td>psi-mi:synj1_human(display_long)|uniprotkb:SYN...</td>\n",
       "      <td>psi-mi:\"MI:0081\"(peptide array)</td>\n",
       "      <td>Cestra et al. (1999)</td>\n",
       "      <td>pubmed:10542231|mint:MINT-5211933</td>\n",
       "      <td>taxid:9606(human)|taxid:9606(Homo sapiens)</td>\n",
       "      <td>...</td>\n",
       "      <td>-</td>\n",
       "      <td>psi-mi:\"MI:0411\"(enzyme linked immunosorbent a...</td>\n",
       "      <td>psi-mi:\"MI:0083\"(peptide synthesis)</td>\n",
       "      <td>uniprotkb:P49418|intact:EBI-7121510|uniprotkb:...</td>\n",
       "      <td>uniprotkb:O43426|intact:EBI-2821539|uniprotkb:...</td>\n",
       "      <td>P49418|Q75MK5|Q75MM3|A4D1X9|O43538|A4D1X8|Q75M...</td>\n",
       "      <td>O43426|O43425|O94984|Q4KMR1</td>\n",
       "      <td>P49418</td>\n",
       "      <td>O43426</td>\n",
       "      <td>0.56</td>\n",
       "    </tr>\n",
       "    <tr>\n",
       "      <th>2</th>\n",
       "      <td>uniprotkb:P49418</td>\n",
       "      <td>uniprotkb:O43426</td>\n",
       "      <td>intact:EBI-7121510|uniprotkb:Q75MK5|uniprotkb:...</td>\n",
       "      <td>intact:EBI-2821539|uniprotkb:O43425|uniprotkb:...</td>\n",
       "      <td>psi-mi:amph_human(display_long)|uniprotkb:AMPH...</td>\n",
       "      <td>psi-mi:synj1_human(display_long)|uniprotkb:SYN...</td>\n",
       "      <td>psi-mi:\"MI:0081\"(peptide array)</td>\n",
       "      <td>Cestra et al. (1999)</td>\n",
       "      <td>pubmed:10542231|mint:MINT-5211933</td>\n",
       "      <td>taxid:9606(human)|taxid:9606(Homo sapiens)</td>\n",
       "      <td>...</td>\n",
       "      <td>-</td>\n",
       "      <td>psi-mi:\"MI:0411\"(enzyme linked immunosorbent a...</td>\n",
       "      <td>psi-mi:\"MI:0083\"(peptide synthesis)</td>\n",
       "      <td>uniprotkb:P49418|intact:EBI-7121510|uniprotkb:...</td>\n",
       "      <td>uniprotkb:O43426|intact:EBI-2821539|uniprotkb:...</td>\n",
       "      <td>P49418|Q75MK5|Q75MM3|A4D1X9|O43538|A4D1X8|Q75M...</td>\n",
       "      <td>O43426|O43425|O94984|Q4KMR1</td>\n",
       "      <td>P49418</td>\n",
       "      <td>O43426</td>\n",
       "      <td>0.56</td>\n",
       "    </tr>\n",
       "    <tr>\n",
       "      <th>3</th>\n",
       "      <td>uniprotkb:P49418</td>\n",
       "      <td>uniprotkb:O43426</td>\n",
       "      <td>intact:EBI-7121510|uniprotkb:Q75MK5|uniprotkb:...</td>\n",
       "      <td>intact:EBI-2821539|uniprotkb:O43425|uniprotkb:...</td>\n",
       "      <td>psi-mi:amph_human(display_long)|uniprotkb:AMPH...</td>\n",
       "      <td>psi-mi:synj1_human(display_long)|uniprotkb:SYN...</td>\n",
       "      <td>psi-mi:\"MI:0081\"(peptide array)</td>\n",
       "      <td>Cestra et al. (1999)</td>\n",
       "      <td>pubmed:10542231|mint:MINT-5211933</td>\n",
       "      <td>taxid:9606(human)|taxid:9606(Homo sapiens)</td>\n",
       "      <td>...</td>\n",
       "      <td>-</td>\n",
       "      <td>psi-mi:\"MI:0411\"(enzyme linked immunosorbent a...</td>\n",
       "      <td>psi-mi:\"MI:0083\"(peptide synthesis)</td>\n",
       "      <td>uniprotkb:P49418|intact:EBI-7121510|uniprotkb:...</td>\n",
       "      <td>uniprotkb:O43426|intact:EBI-2821539|uniprotkb:...</td>\n",
       "      <td>P49418|Q75MK5|Q75MM3|A4D1X9|O43538|A4D1X8|Q75M...</td>\n",
       "      <td>O43426|O43425|O94984|Q4KMR1</td>\n",
       "      <td>P49418</td>\n",
       "      <td>O43426</td>\n",
       "      <td>0.56</td>\n",
       "    </tr>\n",
       "    <tr>\n",
       "      <th>4</th>\n",
       "      <td>uniprotkb:Q99961</td>\n",
       "      <td>uniprotkb:O43426</td>\n",
       "      <td>intact:EBI-697911|uniprotkb:Q99668|uniprotkb:B...</td>\n",
       "      <td>intact:EBI-2821539|uniprotkb:O43425|uniprotkb:...</td>\n",
       "      <td>psi-mi:sh3g1_human(display_long)|uniprotkb:End...</td>\n",
       "      <td>psi-mi:synj1_human(display_long)|uniprotkb:SYN...</td>\n",
       "      <td>psi-mi:\"MI:0081\"(peptide array)</td>\n",
       "      <td>Cestra et al. (1999)</td>\n",
       "      <td>pubmed:10542231|mint:MINT-5211933</td>\n",
       "      <td>taxid:9606(human)|taxid:9606(Homo sapiens)</td>\n",
       "      <td>...</td>\n",
       "      <td>-</td>\n",
       "      <td>psi-mi:\"MI:0411\"(enzyme linked immunosorbent a...</td>\n",
       "      <td>psi-mi:\"MI:0083\"(peptide synthesis)</td>\n",
       "      <td>uniprotkb:Q99961|intact:EBI-697911|uniprotkb:Q...</td>\n",
       "      <td>uniprotkb:O43426|intact:EBI-2821539|uniprotkb:...</td>\n",
       "      <td>Q99961|Q99668|B4DRA1|E7EVZ4|M0QZV5</td>\n",
       "      <td>O43426|O43425|O94984|Q4KMR1</td>\n",
       "      <td>Q99961</td>\n",
       "      <td>O43426</td>\n",
       "      <td>0.44</td>\n",
       "    </tr>\n",
       "  </tbody>\n",
       "</table>\n",
       "<p>5 rows × 49 columns</p>\n",
       "</div>"
      ],
      "text/plain": [
       "  #ID(s) interactor A ID(s) interactor B  \\\n",
       "0    uniprotkb:P49418   uniprotkb:O43426   \n",
       "1    uniprotkb:P49418   uniprotkb:O43426   \n",
       "2    uniprotkb:P49418   uniprotkb:O43426   \n",
       "3    uniprotkb:P49418   uniprotkb:O43426   \n",
       "4    uniprotkb:Q99961   uniprotkb:O43426   \n",
       "\n",
       "                             Alt. ID(s) interactor A  \\\n",
       "0  intact:EBI-7121510|uniprotkb:Q75MK5|uniprotkb:...   \n",
       "1  intact:EBI-7121510|uniprotkb:Q75MK5|uniprotkb:...   \n",
       "2  intact:EBI-7121510|uniprotkb:Q75MK5|uniprotkb:...   \n",
       "3  intact:EBI-7121510|uniprotkb:Q75MK5|uniprotkb:...   \n",
       "4  intact:EBI-697911|uniprotkb:Q99668|uniprotkb:B...   \n",
       "\n",
       "                             Alt. ID(s) interactor B  \\\n",
       "0  intact:EBI-2821539|uniprotkb:O43425|uniprotkb:...   \n",
       "1  intact:EBI-2821539|uniprotkb:O43425|uniprotkb:...   \n",
       "2  intact:EBI-2821539|uniprotkb:O43425|uniprotkb:...   \n",
       "3  intact:EBI-2821539|uniprotkb:O43425|uniprotkb:...   \n",
       "4  intact:EBI-2821539|uniprotkb:O43425|uniprotkb:...   \n",
       "\n",
       "                              Alias(es) interactor A  \\\n",
       "0  psi-mi:amph_human(display_long)|uniprotkb:AMPH...   \n",
       "1  psi-mi:amph_human(display_long)|uniprotkb:AMPH...   \n",
       "2  psi-mi:amph_human(display_long)|uniprotkb:AMPH...   \n",
       "3  psi-mi:amph_human(display_long)|uniprotkb:AMPH...   \n",
       "4  psi-mi:sh3g1_human(display_long)|uniprotkb:End...   \n",
       "\n",
       "                              Alias(es) interactor B  \\\n",
       "0  psi-mi:synj1_human(display_long)|uniprotkb:SYN...   \n",
       "1  psi-mi:synj1_human(display_long)|uniprotkb:SYN...   \n",
       "2  psi-mi:synj1_human(display_long)|uniprotkb:SYN...   \n",
       "3  psi-mi:synj1_human(display_long)|uniprotkb:SYN...   \n",
       "4  psi-mi:synj1_human(display_long)|uniprotkb:SYN...   \n",
       "\n",
       "   Interaction detection method(s) Publication 1st author(s)  \\\n",
       "0  psi-mi:\"MI:0084\"(phage display)      Cestra et al. (1999)   \n",
       "1  psi-mi:\"MI:0081\"(peptide array)      Cestra et al. (1999)   \n",
       "2  psi-mi:\"MI:0081\"(peptide array)      Cestra et al. (1999)   \n",
       "3  psi-mi:\"MI:0081\"(peptide array)      Cestra et al. (1999)   \n",
       "4  psi-mi:\"MI:0081\"(peptide array)      Cestra et al. (1999)   \n",
       "\n",
       "           Publication Identifier(s)  \\\n",
       "0  pubmed:10542231|mint:MINT-5211933   \n",
       "1  pubmed:10542231|mint:MINT-5211933   \n",
       "2  pubmed:10542231|mint:MINT-5211933   \n",
       "3  pubmed:10542231|mint:MINT-5211933   \n",
       "4  pubmed:10542231|mint:MINT-5211933   \n",
       "\n",
       "                           Taxid interactor A  ...  \\\n",
       "0  taxid:9606(human)|taxid:9606(Homo sapiens)  ...   \n",
       "1  taxid:9606(human)|taxid:9606(Homo sapiens)  ...   \n",
       "2  taxid:9606(human)|taxid:9606(Homo sapiens)  ...   \n",
       "3  taxid:9606(human)|taxid:9606(Homo sapiens)  ...   \n",
       "4  taxid:9606(human)|taxid:9606(Homo sapiens)  ...   \n",
       "\n",
       "  Stoichiometry(s) interactor B  \\\n",
       "0                             -   \n",
       "1                             -   \n",
       "2                             -   \n",
       "3                             -   \n",
       "4                             -   \n",
       "\n",
       "                 Identification method participant A  \\\n",
       "0  psi-mi:\"MI:0078\"(nucleotide sequence identific...   \n",
       "1  psi-mi:\"MI:0411\"(enzyme linked immunosorbent a...   \n",
       "2  psi-mi:\"MI:0411\"(enzyme linked immunosorbent a...   \n",
       "3  psi-mi:\"MI:0411\"(enzyme linked immunosorbent a...   \n",
       "4  psi-mi:\"MI:0411\"(enzyme linked immunosorbent a...   \n",
       "\n",
       "                 Identification method participant B  \\\n",
       "0  psi-mi:\"MI:0078\"(nucleotide sequence identific...   \n",
       "1                psi-mi:\"MI:0083\"(peptide synthesis)   \n",
       "2                psi-mi:\"MI:0083\"(peptide synthesis)   \n",
       "3                psi-mi:\"MI:0083\"(peptide synthesis)   \n",
       "4                psi-mi:\"MI:0083\"(peptide synthesis)   \n",
       "\n",
       "                                All IDs interactor A  \\\n",
       "0  uniprotkb:P49418|intact:EBI-7121510|uniprotkb:...   \n",
       "1  uniprotkb:P49418|intact:EBI-7121510|uniprotkb:...   \n",
       "2  uniprotkb:P49418|intact:EBI-7121510|uniprotkb:...   \n",
       "3  uniprotkb:P49418|intact:EBI-7121510|uniprotkb:...   \n",
       "4  uniprotkb:Q99961|intact:EBI-697911|uniprotkb:Q...   \n",
       "\n",
       "                                All IDs interactor B  \\\n",
       "0  uniprotkb:O43426|intact:EBI-2821539|uniprotkb:...   \n",
       "1  uniprotkb:O43426|intact:EBI-2821539|uniprotkb:...   \n",
       "2  uniprotkb:O43426|intact:EBI-2821539|uniprotkb:...   \n",
       "3  uniprotkb:O43426|intact:EBI-2821539|uniprotkb:...   \n",
       "4  uniprotkb:O43426|intact:EBI-2821539|uniprotkb:...   \n",
       "\n",
       "                                     uniprotkb_IDs_A  \\\n",
       "0  P49418|Q75MK5|Q75MM3|A4D1X9|O43538|A4D1X8|Q75M...   \n",
       "1  P49418|Q75MK5|Q75MM3|A4D1X9|O43538|A4D1X8|Q75M...   \n",
       "2  P49418|Q75MK5|Q75MM3|A4D1X9|O43538|A4D1X8|Q75M...   \n",
       "3  P49418|Q75MK5|Q75MM3|A4D1X9|O43538|A4D1X8|Q75M...   \n",
       "4                 Q99961|Q99668|B4DRA1|E7EVZ4|M0QZV5   \n",
       "\n",
       "               uniprotkb_IDs_B first_uniprotkb_IDs_A first_uniprotkb_IDs_B  \\\n",
       "0  O43426|O43425|O94984|Q4KMR1                P49418                O43426   \n",
       "1  O43426|O43425|O94984|Q4KMR1                P49418                O43426   \n",
       "2  O43426|O43425|O94984|Q4KMR1                P49418                O43426   \n",
       "3  O43426|O43425|O94984|Q4KMR1                P49418                O43426   \n",
       "4  O43426|O43425|O94984|Q4KMR1                Q99961                O43426   \n",
       "\n",
       "  intact-miscore  \n",
       "0           0.56  \n",
       "1           0.56  \n",
       "2           0.56  \n",
       "3           0.56  \n",
       "4           0.44  \n",
       "\n",
       "[5 rows x 49 columns]"
      ]
     },
     "metadata": {},
     "output_type": "display_data"
    }
   ],
   "source": [
    "dfIntAct2 = dfIntAct1_3.reset_index(drop=True)\n",
    "glance(dfIntAct2)"
   ]
  },
  {
   "cell_type": "markdown",
   "metadata": {},
   "source": [
    "# UniProt mapping"
   ]
  },
  {
   "cell_type": "code",
   "execution_count": 41,
   "metadata": {
    "ExecuteTime": {
     "end_time": "2019-10-30T16:06:13.381615Z",
     "start_time": "2019-10-30T16:06:13.379800Z"
    },
    "execution": {
     "iopub.execute_input": "2022-01-10T13:19:50.964154Z",
     "iopub.status.busy": "2022-01-10T13:19:50.963683Z",
     "iopub.status.idle": "2022-01-10T13:19:50.969187Z",
     "shell.execute_reply": "2022-01-10T13:19:50.968144Z",
     "shell.execute_reply.started": "2022-01-10T13:19:50.964087Z"
    }
   },
   "outputs": [],
   "source": [
    "intactFinal = dfIntAct2"
   ]
  },
  {
   "cell_type": "markdown",
   "metadata": {},
   "source": [
    "---\n",
    "**Download matching from UniProt**"
   ]
  },
  {
   "cell_type": "code",
   "execution_count": 42,
   "metadata": {
    "ExecuteTime": {
     "end_time": "2019-10-30T16:06:39.759205Z",
     "start_time": "2019-10-30T16:06:39.666896Z"
    },
    "execution": {
     "iopub.execute_input": "2022-01-10T13:19:51.701856Z",
     "iopub.status.busy": "2022-01-10T13:19:51.701127Z",
     "iopub.status.idle": "2022-01-10T13:19:51.880504Z",
     "shell.execute_reply": "2022-01-10T13:19:51.879849Z",
     "shell.execute_reply.started": "2022-01-10T13:19:51.701575Z"
    }
   },
   "outputs": [
    {
     "name": "stdout",
     "output_type": "stream",
     "text": [
      "16909\n"
     ]
    }
   ],
   "source": [
    "uniprotkbIdsList = list(set(list(intactFinal.first_uniprotkb_IDs_A)+list(intactFinal.first_uniprotkb_IDs_B)))\n",
    "print(len(uniprotkbIdsList))"
   ]
  },
  {
   "cell_type": "code",
   "execution_count": 43,
   "metadata": {
    "execution": {
     "iopub.execute_input": "2022-01-10T13:19:52.182934Z",
     "iopub.status.busy": "2022-01-10T13:19:52.182453Z",
     "iopub.status.idle": "2022-01-10T13:19:52.189440Z",
     "shell.execute_reply": "2022-01-10T13:19:52.188170Z",
     "shell.execute_reply.started": "2022-01-10T13:19:52.182863Z"
    }
   },
   "outputs": [],
   "source": [
    "# Sanity checks\n",
    "assert ~('' in uniprotkbIdsList)"
   ]
  },
  {
   "cell_type": "code",
   "execution_count": 44,
   "metadata": {
    "execution": {
     "iopub.execute_input": "2022-01-10T13:19:53.405692Z",
     "iopub.status.busy": "2022-01-10T13:19:53.404921Z",
     "iopub.status.idle": "2022-01-10T13:20:07.615714Z",
     "shell.execute_reply": "2022-01-10T13:20:07.615263Z",
     "shell.execute_reply.started": "2022-01-10T13:19:53.405392Z"
    },
    "scrolled": true
   },
   "outputs": [
    {
     "data": {
      "text/html": [
       "<div>\n",
       "<style scoped>\n",
       "    .dataframe tbody tr th:only-of-type {\n",
       "        vertical-align: middle;\n",
       "    }\n",
       "\n",
       "    .dataframe tbody tr th {\n",
       "        vertical-align: top;\n",
       "    }\n",
       "\n",
       "    .dataframe thead th {\n",
       "        text-align: right;\n",
       "    }\n",
       "</style>\n",
       "<table border=\"1\" class=\"dataframe\">\n",
       "  <thead>\n",
       "    <tr style=\"text-align: right;\">\n",
       "      <th></th>\n",
       "      <th>From</th>\n",
       "      <th>To</th>\n",
       "    </tr>\n",
       "  </thead>\n",
       "  <tbody>\n",
       "    <tr>\n",
       "      <th>0</th>\n",
       "      <td>V9HW31</td>\n",
       "      <td>V9HW31</td>\n",
       "    </tr>\n",
       "    <tr>\n",
       "      <th>1</th>\n",
       "      <td>O76075</td>\n",
       "      <td>O76075</td>\n",
       "    </tr>\n",
       "    <tr>\n",
       "      <th>2</th>\n",
       "      <td>Q6P499</td>\n",
       "      <td>Q6P499</td>\n",
       "    </tr>\n",
       "    <tr>\n",
       "      <th>3</th>\n",
       "      <td>F2Z2M7</td>\n",
       "      <td>F2Z2M7</td>\n",
       "    </tr>\n",
       "    <tr>\n",
       "      <th>4</th>\n",
       "      <td>P55082</td>\n",
       "      <td>P55082</td>\n",
       "    </tr>\n",
       "    <tr>\n",
       "      <th>5</th>\n",
       "      <td>Q6ZQS4</td>\n",
       "      <td>Q6ZQS4</td>\n",
       "    </tr>\n",
       "    <tr>\n",
       "      <th>6</th>\n",
       "      <td>P01241</td>\n",
       "      <td>P01241</td>\n",
       "    </tr>\n",
       "    <tr>\n",
       "      <th>7</th>\n",
       "      <td>Q16512</td>\n",
       "      <td>Q16512</td>\n",
       "    </tr>\n",
       "    <tr>\n",
       "      <th>8</th>\n",
       "      <td>P08912</td>\n",
       "      <td>P08912</td>\n",
       "    </tr>\n",
       "    <tr>\n",
       "      <th>9</th>\n",
       "      <td>P25391</td>\n",
       "      <td>P25391</td>\n",
       "    </tr>\n",
       "    <tr>\n",
       "      <th>10</th>\n",
       "      <td>Q96PZ2</td>\n",
       "      <td>Q96PZ2</td>\n",
       "    </tr>\n",
       "    <tr>\n",
       "      <th>11</th>\n",
       "      <td>Q8N1Y9</td>\n",
       "      <td>Q8N1Y9</td>\n",
       "    </tr>\n",
       "    <tr>\n",
       "      <th>12</th>\n",
       "      <td>Q9NTX7</td>\n",
       "      <td>Q9NTX7</td>\n",
       "    </tr>\n",
       "    <tr>\n",
       "      <th>13</th>\n",
       "      <td>P32246</td>\n",
       "      <td>P32246</td>\n",
       "    </tr>\n",
       "    <tr>\n",
       "      <th>14</th>\n",
       "      <td>Q9HCB6</td>\n",
       "      <td>Q9HCB6</td>\n",
       "    </tr>\n",
       "    <tr>\n",
       "      <th>15</th>\n",
       "      <td>Q9NUD5</td>\n",
       "      <td>Q9NUD5</td>\n",
       "    </tr>\n",
       "    <tr>\n",
       "      <th>16</th>\n",
       "      <td>O15371</td>\n",
       "      <td>O15371</td>\n",
       "    </tr>\n",
       "    <tr>\n",
       "      <th>17</th>\n",
       "      <td>P62263</td>\n",
       "      <td>P62263</td>\n",
       "    </tr>\n",
       "    <tr>\n",
       "      <th>18</th>\n",
       "      <td>Q9H1M4</td>\n",
       "      <td>Q9H1M4</td>\n",
       "    </tr>\n",
       "    <tr>\n",
       "      <th>19</th>\n",
       "      <td>P05161</td>\n",
       "      <td>P05161</td>\n",
       "    </tr>\n",
       "    <tr>\n",
       "      <th>20</th>\n",
       "      <td>P50458</td>\n",
       "      <td>P50458</td>\n",
       "    </tr>\n",
       "    <tr>\n",
       "      <th>21</th>\n",
       "      <td>Q8NET1</td>\n",
       "      <td>Q8NET1</td>\n",
       "    </tr>\n",
       "    <tr>\n",
       "      <th>22</th>\n",
       "      <td>Q99715</td>\n",
       "      <td>Q99715</td>\n",
       "    </tr>\n",
       "    <tr>\n",
       "      <th>23</th>\n",
       "      <td>O60844</td>\n",
       "      <td>O60844</td>\n",
       "    </tr>\n",
       "    <tr>\n",
       "      <th>24</th>\n",
       "      <td>P32455</td>\n",
       "      <td>P32455</td>\n",
       "    </tr>\n",
       "    <tr>\n",
       "      <th>25</th>\n",
       "      <td>Q9P126</td>\n",
       "      <td>Q9P126</td>\n",
       "    </tr>\n",
       "    <tr>\n",
       "      <th>26</th>\n",
       "      <td>Q6NXG1</td>\n",
       "      <td>Q6NXG1</td>\n",
       "    </tr>\n",
       "    <tr>\n",
       "      <th>27</th>\n",
       "      <td>Q96C90</td>\n",
       "      <td>Q96C90</td>\n",
       "    </tr>\n",
       "    <tr>\n",
       "      <th>28</th>\n",
       "      <td>Q9Y2D0</td>\n",
       "      <td>Q9Y2D0</td>\n",
       "    </tr>\n",
       "    <tr>\n",
       "      <th>29</th>\n",
       "      <td>Q86Y79</td>\n",
       "      <td>Q86Y79</td>\n",
       "    </tr>\n",
       "    <tr>\n",
       "      <th>...</th>\n",
       "      <td>...</td>\n",
       "      <td>...</td>\n",
       "    </tr>\n",
       "    <tr>\n",
       "      <th>16895</th>\n",
       "      <td>Q96H20</td>\n",
       "      <td>Q96H20</td>\n",
       "    </tr>\n",
       "    <tr>\n",
       "      <th>16896</th>\n",
       "      <td>Q9NUN7</td>\n",
       "      <td>Q9NUN7</td>\n",
       "    </tr>\n",
       "    <tr>\n",
       "      <th>16897</th>\n",
       "      <td>Q6IC83</td>\n",
       "      <td>Q6IC83</td>\n",
       "    </tr>\n",
       "    <tr>\n",
       "      <th>16898</th>\n",
       "      <td>P62750</td>\n",
       "      <td>P62750</td>\n",
       "    </tr>\n",
       "    <tr>\n",
       "      <th>16899</th>\n",
       "      <td>Q86Z23</td>\n",
       "      <td>Q86Z23</td>\n",
       "    </tr>\n",
       "    <tr>\n",
       "      <th>16900</th>\n",
       "      <td>P15735</td>\n",
       "      <td>P15735</td>\n",
       "    </tr>\n",
       "    <tr>\n",
       "      <th>16901</th>\n",
       "      <td>Q9BZC7</td>\n",
       "      <td>Q9BZC7</td>\n",
       "    </tr>\n",
       "    <tr>\n",
       "      <th>16902</th>\n",
       "      <td>Q7Z4H8</td>\n",
       "      <td>Q7Z4H8</td>\n",
       "    </tr>\n",
       "    <tr>\n",
       "      <th>16903</th>\n",
       "      <td>O75821</td>\n",
       "      <td>O75821</td>\n",
       "    </tr>\n",
       "    <tr>\n",
       "      <th>16904</th>\n",
       "      <td>Q9NZU5</td>\n",
       "      <td>Q9NZU5</td>\n",
       "    </tr>\n",
       "    <tr>\n",
       "      <th>16905</th>\n",
       "      <td>Q92831</td>\n",
       "      <td>Q92831</td>\n",
       "    </tr>\n",
       "    <tr>\n",
       "      <th>16906</th>\n",
       "      <td>P13498</td>\n",
       "      <td>P13498</td>\n",
       "    </tr>\n",
       "    <tr>\n",
       "      <th>16907</th>\n",
       "      <td>Q8N6T7</td>\n",
       "      <td>Q8N6T7</td>\n",
       "    </tr>\n",
       "    <tr>\n",
       "      <th>16908</th>\n",
       "      <td>P39900</td>\n",
       "      <td>P39900</td>\n",
       "    </tr>\n",
       "    <tr>\n",
       "      <th>16909</th>\n",
       "      <td>Q96JQ5</td>\n",
       "      <td>Q96JQ5</td>\n",
       "    </tr>\n",
       "    <tr>\n",
       "      <th>16910</th>\n",
       "      <td>Q08AD1</td>\n",
       "      <td>Q08AD1</td>\n",
       "    </tr>\n",
       "    <tr>\n",
       "      <th>16911</th>\n",
       "      <td>Q86YR5</td>\n",
       "      <td>Q86YR5</td>\n",
       "    </tr>\n",
       "    <tr>\n",
       "      <th>16912</th>\n",
       "      <td>P28562</td>\n",
       "      <td>P28562</td>\n",
       "    </tr>\n",
       "    <tr>\n",
       "      <th>16913</th>\n",
       "      <td>P58215</td>\n",
       "      <td>P58215</td>\n",
       "    </tr>\n",
       "    <tr>\n",
       "      <th>16914</th>\n",
       "      <td>P30622</td>\n",
       "      <td>P30622</td>\n",
       "    </tr>\n",
       "    <tr>\n",
       "      <th>16915</th>\n",
       "      <td>Q6DHV7</td>\n",
       "      <td>Q6DHV7</td>\n",
       "    </tr>\n",
       "    <tr>\n",
       "      <th>16916</th>\n",
       "      <td>Q4VC31</td>\n",
       "      <td>Q4VC31</td>\n",
       "    </tr>\n",
       "    <tr>\n",
       "      <th>16917</th>\n",
       "      <td>Q9NPI7</td>\n",
       "      <td>Q9NPI7</td>\n",
       "    </tr>\n",
       "    <tr>\n",
       "      <th>16918</th>\n",
       "      <td>Q9HBG4</td>\n",
       "      <td>Q9HBG4</td>\n",
       "    </tr>\n",
       "    <tr>\n",
       "      <th>16919</th>\n",
       "      <td>Q9Y305</td>\n",
       "      <td>Q9Y305</td>\n",
       "    </tr>\n",
       "    <tr>\n",
       "      <th>16920</th>\n",
       "      <td>Q9H1B4</td>\n",
       "      <td>Q9H1B4</td>\n",
       "    </tr>\n",
       "    <tr>\n",
       "      <th>16921</th>\n",
       "      <td>Q676U5</td>\n",
       "      <td>Q676U5</td>\n",
       "    </tr>\n",
       "    <tr>\n",
       "      <th>16922</th>\n",
       "      <td>Q96F45</td>\n",
       "      <td>Q96F45</td>\n",
       "    </tr>\n",
       "    <tr>\n",
       "      <th>16923</th>\n",
       "      <td>Q8TAV4</td>\n",
       "      <td>Q8TAV4</td>\n",
       "    </tr>\n",
       "    <tr>\n",
       "      <th>16924</th>\n",
       "      <td>P01375</td>\n",
       "      <td>P01375</td>\n",
       "    </tr>\n",
       "  </tbody>\n",
       "</table>\n",
       "<p>16925 rows × 2 columns</p>\n",
       "</div>"
      ],
      "text/plain": [
       "         From      To\n",
       "0      V9HW31  V9HW31\n",
       "1      O76075  O76075\n",
       "2      Q6P499  Q6P499\n",
       "3      F2Z2M7  F2Z2M7\n",
       "4      P55082  P55082\n",
       "5      Q6ZQS4  Q6ZQS4\n",
       "6      P01241  P01241\n",
       "7      Q16512  Q16512\n",
       "8      P08912  P08912\n",
       "9      P25391  P25391\n",
       "10     Q96PZ2  Q96PZ2\n",
       "11     Q8N1Y9  Q8N1Y9\n",
       "12     Q9NTX7  Q9NTX7\n",
       "13     P32246  P32246\n",
       "14     Q9HCB6  Q9HCB6\n",
       "15     Q9NUD5  Q9NUD5\n",
       "16     O15371  O15371\n",
       "17     P62263  P62263\n",
       "18     Q9H1M4  Q9H1M4\n",
       "19     P05161  P05161\n",
       "20     P50458  P50458\n",
       "21     Q8NET1  Q8NET1\n",
       "22     Q99715  Q99715\n",
       "23     O60844  O60844\n",
       "24     P32455  P32455\n",
       "25     Q9P126  Q9P126\n",
       "26     Q6NXG1  Q6NXG1\n",
       "27     Q96C90  Q96C90\n",
       "28     Q9Y2D0  Q9Y2D0\n",
       "29     Q86Y79  Q86Y79\n",
       "...       ...     ...\n",
       "16895  Q96H20  Q96H20\n",
       "16896  Q9NUN7  Q9NUN7\n",
       "16897  Q6IC83  Q6IC83\n",
       "16898  P62750  P62750\n",
       "16899  Q86Z23  Q86Z23\n",
       "16900  P15735  P15735\n",
       "16901  Q9BZC7  Q9BZC7\n",
       "16902  Q7Z4H8  Q7Z4H8\n",
       "16903  O75821  O75821\n",
       "16904  Q9NZU5  Q9NZU5\n",
       "16905  Q92831  Q92831\n",
       "16906  P13498  P13498\n",
       "16907  Q8N6T7  Q8N6T7\n",
       "16908  P39900  P39900\n",
       "16909  Q96JQ5  Q96JQ5\n",
       "16910  Q08AD1  Q08AD1\n",
       "16911  Q86YR5  Q86YR5\n",
       "16912  P28562  P28562\n",
       "16913  P58215  P58215\n",
       "16914  P30622  P30622\n",
       "16915  Q6DHV7  Q6DHV7\n",
       "16916  Q4VC31  Q4VC31\n",
       "16917  Q9NPI7  Q9NPI7\n",
       "16918  Q9HBG4  Q9HBG4\n",
       "16919  Q9Y305  Q9Y305\n",
       "16920  Q9H1B4  Q9H1B4\n",
       "16921  Q676U5  Q676U5\n",
       "16922  Q96F45  Q96F45\n",
       "16923  Q8TAV4  Q8TAV4\n",
       "16924  P01375  P01375\n",
       "\n",
       "[16925 rows x 2 columns]"
      ]
     },
     "execution_count": 44,
     "metadata": {},
     "output_type": "execute_result"
    }
   ],
   "source": [
    "uniprotMapping = mappingUniprotIDs(fromID = 'ACC', listIDs = uniprotkbIdsList)\n",
    "uniprotMapping"
   ]
  },
  {
   "cell_type": "markdown",
   "metadata": {},
   "source": [
    "---\n",
    "**Drop proteins matching several uniprot ids**"
   ]
  },
  {
   "cell_type": "code",
   "execution_count": 45,
   "metadata": {
    "execution": {
     "iopub.execute_input": "2022-01-10T13:20:07.616735Z",
     "iopub.status.busy": "2022-01-10T13:20:07.616527Z",
     "iopub.status.idle": "2022-01-10T13:20:07.628574Z",
     "shell.execute_reply": "2022-01-10T13:20:07.628169Z",
     "shell.execute_reply.started": "2022-01-10T13:20:07.616665Z"
    }
   },
   "outputs": [
    {
     "name": "stdout",
     "output_type": "stream",
     "text": [
      "DataFrame: 16,897 rows \t 2 columns\n"
     ]
    },
    {
     "data": {
      "text/html": [
       "<div>\n",
       "<style scoped>\n",
       "    .dataframe tbody tr th:only-of-type {\n",
       "        vertical-align: middle;\n",
       "    }\n",
       "\n",
       "    .dataframe tbody tr th {\n",
       "        vertical-align: top;\n",
       "    }\n",
       "\n",
       "    .dataframe thead th {\n",
       "        text-align: right;\n",
       "    }\n",
       "</style>\n",
       "<table border=\"1\" class=\"dataframe\">\n",
       "  <thead>\n",
       "    <tr style=\"text-align: right;\">\n",
       "      <th></th>\n",
       "      <th>From</th>\n",
       "      <th>To</th>\n",
       "    </tr>\n",
       "  </thead>\n",
       "  <tbody>\n",
       "    <tr>\n",
       "      <th>0</th>\n",
       "      <td>V9HW31</td>\n",
       "      <td>V9HW31</td>\n",
       "    </tr>\n",
       "    <tr>\n",
       "      <th>1</th>\n",
       "      <td>O76075</td>\n",
       "      <td>O76075</td>\n",
       "    </tr>\n",
       "    <tr>\n",
       "      <th>2</th>\n",
       "      <td>Q6P499</td>\n",
       "      <td>Q6P499</td>\n",
       "    </tr>\n",
       "    <tr>\n",
       "      <th>3</th>\n",
       "      <td>F2Z2M7</td>\n",
       "      <td>F2Z2M7</td>\n",
       "    </tr>\n",
       "    <tr>\n",
       "      <th>4</th>\n",
       "      <td>P55082</td>\n",
       "      <td>P55082</td>\n",
       "    </tr>\n",
       "  </tbody>\n",
       "</table>\n",
       "</div>"
      ],
      "text/plain": [
       "     From      To\n",
       "0  V9HW31  V9HW31\n",
       "1  O76075  O76075\n",
       "2  Q6P499  Q6P499\n",
       "3  F2Z2M7  F2Z2M7\n",
       "4  P55082  P55082"
      ]
     },
     "metadata": {},
     "output_type": "display_data"
    }
   ],
   "source": [
    "uniprotMapping_2 = uniprotMapping.drop_duplicates(subset='From',keep=False).reset_index(drop=True)\n",
    "glance(uniprotMapping_2)"
   ]
  },
  {
   "cell_type": "markdown",
   "metadata": {},
   "source": [
    "---\n",
    "**Compare to UniProt reference list**\n",
    "\n",
    "To eliminate unreviewed proteins for example"
   ]
  },
  {
   "cell_type": "code",
   "execution_count": 46,
   "metadata": {
    "execution": {
     "iopub.execute_input": "2022-01-10T13:20:21.367076Z",
     "iopub.status.busy": "2022-01-10T13:20:21.366848Z",
     "iopub.status.idle": "2022-01-10T13:20:21.494869Z",
     "shell.execute_reply": "2022-01-10T13:20:21.494262Z",
     "shell.execute_reply.started": "2022-01-10T13:20:21.367037Z"
    }
   },
   "outputs": [
    {
     "name": "stdout",
     "output_type": "stream",
     "text": [
      "DataFrame: 20,386 rows \t 1 columns\n"
     ]
    },
    {
     "data": {
      "text/html": [
       "<div>\n",
       "<style scoped>\n",
       "    .dataframe tbody tr th:only-of-type {\n",
       "        vertical-align: middle;\n",
       "    }\n",
       "\n",
       "    .dataframe tbody tr th {\n",
       "        vertical-align: top;\n",
       "    }\n",
       "\n",
       "    .dataframe thead th {\n",
       "        text-align: right;\n",
       "    }\n",
       "</style>\n",
       "<table border=\"1\" class=\"dataframe\">\n",
       "  <thead>\n",
       "    <tr style=\"text-align: right;\">\n",
       "      <th></th>\n",
       "      <th>To</th>\n",
       "    </tr>\n",
       "  </thead>\n",
       "  <tbody>\n",
       "    <tr>\n",
       "      <th>0</th>\n",
       "      <td>A0A024RBG1</td>\n",
       "    </tr>\n",
       "    <tr>\n",
       "      <th>1</th>\n",
       "      <td>A0A075B6H7</td>\n",
       "    </tr>\n",
       "    <tr>\n",
       "      <th>2</th>\n",
       "      <td>A0A075B6H8</td>\n",
       "    </tr>\n",
       "    <tr>\n",
       "      <th>3</th>\n",
       "      <td>A0A075B6H9</td>\n",
       "    </tr>\n",
       "    <tr>\n",
       "      <th>4</th>\n",
       "      <td>A0A075B6I0</td>\n",
       "    </tr>\n",
       "  </tbody>\n",
       "</table>\n",
       "</div>"
      ],
      "text/plain": [
       "           To\n",
       "0  A0A024RBG1\n",
       "1  A0A075B6H7\n",
       "2  A0A075B6H8\n",
       "3  A0A075B6H9\n",
       "4  A0A075B6I0"
      ]
     },
     "metadata": {},
     "output_type": "display_data"
    }
   ],
   "source": [
    "uniprotIDs = pd.read_csv(\n",
    "    os.path.join(cfg['rawDataUniProt'], \n",
    "                 \"uniprot_allProteins_Human_v{}.pkl\".format(logVersions['UniProt']['rawData'])),\n",
    "    header=None,\n",
    "    names=['To']\n",
    ")\n",
    "glance(uniprotIDs)"
   ]
  },
  {
   "cell_type": "code",
   "execution_count": 47,
   "metadata": {
    "execution": {
     "iopub.execute_input": "2022-01-10T13:20:35.648391Z",
     "iopub.status.busy": "2022-01-10T13:20:35.647677Z",
     "iopub.status.idle": "2022-01-10T13:20:35.712331Z",
     "shell.execute_reply": "2022-01-10T13:20:35.711480Z",
     "shell.execute_reply.started": "2022-01-10T13:20:35.648119Z"
    }
   },
   "outputs": [
    {
     "name": "stdout",
     "output_type": "stream",
     "text": [
      "DataFrame: 15,600 rows \t 2 columns\n"
     ]
    },
    {
     "data": {
      "text/html": [
       "<div>\n",
       "<style scoped>\n",
       "    .dataframe tbody tr th:only-of-type {\n",
       "        vertical-align: middle;\n",
       "    }\n",
       "\n",
       "    .dataframe tbody tr th {\n",
       "        vertical-align: top;\n",
       "    }\n",
       "\n",
       "    .dataframe thead th {\n",
       "        text-align: right;\n",
       "    }\n",
       "</style>\n",
       "<table border=\"1\" class=\"dataframe\">\n",
       "  <thead>\n",
       "    <tr style=\"text-align: right;\">\n",
       "      <th></th>\n",
       "      <th>From</th>\n",
       "      <th>To</th>\n",
       "    </tr>\n",
       "  </thead>\n",
       "  <tbody>\n",
       "    <tr>\n",
       "      <th>0</th>\n",
       "      <td>O76075</td>\n",
       "      <td>O76075</td>\n",
       "    </tr>\n",
       "    <tr>\n",
       "      <th>1</th>\n",
       "      <td>Q6P499</td>\n",
       "      <td>Q6P499</td>\n",
       "    </tr>\n",
       "    <tr>\n",
       "      <th>2</th>\n",
       "      <td>P55082</td>\n",
       "      <td>P55082</td>\n",
       "    </tr>\n",
       "    <tr>\n",
       "      <th>3</th>\n",
       "      <td>P01241</td>\n",
       "      <td>P01241</td>\n",
       "    </tr>\n",
       "    <tr>\n",
       "      <th>4</th>\n",
       "      <td>Q16512</td>\n",
       "      <td>Q16512</td>\n",
       "    </tr>\n",
       "  </tbody>\n",
       "</table>\n",
       "</div>"
      ],
      "text/plain": [
       "     From      To\n",
       "0  O76075  O76075\n",
       "1  Q6P499  Q6P499\n",
       "2  P55082  P55082\n",
       "3  P01241  P01241\n",
       "4  Q16512  Q16512"
      ]
     },
     "metadata": {},
     "output_type": "display_data"
    }
   ],
   "source": [
    "uniprotMapping_3 = uniprotMapping_2.merge(\n",
    "    uniprotIDs,\n",
    "    how='inner',\n",
    "    on='To'\n",
    ")\n",
    "glance(uniprotMapping_3)"
   ]
  },
  {
   "cell_type": "code",
   "execution_count": 48,
   "metadata": {
    "execution": {
     "iopub.execute_input": "2022-01-10T13:20:37.443176Z",
     "iopub.status.busy": "2022-01-10T13:20:37.442534Z",
     "iopub.status.idle": "2022-01-10T13:20:37.457337Z",
     "shell.execute_reply": "2022-01-10T13:20:37.456474Z",
     "shell.execute_reply.started": "2022-01-10T13:20:37.442939Z"
    }
   },
   "outputs": [
    {
     "name": "stdout",
     "output_type": "stream",
     "text": [
      "0/16,909 couldn't be matched\n",
      "Droped duplicates: 28\n",
      "Droped \"unofficials\": 1,297\n"
     ]
    }
   ],
   "source": [
    "print(\"{:,}/{:,} couldn't be matched\".format(len(uniprotkbIdsList)-len(set(uniprotMapping.From)), len(uniprotkbIdsList)))\n",
    "print('Droped duplicates: {:,}'.format(len(uniprotMapping) - len(uniprotMapping_2)))\n",
    "print('Droped \"unofficials\": {:,}'.format(len(uniprotMapping_2) - len(uniprotMapping_3)))"
   ]
  },
  {
   "cell_type": "code",
   "execution_count": 49,
   "metadata": {
    "execution": {
     "iopub.execute_input": "2022-01-10T13:20:40.005852Z",
     "iopub.status.busy": "2022-01-10T13:20:40.005583Z",
     "iopub.status.idle": "2022-01-10T13:20:40.019164Z",
     "shell.execute_reply": "2022-01-10T13:20:40.018506Z",
     "shell.execute_reply.started": "2022-01-10T13:20:40.005813Z"
    }
   },
   "outputs": [],
   "source": [
    "# Sanity checks\n",
    "assert len(uniprotMapping_2.loc[uniprotMapping_2.duplicated(keep=False)]) == 0\n",
    "assert len(uniprotMapping_2.From) == len(set(uniprotMapping_2.From))"
   ]
  },
  {
   "cell_type": "markdown",
   "metadata": {},
   "source": [
    "---\n",
    "**Match to primary identifiers**"
   ]
  },
  {
   "cell_type": "code",
   "execution_count": 50,
   "metadata": {
    "execution": {
     "iopub.execute_input": "2022-01-10T13:20:44.473546Z",
     "iopub.status.busy": "2022-01-10T13:20:44.472799Z",
     "iopub.status.idle": "2022-01-10T13:20:44.515578Z",
     "shell.execute_reply": "2022-01-10T13:20:44.514773Z",
     "shell.execute_reply.started": "2022-01-10T13:20:44.473243Z"
    }
   },
   "outputs": [
    {
     "name": "stdout",
     "output_type": "stream",
     "text": [
      "DataFrame: 15,600 rows \t 2 columns\n"
     ]
    },
    {
     "data": {
      "text/html": [
       "<div>\n",
       "<style scoped>\n",
       "    .dataframe tbody tr th:only-of-type {\n",
       "        vertical-align: middle;\n",
       "    }\n",
       "\n",
       "    .dataframe tbody tr th {\n",
       "        vertical-align: top;\n",
       "    }\n",
       "\n",
       "    .dataframe thead th {\n",
       "        text-align: right;\n",
       "    }\n",
       "</style>\n",
       "<table border=\"1\" class=\"dataframe\">\n",
       "  <thead>\n",
       "    <tr style=\"text-align: right;\">\n",
       "      <th></th>\n",
       "      <th>first_uniprotkb_IDs_A</th>\n",
       "      <th>uniprotID_A</th>\n",
       "    </tr>\n",
       "  </thead>\n",
       "  <tbody>\n",
       "    <tr>\n",
       "      <th>0</th>\n",
       "      <td>O76075</td>\n",
       "      <td>O76075</td>\n",
       "    </tr>\n",
       "    <tr>\n",
       "      <th>1</th>\n",
       "      <td>Q6P499</td>\n",
       "      <td>Q6P499</td>\n",
       "    </tr>\n",
       "    <tr>\n",
       "      <th>2</th>\n",
       "      <td>P55082</td>\n",
       "      <td>P55082</td>\n",
       "    </tr>\n",
       "    <tr>\n",
       "      <th>3</th>\n",
       "      <td>P01241</td>\n",
       "      <td>P01241</td>\n",
       "    </tr>\n",
       "    <tr>\n",
       "      <th>4</th>\n",
       "      <td>Q16512</td>\n",
       "      <td>Q16512</td>\n",
       "    </tr>\n",
       "  </tbody>\n",
       "</table>\n",
       "</div>"
      ],
      "text/plain": [
       "  first_uniprotkb_IDs_A uniprotID_A\n",
       "0                O76075      O76075\n",
       "1                Q6P499      Q6P499\n",
       "2                P55082      P55082\n",
       "3                P01241      P01241\n",
       "4                Q16512      Q16512"
      ]
     },
     "metadata": {},
     "output_type": "display_data"
    },
    {
     "name": "stdout",
     "output_type": "stream",
     "text": [
      "DataFrame: 15,600 rows \t 2 columns\n"
     ]
    },
    {
     "data": {
      "text/html": [
       "<div>\n",
       "<style scoped>\n",
       "    .dataframe tbody tr th:only-of-type {\n",
       "        vertical-align: middle;\n",
       "    }\n",
       "\n",
       "    .dataframe tbody tr th {\n",
       "        vertical-align: top;\n",
       "    }\n",
       "\n",
       "    .dataframe thead th {\n",
       "        text-align: right;\n",
       "    }\n",
       "</style>\n",
       "<table border=\"1\" class=\"dataframe\">\n",
       "  <thead>\n",
       "    <tr style=\"text-align: right;\">\n",
       "      <th></th>\n",
       "      <th>first_uniprotkb_IDs_B</th>\n",
       "      <th>uniprotID_B</th>\n",
       "    </tr>\n",
       "  </thead>\n",
       "  <tbody>\n",
       "    <tr>\n",
       "      <th>0</th>\n",
       "      <td>O76075</td>\n",
       "      <td>O76075</td>\n",
       "    </tr>\n",
       "    <tr>\n",
       "      <th>1</th>\n",
       "      <td>Q6P499</td>\n",
       "      <td>Q6P499</td>\n",
       "    </tr>\n",
       "    <tr>\n",
       "      <th>2</th>\n",
       "      <td>P55082</td>\n",
       "      <td>P55082</td>\n",
       "    </tr>\n",
       "    <tr>\n",
       "      <th>3</th>\n",
       "      <td>P01241</td>\n",
       "      <td>P01241</td>\n",
       "    </tr>\n",
       "    <tr>\n",
       "      <th>4</th>\n",
       "      <td>Q16512</td>\n",
       "      <td>Q16512</td>\n",
       "    </tr>\n",
       "  </tbody>\n",
       "</table>\n",
       "</div>"
      ],
      "text/plain": [
       "  first_uniprotkb_IDs_B uniprotID_B\n",
       "0                O76075      O76075\n",
       "1                Q6P499      Q6P499\n",
       "2                P55082      P55082\n",
       "3                P01241      P01241\n",
       "4                Q16512      Q16512"
      ]
     },
     "metadata": {},
     "output_type": "display_data"
    }
   ],
   "source": [
    "uniprotMapping_A = uniprotMapping_3.copy()\n",
    "uniprotMapping_A = uniprotMapping_A.rename(columns={\n",
    "    'From': 'first_uniprotkb_IDs_A', \n",
    "    'To': 'uniprotID_A'\n",
    "})\n",
    "glance(uniprotMapping_A)\n",
    "\n",
    "uniprotMapping_B = uniprotMapping_3.copy()\n",
    "uniprotMapping_B = uniprotMapping_B.rename(columns={\n",
    "    'From': 'first_uniprotkb_IDs_B', \n",
    "    'To': 'uniprotID_B'\n",
    "})\n",
    "glance(uniprotMapping_B)"
   ]
  },
  {
   "cell_type": "code",
   "execution_count": 51,
   "metadata": {
    "ExecuteTime": {
     "end_time": "2019-10-30T16:13:07.655365Z",
     "start_time": "2019-10-30T16:13:06.903168Z"
    },
    "execution": {
     "iopub.execute_input": "2022-01-10T13:21:12.420118Z",
     "iopub.status.busy": "2022-01-10T13:21:12.419892Z",
     "iopub.status.idle": "2022-01-10T13:21:14.360814Z",
     "shell.execute_reply": "2022-01-10T13:21:14.360149Z",
     "shell.execute_reply.started": "2022-01-10T13:21:12.420089Z"
    }
   },
   "outputs": [
    {
     "name": "stdout",
     "output_type": "stream",
     "text": [
      "DataFrame: 329,409 rows \t 51 columns\n"
     ]
    },
    {
     "data": {
      "text/html": [
       "<div>\n",
       "<style scoped>\n",
       "    .dataframe tbody tr th:only-of-type {\n",
       "        vertical-align: middle;\n",
       "    }\n",
       "\n",
       "    .dataframe tbody tr th {\n",
       "        vertical-align: top;\n",
       "    }\n",
       "\n",
       "    .dataframe thead th {\n",
       "        text-align: right;\n",
       "    }\n",
       "</style>\n",
       "<table border=\"1\" class=\"dataframe\">\n",
       "  <thead>\n",
       "    <tr style=\"text-align: right;\">\n",
       "      <th></th>\n",
       "      <th>#ID(s) interactor A</th>\n",
       "      <th>ID(s) interactor B</th>\n",
       "      <th>Alt. ID(s) interactor A</th>\n",
       "      <th>Alt. ID(s) interactor B</th>\n",
       "      <th>Alias(es) interactor A</th>\n",
       "      <th>Alias(es) interactor B</th>\n",
       "      <th>Interaction detection method(s)</th>\n",
       "      <th>Publication 1st author(s)</th>\n",
       "      <th>Publication Identifier(s)</th>\n",
       "      <th>Taxid interactor A</th>\n",
       "      <th>...</th>\n",
       "      <th>Identification method participant B</th>\n",
       "      <th>All IDs interactor A</th>\n",
       "      <th>All IDs interactor B</th>\n",
       "      <th>uniprotkb_IDs_A</th>\n",
       "      <th>uniprotkb_IDs_B</th>\n",
       "      <th>first_uniprotkb_IDs_A</th>\n",
       "      <th>first_uniprotkb_IDs_B</th>\n",
       "      <th>intact-miscore</th>\n",
       "      <th>uniprotID_A</th>\n",
       "      <th>uniprotID_B</th>\n",
       "    </tr>\n",
       "  </thead>\n",
       "  <tbody>\n",
       "    <tr>\n",
       "      <th>0</th>\n",
       "      <td>uniprotkb:P49418</td>\n",
       "      <td>uniprotkb:O43426</td>\n",
       "      <td>intact:EBI-7121510|uniprotkb:Q75MK5|uniprotkb:...</td>\n",
       "      <td>intact:EBI-2821539|uniprotkb:O43425|uniprotkb:...</td>\n",
       "      <td>psi-mi:amph_human(display_long)|uniprotkb:AMPH...</td>\n",
       "      <td>psi-mi:synj1_human(display_long)|uniprotkb:SYN...</td>\n",
       "      <td>psi-mi:\"MI:0084\"(phage display)</td>\n",
       "      <td>Cestra et al. (1999)</td>\n",
       "      <td>pubmed:10542231|mint:MINT-5211933</td>\n",
       "      <td>taxid:9606(human)|taxid:9606(Homo sapiens)</td>\n",
       "      <td>...</td>\n",
       "      <td>psi-mi:\"MI:0078\"(nucleotide sequence identific...</td>\n",
       "      <td>uniprotkb:P49418|intact:EBI-7121510|uniprotkb:...</td>\n",
       "      <td>uniprotkb:O43426|intact:EBI-2821539|uniprotkb:...</td>\n",
       "      <td>P49418|Q75MK5|Q75MM3|A4D1X9|O43538|A4D1X8|Q75M...</td>\n",
       "      <td>O43426|O43425|O94984|Q4KMR1</td>\n",
       "      <td>P49418</td>\n",
       "      <td>O43426</td>\n",
       "      <td>0.56</td>\n",
       "      <td>P49418</td>\n",
       "      <td>O43426</td>\n",
       "    </tr>\n",
       "    <tr>\n",
       "      <th>1</th>\n",
       "      <td>uniprotkb:P49418</td>\n",
       "      <td>uniprotkb:O43426</td>\n",
       "      <td>intact:EBI-7121510|uniprotkb:Q75MK5|uniprotkb:...</td>\n",
       "      <td>intact:EBI-2821539|uniprotkb:O43425|uniprotkb:...</td>\n",
       "      <td>psi-mi:amph_human(display_long)|uniprotkb:AMPH...</td>\n",
       "      <td>psi-mi:synj1_human(display_long)|uniprotkb:SYN...</td>\n",
       "      <td>psi-mi:\"MI:0081\"(peptide array)</td>\n",
       "      <td>Cestra et al. (1999)</td>\n",
       "      <td>pubmed:10542231|mint:MINT-5211933</td>\n",
       "      <td>taxid:9606(human)|taxid:9606(Homo sapiens)</td>\n",
       "      <td>...</td>\n",
       "      <td>psi-mi:\"MI:0083\"(peptide synthesis)</td>\n",
       "      <td>uniprotkb:P49418|intact:EBI-7121510|uniprotkb:...</td>\n",
       "      <td>uniprotkb:O43426|intact:EBI-2821539|uniprotkb:...</td>\n",
       "      <td>P49418|Q75MK5|Q75MM3|A4D1X9|O43538|A4D1X8|Q75M...</td>\n",
       "      <td>O43426|O43425|O94984|Q4KMR1</td>\n",
       "      <td>P49418</td>\n",
       "      <td>O43426</td>\n",
       "      <td>0.56</td>\n",
       "      <td>P49418</td>\n",
       "      <td>O43426</td>\n",
       "    </tr>\n",
       "    <tr>\n",
       "      <th>2</th>\n",
       "      <td>uniprotkb:P49418</td>\n",
       "      <td>uniprotkb:O43426</td>\n",
       "      <td>intact:EBI-7121510|uniprotkb:Q75MK5|uniprotkb:...</td>\n",
       "      <td>intact:EBI-2821539|uniprotkb:O43425|uniprotkb:...</td>\n",
       "      <td>psi-mi:amph_human(display_long)|uniprotkb:AMPH...</td>\n",
       "      <td>psi-mi:synj1_human(display_long)|uniprotkb:SYN...</td>\n",
       "      <td>psi-mi:\"MI:0081\"(peptide array)</td>\n",
       "      <td>Cestra et al. (1999)</td>\n",
       "      <td>pubmed:10542231|mint:MINT-5211933</td>\n",
       "      <td>taxid:9606(human)|taxid:9606(Homo sapiens)</td>\n",
       "      <td>...</td>\n",
       "      <td>psi-mi:\"MI:0083\"(peptide synthesis)</td>\n",
       "      <td>uniprotkb:P49418|intact:EBI-7121510|uniprotkb:...</td>\n",
       "      <td>uniprotkb:O43426|intact:EBI-2821539|uniprotkb:...</td>\n",
       "      <td>P49418|Q75MK5|Q75MM3|A4D1X9|O43538|A4D1X8|Q75M...</td>\n",
       "      <td>O43426|O43425|O94984|Q4KMR1</td>\n",
       "      <td>P49418</td>\n",
       "      <td>O43426</td>\n",
       "      <td>0.56</td>\n",
       "      <td>P49418</td>\n",
       "      <td>O43426</td>\n",
       "    </tr>\n",
       "    <tr>\n",
       "      <th>3</th>\n",
       "      <td>uniprotkb:P49418</td>\n",
       "      <td>uniprotkb:O43426</td>\n",
       "      <td>intact:EBI-7121510|uniprotkb:Q75MK5|uniprotkb:...</td>\n",
       "      <td>intact:EBI-2821539|uniprotkb:O43425|uniprotkb:...</td>\n",
       "      <td>psi-mi:amph_human(display_long)|uniprotkb:AMPH...</td>\n",
       "      <td>psi-mi:synj1_human(display_long)|uniprotkb:SYN...</td>\n",
       "      <td>psi-mi:\"MI:0081\"(peptide array)</td>\n",
       "      <td>Cestra et al. (1999)</td>\n",
       "      <td>pubmed:10542231|mint:MINT-5211933</td>\n",
       "      <td>taxid:9606(human)|taxid:9606(Homo sapiens)</td>\n",
       "      <td>...</td>\n",
       "      <td>psi-mi:\"MI:0083\"(peptide synthesis)</td>\n",
       "      <td>uniprotkb:P49418|intact:EBI-7121510|uniprotkb:...</td>\n",
       "      <td>uniprotkb:O43426|intact:EBI-2821539|uniprotkb:...</td>\n",
       "      <td>P49418|Q75MK5|Q75MM3|A4D1X9|O43538|A4D1X8|Q75M...</td>\n",
       "      <td>O43426|O43425|O94984|Q4KMR1</td>\n",
       "      <td>P49418</td>\n",
       "      <td>O43426</td>\n",
       "      <td>0.56</td>\n",
       "      <td>P49418</td>\n",
       "      <td>O43426</td>\n",
       "    </tr>\n",
       "    <tr>\n",
       "      <th>4</th>\n",
       "      <td>uniprotkb:Q99961</td>\n",
       "      <td>uniprotkb:O43426</td>\n",
       "      <td>intact:EBI-697911|uniprotkb:Q99668|uniprotkb:B...</td>\n",
       "      <td>intact:EBI-2821539|uniprotkb:O43425|uniprotkb:...</td>\n",
       "      <td>psi-mi:sh3g1_human(display_long)|uniprotkb:End...</td>\n",
       "      <td>psi-mi:synj1_human(display_long)|uniprotkb:SYN...</td>\n",
       "      <td>psi-mi:\"MI:0081\"(peptide array)</td>\n",
       "      <td>Cestra et al. (1999)</td>\n",
       "      <td>pubmed:10542231|mint:MINT-5211933</td>\n",
       "      <td>taxid:9606(human)|taxid:9606(Homo sapiens)</td>\n",
       "      <td>...</td>\n",
       "      <td>psi-mi:\"MI:0083\"(peptide synthesis)</td>\n",
       "      <td>uniprotkb:Q99961|intact:EBI-697911|uniprotkb:Q...</td>\n",
       "      <td>uniprotkb:O43426|intact:EBI-2821539|uniprotkb:...</td>\n",
       "      <td>Q99961|Q99668|B4DRA1|E7EVZ4|M0QZV5</td>\n",
       "      <td>O43426|O43425|O94984|Q4KMR1</td>\n",
       "      <td>Q99961</td>\n",
       "      <td>O43426</td>\n",
       "      <td>0.44</td>\n",
       "      <td>Q99961</td>\n",
       "      <td>O43426</td>\n",
       "    </tr>\n",
       "  </tbody>\n",
       "</table>\n",
       "<p>5 rows × 51 columns</p>\n",
       "</div>"
      ],
      "text/plain": [
       "  #ID(s) interactor A ID(s) interactor B  \\\n",
       "0    uniprotkb:P49418   uniprotkb:O43426   \n",
       "1    uniprotkb:P49418   uniprotkb:O43426   \n",
       "2    uniprotkb:P49418   uniprotkb:O43426   \n",
       "3    uniprotkb:P49418   uniprotkb:O43426   \n",
       "4    uniprotkb:Q99961   uniprotkb:O43426   \n",
       "\n",
       "                             Alt. ID(s) interactor A  \\\n",
       "0  intact:EBI-7121510|uniprotkb:Q75MK5|uniprotkb:...   \n",
       "1  intact:EBI-7121510|uniprotkb:Q75MK5|uniprotkb:...   \n",
       "2  intact:EBI-7121510|uniprotkb:Q75MK5|uniprotkb:...   \n",
       "3  intact:EBI-7121510|uniprotkb:Q75MK5|uniprotkb:...   \n",
       "4  intact:EBI-697911|uniprotkb:Q99668|uniprotkb:B...   \n",
       "\n",
       "                             Alt. ID(s) interactor B  \\\n",
       "0  intact:EBI-2821539|uniprotkb:O43425|uniprotkb:...   \n",
       "1  intact:EBI-2821539|uniprotkb:O43425|uniprotkb:...   \n",
       "2  intact:EBI-2821539|uniprotkb:O43425|uniprotkb:...   \n",
       "3  intact:EBI-2821539|uniprotkb:O43425|uniprotkb:...   \n",
       "4  intact:EBI-2821539|uniprotkb:O43425|uniprotkb:...   \n",
       "\n",
       "                              Alias(es) interactor A  \\\n",
       "0  psi-mi:amph_human(display_long)|uniprotkb:AMPH...   \n",
       "1  psi-mi:amph_human(display_long)|uniprotkb:AMPH...   \n",
       "2  psi-mi:amph_human(display_long)|uniprotkb:AMPH...   \n",
       "3  psi-mi:amph_human(display_long)|uniprotkb:AMPH...   \n",
       "4  psi-mi:sh3g1_human(display_long)|uniprotkb:End...   \n",
       "\n",
       "                              Alias(es) interactor B  \\\n",
       "0  psi-mi:synj1_human(display_long)|uniprotkb:SYN...   \n",
       "1  psi-mi:synj1_human(display_long)|uniprotkb:SYN...   \n",
       "2  psi-mi:synj1_human(display_long)|uniprotkb:SYN...   \n",
       "3  psi-mi:synj1_human(display_long)|uniprotkb:SYN...   \n",
       "4  psi-mi:synj1_human(display_long)|uniprotkb:SYN...   \n",
       "\n",
       "   Interaction detection method(s) Publication 1st author(s)  \\\n",
       "0  psi-mi:\"MI:0084\"(phage display)      Cestra et al. (1999)   \n",
       "1  psi-mi:\"MI:0081\"(peptide array)      Cestra et al. (1999)   \n",
       "2  psi-mi:\"MI:0081\"(peptide array)      Cestra et al. (1999)   \n",
       "3  psi-mi:\"MI:0081\"(peptide array)      Cestra et al. (1999)   \n",
       "4  psi-mi:\"MI:0081\"(peptide array)      Cestra et al. (1999)   \n",
       "\n",
       "           Publication Identifier(s)  \\\n",
       "0  pubmed:10542231|mint:MINT-5211933   \n",
       "1  pubmed:10542231|mint:MINT-5211933   \n",
       "2  pubmed:10542231|mint:MINT-5211933   \n",
       "3  pubmed:10542231|mint:MINT-5211933   \n",
       "4  pubmed:10542231|mint:MINT-5211933   \n",
       "\n",
       "                           Taxid interactor A  ...  \\\n",
       "0  taxid:9606(human)|taxid:9606(Homo sapiens)  ...   \n",
       "1  taxid:9606(human)|taxid:9606(Homo sapiens)  ...   \n",
       "2  taxid:9606(human)|taxid:9606(Homo sapiens)  ...   \n",
       "3  taxid:9606(human)|taxid:9606(Homo sapiens)  ...   \n",
       "4  taxid:9606(human)|taxid:9606(Homo sapiens)  ...   \n",
       "\n",
       "                 Identification method participant B  \\\n",
       "0  psi-mi:\"MI:0078\"(nucleotide sequence identific...   \n",
       "1                psi-mi:\"MI:0083\"(peptide synthesis)   \n",
       "2                psi-mi:\"MI:0083\"(peptide synthesis)   \n",
       "3                psi-mi:\"MI:0083\"(peptide synthesis)   \n",
       "4                psi-mi:\"MI:0083\"(peptide synthesis)   \n",
       "\n",
       "                                All IDs interactor A  \\\n",
       "0  uniprotkb:P49418|intact:EBI-7121510|uniprotkb:...   \n",
       "1  uniprotkb:P49418|intact:EBI-7121510|uniprotkb:...   \n",
       "2  uniprotkb:P49418|intact:EBI-7121510|uniprotkb:...   \n",
       "3  uniprotkb:P49418|intact:EBI-7121510|uniprotkb:...   \n",
       "4  uniprotkb:Q99961|intact:EBI-697911|uniprotkb:Q...   \n",
       "\n",
       "                                All IDs interactor B  \\\n",
       "0  uniprotkb:O43426|intact:EBI-2821539|uniprotkb:...   \n",
       "1  uniprotkb:O43426|intact:EBI-2821539|uniprotkb:...   \n",
       "2  uniprotkb:O43426|intact:EBI-2821539|uniprotkb:...   \n",
       "3  uniprotkb:O43426|intact:EBI-2821539|uniprotkb:...   \n",
       "4  uniprotkb:O43426|intact:EBI-2821539|uniprotkb:...   \n",
       "\n",
       "                                     uniprotkb_IDs_A  \\\n",
       "0  P49418|Q75MK5|Q75MM3|A4D1X9|O43538|A4D1X8|Q75M...   \n",
       "1  P49418|Q75MK5|Q75MM3|A4D1X9|O43538|A4D1X8|Q75M...   \n",
       "2  P49418|Q75MK5|Q75MM3|A4D1X9|O43538|A4D1X8|Q75M...   \n",
       "3  P49418|Q75MK5|Q75MM3|A4D1X9|O43538|A4D1X8|Q75M...   \n",
       "4                 Q99961|Q99668|B4DRA1|E7EVZ4|M0QZV5   \n",
       "\n",
       "               uniprotkb_IDs_B first_uniprotkb_IDs_A first_uniprotkb_IDs_B  \\\n",
       "0  O43426|O43425|O94984|Q4KMR1                P49418                O43426   \n",
       "1  O43426|O43425|O94984|Q4KMR1                P49418                O43426   \n",
       "2  O43426|O43425|O94984|Q4KMR1                P49418                O43426   \n",
       "3  O43426|O43425|O94984|Q4KMR1                P49418                O43426   \n",
       "4  O43426|O43425|O94984|Q4KMR1                Q99961                O43426   \n",
       "\n",
       "  intact-miscore uniprotID_A uniprotID_B  \n",
       "0           0.56      P49418      O43426  \n",
       "1           0.56      P49418      O43426  \n",
       "2           0.56      P49418      O43426  \n",
       "3           0.56      P49418      O43426  \n",
       "4           0.44      Q99961      O43426  \n",
       "\n",
       "[5 rows x 51 columns]"
      ]
     },
     "metadata": {},
     "output_type": "display_data"
    }
   ],
   "source": [
    "intactFinal_2 = intactFinal.merge(\n",
    "    uniprotMapping_A,\n",
    "    how=\"inner\", \n",
    "    on=\"first_uniprotkb_IDs_A\"\n",
    ").merge(\n",
    "    uniprotMapping_B,\n",
    "    how=\"inner\", \n",
    "    on=\"first_uniprotkb_IDs_B\"\n",
    ")\n",
    "\n",
    "glance(intactFinal_2)"
   ]
  },
  {
   "cell_type": "code",
   "execution_count": 52,
   "metadata": {
    "execution": {
     "iopub.execute_input": "2022-01-10T13:21:17.124069Z",
     "iopub.status.busy": "2022-01-10T13:21:17.123835Z",
     "iopub.status.idle": "2022-01-10T13:21:17.127673Z",
     "shell.execute_reply": "2022-01-10T13:21:17.127244Z",
     "shell.execute_reply.started": "2022-01-10T13:21:17.124031Z"
    }
   },
   "outputs": [
    {
     "name": "stdout",
     "output_type": "stream",
     "text": [
      "20,805 interactions removed\n"
     ]
    }
   ],
   "source": [
    "print('{:,} interactions removed'.format(len(intactFinal) - len(intactFinal_2)))"
   ]
  },
  {
   "cell_type": "code",
   "execution_count": 53,
   "metadata": {
    "execution": {
     "iopub.execute_input": "2022-01-10T13:21:17.423436Z",
     "iopub.status.busy": "2022-01-10T13:21:17.423201Z",
     "iopub.status.idle": "2022-01-10T13:21:17.458173Z",
     "shell.execute_reply": "2022-01-10T13:21:17.457659Z",
     "shell.execute_reply.started": "2022-01-10T13:21:17.423406Z"
    }
   },
   "outputs": [],
   "source": [
    "# Sanity check\n",
    "assert len(intactFinal_2) < len(intactFinal)\n",
    "assert intactFinal_2.uniprotID_A.isna().sum() == 0\n",
    "assert intactFinal_2.uniprotID_B.isna().sum() == 0"
   ]
  },
  {
   "cell_type": "markdown",
   "metadata": {},
   "source": [
    "---\n",
    "**Some sanity checks before removing some columns**"
   ]
  },
  {
   "cell_type": "code",
   "execution_count": 54,
   "metadata": {
    "execution": {
     "iopub.execute_input": "2022-01-10T13:21:18.256590Z",
     "iopub.status.busy": "2022-01-10T13:21:18.256244Z",
     "iopub.status.idle": "2022-01-10T13:21:18.344911Z",
     "shell.execute_reply": "2022-01-10T13:21:18.344456Z",
     "shell.execute_reply.started": "2022-01-10T13:21:18.256452Z"
    }
   },
   "outputs": [],
   "source": [
    "# human-human only\n",
    "assert set(list(intactFinal_2['Taxid interactor A'].unique())+list(intactFinal_2['Taxid interactor B'].unique())) == set(['taxid:9606(human)|taxid:9606(Homo sapiens)'])\n",
    "\n",
    "# PPIs only\n",
    "assert set(list(intactFinal_2['Type(s) interactor A'].unique())+list(intactFinal_2['Type(s) interactor B'].unique())) == set(['psi-mi:\"MI:0326\"(protein)'])\n",
    "\n",
    "# no spoke expansions\n",
    "assert list(intactFinal_2['Expansion method(s)'].unique()) == ['-']"
   ]
  },
  {
   "cell_type": "markdown",
   "metadata": {},
   "source": [
    "---\n",
    "**Filter columns and order uniprotIDs alphabetically**\n",
    "\n"
   ]
  },
  {
   "cell_type": "code",
   "execution_count": 55,
   "metadata": {
    "execution": {
     "iopub.execute_input": "2022-01-10T13:21:20.860175Z",
     "iopub.status.busy": "2022-01-10T13:21:20.859781Z",
     "iopub.status.idle": "2022-01-10T13:21:22.198449Z",
     "shell.execute_reply": "2022-01-10T13:21:22.197872Z",
     "shell.execute_reply.started": "2022-01-10T13:21:20.860000Z"
    }
   },
   "outputs": [
    {
     "name": "stdout",
     "output_type": "stream",
     "text": [
      "DataFrame: 329,409 rows \t 7 columns\n"
     ]
    },
    {
     "data": {
      "text/html": [
       "<div>\n",
       "<style scoped>\n",
       "    .dataframe tbody tr th:only-of-type {\n",
       "        vertical-align: middle;\n",
       "    }\n",
       "\n",
       "    .dataframe tbody tr th {\n",
       "        vertical-align: top;\n",
       "    }\n",
       "\n",
       "    .dataframe thead th {\n",
       "        text-align: right;\n",
       "    }\n",
       "</style>\n",
       "<table border=\"1\" class=\"dataframe\">\n",
       "  <thead>\n",
       "    <tr style=\"text-align: right;\">\n",
       "      <th></th>\n",
       "      <th>uniprotID_A</th>\n",
       "      <th>uniprotID_B</th>\n",
       "      <th>intact-miscore</th>\n",
       "      <th>Interaction detection method(s)</th>\n",
       "      <th>Publication Identifier(s)</th>\n",
       "      <th>Interaction type(s)</th>\n",
       "      <th>Host organism(s)</th>\n",
       "    </tr>\n",
       "  </thead>\n",
       "  <tbody>\n",
       "    <tr>\n",
       "      <th>0</th>\n",
       "      <td>P49418</td>\n",
       "      <td>O43426</td>\n",
       "      <td>0.56</td>\n",
       "      <td>psi-mi:\"MI:0084\"(phage display)</td>\n",
       "      <td>pubmed:10542231|mint:MINT-5211933</td>\n",
       "      <td>psi-mi:\"MI:0407\"(direct interaction)</td>\n",
       "      <td>taxid:-1(in vitro)|taxid:-1(In vitro)</td>\n",
       "    </tr>\n",
       "    <tr>\n",
       "      <th>1</th>\n",
       "      <td>P49418</td>\n",
       "      <td>O43426</td>\n",
       "      <td>0.56</td>\n",
       "      <td>psi-mi:\"MI:0081\"(peptide array)</td>\n",
       "      <td>pubmed:10542231|mint:MINT-5211933</td>\n",
       "      <td>psi-mi:\"MI:0407\"(direct interaction)</td>\n",
       "      <td>taxid:-1(in vitro)|taxid:-1(In vitro)</td>\n",
       "    </tr>\n",
       "    <tr>\n",
       "      <th>2</th>\n",
       "      <td>P49418</td>\n",
       "      <td>O43426</td>\n",
       "      <td>0.56</td>\n",
       "      <td>psi-mi:\"MI:0081\"(peptide array)</td>\n",
       "      <td>pubmed:10542231|mint:MINT-5211933</td>\n",
       "      <td>psi-mi:\"MI:0407\"(direct interaction)</td>\n",
       "      <td>taxid:-1(in vitro)|taxid:-1(In vitro)</td>\n",
       "    </tr>\n",
       "    <tr>\n",
       "      <th>3</th>\n",
       "      <td>P49418</td>\n",
       "      <td>O43426</td>\n",
       "      <td>0.56</td>\n",
       "      <td>psi-mi:\"MI:0081\"(peptide array)</td>\n",
       "      <td>pubmed:10542231|mint:MINT-5211933</td>\n",
       "      <td>psi-mi:\"MI:0407\"(direct interaction)</td>\n",
       "      <td>taxid:-1(in vitro)|taxid:-1(In vitro)</td>\n",
       "    </tr>\n",
       "    <tr>\n",
       "      <th>4</th>\n",
       "      <td>Q99961</td>\n",
       "      <td>O43426</td>\n",
       "      <td>0.44</td>\n",
       "      <td>psi-mi:\"MI:0081\"(peptide array)</td>\n",
       "      <td>pubmed:10542231|mint:MINT-5211933</td>\n",
       "      <td>psi-mi:\"MI:0407\"(direct interaction)</td>\n",
       "      <td>taxid:-1(in vitro)|taxid:-1(In vitro)</td>\n",
       "    </tr>\n",
       "  </tbody>\n",
       "</table>\n",
       "</div>"
      ],
      "text/plain": [
       "  uniprotID_A uniprotID_B  intact-miscore  Interaction detection method(s)  \\\n",
       "0      P49418      O43426            0.56  psi-mi:\"MI:0084\"(phage display)   \n",
       "1      P49418      O43426            0.56  psi-mi:\"MI:0081\"(peptide array)   \n",
       "2      P49418      O43426            0.56  psi-mi:\"MI:0081\"(peptide array)   \n",
       "3      P49418      O43426            0.56  psi-mi:\"MI:0081\"(peptide array)   \n",
       "4      Q99961      O43426            0.44  psi-mi:\"MI:0081\"(peptide array)   \n",
       "\n",
       "           Publication Identifier(s)                   Interaction type(s)  \\\n",
       "0  pubmed:10542231|mint:MINT-5211933  psi-mi:\"MI:0407\"(direct interaction)   \n",
       "1  pubmed:10542231|mint:MINT-5211933  psi-mi:\"MI:0407\"(direct interaction)   \n",
       "2  pubmed:10542231|mint:MINT-5211933  psi-mi:\"MI:0407\"(direct interaction)   \n",
       "3  pubmed:10542231|mint:MINT-5211933  psi-mi:\"MI:0407\"(direct interaction)   \n",
       "4  pubmed:10542231|mint:MINT-5211933  psi-mi:\"MI:0407\"(direct interaction)   \n",
       "\n",
       "                        Host organism(s)  \n",
       "0  taxid:-1(in vitro)|taxid:-1(In vitro)  \n",
       "1  taxid:-1(in vitro)|taxid:-1(In vitro)  \n",
       "2  taxid:-1(in vitro)|taxid:-1(In vitro)  \n",
       "3  taxid:-1(in vitro)|taxid:-1(In vitro)  \n",
       "4  taxid:-1(in vitro)|taxid:-1(In vitro)  "
      ]
     },
     "metadata": {},
     "output_type": "display_data"
    }
   ],
   "source": [
    "intactFinal_3 = intactFinal_2[[\n",
    "    'uniprotID_A', \n",
    "    'uniprotID_B',\n",
    "    'intact-miscore',\n",
    "    'Interaction detection method(s)',\n",
    "    'Publication Identifier(s)',\n",
    "    'Interaction type(s)',\n",
    "    'Host organism(s)'\n",
    "]].copy()\n",
    "glance(intactFinal_3)"
   ]
  },
  {
   "cell_type": "code",
   "execution_count": 56,
   "metadata": {
    "ExecuteTime": {
     "end_time": "2019-10-30T16:27:31.557692Z",
     "start_time": "2019-10-30T16:27:31.084899Z"
    },
    "execution": {
     "iopub.execute_input": "2022-01-10T13:21:23.512196Z",
     "iopub.status.busy": "2022-01-10T13:21:23.511746Z",
     "iopub.status.idle": "2022-01-10T13:21:24.984923Z",
     "shell.execute_reply": "2022-01-10T13:21:24.984500Z",
     "shell.execute_reply.started": "2022-01-10T13:21:23.512028Z"
    }
   },
   "outputs": [
    {
     "name": "stdout",
     "output_type": "stream",
     "text": [
      "DataFrame: 329,409 rows \t 7 columns\n"
     ]
    },
    {
     "data": {
      "text/html": [
       "<div>\n",
       "<style scoped>\n",
       "    .dataframe tbody tr th:only-of-type {\n",
       "        vertical-align: middle;\n",
       "    }\n",
       "\n",
       "    .dataframe tbody tr th {\n",
       "        vertical-align: top;\n",
       "    }\n",
       "\n",
       "    .dataframe thead th {\n",
       "        text-align: right;\n",
       "    }\n",
       "</style>\n",
       "<table border=\"1\" class=\"dataframe\">\n",
       "  <thead>\n",
       "    <tr style=\"text-align: right;\">\n",
       "      <th></th>\n",
       "      <th>uniprotID_A</th>\n",
       "      <th>uniprotID_B</th>\n",
       "      <th>intact-miscore</th>\n",
       "      <th>Interaction detection method(s)</th>\n",
       "      <th>Publication Identifier(s)</th>\n",
       "      <th>Interaction type(s)</th>\n",
       "      <th>Host organism(s)</th>\n",
       "    </tr>\n",
       "  </thead>\n",
       "  <tbody>\n",
       "    <tr>\n",
       "      <th>0</th>\n",
       "      <td>O43426</td>\n",
       "      <td>P49418</td>\n",
       "      <td>0.56</td>\n",
       "      <td>psi-mi:\"MI:0084\"(phage display)</td>\n",
       "      <td>pubmed:10542231|mint:MINT-5211933</td>\n",
       "      <td>psi-mi:\"MI:0407\"(direct interaction)</td>\n",
       "      <td>taxid:-1(in vitro)|taxid:-1(In vitro)</td>\n",
       "    </tr>\n",
       "    <tr>\n",
       "      <th>1</th>\n",
       "      <td>O43426</td>\n",
       "      <td>P49418</td>\n",
       "      <td>0.56</td>\n",
       "      <td>psi-mi:\"MI:0081\"(peptide array)</td>\n",
       "      <td>pubmed:10542231|mint:MINT-5211933</td>\n",
       "      <td>psi-mi:\"MI:0407\"(direct interaction)</td>\n",
       "      <td>taxid:-1(in vitro)|taxid:-1(In vitro)</td>\n",
       "    </tr>\n",
       "    <tr>\n",
       "      <th>2</th>\n",
       "      <td>O43426</td>\n",
       "      <td>P49418</td>\n",
       "      <td>0.56</td>\n",
       "      <td>psi-mi:\"MI:0081\"(peptide array)</td>\n",
       "      <td>pubmed:10542231|mint:MINT-5211933</td>\n",
       "      <td>psi-mi:\"MI:0407\"(direct interaction)</td>\n",
       "      <td>taxid:-1(in vitro)|taxid:-1(In vitro)</td>\n",
       "    </tr>\n",
       "    <tr>\n",
       "      <th>3</th>\n",
       "      <td>O43426</td>\n",
       "      <td>P49418</td>\n",
       "      <td>0.56</td>\n",
       "      <td>psi-mi:\"MI:0081\"(peptide array)</td>\n",
       "      <td>pubmed:10542231|mint:MINT-5211933</td>\n",
       "      <td>psi-mi:\"MI:0407\"(direct interaction)</td>\n",
       "      <td>taxid:-1(in vitro)|taxid:-1(In vitro)</td>\n",
       "    </tr>\n",
       "    <tr>\n",
       "      <th>4</th>\n",
       "      <td>O43426</td>\n",
       "      <td>Q99961</td>\n",
       "      <td>0.44</td>\n",
       "      <td>psi-mi:\"MI:0081\"(peptide array)</td>\n",
       "      <td>pubmed:10542231|mint:MINT-5211933</td>\n",
       "      <td>psi-mi:\"MI:0407\"(direct interaction)</td>\n",
       "      <td>taxid:-1(in vitro)|taxid:-1(In vitro)</td>\n",
       "    </tr>\n",
       "  </tbody>\n",
       "</table>\n",
       "</div>"
      ],
      "text/plain": [
       "  uniprotID_A uniprotID_B  intact-miscore  Interaction detection method(s)  \\\n",
       "0      O43426      P49418            0.56  psi-mi:\"MI:0084\"(phage display)   \n",
       "1      O43426      P49418            0.56  psi-mi:\"MI:0081\"(peptide array)   \n",
       "2      O43426      P49418            0.56  psi-mi:\"MI:0081\"(peptide array)   \n",
       "3      O43426      P49418            0.56  psi-mi:\"MI:0081\"(peptide array)   \n",
       "4      O43426      Q99961            0.44  psi-mi:\"MI:0081\"(peptide array)   \n",
       "\n",
       "           Publication Identifier(s)                   Interaction type(s)  \\\n",
       "0  pubmed:10542231|mint:MINT-5211933  psi-mi:\"MI:0407\"(direct interaction)   \n",
       "1  pubmed:10542231|mint:MINT-5211933  psi-mi:\"MI:0407\"(direct interaction)   \n",
       "2  pubmed:10542231|mint:MINT-5211933  psi-mi:\"MI:0407\"(direct interaction)   \n",
       "3  pubmed:10542231|mint:MINT-5211933  psi-mi:\"MI:0407\"(direct interaction)   \n",
       "4  pubmed:10542231|mint:MINT-5211933  psi-mi:\"MI:0407\"(direct interaction)   \n",
       "\n",
       "                        Host organism(s)  \n",
       "0  taxid:-1(in vitro)|taxid:-1(In vitro)  \n",
       "1  taxid:-1(in vitro)|taxid:-1(In vitro)  \n",
       "2  taxid:-1(in vitro)|taxid:-1(In vitro)  \n",
       "3  taxid:-1(in vitro)|taxid:-1(In vitro)  \n",
       "4  taxid:-1(in vitro)|taxid:-1(In vitro)  "
      ]
     },
     "metadata": {},
     "output_type": "display_data"
    }
   ],
   "source": [
    "uniprotABids = intactFinal_3.loc[:,[\"uniprotID_A\",\"uniprotID_B\"]].values.tolist()\n",
    "\n",
    "for i in range(len(uniprotABids)):\n",
    "    uniprotABids[i].sort()\n",
    "    \n",
    "uniprotA, uniprotB = map(list, zip(*uniprotABids))\n",
    "\n",
    "intactFinal_3.loc[:,'uniprotID_A'] = uniprotA\n",
    "intactFinal_3.loc[:,'uniprotID_B'] = uniprotB\n",
    "\n",
    "glance(intactFinal_3)"
   ]
  },
  {
   "cell_type": "code",
   "execution_count": 57,
   "metadata": {
    "execution": {
     "iopub.execute_input": "2022-01-10T13:21:24.985920Z",
     "iopub.status.busy": "2022-01-10T13:21:24.985705Z",
     "iopub.status.idle": "2022-01-10T13:21:25.011342Z",
     "shell.execute_reply": "2022-01-10T13:21:25.010904Z",
     "shell.execute_reply.started": "2022-01-10T13:21:24.985853Z"
    }
   },
   "outputs": [],
   "source": [
    "# Sanity check\n",
    "foo = intactFinal_3.uniprotID_A <= intactFinal_3.uniprotID_B\n",
    "assert len(foo.loc[~foo]) == 0"
   ]
  },
  {
   "cell_type": "markdown",
   "metadata": {},
   "source": [
    "# Group by PPI"
   ]
  },
  {
   "cell_type": "code",
   "execution_count": 58,
   "metadata": {
    "execution": {
     "iopub.execute_input": "2022-01-10T13:21:25.749385Z",
     "iopub.status.busy": "2022-01-10T13:21:25.749069Z",
     "iopub.status.idle": "2022-01-10T13:21:25.758980Z",
     "shell.execute_reply": "2022-01-10T13:21:25.758582Z",
     "shell.execute_reply.started": "2022-01-10T13:21:25.749262Z"
    }
   },
   "outputs": [
    {
     "name": "stdout",
     "output_type": "stream",
     "text": [
      "DataFrame: 329,409 rows \t 7 columns\n"
     ]
    },
    {
     "data": {
      "text/html": [
       "<div>\n",
       "<style scoped>\n",
       "    .dataframe tbody tr th:only-of-type {\n",
       "        vertical-align: middle;\n",
       "    }\n",
       "\n",
       "    .dataframe tbody tr th {\n",
       "        vertical-align: top;\n",
       "    }\n",
       "\n",
       "    .dataframe thead th {\n",
       "        text-align: right;\n",
       "    }\n",
       "</style>\n",
       "<table border=\"1\" class=\"dataframe\">\n",
       "  <thead>\n",
       "    <tr style=\"text-align: right;\">\n",
       "      <th></th>\n",
       "      <th>uniprotID_A</th>\n",
       "      <th>uniprotID_B</th>\n",
       "      <th>intact-miscore</th>\n",
       "      <th>Interaction detection method(s)</th>\n",
       "      <th>Publication Identifier(s)</th>\n",
       "      <th>Interaction type(s)</th>\n",
       "      <th>Host organism(s)</th>\n",
       "    </tr>\n",
       "  </thead>\n",
       "  <tbody>\n",
       "    <tr>\n",
       "      <th>0</th>\n",
       "      <td>O43426</td>\n",
       "      <td>P49418</td>\n",
       "      <td>0.56</td>\n",
       "      <td>psi-mi:\"MI:0084\"(phage display)</td>\n",
       "      <td>pubmed:10542231|mint:MINT-5211933</td>\n",
       "      <td>psi-mi:\"MI:0407\"(direct interaction)</td>\n",
       "      <td>taxid:-1(in vitro)|taxid:-1(In vitro)</td>\n",
       "    </tr>\n",
       "    <tr>\n",
       "      <th>1</th>\n",
       "      <td>O43426</td>\n",
       "      <td>P49418</td>\n",
       "      <td>0.56</td>\n",
       "      <td>psi-mi:\"MI:0081\"(peptide array)</td>\n",
       "      <td>pubmed:10542231|mint:MINT-5211933</td>\n",
       "      <td>psi-mi:\"MI:0407\"(direct interaction)</td>\n",
       "      <td>taxid:-1(in vitro)|taxid:-1(In vitro)</td>\n",
       "    </tr>\n",
       "    <tr>\n",
       "      <th>2</th>\n",
       "      <td>O43426</td>\n",
       "      <td>P49418</td>\n",
       "      <td>0.56</td>\n",
       "      <td>psi-mi:\"MI:0081\"(peptide array)</td>\n",
       "      <td>pubmed:10542231|mint:MINT-5211933</td>\n",
       "      <td>psi-mi:\"MI:0407\"(direct interaction)</td>\n",
       "      <td>taxid:-1(in vitro)|taxid:-1(In vitro)</td>\n",
       "    </tr>\n",
       "    <tr>\n",
       "      <th>3</th>\n",
       "      <td>O43426</td>\n",
       "      <td>P49418</td>\n",
       "      <td>0.56</td>\n",
       "      <td>psi-mi:\"MI:0081\"(peptide array)</td>\n",
       "      <td>pubmed:10542231|mint:MINT-5211933</td>\n",
       "      <td>psi-mi:\"MI:0407\"(direct interaction)</td>\n",
       "      <td>taxid:-1(in vitro)|taxid:-1(In vitro)</td>\n",
       "    </tr>\n",
       "    <tr>\n",
       "      <th>4</th>\n",
       "      <td>O43426</td>\n",
       "      <td>Q99961</td>\n",
       "      <td>0.44</td>\n",
       "      <td>psi-mi:\"MI:0081\"(peptide array)</td>\n",
       "      <td>pubmed:10542231|mint:MINT-5211933</td>\n",
       "      <td>psi-mi:\"MI:0407\"(direct interaction)</td>\n",
       "      <td>taxid:-1(in vitro)|taxid:-1(In vitro)</td>\n",
       "    </tr>\n",
       "  </tbody>\n",
       "</table>\n",
       "</div>"
      ],
      "text/plain": [
       "  uniprotID_A uniprotID_B  intact-miscore  Interaction detection method(s)  \\\n",
       "0      O43426      P49418            0.56  psi-mi:\"MI:0084\"(phage display)   \n",
       "1      O43426      P49418            0.56  psi-mi:\"MI:0081\"(peptide array)   \n",
       "2      O43426      P49418            0.56  psi-mi:\"MI:0081\"(peptide array)   \n",
       "3      O43426      P49418            0.56  psi-mi:\"MI:0081\"(peptide array)   \n",
       "4      O43426      Q99961            0.44  psi-mi:\"MI:0081\"(peptide array)   \n",
       "\n",
       "           Publication Identifier(s)                   Interaction type(s)  \\\n",
       "0  pubmed:10542231|mint:MINT-5211933  psi-mi:\"MI:0407\"(direct interaction)   \n",
       "1  pubmed:10542231|mint:MINT-5211933  psi-mi:\"MI:0407\"(direct interaction)   \n",
       "2  pubmed:10542231|mint:MINT-5211933  psi-mi:\"MI:0407\"(direct interaction)   \n",
       "3  pubmed:10542231|mint:MINT-5211933  psi-mi:\"MI:0407\"(direct interaction)   \n",
       "4  pubmed:10542231|mint:MINT-5211933  psi-mi:\"MI:0407\"(direct interaction)   \n",
       "\n",
       "                        Host organism(s)  \n",
       "0  taxid:-1(in vitro)|taxid:-1(In vitro)  \n",
       "1  taxid:-1(in vitro)|taxid:-1(In vitro)  \n",
       "2  taxid:-1(in vitro)|taxid:-1(In vitro)  \n",
       "3  taxid:-1(in vitro)|taxid:-1(In vitro)  \n",
       "4  taxid:-1(in vitro)|taxid:-1(In vitro)  "
      ]
     },
     "metadata": {},
     "output_type": "display_data"
    }
   ],
   "source": [
    "dfIntActPreGr = intactFinal_3\n",
    "glance(dfIntActPreGr)"
   ]
  },
  {
   "cell_type": "markdown",
   "metadata": {},
   "source": [
    "---\n",
    "**Remove self interactions**"
   ]
  },
  {
   "cell_type": "code",
   "execution_count": 59,
   "metadata": {
    "execution": {
     "iopub.execute_input": "2022-01-10T13:21:44.719642Z",
     "iopub.status.busy": "2022-01-10T13:21:44.719408Z",
     "iopub.status.idle": "2022-01-10T13:21:44.748565Z",
     "shell.execute_reply": "2022-01-10T13:21:44.748107Z",
     "shell.execute_reply.started": "2022-01-10T13:21:44.719613Z"
    }
   },
   "outputs": [
    {
     "name": "stdout",
     "output_type": "stream",
     "text": [
      "6,786 self interactions (/329,409)\n"
     ]
    }
   ],
   "source": [
    "foo = dfIntActPreGr.loc[dfIntActPreGr.uniprotID_A == dfIntActPreGr.uniprotID_B]\n",
    "print(\"{:,} self interactions (/{:,})\".format(len(foo),len(dfIntActPreGr)))"
   ]
  },
  {
   "cell_type": "code",
   "execution_count": 60,
   "metadata": {
    "execution": {
     "iopub.execute_input": "2022-01-10T13:21:45.539276Z",
     "iopub.status.busy": "2022-01-10T13:21:45.538714Z",
     "iopub.status.idle": "2022-01-10T13:21:45.610175Z",
     "shell.execute_reply": "2022-01-10T13:21:45.609540Z",
     "shell.execute_reply.started": "2022-01-10T13:21:45.539035Z"
    }
   },
   "outputs": [
    {
     "data": {
      "text/plain": [
       "(322623, 7)"
      ]
     },
     "execution_count": 60,
     "metadata": {},
     "output_type": "execute_result"
    }
   ],
   "source": [
    "dfIntActPreGr_2 = dfIntActPreGr.loc[dfIntActPreGr.uniprotID_A != dfIntActPreGr.uniprotID_B]\n",
    "dfIntActPreGr_2.shape"
   ]
  },
  {
   "cell_type": "markdown",
   "metadata": {},
   "source": [
    "---\n",
    "**EDA on duplicated interactions**"
   ]
  },
  {
   "cell_type": "code",
   "execution_count": 61,
   "metadata": {
    "execution": {
     "iopub.execute_input": "2022-01-10T13:21:47.230124Z",
     "iopub.status.busy": "2022-01-10T13:21:47.229598Z",
     "iopub.status.idle": "2022-01-10T13:21:47.367160Z",
     "shell.execute_reply": "2022-01-10T13:21:47.366610Z",
     "shell.execute_reply.started": "2022-01-10T13:21:47.229929Z"
    }
   },
   "outputs": [
    {
     "name": "stdout",
     "output_type": "stream",
     "text": [
      "Number of unique interactions: 128,790/322,623\n"
     ]
    }
   ],
   "source": [
    "foo = dfIntActPreGr_2.groupby(by=['uniprotID_A', 'uniprotID_B']).size()\n",
    "\n",
    "print('Number of unique interactions: {:,}/{:,}'.format(len(foo), foo.sum()))"
   ]
  },
  {
   "cell_type": "markdown",
   "metadata": {},
   "source": [
    "*Number of duplicates*"
   ]
  },
  {
   "cell_type": "code",
   "execution_count": 62,
   "metadata": {
    "execution": {
     "iopub.execute_input": "2022-01-10T13:21:50.645884Z",
     "iopub.status.busy": "2022-01-10T13:21:50.645661Z",
     "iopub.status.idle": "2022-01-10T13:21:51.376480Z",
     "shell.execute_reply": "2022-01-10T13:21:51.376057Z",
     "shell.execute_reply.started": "2022-01-10T13:21:50.645850Z"
    }
   },
   "outputs": [
    {
     "data": {
      "image/png": "[encoded data removed]",
      "text/plain": [
       "<Figure size 576x288 with 1 Axes>"
      ]
     },
     "metadata": {
      "needs_background": "light"
     },
     "output_type": "display_data"
    }
   ],
   "source": [
    "ax = sns.distplot(foo, kde=False,hist=True, norm_hist=False)\n",
    "ax.set_yscale('log');"
   ]
  },
  {
   "cell_type": "markdown",
   "metadata": {},
   "source": [
    "*Differences amongst duplicates*"
   ]
  },
  {
   "cell_type": "code",
   "execution_count": 63,
   "metadata": {
    "ExecuteTime": {
     "end_time": "2019-10-30T16:20:35.013358Z",
     "start_time": "2019-10-30T16:18:47.850512Z"
    },
    "execution": {
     "iopub.execute_input": "2022-01-10T13:22:08.193503Z",
     "iopub.status.busy": "2022-01-10T13:22:08.193069Z",
     "iopub.status.idle": "2022-01-10T13:22:15.779173Z",
     "shell.execute_reply": "2022-01-10T13:22:15.778035Z",
     "shell.execute_reply.started": "2022-01-10T13:22:08.193344Z"
    }
   },
   "outputs": [],
   "source": [
    "foo = dfIntActPreGr_2.groupby(by=['uniprotID_A', 'uniprotID_B']).agg(lambda x: len(set(x)) == 1)"
   ]
  },
  {
   "cell_type": "code",
   "execution_count": 64,
   "metadata": {
    "execution": {
     "iopub.execute_input": "2022-01-10T13:22:15.781421Z",
     "iopub.status.busy": "2022-01-10T13:22:15.781030Z",
     "iopub.status.idle": "2022-01-10T13:22:15.800335Z",
     "shell.execute_reply": "2022-01-10T13:22:15.799708Z",
     "shell.execute_reply.started": "2022-01-10T13:22:15.781290Z"
    }
   },
   "outputs": [
    {
     "name": "stdout",
     "output_type": "stream",
     "text": [
      "Number of interactions with discrepancies (/128,790)\n",
      "\tintact-miscore: 2,415\n",
      "\tInteraction detection method(s): 73,340\n",
      "\tPublication Identifier(s): 10,902\n",
      "\tInteraction type(s): 2,687\n",
      "\tHost organism(s): 7,994\n"
     ]
    }
   ],
   "source": [
    "print(\"Number of interactions with discrepancies (/{:,})\".format(len(foo)))\n",
    "for col in foo.columns:\n",
    "    print(\"\\t{}: {:,}\".format(col,len(foo.loc[~foo[col]])))"
   ]
  },
  {
   "cell_type": "markdown",
   "metadata": {},
   "source": [
    "---\n",
    "**Only keep interactions with the highest MI-score**"
   ]
  },
  {
   "cell_type": "code",
   "execution_count": 65,
   "metadata": {
    "execution": {
     "iopub.execute_input": "2022-01-10T13:22:18.938010Z",
     "iopub.status.busy": "2022-01-10T13:22:18.937591Z",
     "iopub.status.idle": "2022-01-10T13:22:19.070484Z",
     "shell.execute_reply": "2022-01-10T13:22:19.068864Z",
     "shell.execute_reply.started": "2022-01-10T13:22:18.937954Z"
    }
   },
   "outputs": [],
   "source": [
    "dfIntActPreGr_3 = dfIntActPreGr_2.sort_values('intact-miscore').drop_duplicates(subset=['uniprotID_A', 'uniprotID_B'], keep='last')"
   ]
  },
  {
   "cell_type": "code",
   "execution_count": 66,
   "metadata": {
    "execution": {
     "iopub.execute_input": "2022-01-10T13:22:19.307957Z",
     "iopub.status.busy": "2022-01-10T13:22:19.307563Z",
     "iopub.status.idle": "2022-01-10T13:22:19.441018Z",
     "shell.execute_reply": "2022-01-10T13:22:19.440323Z",
     "shell.execute_reply.started": "2022-01-10T13:22:19.307899Z"
    }
   },
   "outputs": [],
   "source": [
    "# Sanity check\n",
    "foo = dfIntActPreGr_2.groupby(by=['uniprotID_A', 'uniprotID_B']).size()\n",
    "assert len(dfIntActPreGr_3) == len(foo)"
   ]
  },
  {
   "cell_type": "markdown",
   "metadata": {},
   "source": [
    "# Final sanity checks"
   ]
  },
  {
   "cell_type": "code",
   "execution_count": 67,
   "metadata": {
    "execution": {
     "iopub.execute_input": "2022-01-10T13:22:20.115884Z",
     "iopub.status.busy": "2022-01-10T13:22:20.115190Z",
     "iopub.status.idle": "2022-01-10T13:22:20.120488Z",
     "shell.execute_reply": "2022-01-10T13:22:20.119485Z",
     "shell.execute_reply.started": "2022-01-10T13:22:20.115613Z"
    }
   },
   "outputs": [],
   "source": [
    "THEintact = dfIntActPreGr_3"
   ]
  },
  {
   "cell_type": "code",
   "execution_count": 68,
   "metadata": {
    "execution": {
     "iopub.execute_input": "2022-01-10T13:22:20.657451Z",
     "iopub.status.busy": "2022-01-10T13:22:20.657025Z",
     "iopub.status.idle": "2022-01-10T13:22:20.728224Z",
     "shell.execute_reply": "2022-01-10T13:22:20.727757Z",
     "shell.execute_reply.started": "2022-01-10T13:22:20.657298Z"
    }
   },
   "outputs": [],
   "source": [
    "# no missing MI-score\n",
    "assert THEintact['intact-miscore'].isna().sum() == 0\n",
    "\n",
    "# only associations (no colocalisations)\n",
    "foo = [\n",
    "    'psi-mi:\"MI:0915\"(physical association)', \n",
    "    'psi-mi:\"MI:0914\"(association)', \n",
    "    'psi-mi:\"MI:0407\"(direct interaction)'\n",
    "]\n",
    "assert set(THEintact['Interaction type(s)']).issubset(foo)\n",
    "\n",
    "# No missing IDs\n",
    "for i in ['uniprotID_A','uniprotID_B']:\n",
    "    assert THEintact[i].isna().sum() == 0\n",
    "    assert len(THEintact.loc[THEintact[i] == '']) == 0\n",
    "    \n",
    "# No self interactions\n",
    "foo = THEintact.loc[THEintact.uniprotID_A == THEintact.uniprotID_B]\n",
    "assert len(foo) == 0\n",
    "\n",
    "# alphabetical order\n",
    "foo = THEintact.loc[THEintact.uniprotID_A > THEintact.uniprotID_B]\n",
    "assert len(foo) == 0"
   ]
  },
  {
   "cell_type": "markdown",
   "metadata": {},
   "source": [
    "# Final EDA"
   ]
  },
  {
   "cell_type": "code",
   "execution_count": 79,
   "metadata": {
    "execution": {
     "iopub.execute_input": "2022-01-10T13:28:27.870547Z",
     "iopub.status.busy": "2022-01-10T13:28:27.869817Z",
     "iopub.status.idle": "2022-01-10T13:28:27.937129Z",
     "shell.execute_reply": "2022-01-10T13:28:27.936209Z",
     "shell.execute_reply.started": "2022-01-10T13:28:27.870256Z"
    }
   },
   "outputs": [
    {
     "name": "stdout",
     "output_type": "stream",
     "text": [
      "Number of interactions: 128,790\n",
      "Covering 15,506 proteins\n"
     ]
    }
   ],
   "source": [
    "print(f\"Number of interactions: {THEintact.shape[0]:,}\")\n",
    "foo = set(pd.concat([THEintact.uniprotID_A,THEintact.uniprotID_B]))\n",
    "print(f\"Covering {len(foo):,} proteins\")"
   ]
  },
  {
   "cell_type": "markdown",
   "metadata": {},
   "source": [
    "*Confidence score*"
   ]
  },
  {
   "cell_type": "code",
   "execution_count": 80,
   "metadata": {
    "execution": {
     "iopub.execute_input": "2022-01-10T15:21:59.472037Z",
     "iopub.status.busy": "2022-01-10T15:21:59.471316Z",
     "iopub.status.idle": "2022-01-10T15:21:59.674380Z",
     "shell.execute_reply": "2022-01-10T15:21:59.673816Z",
     "shell.execute_reply.started": "2022-01-10T15:21:59.471733Z"
    }
   },
   "outputs": [
    {
     "data": {
      "image/png": "[encoded data removed]",
      "text/plain": [
       "<Figure size 576x288 with 1 Axes>"
      ]
     },
     "metadata": {
      "needs_background": "light"
     },
     "output_type": "display_data"
    }
   ],
   "source": [
    "sns.distplot(THEintact['intact-miscore'], hist=False);"
   ]
  },
  {
   "cell_type": "markdown",
   "metadata": {},
   "source": [
    "*Interaction types*"
   ]
  },
  {
   "cell_type": "code",
   "execution_count": 81,
   "metadata": {
    "ExecuteTime": {
     "end_time": "2019-10-30T13:15:04.607394Z",
     "start_time": "2019-10-30T13:15:04.201567Z"
    },
    "execution": {
     "iopub.execute_input": "2022-01-10T15:22:01.530894Z",
     "iopub.status.busy": "2022-01-10T15:22:01.530215Z",
     "iopub.status.idle": "2022-01-10T15:22:01.565968Z",
     "shell.execute_reply": "2022-01-10T15:22:01.565163Z",
     "shell.execute_reply.started": "2022-01-10T15:22:01.530603Z"
    },
    "hidden": true,
    "scrolled": true
   },
   "outputs": [
    {
     "data": {
      "text/plain": [
       "Interaction type(s)\n",
       "psi-mi:\"MI:0915\"(physical association)    123639\n",
       "psi-mi:\"MI:0407\"(direct interaction)        4647\n",
       "psi-mi:\"MI:0914\"(association)                504\n",
       "dtype: int64"
      ]
     },
     "execution_count": 81,
     "metadata": {},
     "output_type": "execute_result"
    }
   ],
   "source": [
    "THEintact.groupby(by=\"Interaction type(s)\").size().sort_values(ascending=False)"
   ]
  },
  {
   "cell_type": "code",
   "execution_count": 82,
   "metadata": {
    "execution": {
     "iopub.execute_input": "2022-01-10T15:22:02.283428Z",
     "iopub.status.busy": "2022-01-10T15:22:02.283195Z",
     "iopub.status.idle": "2022-01-10T15:22:02.845879Z",
     "shell.execute_reply": "2022-01-10T15:22:02.845357Z",
     "shell.execute_reply.started": "2022-01-10T15:22:02.283394Z"
    }
   },
   "outputs": [
    {
     "data": {
      "image/png": "[encoded data removed]",
      "text/plain": [
       "<Figure size 576x288 with 1 Axes>"
      ]
     },
     "metadata": {
      "needs_background": "light"
     },
     "output_type": "display_data"
    }
   ],
   "source": [
    "for l in set(THEintact[\"Interaction type(s)\"]):\n",
    "    foo = dfIntAct1.loc[dfIntAct1['Interaction type(s)'] == l]\n",
    "    sns.distplot(foo['intact-miscore'], hist=False, label=l)\n",
    "plt.legend();"
   ]
  },
  {
   "cell_type": "markdown",
   "metadata": {},
   "source": [
    "*Detection methods*"
   ]
  },
  {
   "cell_type": "code",
   "execution_count": 83,
   "metadata": {
    "ExecuteTime": {
     "end_time": "2019-10-30T13:15:04.607394Z",
     "start_time": "2019-10-30T13:15:04.201567Z"
    },
    "execution": {
     "iopub.execute_input": "2022-01-10T15:22:04.533646Z",
     "iopub.status.busy": "2022-01-10T15:22:04.532904Z",
     "iopub.status.idle": "2022-01-10T15:22:04.574144Z",
     "shell.execute_reply": "2022-01-10T15:22:04.573089Z",
     "shell.execute_reply.started": "2022-01-10T15:22:04.533341Z"
    },
    "hidden": true,
    "scrolled": true
   },
   "outputs": [
    {
     "data": {
      "text/plain": [
       "Interaction detection method(s)\n",
       "psi-mi:\"MI:1356\"(validated two hybrid)                                      38869\n",
       "psi-mi:\"MI:0397\"(two hybrid array)                                          21545\n",
       "psi-mi:\"MI:0018\"(two hybrid)                                                10503\n",
       "psi-mi:\"MI:1112\"(two hybrid prey pooling approach)                           9573\n",
       "psi-mi:\"MI:0006\"(anti bait coimmunoprecipitation)                            8182\n",
       "psi-mi:\"MI:0398\"(two hybrid pooling approach)                                7039\n",
       "psi-mi:\"MI:0030\"(cross-linking study)                                        4885\n",
       "psi-mi:\"MI:2222\"(inference by socio-affinity scoring)                        4769\n",
       "psi-mi:\"MI:0007\"(anti tag coimmunoprecipitation)                             4456\n",
       "psi-mi:\"MI:0096\"(pull down)                                                  3399\n",
       "psi-mi:\"MI:0399\"(two hybrid fragment pooling approach)                       2297\n",
       "psi-mi:\"MI:0112\"(ubiquitin reconstruction)                                   1860\n",
       "psi-mi:\"MI:0676\"(tandem affinity purification)                               1694\n",
       "psi-mi:\"MI:0729\"(luminescence based mammalian interactome mapping)           1337\n",
       "psi-mi:\"MI:0081\"(peptide array)                                              1123\n",
       "psi-mi:\"MI:0034\"(display technology)                                          892\n",
       "psi-mi:\"MI:0809\"(bimolecular fluorescence complementation)                    847\n",
       "psi-mi:\"MI:0089\"(protein array)                                               841\n",
       "psi-mi:\"MI:0019\"(coimmunoprecipitation)                                       603\n",
       "psi-mi:\"MI:0107\"(surface plasmon resonance)                                   387\n",
       "psi-mi:\"MI:0053\"(fluorescence polarization spectroscopy)                      352\n",
       "psi-mi:\"MI:0049\"(filter binding)                                              271\n",
       "psi-mi:\"MI:0114\"(x-ray crystallography)                                       231\n",
       "psi-mi:\"MI:0084\"(phage display)                                               217\n",
       "psi-mi:\"MI:0097\"(reverse ras recruitment system)                              215\n",
       "psi-mi:\"MI:0411\"(enzyme linked immunosorbent assay)                           199\n",
       "psi-mi:\"MI:2215\"(barcode fusion genetics two hybrid)                          184\n",
       "psi-mi:\"MI:0047\"(far western blotting)                                        163\n",
       "psi-mi:\"MI:0004\"(affinity chromatography technology)                          157\n",
       "psi-mi:\"MI:0055\"(fluorescent resonance energy transfer)                       144\n",
       "                                                                            ...  \n",
       "psi-mi:\"MI:2189\"(avexis)                                                        2\n",
       "psi-mi:\"MI:0512\"(zymography)                                                    2\n",
       "psi-mi:\"MI:0437\"(protein three hybrid)                                          2\n",
       "psi-mi:\"MI:0115\"(yeast display)                                                 2\n",
       "psi-mi:\"MI:0232\"(transcriptional complementation assay)                         2\n",
       "psi-mi:\"MI:0968\"(biosensor)                                                     2\n",
       "psi-mi:\"MI:0982\"(electrophoretic mobility-based method)                         2\n",
       "psi-mi:\"MI:0944\"(mass spectrometry study of hydrogen/deuterium exchange)        2\n",
       "psi-mi:\"MI:0515\"(methyltransferase assay)                                       1\n",
       "psi-mi:\"MI:0984\"(deamination assay)                                             1\n",
       "psi-mi:\"MI:0990\"(cleavage assay)                                                1\n",
       "psi-mi:\"MI:0227\"(reverse phase chromatography)                                  1\n",
       "psi-mi:\"MI:0889\"(acetylase assay)                                               1\n",
       "psi-mi:\"MI:0012\"(bioluminescence resonance energy transfer)                     1\n",
       "psi-mi:\"MI:1037\"(Split renilla luciferase complementation)                      1\n",
       "psi-mi:\"MI:1038\"(silicon nanowire field-effect transistor)                      1\n",
       "psi-mi:\"MI:0254\"(genetic interference)                                          1\n",
       "psi-mi:\"MI:0256\"(rna interference)                                              1\n",
       "psi-mi:\"MI:0412\"(electrophoretic mobility supershift assay)                     1\n",
       "psi-mi:\"MI:0979\"(oxidoreductase assay)                                          1\n",
       "psi-mi:\"MI:0953\"(polymerization)                                                1\n",
       "psi-mi:\"MI:0402\"(chromatin immunoprecipitation assay)                           1\n",
       "psi-mi:\"MI:1103\"(solution state nmr)                                            1\n",
       "psi-mi:\"MI:1246\"(ion mobility mass spectrometry of complexes)                   1\n",
       "psi-mi:\"MI:0426\"(light microscopy)                                              1\n",
       "psi-mi:\"MI:0038\"(dynamic light scattering)                                      1\n",
       "psi-mi:\"MI:0425\"(kinase scintillation proximity assay)                          1\n",
       "psi-mi:\"MI:0423\"(in-gel kinase assay)                                           1\n",
       "psi-mi:\"MI:1138\"(decarboxylation assay)                                         1\n",
       "psi-mi:\"MI:0419\"(gtpase assay)                                                  1\n",
       "Length: 133, dtype: int64"
      ]
     },
     "execution_count": 83,
     "metadata": {},
     "output_type": "execute_result"
    }
   ],
   "source": [
    "THEintact.groupby(by=\"Interaction detection method(s)\").size().sort_values(ascending=False)"
   ]
  },
  {
   "cell_type": "code",
   "execution_count": 84,
   "metadata": {
    "execution": {
     "iopub.execute_input": "2022-01-10T15:22:04.936286Z",
     "iopub.status.busy": "2022-01-10T15:22:04.935606Z",
     "iopub.status.idle": "2022-01-10T15:22:05.254752Z",
     "shell.execute_reply": "2022-01-10T15:22:05.254215Z",
     "shell.execute_reply.started": "2022-01-10T15:22:04.935996Z"
    }
   },
   "outputs": [
    {
     "data": {
      "image/png": "[encoded data removed]",
      "text/plain": [
       "<Figure size 576x288 with 1 Axes>"
      ]
     },
     "metadata": {
      "needs_background": "light"
     },
     "output_type": "display_data"
    }
   ],
   "source": [
    "l1 = [\n",
    "    'psi-mi:\"MI:0007\"(anti tag coimmunoprecipitation)',\n",
    "    'psi-mi:\"MI:0006\"(anti bait coimmunoprecipitation)',\n",
    "]\n",
    "foo = THEintact.loc[THEintact['Interaction detection method(s)'].isin(l1)]\n",
    "\n",
    "l2 = [\n",
    "    'psi-mi:\"MI:0397\"(two hybrid array)', \n",
    "    'psi-mi:\"MI:1112\"(two hybrid prey pooling approach)',\n",
    "    'psi-mi:\"MI:1356\"(validated two hybrid)',\n",
    "    'psi-mi:\"MI:0018\"(two hybrid)'\n",
    "]\n",
    "bar = THEintact.loc[THEintact['Interaction detection method(s)'].isin(l2)]\n",
    "\n",
    "l3 = ['psi-mi:\"MI:0096\"(pull down)',]\n",
    "baar = THEintact.loc[THEintact['Interaction detection method(s)'].isin(l3)]\n",
    "\n",
    "l4 = ['psi-mi:\"MI:0676\"(tandem affinity purification)',]\n",
    "fool = THEintact.loc[THEintact['Interaction detection method(s)'].isin(l4)]\n",
    "\n",
    "sns.distplot(foo['intact-miscore'], hist=False, label='coimmunoprecipitation')\n",
    "sns.distplot(bar['intact-miscore'], hist=False, label='two hybrid')\n",
    "sns.distplot(baar['intact-miscore'], hist=False, label='pull down')\n",
    "sns.distplot(fool['intact-miscore'], hist=False, label='TAP')\n",
    "plt.legend();"
   ]
  },
  {
   "cell_type": "markdown",
   "metadata": {},
   "source": [
    "# Select interactions based on confidence score"
   ]
  },
  {
   "cell_type": "code",
   "execution_count": 105,
   "metadata": {
    "execution": {
     "iopub.execute_input": "2022-01-10T15:42:53.647474Z",
     "iopub.status.busy": "2022-01-10T15:42:53.646679Z",
     "iopub.status.idle": "2022-01-10T15:42:54.431655Z",
     "shell.execute_reply": "2022-01-10T15:42:54.431118Z",
     "shell.execute_reply.started": "2022-01-10T15:42:53.647111Z"
    }
   },
   "outputs": [
    {
     "data": {
      "image/png": "[encoded data removed]",
      "text/plain": [
       "<Figure size 720x432 with 1 Axes>"
      ]
     },
     "metadata": {
      "needs_background": "light"
     },
     "output_type": "display_data"
    }
   ],
   "source": [
    "exportIt = False\n",
    "\n",
    "threshold = 0.47\n",
    "\n",
    "fig, ax = plt.subplots(figsize=(10,6))\n",
    "\n",
    "sns.distplot(\n",
    "    THEintact['intact-miscore'], \n",
    "    hist=False, norm_hist=True, \n",
    "    color=palette_redon[0],\n",
    "    ax=ax,\n",
    ")\n",
    "\n",
    "ax.set_ylabel('Density')\n",
    "ax.set_xlabel('IntAct MIscore')\n",
    "\n",
    "color_annotation = palette_redon[4]\n",
    "plt.axvline(threshold, color=color_annotation,linestyle='--', lw=1)\n",
    "plt.text(threshold+0.01, 14.5, '{}'.format(threshold), color=color_annotation, size=14)\n",
    "\n",
    "ax.set_xlim(left=.18,right=1.04)\n",
    "ax.set_ylim(bottom=-.5)\n",
    "\n",
    "ax.spines['left'].set_position((\"outward\", 10))\n",
    "ax.spines['bottom'].set_position((\"outward\", 10))\n",
    "ax.spines['left'].set_bounds(0, 16)\n",
    "ax.spines['bottom'].set_bounds(0.2, 1.)\n",
    "ax.grid(which='major', linewidth=.7, linestyle=':')\n",
    "\n",
    "plt.tight_layout()\n",
    "\n",
    "if exportIt:\n",
    "    export_figure(fig, f\"intactMIscore_withThreshold_1\")"
   ]
  },
  {
   "cell_type": "code",
   "execution_count": 107,
   "metadata": {
    "execution": {
     "iopub.execute_input": "2022-01-10T15:46:07.951123Z",
     "iopub.status.busy": "2022-01-10T15:46:07.950399Z",
     "iopub.status.idle": "2022-01-10T15:46:08.006867Z",
     "shell.execute_reply": "2022-01-10T15:46:08.005779Z",
     "shell.execute_reply.started": "2022-01-10T15:46:07.950822Z"
    }
   },
   "outputs": [
    {
     "name": "stdout",
     "output_type": "stream",
     "text": [
      "A threshold of 0.47 means keeping 78,230 interactions out of 128,790\n",
      "Covering 12,026 proteins\n"
     ]
    }
   ],
   "source": [
    "foo = THEintact.loc[THEintact['intact-miscore'] >= threshold]\n",
    "print('A threshold of {} means keeping {:,} interactions out of {:,}'.format(threshold, len(foo), len(THEintact)))\n",
    "bar = set(pd.concat([foo.uniprotID_A,foo.uniprotID_B]))\n",
    "print(f\"Covering {len(bar):,} proteins\")"
   ]
  },
  {
   "cell_type": "code",
   "execution_count": 77,
   "metadata": {
    "execution": {
     "iopub.execute_input": "2021-11-09T12:24:44.157300Z",
     "iopub.status.busy": "2021-11-09T12:24:44.156554Z",
     "iopub.status.idle": "2021-11-09T12:24:44.189629Z",
     "shell.execute_reply": "2021-11-09T12:24:44.188792Z",
     "shell.execute_reply.started": "2021-11-09T12:24:44.156995Z"
    }
   },
   "outputs": [
    {
     "name": "stdout",
     "output_type": "stream",
     "text": [
      "DataFrame: 78,229 rows \t 7 columns\n"
     ]
    },
    {
     "data": {
      "text/html": [
       "<div>\n",
       "<style scoped>\n",
       "    .dataframe tbody tr th:only-of-type {\n",
       "        vertical-align: middle;\n",
       "    }\n",
       "\n",
       "    .dataframe tbody tr th {\n",
       "        vertical-align: top;\n",
       "    }\n",
       "\n",
       "    .dataframe thead th {\n",
       "        text-align: right;\n",
       "    }\n",
       "</style>\n",
       "<table border=\"1\" class=\"dataframe\">\n",
       "  <thead>\n",
       "    <tr style=\"text-align: right;\">\n",
       "      <th></th>\n",
       "      <th>uniprotID_A</th>\n",
       "      <th>uniprotID_B</th>\n",
       "      <th>intact-miscore</th>\n",
       "      <th>Interaction detection method(s)</th>\n",
       "      <th>Publication Identifier(s)</th>\n",
       "      <th>Interaction type(s)</th>\n",
       "      <th>Host organism(s)</th>\n",
       "    </tr>\n",
       "  </thead>\n",
       "  <tbody>\n",
       "    <tr>\n",
       "      <th>267687</th>\n",
       "      <td>P28223</td>\n",
       "      <td>P41595</td>\n",
       "      <td>0.47</td>\n",
       "      <td>psi-mi:\"MI:0007\"(anti tag coimmunoprecipitation)</td>\n",
       "      <td>pubmed:28258217|imex:IM-26980</td>\n",
       "      <td>psi-mi:\"MI:0915\"(physical association)</td>\n",
       "      <td>taxid:9534(chlae-cos_7)|taxid:9534(Cercopithec...</td>\n",
       "    </tr>\n",
       "    <tr>\n",
       "      <th>123005</th>\n",
       "      <td>O00161</td>\n",
       "      <td>P56962</td>\n",
       "      <td>0.47</td>\n",
       "      <td>psi-mi:\"MI:0007\"(anti tag coimmunoprecipitation)</td>\n",
       "      <td>imex:IM-27238|pubmed:29549094</td>\n",
       "      <td>psi-mi:\"MI:0915\"(physical association)</td>\n",
       "      <td>taxid:9606(human-hela)|taxid:9606(Homo sapiens...</td>\n",
       "    </tr>\n",
       "    <tr>\n",
       "      <th>226101</th>\n",
       "      <td>P82979</td>\n",
       "      <td>Q01081</td>\n",
       "      <td>0.47</td>\n",
       "      <td>psi-mi:\"MI:0007\"(anti tag coimmunoprecipitation)</td>\n",
       "      <td>pubmed:18559666|imex:IM-26479</td>\n",
       "      <td>psi-mi:\"MI:0915\"(physical association)</td>\n",
       "      <td>taxid:9606(human-293t)|taxid:9606(Homo sapiens...</td>\n",
       "    </tr>\n",
       "    <tr>\n",
       "      <th>227471</th>\n",
       "      <td>O60678</td>\n",
       "      <td>Q14524</td>\n",
       "      <td>0.47</td>\n",
       "      <td>psi-mi:\"MI:0007\"(anti tag coimmunoprecipitation)</td>\n",
       "      <td>pubmed:23912080|imex:IM-22140</td>\n",
       "      <td>psi-mi:\"MI:0915\"(physical association)</td>\n",
       "      <td>taxid:9606(human-hek-10)|taxid:9606(Homo sapiens)</td>\n",
       "    </tr>\n",
       "    <tr>\n",
       "      <th>39294</th>\n",
       "      <td>P10275</td>\n",
       "      <td>Q15648</td>\n",
       "      <td>0.47</td>\n",
       "      <td>psi-mi:\"MI:0007\"(anti tag coimmunoprecipitation)</td>\n",
       "      <td>imex:IM-28915|pubmed:33640491</td>\n",
       "      <td>psi-mi:\"MI:0915\"(physical association)</td>\n",
       "      <td>taxid:9606(human-293t)|taxid:9606(Homo sapiens...</td>\n",
       "    </tr>\n",
       "  </tbody>\n",
       "</table>\n",
       "</div>"
      ],
      "text/plain": [
       "       uniprotID_A uniprotID_B  intact-miscore  \\\n",
       "267687      P28223      P41595            0.47   \n",
       "123005      O00161      P56962            0.47   \n",
       "226101      P82979      Q01081            0.47   \n",
       "227471      O60678      Q14524            0.47   \n",
       "39294       P10275      Q15648            0.47   \n",
       "\n",
       "                         Interaction detection method(s)  \\\n",
       "267687  psi-mi:\"MI:0007\"(anti tag coimmunoprecipitation)   \n",
       "123005  psi-mi:\"MI:0007\"(anti tag coimmunoprecipitation)   \n",
       "226101  psi-mi:\"MI:0007\"(anti tag coimmunoprecipitation)   \n",
       "227471  psi-mi:\"MI:0007\"(anti tag coimmunoprecipitation)   \n",
       "39294   psi-mi:\"MI:0007\"(anti tag coimmunoprecipitation)   \n",
       "\n",
       "            Publication Identifier(s)                     Interaction type(s)  \\\n",
       "267687  pubmed:28258217|imex:IM-26980  psi-mi:\"MI:0915\"(physical association)   \n",
       "123005  imex:IM-27238|pubmed:29549094  psi-mi:\"MI:0915\"(physical association)   \n",
       "226101  pubmed:18559666|imex:IM-26479  psi-mi:\"MI:0915\"(physical association)   \n",
       "227471  pubmed:23912080|imex:IM-22140  psi-mi:\"MI:0915\"(physical association)   \n",
       "39294   imex:IM-28915|pubmed:33640491  psi-mi:\"MI:0915\"(physical association)   \n",
       "\n",
       "                                         Host organism(s)  \n",
       "267687  taxid:9534(chlae-cos_7)|taxid:9534(Cercopithec...  \n",
       "123005  taxid:9606(human-hela)|taxid:9606(Homo sapiens...  \n",
       "226101  taxid:9606(human-293t)|taxid:9606(Homo sapiens...  \n",
       "227471  taxid:9606(human-hek-10)|taxid:9606(Homo sapiens)  \n",
       "39294   taxid:9606(human-293t)|taxid:9606(Homo sapiens...  "
      ]
     },
     "metadata": {},
     "output_type": "display_data"
    }
   ],
   "source": [
    "THEintact_2 = THEintact.loc[THEintact['intact-miscore'] >= threshold]\n",
    "glance(THEintact_2)"
   ]
  },
  {
   "cell_type": "markdown",
   "metadata": {},
   "source": [
    "# Export\n"
   ]
  },
  {
   "cell_type": "markdown",
   "metadata": {},
   "source": [
    "- v2.1 used IntAct v20211015 and a threshold at 0.47"
   ]
  },
  {
   "cell_type": "code",
   "execution_count": 78,
   "metadata": {
    "execution": {
     "iopub.execute_input": "2021-11-09T12:25:21.542038Z",
     "iopub.status.busy": "2021-11-09T12:25:21.541512Z",
     "iopub.status.idle": "2021-11-09T12:25:21.590292Z",
     "shell.execute_reply": "2021-11-09T12:25:21.589473Z",
     "shell.execute_reply.started": "2021-11-09T12:25:21.541966Z"
    }
   },
   "outputs": [
    {
     "name": "stdout",
     "output_type": "stream",
     "text": [
      "DataFrame: 78,229 rows \t 3 columns\n"
     ]
    },
    {
     "data": {
      "text/html": [
       "<div>\n",
       "<style scoped>\n",
       "    .dataframe tbody tr th:only-of-type {\n",
       "        vertical-align: middle;\n",
       "    }\n",
       "\n",
       "    .dataframe tbody tr th {\n",
       "        vertical-align: top;\n",
       "    }\n",
       "\n",
       "    .dataframe thead th {\n",
       "        text-align: right;\n",
       "    }\n",
       "</style>\n",
       "<table border=\"1\" class=\"dataframe\">\n",
       "  <thead>\n",
       "    <tr style=\"text-align: right;\">\n",
       "      <th></th>\n",
       "      <th>uniprotID_A</th>\n",
       "      <th>uniprotID_B</th>\n",
       "      <th>intact-miscore</th>\n",
       "    </tr>\n",
       "  </thead>\n",
       "  <tbody>\n",
       "    <tr>\n",
       "      <th>0</th>\n",
       "      <td>P28223</td>\n",
       "      <td>P41595</td>\n",
       "      <td>0.47</td>\n",
       "    </tr>\n",
       "    <tr>\n",
       "      <th>1</th>\n",
       "      <td>O00161</td>\n",
       "      <td>P56962</td>\n",
       "      <td>0.47</td>\n",
       "    </tr>\n",
       "    <tr>\n",
       "      <th>2</th>\n",
       "      <td>P82979</td>\n",
       "      <td>Q01081</td>\n",
       "      <td>0.47</td>\n",
       "    </tr>\n",
       "    <tr>\n",
       "      <th>3</th>\n",
       "      <td>O60678</td>\n",
       "      <td>Q14524</td>\n",
       "      <td>0.47</td>\n",
       "    </tr>\n",
       "    <tr>\n",
       "      <th>4</th>\n",
       "      <td>P10275</td>\n",
       "      <td>Q15648</td>\n",
       "      <td>0.47</td>\n",
       "    </tr>\n",
       "  </tbody>\n",
       "</table>\n",
       "</div>"
      ],
      "text/plain": [
       "  uniprotID_A uniprotID_B  intact-miscore\n",
       "0      P28223      P41595            0.47\n",
       "1      O00161      P56962            0.47\n",
       "2      P82979      Q01081            0.47\n",
       "3      O60678      Q14524            0.47\n",
       "4      P10275      Q15648            0.47"
      ]
     },
     "metadata": {},
     "output_type": "display_data"
    }
   ],
   "source": [
    "intact_export = THEintact_2.copy()\n",
    "\n",
    "intact_export = intact_export[[\n",
    "    'uniprotID_A',\n",
    "    'uniprotID_B',\n",
    "    'intact-miscore'\n",
    "]].reset_index(drop=True)\n",
    "\n",
    "glance(intact_export)"
   ]
  },
  {
   "cell_type": "code",
   "execution_count": 80,
   "metadata": {
    "execution": {
     "iopub.execute_input": "2021-11-09T12:25:30.778495Z",
     "iopub.status.busy": "2021-11-09T12:25:30.778035Z",
     "iopub.status.idle": "2021-11-09T12:25:30.794840Z",
     "shell.execute_reply": "2021-11-09T12:25:30.793689Z",
     "shell.execute_reply.started": "2021-11-09T12:25:30.778422Z"
    }
   },
   "outputs": [],
   "source": [
    "versionINTACTfiltered = '2-1'\n",
    "\n",
    "# logVersions['IntAct']['preprocessed'] = dict()\n",
    "logVersions['IntAct']['preprocessed']['filtered'] = versionINTACTfiltered\n",
    "\n",
    "dump_LogVersions(logVersions)"
   ]
  },
  {
   "cell_type": "code",
   "execution_count": 81,
   "metadata": {
    "ExecuteTime": {
     "end_time": "2019-10-28T15:09:15.279947Z",
     "start_time": "2019-10-28T15:09:15.257470Z"
    },
    "execution": {
     "iopub.execute_input": "2021-11-09T12:25:32.024355Z",
     "iopub.status.busy": "2021-11-09T12:25:32.023630Z",
     "iopub.status.idle": "2021-11-09T12:25:32.067848Z",
     "shell.execute_reply": "2021-11-09T12:25:32.066619Z",
     "shell.execute_reply.started": "2021-11-09T12:25:32.024071Z"
    }
   },
   "outputs": [],
   "source": [
    "intact_export.to_pickle(os.path.join(cfg['outputPreprocessingIntAct'], \n",
    "                                     \"intact_filteredScore_v{}.pkl\".format(versionINTACTfiltered)))\n"
   ]
  },
  {
   "cell_type": "markdown",
   "metadata": {},
   "source": [
    "## Create an index of the number of interactions per protein\n",
    "\n",
    "Based on the unfiltered dataset"
   ]
  },
  {
   "cell_type": "code",
   "execution_count": 86,
   "metadata": {
    "execution": {
     "iopub.execute_input": "2021-11-09T12:25:54.253605Z",
     "iopub.status.busy": "2021-11-09T12:25:54.252866Z",
     "iopub.status.idle": "2021-11-09T12:25:54.303959Z",
     "shell.execute_reply": "2021-11-09T12:25:54.303144Z",
     "shell.execute_reply.started": "2021-11-09T12:25:54.253304Z"
    }
   },
   "outputs": [
    {
     "name": "stdout",
     "output_type": "stream",
     "text": [
      "DataFrame: 128,790 rows \t 3 columns\n"
     ]
    },
    {
     "data": {
      "text/html": [
       "<div>\n",
       "<style scoped>\n",
       "    .dataframe tbody tr th:only-of-type {\n",
       "        vertical-align: middle;\n",
       "    }\n",
       "\n",
       "    .dataframe tbody tr th {\n",
       "        vertical-align: top;\n",
       "    }\n",
       "\n",
       "    .dataframe thead th {\n",
       "        text-align: right;\n",
       "    }\n",
       "</style>\n",
       "<table border=\"1\" class=\"dataframe\">\n",
       "  <thead>\n",
       "    <tr style=\"text-align: right;\">\n",
       "      <th></th>\n",
       "      <th>uniprotID_A</th>\n",
       "      <th>uniprotID_B</th>\n",
       "      <th>intact-miscore</th>\n",
       "    </tr>\n",
       "  </thead>\n",
       "  <tbody>\n",
       "    <tr>\n",
       "      <th>0</th>\n",
       "      <td>P14625</td>\n",
       "      <td>P68400</td>\n",
       "      <td>0.22</td>\n",
       "    </tr>\n",
       "    <tr>\n",
       "      <th>1</th>\n",
       "      <td>O14936</td>\n",
       "      <td>Q9Y624</td>\n",
       "      <td>0.22</td>\n",
       "    </tr>\n",
       "    <tr>\n",
       "      <th>2</th>\n",
       "      <td>P05556</td>\n",
       "      <td>Q9Y6C2</td>\n",
       "      <td>0.22</td>\n",
       "    </tr>\n",
       "    <tr>\n",
       "      <th>3</th>\n",
       "      <td>P04049</td>\n",
       "      <td>P05787</td>\n",
       "      <td>0.22</td>\n",
       "    </tr>\n",
       "    <tr>\n",
       "      <th>4</th>\n",
       "      <td>Q12929</td>\n",
       "      <td>Q92738</td>\n",
       "      <td>0.22</td>\n",
       "    </tr>\n",
       "  </tbody>\n",
       "</table>\n",
       "</div>"
      ],
      "text/plain": [
       "  uniprotID_A uniprotID_B  intact-miscore\n",
       "0      P14625      P68400            0.22\n",
       "1      O14936      Q9Y624            0.22\n",
       "2      P05556      Q9Y6C2            0.22\n",
       "3      P04049      P05787            0.22\n",
       "4      Q12929      Q92738            0.22"
      ]
     },
     "metadata": {},
     "output_type": "display_data"
    }
   ],
   "source": [
    "intact_export = pd.read_pickle(\n",
    "    os.path.join(cfg['outputPreprocessingIntAct'], \n",
    "                 \"intact_allScores_v{}.pkl\".format(logVersions['IntAct']['preprocessed']['all']))\n",
    ")\n",
    "glance(intact_export)"
   ]
  },
  {
   "cell_type": "code",
   "execution_count": 87,
   "metadata": {
    "execution": {
     "iopub.execute_input": "2021-11-09T12:25:55.384042Z",
     "iopub.status.busy": "2021-11-09T12:25:55.383324Z",
     "iopub.status.idle": "2021-11-09T12:25:55.402842Z",
     "shell.execute_reply": "2021-11-09T12:25:55.401681Z",
     "shell.execute_reply.started": "2021-11-09T12:25:55.383758Z"
    }
   },
   "outputs": [],
   "source": [
    "allIDs_all = pd.concat([intact_export.uniprotID_A,intact_export.uniprotID_B])"
   ]
  },
  {
   "cell_type": "code",
   "execution_count": 88,
   "metadata": {
    "execution": {
     "iopub.execute_input": "2021-11-09T12:25:57.078941Z",
     "iopub.status.busy": "2021-11-09T12:25:57.078228Z",
     "iopub.status.idle": "2021-11-09T12:25:57.150804Z",
     "shell.execute_reply": "2021-11-09T12:25:57.149944Z",
     "shell.execute_reply.started": "2021-11-09T12:25:57.078647Z"
    }
   },
   "outputs": [
    {
     "name": "stdout",
     "output_type": "stream",
     "text": [
      "\n",
      "-- P42858: <class 'int'>\n",
      "850\n",
      "\n",
      "-- Q9NRI5: <class 'int'>\n",
      "642\n",
      "\n",
      "-- A8MQ03: <class 'int'>\n",
      "487\n",
      "\n",
      "-- P05067: <class 'int'>\n",
      "486\n",
      "\n",
      "-- P62993: <class 'int'>\n",
      "477\n"
     ]
    }
   ],
   "source": [
    "Ninter_perProtein = allIDs_all.value_counts().to_dict()\n",
    "glance(Ninter_perProtein)"
   ]
  },
  {
   "cell_type": "markdown",
   "metadata": {},
   "source": [
    "**Export**"
   ]
  },
  {
   "cell_type": "code",
   "execution_count": 89,
   "metadata": {
    "execution": {
     "iopub.execute_input": "2021-11-09T12:25:58.638814Z",
     "iopub.status.busy": "2021-11-09T12:25:58.638305Z",
     "iopub.status.idle": "2021-11-09T12:25:58.654504Z",
     "shell.execute_reply": "2021-11-09T12:25:58.653340Z",
     "shell.execute_reply.started": "2021-11-09T12:25:58.638732Z"
    }
   },
   "outputs": [],
   "source": [
    "path0 = os.path.join(\n",
    "    cfg['outputPreprocessingIntAct'], \n",
    "    \"Ninter_perProtein_intact_allScores_v{}.pkl\".format(logVersions['IntAct']['preprocessed']['all'])\n",
    ")\n",
    "\n",
    "with open(path0, 'wb') as f:\n",
    "    pkl.dump(Ninter_perProtein, f, protocol=pkl.HIGHEST_PROTOCOL)"
   ]
  },
  {
   "cell_type": "markdown",
   "metadata": {
    "execution": {
     "iopub.execute_input": "2021-08-18T12:06:11.803243Z",
     "iopub.status.busy": "2021-08-18T12:06:11.802491Z",
     "iopub.status.idle": "2021-08-18T12:06:11.808437Z",
     "shell.execute_reply": "2021-08-18T12:06:11.807238Z",
     "shell.execute_reply.started": "2021-08-18T12:06:11.802949Z"
    }
   },
   "source": [
    "## Create \"official\" list of hubs\n",
    "\n",
    "Based on the literature, definition of top 20% in the unfiltered (but cleaned) dataset"
   ]
  },
  {
   "cell_type": "code",
   "execution_count": 90,
   "metadata": {
    "execution": {
     "iopub.execute_input": "2021-11-09T12:26:06.743477Z",
     "iopub.status.busy": "2021-11-09T12:26:06.743009Z",
     "iopub.status.idle": "2021-11-09T12:26:06.809035Z",
     "shell.execute_reply": "2021-11-09T12:26:06.808195Z",
     "shell.execute_reply.started": "2021-11-09T12:26:06.743406Z"
    }
   },
   "outputs": [
    {
     "name": "stdout",
     "output_type": "stream",
     "text": [
      "count    15508.000000\n",
      "mean        16.609492\n",
      "std         32.518175\n",
      "min          1.000000\n",
      "50%          6.000000\n",
      "80%         21.000000\n",
      "max        850.000000\n",
      "dtype: float64\n",
      "\n"
     ]
    }
   ],
   "source": [
    "foo = allIDs_all.value_counts()\n",
    "\n",
    "print(foo.describe(percentiles = [0.8]))\n",
    "\n",
    "print(f\"\")"
   ]
  },
  {
   "cell_type": "markdown",
   "metadata": {},
   "source": [
    "**Which happens to mean >= 21 interactions**"
   ]
  },
  {
   "cell_type": "code",
   "execution_count": 92,
   "metadata": {
    "execution": {
     "iopub.execute_input": "2021-11-09T12:27:45.255319Z",
     "iopub.status.busy": "2021-11-09T12:27:45.254810Z",
     "iopub.status.idle": "2021-11-09T12:27:45.268916Z",
     "shell.execute_reply": "2021-11-09T12:27:45.267724Z",
     "shell.execute_reply.started": "2021-11-09T12:27:45.255238Z"
    }
   },
   "outputs": [
    {
     "name": "stdout",
     "output_type": "stream",
     "text": [
      "len: 3240\n",
      "['P42858', 'Q9NRI5', 'A8MQ03', 'P05067', 'P62993']\n"
     ]
    }
   ],
   "source": [
    "top20p = list(foo.loc[foo >= 21].index)\n",
    "glance(top20p)"
   ]
  },
  {
   "cell_type": "markdown",
   "metadata": {
    "execution": {
     "iopub.execute_input": "2021-08-23T10:16:13.599807Z",
     "iopub.status.busy": "2021-08-23T10:16:13.599067Z",
     "iopub.status.idle": "2021-08-23T10:16:13.604800Z",
     "shell.execute_reply": "2021-08-23T10:16:13.603540Z",
     "shell.execute_reply.started": "2021-08-23T10:16:13.599487Z"
    }
   },
   "source": [
    "**Export**"
   ]
  },
  {
   "cell_type": "code",
   "execution_count": 93,
   "metadata": {
    "execution": {
     "iopub.execute_input": "2021-11-09T12:28:10.934321Z",
     "iopub.status.busy": "2021-11-09T12:28:10.933579Z",
     "iopub.status.idle": "2021-11-09T12:28:10.946265Z",
     "shell.execute_reply": "2021-11-09T12:28:10.945040Z",
     "shell.execute_reply.started": "2021-11-09T12:28:10.934014Z"
    }
   },
   "outputs": [],
   "source": [
    "path0 = os.path.join(\n",
    "    cfg['outputPreprocessingIntAct'], \n",
    "    \"listHubs_20p_v{}.pkl\".format(logVersions['IntAct']['preprocessed']['all'])\n",
    ")\n",
    "\n",
    "with open(path0, 'wb') as f:\n",
    "    pkl.dump(top20p, f, protocol=pkl.HIGHEST_PROTOCOL)"
   ]
  },
  {
   "cell_type": "code",
   "execution_count": 94,
   "metadata": {
    "execution": {
     "iopub.execute_input": "2021-11-09T12:28:15.265760Z",
     "iopub.status.busy": "2021-11-09T12:28:15.265250Z",
     "iopub.status.idle": "2021-11-09T12:28:15.272276Z",
     "shell.execute_reply": "2021-11-09T12:28:15.271253Z",
     "shell.execute_reply.started": "2021-11-09T12:28:15.265664Z"
    }
   },
   "outputs": [
    {
     "data": {
      "text/plain": [
       "'/rds/user/ll582/hpc-work/PPIdata/output/1_preprocessing/IntAct/listHubs_20p_v2-1.pkl'"
      ]
     },
     "execution_count": 94,
     "metadata": {},
     "output_type": "execute_result"
    }
   ],
   "source": [
    "path0"
   ]
  },
  {
   "cell_type": "code",
   "execution_count": null,
   "metadata": {},
   "outputs": [],
   "source": []
  }
 ],
 "metadata": {
  "kernelspec": {
   "display_name": "Python3 (PPI)",
   "language": "python",
   "name": "ppi"
  },
  "language_info": {
   "codemirror_mode": {
    "name": "ipython",
    "version": 3
   },
   "file_extension": ".py",
   "mimetype": "text/x-python",
   "name": "python",
   "nbconvert_exporter": "python",
   "pygments_lexer": "ipython3",
   "version": "3.7.3"
  },
  "toc": {
   "base_numbering": 1,
   "nav_menu": {},
   "number_sections": true,
   "sideBar": true,
   "skip_h1_title": true,
   "title_cell": "Table of Contents",
   "title_sidebar": "Contents",
   "toc_cell": false,
   "toc_position": {
    "height": "calc(100% - 180px)",
    "left": "10px",
    "top": "150px",
    "width": "342px"
   },
   "toc_section_display": true,
   "toc_window_display": true
  },
  "toc-autonumbering": true,
  "varInspector": {
   "cols": {
    "lenName": 16,
    "lenType": 16,
    "lenVar": 40
   },
   "kernels_config": {
    "python": {
     "delete_cmd_postfix": "",
     "delete_cmd_prefix": "del ",
     "library": "var_list.py",
     "varRefreshCmd": "print(var_dic_list())"
    },
    "r": {
     "delete_cmd_postfix": ") ",
     "delete_cmd_prefix": "rm(",
     "library": "var_list.r",
     "varRefreshCmd": "cat(var_dic_list()) "
    }
   },
   "types_to_exclude": [
    "module",
    "function",
    "builtin_function_or_method",
    "instance",
    "_Feature"
   ],
   "window_display": false
  }
 },
 "nbformat": 4,
 "nbformat_minor": 4
}
