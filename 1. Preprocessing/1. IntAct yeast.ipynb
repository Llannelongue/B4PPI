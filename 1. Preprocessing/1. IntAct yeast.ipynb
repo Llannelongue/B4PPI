{
 "cells": [
  {
   "cell_type": "markdown",
   "metadata": {},
   "source": [
    "---\n",
    "**IntAct for yeast interactions**\n",
    "\n",
    "---"
   ]
  },
  {
   "cell_type": "markdown",
   "metadata": {},
   "source": [
    "\n",
    "https://www.ebi.ac.uk/intact/\n",
    "\n",
    "- Format: PSI-MI TAB 2.7 http://psicquic.github.io/MITAB27Format.html\n",
    "\n",
    "Codes for the columns:\n",
    "- 9-10. NCBI Taxonomy https://www.ncbi.nlm.nih.gov/Taxonomy/CommonTree/wwwcmt.cgi"
   ]
  },
  {
   "cell_type": "code",
   "execution_count": 1,
   "metadata": {
    "ExecuteTime": {
     "end_time": "2019-10-30T15:54:13.701847Z",
     "start_time": "2019-10-30T15:54:13.694422Z"
    },
    "execution": {
     "iopub.execute_input": "2022-02-04T09:15:09.649694Z",
     "iopub.status.busy": "2022-02-04T09:15:09.649184Z",
     "iopub.status.idle": "2022-02-04T09:15:31.528850Z",
     "shell.execute_reply": "2022-02-04T09:15:31.525651Z",
     "shell.execute_reply.started": "2022-02-04T09:15:09.649616Z"
    }
   },
   "outputs": [
    {
     "ename": "KeyboardInterrupt",
     "evalue": "",
     "output_type": "error",
     "traceback": [
      "\u001b[0;31m---------------------------------------------------------------------------\u001b[0m",
      "\u001b[0;31mKeyboardInterrupt\u001b[0m                         Traceback (most recent call last)",
      "\u001b[0;32m<ipython-input-1-93a7c6a61e8c>\u001b[0m in \u001b[0;36m<module>\u001b[0;34m\u001b[0m\n\u001b[1;32m      4\u001b[0m \u001b[0;32mimport\u001b[0m \u001b[0mre\u001b[0m\u001b[0;34m\u001b[0m\u001b[0;34m\u001b[0m\u001b[0m\n\u001b[1;32m      5\u001b[0m \u001b[0;32mimport\u001b[0m \u001b[0mmatplotlib\u001b[0m\u001b[0;34m.\u001b[0m\u001b[0mpyplot\u001b[0m \u001b[0;32mas\u001b[0m \u001b[0mplt\u001b[0m\u001b[0;34m\u001b[0m\u001b[0;34m\u001b[0m\u001b[0m\n\u001b[0;32m----> 6\u001b[0;31m \u001b[0;32mimport\u001b[0m \u001b[0mseaborn\u001b[0m \u001b[0;32mas\u001b[0m \u001b[0msns\u001b[0m\u001b[0;34m\u001b[0m\u001b[0;34m\u001b[0m\u001b[0m\n\u001b[0m\u001b[1;32m      7\u001b[0m \u001b[0;31m# from Bio import SeqIO\u001b[0m\u001b[0;34m\u001b[0m\u001b[0;34m\u001b[0m\u001b[0;34m\u001b[0m\u001b[0m\n\u001b[1;32m      8\u001b[0m \u001b[0;32mimport\u001b[0m \u001b[0mrequests\u001b[0m\u001b[0;34m\u001b[0m\u001b[0;34m\u001b[0m\u001b[0m\n",
      "\u001b[0;32m~/.conda/envs/PPI/lib/python3.7/site-packages/seaborn/__init__.py\u001b[0m in \u001b[0;36m<module>\u001b[0;34m\u001b[0m\n\u001b[1;32m      7\u001b[0m \u001b[0;32mfrom\u001b[0m \u001b[0;34m.\u001b[0m\u001b[0mutils\u001b[0m \u001b[0;32mimport\u001b[0m \u001b[0;34m*\u001b[0m\u001b[0;34m\u001b[0m\u001b[0;34m\u001b[0m\u001b[0m\n\u001b[1;32m      8\u001b[0m \u001b[0;32mfrom\u001b[0m \u001b[0;34m.\u001b[0m\u001b[0mpalettes\u001b[0m \u001b[0;32mimport\u001b[0m \u001b[0;34m*\u001b[0m\u001b[0;34m\u001b[0m\u001b[0;34m\u001b[0m\u001b[0m\n\u001b[0;32m----> 9\u001b[0;31m \u001b[0;32mfrom\u001b[0m \u001b[0;34m.\u001b[0m\u001b[0mrelational\u001b[0m \u001b[0;32mimport\u001b[0m \u001b[0;34m*\u001b[0m\u001b[0;34m\u001b[0m\u001b[0;34m\u001b[0m\u001b[0m\n\u001b[0m\u001b[1;32m     10\u001b[0m \u001b[0;32mfrom\u001b[0m \u001b[0;34m.\u001b[0m\u001b[0mregression\u001b[0m \u001b[0;32mimport\u001b[0m \u001b[0;34m*\u001b[0m\u001b[0;34m\u001b[0m\u001b[0;34m\u001b[0m\u001b[0m\n\u001b[1;32m     11\u001b[0m \u001b[0;32mfrom\u001b[0m \u001b[0;34m.\u001b[0m\u001b[0mcategorical\u001b[0m \u001b[0;32mimport\u001b[0m \u001b[0;34m*\u001b[0m\u001b[0;34m\u001b[0m\u001b[0;34m\u001b[0m\u001b[0m\n",
      "\u001b[0;32m~/.conda/envs/PPI/lib/python3.7/site-packages/seaborn/relational.py\u001b[0m in \u001b[0;36m<module>\u001b[0;34m\u001b[0m\n\u001b[1;32m     16\u001b[0m \u001b[0;32mfrom\u001b[0m \u001b[0;34m.\u001b[0m\u001b[0malgorithms\u001b[0m \u001b[0;32mimport\u001b[0m \u001b[0mbootstrap\u001b[0m\u001b[0;34m\u001b[0m\u001b[0;34m\u001b[0m\u001b[0m\n\u001b[1;32m     17\u001b[0m \u001b[0;32mfrom\u001b[0m \u001b[0;34m.\u001b[0m\u001b[0mpalettes\u001b[0m \u001b[0;32mimport\u001b[0m \u001b[0mcolor_palette\u001b[0m\u001b[0;34m,\u001b[0m \u001b[0mcubehelix_palette\u001b[0m\u001b[0;34m,\u001b[0m \u001b[0m_parse_cubehelix_args\u001b[0m\u001b[0;34m\u001b[0m\u001b[0;34m\u001b[0m\u001b[0m\n\u001b[0;32m---> 18\u001b[0;31m \u001b[0;32mfrom\u001b[0m \u001b[0;34m.\u001b[0m\u001b[0maxisgrid\u001b[0m \u001b[0;32mimport\u001b[0m \u001b[0mFacetGrid\u001b[0m\u001b[0;34m,\u001b[0m \u001b[0m_facet_docs\u001b[0m\u001b[0;34m\u001b[0m\u001b[0;34m\u001b[0m\u001b[0m\n\u001b[0m\u001b[1;32m     19\u001b[0m \u001b[0;34m\u001b[0m\u001b[0m\n\u001b[1;32m     20\u001b[0m \u001b[0;34m\u001b[0m\u001b[0m\n",
      "\u001b[0;32m~/.conda/envs/PPI/lib/python3.7/site-packages/seaborn/axisgrid.py\u001b[0m in \u001b[0;36m<module>\u001b[0;34m\u001b[0m\n\u001b[1;32m     14\u001b[0m \u001b[0;32mfrom\u001b[0m \u001b[0;34m.\u001b[0m\u001b[0mpalettes\u001b[0m \u001b[0;32mimport\u001b[0m \u001b[0mcolor_palette\u001b[0m\u001b[0;34m,\u001b[0m \u001b[0mblend_palette\u001b[0m\u001b[0;34m\u001b[0m\u001b[0;34m\u001b[0m\u001b[0m\n\u001b[1;32m     15\u001b[0m \u001b[0;32mfrom\u001b[0m \u001b[0;34m.\u001b[0m\u001b[0mexternal\u001b[0m\u001b[0;34m.\u001b[0m\u001b[0msix\u001b[0m \u001b[0;32mimport\u001b[0m \u001b[0mstring_types\u001b[0m\u001b[0;34m\u001b[0m\u001b[0;34m\u001b[0m\u001b[0m\n\u001b[0;32m---> 16\u001b[0;31m \u001b[0;32mfrom\u001b[0m \u001b[0;34m.\u001b[0m\u001b[0mdistributions\u001b[0m \u001b[0;32mimport\u001b[0m \u001b[0mdistplot\u001b[0m\u001b[0;34m,\u001b[0m \u001b[0mkdeplot\u001b[0m\u001b[0;34m,\u001b[0m  \u001b[0m_freedman_diaconis_bins\u001b[0m\u001b[0;34m\u001b[0m\u001b[0;34m\u001b[0m\u001b[0m\n\u001b[0m\u001b[1;32m     17\u001b[0m \u001b[0;34m\u001b[0m\u001b[0m\n\u001b[1;32m     18\u001b[0m \u001b[0;34m\u001b[0m\u001b[0m\n",
      "\u001b[0;32m~/.conda/envs/PPI/lib/python3.7/site-packages/seaborn/distributions.py\u001b[0m in \u001b[0;36m<module>\u001b[0;34m\u001b[0m\n\u001b[1;32m     14\u001b[0m \u001b[0;34m\u001b[0m\u001b[0m\n\u001b[1;32m     15\u001b[0m \u001b[0;32mtry\u001b[0m\u001b[0;34m:\u001b[0m\u001b[0;34m\u001b[0m\u001b[0;34m\u001b[0m\u001b[0m\n\u001b[0;32m---> 16\u001b[0;31m     \u001b[0;32mimport\u001b[0m \u001b[0mstatsmodels\u001b[0m\u001b[0;34m.\u001b[0m\u001b[0mnonparametric\u001b[0m\u001b[0;34m.\u001b[0m\u001b[0mapi\u001b[0m \u001b[0;32mas\u001b[0m \u001b[0msmnp\u001b[0m\u001b[0;34m\u001b[0m\u001b[0;34m\u001b[0m\u001b[0m\n\u001b[0m\u001b[1;32m     17\u001b[0m     \u001b[0m_has_statsmodels\u001b[0m \u001b[0;34m=\u001b[0m \u001b[0;32mTrue\u001b[0m\u001b[0;34m\u001b[0m\u001b[0;34m\u001b[0m\u001b[0m\n\u001b[1;32m     18\u001b[0m \u001b[0;32mexcept\u001b[0m \u001b[0mImportError\u001b[0m\u001b[0;34m:\u001b[0m\u001b[0;34m\u001b[0m\u001b[0;34m\u001b[0m\u001b[0m\n",
      "\u001b[0;32m~/.conda/envs/PPI/lib/python3.7/site-packages/statsmodels/__init__.py\u001b[0m in \u001b[0;36m<module>\u001b[0;34m\u001b[0m\n\u001b[1;32m      8\u001b[0m \u001b[0;34m\u001b[0m\u001b[0m\n\u001b[1;32m      9\u001b[0m \u001b[0;32mfrom\u001b[0m \u001b[0mwarnings\u001b[0m \u001b[0;32mimport\u001b[0m \u001b[0msimplefilter\u001b[0m\u001b[0;34m\u001b[0m\u001b[0;34m\u001b[0m\u001b[0m\n\u001b[0;32m---> 10\u001b[0;31m from statsmodels.tools.sm_exceptions import (ConvergenceWarning, CacheWriteWarning,\n\u001b[0m\u001b[1;32m     11\u001b[0m                                              IterationLimitWarning, InvalidTestWarning)\n\u001b[1;32m     12\u001b[0m \u001b[0;34m\u001b[0m\u001b[0m\n",
      "\u001b[0;32m~/.conda/envs/PPI/lib/python3.7/site-packages/statsmodels/tools/__init__.py\u001b[0m in \u001b[0;36m<module>\u001b[0;34m\u001b[0m\n\u001b[0;32m----> 1\u001b[0;31m \u001b[0;32mfrom\u001b[0m \u001b[0;34m.\u001b[0m\u001b[0mtools\u001b[0m \u001b[0;32mimport\u001b[0m \u001b[0madd_constant\u001b[0m\u001b[0;34m,\u001b[0m \u001b[0mcategorical\u001b[0m\u001b[0;34m\u001b[0m\u001b[0;34m\u001b[0m\u001b[0m\n\u001b[0m",
      "\u001b[0;32m~/.conda/envs/PPI/lib/python3.7/site-packages/statsmodels/tools/tools.py\u001b[0m in \u001b[0;36m<module>\u001b[0;34m\u001b[0m\n\u001b[1;32m      9\u001b[0m \u001b[0;32mimport\u001b[0m \u001b[0mpandas\u001b[0m \u001b[0;32mas\u001b[0m \u001b[0mpd\u001b[0m\u001b[0;34m\u001b[0m\u001b[0;34m\u001b[0m\u001b[0m\n\u001b[1;32m     10\u001b[0m \u001b[0;34m\u001b[0m\u001b[0m\n\u001b[0;32m---> 11\u001b[0;31m \u001b[0;32mfrom\u001b[0m \u001b[0mstatsmodels\u001b[0m\u001b[0;34m.\u001b[0m\u001b[0mdatasets\u001b[0m \u001b[0;32mimport\u001b[0m \u001b[0mwebuse\u001b[0m\u001b[0;34m\u001b[0m\u001b[0;34m\u001b[0m\u001b[0m\n\u001b[0m\u001b[1;32m     12\u001b[0m \u001b[0;32mfrom\u001b[0m \u001b[0mstatsmodels\u001b[0m\u001b[0;34m.\u001b[0m\u001b[0mtools\u001b[0m\u001b[0;34m.\u001b[0m\u001b[0mdata\u001b[0m \u001b[0;32mimport\u001b[0m \u001b[0m_is_using_pandas\u001b[0m\u001b[0;34m,\u001b[0m \u001b[0m_is_recarray\u001b[0m\u001b[0;34m\u001b[0m\u001b[0;34m\u001b[0m\u001b[0m\n\u001b[1;32m     13\u001b[0m \u001b[0;32mfrom\u001b[0m \u001b[0mstatsmodels\u001b[0m\u001b[0;34m.\u001b[0m\u001b[0mcompat\u001b[0m\u001b[0;34m.\u001b[0m\u001b[0mnumpy\u001b[0m \u001b[0;32mimport\u001b[0m \u001b[0mnp_matrix_rank\u001b[0m\u001b[0;34m\u001b[0m\u001b[0;34m\u001b[0m\u001b[0m\n",
      "\u001b[0;32m~/.conda/envs/PPI/lib/python3.7/site-packages/statsmodels/datasets/__init__.py\u001b[0m in \u001b[0;36m<module>\u001b[0;34m\u001b[0m\n\u001b[1;32m      3\u001b[0m \"\"\"\n\u001b[1;32m      4\u001b[0m \u001b[0;31m#__all__ = filter(lambda s:not s.startswith('_'),dir())\u001b[0m\u001b[0;34m\u001b[0m\u001b[0;34m\u001b[0m\u001b[0;34m\u001b[0m\u001b[0m\n\u001b[0;32m----> 5\u001b[0;31m from . import (anes96, cancer, committee, ccard, copper, cpunish, elnino,\n\u001b[0m\u001b[1;32m      6\u001b[0m                \u001b[0mengel\u001b[0m\u001b[0;34m,\u001b[0m \u001b[0mgrunfeld\u001b[0m\u001b[0;34m,\u001b[0m \u001b[0minterest_inflation\u001b[0m\u001b[0;34m,\u001b[0m \u001b[0mlongley\u001b[0m\u001b[0;34m,\u001b[0m \u001b[0mmacrodata\u001b[0m\u001b[0;34m,\u001b[0m\u001b[0;34m\u001b[0m\u001b[0;34m\u001b[0m\u001b[0m\n\u001b[1;32m      7\u001b[0m                \u001b[0mmodechoice\u001b[0m\u001b[0;34m,\u001b[0m \u001b[0mnile\u001b[0m\u001b[0;34m,\u001b[0m \u001b[0mrandhie\u001b[0m\u001b[0;34m,\u001b[0m \u001b[0mscotland\u001b[0m\u001b[0;34m,\u001b[0m \u001b[0mspector\u001b[0m\u001b[0;34m,\u001b[0m \u001b[0mstackloss\u001b[0m\u001b[0;34m,\u001b[0m\u001b[0;34m\u001b[0m\u001b[0;34m\u001b[0m\u001b[0m\n",
      "\u001b[0;32m~/.conda/envs/PPI/lib/python3.7/importlib/_bootstrap.py\u001b[0m in \u001b[0;36m_find_and_load\u001b[0;34m(name, import_)\u001b[0m\n",
      "\u001b[0;32m~/.conda/envs/PPI/lib/python3.7/importlib/_bootstrap.py\u001b[0m in \u001b[0;36m_find_and_load_unlocked\u001b[0;34m(name, import_)\u001b[0m\n",
      "\u001b[0;32m~/.conda/envs/PPI/lib/python3.7/importlib/_bootstrap.py\u001b[0m in \u001b[0;36m_load_unlocked\u001b[0;34m(spec)\u001b[0m\n",
      "\u001b[0;32m~/.conda/envs/PPI/lib/python3.7/importlib/_bootstrap_external.py\u001b[0m in \u001b[0;36mexec_module\u001b[0;34m(self, module)\u001b[0m\n",
      "\u001b[0;32m~/.conda/envs/PPI/lib/python3.7/importlib/_bootstrap_external.py\u001b[0m in \u001b[0;36mget_code\u001b[0;34m(self, fullname)\u001b[0m\n",
      "\u001b[0;32m~/.conda/envs/PPI/lib/python3.7/importlib/_bootstrap_external.py\u001b[0m in \u001b[0;36mget_data\u001b[0;34m(self, path)\u001b[0m\n",
      "\u001b[0;31mKeyboardInterrupt\u001b[0m: "
     ]
    }
   ],
   "source": [
    "import pandas as pd\n",
    "import numpy as np\n",
    "import os\n",
    "import re\n",
    "import matplotlib.pyplot as plt\n",
    "import seaborn as sns\n",
    "# from Bio import SeqIO\n",
    "import requests\n",
    "import urllib\n",
    "import re\n",
    "from io import StringIO\n",
    "# import shutil\n",
    "# import urllib.request as request\n",
    "# from contextlib import closing\n",
    "import gzip\n",
    "from ftplib import FTP\n",
    "import pickle as pkl\n",
    "import math\n",
    "\n",
    "from toolbox import *\n",
    "\n",
    "%matplotlib inline\n",
    "sns.set()\n",
    "sns.set(rc={'figure.figsize':(14,6)})"
   ]
  },
  {
   "cell_type": "code",
   "execution_count": null,
   "metadata": {
    "ExecuteTime": {
     "end_time": "2019-10-28T14:18:48.400134Z",
     "start_time": "2019-10-28T14:18:48.371893Z"
    },
    "execution": {
     "iopub.status.busy": "2022-02-04T09:15:31.529681Z",
     "iopub.status.idle": "2022-02-04T09:15:31.529907Z"
    }
   },
   "outputs": [],
   "source": [
    "cfg = load_cfg()\n",
    "\n",
    "logVersions = load_LogVersions()"
   ]
  },
  {
   "cell_type": "code",
   "execution_count": null,
   "metadata": {
    "execution": {
     "iopub.status.busy": "2022-02-04T09:15:31.530290Z",
     "iopub.status.idle": "2022-02-04T09:15:31.530501Z"
    }
   },
   "outputs": [],
   "source": [
    "sns.set(rc={'figure.figsize':(14,6)})"
   ]
  },
  {
   "cell_type": "markdown",
   "metadata": {},
   "source": [
    "# Download data"
   ]
  },
  {
   "cell_type": "code",
   "execution_count": null,
   "metadata": {
    "execution": {
     "iopub.status.busy": "2022-02-04T09:15:31.530851Z",
     "iopub.status.idle": "2022-02-04T09:15:31.531046Z"
    }
   },
   "outputs": [],
   "source": [
    "doDownload = False"
   ]
  },
  {
   "cell_type": "code",
   "execution_count": null,
   "metadata": {
    "execution": {
     "iopub.status.busy": "2022-02-04T09:15:31.531446Z",
     "iopub.status.idle": "2022-02-04T09:15:31.531646Z"
    }
   },
   "outputs": [],
   "source": [
    "# Check timestamp\n",
    "\n",
    "ftp = FTP('ftp.ebi.ac.uk')\n",
    "ftp.login()\n",
    "ftp.cwd('/pub/databases/intact/current/psimitab/')\n",
    "\n",
    "intact_filename = 'intact.txt'\n",
    "versionIntAct = ftp.voidcmd(\"MDTM \" + intact_filename)[4:12]\n",
    "print(\"Timestamp: {}\".format(versionIntAct))\n",
    "ftp.quit()"
   ]
  },
  {
   "cell_type": "code",
   "execution_count": null,
   "metadata": {
    "execution": {
     "iopub.status.busy": "2022-02-04T09:15:31.532011Z",
     "iopub.status.idle": "2022-02-04T09:15:31.532212Z"
    }
   },
   "outputs": [],
   "source": [
    "if doDownload:\n",
    "    ftp = FTP('ftp.ebi.ac.uk')\n",
    "    ftp.login()\n",
    "    ftp.cwd('/pub/databases/intact/current/psimitab/')\n",
    "\n",
    "    intact_filename = 'intact.txt'\n",
    "    # Collect timestamp\n",
    "    versionIntAct = ftp.voidcmd(\"MDTM \" + intact_filename)[4:12]\n",
    "    print(\"Timestamp: {}\".format(versionIntAct))\n",
    "\n",
    "    localFile = os.path.join(cfg['rawDataIntact'], \"intact_v{}.txt\".format(versionIntAct))\n",
    "    print(\"Download location: {}\".format(localFile))\n",
    "\n",
    "    with open(localFile, 'wb') as f:\n",
    "        ftp.retrbinary('RETR ' + intact_filename, f.write, 1024)\n",
    "\n",
    "    ftp.quit()"
   ]
  },
  {
   "cell_type": "code",
   "execution_count": null,
   "metadata": {
    "execution": {
     "iopub.status.busy": "2022-02-04T09:15:31.532744Z",
     "iopub.status.idle": "2022-02-04T09:15:31.532951Z"
    }
   },
   "outputs": [],
   "source": [
    "if doDownload:\n",
    "#     logVersions['IntAct'] = dict()\n",
    "    logVersions['IntAct']['rawData'] = versionIntAct\n",
    "\n",
    "    dump_LogVersions(logVersions)"
   ]
  },
  {
   "cell_type": "markdown",
   "metadata": {
    "heading_collapsed": true
   },
   "source": [
    "# Preprocessing"
   ]
  },
  {
   "cell_type": "code",
   "execution_count": null,
   "metadata": {
    "ExecuteTime": {
     "end_time": "2019-10-30T15:54:42.869320Z",
     "start_time": "2019-10-30T15:54:14.250599Z"
    },
    "execution": {
     "iopub.status.busy": "2022-02-04T09:15:31.533440Z",
     "iopub.status.idle": "2022-02-04T09:15:31.533676Z"
    }
   },
   "outputs": [],
   "source": [
    "dfIntAct = pd.read_csv(os.path.join(cfg['rawDataIntact'],\n",
    "                                    \"intact_v{}.txt\".format(logVersions['IntAct']['rawData'])), \n",
    "                       sep=\"\\t\")\n",
    "glance(dfIntAct)"
   ]
  },
  {
   "cell_type": "code",
   "execution_count": null,
   "metadata": {
    "ExecuteTime": {
     "start_time": "2019-10-30T15:53:50.239Z"
    },
    "execution": {
     "iopub.status.busy": "2022-02-04T09:15:31.534147Z",
     "iopub.status.idle": "2022-02-04T09:15:31.534358Z"
    },
    "hidden": true
   },
   "outputs": [],
   "source": [
    "dfIntAct.iloc[0,:]"
   ]
  },
  {
   "cell_type": "markdown",
   "metadata": {},
   "source": [
    "## Filter 1: human PPIs with UniProtKB IDs"
   ]
  },
  {
   "cell_type": "markdown",
   "metadata": {},
   "source": [
    "**Parse and filter UniProtKB IDs**"
   ]
  },
  {
   "cell_type": "code",
   "execution_count": null,
   "metadata": {
    "ExecuteTime": {
     "end_time": "2019-10-30T15:55:02.995520Z",
     "start_time": "2019-10-30T15:55:02.511829Z"
    },
    "execution": {
     "iopub.status.busy": "2022-02-04T09:15:31.534791Z",
     "iopub.status.idle": "2022-02-04T09:15:31.534987Z"
    }
   },
   "outputs": [],
   "source": [
    "dfIntAct[\"All IDs interactor A\"] = dfIntAct[\"#ID(s) interactor A\"] + \"|\" + dfIntAct[\"Alt. ID(s) interactor A\"]\n",
    "dfIntAct[\"All IDs interactor B\"] = dfIntAct[\"ID(s) interactor B\"] + \"|\" + dfIntAct[\"Alt. ID(s) interactor B\"]"
   ]
  },
  {
   "cell_type": "markdown",
   "metadata": {},
   "source": [
    "*Extract UniProtKB ID*"
   ]
  },
  {
   "cell_type": "code",
   "execution_count": null,
   "metadata": {
    "ExecuteTime": {
     "end_time": "2019-10-30T15:56:09.571471Z",
     "start_time": "2019-10-30T15:55:53.631857Z"
    },
    "execution": {
     "iopub.status.busy": "2022-02-04T09:15:31.535391Z",
     "iopub.status.idle": "2022-02-04T09:15:31.535590Z"
    }
   },
   "outputs": [],
   "source": [
    "regex1 = re.compile(r\"(?<=uniprotkb:)[\\w]+\")\n",
    "\n",
    "dfIntAct.loc[:,'uniprotkb_IDs_A'] = ['|'.join(m) for m in (re.findall(regex1, line) for line in dfIntAct.loc[:,\"All IDs interactor A\"])]\n",
    "dfIntAct.loc[:,'uniprotkb_IDs_B'] = ['|'.join(m) for m in (re.findall(regex1, line) for line in dfIntAct.loc[:,\"All IDs interactor B\"])]\n",
    "\n",
    "dfIntAct.loc[:,'first_uniprotkb_IDs_A'] = [m.group() if m else '' for m in (regex1.search(line) for line in dfIntAct.loc[:,\"All IDs interactor A\"])]\n",
    "dfIntAct.loc[:,'first_uniprotkb_IDs_B'] = [m.group() if m else '' for m in (regex1.search(line) for line in dfIntAct.loc[:,\"All IDs interactor B\"])]\n",
    "\n",
    "glance(dfIntAct)"
   ]
  },
  {
   "cell_type": "markdown",
   "metadata": {},
   "source": [
    "*Remove interactions with missing IDs*"
   ]
  },
  {
   "cell_type": "code",
   "execution_count": null,
   "metadata": {
    "execution": {
     "iopub.status.busy": "2022-02-04T09:15:31.536013Z",
     "iopub.status.idle": "2022-02-04T09:15:31.536213Z"
    }
   },
   "outputs": [],
   "source": [
    "foo = (dfIntAct.first_uniprotkb_IDs_A == '')|(dfIntAct.first_uniprotkb_IDs_B == '')\n",
    "\n",
    "print('{:,}/{:,} ({:.1%}) of the interactions have at least one interactor without uniprotKB ID'.format(\n",
    "    len(dfIntAct.loc[foo]),\n",
    "    len(dfIntAct),\n",
    "    len(dfIntAct.loc[foo])/len(dfIntAct)\n",
    "\n",
    "))"
   ]
  },
  {
   "cell_type": "code",
   "execution_count": null,
   "metadata": {
    "execution": {
     "iopub.status.busy": "2022-02-04T09:15:31.536663Z",
     "iopub.status.idle": "2022-02-04T09:15:31.536863Z"
    }
   },
   "outputs": [],
   "source": [
    "dfIntAct_1 = dfIntAct.loc[\n",
    "    (dfIntAct.first_uniprotkb_IDs_A != '')&(dfIntAct.first_uniprotkb_IDs_B != '')\n",
    "]\n",
    "glance(dfIntAct_1)"
   ]
  },
  {
   "cell_type": "markdown",
   "metadata": {},
   "source": [
    "---\n",
    "**Yeast-Yeast interactions**"
   ]
  },
  {
   "cell_type": "code",
   "execution_count": null,
   "metadata": {
    "execution": {
     "iopub.status.busy": "2022-02-04T09:15:31.537310Z",
     "iopub.status.idle": "2022-02-04T09:15:31.537514Z"
    }
   },
   "outputs": [],
   "source": [
    "# Sanity check\n",
    "foo = list(set(dfIntAct_1['Taxid interactor A'].tolist() + dfIntAct_1['Taxid interactor A'].tolist()))\n",
    "bar = [s for s in foo if \":559292\" in s]\n",
    "print(bar)\n",
    "assert len(bar) == 1"
   ]
  },
  {
   "cell_type": "code",
   "execution_count": null,
   "metadata": {
    "execution": {
     "iopub.status.busy": "2022-02-04T09:15:31.537900Z",
     "iopub.status.idle": "2022-02-04T09:15:31.538097Z"
    }
   },
   "outputs": [],
   "source": [
    "foo = 'taxid:559292(yeast)|taxid:559292(Saccharomyces cerevisiae)'\n",
    "dfIntAct_2 = dfIntAct_1.loc[\n",
    "    (dfIntAct_1['Taxid interactor A'] == foo)&(dfIntAct_1['Taxid interactor B'] == foo)\n",
    "]\n",
    "glance(dfIntAct_2)"
   ]
  },
  {
   "cell_type": "markdown",
   "metadata": {},
   "source": [
    "---\n",
    "**protein-protein interactions**"
   ]
  },
  {
   "cell_type": "code",
   "execution_count": null,
   "metadata": {
    "ExecuteTime": {
     "end_time": "2019-10-30T15:58:18.974302Z",
     "start_time": "2019-10-30T15:58:18.926832Z"
    },
    "execution": {
     "iopub.status.busy": "2022-02-04T09:15:31.538552Z",
     "iopub.status.idle": "2022-02-04T09:15:31.538786Z"
    },
    "scrolled": true
   },
   "outputs": [],
   "source": [
    "print(dfIntAct_2.groupby(by=\"Type(s) interactor A\").size().sort_values(ascending=False))\n",
    "print(dfIntAct_2.groupby(by=\"Type(s) interactor B\").size().sort_values(ascending=False))"
   ]
  },
  {
   "cell_type": "code",
   "execution_count": null,
   "metadata": {
    "execution": {
     "iopub.status.busy": "2022-02-04T09:15:31.539249Z",
     "iopub.status.idle": "2022-02-04T09:15:31.539462Z"
    }
   },
   "outputs": [],
   "source": [
    "foo = 'psi-mi:\"MI:0326\"(protein)'\n",
    "dfIntAct_3 = dfIntAct_2.loc[\n",
    "    (dfIntAct['Type(s) interactor A'] == foo)&(dfIntAct['Type(s) interactor B'] == foo)\n",
    "]\n",
    "glance(dfIntAct_3)"
   ]
  },
  {
   "cell_type": "markdown",
   "metadata": {},
   "source": [
    "---\n",
    "**Confidence score** "
   ]
  },
  {
   "cell_type": "markdown",
   "metadata": {},
   "source": [
    "Details of intact mi-score: https://www.ebi.ac.uk/intact/pages/faq/faq.xhtml#9"
   ]
  },
  {
   "cell_type": "markdown",
   "metadata": {},
   "source": [
    "*Pull names of scores*"
   ]
  },
  {
   "cell_type": "code",
   "execution_count": null,
   "metadata": {
    "ExecuteTime": {
     "end_time": "2019-10-30T16:03:46.876260Z",
     "start_time": "2019-10-30T16:03:46.062676Z"
    },
    "execution": {
     "iopub.status.busy": "2022-02-04T09:15:31.539905Z",
     "iopub.status.idle": "2022-02-04T09:15:31.540107Z"
    }
   },
   "outputs": [],
   "source": [
    "reConfScore = re.compile(r\"(?<=\\|)[-\\s\\w]+(?=:)\")\n",
    "\n",
    "confScoreNames =[val for sublist in [reConfScore.findall(\"|\" + line) for line in dfIntAct_3[\"Confidence value(s)\"]] for val in sublist]\n",
    "\n",
    "set(confScoreNames)"
   ]
  },
  {
   "cell_type": "markdown",
   "metadata": {},
   "source": [
    "*Pull intact-miscore values*"
   ]
  },
  {
   "cell_type": "code",
   "execution_count": null,
   "metadata": {
    "ExecuteTime": {
     "end_time": "2019-10-30T16:04:35.481821Z",
     "start_time": "2019-10-30T16:04:34.567247Z"
    },
    "execution": {
     "iopub.status.busy": "2022-02-04T09:15:31.540566Z",
     "iopub.status.idle": "2022-02-04T09:15:31.540770Z"
    }
   },
   "outputs": [],
   "source": [
    "reIntactMiscore = re.compile(r\"(?<=intact-miscore:)[\\d.]+\")\n",
    "\n",
    "dfIntAct_3.loc[:,'intact-miscore'] = [m.group() if m else 'NA' for m in (reIntactMiscore.search(line) for line in dfIntAct_3[\"Confidence value(s)\"])]\n",
    "\n",
    "# Sanity check\n",
    "assert len(dfIntAct_3.loc[dfIntAct_3['intact-miscore'] == 'NA']) == 0\n",
    "\n",
    "dfIntAct_3.loc[:,'intact-miscore'] = pd.to_numeric(dfIntAct_3['intact-miscore'])\n",
    "dfIntAct_3['intact-miscore'][:5]"
   ]
  },
  {
   "cell_type": "markdown",
   "metadata": {},
   "source": [
    "---\n",
    "**Sanity checks**"
   ]
  },
  {
   "cell_type": "code",
   "execution_count": null,
   "metadata": {
    "execution": {
     "iopub.status.busy": "2022-02-04T09:15:31.541162Z",
     "iopub.status.idle": "2022-02-04T09:15:31.541439Z"
    }
   },
   "outputs": [],
   "source": [
    "assert len(dfIntAct_3.loc[dfIntAct_3['Negative']]) == 0"
   ]
  },
  {
   "cell_type": "markdown",
   "metadata": {},
   "source": [
    "---\n",
    "**Reinitialise index**"
   ]
  },
  {
   "cell_type": "code",
   "execution_count": null,
   "metadata": {
    "execution": {
     "iopub.status.busy": "2022-02-04T09:15:31.542343Z",
     "iopub.status.idle": "2022-02-04T09:15:31.542580Z"
    }
   },
   "outputs": [],
   "source": [
    "dfIntAct1 = dfIntAct_3.reset_index(drop=True)\n",
    "glance(dfIntAct1)"
   ]
  },
  {
   "cell_type": "markdown",
   "metadata": {},
   "source": [
    "## EDA"
   ]
  },
  {
   "cell_type": "markdown",
   "metadata": {},
   "source": [
    "**Confidence score**"
   ]
  },
  {
   "cell_type": "code",
   "execution_count": null,
   "metadata": {
    "execution": {
     "iopub.status.busy": "2022-02-04T09:15:31.543048Z",
     "iopub.status.idle": "2022-02-04T09:15:31.543277Z"
    }
   },
   "outputs": [],
   "source": [
    "sns.distplot(dfIntAct1['intact-miscore'], hist=False);"
   ]
  },
  {
   "cell_type": "markdown",
   "metadata": {
    "hidden": true
   },
   "source": [
    "---\n",
    "**Interaction type**"
   ]
  },
  {
   "cell_type": "code",
   "execution_count": null,
   "metadata": {
    "ExecuteTime": {
     "end_time": "2019-10-30T13:15:04.607394Z",
     "start_time": "2019-10-30T13:15:04.201567Z"
    },
    "execution": {
     "iopub.status.busy": "2022-02-04T09:15:31.543734Z",
     "iopub.status.idle": "2022-02-04T09:15:31.543938Z"
    },
    "hidden": true,
    "scrolled": true
   },
   "outputs": [],
   "source": [
    "dfIntAct1.groupby(by=\"Interaction type(s)\").size().sort_values(ascending=False)"
   ]
  },
  {
   "cell_type": "code",
   "execution_count": null,
   "metadata": {
    "execution": {
     "iopub.status.busy": "2022-02-04T09:15:31.544406Z",
     "iopub.status.idle": "2022-02-04T09:15:31.544608Z"
    }
   },
   "outputs": [],
   "source": [
    "l1 = ['psi-mi:\"MI:0915\"(physical association)', 'psi-mi:\"MI:0914\"(association)', 'psi-mi:\"MI:0407\"(direct interaction)']\n",
    "foo = dfIntAct1.loc[dfIntAct1['Interaction type(s)'].isin(l1)]\n",
    "\n",
    "l2 = ['psi-mi:\"MI:0403\"(colocalization)']\n",
    "bar = dfIntAct1.loc[dfIntAct1['Interaction type(s)'].isin(l2)]\n",
    "\n",
    "sns.distplot(foo['intact-miscore'], hist=False, rug=True, norm_hist=True, label='association')\n",
    "sns.distplot(bar['intact-miscore'], hist=False, rug=True, norm_hist=True, label='colocalisation')\n",
    "plt.legend();"
   ]
  },
  {
   "cell_type": "code",
   "execution_count": null,
   "metadata": {
    "execution": {
     "iopub.status.busy": "2022-02-04T09:15:31.545038Z",
     "iopub.status.idle": "2022-02-04T09:15:31.545249Z"
    }
   },
   "outputs": [],
   "source": [
    "L = ['psi-mi:\"MI:0915\"(physical association)', 'psi-mi:\"MI:0914\"(association)', 'psi-mi:\"MI:0407\"(direct interaction)']\n",
    "\n",
    "for l in L:\n",
    "    foo = dfIntAct1.loc[dfIntAct1['Interaction type(s)'] == l]\n",
    "    sns.distplot(foo['intact-miscore'], hist=False, label=l)\n",
    "plt.legend();"
   ]
  },
  {
   "cell_type": "markdown",
   "metadata": {
    "heading_collapsed": true,
    "hidden": true
   },
   "source": [
    "---\n",
    "**Complex expansion method**\n",
    "\n",
    "Here we distinguish between true binary interactions and N-ary interactions"
   ]
  },
  {
   "cell_type": "code",
   "execution_count": null,
   "metadata": {
    "execution": {
     "iopub.status.busy": "2022-02-04T09:15:31.546134Z",
     "iopub.status.idle": "2022-02-04T09:15:31.546397Z"
    }
   },
   "outputs": [],
   "source": [
    "dfIntAct_3[\"Expansion method(s)\"].value_counts()"
   ]
  },
  {
   "cell_type": "code",
   "execution_count": null,
   "metadata": {
    "execution": {
     "iopub.status.busy": "2022-02-04T09:15:31.546874Z",
     "iopub.status.idle": "2022-02-04T09:15:31.547081Z"
    }
   },
   "outputs": [],
   "source": [
    "l1 = ['-']\n",
    "foo = dfIntAct1.loc[dfIntAct1['Expansion method(s)'].isin(l1)]\n",
    "\n",
    "l2 = ['psi-mi:\"MI:1060\"(spoke expansion)']\n",
    "bar = dfIntAct1.loc[dfIntAct1['Expansion method(s)'].isin(l2)]\n",
    "\n",
    "sns.distplot(foo['intact-miscore'], hist=False, kde=True, norm_hist=True, label='Direct')\n",
    "sns.distplot(bar['intact-miscore'], hist=False, kde=True, norm_hist=True, label='Spoke complexe')\n",
    "plt.legend();"
   ]
  },
  {
   "cell_type": "markdown",
   "metadata": {
    "hidden": true
   },
   "source": [
    "---\n",
    "**detection method**"
   ]
  },
  {
   "cell_type": "code",
   "execution_count": null,
   "metadata": {
    "ExecuteTime": {
     "end_time": "2019-10-30T13:15:04.607394Z",
     "start_time": "2019-10-30T13:15:04.201567Z"
    },
    "execution": {
     "iopub.status.busy": "2022-02-04T09:15:31.547518Z",
     "iopub.status.idle": "2022-02-04T09:15:31.547729Z"
    },
    "hidden": true,
    "scrolled": true
   },
   "outputs": [],
   "source": [
    "dfIntAct1.groupby(by=\"Interaction detection method(s)\").size().sort_values(ascending=False)"
   ]
  },
  {
   "cell_type": "code",
   "execution_count": null,
   "metadata": {
    "execution": {
     "iopub.status.busy": "2022-02-04T09:15:31.548180Z",
     "iopub.status.idle": "2022-02-04T09:15:31.548393Z"
    }
   },
   "outputs": [],
   "source": [
    "L = [\n",
    "    'psi-mi:\"MI:0007\"(anti tag coimmunoprecipitation)', \n",
    "    'psi-mi:\"MI:0397\"(two hybrid array)', \n",
    "    'psi-mi:\"MI:1112\"(two hybrid prey pooling approach)',\n",
    "    'psi-mi:\"MI:1356\"(validated two hybrid)',\n",
    "    'psi-mi:\"MI:0006\"(anti bait coimmunoprecipitation)',\n",
    "    'psi-mi:\"MI:0096\"(pull down)',\n",
    "    'psi-mi:\"MI:0676\"(tandem affinity purification)',\n",
    "    'psi-mi:\"MI:0018\"(two hybrid)'\n",
    "]\n",
    "\n",
    "for l in L:\n",
    "    foo = dfIntAct1.loc[dfIntAct1['Interaction detection method(s)'] == l]\n",
    "    sns.distplot(foo['intact-miscore'], hist=False, label=l)\n",
    "plt.legend();"
   ]
  },
  {
   "cell_type": "code",
   "execution_count": null,
   "metadata": {
    "execution": {
     "iopub.status.busy": "2022-02-04T09:15:31.548944Z",
     "iopub.status.idle": "2022-02-04T09:15:31.549150Z"
    }
   },
   "outputs": [],
   "source": [
    "l1 = [\n",
    "    'psi-mi:\"MI:0007\"(anti tag coimmunoprecipitation)',\n",
    "    'psi-mi:\"MI:0006\"(anti bait coimmunoprecipitation)',\n",
    "]\n",
    "foo = dfIntAct1.loc[dfIntAct1['Interaction detection method(s)'].isin(l1)]\n",
    "\n",
    "l2 = [\n",
    "    'psi-mi:\"MI:0397\"(two hybrid array)', \n",
    "    'psi-mi:\"MI:1112\"(two hybrid prey pooling approach)',\n",
    "    'psi-mi:\"MI:1356\"(validated two hybrid)',\n",
    "    'psi-mi:\"MI:0018\"(two hybrid)'\n",
    "]\n",
    "bar = dfIntAct1.loc[dfIntAct1['Interaction detection method(s)'].isin(l2)]\n",
    "\n",
    "l3 = ['psi-mi:\"MI:0096\"(pull down)',]\n",
    "baar = dfIntAct1.loc[dfIntAct1['Interaction detection method(s)'].isin(l3)]\n",
    "\n",
    "l4 = ['psi-mi:\"MI:0676\"(tandem affinity purification)',]\n",
    "fool = dfIntAct1.loc[dfIntAct1['Interaction detection method(s)'].isin(l4)]\n",
    "\n",
    "sns.distplot(foo['intact-miscore'], hist=False, label='coimmunoprecipitation')\n",
    "sns.distplot(bar['intact-miscore'], hist=False, label='two hybrid')\n",
    "sns.distplot(baar['intact-miscore'], hist=False, label='pull down')\n",
    "sns.distplot(fool['intact-miscore'], hist=False, label='TAP')\n",
    "plt.legend();"
   ]
  },
  {
   "cell_type": "markdown",
   "metadata": {
    "hidden": true
   },
   "source": [
    "---\n",
    "**Host organisms**"
   ]
  },
  {
   "cell_type": "code",
   "execution_count": null,
   "metadata": {
    "ExecuteTime": {
     "end_time": "2019-10-30T13:15:04.607394Z",
     "start_time": "2019-10-30T13:15:04.201567Z"
    },
    "execution": {
     "iopub.status.busy": "2022-02-04T09:15:31.549530Z",
     "iopub.status.idle": "2022-02-04T09:15:31.549725Z"
    },
    "hidden": true,
    "scrolled": true
   },
   "outputs": [],
   "source": [
    "dfIntAct1.groupby(by=\"Host organism(s)\").size().sort_values(ascending=False)"
   ]
  },
  {
   "cell_type": "code",
   "execution_count": null,
   "metadata": {
    "execution": {
     "iopub.status.busy": "2022-02-04T09:15:31.550079Z",
     "iopub.status.idle": "2022-02-04T09:15:31.550276Z"
    }
   },
   "outputs": [],
   "source": [
    "l1 = [\n",
    "    'taxid:4932(yeasx)|taxid:4932(\"Saccharomyces cerevisiae (Baker\\'s yeast)\") ',\n",
    "    'taxid:559292(yeast)|taxid:559292(Saccharomyces cerevisiae)'\n",
    "]\n",
    "foo = dfIntAct1.loc[dfIntAct1['Host organism(s)'].isin(l1)]\n",
    "\n",
    "l2 = [\n",
    "    'taxid:9606(human-293t)|taxid:9606(Homo sapiens 293 cells transformed with SV40 large T antigen)',\n",
    "    'taxid:9606(human-293)|taxid:9606(Homo sapiens transformed primary embryonal kidney cells)',\n",
    "    'taxid:9606(human-hela)|taxid:9606(Homo sapiens epitheloid cervix carcinoma cells)',\n",
    "    'taxid:9606(human-293 flp-in)|taxid:9606(Homo sapiens)',\n",
    "    'taxid:9606(human-u2-os)|taxid:9606(Human U2-OS osteosarcoma cell line)',\n",
    "    'taxid:9606(human)|taxid:9606(Homo sapiens)'\n",
    "]\n",
    "bar = dfIntAct1.loc[dfIntAct1['Host organism(s)'].isin(l2)]\n",
    "\n",
    "l3 = ['taxid:-1(in vitro)|taxid:-1(In vitro)']\n",
    "baar = dfIntAct1.loc[dfIntAct1['Host organism(s)'].isin(l3)]\n",
    "\n",
    "sns.distplot(foo['intact-miscore'], hist=False, label='yeast')\n",
    "sns.distplot(bar['intact-miscore'], hist=False, label='homo sapiens')\n",
    "sns.distplot(baar['intact-miscore'], hist=False, label='in vitro')\n",
    "plt.legend();"
   ]
  },
  {
   "cell_type": "markdown",
   "metadata": {},
   "source": [
    "**Mapping to UniProt** \n",
    "\n",
    "(copied from the \"mapping to uniprot\" section below, check it out for details)"
   ]
  },
  {
   "cell_type": "code",
   "execution_count": null,
   "metadata": {
    "execution": {
     "iopub.status.busy": "2022-02-04T09:15:31.550740Z",
     "iopub.status.idle": "2022-02-04T09:15:31.550939Z"
    }
   },
   "outputs": [],
   "source": [
    "intactFinal = dfIntAct1[['first_uniprotkb_IDs_A','first_uniprotkb_IDs_B']]\n",
    "\n",
    "uniprotkbIdsList = list(set(list(intactFinal.first_uniprotkb_IDs_A)+list(intactFinal.first_uniprotkb_IDs_B)))\n",
    "assert ~('' in uniprotkbIdsList)\n",
    "\n",
    "uniprotMapping = mappingUniprotIDs(fromID = 'ACC', listIDs = uniprotkbIdsList)\n",
    "\n",
    "uniprotMapping_2 = uniprotMapping.drop_duplicates(subset='From',keep=False).reset_index(drop=True)\n",
    "\n",
    "uniprotIDs = pd.read_csv(\n",
    "    os.path.join(cfg['rawDataUniProt'], \n",
    "                 \"uniprot_allProteins_Human_v{}.pkl\".format(logVersions['UniProt']['rawData'])),\n",
    "    header=None,\n",
    "    names=['To']\n",
    ")\n",
    "\n",
    "uniprotMapping_3 = uniprotMapping_2.merge(\n",
    "    uniprotIDs,\n",
    "    how='inner',\n",
    "    on='To'\n",
    ")\n",
    "\n",
    "print(\"{:,}/{:,} couldn't be matched\".format(len(uniprotkbIdsList)-len(set(uniprotMapping.From)), len(uniprotkbIdsList)))\n",
    "print('Droped duplicates: {:,}'.format(len(uniprotMapping) - len(uniprotMapping_2)))\n",
    "print('Droped \"unofficials\": {:,}'.format(len(uniprotMapping_2) - len(uniprotMapping_3)))\n",
    "\n",
    "assert len(uniprotMapping_2.loc[uniprotMapping_2.duplicated(keep=False)]) == 0\n",
    "assert len(uniprotMapping_2.From) == len(set(uniprotMapping_2.From))\n",
    "\n",
    "uniprotMapping_A = uniprotMapping_3.copy()\n",
    "uniprotMapping_A = uniprotMapping_A.rename(columns={\n",
    "    'From': 'first_uniprotkb_IDs_A', \n",
    "    'To': 'uniprotID_A'\n",
    "})\n",
    "uniprotMapping_B = uniprotMapping_3.copy()\n",
    "uniprotMapping_B = uniprotMapping_B.rename(columns={\n",
    "    'From': 'first_uniprotkb_IDs_B', \n",
    "    'To': 'uniprotID_B'\n",
    "})\n",
    "\n",
    "intactFinal_2 = intactFinal.merge(\n",
    "    uniprotMapping_A,\n",
    "    how=\"inner\", \n",
    "    on=\"first_uniprotkb_IDs_A\"\n",
    ").merge(\n",
    "    uniprotMapping_B,\n",
    "    how=\"inner\", \n",
    "    on=\"first_uniprotkb_IDs_B\"\n",
    ")\n",
    "\n",
    "print('In total, {:,} interactions removed'.format(len(intactFinal) - len(intactFinal_2)))\n",
    "\n",
    "assert len(intactFinal_2) < len(intactFinal)\n",
    "assert intactFinal_2.uniprotID_A.isna().sum() == 0\n",
    "assert intactFinal_2.uniprotID_B.isna().sum() == 0"
   ]
  },
  {
   "cell_type": "code",
   "execution_count": null,
   "metadata": {
    "execution": {
     "iopub.status.busy": "2022-02-04T09:15:31.551311Z",
     "iopub.status.idle": "2022-02-04T09:15:31.551520Z"
    }
   },
   "outputs": [],
   "source": [
    "glance(intactFinal_2)"
   ]
  },
  {
   "cell_type": "code",
   "execution_count": null,
   "metadata": {
    "execution": {
     "iopub.status.busy": "2022-02-04T09:15:31.551968Z",
     "iopub.status.idle": "2022-02-04T09:15:31.552168Z"
    }
   },
   "outputs": [],
   "source": [
    "allIDs = pd.concat([intactFinal_2.uniprotID_A,intactFinal_2.uniprotID_B])\n",
    "\n",
    "Ninter_perProtein = allIDs.value_counts()\n",
    "\n",
    "Ninter_perProtein"
   ]
  },
  {
   "cell_type": "markdown",
   "metadata": {},
   "source": [
    "## Filter 2: no complexes and no colocalisation"
   ]
  },
  {
   "cell_type": "markdown",
   "metadata": {},
   "source": [
    "**Keep only direct interactions (no complexe expensions)**"
   ]
  },
  {
   "cell_type": "code",
   "execution_count": null,
   "metadata": {
    "execution": {
     "iopub.status.busy": "2022-02-04T09:15:31.552705Z",
     "iopub.status.idle": "2022-02-04T09:15:31.552910Z"
    }
   },
   "outputs": [],
   "source": [
    "dfIntAct1.shape"
   ]
  },
  {
   "cell_type": "code",
   "execution_count": null,
   "metadata": {
    "execution": {
     "iopub.status.busy": "2022-02-04T09:15:31.553380Z",
     "iopub.status.idle": "2022-02-04T09:15:31.553584Z"
    }
   },
   "outputs": [],
   "source": [
    "dfIntAct1_2 = dfIntAct1.loc[dfIntAct1['Expansion method(s)'] == '-']\n",
    "dfIntAct1_2.shape"
   ]
  },
  {
   "cell_type": "markdown",
   "metadata": {},
   "source": [
    "---\n",
    "**EDA part 2**"
   ]
  },
  {
   "cell_type": "code",
   "execution_count": null,
   "metadata": {
    "ExecuteTime": {
     "end_time": "2019-10-30T13:15:04.607394Z",
     "start_time": "2019-10-30T13:15:04.201567Z"
    },
    "execution": {
     "iopub.status.busy": "2022-02-04T09:15:31.554043Z",
     "iopub.status.idle": "2022-02-04T09:15:31.554240Z"
    },
    "hidden": true,
    "scrolled": true
   },
   "outputs": [],
   "source": [
    "dfIntAct1_2.groupby(by=\"Interaction type(s)\").size().sort_values(ascending=False)"
   ]
  },
  {
   "cell_type": "code",
   "execution_count": null,
   "metadata": {
    "execution": {
     "iopub.status.busy": "2022-02-04T09:15:31.554697Z",
     "iopub.status.idle": "2022-02-04T09:15:31.554894Z"
    }
   },
   "outputs": [],
   "source": [
    "l1 = ['psi-mi:\"MI:0915\"(physical association)', 'psi-mi:\"MI:0914\"(association)', 'psi-mi:\"MI:0407\"(direct interaction)']\n",
    "foo = dfIntAct1_2.loc[dfIntAct1_2['Interaction type(s)'].isin(l1)]\n",
    "\n",
    "l2 = ['psi-mi:\"MI:0403\"(colocalization)']\n",
    "bar = dfIntAct1_2.loc[dfIntAct1_2['Interaction type(s)'].isin(l2)]\n",
    "\n",
    "sns.distplot(foo['intact-miscore'], hist=False, rug=True, norm_hist=True, label='association')\n",
    "sns.distplot(bar['intact-miscore'], hist=False, rug=True, norm_hist=True, label='colocalisation')\n",
    "plt.legend();"
   ]
  },
  {
   "cell_type": "code",
   "execution_count": null,
   "metadata": {
    "execution": {
     "iopub.status.busy": "2022-02-04T09:15:31.555263Z",
     "iopub.status.idle": "2022-02-04T09:15:31.555460Z"
    }
   },
   "outputs": [],
   "source": [
    "L = ['psi-mi:\"MI:0915\"(physical association)', 'psi-mi:\"MI:0914\"(association)', 'psi-mi:\"MI:0407\"(direct interaction)']\n",
    "\n",
    "for l in L:\n",
    "    foo = dfIntAct1_2.loc[dfIntAct1_2['Interaction type(s)'] == l]\n",
    "    sns.distplot(foo['intact-miscore'], hist=False, label=l)\n",
    "plt.legend();"
   ]
  },
  {
   "cell_type": "markdown",
   "metadata": {},
   "source": [
    "---\n",
    "**keep only associations, no colocalisations or other weird things**\n",
    "\n",
    "(Although we already removed most of them by removing complexes, and histograms show no real low quality peak anymore)"
   ]
  },
  {
   "cell_type": "code",
   "execution_count": null,
   "metadata": {
    "execution": {
     "iopub.status.busy": "2022-02-04T09:15:31.555827Z",
     "iopub.status.idle": "2022-02-04T09:15:31.556021Z"
    }
   },
   "outputs": [],
   "source": [
    "foo = [\n",
    "    'psi-mi:\"MI:0915\"(physical association)', \n",
    "    'psi-mi:\"MI:0914\"(association)', \n",
    "    'psi-mi:\"MI:0407\"(direct interaction)'\n",
    "]\n",
    "\n",
    "dfIntAct1_3 = dfIntAct1_2.loc[dfIntAct1_2['Interaction type(s)'].isin(foo)]\n",
    "dfIntAct1_3.shape"
   ]
  },
  {
   "cell_type": "code",
   "execution_count": null,
   "metadata": {
    "execution": {
     "iopub.status.busy": "2022-02-04T09:15:31.556387Z",
     "iopub.status.idle": "2022-02-04T09:15:31.556586Z"
    }
   },
   "outputs": [],
   "source": [
    "sns.distplot(dfIntAct1_3['intact-miscore'], kde=True,hist=False);"
   ]
  },
  {
   "cell_type": "markdown",
   "metadata": {},
   "source": [
    "---\n",
    "**Reinitialise index**"
   ]
  },
  {
   "cell_type": "code",
   "execution_count": null,
   "metadata": {
    "execution": {
     "iopub.status.busy": "2022-02-04T09:15:31.556949Z",
     "iopub.status.idle": "2022-02-04T09:15:31.557142Z"
    }
   },
   "outputs": [],
   "source": [
    "dfIntAct2 = dfIntAct1_3.reset_index(drop=True)\n",
    "glance(dfIntAct2)"
   ]
  },
  {
   "cell_type": "markdown",
   "metadata": {},
   "source": [
    "# UniProt mapping"
   ]
  },
  {
   "cell_type": "code",
   "execution_count": null,
   "metadata": {
    "ExecuteTime": {
     "end_time": "2019-10-30T16:06:13.381615Z",
     "start_time": "2019-10-30T16:06:13.379800Z"
    },
    "execution": {
     "iopub.status.busy": "2022-02-04T09:15:31.557560Z",
     "iopub.status.idle": "2022-02-04T09:15:31.557758Z"
    }
   },
   "outputs": [],
   "source": [
    "intactFinal = dfIntAct2"
   ]
  },
  {
   "cell_type": "markdown",
   "metadata": {},
   "source": [
    "---\n",
    "**Download matching from UniProt**"
   ]
  },
  {
   "cell_type": "code",
   "execution_count": null,
   "metadata": {
    "ExecuteTime": {
     "end_time": "2019-10-30T16:06:39.759205Z",
     "start_time": "2019-10-30T16:06:39.666896Z"
    },
    "execution": {
     "iopub.status.busy": "2022-02-04T09:15:31.558167Z",
     "iopub.status.idle": "2022-02-04T09:15:31.558378Z"
    }
   },
   "outputs": [],
   "source": [
    "uniprotkbIdsList = list(set(list(intactFinal.first_uniprotkb_IDs_A)+list(intactFinal.first_uniprotkb_IDs_B)))\n",
    "print(len(uniprotkbIdsList))"
   ]
  },
  {
   "cell_type": "code",
   "execution_count": null,
   "metadata": {
    "execution": {
     "iopub.status.busy": "2022-02-04T09:15:31.559286Z",
     "iopub.status.idle": "2022-02-04T09:15:31.559519Z"
    }
   },
   "outputs": [],
   "source": [
    "# Sanity checks\n",
    "assert ~('' in uniprotkbIdsList)"
   ]
  },
  {
   "cell_type": "code",
   "execution_count": null,
   "metadata": {
    "execution": {
     "iopub.status.busy": "2022-02-04T09:15:31.559938Z",
     "iopub.status.idle": "2022-02-04T09:15:31.560149Z"
    },
    "scrolled": true
   },
   "outputs": [],
   "source": [
    "uniprotMapping = mappingUniprotIDs(fromID = 'ACC', listIDs = uniprotkbIdsList)\n",
    "uniprotMapping"
   ]
  },
  {
   "cell_type": "markdown",
   "metadata": {},
   "source": [
    "---\n",
    "**Drop proteins matching several uniprot ids**"
   ]
  },
  {
   "cell_type": "code",
   "execution_count": null,
   "metadata": {
    "execution": {
     "iopub.status.busy": "2022-02-04T09:15:31.560560Z",
     "iopub.status.idle": "2022-02-04T09:15:31.560758Z"
    }
   },
   "outputs": [],
   "source": [
    "uniprotMapping_2 = uniprotMapping.drop_duplicates(subset='From',keep=False).reset_index(drop=True)\n",
    "glance(uniprotMapping_2)"
   ]
  },
  {
   "cell_type": "markdown",
   "metadata": {},
   "source": [
    "---\n",
    "**Compare to UniProt reference list**\n",
    "\n",
    "To eliminate unreviewed proteins for example"
   ]
  },
  {
   "cell_type": "code",
   "execution_count": null,
   "metadata": {
    "execution": {
     "iopub.status.busy": "2022-02-04T09:15:31.561219Z",
     "iopub.status.idle": "2022-02-04T09:15:31.561435Z"
    }
   },
   "outputs": [],
   "source": [
    "uniprotIDs = pd.read_csv(\n",
    "    os.path.join(cfg['rawDataUniProt'], \n",
    "                 \"uniprot_allProteins_yeast_v{}.pkl\".format(logVersions['UniProt']['yeast']['rawData'])),\n",
    "    header=None,\n",
    "    names=['To']\n",
    ")\n",
    "glance(uniprotIDs)"
   ]
  },
  {
   "cell_type": "code",
   "execution_count": null,
   "metadata": {
    "execution": {
     "iopub.status.busy": "2022-02-04T09:15:31.561859Z",
     "iopub.status.idle": "2022-02-04T09:15:31.562055Z"
    }
   },
   "outputs": [],
   "source": [
    "uniprotMapping_3 = uniprotMapping_2.merge(\n",
    "    uniprotIDs,\n",
    "    how='inner',\n",
    "    on='To'\n",
    ")\n",
    "glance(uniprotMapping_3)"
   ]
  },
  {
   "cell_type": "code",
   "execution_count": null,
   "metadata": {
    "execution": {
     "iopub.status.busy": "2022-02-04T09:15:31.562454Z",
     "iopub.status.idle": "2022-02-04T09:15:31.562652Z"
    }
   },
   "outputs": [],
   "source": [
    "print(\"{:,}/{:,} couldn't be matched\".format(len(uniprotkbIdsList)-len(set(uniprotMapping.From)), len(uniprotkbIdsList)))\n",
    "print('Droped duplicates: {:,}'.format(len(uniprotMapping) - len(uniprotMapping_2)))\n",
    "print('Droped \"unofficials\": {:,}'.format(len(uniprotMapping_2) - len(uniprotMapping_3)))"
   ]
  },
  {
   "cell_type": "code",
   "execution_count": null,
   "metadata": {
    "execution": {
     "iopub.status.busy": "2022-02-04T09:15:31.563109Z",
     "iopub.status.idle": "2022-02-04T09:15:31.563317Z"
    }
   },
   "outputs": [],
   "source": [
    "# Sanity checks\n",
    "assert len(uniprotMapping_2.loc[uniprotMapping_2.duplicated(keep=False)]) == 0\n",
    "assert len(uniprotMapping_2.From) == len(set(uniprotMapping_2.From))"
   ]
  },
  {
   "cell_type": "markdown",
   "metadata": {},
   "source": [
    "---\n",
    "**Match to primary identifiers**"
   ]
  },
  {
   "cell_type": "code",
   "execution_count": null,
   "metadata": {
    "execution": {
     "iopub.status.busy": "2022-02-04T09:15:31.563725Z",
     "iopub.status.idle": "2022-02-04T09:15:31.563920Z"
    }
   },
   "outputs": [],
   "source": [
    "uniprotMapping_A = uniprotMapping_3.copy()\n",
    "uniprotMapping_A = uniprotMapping_A.rename(columns={\n",
    "    'From': 'first_uniprotkb_IDs_A', \n",
    "    'To': 'uniprotID_A'\n",
    "})\n",
    "glance(uniprotMapping_A)\n",
    "\n",
    "uniprotMapping_B = uniprotMapping_3.copy()\n",
    "uniprotMapping_B = uniprotMapping_B.rename(columns={\n",
    "    'From': 'first_uniprotkb_IDs_B', \n",
    "    'To': 'uniprotID_B'\n",
    "})\n",
    "glance(uniprotMapping_B)"
   ]
  },
  {
   "cell_type": "code",
   "execution_count": null,
   "metadata": {
    "ExecuteTime": {
     "end_time": "2019-10-30T16:13:07.655365Z",
     "start_time": "2019-10-30T16:13:06.903168Z"
    },
    "execution": {
     "iopub.status.busy": "2022-02-04T09:15:31.564331Z",
     "iopub.status.idle": "2022-02-04T09:15:31.564528Z"
    }
   },
   "outputs": [],
   "source": [
    "intactFinal_2 = intactFinal.merge(\n",
    "    uniprotMapping_A,\n",
    "    how=\"inner\", \n",
    "    on=\"first_uniprotkb_IDs_A\"\n",
    ").merge(\n",
    "    uniprotMapping_B,\n",
    "    how=\"inner\", \n",
    "    on=\"first_uniprotkb_IDs_B\"\n",
    ")\n",
    "\n",
    "glance(intactFinal_2)"
   ]
  },
  {
   "cell_type": "code",
   "execution_count": null,
   "metadata": {
    "execution": {
     "iopub.status.busy": "2022-02-04T09:15:31.565003Z",
     "iopub.status.idle": "2022-02-04T09:15:31.565203Z"
    }
   },
   "outputs": [],
   "source": [
    "print('{:,} interactions removed'.format(len(intactFinal) - len(intactFinal_2)))"
   ]
  },
  {
   "cell_type": "code",
   "execution_count": null,
   "metadata": {
    "execution": {
     "iopub.status.busy": "2022-02-04T09:15:31.565637Z",
     "iopub.status.idle": "2022-02-04T09:15:31.565909Z"
    }
   },
   "outputs": [],
   "source": [
    "# Sanity check\n",
    "assert len(intactFinal_2) < len(intactFinal)\n",
    "assert intactFinal_2.uniprotID_A.isna().sum() == 0\n",
    "assert intactFinal_2.uniprotID_B.isna().sum() == 0"
   ]
  },
  {
   "cell_type": "markdown",
   "metadata": {},
   "source": [
    "---\n",
    "**Some sanity checks before removing some columns**"
   ]
  },
  {
   "cell_type": "code",
   "execution_count": null,
   "metadata": {
    "execution": {
     "iopub.status.busy": "2022-02-04T09:15:31.566426Z",
     "iopub.status.idle": "2022-02-04T09:15:31.566642Z"
    }
   },
   "outputs": [],
   "source": [
    "# human-human only\n",
    "assert set(list(intactFinal_2['Taxid interactor A'].unique())+list(intactFinal_2['Taxid interactor B'].unique())) == set(['taxid:559292(yeast)|taxid:559292(Saccharomyces cerevisiae)'])\n",
    "\n",
    "# PPIs only\n",
    "assert set(list(intactFinal_2['Type(s) interactor A'].unique())+list(intactFinal_2['Type(s) interactor B'].unique())) == set(['psi-mi:\"MI:0326\"(protein)'])\n",
    "\n",
    "# no spoke expansions\n",
    "assert list(intactFinal_2['Expansion method(s)'].unique()) == ['-']"
   ]
  },
  {
   "cell_type": "markdown",
   "metadata": {},
   "source": [
    "---\n",
    "**Filter columns and order uniprotIDs alphabetically**\n",
    "\n"
   ]
  },
  {
   "cell_type": "code",
   "execution_count": null,
   "metadata": {
    "execution": {
     "iopub.status.busy": "2022-02-04T09:15:31.567108Z",
     "iopub.status.idle": "2022-02-04T09:15:31.567742Z"
    }
   },
   "outputs": [],
   "source": [
    "intactFinal_3 = intactFinal_2[[\n",
    "    'uniprotID_A', \n",
    "    'uniprotID_B',\n",
    "    'intact-miscore',\n",
    "    'Interaction detection method(s)',\n",
    "    'Publication Identifier(s)',\n",
    "    'Interaction type(s)',\n",
    "    'Host organism(s)'\n",
    "]].copy()\n",
    "glance(intactFinal_3)"
   ]
  },
  {
   "cell_type": "code",
   "execution_count": null,
   "metadata": {
    "ExecuteTime": {
     "end_time": "2019-10-30T16:27:31.557692Z",
     "start_time": "2019-10-30T16:27:31.084899Z"
    },
    "execution": {
     "iopub.status.busy": "2022-02-04T09:15:31.568233Z",
     "iopub.status.idle": "2022-02-04T09:15:31.568546Z"
    }
   },
   "outputs": [],
   "source": [
    "uniprotABids = intactFinal_3.loc[:,[\"uniprotID_A\",\"uniprotID_B\"]].values.tolist()\n",
    "\n",
    "for i in range(len(uniprotABids)):\n",
    "    uniprotABids[i].sort()\n",
    "    \n",
    "uniprotA, uniprotB = map(list, zip(*uniprotABids))\n",
    "\n",
    "intactFinal_3.loc[:,'uniprotID_A'] = uniprotA\n",
    "intactFinal_3.loc[:,'uniprotID_B'] = uniprotB\n",
    "\n",
    "glance(intactFinal_3)"
   ]
  },
  {
   "cell_type": "code",
   "execution_count": null,
   "metadata": {
    "execution": {
     "iopub.status.busy": "2022-02-04T09:15:31.569041Z",
     "iopub.status.idle": "2022-02-04T09:15:31.569243Z"
    }
   },
   "outputs": [],
   "source": [
    "# Sanity check\n",
    "foo = intactFinal_3.uniprotID_A <= intactFinal_3.uniprotID_B\n",
    "assert len(foo.loc[~foo]) == 0"
   ]
  },
  {
   "cell_type": "markdown",
   "metadata": {},
   "source": [
    "# Group by PPI"
   ]
  },
  {
   "cell_type": "code",
   "execution_count": null,
   "metadata": {
    "execution": {
     "iopub.status.busy": "2022-02-04T09:15:31.569678Z",
     "iopub.status.idle": "2022-02-04T09:15:31.569876Z"
    }
   },
   "outputs": [],
   "source": [
    "dfIntActPreGr = intactFinal_3\n",
    "glance(dfIntActPreGr)"
   ]
  },
  {
   "cell_type": "markdown",
   "metadata": {},
   "source": [
    "---\n",
    "**Remove self interactions**"
   ]
  },
  {
   "cell_type": "code",
   "execution_count": null,
   "metadata": {
    "execution": {
     "iopub.status.busy": "2022-02-04T09:15:31.570251Z",
     "iopub.status.idle": "2022-02-04T09:15:31.570455Z"
    }
   },
   "outputs": [],
   "source": [
    "foo = dfIntActPreGr.loc[dfIntActPreGr.uniprotID_A == dfIntActPreGr.uniprotID_B]\n",
    "print(\"{:,} self interactions (/{:,})\".format(len(foo),len(dfIntActPreGr)))"
   ]
  },
  {
   "cell_type": "code",
   "execution_count": null,
   "metadata": {
    "execution": {
     "iopub.status.busy": "2022-02-04T09:15:31.570835Z",
     "iopub.status.idle": "2022-02-04T09:15:31.571028Z"
    }
   },
   "outputs": [],
   "source": [
    "dfIntActPreGr_2 = dfIntActPreGr.loc[dfIntActPreGr.uniprotID_A != dfIntActPreGr.uniprotID_B]\n",
    "dfIntActPreGr_2.shape"
   ]
  },
  {
   "cell_type": "markdown",
   "metadata": {},
   "source": [
    "---\n",
    "**EDA on duplicated interactions**"
   ]
  },
  {
   "cell_type": "code",
   "execution_count": null,
   "metadata": {
    "execution": {
     "iopub.status.busy": "2022-02-04T09:15:31.571388Z",
     "iopub.status.idle": "2022-02-04T09:15:31.571587Z"
    }
   },
   "outputs": [],
   "source": [
    "foo = dfIntActPreGr_2.groupby(by=['uniprotID_A', 'uniprotID_B']).size()\n",
    "\n",
    "print('Number of unique interactions: {:,}/{:,}'.format(len(foo), foo.sum()))"
   ]
  },
  {
   "cell_type": "markdown",
   "metadata": {},
   "source": [
    "*Number of duplicates*"
   ]
  },
  {
   "cell_type": "code",
   "execution_count": null,
   "metadata": {
    "execution": {
     "iopub.status.busy": "2022-02-04T09:15:31.571937Z",
     "iopub.status.idle": "2022-02-04T09:15:31.572127Z"
    }
   },
   "outputs": [],
   "source": [
    "ax = sns.distplot(foo, kde=False,hist=True, norm_hist=False)\n",
    "ax.set_yscale('log');"
   ]
  },
  {
   "cell_type": "markdown",
   "metadata": {},
   "source": [
    "*Differences amongst duplicates*"
   ]
  },
  {
   "cell_type": "code",
   "execution_count": null,
   "metadata": {
    "ExecuteTime": {
     "end_time": "2019-10-30T16:20:35.013358Z",
     "start_time": "2019-10-30T16:18:47.850512Z"
    },
    "execution": {
     "iopub.status.busy": "2022-02-04T09:15:31.572489Z",
     "iopub.status.idle": "2022-02-04T09:15:31.572684Z"
    }
   },
   "outputs": [],
   "source": [
    "foo = dfIntActPreGr_2.groupby(by=['uniprotID_A', 'uniprotID_B']).agg(lambda x: len(set(x)) == 1)"
   ]
  },
  {
   "cell_type": "code",
   "execution_count": null,
   "metadata": {
    "execution": {
     "iopub.status.busy": "2022-02-04T09:15:31.573103Z",
     "iopub.status.idle": "2022-02-04T09:15:31.573305Z"
    }
   },
   "outputs": [],
   "source": [
    "print(\"Number of interactions with discrepancies (/{:,})\".format(len(foo)))\n",
    "for col in foo.columns:\n",
    "    print(\"\\t{}: {:,}\".format(col,len(foo.loc[~foo[col]])))"
   ]
  },
  {
   "cell_type": "markdown",
   "metadata": {},
   "source": [
    "---\n",
    "**Only keep interactions with the highest MI-score**"
   ]
  },
  {
   "cell_type": "code",
   "execution_count": null,
   "metadata": {
    "execution": {
     "iopub.status.busy": "2022-02-04T09:15:31.573653Z",
     "iopub.status.idle": "2022-02-04T09:15:31.573848Z"
    }
   },
   "outputs": [],
   "source": [
    "dfIntActPreGr_3 = dfIntActPreGr_2.sort_values('intact-miscore').drop_duplicates(subset=['uniprotID_A', 'uniprotID_B'], keep='last')"
   ]
  },
  {
   "cell_type": "code",
   "execution_count": null,
   "metadata": {
    "execution": {
     "iopub.status.busy": "2022-02-04T09:15:31.574631Z",
     "iopub.status.idle": "2022-02-04T09:15:31.574857Z"
    }
   },
   "outputs": [],
   "source": [
    "# Sanity check\n",
    "foo = dfIntActPreGr_2.groupby(by=['uniprotID_A', 'uniprotID_B']).size()\n",
    "assert len(dfIntActPreGr_3) == len(foo)"
   ]
  },
  {
   "cell_type": "markdown",
   "metadata": {},
   "source": [
    "# Final sanity checks"
   ]
  },
  {
   "cell_type": "code",
   "execution_count": null,
   "metadata": {
    "execution": {
     "iopub.status.busy": "2022-02-04T09:15:31.575245Z",
     "iopub.status.idle": "2022-02-04T09:15:31.575454Z"
    }
   },
   "outputs": [],
   "source": [
    "THEintact = dfIntActPreGr_3"
   ]
  },
  {
   "cell_type": "code",
   "execution_count": null,
   "metadata": {
    "execution": {
     "iopub.status.busy": "2022-02-04T09:15:31.575827Z",
     "iopub.status.idle": "2022-02-04T09:15:31.576021Z"
    }
   },
   "outputs": [],
   "source": [
    "# no missing MI-score\n",
    "assert THEintact['intact-miscore'].isna().sum() == 0\n",
    "\n",
    "# only associations (no colocalisations)\n",
    "foo = [\n",
    "    'psi-mi:\"MI:0915\"(physical association)', \n",
    "    'psi-mi:\"MI:0914\"(association)', \n",
    "    'psi-mi:\"MI:0407\"(direct interaction)'\n",
    "]\n",
    "assert set(THEintact['Interaction type(s)']).issubset(foo)\n",
    "\n",
    "# No missing IDs\n",
    "for i in ['uniprotID_A','uniprotID_B']:\n",
    "    assert THEintact[i].isna().sum() == 0\n",
    "    assert len(THEintact.loc[THEintact[i] == '']) == 0\n",
    "    \n",
    "# No self interactions\n",
    "foo = THEintact.loc[THEintact.uniprotID_A == THEintact.uniprotID_B]\n",
    "assert len(foo) == 0\n",
    "\n",
    "# alphabetical order\n",
    "foo = THEintact.loc[THEintact.uniprotID_A > THEintact.uniprotID_B]\n",
    "assert len(foo) == 0"
   ]
  },
  {
   "cell_type": "markdown",
   "metadata": {},
   "source": [
    "# Final EDA"
   ]
  },
  {
   "cell_type": "code",
   "execution_count": 72,
   "metadata": {
    "execution": {
     "iopub.execute_input": "2022-01-10T16:43:14.731350Z",
     "iopub.status.busy": "2022-01-10T16:43:14.731212Z",
     "iopub.status.idle": "2022-01-10T16:43:14.754527Z",
     "shell.execute_reply": "2022-01-10T16:43:14.754055Z",
     "shell.execute_reply.started": "2022-01-10T16:43:14.731327Z"
    }
   },
   "outputs": [
    {
     "name": "stdout",
     "output_type": "stream",
     "text": [
      "Number of interactions: 43,068\n",
      "Covering 5,679 proteins\n"
     ]
    }
   ],
   "source": [
    "print(f\"Number of interactions: {THEintact.shape[0]:,}\")\n",
    "foo = set(pd.concat([THEintact.uniprotID_A,THEintact.uniprotID_B]))\n",
    "print(f\"Covering {len(foo):,} proteins\")"
   ]
  },
  {
   "cell_type": "markdown",
   "metadata": {},
   "source": [
    "*Confidence score*"
   ]
  },
  {
   "cell_type": "code",
   "execution_count": 68,
   "metadata": {
    "execution": {
     "iopub.execute_input": "2021-12-06T16:36:30.195434Z",
     "iopub.status.busy": "2021-12-06T16:36:30.194951Z",
     "iopub.status.idle": "2021-12-06T16:36:30.351182Z",
     "shell.execute_reply": "2021-12-06T16:36:30.350689Z",
     "shell.execute_reply.started": "2021-12-06T16:36:30.195363Z"
    }
   },
   "outputs": [
    {
     "data": {
      "image/png": "[encoded data removed]",
      "text/plain": [
       "<Figure size 1008x432 with 1 Axes>"
      ]
     },
     "metadata": {},
     "output_type": "display_data"
    }
   ],
   "source": [
    "sns.distplot(THEintact['intact-miscore'], hist=False);"
   ]
  },
  {
   "cell_type": "markdown",
   "metadata": {},
   "source": [
    "*Interaction types*"
   ]
  },
  {
   "cell_type": "code",
   "execution_count": 69,
   "metadata": {
    "ExecuteTime": {
     "end_time": "2019-10-30T13:15:04.607394Z",
     "start_time": "2019-10-30T13:15:04.201567Z"
    },
    "execution": {
     "iopub.execute_input": "2021-12-06T16:36:46.932848Z",
     "iopub.status.busy": "2021-12-06T16:36:46.932127Z",
     "iopub.status.idle": "2021-12-06T16:36:46.953845Z",
     "shell.execute_reply": "2021-12-06T16:36:46.952922Z",
     "shell.execute_reply.started": "2021-12-06T16:36:46.932567Z"
    },
    "hidden": true,
    "scrolled": true
   },
   "outputs": [
    {
     "data": {
      "text/plain": [
       "Interaction type(s)\n",
       "psi-mi:\"MI:0914\"(association)             21424\n",
       "psi-mi:\"MI:0915\"(physical association)    20113\n",
       "psi-mi:\"MI:0407\"(direct interaction)       1531\n",
       "dtype: int64"
      ]
     },
     "execution_count": 69,
     "metadata": {},
     "output_type": "execute_result"
    }
   ],
   "source": [
    "THEintact.groupby(by=\"Interaction type(s)\").size().sort_values(ascending=False)"
   ]
  },
  {
   "cell_type": "code",
   "execution_count": 70,
   "metadata": {
    "execution": {
     "iopub.execute_input": "2021-12-06T16:36:49.540660Z",
     "iopub.status.busy": "2021-12-06T16:36:49.540168Z",
     "iopub.status.idle": "2021-12-06T16:36:50.004422Z",
     "shell.execute_reply": "2021-12-06T16:36:50.003949Z",
     "shell.execute_reply.started": "2021-12-06T16:36:49.540576Z"
    }
   },
   "outputs": [
    {
     "data": {
      "image/png": "[encoded data removed]",
      "text/plain": [
       "<Figure size 1008x432 with 1 Axes>"
      ]
     },
     "metadata": {},
     "output_type": "display_data"
    }
   ],
   "source": [
    "for l in set(THEintact[\"Interaction type(s)\"]):\n",
    "    foo = dfIntAct1.loc[dfIntAct1['Interaction type(s)'] == l]\n",
    "    sns.distplot(foo['intact-miscore'], hist=False, label=l)\n",
    "plt.legend();"
   ]
  },
  {
   "cell_type": "markdown",
   "metadata": {},
   "source": [
    "*Detection methods*"
   ]
  },
  {
   "cell_type": "code",
   "execution_count": 71,
   "metadata": {
    "ExecuteTime": {
     "end_time": "2019-10-30T13:15:04.607394Z",
     "start_time": "2019-10-30T13:15:04.201567Z"
    },
    "execution": {
     "iopub.execute_input": "2021-12-06T16:36:51.127427Z",
     "iopub.status.busy": "2021-12-06T16:36:51.126936Z",
     "iopub.status.idle": "2021-12-06T16:36:51.150287Z",
     "shell.execute_reply": "2021-12-06T16:36:51.149362Z",
     "shell.execute_reply.started": "2021-12-06T16:36:51.127355Z"
    },
    "hidden": true,
    "scrolled": true
   },
   "outputs": [
    {
     "data": {
      "text/plain": [
       "Interaction detection method(s)\n",
       "psi-mi:\"MI:0676\"(tandem affinity purification)                         27980\n",
       "psi-mi:\"MI:0018\"(two hybrid)                                            3532\n",
       "psi-mi:\"MI:0397\"(two hybrid array)                                      3338\n",
       "psi-mi:\"MI:0111\"(dihydrofolate reductase reconstruction)                2625\n",
       "psi-mi:\"MI:0398\"(two hybrid pooling approach)                           1121\n",
       "psi-mi:\"MI:0112\"(ubiquitin reconstruction)                              1000\n",
       "psi-mi:\"MI:0007\"(anti tag coimmunoprecipitation)                         929\n",
       "psi-mi:\"MI:0096\"(pull down)                                              595\n",
       "psi-mi:\"MI:0089\"(protein array)                                          515\n",
       "psi-mi:\"MI:0363\"(inferred by author)                                     499\n",
       "psi-mi:\"MI:0081\"(peptide array)                                          284\n",
       "psi-mi:\"MI:0006\"(anti bait coimmunoprecipitation)                        122\n",
       "psi-mi:\"MI:0004\"(affinity chromatography technology)                     116\n",
       "psi-mi:\"MI:1356\"(validated two hybrid)                                    74\n",
       "psi-mi:\"MI:0809\"(bimolecular fluorescence complementation)                48\n",
       "psi-mi:\"MI:0030\"(cross-linking study)                                     38\n",
       "psi-mi:\"MI:0071\"(molecular sieving)                                       30\n",
       "psi-mi:\"MI:0946\"(miniaturized immunoprecipitation)                        26\n",
       "psi-mi:\"MI:0114\"(x-ray crystallography)                                   24\n",
       "psi-mi:\"MI:0107\"(surface plasmon resonance)                               17\n",
       "psi-mi:\"MI:0019\"(coimmunoprecipitation)                                   15\n",
       "psi-mi:\"MI:0031\"(protein cross-linking with a bifunctional reagent)       14\n",
       "psi-mi:\"MI:0077\"(nuclear magnetic resonance)                              13\n",
       "psi-mi:\"MI:0065\"(isothermal titration calorimetry)                        12\n",
       "psi-mi:\"MI:0047\"(far western blotting)                                     9\n",
       "psi-mi:\"MI:0069\"(mass spectrometry studies of complexes)                   9\n",
       "psi-mi:\"MI:0401\"(biochemical)                                              6\n",
       "psi-mi:\"MI:0027\"(cosedimentation)                                          5\n",
       "psi-mi:\"MI:0029\"(cosedimentation through density gradient)                 4\n",
       "psi-mi:\"MI:0090\"(protein complementation assay)                            4\n",
       "                                                                       ...  \n",
       "psi-mi:\"MI:0091\"(chromatography technology)                                4\n",
       "psi-mi:\"MI:0400\"(affinity technology)                                      4\n",
       "psi-mi:\"MI:0428\"(imaging technique)                                        4\n",
       "psi-mi:\"MI:0040\"(electron microscopy)                                      3\n",
       "psi-mi:\"MI:0419\"(gtpase assay)                                             3\n",
       "psi-mi:\"MI:0276\"(blue native page)                                         3\n",
       "psi-mi:\"MI:0084\"(phage display)                                            3\n",
       "psi-mi:\"MI:0226\"(ion exchange chromatography)                              2\n",
       "psi-mi:\"MI:0016\"(circular dichroism)                                       2\n",
       "psi-mi:\"MI:0017\"(classical fluorescence spectroscopy)                      2\n",
       "psi-mi:\"MI:0404\"(comigration in non denaturing gel electrophoresis)        2\n",
       "psi-mi:\"MI:0415\"(enzymatic study)                                          2\n",
       "psi-mi:\"MI:0045\"(experimental interaction detection)                       2\n",
       "psi-mi:\"MI:0411\"(enzyme linked immunosorbent assay)                        2\n",
       "psi-mi:\"MI:0053\"(fluorescence polarization spectroscopy)                   2\n",
       "psi-mi:\"MI:0410\"(3D electron microscopy)                                   2\n",
       "psi-mi:\"MI:0049\"(filter binding)                                           1\n",
       "psi-mi:\"MI:0051\"(fluorescence technology)                                  1\n",
       "psi-mi:\"MI:0424\"(protein kinase assay)                                     1\n",
       "psi-mi:\"MI:0416\"(fluorescence microscopy)                                  1\n",
       "psi-mi:\"MI:0067\"(light scattering)                                         1\n",
       "psi-mi:\"MI:0399\"(two hybrid fragment pooling approach)                     1\n",
       "psi-mi:\"MI:0020\"(transmission electron microscopy)                         1\n",
       "psi-mi:\"MI:0104\"(static light scattering)                                  1\n",
       "psi-mi:\"MI:0605\"(enzymatic footprinting)                                   1\n",
       "psi-mi:\"MI:0727\"(lexa b52 complementation)                                 1\n",
       "psi-mi:\"MI:0010\"(beta galactosidase complementation)                       1\n",
       "psi-mi:\"MI:0880\"(atpase assay)                                             1\n",
       "psi-mi:\"MI:0892\"(solid phase assay)                                        1\n",
       "psi-mi:\"MI:0726\"(reverse two hybrid)                                       1\n",
       "Length: 62, dtype: int64"
      ]
     },
     "execution_count": 71,
     "metadata": {},
     "output_type": "execute_result"
    }
   ],
   "source": [
    "THEintact.groupby(by=\"Interaction detection method(s)\").size().sort_values(ascending=False)"
   ]
  },
  {
   "cell_type": "code",
   "execution_count": 72,
   "metadata": {
    "execution": {
     "iopub.execute_input": "2021-12-06T16:36:51.892633Z",
     "iopub.status.busy": "2021-12-06T16:36:51.891889Z",
     "iopub.status.idle": "2021-12-06T16:36:52.207494Z",
     "shell.execute_reply": "2021-12-06T16:36:52.206922Z",
     "shell.execute_reply.started": "2021-12-06T16:36:51.892331Z"
    }
   },
   "outputs": [
    {
     "data": {
      "image/png": "[encoded data removed]",
      "text/plain": [
       "<Figure size 1008x432 with 1 Axes>"
      ]
     },
     "metadata": {},
     "output_type": "display_data"
    }
   ],
   "source": [
    "l1 = [\n",
    "    'psi-mi:\"MI:0007\"(anti tag coimmunoprecipitation)',\n",
    "    'psi-mi:\"MI:0006\"(anti bait coimmunoprecipitation)',\n",
    "]\n",
    "foo = THEintact.loc[THEintact['Interaction detection method(s)'].isin(l1)]\n",
    "\n",
    "l2 = [\n",
    "    'psi-mi:\"MI:0397\"(two hybrid array)', \n",
    "    'psi-mi:\"MI:1112\"(two hybrid prey pooling approach)',\n",
    "    'psi-mi:\"MI:1356\"(validated two hybrid)',\n",
    "    'psi-mi:\"MI:0018\"(two hybrid)'\n",
    "]\n",
    "bar = THEintact.loc[THEintact['Interaction detection method(s)'].isin(l2)]\n",
    "\n",
    "l3 = ['psi-mi:\"MI:0096\"(pull down)',]\n",
    "baar = THEintact.loc[THEintact['Interaction detection method(s)'].isin(l3)]\n",
    "\n",
    "l4 = ['psi-mi:\"MI:0676\"(tandem affinity purification)',]\n",
    "fool = THEintact.loc[THEintact['Interaction detection method(s)'].isin(l4)]\n",
    "\n",
    "sns.distplot(foo['intact-miscore'], hist=False, label='coimmunoprecipitation')\n",
    "sns.distplot(bar['intact-miscore'], hist=False, label='two hybrid')\n",
    "sns.distplot(baar['intact-miscore'], hist=False, label='pull down')\n",
    "sns.distplot(fool['intact-miscore'], hist=False, label='TAP')\n",
    "plt.legend();"
   ]
  },
  {
   "cell_type": "markdown",
   "metadata": {},
   "source": [
    "# Export tables\n"
   ]
  },
  {
   "cell_type": "markdown",
   "metadata": {},
   "source": [
    "- v1.0 used IntAct v20211015"
   ]
  },
  {
   "cell_type": "code",
   "execution_count": 76,
   "metadata": {
    "execution": {
     "iopub.execute_input": "2021-12-06T16:38:00.724256Z",
     "iopub.status.busy": "2021-12-06T16:38:00.723499Z",
     "iopub.status.idle": "2021-12-06T16:38:00.903203Z",
     "shell.execute_reply": "2021-12-06T16:38:00.902294Z",
     "shell.execute_reply.started": "2021-12-06T16:38:00.723959Z"
    }
   },
   "outputs": [
    {
     "name": "stdout",
     "output_type": "stream",
     "text": [
      "DataFrame: 43,068 rows \t 3 columns\n"
     ]
    },
    {
     "data": {
      "text/html": [
       "<div>\n",
       "<style scoped>\n",
       "    .dataframe tbody tr th:only-of-type {\n",
       "        vertical-align: middle;\n",
       "    }\n",
       "\n",
       "    .dataframe tbody tr th {\n",
       "        vertical-align: top;\n",
       "    }\n",
       "\n",
       "    .dataframe thead th {\n",
       "        text-align: right;\n",
       "    }\n",
       "</style>\n",
       "<table border=\"1\" class=\"dataframe\">\n",
       "  <thead>\n",
       "    <tr style=\"text-align: right;\">\n",
       "      <th></th>\n",
       "      <th>uniprotID_A</th>\n",
       "      <th>uniprotID_B</th>\n",
       "      <th>intact-miscore</th>\n",
       "    </tr>\n",
       "  </thead>\n",
       "  <tbody>\n",
       "    <tr>\n",
       "      <th>0</th>\n",
       "      <td>P04050</td>\n",
       "      <td>P38827</td>\n",
       "      <td>0.22</td>\n",
       "    </tr>\n",
       "    <tr>\n",
       "      <th>1</th>\n",
       "      <td>P15019</td>\n",
       "      <td>P53228</td>\n",
       "      <td>0.22</td>\n",
       "    </tr>\n",
       "    <tr>\n",
       "      <th>2</th>\n",
       "      <td>P46970</td>\n",
       "      <td>Q03214</td>\n",
       "      <td>0.27</td>\n",
       "    </tr>\n",
       "    <tr>\n",
       "      <th>3</th>\n",
       "      <td>P17558</td>\n",
       "      <td>P38972</td>\n",
       "      <td>0.27</td>\n",
       "    </tr>\n",
       "    <tr>\n",
       "      <th>4</th>\n",
       "      <td>P53173</td>\n",
       "      <td>Q12234</td>\n",
       "      <td>0.27</td>\n",
       "    </tr>\n",
       "  </tbody>\n",
       "</table>\n",
       "</div>"
      ],
      "text/plain": [
       "  uniprotID_A uniprotID_B  intact-miscore\n",
       "0      P04050      P38827            0.22\n",
       "1      P15019      P53228            0.22\n",
       "2      P46970      Q03214            0.27\n",
       "3      P17558      P38972            0.27\n",
       "4      P53173      Q12234            0.27"
      ]
     },
     "metadata": {},
     "output_type": "display_data"
    }
   ],
   "source": [
    "intact_export = THEintact.copy()\n",
    "\n",
    "intact_export = intact_export[[\n",
    "    'uniprotID_A',\n",
    "    'uniprotID_B',\n",
    "    'intact-miscore'\n",
    "]].reset_index(drop=True)\n",
    "\n",
    "glance(intact_export)"
   ]
  },
  {
   "cell_type": "code",
   "execution_count": 77,
   "metadata": {
    "execution": {
     "iopub.execute_input": "2021-12-06T16:38:05.842687Z",
     "iopub.status.busy": "2021-12-06T16:38:05.842153Z",
     "iopub.status.idle": "2021-12-06T16:38:05.847874Z",
     "shell.execute_reply": "2021-12-06T16:38:05.846741Z",
     "shell.execute_reply.started": "2021-12-06T16:38:05.842616Z"
    }
   },
   "outputs": [],
   "source": [
    "versionINTACTall = '1-0'"
   ]
  },
  {
   "cell_type": "code",
   "execution_count": 78,
   "metadata": {
    "execution": {
     "iopub.execute_input": "2021-12-06T16:38:41.624985Z",
     "iopub.status.busy": "2021-12-06T16:38:41.624533Z",
     "iopub.status.idle": "2021-12-06T16:38:41.743853Z",
     "shell.execute_reply": "2021-12-06T16:38:41.742522Z",
     "shell.execute_reply.started": "2021-12-06T16:38:41.624920Z"
    }
   },
   "outputs": [],
   "source": [
    "logVersions['IntAct']['preprocessed']['yeast'] = versionINTACTall\n",
    "\n",
    "dump_LogVersions(logVersions)"
   ]
  },
  {
   "cell_type": "code",
   "execution_count": 79,
   "metadata": {
    "ExecuteTime": {
     "end_time": "2019-10-28T15:09:15.279947Z",
     "start_time": "2019-10-28T15:09:15.257470Z"
    },
    "execution": {
     "iopub.execute_input": "2021-12-06T16:39:01.152779Z",
     "iopub.status.busy": "2021-12-06T16:39:01.152012Z",
     "iopub.status.idle": "2021-12-06T16:39:01.626477Z",
     "shell.execute_reply": "2021-12-06T16:39:01.625697Z",
     "shell.execute_reply.started": "2021-12-06T16:39:01.152459Z"
    }
   },
   "outputs": [],
   "source": [
    "intact_export.to_pickle(os.path.join(cfg['outputPreprocessingIntAct'], \n",
    "                                     \"intact_yeast_allScores_v{}.pkl\".format(versionINTACTall)))\n"
   ]
  },
  {
   "cell_type": "markdown",
   "metadata": {},
   "source": [
    "## Create an index of the number of interactions per protein\n",
    "\n",
    "Based on the unfiltered dataset"
   ]
  },
  {
   "cell_type": "code",
   "execution_count": 80,
   "metadata": {
    "execution": {
     "iopub.execute_input": "2021-12-06T16:39:16.622867Z",
     "iopub.status.busy": "2021-12-06T16:39:16.621954Z",
     "iopub.status.idle": "2021-12-06T16:39:16.680459Z",
     "shell.execute_reply": "2021-12-06T16:39:16.679620Z",
     "shell.execute_reply.started": "2021-12-06T16:39:16.622406Z"
    }
   },
   "outputs": [
    {
     "name": "stdout",
     "output_type": "stream",
     "text": [
      "DataFrame: 43,068 rows \t 3 columns\n"
     ]
    },
    {
     "data": {
      "text/html": [
       "<div>\n",
       "<style scoped>\n",
       "    .dataframe tbody tr th:only-of-type {\n",
       "        vertical-align: middle;\n",
       "    }\n",
       "\n",
       "    .dataframe tbody tr th {\n",
       "        vertical-align: top;\n",
       "    }\n",
       "\n",
       "    .dataframe thead th {\n",
       "        text-align: right;\n",
       "    }\n",
       "</style>\n",
       "<table border=\"1\" class=\"dataframe\">\n",
       "  <thead>\n",
       "    <tr style=\"text-align: right;\">\n",
       "      <th></th>\n",
       "      <th>uniprotID_A</th>\n",
       "      <th>uniprotID_B</th>\n",
       "      <th>intact-miscore</th>\n",
       "    </tr>\n",
       "  </thead>\n",
       "  <tbody>\n",
       "    <tr>\n",
       "      <th>0</th>\n",
       "      <td>P04050</td>\n",
       "      <td>P38827</td>\n",
       "      <td>0.22</td>\n",
       "    </tr>\n",
       "    <tr>\n",
       "      <th>1</th>\n",
       "      <td>P15019</td>\n",
       "      <td>P53228</td>\n",
       "      <td>0.22</td>\n",
       "    </tr>\n",
       "    <tr>\n",
       "      <th>2</th>\n",
       "      <td>P46970</td>\n",
       "      <td>Q03214</td>\n",
       "      <td>0.27</td>\n",
       "    </tr>\n",
       "    <tr>\n",
       "      <th>3</th>\n",
       "      <td>P17558</td>\n",
       "      <td>P38972</td>\n",
       "      <td>0.27</td>\n",
       "    </tr>\n",
       "    <tr>\n",
       "      <th>4</th>\n",
       "      <td>P53173</td>\n",
       "      <td>Q12234</td>\n",
       "      <td>0.27</td>\n",
       "    </tr>\n",
       "  </tbody>\n",
       "</table>\n",
       "</div>"
      ],
      "text/plain": [
       "  uniprotID_A uniprotID_B  intact-miscore\n",
       "0      P04050      P38827            0.22\n",
       "1      P15019      P53228            0.22\n",
       "2      P46970      Q03214            0.27\n",
       "3      P17558      P38972            0.27\n",
       "4      P53173      Q12234            0.27"
      ]
     },
     "metadata": {},
     "output_type": "display_data"
    }
   ],
   "source": [
    "intact_export = pd.read_pickle(\n",
    "    os.path.join(cfg['outputPreprocessingIntAct'], \n",
    "                 \"intact_yeast_allScores_v{}.pkl\".format(logVersions['IntAct']['preprocessed']['yeast']))\n",
    ")\n",
    "glance(intact_export)"
   ]
  },
  {
   "cell_type": "code",
   "execution_count": 81,
   "metadata": {
    "execution": {
     "iopub.execute_input": "2021-12-06T16:39:19.074086Z",
     "iopub.status.busy": "2021-12-06T16:39:19.073581Z",
     "iopub.status.idle": "2021-12-06T16:39:19.084573Z",
     "shell.execute_reply": "2021-12-06T16:39:19.083420Z",
     "shell.execute_reply.started": "2021-12-06T16:39:19.074009Z"
    }
   },
   "outputs": [],
   "source": [
    "allIDs_all = pd.concat([intact_export.uniprotID_A,intact_export.uniprotID_B])"
   ]
  },
  {
   "cell_type": "code",
   "execution_count": 82,
   "metadata": {
    "execution": {
     "iopub.execute_input": "2021-12-06T16:39:20.029625Z",
     "iopub.status.busy": "2021-12-06T16:39:20.028972Z",
     "iopub.status.idle": "2021-12-06T16:39:20.062560Z",
     "shell.execute_reply": "2021-12-06T16:39:20.061598Z",
     "shell.execute_reply.started": "2021-12-06T16:39:20.029360Z"
    }
   },
   "outputs": [
    {
     "name": "stdout",
     "output_type": "stream",
     "text": [
      "\n",
      "-- P11484: <class 'int'>\n",
      "3285\n",
      "\n",
      "-- P10591: <class 'int'>\n",
      "2524\n",
      "\n",
      "-- P32589: <class 'int'>\n",
      "1959\n",
      "\n",
      "-- P10592: <class 'int'>\n",
      "1957\n",
      "\n",
      "-- P40150: <class 'int'>\n",
      "1243\n"
     ]
    }
   ],
   "source": [
    "Ninter_perProtein = allIDs_all.value_counts().to_dict()\n",
    "glance(Ninter_perProtein)"
   ]
  },
  {
   "cell_type": "markdown",
   "metadata": {},
   "source": [
    "**Export**"
   ]
  },
  {
   "cell_type": "code",
   "execution_count": 83,
   "metadata": {
    "execution": {
     "iopub.execute_input": "2021-12-06T16:39:30.001257Z",
     "iopub.status.busy": "2021-12-06T16:39:30.000489Z",
     "iopub.status.idle": "2021-12-06T16:39:30.042160Z",
     "shell.execute_reply": "2021-12-06T16:39:30.041166Z",
     "shell.execute_reply.started": "2021-12-06T16:39:30.000958Z"
    }
   },
   "outputs": [],
   "source": [
    "path0 = os.path.join(\n",
    "    cfg['outputPreprocessingIntAct'], \n",
    "    \"Ninter_perProtein_intact_yeast_allScores_v{}.pkl\".format(logVersions['IntAct']['preprocessed']['yeast'])\n",
    ")\n",
    "\n",
    "with open(path0, 'wb') as f:\n",
    "    pkl.dump(Ninter_perProtein, f, protocol=pkl.HIGHEST_PROTOCOL)"
   ]
  },
  {
   "cell_type": "markdown",
   "metadata": {
    "execution": {
     "iopub.execute_input": "2021-08-18T12:06:11.803243Z",
     "iopub.status.busy": "2021-08-18T12:06:11.802491Z",
     "iopub.status.idle": "2021-08-18T12:06:11.808437Z",
     "shell.execute_reply": "2021-08-18T12:06:11.807238Z",
     "shell.execute_reply.started": "2021-08-18T12:06:11.802949Z"
    }
   },
   "source": [
    "## Create \"official\" list of hubs\n",
    "\n",
    "Based on the literature, definition of top 20% in the unfiltered (but cleaned) dataset"
   ]
  },
  {
   "cell_type": "code",
   "execution_count": 84,
   "metadata": {
    "execution": {
     "iopub.execute_input": "2021-12-06T16:39:55.349296Z",
     "iopub.status.busy": "2021-12-06T16:39:55.348566Z",
     "iopub.status.idle": "2021-12-06T16:39:55.476884Z",
     "shell.execute_reply": "2021-12-06T16:39:55.475603Z",
     "shell.execute_reply.started": "2021-12-06T16:39:55.349021Z"
    }
   },
   "outputs": [
    {
     "name": "stdout",
     "output_type": "stream",
     "text": [
      "count    5679.000000\n",
      "mean       15.167459\n",
      "std        75.410818\n",
      "min         1.000000\n",
      "50%         7.000000\n",
      "80%        17.000000\n",
      "max      3285.000000\n",
      "dtype: float64\n",
      "\n"
     ]
    }
   ],
   "source": [
    "foo = allIDs_all.value_counts()\n",
    "\n",
    "print(foo.describe(percentiles = [0.8]))\n",
    "\n",
    "print(f\"\")"
   ]
  },
  {
   "cell_type": "markdown",
   "metadata": {},
   "source": [
    "**Which happens to mean >= 17 interactions**"
   ]
  },
  {
   "cell_type": "code",
   "execution_count": 85,
   "metadata": {
    "execution": {
     "iopub.execute_input": "2021-12-06T16:40:20.674286Z",
     "iopub.status.busy": "2021-12-06T16:40:20.673506Z",
     "iopub.status.idle": "2021-12-06T16:40:20.683520Z",
     "shell.execute_reply": "2021-12-06T16:40:20.682477Z",
     "shell.execute_reply.started": "2021-12-06T16:40:20.673989Z"
    }
   },
   "outputs": [
    {
     "name": "stdout",
     "output_type": "stream",
     "text": [
      "len: 1195\n",
      "['P11484', 'P10591', 'P32589', 'P10592', 'P40150']\n"
     ]
    }
   ],
   "source": [
    "top20p = list(foo.loc[foo >= 17].index)\n",
    "glance(top20p)"
   ]
  },
  {
   "cell_type": "markdown",
   "metadata": {
    "execution": {
     "iopub.execute_input": "2021-08-23T10:16:13.599807Z",
     "iopub.status.busy": "2021-08-23T10:16:13.599067Z",
     "iopub.status.idle": "2021-08-23T10:16:13.604800Z",
     "shell.execute_reply": "2021-08-23T10:16:13.603540Z",
     "shell.execute_reply.started": "2021-08-23T10:16:13.599487Z"
    }
   },
   "source": [
    "**Export**"
   ]
  },
  {
   "cell_type": "code",
   "execution_count": 86,
   "metadata": {
    "execution": {
     "iopub.execute_input": "2021-12-06T16:40:55.449344Z",
     "iopub.status.busy": "2021-12-06T16:40:55.448599Z",
     "iopub.status.idle": "2021-12-06T16:40:55.460377Z",
     "shell.execute_reply": "2021-12-06T16:40:55.459372Z",
     "shell.execute_reply.started": "2021-12-06T16:40:55.449053Z"
    }
   },
   "outputs": [],
   "source": [
    "path0 = os.path.join(\n",
    "    cfg['outputPreprocessingIntAct'], \n",
    "    \"listHubs_yeast_20p_v{}.pkl\".format(logVersions['IntAct']['preprocessed']['yeast'])\n",
    ")\n",
    "\n",
    "with open(path0, 'wb') as f:\n",
    "    pkl.dump(top20p, f, protocol=pkl.HIGHEST_PROTOCOL)"
   ]
  },
  {
   "cell_type": "code",
   "execution_count": 87,
   "metadata": {
    "execution": {
     "iopub.execute_input": "2021-12-06T16:40:56.500365Z",
     "iopub.status.busy": "2021-12-06T16:40:56.499725Z",
     "iopub.status.idle": "2021-12-06T16:40:56.509183Z",
     "shell.execute_reply": "2021-12-06T16:40:56.508146Z",
     "shell.execute_reply.started": "2021-12-06T16:40:56.500111Z"
    }
   },
   "outputs": [
    {
     "data": {
      "text/plain": [
       "'/rds/user/ll582/hpc-work/PPIdata/output/1_preprocessing/IntAct/listHubs_yeast_20p_v1-0.pkl'"
      ]
     },
     "execution_count": 87,
     "metadata": {},
     "output_type": "execute_result"
    }
   ],
   "source": [
    "path0"
   ]
  },
  {
   "cell_type": "code",
   "execution_count": null,
   "metadata": {},
   "outputs": [],
   "source": []
  }
 ],
 "metadata": {
  "kernelspec": {
   "display_name": "Python3 (PPI)",
   "language": "python",
   "name": "ppi"
  },
  "language_info": {
   "codemirror_mode": {
    "name": "ipython",
    "version": 3
   },
   "file_extension": ".py",
   "mimetype": "text/x-python",
   "name": "python",
   "nbconvert_exporter": "python",
   "pygments_lexer": "ipython3",
   "version": "3.7.3"
  },
  "toc": {
   "base_numbering": 1,
   "nav_menu": {},
   "number_sections": true,
   "sideBar": true,
   "skip_h1_title": true,
   "title_cell": "Table of Contents",
   "title_sidebar": "Contents",
   "toc_cell": false,
   "toc_position": {
    "height": "calc(100% - 180px)",
    "left": "10px",
    "top": "150px",
    "width": "342px"
   },
   "toc_section_display": true,
   "toc_window_display": true
  },
  "toc-autonumbering": true,
  "varInspector": {
   "cols": {
    "lenName": 16,
    "lenType": 16,
    "lenVar": 40
   },
   "kernels_config": {
    "python": {
     "delete_cmd_postfix": "",
     "delete_cmd_prefix": "del ",
     "library": "var_list.py",
     "varRefreshCmd": "print(var_dic_list())"
    },
    "r": {
     "delete_cmd_postfix": ") ",
     "delete_cmd_prefix": "rm(",
     "library": "var_list.r",
     "varRefreshCmd": "cat(var_dic_list()) "
    }
   },
   "types_to_exclude": [
    "module",
    "function",
    "builtin_function_or_method",
    "instance",
    "_Feature"
   ],
   "window_display": false
  }
 },
 "nbformat": 4,
 "nbformat_minor": 4
}
